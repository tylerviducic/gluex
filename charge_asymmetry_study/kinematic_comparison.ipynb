{
 "cells": [
  {
   "cell_type": "code",
   "execution_count": null,
   "metadata": {},
   "outputs": [],
   "source": [
    "import my_library.common_analysis_tools as tools\n",
    "import my_library.kinematic_cuts as kcuts\n",
    "import my_library.constants as constants\n",
    "import ROOT\n",
    "import numpy as np"
   ]
  },
  {
   "cell_type": "code",
   "execution_count": null,
   "metadata": {},
   "outputs": [],
   "source": [
    "ROOT.gStyle.SetOptStat(0)"
   ]
  },
  {
   "cell_type": "code",
   "execution_count": null,
   "metadata": {},
   "outputs": [],
   "source": [
    "# TODO: move to common analysis toolS\n",
    "@ROOT.Numba.Declare(['float', 'float', 'float'], 'float')\n",
    "def get_theta(px, py, pz):\n",
    "    return np.degrees(np.arctan2(np.sqrt(px**2 + py**2), pz))\n",
    "\n",
    "@ROOT.Numba.Declare(['float', 'float'], 'float')\n",
    "def get_phi(px, py):\n",
    "    return np.degrees(np.arctan2(py, px))\n"
   ]
  },
  {
   "cell_type": "code",
   "execution_count": null,
   "metadata": {},
   "outputs": [],
   "source": [
    "def make_kinematics_hists(particle, df, pxmin=-2.0, pxmax=2.0, pymin=-2.0, pymax=2.0, pzmin=-2.0, pzmax=2.0, pmin=-2.0, pmax=2.0, thetamin=0.0, thetamax=180.0, bin_size_p=0.01, bin_size_theta=1.0):\n",
    "        n_bins_px = int((pxmax - pxmin) / bin_size_p)\n",
    "        n_bins_py = int((pymax - pymin) / bin_size_p)\n",
    "        n_bins_pz = int((pzmax - pzmin) / bin_size_p)\n",
    "        n_bins_p = int((pmax - pmin) / bin_size_p)\n",
    "        n_bins_theta = int((thetamax - thetamin) / bin_size_theta)\n",
    "\n",
    "        hist_px = df.Histo1D((f'{particle}_px', f'{particle}_px', n_bins_px, pxmin, pxmax), f'{particle}_px')\n",
    "        hist_py = df.Histo1D((f'{particle}_py', f'{particle}_py', n_bins_py, pymin, pymax), f'{particle}_py')\n",
    "        hist_pz = df.Histo1D((f'{particle}_pz', f'{particle}_pz', n_bins_pz, pzmin, pzmax), f'{particle}_pz')\n",
    "        hist_p = df.Define('p', f'sqrt({particle}_px*p_px + {particle}_py*p_py + {particle}_pz*p_pz)').Histo1D((f'{particle}_p', f'{particle}_p', n_bins_p, pmin, pmax), 'p')\n",
    "        hist_theta = df.Define('theta', f'Numba::get_theta({particle}_px, {particle}_py, {particle}_pz)').Histo1D((f'{particle}_theta', f'{particle}_theta', n_bins_theta, thetamin, thetamax), 'theta')\n",
    "        hist_phi = df.Define('phi', f'Numba::get_phi({particle}_px, {particle}_py)').Histo1D((f'{particle}_phi', f'{particle}_phi', 370, -185.0, 185.0), 'phi')\n",
    "        pvtheta_title = \"P vs #Theta for {}\".format(particle)\n",
    "        hist_p_vs_theta = df.Define('theta', f'Numba::get_theta({particle}_px, {particle}_py, {particle}_pz)').Define('p', f'sqrt({particle}_px*p_px + {particle}_py*p_py + {particle}_pz*p_pz)').Histo2D((f'{particle}_pvtheta', pvtheta_title, n_bins_p, pmin, pmax, n_bins_theta, thetamin, thetamax), 'p', 'theta')\n",
    "        return hist_px, hist_py, hist_pz, hist_p, hist_theta, hist_phi, hist_p_vs_theta\n",
    "\n",
    "\n",
    "def get_kinematics(channel: str, particle: str, df: ROOT.RDataFrame, pxmin=-2.0, pxmax=2.0, pymin=-2.0, pymax=2.0, pzmin=-2.0, pzmax=2.0, pmin=-2.0, pmax=2.0, thetamin=0.0, thetamax=180.0, bin_size_p=0.01, bin_size_theta=1.0):\n",
    "    if particle not in ['proton', 'kaon', 'pion', 'kshort_pi+', 'kshort_pi-']:\n",
    "        print(f'Particle {particle}_{channel} not supported')\n",
    "        raise ValueError(f'Acceptable particles are proton, kaon, pion, kshort_pi+, kshort_pi-')\n",
    "    if channel not in ['pipkmks', 'pimkpks']:\n",
    "        print(f'Channel {channel} not supported')\n",
    "        raise ValueError(f'Acceptable channels are pipkmks, pimkpks')\n",
    "    \n",
    "    if channel == 'pipkmks':\n",
    "        kaon = 'km'\n",
    "        pion = 'pip1'\n",
    "        ks_pip = 'pip2'\n",
    "        ks_pim = 'pim'\n",
    "    elif channel == 'pimkpks':\n",
    "        kaon = 'kp'\n",
    "        pion = 'pim1'\n",
    "        ks_pip = 'pip'\n",
    "        ks_pim = 'pim2'\n",
    "\n",
    "    if particle == 'proton':\n",
    "        return make_kinematics_hists('p', df, pxmin=pxmin, pxmax=pxmax, pymin=pymin, pymax=pymax, pzmin=pzmin, pzmax=pzmax, pmin=pmin, pmax=pmax, thetamin=thetamin, thetamax=thetamax, bin_size_p=bin_size_p, bin_size_theta=bin_size_theta)\n",
    "    elif particle == 'kaon':\n",
    "        return make_kinematics_hists(kaon, df, pxmin=pxmin, pxmax=pxmax, pymin=pymin, pymax=pymax, pzmin=pzmin, pzmax=pzmax, pmin=pmin, pmax=pmax, thetamin=thetamin, thetamax=thetamax, bin_size_p=bin_size_p, bin_size_theta=bin_size_theta)\n",
    "    elif particle == 'pion':\n",
    "        return make_kinematics_hists(pion, df, pxmin=pxmin, pxmax=pxmax, pymin=pymin, pymax=pymax, pzmin=pzmin, pzmax=pzmax, pmin=pmin, pmax=pmax, thetamin=thetamin, thetamax=thetamax, bin_size_p=bin_size_p, bin_size_theta=bin_size_theta)\n",
    "    elif particle == 'kshort_pi+':\n",
    "        return make_kinematics_hists(ks_pip, df, pxmin=pxmin, pxmax=pxmax, pymin=pymin, pymax=pymax, pzmin=pzmin, pzmax=pzmax, pmin=pmin, pmax=pmax, thetamin=thetamin, thetamax=thetamax, bin_size_p=bin_size_p, bin_size_theta=bin_size_theta)\n",
    "    elif particle == 'kshort_pi-':\n",
    "        return make_kinematics_hists(ks_pim, df, pxmin=pxmin, pxmax=pxmax, pymin=pymin, pymax=pymax, pzmin=pzmin, pzmax=pzmax, pmin=pmin, pmax=pmax, thetamin=thetamin, thetamax=thetamax, bin_size_p=bin_size_p, bin_size_theta=bin_size_theta)\n",
    "    "
   ]
  },
  {
   "cell_type": "code",
   "execution_count": null,
   "metadata": {},
   "outputs": [],
   "source": [
    "run_period = 'spring'\n",
    "data_type = 'signal'\n",
    "df_pipkmks = tools.get_dataframe('pipkmks', run_period, data_type)\n",
    "df_pimkpks = tools.get_dataframe('pimkpks', run_period, data_type)"
   ]
  },
  {
   "cell_type": "code",
   "execution_count": null,
   "metadata": {},
   "outputs": [],
   "source": [
    "df_pipkmks = df_pipkmks.Filter(kcuts.KSTAR_ALL_CUT_PIPKMKS).Filter('pipkmks_m > 1.24 && pipkmks_m < 1.35')\n",
    "df_pimkpks = df_pimkpks.Filter(kcuts.KSTAR_ALL_CUT_PIMKPKS).Filter('pimkpks_m > 1.24 && pimkpks_m < 1.35')"
   ]
  },
  {
   "cell_type": "code",
   "execution_count": null,
   "metadata": {},
   "outputs": [],
   "source": [
    "print(df_pipkmks.GetColumnNames())"
   ]
  },
  {
   "cell_type": "markdown",
   "metadata": {},
   "source": [
    "### Proton Kinematics"
   ]
  },
  {
   "cell_type": "code",
   "execution_count": null,
   "metadata": {},
   "outputs": [],
   "source": [
    "c = ROOT.TCanvas(\"c\", \"c\", 1000, 1000)\n",
    "c.Divide(4, 2)\n",
    "\n",
    "proton_hists_pipkmks = get_kinematics('pipkmks', 'proton', df_pipkmks, pmin=0.0, pzmin=0.0, thetamin=0.0, thetamax=80)\n",
    "proton_hists_pimkpks = get_kinematics('pimkpks', 'proton', df_pimkpks, pmin=0.0, pzmin=0.0, thetamin=0.0, thetamax=80)\n",
    "legends = []\n",
    "for i, hist_pipkmks in enumerate(proton_hists_pipkmks):\n",
    "    c.cd(i+1)\n",
    "    hist_pipkmks = hist_pipkmks.GetValue()\n",
    "    hist_pimkpks = proton_hists_pimkpks[i].GetValue()\n",
    "    quantity = hist_pimkpks.GetName().split('_')[1]\n",
    "    if(quantity != 'pvtheta'):\n",
    "        hist_pimkpks.SetTitle(quantity + ' for p')\n",
    "        hist_pimkpks.SetLineColor(ROOT.TColor.GetColor(constants.COLORBLIND_HEX_DICT['red']))\n",
    "        hist_pipkmks.SetLineColor(ROOT.TColor.GetColor(constants.COLORBLIND_HEX_DICT['blue']))\n",
    "        # hist_pipkmks.Scale(1.0/hist_pipkmks.Integral())\n",
    "        # hist_pimkpks.Scale(1.0/hist_pimkpks.Integral())\n",
    "        legend = ROOT.TLegend(0.7, 0.8, 0.95, 0.95)\n",
    "        label_pipkmks = quantity + ' for #pi^{+}K^{-}K_{s}'\n",
    "        label_pimkpks = quantity + ' for #pi^{-}K^{+}K_{s}'\n",
    "        legend.AddEntry(hist_pipkmks, label_pipkmks, 'l')\n",
    "        legend.AddEntry(hist_pimkpks, label_pimkpks, 'l')\n",
    "        legends.append(legend)\n",
    "        hist_pimkpks.Draw()\n",
    "        hist_pipkmks.Draw('same')\n",
    "        legends[i].Draw()\n",
    "    else: \n",
    "        hist_pipkmks.SetTitle('P vs #Theta for p - #pi^{+}K^{-}K_{s}')\n",
    "        hist_pimkpks.SetTitle('P vs #Theta for p - #pi^{-}K^{+}K_{s}')\n",
    "        hist_pimkpks.Draw('colz')\n",
    "        c.cd(i+2)\n",
    "        hist_pipkmks.Draw('colz')\n",
    "c.Draw()"
   ]
  },
  {
   "cell_type": "markdown",
   "metadata": {},
   "source": [
    "### Kaon Kinematics"
   ]
  },
  {
   "cell_type": "code",
   "execution_count": null,
   "metadata": {},
   "outputs": [],
   "source": [
    "kaon_hists_pipkmks = get_kinematics('pipkmks', 'kaon', df_pipkmks, pzmin=0.0, pzmax=6.0, pmin=0.5, pmax=2.2, thetamax=20)\n",
    "kaon_hists_pimkpks = get_kinematics('pimkpks', 'kaon', df_pimkpks, pzmin=0.0, pzmax=6.0, pmin=0.5, pmax=2.2, thetamax=20)\n",
    "legends = []\n",
    "for i, hist_pipkmks in enumerate(kaon_hists_pipkmks):\n",
    "    c.cd(i+1)\n",
    "    hist_pipkmks = hist_pipkmks.GetValue()\n",
    "    hist_pimkpks = kaon_hists_pimkpks[i].GetValue()\n",
    "    quantity = hist_pimkpks.GetName().split('_')[1]\n",
    "    print(quantity)\n",
    "    if(quantity != 'pvtheta'):\n",
    "        hist_pimkpks.SetTitle(quantity + ' for kaon')\n",
    "        hist_pimkpks.SetLineColor(ROOT.TColor.GetColor(constants.COLORBLIND_HEX_DICT['red']))\n",
    "        hist_pipkmks.SetLineColor(ROOT.TColor.GetColor(constants.COLORBLIND_HEX_DICT['blue']))\n",
    "        # hist_pipkmks.Scale(1.0/hist_pipkmks.Integral())\n",
    "        # hist_pimkpks.Scale(1.0/hist_pimkpks.Integral())\n",
    "        legend = ROOT.TLegend(0.7, 0.8, 0.95, 0.95)\n",
    "        label_pipkmks = quantity + ' for #pi^{+}K^{-}K_{s}'\n",
    "        label_pimkpks = quantity + ' for #pi^{-}K^{+}K_{s}'\n",
    "        legend.AddEntry(hist_pipkmks, label_pipkmks, 'l')\n",
    "        legend.AddEntry(hist_pimkpks, label_pimkpks, 'l')\n",
    "        legends.append(legend)\n",
    "        hist_pimkpks.Draw()\n",
    "        hist_pipkmks.Draw('same')\n",
    "        legends[i].Draw()\n",
    "    else: \n",
    "        hist_pipkmks.SetTitle('P vs #Theta for kaon - #pi^{+}K^{-}K_{s}')\n",
    "        hist_pimkpks.SetTitle('P vs #Theta for kaon - #pi^{-}K^{+}K_{s}')\n",
    "        hist_pimkpks.Draw('colz')\n",
    "        c.cd(i+2)\n",
    "        hist_pipkmks.Draw('colz')\n",
    "c.Draw()"
   ]
  },
  {
   "cell_type": "markdown",
   "metadata": {},
   "source": [
    "### Pion Kinematics"
   ]
  },
  {
   "cell_type": "code",
   "execution_count": null,
   "metadata": {},
   "outputs": [],
   "source": [
    "pion_hists_pipkmks = get_kinematics('pipkmks', 'pion', df_pipkmks, pzmin=0.0, pzmax=3.0, pmin=0.0, pmax=1.5, thetamax=60)\n",
    "pion_hists_pimkpks = get_kinematics('pimkpks', 'pion', df_pimkpks, pzmin=0.0, pzmax=3.0, pmin=0.0, pmax=1.5, thetamax=60)\n",
    "legends = []\n",
    "for i, hist_pipkmks in enumerate(pion_hists_pipkmks):\n",
    "    c.cd(i+1)\n",
    "    hist_pipkmks = hist_pipkmks.GetValue()\n",
    "    hist_pimkpks = pion_hists_pimkpks[i].GetValue()\n",
    "    quantity = hist_pimkpks.GetName().split('_')[1]\n",
    "    if(quantity != 'pvtheta'):\n",
    "        hist_pimkpks.SetTitle(quantity + ' for pion')\n",
    "        hist_pimkpks.SetLineColor(ROOT.TColor.GetColor(constants.COLORBLIND_HEX_DICT['red']))\n",
    "        hist_pipkmks.SetLineColor(ROOT.TColor.GetColor(constants.COLORBLIND_HEX_DICT['blue']))\n",
    "        # hist_pipkmks.Scale(1.0/hist_pipkmks.Integral())\n",
    "        # hist_pimkpks.Scale(1.0/hist_pimkpks.Integral())\n",
    "        legend = ROOT.TLegend(0.7, 0.8, 0.95, 0.95)\n",
    "        label_pipkmks = quantity + ' for #pi^{+}K^{-}K_{s}'\n",
    "        label_pimkpks = quantity + ' for #pi^{-}K^{+}K_{s}'\n",
    "        legend.AddEntry(hist_pipkmks, label_pipkmks, 'l')\n",
    "        legend.AddEntry(hist_pimkpks, label_pimkpks, 'l')\n",
    "        legends.append(legend)\n",
    "        hist_pimkpks.Draw()\n",
    "        hist_pipkmks.Draw('same')\n",
    "        legends[i].Draw()\n",
    "    else: \n",
    "        hist_pipkmks.SetTitle('P vs #Theta for pion - #pi^{+}K^{-}K_{s}')\n",
    "        hist_pimkpks.SetTitle('P vs #Theta for pion - #pi^{-}K^{+}K_{s}')\n",
    "        hist_pimkpks.Draw('colz')\n",
    "        c.cd(i+2)\n",
    "        hist_pipkmks.Draw('colz')\n",
    "c.Draw()"
   ]
  },
  {
   "cell_type": "markdown",
   "metadata": {},
   "source": [
    "### KShort Pi+ Kinematics"
   ]
  },
  {
   "cell_type": "code",
   "execution_count": null,
   "metadata": {},
   "outputs": [],
   "source": [
    "kspip_hists_pipkmks = get_kinematics('pipkmks', 'kshort_pi+', df_pipkmks, pzmin=0.0, pzmax=4.0, pmin=0.0, thetamax=40)\n",
    "kspip_hists_pimkpks = get_kinematics('pimkpks', 'kshort_pi+', df_pimkpks, pzmin=0.0, pzmax=4.0, pmin=0.0, thetamax=40)\n",
    "legends = []\n",
    "for i, hist_pipkmks in enumerate(kspip_hists_pipkmks):\n",
    "    c.cd(i+1)\n",
    "    hist_pipkmks = hist_pipkmks.GetValue()\n",
    "    hist_pimkpks = kspip_hists_pimkpks[i].GetValue()\n",
    "    quantity = hist_pimkpks.GetName().split('_')[1]\n",
    "    if(quantity != 'pvtheta'):\n",
    "        hist_pimkpks.SetTitle(quantity + ' for #pi^{+} from K_{s}')\n",
    "        hist_pimkpks.SetLineColor(ROOT.TColor.GetColor(constants.COLORBLIND_HEX_DICT['red']))\n",
    "        hist_pipkmks.SetLineColor(ROOT.TColor.GetColor(constants.COLORBLIND_HEX_DICT['blue']))\n",
    "        # hist_pipkmks.Scale(1.0/hist_pipkmks.Integral())\n",
    "        # hist_pimkpks.Scale(1.0/hist_pimkpks.Integral())\n",
    "        legend = ROOT.TLegend(0.7, 0.8, 0.95, 0.95)\n",
    "        label_pipkmks = quantity + ' for #pi^{+}K^{-}K_{s}'\n",
    "        label_pimkpks = quantity + ' for #pi^{-}K^{+}K_{s}'\n",
    "        legend.AddEntry(hist_pipkmks, label_pipkmks, 'l')\n",
    "        legend.AddEntry(hist_pimkpks, label_pimkpks, 'l')\n",
    "        legends.append(legend)\n",
    "        hist_pimkpks.Draw()\n",
    "        hist_pipkmks.Draw('same')\n",
    "        legends[i].Draw()\n",
    "    else: \n",
    "        hist_pipkmks.SetTitle('P vs #Theta for #pi^{+}_{K_{s}} - #pi^{+}K^{-}K_{s}')\n",
    "        hist_pimkpks.SetTitle('P vs #Theta for #pi^{+}_{K_{s}} - #pi^{-}K^{+}K_{s}')\n",
    "        hist_pimkpks.Draw('colz')\n",
    "        c.cd(i+2)\n",
    "        hist_pipkmks.Draw('colz')\n",
    "c.Draw()"
   ]
  },
  {
   "cell_type": "markdown",
   "metadata": {},
   "source": [
    "### KShort Pi- Kinematics"
   ]
  },
  {
   "cell_type": "code",
   "execution_count": null,
   "metadata": {},
   "outputs": [],
   "source": [
    "kspim_hists_pipkmks = get_kinematics('pipkmks', 'kshort_pi-', df_pipkmks, pzmin=0.0, pzmax=4.0, pmin=0.0, thetamax=40)\n",
    "kspim_hists_pimkpks = get_kinematics('pimkpks', 'kshort_pi-', df_pimkpks, pzmin=0.0, pzmax=4.0, pmin=0.0, thetamax=40)\n",
    "legends = []\n",
    "for i, hist_pipkmks in enumerate(kspim_hists_pipkmks):\n",
    "    c.cd(i+1)\n",
    "    hist_pipkmks = hist_pipkmks.GetValue()\n",
    "    hist_pimkpks = kspim_hists_pimkpks[i].GetValue()\n",
    "    quantity = hist_pimkpks.GetName().split('_')[1]\n",
    "    if(quantity != 'pvtheta'):\n",
    "        hist_pimkpks.SetTitle(quantity + ' for #pi^{-} from K_{s}')\n",
    "        hist_pimkpks.SetLineColor(ROOT.TColor.GetColor(constants.COLORBLIND_HEX_DICT['red']))\n",
    "        hist_pipkmks.SetLineColor(ROOT.TColor.GetColor(constants.COLORBLIND_HEX_DICT['blue']))\n",
    "        # hist_pipkmks.Scale(1.0/hist_pipkmks.Integral())\n",
    "        # hist_pimkpks.Scale(1.0/hist_pimkpks.Integral())\n",
    "        legend = ROOT.TLegend(0.7, 0.8, 0.95, 0.95)\n",
    "        label_pipkmks = quantity + ' for #pi^{+}K^{-}K_{s}'\n",
    "        label_pimkpks = quantity + ' for #pi^{-}K^{+}K_{s}'\n",
    "        legend.AddEntry(hist_pipkmks, label_pipkmks, 'l')\n",
    "        legend.AddEntry(hist_pimkpks, label_pimkpks, 'l')\n",
    "        legends.append(legend)\n",
    "        hist_pimkpks.Draw()\n",
    "        hist_pipkmks.Draw('same')\n",
    "        legends[i].Draw()\n",
    "    else: \n",
    "        hist_pipkmks.SetTitle('P vs #Theta for #pi^{-}_{K_{s}} - #pi^{+}K^{-}K_{s}')\n",
    "        hist_pimkpks.SetTitle('P vs #Theta for #pi^{-}_{K_{s}} - #pi^{-}K^{+}K_{s}')\n",
    "        hist_pimkpks.Draw('colz')\n",
    "        c.cd(i+2)\n",
    "        hist_pipkmks.Draw('colz')\n",
    "c.Draw()"
   ]
  }
 ],
 "metadata": {
  "kernelspec": {
   "display_name": "Python 3",
   "language": "python",
   "name": "python3"
  },
  "language_info": {
   "codemirror_mode": {
    "name": "ipython",
    "version": 3
   },
   "file_extension": ".py",
   "mimetype": "text/x-python",
   "name": "python",
   "nbconvert_exporter": "python",
   "pygments_lexer": "ipython3",
   "version": "3.6.8"
  },
  "orig_nbformat": 4
 },
 "nbformat": 4,
 "nbformat_minor": 2
}
