{
 "cells": [
  {
   "cell_type": "code",
   "execution_count": 1,
   "metadata": {},
   "outputs": [
    {
     "name": "stdout",
     "output_type": "stream",
     "text": [
      "Welcome to JupyROOT 6.24/04\n"
     ]
    }
   ],
   "source": [
    "import ROOT\n",
    "import my_library.common_analysis_tools as tools\n",
    "import my_library.constants as constants\n",
    "import my_library.kinematic_cuts as kcuts"
   ]
  },
  {
   "cell_type": "code",
   "execution_count": 2,
   "metadata": {},
   "outputs": [],
   "source": [
    "df_pipkmks = tools.get_dataframe('pipkmks', 'spring', 'data')\n",
    "df_pimkpks = tools.get_dataframe('pimkpks', 'spring', 'data')"
   ]
  },
  {
   "cell_type": "code",
   "execution_count": 8,
   "metadata": {},
   "outputs": [],
   "source": [
    "df_pipkmks = df_pipkmks.Filter(kcuts.KSTAR_ALL_CUT_PIPKMKS)\n",
    "df_pimkpks = df_pimkpks.Filter(kcuts.KSTAR_ALL_CUT_PIMKPKS)"
   ]
  },
  {
   "cell_type": "code",
   "execution_count": 9,
   "metadata": {},
   "outputs": [],
   "source": [
    "hist_old_pipkmks = df_pipkmks.Histo1D(('old_pipkmks', 'M(#pi^{+}K^{-}K_{S}) with current cuts', 50, 1.1, 1.6), 'pipkmks_m')\n",
    "hist_old_pimkpks = df_pimkpks.Histo1D(('old_pimkpks', 'M(#pi^{-}K^{+}K_{S}) with current cuts', 50, 1.1, 1.6), 'pimkpks_m')\n",
    "hist_new_pipkmks = df_pipkmks.Filter('kmp_m > 2.0').Filter('ksp_m > 2.0').Histo1D(('new_pipkmks', 'M(#pi^{+}K^{-}K_{S}) with new M(pK) cuts', 50, 1.1, 1.6), 'pipkmks_m')\n",
    "hist_new_pimkpks = df_pimkpks.Filter('kpp_m > 2.0').Filter('ksp_m > 2.0').Histo1D(('new_pimkpks', 'M(#pi^{-}K^{+}K_{S}) with new M(pK) cuts', 50, 1.1, 1.6), 'pimkpks_m')"
   ]
  },
  {
   "cell_type": "code",
   "execution_count": 10,
   "metadata": {},
   "outputs": [],
   "source": [
    "hist_old_pipkmks.SetLineColor(ROOT.TColor.GetColor(constants.COLORBLIND_HEX_DICT['blue']))\n",
    "hist_old_pimkpks.SetLineColor(ROOT.TColor.GetColor(constants.COLORBLIND_HEX_DICT['red']))\n",
    "hist_new_pipkmks.SetLineColor(ROOT.TColor.GetColor(constants.COLORBLIND_HEX_DICT['blue']))\n",
    "hist_new_pimkpks.SetLineColor(ROOT.TColor.GetColor(constants.COLORBLIND_HEX_DICT['red']))"
   ]
  },
  {
   "cell_type": "code",
   "execution_count": 11,
   "metadata": {},
   "outputs": [
    {
     "name": "stderr",
     "output_type": "stream",
     "text": [
      "Warning in <TCanvas::Constructor>: Deleting canvas with same name: c\n"
     ]
    },
    {
     "data": {
      "image/png": "[encoded data removed]",
      "text/plain": [
       "<IPython.core.display.Image object>"
      ]
     },
     "metadata": {},
     "output_type": "display_data"
    }
   ],
   "source": [
    "c = ROOT.TCanvas('c', 'c', 800, 600)\n",
    "c.Divide(2, 1)\n",
    "c.cd(1)\n",
    "hist_old_pimkpks.Draw()\n",
    "hist_old_pipkmks.Draw(\"same\")\n",
    "c.cd(2)\n",
    "hist_new_pimkpks.Draw()\n",
    "hist_new_pipkmks.Draw(\"same\")\n",
    "c.Draw()"
   ]
  }
 ],
 "metadata": {
  "kernelspec": {
   "display_name": "Python 3",
   "language": "python",
   "name": "python3"
  },
  "language_info": {
   "codemirror_mode": {
    "name": "ipython",
    "version": 3
   },
   "file_extension": ".py",
   "mimetype": "text/x-python",
   "name": "python",
   "nbconvert_exporter": "python",
   "pygments_lexer": "ipython3",
   "version": "3.6.8"
  }
 },
 "nbformat": 4,
 "nbformat_minor": 2
}
