{
 "cells": [
  {
   "cell_type": "code",
   "execution_count": 2,
   "id": "engaging-pulse",
   "metadata": {},
   "outputs": [],
   "source": [
    "import ROOT as r"
   ]
  },
  {
   "cell_type": "code",
   "execution_count": 5,
   "id": "senior-louis",
   "metadata": {},
   "outputs": [],
   "source": [
    "data_filename = '/work/halld/home/viducic/selector_output/f1_flat/pipkmks_flat_result_2018_spring.root'\n",
    "data_file = r.TFile(data_filename, \"READ\")\n",
    "hist = data_file.Get()"
   ]
  }
 ],
 "metadata": {
  "kernelspec": {
   "display_name": "Python 3",
   "language": "python",
   "name": "python3"
  },
  "language_info": {
   "codemirror_mode": {
    "name": "ipython",
    "version": 3
   },
   "file_extension": ".py",
   "mimetype": "text/x-python",
   "name": "python",
   "nbconvert_exporter": "python",
   "pygments_lexer": "ipython3",
   "version": "3.8.6"
  }
 },
 "nbformat": 4,
 "nbformat_minor": 5
}
