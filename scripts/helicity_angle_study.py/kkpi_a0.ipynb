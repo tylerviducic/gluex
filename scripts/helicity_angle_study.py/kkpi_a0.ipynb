{
 "cells": [
  {
   "cell_type": "code",
   "execution_count": 24,
   "metadata": {},
   "outputs": [],
   "source": [
    "import ROOT\n",
    "import numpy as np\n",
    "import matplotlib.pyplot as plt\n",
    "import my_library.common_analysis_tools as ct\n",
    "import my_library.kinematic_cuts as kcuts\n",
    "import my_library.constants as constants"
   ]
  },
  {
   "cell_type": "code",
   "execution_count": 25,
   "metadata": {},
   "outputs": [],
   "source": [
    "ROOT.gStyle.SetOptStat(0)\n",
    "ROOT.EnableImplicitMT()"
   ]
  },
  {
   "cell_type": "code",
   "execution_count": 26,
   "metadata": {},
   "outputs": [],
   "source": [
    "df_pipkmks_data = ct.get_dataframe('pipkmks', 'spring', 'data')\n",
    "df_pipkmks_phasespace = ct.get_dataframe('pipkmks', 'spring', 'phasespace')\n",
    "\n",
    "df_pimkpks_data = ct.get_dataframe('pimkpks', 'spring', 'data')\n",
    "df_pimkpks_phasespace = ct.get_dataframe('pimkpks', 'spring', 'phasespace')"
   ]
  },
  {
   "cell_type": "code",
   "execution_count": 27,
   "metadata": {},
   "outputs": [],
   "source": [
    "hist_pipkmks_nocut_data = df_pipkmks_data.Histo1D(('pipkmks_nocut', 'M(#pi^{+}K^{-}K_{S})', 70, 1.1, 1.8), 'pipkmks_m')\n",
    "hist_pipkmks_cut_data = df_pipkmks_data.Filter('kmks_m < 1.05').Histo1D(('pipkmks_cut', 'M(#pi^{+}K^{-}K_{S})', 70, 1.1, 1.8), 'pipkmks_m')\n",
    "hist_pipkmks_nocut_phasespace = df_pipkmks_phasespace.Histo1D(('pipkmks_nocut', 'M(#pi^{+}K^{-}K_{S})', 70, 1.1, 1.8), 'pipkmks_m')\n",
    "hist_pipkmks_cut_phasespace = df_pipkmks_phasespace.Filter('kmks_m < 1.05').Histo1D(('pipkmks_cut', 'M(#pi^{+}K^{-}K_{S})', 70, 1.1, 1.8), 'pipkmks_m')\n",
    "\n",
    "hist_pimkpks_nocut_data = df_pimkpks_data.Histo1D(('pimkpks_nocut', 'M(#pi^{-}K^{+}K_{S})', 70, 1.1, 1.8), 'pimkpks_m')\n",
    "hist_pimkpks_cut_data = df_pimkpks_data.Filter('kpks_m < 1.05').Histo1D(('pimkpks_cut', 'M(#pi^{-}K^{+}K_{S})', 70, 1.1, 1.8), 'pimkpks_m')\n",
    "hist_pimkpks_nocut_phasespace = df_pimkpks_phasespace.Histo1D(('pimkpks_nocut', 'M(#pi^{-}K^{+}K_{S})', 70, 1.1, 1.8), 'pimkpks_m')\n",
    "hist_pimkpks_cut_phasespace = df_pimkpks_phasespace.Filter('kpks_m < 1.05').Histo1D(('pimkpks_cut', 'M(#pi^{-}K^{+}K_{S})', 70, 1.1, 1.8), 'pimkpks_m')"
   ]
  },
  {
   "cell_type": "code",
   "execution_count": 28,
   "metadata": {},
   "outputs": [
    {
     "name": "stderr",
     "output_type": "stream",
     "text": [
      "Warning in <TCanvas::Constructor>: Deleting canvas with same name: c\n"
     ]
    },
    {
     "data": {
      "image/png": "[encoded data removed]",
      "text/plain": [
       "<IPython.core.display.Image object>"
      ]
     },
     "metadata": {},
     "output_type": "display_data"
    }
   ],
   "source": [
    "c = ROOT.TCanvas('c', 'c', 800, 600)\n",
    "c.Divide(2,1)\n",
    "\n",
    "hist_pipkmks_nocut_data.SetLineColor(ROOT.kBlue)\n",
    "hist_pipkmks_cut_data.SetFillColor(ROOT.kBlue)\n",
    "hist_pipkmks_nocut_phasespace.SetLineColor(ROOT.kBlue)\n",
    "hist_pipkmks_cut_phasespace.SetFillColor(ROOT.kBlue)\n",
    "\n",
    "c.cd(1)\n",
    "hist_pipkmks_nocut_data.Draw()\n",
    "hist_pipkmks_cut_data.Draw('same')\n",
    "c.cd(2)\n",
    "hist_pipkmks_nocut_phasespace.Draw()\n",
    "hist_pipkmks_cut_phasespace.Draw('same')\n",
    "c.Draw()"
   ]
  },
  {
   "cell_type": "code",
   "execution_count": 29,
   "metadata": {},
   "outputs": [
    {
     "data": {
      "image/png": "[encoded data removed]",
      "text/plain": [
       "<IPython.core.display.Image object>"
      ]
     },
     "metadata": {},
     "output_type": "display_data"
    }
   ],
   "source": [
    "c.Clear()\n",
    "c.Divide(2,1)\n",
    "\n",
    "hist_pimkpks_nocut_data.SetLineColor(ROOT.kRed)\n",
    "hist_pimkpks_cut_data.SetFillColor(ROOT.kRed)\n",
    "hist_pimkpks_nocut_phasespace.SetLineColor(ROOT.kRed)\n",
    "hist_pimkpks_cut_phasespace.SetFillColor(ROOT.kRed)\n",
    "\n",
    "c.cd(1)\n",
    "hist_pimkpks_nocut_data.Draw()\n",
    "hist_pimkpks_cut_data.Draw('same')\n",
    "c.cd(2)\n",
    "hist_pimkpks_nocut_phasespace.Draw()\n",
    "hist_pimkpks_cut_phasespace.Draw('same')\n",
    "c.Draw()"
   ]
  },
  {
   "cell_type": "code",
   "execution_count": 30,
   "metadata": {},
   "outputs": [],
   "source": [
    "df_pipkmks_data = df_pipkmks_data.Filter('kmks_m < 1.05')\n",
    "df_pipkmks_phasespace = df_pipkmks_phasespace.Filter('kmks_m < 1.05')"
   ]
  },
  {
   "cell_type": "code",
   "execution_count": 31,
   "metadata": {},
   "outputs": [],
   "source": [
    "m_kkpi = ROOT.RooRealVar(\"m_kkpi\", \"m_kkpi\", 1.16, 1.7)\n",
    "dh = ROOT.RooDataHist(\"dh\", \"dh\", ROOT.RooArgList(m_kkpi), hist_pipkmks_cut_data.GetPtr())\n",
    "psh = ROOT.RooDataHist(\"psh\", \"psh\", ROOT.RooArgList(m_kkpi), hist_pipkmks_cut_phasespace.GetPtr())"
   ]
  },
  {
   "cell_type": "code",
   "execution_count": 32,
   "metadata": {},
   "outputs": [],
   "source": [
    "voight_resoltion = constants.F1_PIPKMKS_VOIGHT_SIGMA\n",
    "voight_resolution_error = constants.F1_PIPKMKS_VOIGHT_SIGMA_ERROR\n",
    "\n",
    "# set up a roofit voightian with a mean of 1.285, width of 0.024, and a sigma of 0.013\n",
    "voight_m_1285 = ROOT.RooRealVar(\"voight_m_1285\", \"voight_m_1285\", 1.281, 1.2, 1.3)\n",
    "voight_width_1285 = ROOT.RooRealVar(\"voight_width_1285\", \"voight_width_1285\", 0.023, 0.01, 0.075)\n",
    "voight_sigma_1285 = ROOT.RooRealVar(\"voight_sigma_1285\", \"voight_sigma_1285\", voight_resoltion, 0.01, 0.5)\n",
    "voight_sigma_1285.setError(voight_resolution_error)\n",
    "voight_1285 = ROOT.RooVoigtian(\"voight_1285\", \"voight_1285\", m_kkpi, voight_m_1285, voight_width_1285, voight_sigma_1285)\n",
    "\n",
    "voight_m_1420 = ROOT.RooRealVar(\"voight_m_1420\", \"voight_m_1420\", 1.420, 1.35, 1.45)\n",
    "voight_width_1420 = ROOT.RooRealVar(\"voight_width_1420\", \"voight_width_1420\", 0.07, 0.04, 0.075)\n",
    "voight_sigma_1420 = ROOT.RooRealVar(\"voight_sigma_1420\", \"voight_sigma_1420\", voight_resoltion, 0.01, 0.5)\n",
    "voight_sigma_1420.setError(voight_resolution_error)\n",
    "voight_1420 = ROOT.RooVoigtian(\"voight_1420\", \"voight_1420\", m_kkpi, voight_m_1420, voight_width_1420, voight_sigma_1420)\n",
    "\n",
    "# hold the voight parameters fixed\n",
    "voight_sigma_1285.setConstant(True)\n",
    "# voight_m_1285.setConstant(True)\n",
    "# voight_width_1285.setConstant(True)\n",
    "voight_sigma_1420.setConstant(True)\n",
    "voight_m_1420.setConstant(True)\n",
    "voight_width_1420.setConstant(True)"
   ]
  },
  {
   "cell_type": "code",
   "execution_count": 33,
   "metadata": {},
   "outputs": [],
   "source": [
    "phasespace = ROOT.RooHistPdf('phasespace', 'phasespace', m_kkpi, psh)"
   ]
  },
  {
   "cell_type": "code",
   "execution_count": 34,
   "metadata": {},
   "outputs": [],
   "source": [
    "n_f1_1285 = ROOT.RooRealVar(\"n_f1_1285\", \"n_f1_1285\", 10000, 0.0, 1000000000)\n",
    "n_f1_1420 = ROOT.RooRealVar(\"n_f1_1420\", \"n_f1_1420\", 10000, 0.0, 1000000000)\n",
    "n_phasespace = ROOT.RooRealVar(\"n_phasespace\", \"n_phasespace\", 10000, 0.0, 1000000000)\n",
    "\n",
    "combined_pdf = ROOT.RooAddPdf('combined_pdf', 'combined_pdf', ROOT.RooArgList(voight_1285, voight_1420, phasespace), ROOT.RooArgList(n_f1_1285, n_f1_1420, n_phasespace))"
   ]
  },
  {
   "cell_type": "code",
   "execution_count": 35,
   "metadata": {},
   "outputs": [],
   "source": [
    "fit_result = combined_pdf.fitTo(dh, ROOT.RooFit.Save())"
   ]
  }
 ],
 "metadata": {
  "kernelspec": {
   "display_name": "Python 3",
   "language": "python",
   "name": "python3"
  },
  "language_info": {
   "codemirror_mode": {
    "name": "ipython",
    "version": 3
   },
   "file_extension": ".py",
   "mimetype": "text/x-python",
   "name": "python",
   "nbconvert_exporter": "python",
   "pygments_lexer": "ipython3",
   "version": "3.6.8"
  }
 },
 "nbformat": 4,
 "nbformat_minor": 2
}
