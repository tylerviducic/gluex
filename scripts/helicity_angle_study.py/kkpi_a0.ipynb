{
 "cells": [
  {
   "cell_type": "code",
   "execution_count": 1,
   "metadata": {},
   "outputs": [
    {
     "name": "stdout",
     "output_type": "stream",
     "text": [
      "Welcome to JupyROOT 6.24/04\n"
     ]
    }
   ],
   "source": [
    "import ROOT\n",
    "import numpy as np\n",
    "import matplotlib.pyplot as plt\n",
    "import my_library.common_analysis_tools as ct\n",
    "import my_library.kinematic_cuts as kcuts\n",
    "import my_library.constants as constants"
   ]
  },
  {
   "cell_type": "code",
   "execution_count": 2,
   "metadata": {},
   "outputs": [],
   "source": [
    "ROOT.gStyle.SetOptStat(0)\n",
    "ROOT.EnableImplicitMT()"
   ]
  },
  {
   "cell_type": "code",
   "execution_count": 3,
   "metadata": {},
   "outputs": [],
   "source": [
    "df_pipkmks_data = ct.get_dataframe('pipkmks', 'spring', 'data')\n",
    "df_pipkmks_phasespace = ct.get_dataframe('pipkmks', 'spring', 'phasespace')\n",
    "\n",
    "df_pimkpks_data = ct.get_dataframe('pimkpks', 'spring', 'data')\n",
    "df_pimkpks_phasespace = ct.get_dataframe('pimkpks', 'spring', 'phasespace')"
   ]
  },
  {
   "cell_type": "code",
   "execution_count": 6,
   "metadata": {},
   "outputs": [],
   "source": [
    "hist_pipkmks_nocut_data = df_pipkmks_data.Histo1D(('pipkmks_nocut', 'M(#pi^{+}K^{-}K_{S})', 70, 1.1, 1.8), 'pipkmks_m')\n",
    "hist_pipkmks_cut_data = df_pipkmks_data.Filter('kmks_m < 1.05').Histo1D(('pipkmks_cut', 'M(#pi^{+}K^{-}K_{S})', 70, 1.1, 1.8), 'pipkmks_m')\n",
    "hist_pipkmks_nocut_phasespace = df_pipkmks_phasespace.Histo1D(('pipkmks_nocut', 'M(#pi^{+}K^{-}K_{S})', 70, 1.1, 1.8), 'pipkmks_m')\n",
    "hist_pipkmks_cut_phasespace = df_pipkmks_phasespace.Filter('kmks_m < 1.05').Histo1D(('pipkmks_cut', 'M(#pi^{+}K^{-}K_{S})', 70, 1.1, 1.8), 'pipkmks_m')\n",
    "\n",
    "hist_pimkpks_nocut_data = df_pimkpks_data.Histo1D(('pimkpks_nocut', 'M(#pi^{-}K^{+}K_{S})', 70, 1.1, 1.8), 'pimkpks_m')\n",
    "hist_pimkpks_cut_data = df_pimkpks_data.Filter('kpks_m < 1.05').Histo1D(('pimkpks_cut', 'M(#pi^{-}K^{+}K_{S})', 70, 1.1, 1.8), 'pimkpks_m')\n",
    "hist_pimkpks_nocut_phasespace = df_pimkpks_phasespace.Histo1D(('pimkpks_nocut', 'M(#pi^{-}K^{+}K_{S})', 70, 1.1, 1.8), 'pimkpks_m')\n",
    "hist_pimkpks_cut_phasespace = df_pimkpks_phasespace.Filter('kpks_m < 1.05').Histo1D(('pimkpks_cut', 'M(#pi^{-}K^{+}K_{S})', 70, 1.1, 1.8), 'pimkpks_m')"
   ]
  },
  {
   "cell_type": "code",
   "execution_count": 7,
   "metadata": {},
   "outputs": [
    {
     "data": {
      "image/png": "[encoded data removed]",
      "text/plain": [
       "<IPython.core.display.Image object>"
      ]
     },
     "metadata": {},
     "output_type": "display_data"
    }
   ],
   "source": [
    "c = ROOT.TCanvas('c', 'c', 800, 600)\n",
    "c.Divide(2,1)\n",
    "\n",
    "hist_pipkmks_nocut_data.SetLineColor(ROOT.kBlue)\n",
    "hist_pipkmks_cut_data.SetFillColor(ROOT.kBlue)\n",
    "hist_pipkmks_nocut_phasespace.SetLineColor(ROOT.kBlue)\n",
    "hist_pipkmks_cut_phasespace.SetFillColor(ROOT.kBlue)\n",
    "\n",
    "c.cd(1)\n",
    "hist_pipkmks_nocut_data.Draw()\n",
    "hist_pipkmks_cut_data.Draw('same')\n",
    "c.cd(2)\n",
    "hist_pipkmks_nocut_phasespace.Draw()\n",
    "hist_pipkmks_cut_phasespace.Draw('same')\n",
    "c.Draw()"
   ]
  }
 ],
 "metadata": {
  "kernelspec": {
   "display_name": "Python 3",
   "language": "python",
   "name": "python3"
  },
  "language_info": {
   "codemirror_mode": {
    "name": "ipython",
    "version": 3
   },
   "file_extension": ".py",
   "mimetype": "text/x-python",
   "name": "python",
   "nbconvert_exporter": "python",
   "pygments_lexer": "ipython3",
   "version": "3.6.8"
  }
 },
 "nbformat": 4,
 "nbformat_minor": 2
}
