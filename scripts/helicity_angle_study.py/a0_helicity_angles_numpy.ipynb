{
 "cells": [
  {
   "cell_type": "markdown",
   "metadata": {},
   "source": [
    "# Notebook to plot the helicity angles of $a_{0}$"
   ]
  },
  {
   "cell_type": "code",
   "execution_count": 3,
   "metadata": {},
   "outputs": [
    {
     "name": "stdout",
     "output_type": "stream",
     "text": [
      "Welcome to JupyROOT 6.24/04\n"
     ]
    }
   ],
   "source": [
    "import ROOT\n",
    "import numpy as np\n",
    "import my_library.common_analysis_tools as ct\n",
    "import my_library.constants as constants\n",
    "import my_library.kinematic_cuts as kcuts\n",
    "import pandas as pd"
   ]
  },
  {
   "cell_type": "code",
   "execution_count": 4,
   "metadata": {},
   "outputs": [],
   "source": [
    "def get_gamma_cm(ey: float, s: float) -> float:\n",
    "    # type: (float, float) -> float\n",
    "    return (ey + 0.938272)/np.sqrt(s)\n",
    "# def get_gamma_cm(ey, s):\n",
    "#     return (ey + 0.938272)/np.sqrt(s)\n",
    "\n",
    "def get_beta_cm(ey: float) -> float:\n",
    "    return ey/(ey + 0.938272)\n",
    "\n",
    "\n",
    "def get_beta(p: float, e: float) -> float:\n",
    "    return p/e\n",
    "\n",
    "\n",
    "def get_gamma(e: float, m: float) -> float:\n",
    "    return e/m\n"
   ]
  },
  {
   "cell_type": "code",
   "execution_count": 5,
   "metadata": {},
   "outputs": [],
   "source": [
    "def get_cm_vector(e: float, px: float, py: float, pz: float, ey: float, s: float):\n",
    "    gamma = get_gamma_cm(ey, s)\n",
    "    beta = get_beta_cm(ey)\n",
    "    vec_cm_rotaton = np.array([[gamma, 0, 0, -1*beta*gamma],\n",
    "                     [0, 1, 0, 0],\n",
    "                     [0, 0, 1, 0],\n",
    "                     [-1*beta*gamma, 0, 0, gamma]])\n",
    "    vec_lab = np.array([e, px, py, pz]).reshape(4,1)\n",
    "    return (vec_cm_rotaton @ vec_lab).reshape(1,4)\n"
   ]
  },
  {
   "cell_type": "code",
   "execution_count": 6,
   "metadata": {},
   "outputs": [],
   "source": [
    "def get_rest_frame_vec(p4_decay_cm, p4_rest_cm, m_rest: float):\n",
    "    \"\"\"e in 0th element, px in 1st, py in 2nd, pz in 3rd\"\"\"\n",
    "    p4_decay_cm   = p4_decay_cm.flatten()\n",
    "    p4_rest_cm    = p4_rest_cm.flatten()\n",
    "    beta = get_beta(np.sqrt(p4_rest_cm[1]*p4_rest_cm[1] + p4_rest_cm[2]*p4_rest_cm[2] + p4_rest_cm[3]*p4_rest_cm[3]), p4_rest_cm[0])\n",
    "    gamma = get_gamma(p4_rest_cm[0], m_rest)\n",
    "    beta_x = get_beta(p4_rest_cm[1], p4_rest_cm[0])\n",
    "    beta_y = get_beta(p4_rest_cm[2], p4_rest_cm[0])\n",
    "    beta_z = get_beta(p4_rest_cm[3], p4_rest_cm[0])\n",
    "\n",
    "    p4_decay_cm = p4_decay_cm.reshape(-1, 1)\n",
    "\n",
    "    rest_rotation = np.array([[gamma,         -gamma*beta_x,                             -gamma*beta_y,                             -gamma*beta_z                            ],\n",
    "                              [-gamma*beta_x, 1 + (gamma - 1)*beta_x*beta_x/(beta*beta), (gamma - 1)*beta_x*beta_y/(beta*beta),     (gamma - 1)*beta_x*beta_z/(beta*beta)    ],\n",
    "                              [-gamma*beta_y, (gamma - 1)*beta_y*beta_x/(beta*beta),     1 + (gamma - 1)*beta_y*beta_y/(beta*beta), (gamma - 1)*beta_y*beta_z/(beta*beta)    ],\n",
    "                              [-gamma*beta_z, (gamma - 1)*beta_z*beta_x/(beta*beta),     (gamma - 1)*beta_z*beta_y/(beta*beta),     1 + (gamma - 1)*beta_z*beta_z/(beta*beta)]])\n",
    "\n",
    "    return (rest_rotation @ p4_decay_cm).reshape(1, -1)"
   ]
  },
  {
   "cell_type": "code",
   "execution_count": 20,
   "metadata": {},
   "outputs": [],
   "source": [
    "def get_y_hat(beam_cm_p4, m_cm_p4):\n",
    "    beam_cm_p4 = beam_cm_p4.flatten()[1:]\n",
    "    m_cm_p4 = m_cm_p4.flatten()[1:]\n",
    "    cross_product = np.cross(beam_cm_p4, m_cm_p4)\n",
    "    return cross_product/np.linalg.norm(cross_product)\n",
    "\n",
    "def get_z_hat(m_cm_p4):\n",
    "    p4_m_cm = m_cm_p4.flatten()[1:]\n",
    "    return p4_m_cm/np.linalg.norm(p4_m_cm)\n",
    "\n",
    "def get_x_hat(y_hat, z_hat):\n",
    "    cross_product = np.cross(y_hat, z_hat)\n",
    "    return cross_product/np.linalg.norm(cross_product)\n",
    "\n",
    "def get_helicity_p3(decay_rest_p4, xhat, yhat, zhat):\n",
    "    decay_rest_p4 = decay_rest_p4.flatten()[1:]\n",
    "    return np.array([decay_rest_p4.dot(xhat), decay_rest_p4.dot(yhat), decay_rest_p4.dot(zhat)])\n",
    "\n",
    "def cos_theta_helicty(p3_helicity):\n",
    "    return p3_helicity[2]/np.linalg.norm(p3_helicity)\n",
    "\n",
    "def phi_helicity(p3_helicity):\n",
    "    return np.arctan2(p3_helicity[1], p3_helicity[0])"
   ]
  },
  {
   "cell_type": "code",
   "execution_count": 8,
   "metadata": {},
   "outputs": [],
   "source": [
    "rdf_pipkmks = ct.get_dataframe('pipkmks', 'spring', 'data')\n",
    "rdf_pipkmks = rdf_pipkmks.Define('kk_E', 'km_E + ks_E')\n",
    "rdf_pipkmks = rdf_pipkmks.Define('kk_px', 'km_px + ks_px')\n",
    "rdf_pipkmks = rdf_pipkmks.Define('kk_py', 'km_py + ks_py')\n",
    "rdf_pipkmks = rdf_pipkmks.Define('kk_pz', 'km_pz + ks_pz')\n",
    "rdf_pipkmks = rdf_pipkmks.Define('kk_m', 'sqrt(kk_E*kk_E - kk_px*kk_px - kk_py*kk_py - kk_pz*kk_pz)')\n",
    "np_pipkmks = rdf_pipkmks.AsNumpy()"
   ]
  },
  {
   "cell_type": "code",
   "execution_count": 9,
   "metadata": {},
   "outputs": [],
   "source": [
    "df_pipkmks = pd.DataFrame(np_pipkmks)"
   ]
  },
  {
   "cell_type": "code",
   "execution_count": 10,
   "metadata": {},
   "outputs": [
    {
     "name": "stdout",
     "output_type": "stream",
     "text": [
      "|    |    kk_E |     kk_px |      kk_py |   kk_pz |    kk_m |     p_pt |      p_p |      ks_px |      ks_py |   ks_pz |    ks_E |     ks_m |   ks_px_measured |   ks_py_measured |   ks_pz_measured |   ks_E_measured |   ks_m_measured |   mxpx_ppipkmks |   mxpy_ppipkmks |   mxpz_ppipkmks |   mxe_ppipkmks |   mx2_ppipkmks |   ppip_px |    ppip_py |   ppip_pz |   ppip_E |   ppip_m |   missing_px |   missing_py |   missing_pz |    missing_E |   missing_m |    kmp_px |     kmp_py |   kmp_pz |   kmp_E |   kmp_m |    ksp_px |     ksp_py |   ksp_pz |   ksp_E |   ksp_m |   kspip_px |   kspip_py |   kspip_pz |   kspip_E |   kspip_m |   kmpip_px |   kmpip_py |   kmpip_pz |   kmpip_E |   kmpip_m |   pipkmks_px |   pipkmks_py |   pipkmks_pz |   pipkmks_E |   pipkmks_px_measured |   pipkmks_py_measured |   pipkmks_pz_measured |   pipkmks_pt |   pipkmks_p_pt_diff |   pipkmks_m |   kmks_px |    kmks_py |   kmks_pz |   kmks_E |   kmks_m |   e_bin |   t_bin |   run |    event |   trigbits | rftime   |   kin_chisq |   kin_ndf |   beam_beamid | beam_x4_meas                                                    | beam_p4_meas                                                    | beam_x4_kin                                                     | beam_p4_kin                                                     |   pip1_trkid | pip1_x4_meas                                                    | pip1_p4_meas                                                    | pip1_x4_kin                                                     | pip1_p4_kin                                                     |   pip1_pid_fom |   pip1_beta_time |   pip1_chisq_time |   pip1_ndf_time |   pip1_ndf_trk |   pip1_chisq_trk |   pip1_ndf_dedx |   pip1_chisq_dedx |   pip1_dedx_cdc |   pip1_dedx_fdc |   pip1_dedx_tof |   pip1_dedx_st |   pip1_ebcal |   pip1_eprebcal |   pip1_efcal |   pip1_bcal_delphi |   pip1_bcal_delz |   pip1_fcal_doca |   km_trkid | km_x4_meas                                                      | km_p4_meas                                                      | km_x4_kin                                                       | km_p4_kin                                                       |   km_pid_fom |   km_beta_time |   km_chisq_time |   km_ndf_time |   km_ndf_trk |   km_chisq_trk |   km_ndf_dedx |   km_chisq_dedx |   km_dedx_cdc |   km_dedx_fdc |   km_dedx_tof |   km_dedx_st |   km_ebcal |   km_eprebcal |   km_efcal |   km_bcal_delphi |   km_bcal_delz |   km_fcal_doca |   p_trkid | p_x4_meas                                                       | p_p4_meas                                                       | p_x4_kin                                                        | p_p4_kin                                                        |   p_pid_fom |   p_beta_time |   p_chisq_time |   p_ndf_time |   p_ndf_trk |   p_chisq_trk |   p_ndf_dedx |   p_chisq_dedx |   p_dedx_cdc |   p_dedx_fdc |   p_dedx_tof |   p_dedx_st |   p_ebcal |   p_eprebcal |   p_efcal |   p_bcal_delphi |   p_bcal_delz |   p_fcal_doca |   pim_trkid | pim_x4_meas                                                     | pim_p4_meas                                                     | pim_x4_kin                                                      | pim_p4_kin                                                      |   pim_pid_fom |   pim_beta_time |   pim_chisq_time |   pim_ndf_time |   pim_ndf_trk |   pim_chisq_trk |   pim_ndf_dedx |   pim_chisq_dedx |   pim_dedx_cdc |   pim_dedx_fdc |   pim_dedx_tof |   pim_dedx_st |   pim_ebcal |   pim_eprebcal |   pim_efcal |   pim_bcal_delphi |   pim_bcal_delz |   pim_fcal_doca |   pip2_trkid | pip2_x4_meas                                                    | pip2_p4_meas                                                    | pip2_x4_kin                                                     | pip2_p4_kin                                                     |   pip2_pid_fom |   pip2_beta_time |   pip2_chisq_time |   pip2_ndf_time |   pip2_ndf_trk |   pip2_chisq_trk |   pip2_ndf_dedx |   pip2_chisq_dedx |   pip2_dedx_cdc |   pip2_dedx_fdc |   pip2_dedx_tof |   pip2_dedx_st |   pip2_ebcal |   pip2_eprebcal |   pip2_efcal |   pip2_bcal_delphi |   pip2_bcal_delz |   pip2_fcal_doca |   e_beam |   e_beam_measured |    pip1_px |    pip1_py |   pip1_pz |   pip1_E |   pip2_px |    pip2_py |   pip2_pz |   pip2_E |     pim_px |   pim_py |   pim_pz |    pim_E |     km_px |      km_py |   km_pz |    km_E |      p_px |      p_py |     p_pz |     p_E |   pip1_px_measured |   pip1_py_measured |   pip1_pz_measured |   pip1_E_measured |   pip2_px_measured |   pip2_py_measured |   pip2_pz_measured |   pip2_E_measured |   pim_px_measured |   pim_py_measured |   pim_pz_measured |   pim_E_measured |   km_px_measured |   km_py_measured |   km_pz_measured |   km_E_measured |   p_px_measured |   p_py_measured |   p_pz_measured |   p_E_measured |   pathlength_sig |   cos_colin |   vertex_distance |   mand_t |       w |       s |\n",
      "|---:|--------:|----------:|-----------:|--------:|--------:|---------:|---------:|-----------:|-----------:|--------:|--------:|---------:|-----------------:|-----------------:|-----------------:|----------------:|----------------:|----------------:|----------------:|----------------:|---------------:|---------------:|----------:|-----------:|----------:|---------:|---------:|-------------:|-------------:|-------------:|-------------:|------------:|----------:|-----------:|---------:|--------:|--------:|----------:|-----------:|---------:|--------:|--------:|-----------:|-----------:|-----------:|----------:|----------:|-----------:|-----------:|-----------:|----------:|----------:|-------------:|-------------:|-------------:|------------:|----------------------:|----------------------:|----------------------:|-------------:|--------------------:|------------:|----------:|-----------:|----------:|---------:|---------:|--------:|--------:|------:|---------:|-----------:|:---------|------------:|----------:|--------------:|:----------------------------------------------------------------|:----------------------------------------------------------------|:----------------------------------------------------------------|:----------------------------------------------------------------|-------------:|:----------------------------------------------------------------|:----------------------------------------------------------------|:----------------------------------------------------------------|:----------------------------------------------------------------|---------------:|-----------------:|------------------:|----------------:|---------------:|-----------------:|----------------:|------------------:|----------------:|----------------:|----------------:|---------------:|-------------:|----------------:|-------------:|-------------------:|-----------------:|-----------------:|-----------:|:----------------------------------------------------------------|:----------------------------------------------------------------|:----------------------------------------------------------------|:----------------------------------------------------------------|-------------:|---------------:|----------------:|--------------:|-------------:|---------------:|--------------:|----------------:|--------------:|--------------:|--------------:|-------------:|-----------:|--------------:|-----------:|-----------------:|---------------:|---------------:|----------:|:----------------------------------------------------------------|:----------------------------------------------------------------|:----------------------------------------------------------------|:----------------------------------------------------------------|------------:|--------------:|---------------:|-------------:|------------:|--------------:|-------------:|---------------:|-------------:|-------------:|-------------:|------------:|----------:|-------------:|----------:|----------------:|--------------:|--------------:|------------:|:----------------------------------------------------------------|:----------------------------------------------------------------|:----------------------------------------------------------------|:----------------------------------------------------------------|--------------:|----------------:|-----------------:|---------------:|--------------:|----------------:|---------------:|-----------------:|---------------:|---------------:|---------------:|--------------:|------------:|---------------:|------------:|------------------:|----------------:|----------------:|-------------:|:----------------------------------------------------------------|:----------------------------------------------------------------|:----------------------------------------------------------------|:----------------------------------------------------------------|---------------:|-----------------:|------------------:|----------------:|---------------:|-----------------:|----------------:|------------------:|----------------:|----------------:|----------------:|---------------:|-------------:|----------------:|-------------:|-------------------:|-----------------:|-----------------:|---------:|------------------:|-----------:|-----------:|----------:|---------:|----------:|-----------:|----------:|---------:|-----------:|---------:|---------:|---------:|----------:|-----------:|--------:|--------:|----------:|----------:|---------:|--------:|-------------------:|-------------------:|-------------------:|------------------:|-------------------:|-------------------:|-------------------:|------------------:|------------------:|------------------:|------------------:|-----------------:|-----------------:|-----------------:|-----------------:|----------------:|----------------:|----------------:|----------------:|---------------:|-----------------:|------------:|------------------:|---------:|--------:|--------:|\n",
      "|  0 | 6.68648 |  0.201894 |  0.763008  | 6.31875 | 2.0395  | 0.50415  | 0.958014 | -0.536304  |  0.845799  | 2.15404 | 2.42734 | 0.499103 |       -0.573517  |        0.888558  |          2.29819 |         2.58066 |        0.509584 |      0.00583958 |      -0.0493061 |      -0.217657  |     -0.240133  |    0.00782408  | -0.201894 | -0.763008  |   2.09236 |  2.6629  |  1.44572 | -7.09099e-13 | -7.64985e-13 | -2.59348e-13 | -0.000272046 | 0.000272046 |  0.616823 | -0.585708  |  4.97101 | 5.60009 | 2.43444 | -0.65768  |  0.342881  |  2.96035 | 3.76829 | 2.21049 |  -0.616823 |  0.585708  |    3.4401  |   3.74929 |  1.2245   |   0.65768  | -0.342881  |    5.45076 |   5.58109 |  0.942155 |     0.121376 |     0.502918 |      7.6048  |     8.00843 |              0.10637  |              0.54081  |               7.86171 |     0.551172 |           0.0470217 |     2.45649 |  0.201894 |  0.763008  |   6.31875 |  6.68648 |  2.0395  |       2 |       5 | 41280 | 64315169 |          1 | True     |    25.8125  |        10 |             4 | Name: TLorentzVector Title: A four vector with (-,-,-,+) metric | Name: TLorentzVector Title: A four vector with (-,-,-,+) metric | Name: TLorentzVector Title: A four vector with (-,-,-,+) metric | Name: TLorentzVector Title: A four vector with (-,-,-,+) metric |            6 | Name: TLorentzVector Title: A four vector with (-,-,-,+) metric | Name: TLorentzVector Title: A four vector with (-,-,-,+) metric | Name: TLorentzVector Title: A four vector with (-,-,-,+) metric | Name: TLorentzVector Title: A four vector with (-,-,-,+) metric |              0 |        -1.94781  |         0         |               0 |             28 |          15.6139 |               2 |         2.19571   |     1.29154e-06 |     2.14861e-06 |      0          |     0.00527821 |       0      |       0         |     0        |       999          |        999       |       999        |          3 | Name: TLorentzVector Title: A four vector with (-,-,-,+) metric | Name: TLorentzVector Title: A four vector with (-,-,-,+) metric | Name: TLorentzVector Title: A four vector with (-,-,-,+) metric | Name: TLorentzVector Title: A four vector with (-,-,-,+) metric |            0 |       1.00746  |        8.08861  |             2 |           37 |        45.1861 |             2 |       3.23112   |   1.60427e-06 |   2.32756e-06 |    0.00177051 |   0.00206234 |          0 |             0 |   1.12988  |              999 |            999 |       1.74925  |         2 | Name: TLorentzVector Title: A four vector with (-,-,-,+) metric | Name: TLorentzVector Title: A four vector with (-,-,-,+) metric | Name: TLorentzVector Title: A four vector with (-,-,-,+) metric | Name: TLorentzVector Title: A four vector with (-,-,-,+) metric |           0 |      0.666285 |    1.21104     |            1 |          17 |       61.9506 |            1 |       0.207151 |  2.66084e-06 |            0 |            0 |  0.0121118  |  0.428944 |    0.0411136 |         0 |     -0.00119416 |     -0.746466 |           999 |           5 | Name: TLorentzVector Title: A four vector with (-,-,-,+) metric | Name: TLorentzVector Title: A four vector with (-,-,-,+) metric | Name: TLorentzVector Title: A four vector with (-,-,-,+) metric | Name: TLorentzVector Title: A four vector with (-,-,-,+) metric |             0 |        1.04892  |         2.58855  |              1 |             1 |        0.440851 |              1 |      0.000276382 |    1.79624e-06 |    2.15416e-06 |     0          |   0.00273128  |    0        |      0         |    0.25594  |      999          |       999       |         2.46579 |            1 | Name: TLorentzVector Title: A four vector with (-,-,-,+) metric | Name: TLorentzVector Title: A four vector with (-,-,-,+) metric | Name: TLorentzVector Title: A four vector with (-,-,-,+) metric | Name: TLorentzVector Title: A four vector with (-,-,-,+) metric |              0 |         0.93411  |         1.45496   |               1 |             13 |          52.5111 |               1 |         16.4294   |     3.12357e-06 |     0           |      0          |     0.00631439 |     0.811591 |       0.0271318 |     0        |        -0.0048672  |         0.350474 |        999       |  8.41111 |           8.41111 | -0.0805183 | -0.26009   |   1.28605 |  1.32195 | -0.457898 |  0.681948  |  1.30791  | 1.55075  | -0.0784062 | 0.163851 | 0.846129 | 0.87659  |  0.738199 | -0.0827905 | 4.1647  | 4.25914 | -0.121376 | -0.502918 | 0.806308 | 1.34095 |         -0.0820036 |         -0.263429  |            1.28553 |           1.32219 |          -0.460091 |         0.706253   |           1.34294  |          1.59168  |        -0.113426  |          0.182305 |          0.95525  |         0.988981 |         0.76189  |       -0.0843189 |          4.27799 |         4.37407 |       -0.112209 |       -0.491504 |        0.767057 |        1.31259 |          8.09824 |   -0.983459 |           1.95343 | 0.702428 | 4.08218 | 16.6642 |\n",
      "|  1 | 6.11761 | -0.759414 |  0.0992218 | 5.96876 | 1.10113 | 0.444586 | 0.579945 | -0.623558  | -0.0111428 | 2.98875 | 3.09192 | 0.488238 |       -0.620533  |       -0.0191496 |          2.9875  |         3.09058 |        0.491016 |     -0.003551   |       0.0202594 |      -0.0384804 |     -0.0322702 |   -0.000862427 |  0.759414 | -0.0992218 |   2.44235 |  3.23178 |  1.973   | -1.66561e-12 | -1.7531e-12  |  2.93099e-14 | -0.000272046 | 0.000272046 |  0.144212 | -0.219746  |  3.36591 | 4.12873 | 2.37653 | -0.343489 | -0.341253  |  3.37466 | 4.19495 | 2.44436 |  -0.144212 |  0.219746  |    5.0452  |   5.22066 |  1.31612  |   0.343489 |  0.341253  |    5.03645 |   5.15443 |  0.983788 |    -0.280069 |     0.33011  |      8.0252  |     8.24635 |             -0.281569 |              0.320862 |               8.04814 |     0.426888 |          -0.0176984 |     1.84687 | -0.759414 |  0.0992218 |   5.96876 |  6.11761 |  1.10113 |       2 |       3 | 41280 | 64439288 |          5 | True     |     3.62985 |        10 |             3 | Name: TLorentzVector Title: A four vector with (-,-,-,+) metric | Name: TLorentzVector Title: A four vector with (-,-,-,+) metric | Name: TLorentzVector Title: A four vector with (-,-,-,+) metric | Name: TLorentzVector Title: A four vector with (-,-,-,+) metric |            2 | Name: TLorentzVector Title: A four vector with (-,-,-,+) metric | Name: TLorentzVector Title: A four vector with (-,-,-,+) metric | Name: TLorentzVector Title: A four vector with (-,-,-,+) metric | Name: TLorentzVector Title: A four vector with (-,-,-,+) metric |              0 |         1.02042  |         0.839444  |               1 |             23 |          63.0238 |               2 |         1.38063   |     1.43091e-06 |     2.00666e-06 |      0          |     0.00155526 |       1.1117 |       0.0595235 |     0        |         0.00191325 |          1.54641 |       999        |          5 | Name: TLorentzVector Title: A four vector with (-,-,-,+) metric | Name: TLorentzVector Title: A four vector with (-,-,-,+) metric | Name: TLorentzVector Title: A four vector with (-,-,-,+) metric | Name: TLorentzVector Title: A four vector with (-,-,-,+) metric |            0 |       0.976352 |        1.7655   |             2 |           27 |        20.0688 |             1 |       0.0275403 |   0           |   1.59891e-06 |    0.0016369  |   0          |          0 |             0 |   0.418889 |              999 |            999 |       1.39138  |         3 | Name: TLorentzVector Title: A four vector with (-,-,-,+) metric | Name: TLorentzVector Title: A four vector with (-,-,-,+) metric | Name: TLorentzVector Title: A four vector with (-,-,-,+) metric | Name: TLorentzVector Title: A four vector with (-,-,-,+) metric |           0 |      0.52545  |    0.000990793 |            1 |          21 |       28.6484 |            1 |       1.12012  |  5.32738e-06 |            0 |            0 |  0.00625862 |  0.114317 |    0.068947  |         0 |      0.00108366 |      0.744296 |           999 |           4 | Name: TLorentzVector Title: A four vector with (-,-,-,+) metric | Name: TLorentzVector Title: A four vector with (-,-,-,+) metric | Name: TLorentzVector Title: A four vector with (-,-,-,+) metric | Name: TLorentzVector Title: A four vector with (-,-,-,+) metric |             0 |        0.984236 |         0.240199 |              2 |            15 |       40.0975   |              1 |      0.115403    |    8.7226e-07  |    2.01448e-06 |     0.00139771 |   0.000375331 |    0        |      0         |    0.562201 |      999          |       999       |         1.93452 |            1 | Name: TLorentzVector Title: A four vector with (-,-,-,+) metric | Name: TLorentzVector Title: A four vector with (-,-,-,+) metric | Name: TLorentzVector Title: A four vector with (-,-,-,+) metric | Name: TLorentzVector Title: A four vector with (-,-,-,+) metric |              0 |         1.0051   |         0.0784768 |               1 |             16 |          42.0761 |               2 |          0.24646  |     1.83182e-06 |     1.93741e-06 |      0          |     0.00267129 |     1.45413  |       0.0950133 |     0        |         0.00315213 |         1.53949  |        999       |  8.41111 |           8.41111 |  0.479345  |  0.230888  |   2.05645 |  2.12874 | -0.569183 | -0.123511  |  2.10487  | 2.18842  | -0.0543745 | 0.112368 | 0.883883 | 0.9035   | -0.135857 |  0.110365  | 2.98001 | 3.02569 |  0.280069 | -0.33011  | 0.385908 | 1.10304 |          0.47702   |          0.229598  |            2.04595 |           2.11794 |          -0.570611 |        -0.128341   |           2.11169  |          2.19563  |        -0.0499221 |          0.109191 |          0.875808 |         0.894949 |        -0.138056 |        0.110413  |          3.01469 |         3.05995 |        0.28512  |       -0.341121 |        0.401451 |        1.11318 |          5.32051 |    0.999789 |           5.53495 | 0.328227 | 4.08218 | 16.6642 |\n",
      "|  2 | 5.68753 |  0.100908 | -0.277678  | 5.52798 | 1.30469 | 0.439988 | 0.547394 |  0.431142  |  0.0343693 | 3.18511 | 3.25049 | 0.483424 |        0.450892  |        0.0444686 |          3.23588 |         3.30317 |        0.484466 |     -0.0204656  |      -0.0016854 |      -0.129073  |     -0.131332  |    0.000166589 | -0.100908 |  0.277678  |   2.44389 |  3.2226  |  2.07974 | -2.49015e-10 |  1.24899e-10 | -2.32747e-12 | -0.000272046 | 0.000272046 | -0.604837 |  0.0366348 |  2.66326 | 3.52332 | 2.22567 |  0.156539 |  0.383051  |  3.50551 | 4.33677 | 2.51947 |   0.604837 | -0.0366348 |    5.3086  |   5.38682 |  0.685142 |  -0.156539 | -0.383051  |    4.46635 |   4.57337 |  0.892266 |     0.274603 |    -0.348682 |      7.65146 |     7.82386 |              0.294426 |             -0.342604 |               7.78295 |     0.451735 |           0.0117465 |     1.5719  |  0.100908 | -0.277678  |   5.52798 |  5.68753 |  1.30469 |       2 |       2 | 41280 | 64480166 |          1 | True     |     8.31828 |        10 |             3 | Name: TLorentzVector Title: A four vector with (-,-,-,+) metric | Name: TLorentzVector Title: A four vector with (-,-,-,+) metric | Name: TLorentzVector Title: A four vector with (-,-,-,+) metric | Name: TLorentzVector Title: A four vector with (-,-,-,+) metric |            4 | Name: TLorentzVector Title: A four vector with (-,-,-,+) metric | Name: TLorentzVector Title: A four vector with (-,-,-,+) metric | Name: TLorentzVector Title: A four vector with (-,-,-,+) metric | Name: TLorentzVector Title: A four vector with (-,-,-,+) metric |              0 |         0.991191 |         1.968     |               2 |             31 |         133.893  |               1 |         1.06359   |     0           |     1.61837e-06 |      0.00148525 |     0.00191137 |       0      |       0         |     0.404615 |       999          |        999       |         1.14394  |          6 | Name: TLorentzVector Title: A four vector with (-,-,-,+) metric | Name: TLorentzVector Title: A four vector with (-,-,-,+) metric | Name: TLorentzVector Title: A four vector with (-,-,-,+) metric | Name: TLorentzVector Title: A four vector with (-,-,-,+) metric |            0 |       1.74337  |        0        |             0 |           26 |        91.3195 |             1 |       1.00647   |   1.1793e-06  |   2.27392e-06 |    0          |   0.00312829 |          0 |             0 |   0        |              999 |            999 |     999        |         2 | Name: TLorentzVector Title: A four vector with (-,-,-,+) metric | Name: TLorentzVector Title: A four vector with (-,-,-,+) metric | Name: TLorentzVector Title: A four vector with (-,-,-,+) metric | Name: TLorentzVector Title: A four vector with (-,-,-,+) metric |           0 |      0.526751 |    2.82703     |            1 |          21 |       28.3614 |            1 |       5.60117  |  5.80755e-06 |            0 |            0 |  0.00612337 |  0.110661 |    0.101427  |         0 |      0.0120472  |      2.17681  |           999 |           3 | Name: TLorentzVector Title: A four vector with (-,-,-,+) metric | Name: TLorentzVector Title: A four vector with (-,-,-,+) metric | Name: TLorentzVector Title: A four vector with (-,-,-,+) metric | Name: TLorentzVector Title: A four vector with (-,-,-,+) metric |             0 |        0.994657 |         9.12498  |              2 |            20 |       17.6726   |              2 |      0.200494    |    1.6138e-06  |    2.27283e-06 |     0.00120433 |   0.00382352  |    0        |      0         |    0.395169 |      999          |       999       |         1.12991 |            5 | Name: TLorentzVector Title: A four vector with (-,-,-,+) metric | Name: TLorentzVector Title: A four vector with (-,-,-,+) metric | Name: TLorentzVector Title: A four vector with (-,-,-,+) metric | Name: TLorentzVector Title: A four vector with (-,-,-,+) metric |              0 |         1.04318  |        40.0894    |               2 |             35 |          61.3842 |               2 |         11.447    |     2.8795e-06  |     1.9922e-06  |      0.00097442 |     0.00410282 |     0        |       0         |     0.49645  |       999          |       999        |          1.23898 |  7.97186 |           7.97186 |  0.173695  | -0.0710041 |   2.12349 |  2.13633 |  0.371072 | -0.127696  |  2.33353  | 2.37041  |  0.0600705 | 0.162066 | 0.851578 | 0.880079 | -0.330234 | -0.312047  | 2.34287 | 2.43704 | -0.274603 |  0.348682 | 0.320398 | 1.08628 |          0.178172  |         -0.0715967 |            2.18186 |           2.19473 |           0.383041 |        -0.121816   |           2.37116  |          2.40903  |         0.0678509 |          0.166284 |          0.864717 |         0.894131 |        -0.334638 |       -0.315476  |          2.36521 |         2.45957 |       -0.27396  |        0.34429  |        0.317983 |        1.084   |         30.4379  |    0.999927 |          28.8857  | 0.273466 | 3.97994 | 15.8399 |\n",
      "|  3 | 7.33697 | -0.472953 |  0.304642  | 7.23166 | 1.10351 | 0.467728 | 0.522439 | -0.0350902 |  0.175144  | 2.22228 | 2.28266 | 0.489982 |       -0.0354356 |        0.157387  |          2.21188 |         2.27098 |        0.488752 |      0.0201761  |       0.0308309 |      -0.270163  |     -0.268476  |   -0.00226631  |  0.472953 | -0.304642  |   2.90936 |  3.74232 |  2.28563 | -3.32623e-13 |  3.04479e-13 | -2.01617e-13 | -0.000272046 | 0.000272046 | -0.162049 | -0.235286  |  5.26197 | 6.12823 | 3.12814 |  0.240724 | -0.189641  |  2.47487 | 3.35658 | 2.24671 |   0.162049 |  0.235286  |    4.87905 |   4.95107 |  0.791365 |  -0.240724 |  0.189641  |    7.66615 |   7.72272 |  0.881273 |    -0.275814 |     0.364784 |      9.88843 |    10.0054  |             -0.303442 |              0.341365 |              10.1523  |     0.456735 |          -0.0109927 |     1.45512 | -0.472953 |  0.304642  |   7.23166 |  7.33697 |  1.10351 |       4 |       2 | 41280 | 78167498 |          1 | True     |    17.1548  |        10 |             3 | Name: TLorentzVector Title: A four vector with (-,-,-,+) metric | Name: TLorentzVector Title: A four vector with (-,-,-,+) metric | Name: TLorentzVector Title: A four vector with (-,-,-,+) metric | Name: TLorentzVector Title: A four vector with (-,-,-,+) metric |            5 | Name: TLorentzVector Title: A four vector with (-,-,-,+) metric | Name: TLorentzVector Title: A four vector with (-,-,-,+) metric | Name: TLorentzVector Title: A four vector with (-,-,-,+) metric | Name: TLorentzVector Title: A four vector with (-,-,-,+) metric |              0 |         1.01057  |         7.46183   |               2 |             27 |          15.489  |               1 |         0.283138  |     0           |     2.58361e-06 |      0.00266504 |     0.00248082 |       0      |       0         |     1.61865  |       999          |        999       |         1.27919  |          4 | Name: TLorentzVector Title: A four vector with (-,-,-,+) metric | Name: TLorentzVector Title: A four vector with (-,-,-,+) metric | Name: TLorentzVector Title: A four vector with (-,-,-,+) metric | Name: TLorentzVector Title: A four vector with (-,-,-,+) metric |            0 |       0.996152 |        0.981432 |             2 |           35 |        62.768  |             1 |       0.014818  |   0           |   1.65813e-06 |    0.00120321 |   0.00185228 |          0 |             0 |   1.08589  |              999 |            999 |       0.797232 |         3 | Name: TLorentzVector Title: A four vector with (-,-,-,+) metric | Name: TLorentzVector Title: A four vector with (-,-,-,+) metric | Name: TLorentzVector Title: A four vector with (-,-,-,+) metric | Name: TLorentzVector Title: A four vector with (-,-,-,+) metric |           0 |      0.469345 |    0.120366    |            1 |          20 |       13.1312 |            1 |       2.06527  |  6.72056e-06 |            0 |            0 |  0.00617341 |  0.220225 |    0.127712  |         0 |     -0.0020428  |      0.2295   |           999 |           6 | Name: TLorentzVector Title: A four vector with (-,-,-,+) metric | Name: TLorentzVector Title: A four vector with (-,-,-,+) metric | Name: TLorentzVector Title: A four vector with (-,-,-,+) metric | Name: TLorentzVector Title: A four vector with (-,-,-,+) metric |             0 |        0.986128 |         4.77312  |              2 |            22 |       29.9992   |              1 |      0.522107    |    0           |    1.78211e-06 |     0.00160243 |   0.00236119  |    0        |      0         |    0.657212 |      999          |       999       |         1.1475  |            1 | Name: TLorentzVector Title: A four vector with (-,-,-,+) metric | Name: TLorentzVector Title: A four vector with (-,-,-,+) metric | Name: TLorentzVector Title: A four vector with (-,-,-,+) metric | Name: TLorentzVector Title: A four vector with (-,-,-,+) metric |              0 |         0.958992 |         5.18596   |               2 |             13 |          57.8548 |               2 |          0.829854 |     1.52465e-06 |     1.78541e-06 |      0.00163875 |     0.00288561 |     0        |       0         |     0.429952 |       999          |       999        |          3.25646 | 10.141   |          10.141   |  0.19714   |  0.0601427 |   2.65677 |  2.66841 | -0.187198 |  0.0176198 |  0.693192 | 0.731676 |  0.152108  | 0.157524 | 1.52909  | 1.55098  | -0.437863 |  0.129498  | 5.00938 | 5.05432 |  0.275814 | -0.364784 | 0.252591 | 1.07392 |          0.197261  |          0.061325  |            2.66934 |           2.68096 |          -0.184651 |         0.0062836  |           0.684659 |          0.722754 |         0.149216  |          0.151103 |          1.52722  |         1.54822  |        -0.465267 |        0.122654  |          5.27107 |         5.31595 |        0.283265 |       -0.372196 |        0.258898 |        1.07989 |         15.4743  |    0.999905 |          17.4741  | 0.265743 | 4.46211 | 19.9104 |\n",
      "|  4 | 5.72566 | -0.590412 |  0.256065  | 5.56961 | 1.1612  | 0.445824 | 0.573386 | -0.375641  |  0.160506  | 1.78482 | 1.90156 | 0.513337 |       -0.374248  |        0.160797  |          1.78937 |         1.90564 |        0.513509 |      0.0244159  |      -0.0130492 |      -0.190896  |     -0.19112   |   -0.000680946 |  0.590412 | -0.256065  |   1.74656 |  2.52879 |  1.71177 |  4.85723e-15 | -2.32869e-14 | -1.20792e-13 | -0.000272046 | 0.000272046 |  0.23191  | -0.0276617 |  4.12253 | 4.9237  | 2.68197 |  0.071039 |  0.0372853 |  2.12255 | 3.00117 | 2.12022 |  -0.23191  |  0.0276617 |    3.19364 |   3.33075 |  0.916526 |  -0.071039 | -0.0372853 |    5.19363 |   5.25328 |  0.785344 |    -0.44668  |     0.123221 |      6.97844 |     7.15484 |             -0.455878 |              0.125299 |               7.18189 |     0.472784 |           0.0269593 |     1.50946 | -0.590412 |  0.256065  |   5.56961 |  5.72566 |  1.1612  |       1 |       2 | 41280 | 78390537 |          1 | True     |    12.3466  |        10 |             2 | Name: TLorentzVector Title: A four vector with (-,-,-,+) metric | Name: TLorentzVector Title: A four vector with (-,-,-,+) metric | Name: TLorentzVector Title: A four vector with (-,-,-,+) metric | Name: TLorentzVector Title: A four vector with (-,-,-,+) metric |            1 | Name: TLorentzVector Title: A four vector with (-,-,-,+) metric | Name: TLorentzVector Title: A four vector with (-,-,-,+) metric | Name: TLorentzVector Title: A four vector with (-,-,-,+) metric | Name: TLorentzVector Title: A four vector with (-,-,-,+) metric |              0 |         0.995364 |         0.0785378 |               2 |             29 |          47.9463 |               1 |         0.0847875 |     0           |     2.05223e-06 |      0.00124028 |     0.00246467 |       0      |       0         |     0.489154 |       999          |        999       |         0.532655 |          4 | Name: TLorentzVector Title: A four vector with (-,-,-,+) metric | Name: TLorentzVector Title: A four vector with (-,-,-,+) metric | Name: TLorentzVector Title: A four vector with (-,-,-,+) metric | Name: TLorentzVector Title: A four vector with (-,-,-,+) metric |            0 |       0.976072 |        3.59166  |             2 |           27 |        73.3673 |             1 |       0.0195626 |   0           |   1.78068e-06 |    0.00120095 |   0          |          0 |             0 |   0.434321 |              999 |            999 |       0.517955 |         3 | Name: TLorentzVector Title: A four vector with (-,-,-,+) metric | Name: TLorentzVector Title: A four vector with (-,-,-,+) metric | Name: TLorentzVector Title: A four vector with (-,-,-,+) metric | Name: TLorentzVector Title: A four vector with (-,-,-,+) metric |           0 |      0.469588 |    0.837035    |            1 |          20 |       17.2995 |            1 |       0.208739 |  7.36785e-06 |            0 |            0 |  0.00703461 |  0.180388 |    0.0795381 |         0 |     -0.005793   |     -1.68776  |           999 |           2 | Name: TLorentzVector Title: A four vector with (-,-,-,+) metric | Name: TLorentzVector Title: A four vector with (-,-,-,+) metric | Name: TLorentzVector Title: A four vector with (-,-,-,+) metric | Name: TLorentzVector Title: A four vector with (-,-,-,+) metric |             0 |        0.923701 |         0.597797 |              1 |            20 |       32.8367   |              1 |      0.947984    |    2.12776e-06 |    0           |     0          |   0.00578704  |    0.308017 |      0.0343532 |    0        |        0.00640168 |         2.33545 |       999       |            5 | Name: TLorentzVector Title: A four vector with (-,-,-,+) metric | Name: TLorentzVector Title: A four vector with (-,-,-,+) metric | Name: TLorentzVector Title: A four vector with (-,-,-,+) metric | Name: TLorentzVector Title: A four vector with (-,-,-,+) metric |              0 |         1.05052  |        54.5482    |               2 |             31 |          43.9322 |               1 |          0.160283 |     0           |     2.49275e-06 |      0.00189643 |     0.00219259 |     0        |       0         |     0.164318 |       999          |       999        |          2.0549  |  7.31617 |           7.31617 |  0.143731  | -0.132844  |   1.40883 |  1.42919 | -0.100942 |  0.0163138 |  1.28721  | 1.29879  | -0.2747    | 0.144192 | 0.497602 | 0.602776 | -0.21477  |  0.0955588 | 3.7848  | 3.82409 |  0.44668  | -0.123221 | 0.337735 | 1.0996  |          0.14738   |         -0.13252   |            1.40385 |           1.42462 |          -0.108134 |         0.00514566 |           1.29223  |          1.30425  |        -0.266114  |          0.155651 |          0.497144 |         0.601395 |        -0.22901  |        0.0970224 |          3.98867 |         4.02679 |        0.431462 |       -0.112249 |        0.325181 |        1.08851 |         23.0752  |    0.999401 |          11.0417  | 0.28193  | 3.82223 | 14.6095 |\n"
     ]
    }
   ],
   "source": [
    "print(df_pipkmks.head().to_markdown())"
   ]
  },
  {
   "cell_type": "code",
   "execution_count": 11,
   "metadata": {},
   "outputs": [],
   "source": [
    "df_pipkmks['gamma_cm'] = get_gamma_cm(df_pipkmks['e_beam'], df_pipkmks['s'])\n",
    "df_pipkmks['beta_cm'] = get_beta_cm(df_pipkmks['e_beam'])\n",
    "df_pipkmks['km_cm_p4'] = df_pipkmks.apply(lambda x: get_cm_vector(x['km_E'], x['km_px'], x['km_py'], x['km_pz'], x['e_beam'], x['s']), axis=1)\n",
    "df_pipkmks['pip1_cm_p4'] = df_pipkmks.apply(lambda x: get_cm_vector(x['pip1_E'], x['pip1_px'], x['pip1_py'], x['pip1_pz'], x['e_beam'], x['s']), axis=1)\n",
    "df_pipkmks['ks_cm_p4'] = df_pipkmks.apply(lambda x: get_cm_vector(x['ks_E'], x['ks_px'], x['ks_py'], x['ks_pz'], x['e_beam'], x['s']), axis=1)\n",
    "df_pipkmks['p_cm_p4'] = df_pipkmks.apply(lambda x: get_cm_vector(x['p_E'], x['p_px'], x['p_py'], x['p_pz'], x['e_beam'], x['s']), axis=1)\n",
    "df_pipkmks['beam_cm_p4'] = df_pipkmks.apply(lambda x: get_cm_vector(x['e_beam'], 0, 0, x['e_beam'], x['e_beam'], x['s']), axis=1)\n",
    "df_pipkmks['target_cm_p4'] = df_pipkmks.apply(lambda x: get_cm_vector(0.938272, 0, 0, 0, x['e_beam'], x['s']), axis=1)\n",
    "df_pipkmks['kk_cm_p4'] = df_pipkmks.apply(lambda x: get_cm_vector(x['kk_E'], x['kk_px'], x['kk_py'], x['kk_pz'], x['e_beam'], x['s']), axis=1)"
   ]
  },
  {
   "cell_type": "code",
   "execution_count": 12,
   "metadata": {},
   "outputs": [],
   "source": [
    "df_pipkmks['pipkmks_cm_p4'] = df_pipkmks.apply(lambda x: get_cm_vector(x['pipkmks_E'], x['pipkmks_px'], x['pipkmks_py'], x['pipkmks_pz'], x['e_beam'], x['s']), axis=1)"
   ]
  },
  {
   "cell_type": "code",
   "execution_count": 13,
   "metadata": {},
   "outputs": [],
   "source": [
    "df_pipkmks['kk_rest_p4'] = df_pipkmks.apply(lambda x: get_rest_frame_vec(x['kk_cm_p4'], x['pipkmks_cm_p4'], 1.282), axis=1)"
   ]
  },
  {
   "cell_type": "code",
   "execution_count": 16,
   "metadata": {},
   "outputs": [],
   "source": [
    "df_pipkmks['y_hat'] = df_pipkmks.apply(lambda x: get_y_hat(x['beam_cm_p4'], x['pipkmks_cm_p4']), axis=1)\n",
    "df_pipkmks['z_hat'] = df_pipkmks.apply(lambda x: get_z_hat(x['pipkmks_cm_p4']), axis=1)\n",
    "df_pipkmks['x_hat'] = df_pipkmks.apply(lambda x: get_x_hat(x['y_hat'], x['z_hat']), axis=1)"
   ]
  },
  {
   "cell_type": "code",
   "execution_count": 17,
   "metadata": {},
   "outputs": [],
   "source": [
    "df_pipkmks['kk_helicty_p3'] = df_pipkmks.apply(lambda x: get_helicity_p3(x['kk_rest_p4'], x['x_hat'], x['y_hat'], x['z_hat']), axis=1)"
   ]
  },
  {
   "cell_type": "code",
   "execution_count": 19,
   "metadata": {},
   "outputs": [],
   "source": [
    "df_pipkmks['kk_cos_theta_helicty'] = df_pipkmks.apply(lambda x: cos_theta_helicty(x['kk_helicty_p3']), axis=1)"
   ]
  },
  {
   "cell_type": "code",
   "execution_count": 21,
   "metadata": {},
   "outputs": [],
   "source": [
    "df_pipkmks['kk_phi_helicty'] = df_pipkmks.apply(lambda x: phi_helicity(x['kk_helicty_p3']), axis=1)"
   ]
  },
  {
   "cell_type": "code",
   "execution_count": 25,
   "metadata": {},
   "outputs": [],
   "source": [
    "cos_theta_helicty = df_pipkmks.kk_cos_theta_helicty.to_numpy()\n",
    "phi_helicty = df_pipkmks.kk_phi_helicty.to_numpy()"
   ]
  },
  {
   "cell_type": "code",
   "execution_count": 26,
   "metadata": {},
   "outputs": [],
   "source": [
    "rdf_helicty = ROOT.RDF.MakeNumpyDataFrame({'cos_theta_helicty': cos_theta_helicty, 'phi_helicty': phi_helicty})"
   ]
  },
  {
   "cell_type": "code",
   "execution_count": 31,
   "metadata": {},
   "outputs": [],
   "source": [
    "hist_cos_theta = rdf_helicty.Histo1D(('cos_theta_helicty', 'cos_theta_helicty', 220, -1.1, 1.1), 'cos_theta_helicty')"
   ]
  },
  {
   "cell_type": "code",
   "execution_count": 32,
   "metadata": {},
   "outputs": [
    {
     "data": {
      "image/png": "[encoded data removed]",
      "text/plain": [
       "<IPython.core.display.Image object>"
      ]
     },
     "metadata": {},
     "output_type": "display_data"
    }
   ],
   "source": [
    "c = ROOT.TCanvas()\n",
    "hist_cos_theta.Draw()\n",
    "c.Draw()"
   ]
  }
 ],
 "metadata": {
  "kernelspec": {
   "display_name": "Python 3",
   "language": "python",
   "name": "python3"
  },
  "language_info": {
   "codemirror_mode": {
    "name": "ipython",
    "version": 3
   },
   "file_extension": ".py",
   "mimetype": "text/x-python",
   "name": "python",
   "nbconvert_exporter": "python",
   "pygments_lexer": "ipython3",
   "version": "3.6.8"
  },
  "orig_nbformat": 4
 },
 "nbformat": 4,
 "nbformat_minor": 2
}
