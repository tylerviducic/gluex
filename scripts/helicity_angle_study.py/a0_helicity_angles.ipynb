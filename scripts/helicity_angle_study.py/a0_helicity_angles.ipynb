{
 "cells": [
  {
   "cell_type": "markdown",
   "metadata": {},
   "source": [
    "# Notebook to plot the helicity angles of $a_{0}$"
   ]
  },
  {
   "cell_type": "code",
   "execution_count": 11,
   "metadata": {},
   "outputs": [],
   "source": [
    "import ROOT\n",
    "import numpy as np\n",
    "import my_library.common_analysis_tools as ct\n",
    "import my_library.constants as constants\n",
    "import my_library.kinematic_cuts as kcuts\n",
    "import pandas as pd"
   ]
  },
  {
   "cell_type": "code",
   "execution_count": null,
   "metadata": {},
   "outputs": [],
   "source": [
    "def get_gamma_cm(ey: float, s: float) -> float:\n",
    "    # type: (float, float) -> float\n",
    "    return (ey + 0.938272)/np.sqrt(s)\n",
    "# def get_gamma_cm(ey, s):\n",
    "#     return (ey + 0.938272)/np.sqrt(s)\n",
    "\n",
    "def get_beta_cm(ey: float) -> float:\n",
    "    return ey/(ey + 0.938272)\n",
    "\n",
    "\n",
    "def get_beta(p: float, e: float) -> float:\n",
    "    return p/e\n",
    "\n",
    "\n",
    "def get_gamma(e: float, m: float) -> float:\n",
    "    return e/m\n"
   ]
  },
  {
   "cell_type": "code",
   "execution_count": null,
   "metadata": {},
   "outputs": [],
   "source": [
    "def get_cm_vector(e: float, px: float, py: float, pz: float, ey: float, s: float):\n",
    "    gamma = get_gamma_cm(ey, s)\n",
    "    beta = get_beta_cm(ey)\n",
    "    vec_cm_rotaton = np.array([[gamma, 0, 0, -1*beta*gamma],\n",
    "                     [0, 1, 0, 0],\n",
    "                     [0, 0, 1, 0],\n",
    "                     [-1*beta*gamma, 0, 0, gamma]])\n",
    "    vec_lab = np.array([e, px, py, pz]).reshape(4,1)\n",
    "    return (vec_cm_rotaton @ vec_lab).reshape(1,4)\n"
   ]
  },
  {
   "cell_type": "code",
   "execution_count": null,
   "metadata": {},
   "outputs": [],
   "source": [
    "def get_rest_frame_vec(p4_decay_cm: float, p4_rest_cm: float, m_rest: float):\n",
    "    \"\"\"e in 0th element, px in 1st, py in 2nd, pz in 3rd\"\"\"\n",
    "    beta = get_beta(np.sqrt(p4_rest_cm[1]*p4_rest_cm[1] + p4_rest_cm[2]*p4_rest_cm[2] + p4_rest_cm[3]*p4_rest_cm[3]), p4_rest_cm[0], p4_rest_cm[0])\n",
    "    gamma = get_gamma(p4_rest_cm[0], m_rest)\n",
    "    beta_x = get_beta(p4_rest_cm[1], p4_rest_cm[0])\n",
    "    beta_y = get_beta(p4_rest_cm[2], p4_rest_cm[0])\n",
    "    beta_z = get_beta(p4_rest_cm[3], p4_rest_cm[0])\n",
    "\n",
    "    p4_decay_cm = p4_decay_cm.reshape(-1, 1)\n",
    "\n",
    "    rest_rotation = np.array([[gamma,         -gamma*beta_x,                             -gamma*beta_y,                             -gamma*beta_z                            ],\n",
    "                              [-gamma*beta_x, 1 + (gamma - 1)*beta_x*beta_x/(beta*beta), (gamma - 1)*beta_x*beta_y/(beta*beta),     (gamma - 1)*beta_x*beta_z/(beta*beta)    ],\n",
    "                              [-gamma*beta_y, (gamma - 1)*beta_y*beta_x/(beta*beta),     1 + (gamma - 1)*beta_y*beta_y/(beta*beta), (gamma - 1)*beta_y*beta_z/(beta*beta)    ],\n",
    "                              [-gamma*beta_z, (gamma - 1)*beta_z*beta_x/(beta*beta),     (gamma - 1)*beta_z*beta_y/(beta*beta),     1 + (gamma - 1)*beta_z*beta_z/(beta*beta)]])\n",
    "\n",
    "    return (rest_rotation @ p4_decay_cm).reshape(1, -1)"
   ]
  },
  {
   "cell_type": "code",
   "execution_count": 10,
   "metadata": {},
   "outputs": [],
   "source": [
    "rdf_pipkmks = ct.get_dataframe('pipkmks', 'spring', 'data')\n",
    "np_pipkmks = rdf_pipkmks.AsNumpy()"
   ]
  },
  {
   "cell_type": "code",
   "execution_count": 12,
   "metadata": {},
   "outputs": [],
   "source": [
    "df_pipkmks = pd.DataFrame(np_pipkmks)"
   ]
  }
 ],
 "metadata": {
  "kernelspec": {
   "display_name": "Python 3",
   "language": "python",
   "name": "python3"
  },
  "language_info": {
   "codemirror_mode": {
    "name": "ipython",
    "version": 3
   },
   "file_extension": ".py",
   "mimetype": "text/x-python",
   "name": "python",
   "nbconvert_exporter": "python",
   "pygments_lexer": "ipython3",
   "version": "3.6.8"
  },
  "orig_nbformat": 4
 },
 "nbformat": 4,
 "nbformat_minor": 2
}
