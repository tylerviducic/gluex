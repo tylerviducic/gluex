{
 "cells": [
  {
   "cell_type": "markdown",
   "metadata": {},
   "source": [
    "# Notebook to plot the helicity angles of $a_{0}$"
   ]
  },
  {
   "cell_type": "code",
   "execution_count": 29,
   "metadata": {},
   "outputs": [],
   "source": [
    "import ROOT\n",
    "import numpy as np\n",
    "import my_library.common_analysis_tools as ct\n",
    "import my_library.constants as constants\n",
    "import my_library.kinematic_cuts as kcuts\n",
    "import pandas as pd\n",
    "import my_library.gluex_style"
   ]
  },
  {
   "cell_type": "code",
   "execution_count": 30,
   "metadata": {},
   "outputs": [],
   "source": [
    "# TODO: angle vs cos(thetaH) for K, pi, pi, pi, p\n",
    "# TODO: 2D phi(H) vs cos(thetaH) for KK\n",
    "# TODO: check cut impact on acceptance filter by filter \n"
   ]
  },
  {
   "cell_type": "code",
   "execution_count": 31,
   "metadata": {},
   "outputs": [],
   "source": [
    "def define_a0_helicity(channel, run_period, data_type, thrown=False, filtered=True):\n",
    "    if data_type not in ['signal', 'data', 'phasespace']:\n",
    "        return None\n",
    "\n",
    "    if thrown: filtered=False\n",
    "    df = ct.get_dataframe(channel, run_period, data_type, thrown=thrown, filtered=filtered)\n",
    "\n",
    "    if not thrown:\n",
    "        proton = 'p'\n",
    "        if channel == 'pipkmks':\n",
    "            pion = 'pip1'\n",
    "            kaon = 'km'\n",
    "        else:\n",
    "            pion = 'pim1'\n",
    "            kaon = 'kp'\n",
    "    else: \n",
    "        proton = 'Proton'\n",
    "        if channel == 'pipkmks':\n",
    "            pion = 'PiPlus1'\n",
    "            kaon = 'KMinus'\n",
    "            ks = 'PiPlus2_{0} + PiMinus_{0}'\n",
    "        else:\n",
    "            pion = 'PiMinus1'\n",
    "            kaon = 'KPlus'\n",
    "            ks = 'PiMinus2_{0} + PiPlus_{0}'\n",
    "        df = df.Define('ks_px', ks.format('px'))\n",
    "        df = df.Define('ks_py', ks.format('py'))\n",
    "        df = df.Define('ks_pz', ks.format('pz'))\n",
    "        df = df.Define('ks_E', ks.format('E'))\n",
    "        df = df.Define('ks_m', 'sqrt(ks_E*ks_E - ks_px*ks_px - ks_py*ks_py - ks_pz*ks_pz)')\n",
    "\n",
    "    # define kk \n",
    "    df = df.Define('kk_px', f'{kaon}_px + ks_px')\n",
    "    df = df.Define('kk_py', f'{kaon}_py + ks_py')\n",
    "    df = df.Define('kk_pz', f'{kaon}_pz + ks_pz')\n",
    "    df = df.Define('kk_E', f'{kaon}_E + ks_E')\n",
    "    # define beam/target CM frame\n",
    "    df = df.Define(\"beam_p4\", \"ROOT::Math::PxPyPzEVector(0.0, 0.0, e_beam, e_beam)\")\n",
    "    df = df.Define(\"target_p4\", \"ROOT::Math::PxPyPzEVector(0.0, 0.0, 0.0, 0.938272)\")\n",
    "    # cm_boost_vector is a LorentzVector that would bring the beam/target system to the CM frame\n",
    "    df = df.Define('cm_boost_vector', '(beam_p4 + target_p4).BoostToCM()')\n",
    "    # recoil proton, kkpi, kk, pion lab frame vectors\n",
    "    df = df.Define('p_p4', f'ROOT::Math::PxPyPzEVector({proton}_px, {proton}_py, {proton}_pz, {proton}_E)')\n",
    "    df = df.Define(f'{channel}_p4', f'ROOT::Math::PxPyPzEVector({channel}_px, {channel}_py, {channel}_pz, {channel}_E)')\n",
    "    df = df.Define('kk_p4', 'ROOT::Math::PxPyPzEVector(kk_px, kk_py, kk_pz, kk_E)')\n",
    "    df = df.Define(f'{pion}_p4', f'ROOT::Math::PxPyPzEVector({pion}_px, {pion}_py, {pion}_pz, {pion}_E)')\n",
    "    # boosting to CM framef\n",
    "    df = df.Define('cm_boost', \"ROOT::Math::Boost(cm_boost_vector)\")\n",
    "    df = df.Define('p_p4_cm', 'cm_boost(p_p4)')\n",
    "    df = df.Define(f'{channel}_p4_cm', f'cm_boost({channel}_p4)')\n",
    "    df = df.Define('kk_p4_cm', 'cm_boost(kk_p4)')\n",
    "    df = df.Define(f'{pion}_p4_cm', f'cm_boost({pion}_p4)')\n",
    "    df = df.Define('beam_p4_cm', 'cm_boost(beam_p4)')\n",
    "    df = df.Define('beam_pz_cm', 'beam_p4_cm.Pz()')\n",
    "    df = df.Define('target_p4_cm', 'cm_boost(target_p4)')\n",
    "    df= df.Define('target_pz_cm', 'target_p4_cm.Pz()')\n",
    "    # define f1 rest frame and boost into it\n",
    "    df = df.Define('f1_rest_boost_vector', f'{channel}_p4_cm.BoostToCM()')\n",
    "    df = df.Define('f1_rest_boost', 'ROOT::Math::Boost(f1_rest_boost_vector)')\n",
    "    df = df.Define('kk_p4_rest', 'f1_rest_boost(kk_p4_cm)')\n",
    "    df = df.Define(f'{pion}_p4_rest', f'f1_rest_boost({pion}_p4_cm)')\n",
    "    df = df.Define('p_p4_rest', 'f1_rest_boost(p_p4_cm)')\n",
    "    # define coordinate system\n",
    "    df = df.Define('yhat', f'beam_p4_cm.Vect().Cross({channel}_p4_cm.Vect()).Unit()')\n",
    "    df = df.Define('zhat', '-p_p4_rest.Vect().Unit()')\n",
    "    df = df.Define('xhat', 'yhat.Cross(zhat)')\n",
    "    # get helicity angles \n",
    "    df = df.Define('kk_rest_p3', 'kk_p4_rest.Vect()')\n",
    "    df = df.Define('kk_helicty_p3', 'ROOT::Math::XYZVector(kk_rest_p3.Dot(xhat), kk_rest_p3.Dot(yhat), kk_rest_p3.Dot(zhat))')\n",
    "    df = df.Define('kk_helicity_costheta', 'kk_helicty_p3.Z()/sqrt(kk_helicty_p3.Mag2())')\n",
    "\n",
    "    return df"
   ]
  },
  {
   "cell_type": "code",
   "execution_count": 32,
   "metadata": {},
   "outputs": [],
   "source": [
    "ROOT.EnableImplicitMT(12)\n",
    "ROOT.gStyle.SetOptStat(0)"
   ]
  },
  {
   "cell_type": "code",
   "execution_count": 33,
   "metadata": {},
   "outputs": [],
   "source": [
    "channel = 'pipkmks'\n",
    "# channel = 'pimkpks'\n",
    "run_period = 'fall'\n",
    "\n",
    "if channel == 'pipkmks':\n",
    "    cut = kcuts.KSTAR_ALL_CUT_PIPKMKS\n",
    "elif channel == 'pimkpks':\n",
    "    cut = kcuts.KSTAR_ALL_CUT_PIMKPKS"
   ]
  },
  {
   "cell_type": "code",
   "execution_count": 78,
   "metadata": {},
   "outputs": [],
   "source": [
    "if channel == 'pipkmks':\n",
    "    signal_region = kcuts.F1_SIGNAL_REGION_PIPKMKS\n",
    "else:\n",
    "    signal_region = kcuts.F1_SIGNAL_REGION_PIMKPKS\n",
    "\n",
    "df_data = define_a0_helicity(channel, run_period, 'data').Filter(cut).Filter(signal_region)\n",
    "df_signal = define_a0_helicity(channel, run_period, 'signal').Filter(cut).Filter(signal_region)\n",
    "df_thrown = define_a0_helicity(channel, run_period, 'signal', thrown=True, filtered=False).Filter(signal_region)\n"
   ]
  },
  {
   "cell_type": "code",
   "execution_count": 79,
   "metadata": {},
   "outputs": [
    {
     "data": {
      "text/plain": [
       "34622840"
      ]
     },
     "execution_count": 79,
     "metadata": {},
     "output_type": "execute_result"
    }
   ],
   "source": [
    "# signal_region = f'{channel}_m < 1.35 && {channel}_m > 1.2'\n",
    "x_low, x_high = -1.1, 1.1\n",
    "nbin = int((x_high - x_low)/0.1)\n",
    "\n",
    "hist_full_range_data = df_data.Histo1D(('hist_full_range_data', 'Cos(#Theta_{H}) for 1.2 < M(KK#pi) < 1.35', nbin, x_low, x_high), 'kk_helicity_costheta')#.GetValue()\n",
    "hist_full_range_phasespace = df_signal.Histo1D(('hist_full_range_phasespace', 'hist_full_range_phasespace', nbin, x_low, x_high), 'kk_helicity_costheta')#.GetValue()\n",
    "hist_full_range_thrown = df_thrown.Histo1D(('hist_full_range_thrown', 'hist_full_range_thrown', nbin, x_low, x_high), 'kk_helicity_costheta')#.GetValue()\n",
    "good_acceptance_region = 'kk_helicity_costheta < 0.699999'\n",
    "\n",
    "# df_data = df_data.Filter(good_acceptance_region)\n",
    "# df_signal = df_signal.Filter(good_acceptance_region)\n",
    "# df_thrown = df_thrown.Filter(good_acceptance_region)\n",
    "\n",
    "hist_1285_kk_data = df_data.Filter(good_acceptance_region).Histo1D(('1285_kk_costheta_data', 'Cos(#Theta_{H}^{a0}) for f_{1}(1285) Region', nbin, x_low, x_high), 'kk_helicity_costheta')#.GetValue()\n",
    "hist_1285_kk_phasespace = df_signal.Filter(good_acceptance_region).Histo1D(('1285_kk_costheta_phasespace', '1285_kk_costheta_phasespace', nbin, x_low, x_high), 'kk_helicity_costheta')#.GetValue()\n",
    "hist_1285_kk_thrown = df_thrown.Filter(good_acceptance_region).Histo1D(('1285_kk_costheta_thrown', '1285_kk_costheta_thrown', nbin, x_low, x_high), 'kk_helicity_costheta')#.GetValue()\n",
    "\n",
    "df_data.Count().GetValue()\n",
    "df_signal.Count().GetValue()\n",
    "df_thrown.Count().GetValue()\n"
   ]
  },
  {
   "cell_type": "code",
   "execution_count": 80,
   "metadata": {},
   "outputs": [
    {
     "data": {
      "text/plain": [
       "True"
      ]
     },
     "execution_count": 80,
     "metadata": {},
     "output_type": "execute_result"
    }
   ],
   "source": [
    "hist_full_range_data.Sumw2()\n",
    "hist_full_range_phasespace.Sumw2()\n",
    "hist_full_range_thrown.Sumw2()\n",
    "\n",
    "acceptance_full_range = hist_full_range_phasespace.Clone('acceptance_full_range')\n",
    "acceptance_full_range.Divide(hist_full_range_thrown.GetPtr())\n",
    "\n",
    "hist_full_range_data.Divide(acceptance_full_range)"
   ]
  },
  {
   "cell_type": "code",
   "execution_count": 81,
   "metadata": {},
   "outputs": [
    {
     "name": "stderr",
     "output_type": "stream",
     "text": [
      "Warning in <TCanvas::Constructor>: Deleting canvas with same name: c1\n"
     ]
    }
   ],
   "source": [
    "c1 = ROOT.TCanvas('c1', 'c1', 800, 600)"
   ]
  },
  {
   "cell_type": "code",
   "execution_count": 82,
   "metadata": {},
   "outputs": [
    {
     "data": {
      "image/png": "[encoded data removed]",
      "text/plain": [
       "<IPython.core.display.Image object>"
      ]
     },
     "metadata": {},
     "output_type": "display_data"
    }
   ],
   "source": [
    "c1.Clear()\n",
    "\n",
    "# hist_full_range_data.SetTitle('Cos(#Theta_{H}) for 1.2 < M(KK#pi) < 1.35')\n",
    "hist_full_range_data.GetXaxis().SetTitle('Cos(#Theta_{H}^{a0})')\n",
    "hist_full_range_data.GetYaxis().SetTitle('Counts')\n",
    "hist_full_range_data.GetYaxis().SetTitleOffset(1.4)\n",
    "hist_full_range_data.SetLineColor(ROOT.kBlack)\n",
    "hist_full_range_data.SetMarkerStyle(20)\n",
    "\n",
    "hist_full_range_data.Draw('E1')\n",
    "c1.Update()\n",
    "c1.Draw()"
   ]
  },
  {
   "cell_type": "code",
   "execution_count": 83,
   "metadata": {},
   "outputs": [
    {
     "data": {
      "image/png": "[encoded data removed]",
      "text/plain": [
       "<IPython.core.display.Image object>"
      ]
     },
     "metadata": {},
     "output_type": "display_data"
    }
   ],
   "source": [
    "acceptance_full_range.SetTitle('Acceptance for 1.2 < M(KK#pi) < 1.35')\n",
    "acceptance_full_range.GetXaxis().SetTitle('Cos(#Theta_{H})')\n",
    "acceptance_full_range.GetYaxis().SetTitle('Acceptance')\n",
    "acceptance_full_range.GetYaxis().SetTitleOffset(1.5)\n",
    "\n",
    "acceptance_full_range.Draw('E1')\n",
    "c1.Update()\n",
    "c1.Draw()"
   ]
  },
  {
   "cell_type": "code",
   "execution_count": 84,
   "metadata": {},
   "outputs": [],
   "source": [
    "hist_1285_kk_data.SetLineColor(ROOT.kBlack)\n",
    "hist_1285_kk_phasespace.SetLineColor(ROOT.kRed)\n",
    "hist_1285_kk_thrown.SetLineColor(ROOT.kViolet)"
   ]
  },
  {
   "cell_type": "code",
   "execution_count": 85,
   "metadata": {},
   "outputs": [
    {
     "data": {
      "image/png": "[encoded data removed]",
      "text/plain": [
       "<IPython.core.display.Image object>"
      ]
     },
     "metadata": {},
     "output_type": "display_data"
    }
   ],
   "source": [
    "hist_1285_kk_data.SetMarkerStyle(20)\n",
    "hist_1285_kk_data.Draw('E1')\n",
    "# hist_1285_kk_thrown.Draw('E')\n",
    "# hist_1285_kk_phasespace.Draw('E')\n",
    "c1.Draw()"
   ]
  },
  {
   "cell_type": "code",
   "execution_count": 86,
   "metadata": {},
   "outputs": [
    {
     "name": "stdout",
     "output_type": "stream",
     "text": [
      "bin middle: -0.95 || data: 282.0 || efficiency: 0.029155246173363087 || efficiency corrected: 9672.358735137066\n",
      "bin middle: -0.8500000000000001 || data: 229.0 || efficiency: 0.029383443036452878 || efficiency corrected: 7793.5046521234535\n",
      "bin middle: -0.75 || data: 208.0 || efficiency: 0.029397806293944617 || efficiency corrected: 7075.357865829737\n",
      "bin middle: -0.65 || data: 174.0 || efficiency: 0.02984290142813212 || efficiency corrected: 5830.532276462059\n",
      "bin middle: -0.55 || data: 189.0 || efficiency: 0.030417512608946675 || efficiency corrected: 6213.525820793433\n",
      "bin middle: -0.45 || data: 166.0 || efficiency: 0.03135762231434718 || efficiency corrected: 5293.768715495031\n",
      "bin middle: -0.35000000000000003 || data: 155.0 || efficiency: 0.03219229809877501 || efficiency corrected: 4814.816249663708\n",
      "bin middle: -0.25000000000000006 || data: 127.0 || efficiency: 0.032747443887288084 || efficiency corrected: 3878.165283284871\n",
      "bin middle: -0.15000000000000008 || data: 132.0 || efficiency: 0.03356904017979499 || efficiency corrected: 3932.194644023514\n",
      "bin middle: -0.050000000000000086 || data: 131.0 || efficiency: 0.03393603494252661 || efficiency corrected: 3860.203474620974\n",
      "bin middle: 0.05 || data: 108.0 || efficiency: 0.03452996178438249 || efficiency corrected: 3127.718491969116\n",
      "bin middle: 0.15000000000000008 || data: 151.0 || efficiency: 0.034744776735578825 || efficiency corrected: 4345.976983797258\n",
      "bin middle: 0.24999999999999994 || data: 146.0 || efficiency: 0.0348987597346409 || efficiency corrected: 4183.5297618063705\n",
      "bin middle: 0.35000000000000003 || data: 125.0 || efficiency: 0.03479472526863341 || efficiency corrected: 3592.4985478383537\n",
      "bin middle: 0.4499999999999999 || data: 115.0 || efficiency: 0.03457667183415317 || efficiency corrected: 3325.9418532702307\n",
      "bin middle: 0.55 || data: 143.0 || efficiency: 0.03450393196834092 || efficiency corrected: 4144.4551922722785\n",
      "bin middle: 0.6500000000000001 || data: 146.0 || efficiency: 0.032595360459500185 || efficiency corrected: 4479.165069562749\n"
     ]
    },
    {
     "data": {
      "text/plain": [
       "True"
      ]
     },
     "execution_count": 86,
     "metadata": {},
     "output_type": "execute_result"
    }
   ],
   "source": [
    "hist_1285_kk_data.Sumw2()\n",
    "hist_1285_kk_phasespace.Sumw2()\n",
    "hist_1285_kk_thrown.Sumw2()\n",
    "\n",
    "acceptance = hist_1285_kk_phasespace.Clone('acceptance')\n",
    "acceptance.Divide(hist_1285_kk_thrown.GetPtr())\n",
    "\n",
    "for i in range(2, hist_1285_kk_data.GetNbinsX()):\n",
    "    if hist_1285_kk_data.GetBinContent(i) <= 0:\n",
    "        continue\n",
    "    print(f'bin middle: {hist_1285_kk_data.GetBinCenter(i)} || data: {hist_1285_kk_data.GetBinContent(i)} || efficiency: {acceptance.GetBinContent(i)} || efficiency corrected: {hist_1285_kk_data.GetBinContent(i)/acceptance.GetBinContent(i)}')\n",
    "\n",
    "hist_1285_kk_data.Divide(acceptance)\n"
   ]
  },
  {
   "cell_type": "code",
   "execution_count": 87,
   "metadata": {},
   "outputs": [
    {
     "data": {
      "image/png": "[encoded data removed]",
      "text/plain": [
       "<IPython.core.display.Image object>"
      ]
     },
     "metadata": {},
     "output_type": "display_data"
    }
   ],
   "source": [
    "acceptance.Draw('E1')\n",
    "c1.Draw()"
   ]
  },
  {
   "cell_type": "code",
   "execution_count": 88,
   "metadata": {},
   "outputs": [
    {
     "data": {
      "image/png": "[encoded data removed]",
      "text/plain": [
       "<IPython.core.display.Image object>"
      ]
     },
     "metadata": {},
     "output_type": "display_data"
    }
   ],
   "source": [
    "hist_1285_kk_data.Draw(\"E1\")\n",
    "c1.Draw()"
   ]
  },
  {
   "cell_type": "code",
   "execution_count": 89,
   "metadata": {},
   "outputs": [],
   "source": [
    "func_eta = ROOT.TF1(\"func_eta\", \"[0]\", -1, 1)\n",
    "func_f1 = ROOT.TF1(\"func_f1\", \"[0]*cos(x)*cos(x) + [1]*sin(x)*sin(x)\", -1, 1)\n",
    "\n",
    "func_eta.SetLineColor(ROOT.TColor.GetColor(constants.COLORBLIND_HEX_DICT['red']))\n",
    "func_f1.SetLineColor(ROOT.TColor.GetColor(constants.COLORBLIND_HEX_DICT['blue']))\n",
    "\n",
    "\n",
    "# func_eta.SetParameter(0, 600)\n",
    "# func_f1.SetParameter(0, -600)\n",
    "# func_f1.SetParameter(1, 200)"
   ]
  },
  {
   "cell_type": "code",
   "execution_count": 90,
   "metadata": {},
   "outputs": [
    {
     "data": {
      "text/plain": [
       "<cppyy.gbl.TFitResultPtr object at 0x15afbe90>"
      ]
     },
     "execution_count": 90,
     "metadata": {},
     "output_type": "execute_result"
    },
    {
     "name": "stdout",
     "output_type": "stream",
     "text": [
      " FCN=230.719 FROM MIGRAD    STATUS=CONVERGED      12 CALLS          13 TOTAL\n",
      "                     EDM=2.86132e-12    STRATEGY= 1      ERROR MATRIX ACCURATE \n",
      "  EXT PARAMETER                                   STEP         FIRST   \n",
      "  NO.   NAME      VALUE            ERROR          SIZE      DERIVATIVE \n",
      "   1  p0           4.51411e+03   9.05109e+01   6.72575e-01  -2.64300e-08\n",
      " FCN=78.2249 FROM MIGRAD    STATUS=CONVERGED      32 CALLS          33 TOTAL\n",
      "                     EDM=7.88706e-21    STRATEGY= 1      ERROR MATRIX ACCURATE \n",
      "  EXT PARAMETER                                   STEP         FIRST   \n",
      "  NO.   NAME      VALUE            ERROR          SIZE      DERIVATIVE \n",
      "   1  p0           3.39203e+03   1.28252e+02   4.63744e-01   1.07253e-12\n",
      "   2  p1           1.00428e+04   4.56768e+02   1.64834e+00   2.80193e-13\n"
     ]
    }
   ],
   "source": [
    "hist_1285_kk_data.Fit(func_eta, \"BS+\")\n",
    "hist_1285_kk_data.Fit(func_f1, \"BS+\")"
   ]
  },
  {
   "cell_type": "code",
   "execution_count": 91,
   "metadata": {},
   "outputs": [
    {
     "name": "stdout",
     "output_type": "stream",
     "text": [
      "chi2 per ndf for eta: 14.419956920401829\n",
      "chi2 per ndf for f1: 5.214992429482956\n"
     ]
    }
   ],
   "source": [
    "chi2_per_ndf_eta = func_eta.GetChisquare()/func_eta.GetNDF()\n",
    "chi2_per_ndf_f1 = func_f1.GetChisquare()/func_f1.GetNDF()\n",
    "\n",
    "print(f'chi2 per ndf for eta: {chi2_per_ndf_eta}')\n",
    "print(f'chi2 per ndf for f1: {chi2_per_ndf_f1}')"
   ]
  },
  {
   "cell_type": "code",
   "execution_count": 92,
   "metadata": {},
   "outputs": [
    {
     "data": {
      "image/png": "[encoded data removed]",
      "text/plain": [
       "<IPython.core.display.Image object>"
      ]
     },
     "metadata": {},
     "output_type": "display_data"
    }
   ],
   "source": [
    "hist_1285_kk_data.GetXaxis().SetTitle('Cos(#Theta_{H}^{a0})')\n",
    "hist_1285_kk_data.GetYaxis().SetTitle('Counts')\n",
    "hist_1285_kk_data.GetYaxis().SetTitleOffset(1.5)\n",
    "hist_1285_kk_data.SetMarkerStyle(20)\n",
    "hist_1285_kk_data.Draw(\"E1\")\n",
    "\n",
    "legend = ROOT.TLegend(0.7, 0.15, 0.9, 0.35)\n",
    "legend.AddEntry(hist_1285_kk_data.GetPtr(), 'Data', 'p')\n",
    "legend.AddEntry(func_eta, '0^{-+} (#eta) Hypothesis', 'l')\n",
    "legend.AddEntry(func_f1, '1^{++} (f_{1}) Hypothesis', 'l')\n",
    "\n",
    "if channel == 'pipkmks':\n",
    "    final_state_str = 'Final State: K^{-}K_{s}#pi^{+}'\n",
    "else:\n",
    "    final_state_str = 'Final State: K^{+}K_{s}#pi^{-}'\n",
    "    \n",
    "\n",
    "hel_fit_latex = ROOT.TLatex()\n",
    "hel_fit_latex.SetTextSize(0.06)\n",
    "hel_fit_latex.DrawLatexNDC(0.3, 0.875, final_state_str )\n",
    "hel_fit_latex.DrawLatexNDC(0.3, 0.8, '1^{++} #chi^{2}/ndf = ' + '{:.2f}'.format(chi2_per_ndf_f1))\n",
    "hel_fit_latex.DrawLatexNDC(0.3, 0.725, '0^{-+} #chi^{2}/ndf = ' + '{:.2f}'.format(chi2_per_ndf_eta))\n",
    "legend.Draw()\n",
    "\n",
    "c1.Draw()"
   ]
  },
  {
   "cell_type": "code",
   "execution_count": 93,
   "metadata": {},
   "outputs": [],
   "source": [
    "# hist2d = df_data.Filter(f'{channel}_m < 1.4 && {channel}_m > 1.1').Histo2D(('costheta-kk_vs_kkpi', 'Cos(#Theta^{H}_{KK}) vs M(KK#pi)', 50, 1.1, 1.4, 25, -1.1, 1.1), f'{channel}_m', 'kk_helicity_costheta').GetValue()"
   ]
  },
  {
   "cell_type": "code",
   "execution_count": 94,
   "metadata": {},
   "outputs": [],
   "source": [
    "# hist2d.Draw('COLZ')\n",
    "# c1.Draw()"
   ]
  },
  {
   "cell_type": "code",
   "execution_count": 95,
   "metadata": {},
   "outputs": [],
   "source": [
    "# hist_signal_costhets = df_signal.Filter(f'{channel}_m < 1.35 && {channel}_m > 1.24').Histo1D(('costheta-kk_signal', 'Cos(#Theta^{H}_{KK})', 25, -1.1, 1.1), 'kk_helicity_costheta')\n",
    "# hist_signal_kkpi = df_signal.Filter(f'{channel}_m < 1.35 && {channel}_m > 1.24').Histo1D(('kkpi_signal', 'M(KK#pi)', 50, 1.24, 1.35), f'{channel}_m')\n",
    "# hist_signal_2d = df_signal.Filter(f'{channel}_m < 1.4 && {channel}_m > 1.1').Histo2D(('costheta-kk_vs_kkpi', 'Cos(#Theta^{H}_{KK}) vs M(KK#pi)', 50, 1.1, 1.4, 25, -1.1, 1.1), f'{channel}_m', 'kk_helicity_costheta').GetValue()"
   ]
  },
  {
   "cell_type": "code",
   "execution_count": 96,
   "metadata": {},
   "outputs": [],
   "source": [
    "# hist_thrown_costhets = df_thrown.Filter(f'{channel}_m < 1.32 && {channel}_m > 1.24').Histo1D(('costheta-kk_signal', 'Cos(#Theta^{H}_{KK})', 25, -1.1, 1.1), 'kk_helicity_costheta')\n",
    "# hist_thrown_kkpi = df_thrown.Filter(f'{channel}_m < 1.32 && {channel}_m > 1.24').Histo1D(('kkpi_signal', 'M(KK#pi)', 50, 1.24, 1.35), f'{channel}_m')\n",
    "# hist_thrown_2d = df_thrown.Filter(f'{channel}_m < 1.4 && {channel}_m > 1.1').Histo2D(('costheta-kk_vs_kkpi', 'Cos(#Theta^{H}_{KK}) vs M(KK#pi)', 50, 1.1, 1.4, 25, -1.1, 1.1), f'{channel}_m', 'kk_helicity_costheta').GetValue()"
   ]
  },
  {
   "cell_type": "code",
   "execution_count": 97,
   "metadata": {},
   "outputs": [],
   "source": [
    "# c2 = ROOT.TCanvas('c2', 'c2', 1200, 800)\n",
    "# c2.Divide(3, 1)\n",
    "\n",
    "# c2.cd(1)\n",
    "# hist_signal_costhets.Draw('E')\n",
    "# c2.cd(2)\n",
    "# hist_signal_kkpi.Draw('E')\n",
    "# c2.cd(3)\n",
    "# hist_signal_2d.Draw('COLZ')\n",
    "# c2.Draw()"
   ]
  },
  {
   "cell_type": "code",
   "execution_count": 98,
   "metadata": {},
   "outputs": [],
   "source": [
    "# c2.cd(1)\n",
    "# hist_thrown_costhets.Draw('E')\n",
    "# c2.cd(2)\n",
    "# hist_thrown_kkpi.Draw('E')\n",
    "# c2.cd(3)\n",
    "# hist_thrown_2d.Draw('COLZ')\n",
    "# c2.Draw()"
   ]
  },
  {
   "cell_type": "code",
   "execution_count": 99,
   "metadata": {},
   "outputs": [],
   "source": [
    "# c1.cd()\n",
    "# hist_eff_test = hist_1285_kk_phasespace.Clone('eff_test')\n",
    "# hist_eff_test.Divide(acceptance)\n",
    "\n",
    "# hist_eff_test.Draw('E')\n",
    "# c1.Draw()"
   ]
  }
 ],
 "metadata": {
  "kernelspec": {
   "display_name": "Python 3",
   "language": "python",
   "name": "python3"
  },
  "language_info": {
   "codemirror_mode": {
    "name": "ipython",
    "version": 3
   },
   "file_extension": ".py",
   "mimetype": "text/x-python",
   "name": "python",
   "nbconvert_exporter": "python",
   "pygments_lexer": "ipython3",
   "version": "3.6.8"
  },
  "orig_nbformat": 4
 },
 "nbformat": 4,
 "nbformat_minor": 2
}
