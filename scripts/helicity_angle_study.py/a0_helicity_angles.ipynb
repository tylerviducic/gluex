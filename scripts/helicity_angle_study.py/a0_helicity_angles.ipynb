{
 "cells": [
  {
   "cell_type": "markdown",
   "metadata": {},
   "source": [
    "# Notebook to plot the helicity angles of $a_{0}$"
   ]
  },
  {
   "cell_type": "code",
   "execution_count": 1,
   "metadata": {},
   "outputs": [
    {
     "name": "stdout",
     "output_type": "stream",
     "text": [
      "Welcome to JupyROOT 6.24/04\n"
     ]
    }
   ],
   "source": [
    "import ROOT\n",
    "import numpy as np\n",
    "import my_library.common_analysis_tools as ct\n",
    "import my_library.constants as constants\n",
    "import my_library.kinematic_cuts as kcuts\n",
    "import pandas as pd"
   ]
  },
  {
   "cell_type": "code",
   "execution_count": 2,
   "metadata": {},
   "outputs": [],
   "source": [
    "def define_a0_helicity(channel, run_period, data_type, thrown=False, filtered=True):\n",
    "    if data_type not in ['signal', 'data']:\n",
    "        return None\n",
    "\n",
    "    if thrown: filtered=False\n",
    "    df = ct.get_dataframe(channel, run_period, data_type, thrown=thrown, filtered=filtered)\n",
    "\n",
    "    if not thrown:\n",
    "        proton = 'p'\n",
    "        if channel == 'pipkmks':\n",
    "            pion = 'pip1'\n",
    "            kaon = 'km'\n",
    "        else:\n",
    "            pion = 'pim1'\n",
    "            kaon = 'kp'\n",
    "    else: \n",
    "        proton = 'Proton'\n",
    "        if channel == 'pipkmks':\n",
    "            pion = 'PiPlus1'\n",
    "            kaon = 'KMinus'\n",
    "            ks = 'PiPlus2_{0} + PiMinus_{0}'\n",
    "        else:\n",
    "            pion = 'PiMinus1'\n",
    "            kaon = 'KPlus'\n",
    "            ks = 'PiMinus2_{0} + PiPlus_{0}'\n",
    "        df = df.Define('ks_px', ks.format('px'))\n",
    "        df = df.Define('ks_py', ks.format('py'))\n",
    "        df = df.Define('ks_pz', ks.format('pz'))\n",
    "        df = df.Define('ks_E', ks.format('E'))\n",
    "        df = df.Define('ks_m', 'sqrt(ks_E*ks_E - ks_px*ks_px - ks_py*ks_py - ks_pz*ks_pz)')\n",
    "\n",
    "    df = df.Define('kk_px', f'{kaon}_px + ks_px')\n",
    "    df = df.Define('kk_py', f'{kaon}_py + ks_py')\n",
    "    df = df.Define('kk_pz', f'{kaon}_pz + ks_pz')\n",
    "    df = df.Define('kk_E', f'{kaon}_E + ks_E')\n",
    "    df = df.Define(\"beam_p4\", \"ROOT::Math::PxPyPzEVector(e_beam, 0, 0, e_beam)\")\n",
    "    df = df.Define(\"target_p4\", \"ROOT::Math::PxPyPzEVector(0, 0, 0, 0.938272)\")\n",
    "    df = df.Define('cm_boost_vector', '(beam_p4 + target_p4).BoostToCM()')\n",
    "    df = df.Define('p_p4', f'ROOT::Math::PxPyPzEVector({proton}_px, {proton}_py, {proton}_pz, {proton}_E)')\n",
    "    df = df.Define(f'{channel}_p4', f'ROOT::Math::PxPyPzEVector({channel}_px, {channel}_py, {channel}_pz, {channel}_E)')\n",
    "    df = df.Define('kk_p4', 'ROOT::Math::PxPyPzEVector(kk_px, kk_py, kk_pz, kk_E)')\n",
    "    df = df.Define(f'{pion}_p4', f'ROOT::Math::PxPyPzEVector({pion}_px, {pion}_py, {pion}_pz, {pion}_E)')\n",
    "    df = df.Define('cm_boost', \"ROOT::Math::Boost(cm_boost_vector)\")\n",
    "    df = df.Define('p_p4_cm', 'cm_boost(p_p4)')\n",
    "    df = df.Define(f'{channel}_p4_cm', f'cm_boost({channel}_p4)')\n",
    "    df = df.Define('kk_p4_cm', 'cm_boost(kk_p4)')\n",
    "    df = df.Define(f'{pion}_p4_cm', f'cm_boost({pion}_p4)')\n",
    "    df = df.Define('beam_p4_cm', 'cm_boost(beam_p4)')\n",
    "    df = df.Define('target_p4_cm', 'cm_boost(target_p4)')\n",
    "    df = df.Define('f1_rest_boost_vector', f'{channel}_p4_cm.BoostToCM()')\n",
    "    df = df.Define('f1_rest_boost', 'ROOT::Math::Boost(f1_rest_boost_vector)')\n",
    "    df = df.Define('kk_p4_rest', 'f1_rest_boost(kk_p4_cm)')\n",
    "    df = df.Define(f'{pion}_p4_rest', f'f1_rest_boost({pion}_p4_cm)')\n",
    "    df = df.Define('yhat', f'beam_p4_cm.Vect().Cross({channel}_p4_cm.Vect()).Unit()')\n",
    "    df = df.Define('zhat', f'{channel}_p4_cm.Vect().Unit()')\n",
    "    df = df.Define('xhat', 'yhat.Cross(zhat)')\n",
    "    df = df.Define('kk_rest_p3', 'kk_p4_rest.Vect()')\n",
    "    df = df.Define('kk_helicty_p3', 'ROOT::Math::XYZVector(kk_rest_p3.Dot(xhat), kk_rest_p3.Dot(yhat), kk_rest_p3.Dot(zhat))')\n",
    "    df = df.Define('kk_helicity_costheta', 'kk_helicty_p3.Z()/sqrt(kk_helicty_p3.Mag2())')\n",
    "\n",
    "    return df"
   ]
  },
  {
   "cell_type": "code",
   "execution_count": 3,
   "metadata": {},
   "outputs": [],
   "source": [
    "ROOT.EnableImplicitMT()"
   ]
  },
  {
   "cell_type": "code",
   "execution_count": 71,
   "metadata": {},
   "outputs": [],
   "source": [
    "# channel = 'pipkmks'\n",
    "channel = 'pimkpks'\n",
    "run_period = '2017'\n",
    "\n",
    "if channel == 'pipkmks':\n",
    "    cut = kcuts.KSTAR_ALL_CUT_PIPKMKS\n",
    "elif channel == 'pimkpks':\n",
    "    cut = kcuts.KSTAR_ALL_CUT_PIMKPKS"
   ]
  },
  {
   "cell_type": "code",
   "execution_count": 72,
   "metadata": {},
   "outputs": [],
   "source": [
    "df_data = define_a0_helicity(channel, run_period, 'data').Filter(cut)\n",
    "df_signal = define_a0_helicity(channel, run_period, 'signal').Filter(cut)\n",
    "df_thrown = define_a0_helicity(channel, run_period, 'signal', thrown=True)"
   ]
  },
  {
   "cell_type": "code",
   "execution_count": 73,
   "metadata": {},
   "outputs": [],
   "source": [
    "hist_1285_kk_data = df_data.Filter(f'{channel}_m < 1.32 && {channel}_m > 1.24').Histo1D(('1285_kk_costheta_data', '1285_kk_costheta_data', 25, -1.1, 1.1), 'kk_helicity_costheta').GetValue()\n",
    "hist_1285_kk_signal = df_signal.Filter(f'{channel}_m < 1.32 && {channel}_m > 1.24').Histo1D(('1285_kk_costheta_signal', '1285_kk_costheta_signal', 25, -1.1, 1.1), 'kk_helicity_costheta').GetValue()\n",
    "hist_1285_kk_thrown = df_thrown.Filter(f'{channel}_m < 1.32 && {channel}_m > 1.24').Histo1D(('1285_kk_costheta_thrown', '1285_kk_costheta_thrown', 25, -1.1, 1.1), 'kk_helicity_costheta').GetValue()"
   ]
  },
  {
   "cell_type": "code",
   "execution_count": 74,
   "metadata": {},
   "outputs": [],
   "source": [
    "hist_1285_kk_data.SetLineColor(ROOT.TColor.GetColor(constants.COLORBLIND_HEX_DICT['blue']))\n",
    "hist_1285_kk_signal.SetLineColor(ROOT.TColor.GetColor(constants.COLORBLIND_HEX_DICT['red']))\n",
    "hist_1285_kk_thrown.SetLineColor(ROOT.TColor.GetColor(constants.COLORBLIND_HEX_DICT['purple']))"
   ]
  },
  {
   "cell_type": "code",
   "execution_count": 75,
   "metadata": {},
   "outputs": [
    {
     "name": "stderr",
     "output_type": "stream",
     "text": [
      "Warning in <TCanvas::Constructor>: Deleting canvas with same name: c1\n"
     ]
    },
    {
     "data": {
      "image/png": "[encoded data removed]",
      "text/plain": [
       "<IPython.core.display.Image object>"
      ]
     },
     "metadata": {},
     "output_type": "display_data"
    }
   ],
   "source": [
    "c1 = ROOT.TCanvas('c1', 'c1', 800, 600)\n",
    "hist_1285_kk_thrown.Draw('E')\n",
    "hist_1285_kk_signal.Draw('E SAME')\n",
    "hist_1285_kk_data.Draw('E SAME')\n",
    "c1.Draw()"
   ]
  },
  {
   "cell_type": "code",
   "execution_count": 76,
   "metadata": {},
   "outputs": [
    {
     "data": {
      "text/plain": [
       "True"
      ]
     },
     "execution_count": 76,
     "metadata": {},
     "output_type": "execute_result"
    }
   ],
   "source": [
    "hist_1285_kk_data.Sumw2()\n",
    "hist_1285_kk_signal.Sumw2()\n",
    "hist_1285_kk_thrown.Sumw2()\n",
    "\n",
    "acceptance = hist_1285_kk_signal.Clone('acceptance')\n",
    "acceptance.Divide(hist_1285_kk_thrown)\n",
    "\n",
    "hist_1285_kk_data.Divide(acceptance)\n"
   ]
  },
  {
   "cell_type": "code",
   "execution_count": 77,
   "metadata": {},
   "outputs": [
    {
     "data": {
      "image/png": "[encoded data removed]",
      "text/plain": [
       "<IPython.core.display.Image object>"
      ]
     },
     "metadata": {},
     "output_type": "display_data"
    }
   ],
   "source": [
    "hist_1285_kk_data.Draw(\"E\")\n",
    "c1.Draw()"
   ]
  },
  {
   "cell_type": "code",
   "execution_count": 78,
   "metadata": {},
   "outputs": [],
   "source": [
    "func_eta = ROOT.TF1(\"func_eta\", \"[0]\", -1, 1)\n",
    "func_f1 = ROOT.TF1(\"func_f1\", \"[0]*cos(x)*cos(x) + [1]*sin(x)*sin(x)\", -1, 1)\n",
    "\n",
    "func_eta.SetLineColor(ROOT.TColor.GetColor(constants.COLORBLIND_HEX_DICT['red']))\n",
    "func_f1.SetLineColor(ROOT.TColor.GetColor(constants.COLORBLIND_HEX_DICT['blue']))\n",
    "\n",
    "\n",
    "func_eta.SetParameter(0, 600)\n",
    "func_f1.SetParameter(0, -600)\n",
    "func_f1.SetParameter(1, 200)"
   ]
  },
  {
   "cell_type": "code",
   "execution_count": 79,
   "metadata": {},
   "outputs": [
    {
     "data": {
      "text/plain": [
       "<cppyy.gbl.TFitResultPtr object at 0xfbc6700>"
      ]
     },
     "execution_count": 79,
     "metadata": {},
     "output_type": "execute_result"
    },
    {
     "name": "stdout",
     "output_type": "stream",
     "text": [
      " FCN=226.288 FROM MIGRAD    STATUS=CONVERGED      10 CALLS          11 TOTAL\n",
      "                     EDM=2.35715e-16    STRATEGY= 1      ERROR MATRIX ACCURATE \n",
      "  EXT PARAMETER                                   STEP         FIRST   \n",
      "  NO.   NAME      VALUE            ERROR          SIZE      DERIVATIVE \n",
      "   1  p0           1.10176e+04   1.49842e+02   1.10233e+00   1.44902e-10\n",
      " FCN=192.714 FROM MIGRAD    STATUS=CONVERGED      28 CALLS          29 TOTAL\n",
      "                     EDM=3.38738e-22    STRATEGY= 1      ERROR MATRIX ACCURATE \n",
      "  EXT PARAMETER                                   STEP         FIRST   \n",
      "  NO.   NAME      VALUE            ERROR          SIZE      DERIVATIVE \n",
      "   1  p0           1.01111e+04   2.16626e+02   1.24882e+00  -5.68969e-14\n",
      "   2  p1           1.44217e+04   6.06302e+02   3.48310e+00   2.85596e-14\n"
     ]
    }
   ],
   "source": [
    "hist_1285_kk_data.Fit(func_eta, \"BS+\")\n",
    "hist_1285_kk_data.Fit(func_f1, \"BS+\")"
   ]
  },
  {
   "cell_type": "code",
   "execution_count": 80,
   "metadata": {},
   "outputs": [
    {
     "data": {
      "image/png": "[encoded data removed]",
      "text/plain": [
       "<IPython.core.display.Image object>"
      ]
     },
     "metadata": {},
     "output_type": "display_data"
    }
   ],
   "source": [
    "hist_1285_kk_data.Draw(\"E\")\n",
    "c1.Draw()"
   ]
  }
 ],
 "metadata": {
  "kernelspec": {
   "display_name": "Python 3",
   "language": "python",
   "name": "python3"
  },
  "language_info": {
   "codemirror_mode": {
    "name": "ipython",
    "version": 3
   },
   "file_extension": ".py",
   "mimetype": "text/x-python",
   "name": "python",
   "nbconvert_exporter": "python",
   "pygments_lexer": "ipython3",
   "version": "3.6.8"
  },
  "orig_nbformat": 4
 },
 "nbformat": 4,
 "nbformat_minor": 2
}
