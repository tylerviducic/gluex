{
 "cells": [
  {
   "cell_type": "markdown",
   "metadata": {},
   "source": [
    "# Notebook to plot the helicity angles of $a_{0}$"
   ]
  },
  {
   "cell_type": "code",
   "execution_count": 2,
   "metadata": {},
   "outputs": [
    {
     "name": "stdout",
     "output_type": "stream",
     "text": [
      "Welcome to JupyROOT 6.24/04\n"
     ]
    }
   ],
   "source": [
    "import ROOT\n",
    "import numpy as np\n",
    "import my_library.common_analysis_tools as ct\n",
    "import my_library.constants as constants\n",
    "import my_library.kinematic_cuts as kcuts\n",
    "import pandas as pd"
   ]
  },
  {
   "cell_type": "code",
   "execution_count": 3,
   "metadata": {},
   "outputs": [],
   "source": [
    "def get_gamma_cm(ey: float, s: float) -> float:\n",
    "    # type: (float, float) -> float\n",
    "    return (ey + 0.938272)/np.sqrt(s)\n",
    "# def get_gamma_cm(ey, s):\n",
    "#     return (ey + 0.938272)/np.sqrt(s)\n",
    "\n",
    "def get_beta_cm(ey: float) -> float:\n",
    "    return ey/(ey + 0.938272)\n",
    "\n",
    "\n",
    "def get_beta(p: float, e: float) -> float:\n",
    "    return p/e\n",
    "\n",
    "\n",
    "def get_gamma(e: float, m: float) -> float:\n",
    "    return e/m\n"
   ]
  },
  {
   "cell_type": "code",
   "execution_count": 4,
   "metadata": {},
   "outputs": [],
   "source": [
    "def get_cm_vector(e: float, px: float, py: float, pz: float, ey: float, s: float):\n",
    "    gamma = get_gamma_cm(ey, s)\n",
    "    beta = get_beta_cm(ey)\n",
    "    vec_cm_rotaton = np.array([[gamma, 0, 0, -1*beta*gamma],\n",
    "                     [0, 1, 0, 0],\n",
    "                     [0, 0, 1, 0],\n",
    "                     [-1*beta*gamma, 0, 0, gamma]])\n",
    "    vec_lab = np.array([e, px, py, pz]).reshape(4,1)\n",
    "    return (vec_cm_rotaton @ vec_lab).reshape(1,4)\n"
   ]
  },
  {
   "cell_type": "code",
   "execution_count": 5,
   "metadata": {},
   "outputs": [],
   "source": [
    "def get_rest_frame_vec(p4_decay_cm, p4_rest_cm, m_rest: float):\n",
    "    \"\"\"e in 0th element, px in 1st, py in 2nd, pz in 3rd\"\"\"\n",
    "    p4_decay_cm   = p4_decay_cm.flatten()\n",
    "    p4_rest_cm    = p4_rest_cm.flatten()\n",
    "    beta = get_beta(np.sqrt(p4_rest_cm[1]*p4_rest_cm[1] + p4_rest_cm[2]*p4_rest_cm[2] + p4_rest_cm[3]*p4_rest_cm[3]), p4_rest_cm[0])\n",
    "    gamma = get_gamma(p4_rest_cm[0], m_rest)\n",
    "    beta_x = get_beta(p4_rest_cm[1], p4_rest_cm[0])\n",
    "    beta_y = get_beta(p4_rest_cm[2], p4_rest_cm[0])\n",
    "    beta_z = get_beta(p4_rest_cm[3], p4_rest_cm[0])\n",
    "\n",
    "    p4_decay_cm = p4_decay_cm.reshape(-1, 1)\n",
    "\n",
    "    rest_rotation = np.array([[gamma,         -gamma*beta_x,                             -gamma*beta_y,                             -gamma*beta_z                            ],\n",
    "                              [-gamma*beta_x, 1 + (gamma - 1)*beta_x*beta_x/(beta*beta), (gamma - 1)*beta_x*beta_y/(beta*beta),     (gamma - 1)*beta_x*beta_z/(beta*beta)    ],\n",
    "                              [-gamma*beta_y, (gamma - 1)*beta_y*beta_x/(beta*beta),     1 + (gamma - 1)*beta_y*beta_y/(beta*beta), (gamma - 1)*beta_y*beta_z/(beta*beta)    ],\n",
    "                              [-gamma*beta_z, (gamma - 1)*beta_z*beta_x/(beta*beta),     (gamma - 1)*beta_z*beta_y/(beta*beta),     1 + (gamma - 1)*beta_z*beta_z/(beta*beta)]])\n",
    "\n",
    "    return (rest_rotation @ p4_decay_cm).reshape(1, -1)"
   ]
  },
  {
   "cell_type": "code",
   "execution_count": 6,
   "metadata": {},
   "outputs": [],
   "source": [
    "def get_y_hat(beam_cm_p4, m_cm_p4):\n",
    "    beam_cm_p4 = beam_cm_p4.flatten()[1:]\n",
    "    m_cm_p4 = m_cm_p4.flatten()[1:]\n",
    "    cross_product = np.cross(beam_cm_p4, m_cm_p4)\n",
    "    return cross_product/np.linalg.norm(cross_product)\n",
    "\n",
    "def get_z_hat(m_cm_p4):\n",
    "    p4_m_cm = m_cm_p4.flatten()[1:]\n",
    "    return p4_m_cm/np.linalg.norm(p4_m_cm)\n",
    "\n",
    "def get_x_hat(y_hat, z_hat):\n",
    "    cross_product = np.cross(y_hat, z_hat)\n",
    "    return cross_product/np.linalg.norm(cross_product)\n",
    "\n",
    "def get_helicity_p3(decay_rest_p4, xhat, yhat, zhat):\n",
    "    decay_rest_p4 = decay_rest_p4.flatten()[1:]\n",
    "    return np.array([decay_rest_p4.dot(xhat), decay_rest_p4.dot(yhat), decay_rest_p4.dot(zhat)])\n",
    "\n",
    "def cos_theta_helicty(p3_helicity):\n",
    "    return p3_helicity[2]/np.linalg.norm(p3_helicity)\n",
    "\n",
    "def phi_helicity(p3_helicity):\n",
    "    return np.arctan2(p3_helicity[1], p3_helicity[0])"
   ]
  },
  {
   "cell_type": "code",
   "execution_count": 7,
   "metadata": {},
   "outputs": [],
   "source": [
    "df_pipkmks = ct.get_dataframe(\"pipkmks\", 'spring', 'data')"
   ]
  },
  {
   "cell_type": "code",
   "execution_count": 8,
   "metadata": {},
   "outputs": [],
   "source": [
    "df_pipkmks = df_pipkmks.Define('kk_px', 'km_px + ks_px')\n",
    "df_pipkmks = df_pipkmks.Define('kk_py', 'km_py + ks_py')\n",
    "df_pipkmks = df_pipkmks.Define('kk_pz', 'km_pz + ks_pz')\n",
    "df_pipkmks = df_pipkmks.Define('kk_E', 'km_E + ks_E')"
   ]
  },
  {
   "cell_type": "code",
   "execution_count": 9,
   "metadata": {},
   "outputs": [],
   "source": [
    "df_pipkmks = df_pipkmks.Define(\"beam_p4\", \"ROOT::Math::PxPyPzEVector(e_beam, 0, 0, e_beam)\")\n",
    "df_pipkmks = df_pipkmks.Define(\"target_p4\", \"ROOT::Math::PxPyPzEVector(0, 0, 0, 0.938272)\")"
   ]
  },
  {
   "cell_type": "code",
   "execution_count": 10,
   "metadata": {},
   "outputs": [],
   "source": [
    "df_pipkmks = df_pipkmks.Define('cm_boost_vector', '(beam_p4 + target_p4).BoostToCM()')"
   ]
  },
  {
   "cell_type": "code",
   "execution_count": 11,
   "metadata": {},
   "outputs": [],
   "source": [
    "df_pipkmks = df_pipkmks.Define('p_p4', 'ROOT::Math::PxPyPzEVector(p_px, p_py, p_pz, p_E)')\n",
    "df_pipkmks = df_pipkmks.Define('pipkmks_p4', 'ROOT::Math::PxPyPzEVector(pipkmks_px, pipkmks_py, pipkmks_pz, pipkmks_E)')\n",
    "df_pipkmks = df_pipkmks.Define('kk_p4', 'ROOT::Math::PxPyPzEVector(kk_px, kk_py, kk_pz, kk_E)')\n",
    "df_pipkmks = df_pipkmks.Define('pip1_p4', 'ROOT::Math::PxPyPzEVector(pip1_px, pip1_py, pip1_pz, pip1_E)')\n"
   ]
  },
  {
   "cell_type": "code",
   "execution_count": 12,
   "metadata": {},
   "outputs": [],
   "source": [
    "df_pipkmks = df_pipkmks.Define('cm_boost', \"ROOT::Math::Boost(cm_boost_vector)\")"
   ]
  },
  {
   "cell_type": "code",
   "execution_count": 13,
   "metadata": {},
   "outputs": [],
   "source": [
    "df_pipkmks = df_pipkmks.Define('p_p4_cm', 'cm_boost(p_p4)')\n",
    "df_pipkmks = df_pipkmks.Define('pipkmks_p4_cm', 'cm_boost(pipkmks_p4)')\n",
    "df_pipkmks = df_pipkmks.Define('kk_p4_cm', 'cm_boost(kk_p4)')\n",
    "df_pipkmks = df_pipkmks.Define('pip1_p4_cm', 'cm_boost(pip1_p4)')\n",
    "df_pipkmks = df_pipkmks.Define('beam_p4_cm', 'cm_boost(beam_p4)')\n",
    "df_pipkmks = df_pipkmks.Define('target_p4_cm', 'cm_boost(target_p4)')"
   ]
  }
 ],
 "metadata": {
  "kernelspec": {
   "display_name": "Python 3",
   "language": "python",
   "name": "python3"
  },
  "language_info": {
   "codemirror_mode": {
    "name": "ipython",
    "version": 3
   },
   "file_extension": ".py",
   "mimetype": "text/x-python",
   "name": "python",
   "nbconvert_exporter": "python",
   "pygments_lexer": "ipython3",
   "version": "3.6.8"
  },
  "orig_nbformat": 4
 },
 "nbformat": 4,
 "nbformat_minor": 2
}
