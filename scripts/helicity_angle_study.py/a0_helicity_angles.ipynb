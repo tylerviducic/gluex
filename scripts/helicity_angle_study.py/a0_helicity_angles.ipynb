{
 "cells": [
  {
   "cell_type": "markdown",
   "metadata": {},
   "source": [
    "# Notebook to plot the helicity angles of $a_{0}$"
   ]
  },
  {
   "cell_type": "code",
   "execution_count": 75,
   "metadata": {},
   "outputs": [],
   "source": [
    "import ROOT\n",
    "import numpy as np\n",
    "import my_library.common_analysis_tools as ct\n",
    "import my_library.constants as constants\n",
    "import my_library.kinematic_cuts as kcuts\n",
    "import pandas as pd\n",
    "import my_library.gluex_style"
   ]
  },
  {
   "cell_type": "code",
   "execution_count": 76,
   "metadata": {},
   "outputs": [],
   "source": [
    "# TODO: angle vs cos(thetaH) for K, pi, pi, pi, p\n",
    "# TODO: 2D phi(H) vs cos(thetaH) for KK\n",
    "# TODO: check cut impact on acceptance filter by filter \n"
   ]
  },
  {
   "cell_type": "code",
   "execution_count": 77,
   "metadata": {},
   "outputs": [],
   "source": [
    "def define_a0_helicity(channel, run_period, data_type, thrown=False, filtered=True):\n",
    "    if data_type not in ['signal', 'data', 'phasespace']:\n",
    "        return None\n",
    "\n",
    "    if thrown: filtered=False\n",
    "    df = ct.get_dataframe(channel, run_period, data_type, thrown=thrown, filtered=filtered)\n",
    "\n",
    "    if not thrown:\n",
    "        proton = 'p'\n",
    "        if channel == 'pipkmks':\n",
    "            pion = 'pip1'\n",
    "            kaon = 'km'\n",
    "        else:\n",
    "            pion = 'pim1'\n",
    "            kaon = 'kp'\n",
    "    else: \n",
    "        proton = 'Proton'\n",
    "        if channel == 'pipkmks':\n",
    "            pion = 'PiPlus1'\n",
    "            kaon = 'KMinus'\n",
    "            ks = 'PiPlus2_{0} + PiMinus_{0}'\n",
    "        else:\n",
    "            pion = 'PiMinus1'\n",
    "            kaon = 'KPlus'\n",
    "            ks = 'PiMinus2_{0} + PiPlus_{0}'\n",
    "        df = df.Define('ks_px', ks.format('px'))\n",
    "        df = df.Define('ks_py', ks.format('py'))\n",
    "        df = df.Define('ks_pz', ks.format('pz'))\n",
    "        df = df.Define('ks_E', ks.format('E'))\n",
    "        df = df.Define('ks_m', 'sqrt(ks_E*ks_E - ks_px*ks_px - ks_py*ks_py - ks_pz*ks_pz)')\n",
    "\n",
    "    # define kk \n",
    "    df = df.Define('kk_px', f'{kaon}_px + ks_px')\n",
    "    df = df.Define('kk_py', f'{kaon}_py + ks_py')\n",
    "    df = df.Define('kk_pz', f'{kaon}_pz + ks_pz')\n",
    "    df = df.Define('kk_E', f'{kaon}_E + ks_E')\n",
    "    # define beam/target CM frame\n",
    "    df = df.Define(\"beam_p4\", \"ROOT::Math::PxPyPzEVector(0.0, 0.0, e_beam, e_beam)\")\n",
    "    df = df.Define(\"target_p4\", \"ROOT::Math::PxPyPzEVector(0.0, 0.0, 0.0, 0.938272)\")\n",
    "    # cm_boost_vector is a LorentzVector that would bring the beam/target system to the CM frame\n",
    "    df = df.Define('cm_boost_vector', '(beam_p4 + target_p4).BoostToCM()')\n",
    "    # recoil proton, kkpi, kk, pion lab frame vectors\n",
    "    df = df.Define('p_p4', f'ROOT::Math::PxPyPzEVector({proton}_px, {proton}_py, {proton}_pz, {proton}_E)')\n",
    "    df = df.Define(f'{channel}_p4', f'ROOT::Math::PxPyPzEVector({channel}_px, {channel}_py, {channel}_pz, {channel}_E)')\n",
    "    df = df.Define('kk_p4', 'ROOT::Math::PxPyPzEVector(kk_px, kk_py, kk_pz, kk_E)')\n",
    "    df = df.Define(f'{pion}_p4', f'ROOT::Math::PxPyPzEVector({pion}_px, {pion}_py, {pion}_pz, {pion}_E)')\n",
    "    # boosting to CM framef\n",
    "    df = df.Define('cm_boost', \"ROOT::Math::Boost(cm_boost_vector)\")\n",
    "    df = df.Define('p_p4_cm', 'cm_boost(p_p4)')\n",
    "    df = df.Define(f'{channel}_p4_cm', f'cm_boost({channel}_p4)')\n",
    "    df = df.Define('kk_p4_cm', 'cm_boost(kk_p4)')\n",
    "    df = df.Define(f'{pion}_p4_cm', f'cm_boost({pion}_p4)')\n",
    "    df = df.Define('beam_p4_cm', 'cm_boost(beam_p4)')\n",
    "    df = df.Define('beam_pz_cm', 'beam_p4_cm.Pz()')\n",
    "    df = df.Define('target_p4_cm', 'cm_boost(target_p4)')\n",
    "    df= df.Define('target_pz_cm', 'target_p4_cm.Pz()')\n",
    "    # define f1 rest frame and boost into it\n",
    "    df = df.Define('f1_rest_boost_vector', f'{channel}_p4_cm.BoostToCM()')\n",
    "    df = df.Define('f1_rest_boost', 'ROOT::Math::Boost(f1_rest_boost_vector)')\n",
    "    df = df.Define('kk_p4_rest', 'f1_rest_boost(kk_p4_cm)')\n",
    "    df = df.Define(f'{pion}_p4_rest', f'f1_rest_boost({pion}_p4_cm)')\n",
    "    df = df.Define('p_p4_rest', 'f1_rest_boost(p_p4_cm)')\n",
    "    # define coordinate system\n",
    "    df = df.Define('yhat', f'beam_p4_cm.Vect().Cross({channel}_p4_cm.Vect()).Unit()')\n",
    "    df = df.Define('zhat', '-p_p4_rest.Vect().Unit()')\n",
    "    df = df.Define('xhat', 'yhat.Cross(zhat)')\n",
    "    # get helicity angles \n",
    "    df = df.Define('kk_rest_p3', 'kk_p4_rest.Vect()')\n",
    "    df = df.Define('kk_helicty_p3', 'ROOT::Math::XYZVector(kk_rest_p3.Dot(xhat), kk_rest_p3.Dot(yhat), kk_rest_p3.Dot(zhat))')\n",
    "    df = df.Define('kk_helicity_costheta', 'kk_helicty_p3.Z()/sqrt(kk_helicty_p3.Mag2())')\n",
    "\n",
    "    return df"
   ]
  },
  {
   "cell_type": "code",
   "execution_count": 78,
   "metadata": {},
   "outputs": [],
   "source": [
    "ROOT.EnableImplicitMT(12)\n",
    "ROOT.gStyle.SetOptStat(0)"
   ]
  },
  {
   "cell_type": "code",
   "execution_count": 79,
   "metadata": {},
   "outputs": [],
   "source": [
    "channel = 'pipkmks'\n",
    "# channel = 'pimkpks'\n",
    "run_period = 'fall'\n",
    "\n",
    "if channel == 'pipkmks':\n",
    "    cut = kcuts.KSTAR_ALL_CUT_PIPKMKS\n",
    "elif channel == 'pimkpks':\n",
    "    cut = kcuts.KSTAR_ALL_CUT_PIMKPKS"
   ]
  },
  {
   "cell_type": "code",
   "execution_count": 80,
   "metadata": {},
   "outputs": [],
   "source": [
    "if channel == 'pipkmks':\n",
    "    signal_region = kcuts.F1_SIGNAL_REGION_PIPKMKS\n",
    "else:\n",
    "    signal_region = kcuts.F1_SIGNAL_REGION_PIMKPKS\n",
    "\n",
    "df_data = define_a0_helicity(channel, run_period, 'data').Filter(cut).Filter(signal_region)\n",
    "df_signal = define_a0_helicity(channel, run_period, 'signal').Filter(cut).Filter(signal_region)\n",
    "df_thrown = define_a0_helicity(channel, run_period, 'signal', thrown=True, filtered=False).Filter(signal_region)\n"
   ]
  },
  {
   "cell_type": "code",
   "execution_count": 81,
   "metadata": {},
   "outputs": [
    {
     "data": {
      "text/plain": [
       "84043257"
      ]
     },
     "execution_count": 81,
     "metadata": {},
     "output_type": "execute_result"
    }
   ],
   "source": [
    "# signal_region = f'{channel}_m < 1.35 && {channel}_m > 1.2'\n",
    "x_low, x_high = -1.1, 1.1\n",
    "nbin = int((x_high - x_low)/0.1)\n",
    "\n",
    "hist_full_range_data = df_data.Histo1D(('hist_full_range_data', 'Cos(#Theta_{H}) for 1.2 < M(KK#pi) < 1.35', nbin, x_low, x_high), 'kk_helicity_costheta')#.GetValue()\n",
    "hist_full_range_phasespace = df_signal.Histo1D(('hist_full_range_phasespace', 'hist_full_range_phasespace', nbin, x_low, x_high), 'kk_helicity_costheta')#.GetValue()\n",
    "hist_full_range_thrown = df_thrown.Histo1D(('hist_full_range_thrown', 'hist_full_range_thrown', nbin, x_low, x_high), 'kk_helicity_costheta')#.GetValue()\n",
    "good_acceptance_region = 'kk_helicity_costheta < 0.699999'\n",
    "\n",
    "# df_data = df_data.Filter(good_acceptance_region)\n",
    "# df_signal = df_signal.Filter(good_acceptance_region)\n",
    "# df_thrown = df_thrown.Filter(good_acceptance_region)\n",
    "\n",
    "hist_1285_kk_data = df_data.Filter(good_acceptance_region).Histo1D(('1285_kk_costheta_data', 'Cos(#Theta_{H}^{a0}) for f_{1}(1285) Region', nbin, x_low, x_high), 'kk_helicity_costheta')#.GetValue()\n",
    "hist_1285_kk_phasespace = df_signal.Filter(good_acceptance_region).Histo1D(('1285_kk_costheta_phasespace', '1285_kk_costheta_phasespace', nbin, x_low, x_high), 'kk_helicity_costheta')#.GetValue()\n",
    "hist_1285_kk_thrown = df_thrown.Filter(good_acceptance_region).Histo1D(('1285_kk_costheta_thrown', '1285_kk_costheta_thrown', nbin, x_low, x_high), 'kk_helicity_costheta')#.GetValue()\n",
    "\n",
    "df_data.Count().GetValue()\n",
    "df_signal.Count().GetValue()\n",
    "df_thrown.Count().GetValue()\n"
   ]
  },
  {
   "cell_type": "code",
   "execution_count": 82,
   "metadata": {},
   "outputs": [
    {
     "data": {
      "text/plain": [
       "True"
      ]
     },
     "execution_count": 82,
     "metadata": {},
     "output_type": "execute_result"
    }
   ],
   "source": [
    "hist_full_range_data.Sumw2()\n",
    "hist_full_range_phasespace.Sumw2()\n",
    "hist_full_range_thrown.Sumw2()\n",
    "\n",
    "acceptance_full_range = hist_full_range_phasespace.Clone('acceptance_full_range')\n",
    "acceptance_full_range.Divide(hist_full_range_thrown.GetPtr())\n",
    "\n",
    "hist_full_range_data.Divide(acceptance_full_range)"
   ]
  },
  {
   "cell_type": "code",
   "execution_count": 83,
   "metadata": {},
   "outputs": [
    {
     "name": "stderr",
     "output_type": "stream",
     "text": [
      "Warning in <TCanvas::Constructor>: Deleting canvas with same name: c1\n"
     ]
    }
   ],
   "source": [
    "c1 = ROOT.TCanvas('c1', 'c1', 800, 600)"
   ]
  },
  {
   "cell_type": "code",
   "execution_count": 84,
   "metadata": {},
   "outputs": [
    {
     "data": {
      "image/png": "[encoded data removed]",
      "text/plain": [
       "<IPython.core.display.Image object>"
      ]
     },
     "metadata": {},
     "output_type": "display_data"
    }
   ],
   "source": [
    "c1.Clear()\n",
    "\n",
    "# hist_full_range_data.SetTitle('Cos(#Theta_{H}) for 1.2 < M(KK#pi) < 1.35')\n",
    "hist_full_range_data.GetXaxis().SetTitle('Cos(#Theta_{H}^{a0})')\n",
    "hist_full_range_data.GetYaxis().SetTitle('Counts')\n",
    "hist_full_range_data.GetYaxis().SetTitleOffset(1.4)\n",
    "hist_full_range_data.SetLineColor(ROOT.kBlack)\n",
    "hist_full_range_data.SetMarkerStyle(20)\n",
    "\n",
    "hist_full_range_data.Draw('E1')\n",
    "c1.Update()\n",
    "c1.Draw()"
   ]
  },
  {
   "cell_type": "code",
   "execution_count": 85,
   "metadata": {},
   "outputs": [
    {
     "data": {
      "image/png": "[encoded data removed]",
      "text/plain": [
       "<IPython.core.display.Image object>"
      ]
     },
     "metadata": {},
     "output_type": "display_data"
    }
   ],
   "source": [
    "acceptance_full_range.SetTitle('Acceptance for 1.2 < M(KK#pi) < 1.35')\n",
    "acceptance_full_range.GetXaxis().SetTitle('Cos(#Theta_{H})')\n",
    "acceptance_full_range.GetYaxis().SetTitle('Acceptance')\n",
    "acceptance_full_range.GetYaxis().SetTitleOffset(1.5)\n",
    "\n",
    "acceptance_full_range.Draw('E1')\n",
    "c1.Update()\n",
    "c1.Draw()"
   ]
  },
  {
   "cell_type": "code",
   "execution_count": 86,
   "metadata": {},
   "outputs": [],
   "source": [
    "hist_1285_kk_data.SetLineColor(ROOT.kBlack)\n",
    "hist_1285_kk_phasespace.SetLineColor(ROOT.kRed)\n",
    "hist_1285_kk_thrown.SetLineColor(ROOT.kViolet)"
   ]
  },
  {
   "cell_type": "code",
   "execution_count": 87,
   "metadata": {},
   "outputs": [
    {
     "data": {
      "image/png": "[encoded data removed]",
      "text/plain": [
       "<IPython.core.display.Image object>"
      ]
     },
     "metadata": {},
     "output_type": "display_data"
    }
   ],
   "source": [
    "hist_1285_kk_data.SetMarkerStyle(20)\n",
    "hist_1285_kk_data.Draw('E1')\n",
    "# hist_1285_kk_thrown.Draw('E')\n",
    "# hist_1285_kk_phasespace.Draw('E')\n",
    "c1.Draw()"
   ]
  },
  {
   "cell_type": "code",
   "execution_count": 88,
   "metadata": {},
   "outputs": [
    {
     "name": "stdout",
     "output_type": "stream",
     "text": [
      "bin middle: -0.95 || data: 1032.0 || efficiency: 0.02941448304315223 || efficiency corrected: 35084.75734508115\n",
      "bin middle: -0.8500000000000001 || data: 852.0 || efficiency: 0.029996770907422605 || efficiency corrected: 28403.057203373024\n",
      "bin middle: -0.75 || data: 707.0 || efficiency: 0.030115045707811382 || efficiency corrected: 23476.637122174947\n",
      "bin middle: -0.65 || data: 624.0 || efficiency: 0.030489725724281477 || efficiency corrected: 20465.910570755233\n",
      "bin middle: -0.55 || data: 599.0 || efficiency: 0.03107071690979123 || efficiency corrected: 19278.602477667286\n",
      "bin middle: -0.45 || data: 531.0 || efficiency: 0.031897061255052955 || efficiency corrected: 16647.301635534903\n",
      "bin middle: -0.35000000000000003 || data: 479.0 || efficiency: 0.03267339850775487 || efficiency corrected: 14660.244170385633\n",
      "bin middle: -0.25000000000000006 || data: 469.0 || efficiency: 0.03337521597593565 || efficiency corrected: 14052.34352155685\n",
      "bin middle: -0.15000000000000008 || data: 451.0 || efficiency: 0.03417465486968085 || efficiency corrected: 13196.914547339562\n",
      "bin middle: -0.050000000000000086 || data: 459.0 || efficiency: 0.034507424328954886 || efficiency corrected: 13301.485373825974\n",
      "bin middle: 0.05 || data: 404.0 || efficiency: 0.034969509604171174 || efficiency corrected: 11552.921518573734\n",
      "bin middle: 0.15000000000000008 || data: 463.0 || efficiency: 0.03545189823558042 || efficiency corrected: 13059.949482065294\n",
      "bin middle: 0.24999999999999994 || data: 509.0 || efficiency: 0.035615425313731665 || efficiency corrected: 14291.560342640443\n",
      "bin middle: 0.35000000000000003 || data: 465.0 || efficiency: 0.035638054690402036 || efficiency corrected: 13047.85022750506\n",
      "bin middle: 0.4499999999999999 || data: 464.0 || efficiency: 0.03549175588385746 || efficiency corrected: 13073.458566501604\n",
      "bin middle: 0.55 || data: 547.0 || efficiency: 0.03515135988906989 || efficiency corrected: 15561.275629910595\n",
      "bin middle: 0.6500000000000001 || data: 544.0 || efficiency: 0.03341037878125989 || efficiency corrected: 16282.365535620127\n"
     ]
    },
    {
     "data": {
      "text/plain": [
       "True"
      ]
     },
     "execution_count": 88,
     "metadata": {},
     "output_type": "execute_result"
    }
   ],
   "source": [
    "hist_1285_kk_data.Sumw2()\n",
    "hist_1285_kk_phasespace.Sumw2()\n",
    "hist_1285_kk_thrown.Sumw2()\n",
    "\n",
    "acceptance = hist_1285_kk_phasespace.Clone('acceptance')\n",
    "acceptance.Divide(hist_1285_kk_thrown.GetPtr())\n",
    "\n",
    "for i in range(2, hist_1285_kk_data.GetNbinsX()):\n",
    "    if hist_1285_kk_data.GetBinContent(i) <= 0:\n",
    "        continue\n",
    "    print(f'bin middle: {hist_1285_kk_data.GetBinCenter(i)} || data: {hist_1285_kk_data.GetBinContent(i)} || efficiency: {acceptance.GetBinContent(i)} || efficiency corrected: {hist_1285_kk_data.GetBinContent(i)/acceptance.GetBinContent(i)}')\n",
    "\n",
    "hist_1285_kk_data.Divide(acceptance)\n"
   ]
  },
  {
   "cell_type": "code",
   "execution_count": 89,
   "metadata": {},
   "outputs": [
    {
     "data": {
      "image/png": "[encoded data removed]",
      "text/plain": [
       "<IPython.core.display.Image object>"
      ]
     },
     "metadata": {},
     "output_type": "display_data"
    }
   ],
   "source": [
    "acceptance.Draw('E1')\n",
    "c1.Draw()"
   ]
  },
  {
   "cell_type": "code",
   "execution_count": 90,
   "metadata": {},
   "outputs": [
    {
     "data": {
      "image/png": "[encoded data removed]",
      "text/plain": [
       "<IPython.core.display.Image object>"
      ]
     },
     "metadata": {},
     "output_type": "display_data"
    }
   ],
   "source": [
    "hist_1285_kk_data.Draw(\"E1\")\n",
    "c1.Draw()"
   ]
  },
  {
   "cell_type": "code",
   "execution_count": 91,
   "metadata": {},
   "outputs": [],
   "source": [
    "func_eta = ROOT.TF1(\"func_eta\", \"[0]\", -1, 1)\n",
    "func_f1 = ROOT.TF1(\"func_f1\", \"[0]*cos(x)*cos(x) + [1]*sin(x)*sin(x)\", -1, 1)\n",
    "\n",
    "func_eta.SetLineColor(ROOT.TColor.GetColor(constants.COLORBLIND_HEX_DICT['red']))\n",
    "func_f1.SetLineColor(ROOT.TColor.GetColor(constants.COLORBLIND_HEX_DICT['blue']))\n",
    "\n",
    "\n",
    "# func_eta.SetParameter(0, 600)\n",
    "# func_f1.SetParameter(0, -600)\n",
    "# func_f1.SetParameter(1, 200)"
   ]
  },
  {
   "cell_type": "code",
   "execution_count": 92,
   "metadata": {},
   "outputs": [
    {
     "data": {
      "text/plain": [
       "<cppyy.gbl.TFitResultPtr object at 0x110ac3a0>"
      ]
     },
     "execution_count": 92,
     "metadata": {},
     "output_type": "execute_result"
    },
    {
     "name": "stdout",
     "output_type": "stream",
     "text": [
      " FCN=768.714 FROM MIGRAD    STATUS=CONVERGED      14 CALLS          15 TOTAL\n",
      "                     EDM=1.34985e-07    STRATEGY= 1      ERROR MATRIX ACCURATE \n",
      "  EXT PARAMETER                                   STEP         FIRST   \n",
      "  NO.   NAME      VALUE            ERROR          SIZE      DERIVATIVE \n",
      "   1  p0           1.56577e+04   1.67050e+02   2.26099e+00  -3.11036e-06\n",
      " FCN=160.327 FROM MIGRAD    STATUS=CONVERGED      32 CALLS          33 TOTAL\n",
      "                     EDM=3.289e-21    STRATEGY= 1      ERROR MATRIX ACCURATE \n",
      "  EXT PARAMETER                                   STEP         FIRST   \n",
      "  NO.   NAME      VALUE            ERROR          SIZE      DERIVATIVE \n",
      "   1  p0           1.15465e+04   2.35983e+02   1.21795e+00   4.08375e-13\n",
      "   2  p1           3.62566e+04   8.51669e+02   4.36547e+00   4.88293e-14\n"
     ]
    }
   ],
   "source": [
    "hist_1285_kk_data.Fit(func_eta, \"BS+\")\n",
    "hist_1285_kk_data.Fit(func_f1, \"BS+\")"
   ]
  },
  {
   "cell_type": "code",
   "execution_count": 93,
   "metadata": {},
   "outputs": [
    {
     "name": "stdout",
     "output_type": "stream",
     "text": [
      "chi2 per ndf for eta: 48.04462772259241\n",
      "chi2 per ndf for f1: 10.688435922909218\n"
     ]
    }
   ],
   "source": [
    "chi2_per_ndf_eta = func_eta.GetChisquare()/func_eta.GetNDF()\n",
    "chi2_per_ndf_f1 = func_f1.GetChisquare()/func_f1.GetNDF()\n",
    "\n",
    "print(f'chi2 per ndf for eta: {chi2_per_ndf_eta}')\n",
    "print(f'chi2 per ndf for f1: {chi2_per_ndf_f1}')"
   ]
  },
  {
   "cell_type": "code",
   "execution_count": 94,
   "metadata": {},
   "outputs": [
    {
     "data": {
      "image/png": "[encoded data removed]",
      "text/plain": [
       "<IPython.core.display.Image object>"
      ]
     },
     "metadata": {},
     "output_type": "display_data"
    }
   ],
   "source": [
    "hist_1285_kk_data.GetXaxis().SetTitle('Cos(#Theta_{H}^{a0})')\n",
    "hist_1285_kk_data.GetYaxis().SetTitle('Counts')\n",
    "hist_1285_kk_data.GetYaxis().SetTitleOffset(1.5)\n",
    "hist_1285_kk_data.SetMarkerStyle(20)\n",
    "hist_1285_kk_data.Draw(\"E1\")\n",
    "\n",
    "legend = ROOT.TLegend(0.7, 0.15, 0.9, 0.35)\n",
    "legend.AddEntry(hist_1285_kk_data.GetPtr(), 'Data', 'p')\n",
    "legend.AddEntry(func_eta, '0^{-+} (#eta) Hypothesis', 'l')\n",
    "legend.AddEntry(func_f1, '1^{++} (f_{1}) Hypothesis', 'l')\n",
    "\n",
    "if channel == 'pipkmks':\n",
    "    final_state_str = 'Final State: K^{-}K_{s}#pi^{+}'\n",
    "else:\n",
    "    final_state_str = 'Final State: K^{+}K_{s}#pi^{-}'\n",
    "    \n",
    "\n",
    "hel_fit_latex = ROOT.TLatex()\n",
    "hel_fit_latex.SetTextSize(0.06)\n",
    "hel_fit_latex.DrawLatexNDC(0.3, 0.875, final_state_str )\n",
    "hel_fit_latex.DrawLatexNDC(0.3, 0.8, '1^{++} #chi^{2}/ndf = ' + '{:.2f}'.format(chi2_per_ndf_f1))\n",
    "hel_fit_latex.DrawLatexNDC(0.3, 0.725, '0^{-+} #chi^{2}/ndf = ' + '{:.2f}'.format(chi2_per_ndf_eta))\n",
    "legend.Draw()\n",
    "\n",
    "c1.Draw()"
   ]
  },
  {
   "cell_type": "code",
   "execution_count": null,
   "metadata": {},
   "outputs": [],
   "source": [
    "hist2d = df_data.Filter(f'{channel}_m < 1.4 && {channel}_m > 1.1').Histo2D(('costheta-kk_vs_kkpi', 'Cos(#Theta^{H}_{KK}) vs M(KK#pi)', 50, 1.1, 1.4, 25, -1.1, 1.1), f'{channel}_m', 'kk_helicity_costheta').GetValue()"
   ]
  },
  {
   "cell_type": "code",
   "execution_count": null,
   "metadata": {},
   "outputs": [],
   "source": [
    "hist2d.Draw('COLZ')\n",
    "c1.Draw()"
   ]
  },
  {
   "cell_type": "code",
   "execution_count": null,
   "metadata": {},
   "outputs": [],
   "source": [
    "hist_signal_costhets = df_signal.Filter(f'{channel}_m < 1.35 && {channel}_m > 1.24').Histo1D(('costheta-kk_signal', 'Cos(#Theta^{H}_{KK})', 25, -1.1, 1.1), 'kk_helicity_costheta')\n",
    "hist_signal_kkpi = df_signal.Filter(f'{channel}_m < 1.35 && {channel}_m > 1.24').Histo1D(('kkpi_signal', 'M(KK#pi)', 50, 1.24, 1.35), f'{channel}_m')\n",
    "hist_signal_2d = df_signal.Filter(f'{channel}_m < 1.4 && {channel}_m > 1.1').Histo2D(('costheta-kk_vs_kkpi', 'Cos(#Theta^{H}_{KK}) vs M(KK#pi)', 50, 1.1, 1.4, 25, -1.1, 1.1), f'{channel}_m', 'kk_helicity_costheta').GetValue()"
   ]
  },
  {
   "cell_type": "code",
   "execution_count": null,
   "metadata": {},
   "outputs": [],
   "source": [
    "hist_thrown_costhets = df_thrown.Filter(f'{channel}_m < 1.32 && {channel}_m > 1.24').Histo1D(('costheta-kk_signal', 'Cos(#Theta^{H}_{KK})', 25, -1.1, 1.1), 'kk_helicity_costheta')\n",
    "hist_thrown_kkpi = df_thrown.Filter(f'{channel}_m < 1.32 && {channel}_m > 1.24').Histo1D(('kkpi_signal', 'M(KK#pi)', 50, 1.24, 1.35), f'{channel}_m')\n",
    "hist_thrown_2d = df_thrown.Filter(f'{channel}_m < 1.4 && {channel}_m > 1.1').Histo2D(('costheta-kk_vs_kkpi', 'Cos(#Theta^{H}_{KK}) vs M(KK#pi)', 50, 1.1, 1.4, 25, -1.1, 1.1), f'{channel}_m', 'kk_helicity_costheta').GetValue()"
   ]
  },
  {
   "cell_type": "code",
   "execution_count": null,
   "metadata": {},
   "outputs": [],
   "source": [
    "c2 = ROOT.TCanvas('c2', 'c2', 1200, 800)\n",
    "c2.Divide(3, 1)\n",
    "\n",
    "c2.cd(1)\n",
    "hist_signal_costhets.Draw('E')\n",
    "c2.cd(2)\n",
    "hist_signal_kkpi.Draw('E')\n",
    "c2.cd(3)\n",
    "hist_signal_2d.Draw('COLZ')\n",
    "c2.Draw()"
   ]
  },
  {
   "cell_type": "code",
   "execution_count": null,
   "metadata": {},
   "outputs": [],
   "source": [
    "c2.cd(1)\n",
    "hist_thrown_costhets.Draw('E')\n",
    "c2.cd(2)\n",
    "hist_thrown_kkpi.Draw('E')\n",
    "c2.cd(3)\n",
    "hist_thrown_2d.Draw('COLZ')\n",
    "c2.Draw()"
   ]
  },
  {
   "cell_type": "code",
   "execution_count": null,
   "metadata": {},
   "outputs": [],
   "source": [
    "c1.cd()\n",
    "hist_eff_test = hist_1285_kk_phasespace.Clone('eff_test')\n",
    "hist_eff_test.Divide(acceptance)\n",
    "\n",
    "hist_eff_test.Draw('E')\n",
    "c1.Draw()"
   ]
  }
 ],
 "metadata": {
  "kernelspec": {
   "display_name": "Python 3",
   "language": "python",
   "name": "python3"
  },
  "language_info": {
   "codemirror_mode": {
    "name": "ipython",
    "version": 3
   },
   "file_extension": ".py",
   "mimetype": "text/x-python",
   "name": "python",
   "nbconvert_exporter": "python",
   "pygments_lexer": "ipython3",
   "version": "3.6.8"
  },
  "orig_nbformat": 4
 },
 "nbformat": 4,
 "nbformat_minor": 2
}
