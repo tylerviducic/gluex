{
 "cells": [
  {
   "cell_type": "markdown",
   "metadata": {},
   "source": [
    "# Notebook to plot the helicity angles of $a_{0}$"
   ]
  },
  {
   "cell_type": "code",
   "execution_count": 1,
   "metadata": {},
   "outputs": [
    {
     "name": "stdout",
     "output_type": "stream",
     "text": [
      "Welcome to JupyROOT 6.24/04\n"
     ]
    }
   ],
   "source": [
    "import ROOT\n",
    "import numpy as np\n",
    "import my_library.common_analysis_tools as ct\n",
    "import my_library.constants as constants\n",
    "import my_library.kinematic_cuts as kcuts\n",
    "import pandas as pd"
   ]
  },
  {
   "cell_type": "code",
   "execution_count": 2,
   "metadata": {},
   "outputs": [],
   "source": [
    "df_pipkmks = ct.get_dataframe(\"pipkmks\", 'spring', 'data')"
   ]
  },
  {
   "cell_type": "code",
   "execution_count": 3,
   "metadata": {},
   "outputs": [],
   "source": [
    "df_pipkmks = df_pipkmks.Define('kk_px', 'km_px + ks_px')\n",
    "df_pipkmks = df_pipkmks.Define('kk_py', 'km_py + ks_py')\n",
    "df_pipkmks = df_pipkmks.Define('kk_pz', 'km_pz + ks_pz')\n",
    "df_pipkmks = df_pipkmks.Define('kk_E', 'km_E + ks_E')"
   ]
  },
  {
   "cell_type": "code",
   "execution_count": 4,
   "metadata": {},
   "outputs": [],
   "source": [
    "df_pipkmks = df_pipkmks.Define(\"beam_p4\", \"ROOT::Math::PxPyPzEVector(e_beam, 0, 0, e_beam)\")\n",
    "df_pipkmks = df_pipkmks.Define(\"target_p4\", \"ROOT::Math::PxPyPzEVector(0, 0, 0, 0.938272)\")"
   ]
  },
  {
   "cell_type": "code",
   "execution_count": 5,
   "metadata": {},
   "outputs": [],
   "source": [
    "df_pipkmks = df_pipkmks.Define('cm_boost_vector', '(beam_p4 + target_p4).BoostToCM()')"
   ]
  },
  {
   "cell_type": "code",
   "execution_count": 6,
   "metadata": {},
   "outputs": [],
   "source": [
    "df_pipkmks = df_pipkmks.Define('p_p4', 'ROOT::Math::PxPyPzEVector(p_px, p_py, p_pz, p_E)')\n",
    "df_pipkmks = df_pipkmks.Define('pipkmks_p4', 'ROOT::Math::PxPyPzEVector(pipkmks_px, pipkmks_py, pipkmks_pz, pipkmks_E)')\n",
    "df_pipkmks = df_pipkmks.Define('kk_p4', 'ROOT::Math::PxPyPzEVector(kk_px, kk_py, kk_pz, kk_E)')\n",
    "df_pipkmks = df_pipkmks.Define('pip1_p4', 'ROOT::Math::PxPyPzEVector(pip1_px, pip1_py, pip1_pz, pip1_E)')\n"
   ]
  },
  {
   "cell_type": "code",
   "execution_count": 7,
   "metadata": {},
   "outputs": [],
   "source": [
    "df_pipkmks = df_pipkmks.Define('cm_boost', \"ROOT::Math::Boost(cm_boost_vector)\")"
   ]
  },
  {
   "cell_type": "code",
   "execution_count": 8,
   "metadata": {},
   "outputs": [],
   "source": [
    "df_pipkmks = df_pipkmks.Define('p_p4_cm', 'cm_boost(p_p4)')\n",
    "df_pipkmks = df_pipkmks.Define('pipkmks_p4_cm', 'cm_boost(pipkmks_p4)')\n",
    "df_pipkmks = df_pipkmks.Define('kk_p4_cm', 'cm_boost(kk_p4)')\n",
    "df_pipkmks = df_pipkmks.Define('pip1_p4_cm', 'cm_boost(pip1_p4)')\n",
    "df_pipkmks = df_pipkmks.Define('beam_p4_cm', 'cm_boost(beam_p4)')\n",
    "df_pipkmks = df_pipkmks.Define('target_p4_cm', 'cm_boost(target_p4)')"
   ]
  },
  {
   "cell_type": "code",
   "execution_count": 9,
   "metadata": {},
   "outputs": [],
   "source": [
    "df_pipkmks = df_pipkmks.Define('f1_rest_boost_vector', 'pipkmks_p4_cm.BoostToCM()')\n",
    "df_pipkmks = df_pipkmks.Define('f1_rest_boost', 'ROOT::Math::Boost(f1_rest_boost_vector)')\n",
    "df_pipkmks = df_pipkmks.Define('kk_p4_rest', 'f1_rest_boost(kk_p4_cm)')\n",
    "df_pipkmks = df_pipkmks.Define('pip1_p4_rest', 'f1_rest_boost(pip1_p4_cm)')\n"
   ]
  },
  {
   "cell_type": "code",
   "execution_count": 10,
   "metadata": {},
   "outputs": [],
   "source": [
    "df_pipkmks = df_pipkmks.Define('yhat', 'beam_p4_cm.Vect().Cross(pipkmks_p4_cm.Vect()).Unit()')\n",
    "df_pipkmks = df_pipkmks.Define('zhat', 'pipkmks_p4_cm.Vect().Unit()')\n",
    "df_pipkmks = df_pipkmks.Define('xhat', 'yhat.Cross(zhat)')"
   ]
  },
  {
   "cell_type": "code",
   "execution_count": 11,
   "metadata": {},
   "outputs": [],
   "source": [
    "df_pipkmks = df_pipkmks.Define('kk_rest_p3', 'kk_p4_rest.Vect()')\n",
    "df_pipkmks = df_pipkmks.Define('kk_helicty_p3', 'ROOT::Math::XYZVector(kk_rest_p3.Dot(xhat), kk_rest_p3.Dot(yhat), kk_rest_p3.Dot(zhat))')"
   ]
  },
  {
   "cell_type": "code",
   "execution_count": 12,
   "metadata": {},
   "outputs": [],
   "source": [
    "df_pipkmks = df_pipkmks.Define('kk_helicity_costheta', 'kk_helicty_p3.Z()/sqrt(kk_helicty_p3.Mag2())')"
   ]
  },
  {
   "cell_type": "code",
   "execution_count": 13,
   "metadata": {},
   "outputs": [],
   "source": [
    "hist_1285_kk_costheta = df_pipkmks.Filter('pipkmks_m < 1.32 && pipkmks_m > 1.24').Histo1D(('1285_kk_costheta', '1285_kk_costheta', 25, -1.1, 1.1), 'kk_helicity_costheta').GetValue()"
   ]
  },
  {
   "cell_type": "code",
   "execution_count": 14,
   "metadata": {},
   "outputs": [],
   "source": [
    "func_eta = ROOT.TF1(\"func_eta\", \"[0]\", -1, 1)\n",
    "func_f1 = ROOT.TF1(\"func_f1\", \"[0]*cos(x)*cos(x) + [1]*sin(x)*sin(x)\", -1, 1)\n",
    "\n",
    "func_eta.SetParameter(0, 600)\n",
    "func_f1.SetParameter(0, -600)\n",
    "func_f1.SetParameter(1, 200)"
   ]
  },
  {
   "cell_type": "code",
   "execution_count": 15,
   "metadata": {},
   "outputs": [
    {
     "data": {
      "text/plain": [
       "<cppyy.gbl.TFitResultPtr object at 0xc9ffaf0>"
      ]
     },
     "execution_count": 15,
     "metadata": {},
     "output_type": "execute_result"
    },
    {
     "name": "stdout",
     "output_type": "stream",
     "text": [
      " FCN=6009.56 FROM MIGRAD    STATUS=CONVERGED      14 CALLS          15 TOTAL\n",
      "                     EDM=2.08528e-18    STRATEGY= 1      ERROR MATRIX ACCURATE \n",
      "  EXT PARAMETER                                   STEP         FIRST   \n",
      "  NO.   NAME      VALUE            ERROR          SIZE      DERIVATIVE \n",
      "   1  p0           1.84932e+02   2.83558e+00   1.07341e-01   7.20203e-10\n",
      " FCN=2302.03 FROM MIGRAD    STATUS=CONVERGED      30 CALLS          31 TOTAL\n",
      "                     EDM=5.2971e-21    STRATEGY= 1      ERROR MATRIX ACCURATE \n",
      "  EXT PARAMETER                                   STEP         FIRST   \n",
      "  NO.   NAME      VALUE            ERROR          SIZE      DERIVATIVE \n",
      "   1  p0           5.45150e+02   6.56039e+00   1.20206e-01   1.89153e-11\n",
      "   2  p1          -1.71743e+02   6.50796e+00   1.19245e-01   1.71610e-11\n"
     ]
    },
    {
     "name": "stderr",
     "output_type": "stream",
     "text": [
      "Info in <TCanvas::MakeDefCanvas>:  created default TCanvas with name c1\n"
     ]
    }
   ],
   "source": [
    "hist_1285_kk_costheta.Fit(func_eta, \"BS+\")\n",
    "hist_1285_kk_costheta.Fit(func_f1, \"BS+\")"
   ]
  },
  {
   "cell_type": "code",
   "execution_count": 16,
   "metadata": {},
   "outputs": [
    {
     "data": {
      "image/png": "[encoded data removed]",
      "text/plain": [
       "<IPython.core.display.Image object>"
      ]
     },
     "metadata": {},
     "output_type": "display_data"
    }
   ],
   "source": [
    "c = ROOT.TCanvas()\n",
    "hist_1285_kk_costheta.Draw(\"E\")\n",
    "c.Draw()"
   ]
  }
 ],
 "metadata": {
  "kernelspec": {
   "display_name": "Python 3",
   "language": "python",
   "name": "python3"
  },
  "language_info": {
   "codemirror_mode": {
    "name": "ipython",
    "version": 3
   },
   "file_extension": ".py",
   "mimetype": "text/x-python",
   "name": "python",
   "nbconvert_exporter": "python",
   "pygments_lexer": "ipython3",
   "version": "3.6.8"
  },
  "orig_nbformat": 4
 },
 "nbformat": 4,
 "nbformat_minor": 2
}
