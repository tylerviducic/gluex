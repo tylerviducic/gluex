{
 "cells": [
  {
   "cell_type": "code",
   "execution_count": 1,
   "metadata": {},
   "outputs": [
    {
     "name": "stdout",
     "output_type": "stream",
     "text": [
      "Welcome to JupyROOT 6.24/04\n"
     ]
    }
   ],
   "source": [
    "import my_library.common_analysis_tools as tools\n",
    "import my_library.kinematic_cuts as kcuts\n",
    "import my_library.constants as constants\n",
    "import ROOT\n",
    "import numpy as np"
   ]
  },
  {
   "cell_type": "code",
   "execution_count": 2,
   "metadata": {},
   "outputs": [],
   "source": [
    "ROOT.gStyle.SetOptStat(0)"
   ]
  },
  {
   "cell_type": "code",
   "execution_count": 3,
   "metadata": {},
   "outputs": [],
   "source": [
    "@ROOT.Numba.Declare(['float', 'float', 'float'], 'float')\n",
    "def get_theta(px, py, pz):\n",
    "    return np.degrees(np.arctan2(np.sqrt(px**2 + py**2), pz))\n",
    "\n",
    "@ROOT.Numba.Declare(['float', 'float'], 'float')\n",
    "def get_phi(px, py):\n",
    "    return np.degrees(np.arctan2(py, px))\n"
   ]
  },
  {
   "cell_type": "code",
   "execution_count": 4,
   "metadata": {},
   "outputs": [],
   "source": [
    "def make_kinematics_hists(particle, df, pxmin=-2.0, pxmax=2.0, pymin=-2.0, pymax=2.0, pzmin=-2.0, pzmax=2.0, pmin=-2.0, pmax=2.0, thetamin=0.0, thetamax=180.0, bin_size_p=0.01, bin_size_theta=1.0, phi_deg_per_bin=1.0):\n",
    "        n_bins_px = int((pxmax - pxmin) / bin_size_p)\n",
    "        n_bins_py = int((pymax - pymin) / bin_size_p)\n",
    "        n_bins_pz = int((pzmax - pzmin) / bin_size_p)\n",
    "        n_bins_p = int((pmax - pmin) / bin_size_p)\n",
    "        n_bins_theta = int((thetamax - thetamin) / bin_size_theta)\n",
    "        n_bins_phi = int(370/phi_deg_per_bin)\n",
    "\n",
    "        hist_px = df.Histo1D((f'{particle}_px', f'{particle}_px', n_bins_px, pxmin, pxmax), f'{particle}_px')\n",
    "        hist_py = df.Histo1D((f'{particle}_py', f'{particle}_py', n_bins_py, pymin, pymax), f'{particle}_py')\n",
    "        hist_pz = df.Histo1D((f'{particle}_pz', f'{particle}_pz', n_bins_pz, pzmin, pzmax), f'{particle}_pz')\n",
    "        hist_p = df.Define('p', f'sqrt({particle}_px*p_px + {particle}_py*p_py + {particle}_pz*p_pz)').Histo1D((f'{particle}_p', f'{particle}_p', n_bins_p, pmin, pmax), 'p')\n",
    "        hist_theta = df.Define('theta', f'Numba::get_theta({particle}_px, {particle}_py, {particle}_pz)').Histo1D((f'{particle}_theta', f'{particle}_theta', n_bins_theta, thetamin, thetamax), 'theta')\n",
    "        hist_phi = df.Define('phi', f'Numba::get_phi({particle}_px, {particle}_py)').Histo1D((f'{particle}_phi', f'{particle}_phi', n_bins_phi, -185.0, 185.0), 'phi')\n",
    "        return hist_px, hist_py, hist_pz, hist_p, hist_theta, hist_phi\n",
    "\n",
    "\n",
    "def get_kinematics(channel: str, particle: str, df: ROOT.RDataFrame, pxmin=-2.0, pxmax=2.0, pymin=-2.0, pymax=2.0, pzmin=-2.0, pzmax=2.0, pmin=-2.0, pmax=2.0, thetamin=0.0, thetamax=180.0, bin_size_p=0.01, bin_size_theta=1.0, phi_deg_per_bin=1.0):\n",
    "    if particle not in ['proton', 'kaon', 'pion', 'kshort_pi+', 'kshort_pi-']:\n",
    "        print(f'Particle {particle}_{channel} not supported')\n",
    "        raise ValueError(f'Acceptable particles are proton, kaon, pion, kshort_pi+, kshort_pi-')\n",
    "    if channel not in ['pipkmks', 'pimkpks']:\n",
    "        print(f'Channel {channel} not supported')\n",
    "        raise ValueError(f'Acceptable channels are pipkmks, pimkpks')\n",
    "    \n",
    "    if channel == 'pipkmks':\n",
    "        kaon = 'km'\n",
    "        pion = 'pip1'\n",
    "        ks_pip = 'pip2'\n",
    "        ks_pim = 'pim'\n",
    "    elif channel == 'pimkpks':\n",
    "        kaon = 'kp'\n",
    "        pion = 'pim1'\n",
    "        ks_pip = 'pip'\n",
    "        ks_pim = 'pim2'\n",
    "\n",
    "    if particle == 'proton':\n",
    "        return make_kinematics_hists('p', df, pxmin=pxmin, pxmax=pxmax, pymin=pymin, pymax=pymax, pzmin=pzmin, pzmax=pzmax, pmin=pmin, pmax=pmax, thetamin=thetamin, thetamax=thetamax, bin_size_p=bin_size_p, bin_size_theta=bin_size_theta, phi_deg_per_bin=phi_deg_per_bin)\n",
    "    elif particle == 'kaon':\n",
    "        return make_kinematics_hists(kaon, df, pxmin=pxmin, pxmax=pxmax, pymin=pymin, pymax=pymax, pzmin=pzmin, pzmax=pzmax, pmin=pmin, pmax=pmax, thetamin=thetamin, thetamax=thetamax, bin_size_p=bin_size_p, bin_size_theta=bin_size_theta, phi_deg_per_bin=phi_deg_per_bin)\n",
    "    elif particle == 'pion':\n",
    "        return make_kinematics_hists(pion, df, pxmin=pxmin, pxmax=pxmax, pymin=pymin, pymax=pymax, pzmin=pzmin, pzmax=pzmax, pmin=pmin, pmax=pmax, thetamin=thetamin, thetamax=thetamax, bin_size_p=bin_size_p, bin_size_theta=bin_size_theta, phi_deg_per_bin=phi_deg_per_bin)\n",
    "    elif particle == 'kshort_pi+':\n",
    "        return make_kinematics_hists(ks_pip, df, pxmin=pxmin, pxmax=pxmax, pymin=pymin, pymax=pymax, pzmin=pzmin, pzmax=pzmax, pmin=pmin, pmax=pmax, thetamin=thetamin, thetamax=thetamax, bin_size_p=bin_size_p, bin_size_theta=bin_size_theta, phi_deg_per_bin=phi_deg_per_bin)\n",
    "    elif particle == 'kshort_pi-':\n",
    "        return make_kinematics_hists(ks_pim, df, pxmin=pxmin, pxmax=pxmax, pymin=pymin, pymax=pymax, pzmin=pzmin, pzmax=pzmax, pmin=pmin, pmax=pmax, thetamin=thetamin, thetamax=thetamax, bin_size_p=bin_size_p, bin_size_theta=bin_size_theta, phi_deg_per_bin=phi_deg_per_bin)\n",
    "    \n",
    "\n",
    "def get_tallest(hist_list: list):\n",
    "    if len(hist_list) < 2:\n",
    "        return 0\n",
    "    tallest_index = -1\n",
    "    tallest = -1\n",
    "    for i in range(len(hist_list)):\n",
    "        if hist_list[i].GetMaximum() > tallest:\n",
    "            tallest = hist_list[i].GetMaximum()\n",
    "            tallest_index = i\n",
    "    return tallest_index\n",
    "\n",
    "\n",
    "def sort_hists_by_max(hists: list):\n",
    "    sorted_hists = []\n",
    "    sorted_index = []\n",
    "    while len(hists) > 0:\n",
    "        tallest = get_tallest(hists)\n",
    "        sorted_index.append(tallest)\n",
    "        sorted_hists.append(hists.pop(tallest))\n",
    "    return sorted_hists"
   ]
  },
  {
   "cell_type": "code",
   "execution_count": 5,
   "metadata": {},
   "outputs": [],
   "source": [
    "run_period = 'spring'\n",
    "df_pipkmks_data = tools.get_dataframe('pipkmks', run_period, 'data')\n",
    "df_pipkmks_signal = tools.get_dataframe('pipkmks', run_period, 'signal')\n",
    "\n",
    "df_pimkpks_data = tools.get_dataframe('pimkpks', run_period, 'data')\n",
    "df_pimkpks_signal = tools.get_dataframe('pimkpks', run_period, 'signal')"
   ]
  },
  {
   "cell_type": "code",
   "execution_count": 6,
   "metadata": {},
   "outputs": [
    {
     "ename": "runtime_error",
     "evalue": "Template method resolution failed:\n  ROOT::RDF::RInterface<ROOT::Detail::RDF::RJittedFilter,void> ROOT::RDF::RInterface<ROOT::Detail::RDF::RLoopManager,void>::Filter(experimental::basic_string_view<char,char_traits<char> > expression, experimental::basic_string_view<char,char_traits<char> > name = \"\") =>\n    runtime_error: GetBranchNames: error in opening the tree pipkmks_filtered_2018_spring\n  ROOT::RDF::RInterface<ROOT::Detail::RDF::RJittedFilter,void> ROOT::RDF::RInterface<ROOT::Detail::RDF::RLoopManager,void>::Filter(experimental::basic_string_view<char,char_traits<char> > expression, experimental::basic_string_view<char,char_traits<char> > name = \"\") =>\n    runtime_error: GetBranchNames: error in opening the tree pipkmks_filtered_2018_spring",
     "output_type": "error",
     "traceback": [
      "\u001b[0;31m---------------------------------------------------------------------------\u001b[0m",
      "\u001b[0;31mruntime_error\u001b[0m                             Traceback (most recent call last)",
      "\u001b[0;32m<ipython-input-6-9366abd2cf02>\u001b[0m in \u001b[0;36m<module>\u001b[0;34m\u001b[0m\n\u001b[0;32m----> 1\u001b[0;31m \u001b[0mdf_pipkmks_data\u001b[0m \u001b[0;34m=\u001b[0m \u001b[0mdf_pipkmks_data\u001b[0m\u001b[0;34m.\u001b[0m\u001b[0mFilter\u001b[0m\u001b[0;34m(\u001b[0m\u001b[0mkcuts\u001b[0m\u001b[0;34m.\u001b[0m\u001b[0mKSTAR_ALL_CUT_PIPKMKS\u001b[0m\u001b[0;34m)\u001b[0m\u001b[0;34m.\u001b[0m\u001b[0mFilter\u001b[0m\u001b[0;34m(\u001b[0m\u001b[0;34m'pipkmks_m > 1.24 && pipkmks_m < 1.35'\u001b[0m\u001b[0;34m)\u001b[0m\u001b[0;34m\u001b[0m\u001b[0;34m\u001b[0m\u001b[0m\n\u001b[0m\u001b[1;32m      2\u001b[0m \u001b[0mdf_pipkmks_signal\u001b[0m \u001b[0;34m=\u001b[0m \u001b[0mdf_pipkmks_signal\u001b[0m\u001b[0;34m.\u001b[0m\u001b[0mFilter\u001b[0m\u001b[0;34m(\u001b[0m\u001b[0mkcuts\u001b[0m\u001b[0;34m.\u001b[0m\u001b[0mKSTAR_ALL_CUT_PIPKMKS\u001b[0m\u001b[0;34m)\u001b[0m\u001b[0;34m.\u001b[0m\u001b[0mFilter\u001b[0m\u001b[0;34m(\u001b[0m\u001b[0;34m'pipkmks_m > 1.24 && pipkmks_m < 1.35'\u001b[0m\u001b[0;34m)\u001b[0m\u001b[0;34m\u001b[0m\u001b[0;34m\u001b[0m\u001b[0m\n\u001b[1;32m      3\u001b[0m \u001b[0;34m\u001b[0m\u001b[0m\n\u001b[1;32m      4\u001b[0m \u001b[0mdf_pimkpks_data\u001b[0m \u001b[0;34m=\u001b[0m \u001b[0mdf_pimkpks_data\u001b[0m\u001b[0;34m.\u001b[0m\u001b[0mFilter\u001b[0m\u001b[0;34m(\u001b[0m\u001b[0mkcuts\u001b[0m\u001b[0;34m.\u001b[0m\u001b[0mKSTAR_ALL_CUT_PIMKPKS\u001b[0m\u001b[0;34m)\u001b[0m\u001b[0;34m.\u001b[0m\u001b[0mFilter\u001b[0m\u001b[0;34m(\u001b[0m\u001b[0;34m'pimkpks_m > 1.24 && pimkpks_m < 1.35'\u001b[0m\u001b[0;34m)\u001b[0m\u001b[0;34m\u001b[0m\u001b[0;34m\u001b[0m\u001b[0m\n\u001b[1;32m      5\u001b[0m \u001b[0mdf_pimkpks_signal\u001b[0m \u001b[0;34m=\u001b[0m \u001b[0mdf_pimkpks_signal\u001b[0m\u001b[0;34m.\u001b[0m\u001b[0mFilter\u001b[0m\u001b[0;34m(\u001b[0m\u001b[0mkcuts\u001b[0m\u001b[0;34m.\u001b[0m\u001b[0mKSTAR_ALL_CUT_PIMKPKS\u001b[0m\u001b[0;34m)\u001b[0m\u001b[0;34m.\u001b[0m\u001b[0mFilter\u001b[0m\u001b[0;34m(\u001b[0m\u001b[0;34m'pimkpks_m > 1.24 && pimkpks_m < 1.35'\u001b[0m\u001b[0;34m)\u001b[0m\u001b[0;34m\u001b[0m\u001b[0;34m\u001b[0m\u001b[0m\n",
      "\u001b[0;31mruntime_error\u001b[0m: Template method resolution failed:\n  ROOT::RDF::RInterface<ROOT::Detail::RDF::RJittedFilter,void> ROOT::RDF::RInterface<ROOT::Detail::RDF::RLoopManager,void>::Filter(experimental::basic_string_view<char,char_traits<char> > expression, experimental::basic_string_view<char,char_traits<char> > name = \"\") =>\n    runtime_error: GetBranchNames: error in opening the tree pipkmks_filtered_2018_spring\n  ROOT::RDF::RInterface<ROOT::Detail::RDF::RJittedFilter,void> ROOT::RDF::RInterface<ROOT::Detail::RDF::RLoopManager,void>::Filter(experimental::basic_string_view<char,char_traits<char> > expression, experimental::basic_string_view<char,char_traits<char> > name = \"\") =>\n    runtime_error: GetBranchNames: error in opening the tree pipkmks_filtered_2018_spring"
     ]
    },
    {
     "name": "stderr",
     "output_type": "stream",
     "text": [
      "Warning in <TFile::Init>: file /work/halld/home/viducic/data/pipkmks/data/bestX2/pipkmks_filtered_2018_spring.root probably not closed, trying to recover\n",
      "Warning in <TFile::Init>: no keys recovered, file has been made a Zombie\n",
      "Warning in <TFile::Init>: file /work/halld/home/viducic/data/pipkmks/data/bestX2/pipkmks_filtered_2018_spring.root probably not closed, trying to recover\n",
      "Warning in <TFile::Init>: no keys recovered, file has been made a Zombie\n"
     ]
    }
   ],
   "source": [
    "df_pipkmks_data = df_pipkmks_data.Filter(kcuts.KSTAR_ALL_CUT_PIPKMKS).Filter('pipkmks_m > 1.24 && pipkmks_m < 1.35')\n",
    "df_pipkmks_signal = df_pipkmks_signal.Filter(kcuts.KSTAR_ALL_CUT_PIPKMKS).Filter('pipkmks_m > 1.24 && pipkmks_m < 1.35')\n",
    "\n",
    "df_pimkpks_data = df_pimkpks_data.Filter(kcuts.KSTAR_ALL_CUT_PIMKPKS).Filter('pimkpks_m > 1.24 && pimkpks_m < 1.35')\n",
    "df_pimkpks_signal = df_pimkpks_signal.Filter(kcuts.KSTAR_ALL_CUT_PIMKPKS).Filter('pimkpks_m > 1.24 && pimkpks_m < 1.35')"
   ]
  },
  {
   "cell_type": "markdown",
   "metadata": {},
   "source": [
    "### Proton Kinematics"
   ]
  },
  {
   "cell_type": "code",
   "execution_count": null,
   "metadata": {},
   "outputs": [],
   "source": [
    "c = ROOT.TCanvas(\"c\", \"c\", 1000, 1000)\n",
    "c.Divide(3, 2)\n",
    "\n",
    "proton_hists_pipkmks_data = get_kinematics('pipkmks', 'proton', df_pipkmks_data, pmin=0.0, pzmin=0.15, pzmax=1.2, thetamin=40.0, thetamax=70, phi_deg_per_bin=5.0)\n",
    "proton_hists_pipkmks_signal = get_kinematics('pipkmks', 'proton', df_pipkmks_signal, pmin=0.0, pzmin=0.15, pzmax=1.2, thetamin=40.0, thetamax=70, phi_deg_per_bin=5.0)\n",
    "proton_hists_pimkpks_data = get_kinematics('pimkpks', 'proton', df_pimkpks_data, pmin=0.0, pzmin=0.15, pzmax=1.2, thetamin=40.0, thetamax=70, phi_deg_per_bin=5.0)\n",
    "proton_hists_pimkpks_signal = get_kinematics('pimkpks', 'proton', df_pimkpks_signal, pmin=0.0, pzmin=0.15, pzmax=1.2, thetamin=40.0, thetamax=70, phi_deg_per_bin=5.0)\n",
    "legends = []\n",
    "for i, hist_pipkmks_data in enumerate(proton_hists_pipkmks_data):\n",
    "    c.cd(i+1)\n",
    "    hist_pipkmks_data = hist_pipkmks_data.GetValue()\n",
    "    hist_pimkpks_data = proton_hists_pimkpks_data[i].GetValue()\n",
    "    hist_pimkpks_signal = proton_hists_pimkpks_signal[i].GetValue()\n",
    "    hist_pipkmks_signal = proton_hists_pipkmks_signal[i].GetValue()\n",
    "    quantity = hist_pimkpks_data.GetName().split('_')[1]\n",
    "    hist_pimkpks_data.SetTitle(quantity + ' for p')\n",
    "    hist_pimkpks_data.SetLineColor(ROOT.TColor.GetColor(constants.COLORBLIND_HEX_DICT['red']))\n",
    "    hist_pipkmks_data.SetLineColor(ROOT.TColor.GetColor(constants.COLORBLIND_HEX_DICT['blue']))\n",
    "    hist_pimkpks_signal.SetLineColor(ROOT.TColor.GetColor(constants.COLORBLIND_HEX_DICT['orange']))\n",
    "    hist_pipkmks_signal.SetLineColor(ROOT.TColor.GetColor(constants.COLORBLIND_HEX_DICT['green']))\n",
    "    hist_pipkmks_data.Scale(1.0/hist_pipkmks_data.Integral())\n",
    "    hist_pipkmks_signal.Scale(1.0/hist_pipkmks_signal.Integral())\n",
    "    hist_pimkpks_data.Scale(1.0/hist_pimkpks_data.Integral())\n",
    "    hist_pimkpks_signal.Scale(1.0/hist_pimkpks_signal.Integral())\n",
    "    legend = ROOT.TLegend(0.7, 0.8, 0.95, 0.95)\n",
    "    label_pipkmks_data = quantity + ' for data #pi^{+}K^{-}K_{s}'\n",
    "    label_pipkmks_signal = quantity + ' for MC #pi^{+}K^{-}K_{s}'\n",
    "    label_pimkpks_data = quantity + ' for data #pi^{-}K^{+}K_{s}'\n",
    "    label_pimkpks_signal = quantity + ' for MC #pi^{-}K^{+}K_{s}'\n",
    "    legend.AddEntry(hist_pipkmks_data, label_pipkmks_data, 'l')\n",
    "    legend.AddEntry(hist_pipkmks_signal, label_pipkmks_signal, 'l')\n",
    "    legend.AddEntry(hist_pimkpks_data, label_pimkpks_data, 'l')\n",
    "    legend.AddEntry(hist_pimkpks_signal, label_pimkpks_signal, 'l')\n",
    "    legends.append(legend)\n",
    "    sorted_hists = sort_hists_by_max([hist_pipkmks_data, hist_pimkpks_data, hist_pipkmks_signal, hist_pimkpks_signal])\n",
    "    sorted_hists[0].Draw()\n",
    "    for hist in sorted_hists[1:]:\n",
    "        hist.Draw('same')\n",
    "    legends[i].Draw()\n",
    "c.Draw()"
   ]
  },
  {
   "cell_type": "markdown",
   "metadata": {},
   "source": [
    "### Kaon Kinematics"
   ]
  },
  {
   "cell_type": "code",
   "execution_count": null,
   "metadata": {},
   "outputs": [],
   "source": [
    "kaon_hists_pipkmks_data = get_kinematics('pipkmks', 'kaon', df_pipkmks_data, pmin=0.4, pzmin=1.0, pzmax=5.0, pxmin=-1.0, pxmax=1.0, pymin=-1.0, pymax=1.9, thetamin=0.0, thetamax=20, phi_deg_per_bin=5.0)\n",
    "kaon_hists_pipkmks_signal = get_kinematics('pipkmks', 'kaon', df_pipkmks_signal, pmin=0.4, pzmin=1.0, pzmax=5.0, pxmin=-1.0, pxmax=1.0, pymin=-1.0, pymax=1.9, thetamin=0.0, thetamax=20, phi_deg_per_bin=5.0)\n",
    "kaon_hists_pimkpks_data = get_kinematics('pimkpks', 'kaon', df_pimkpks_data, pmin=0.4, pzmin=1.0, pzmax=5.0, pxmin=-1.0, pxmax=1.0, pymin=-1.0, pymax=1.9, thetamin=0.0, thetamax=20, phi_deg_per_bin=5.0)\n",
    "kaon_hists_pimkpks_signal = get_kinematics('pimkpks', 'kaon', df_pimkpks_signal, pmin=0.4, pzmin=1.0, pzmax=5.0, pxmin=-1.0, pxmax=1.0, pymin=-1.0, pymax=1.9, thetamin=0.0, thetamax=20, phi_deg_per_bin=5.0)\n",
    "legends = []\n",
    "for i, hist_pipkmks_data in enumerate(kaon_hists_pipkmks_data):\n",
    "    c.cd(i+1)\n",
    "    hist_pipkmks_data = hist_pipkmks_data.GetValue()\n",
    "    hist_pimkpks_data = kaon_hists_pimkpks_data[i].GetValue()\n",
    "    hist_pimkpks_signal = kaon_hists_pimkpks_signal[i].GetValue()\n",
    "    hist_pipkmks_signal = kaon_hists_pipkmks_signal[i].GetValue()\n",
    "    quantity = hist_pimkpks_data.GetName().split('_')[1]\n",
    "    hist_pimkpks_data.SetTitle(quantity + ' for K^{#mp}')\n",
    "    hist_pipkmks_data.SetTitle(quantity + ' for K^{#mp}')\n",
    "    hist_pimkpks_signal.SetTitle(quantity + ' for K^{#mp}')\n",
    "    hist_pipkmks_signal.SetTitle(quantity + ' for K^{#mp}')\n",
    "    hist_pimkpks_data.SetLineColor(ROOT.TColor.GetColor(constants.COLORBLIND_HEX_DICT['red']))\n",
    "    hist_pipkmks_data.SetLineColor(ROOT.TColor.GetColor(constants.COLORBLIND_HEX_DICT['blue']))\n",
    "    hist_pimkpks_signal.SetLineColor(ROOT.TColor.GetColor(constants.COLORBLIND_HEX_DICT['orange']))\n",
    "    hist_pipkmks_signal.SetLineColor(ROOT.TColor.GetColor(constants.COLORBLIND_HEX_DICT['green']))\n",
    "    hist_pipkmks_data.Scale(1.0/hist_pipkmks_data.Integral())\n",
    "    hist_pipkmks_signal.Scale(1.0/hist_pipkmks_signal.Integral())\n",
    "    hist_pimkpks_data.Scale(1.0/hist_pimkpks_data.Integral())\n",
    "    hist_pimkpks_signal.Scale(1.0/hist_pimkpks_signal.Integral())\n",
    "    legend = ROOT.TLegend(0.65, 0.75, 1.0, 1.0)\n",
    "    label_pipkmks_data = quantity + ' for data #pi^{+}K^{-}K_{s}'\n",
    "    label_pipkmks_signal = quantity + ' for MC #pi^{+}K^{-}K_{s}'\n",
    "    label_pimkpks_data = quantity + ' for data #pi^{-}K^{+}K_{s}'\n",
    "    label_pimkpks_signal = quantity + ' for MC #pi^{-}K^{+}K_{s}'\n",
    "    legend.AddEntry(hist_pipkmks_data, label_pipkmks_data, 'l')\n",
    "    legend.AddEntry(hist_pipkmks_signal, label_pipkmks_signal, 'l')\n",
    "    legend.AddEntry(hist_pimkpks_data, label_pimkpks_data, 'l')\n",
    "    legend.AddEntry(hist_pimkpks_signal, label_pimkpks_signal, 'l')\n",
    "    legends.append(legend)\n",
    "    sorted_hists = sort_hists_by_max([hist_pipkmks_data, hist_pimkpks_data, hist_pipkmks_signal, hist_pimkpks_signal])\n",
    "    sorted_hists[0].Draw()\n",
    "    for hist in sorted_hists[1:]:\n",
    "        hist.Draw('same')\n",
    "    legends[i].Draw()\n",
    "c.Draw()"
   ]
  },
  {
   "cell_type": "markdown",
   "metadata": {},
   "source": [
    "### Pion Kinematics"
   ]
  },
  {
   "cell_type": "code",
   "execution_count": null,
   "metadata": {},
   "outputs": [],
   "source": [
    "pion_hists_pipkmks_data = get_kinematics('pipkmks', 'pion', df_pipkmks_data, pmin=0.2, pmax=1.4,pxmin=-0.5, pxmax=0.5, pymin=-0.5, pymax=0.5, pzmin=0.4, pzmax=3.0, thetamin=0.0, thetamax=40, phi_deg_per_bin=5.0)\n",
    "pion_hists_pipkmks_signal = get_kinematics('pipkmks', 'pion', df_pipkmks_signal, pmin=0.2, pmax=1.4,pxmin=-0.5, pxmax=0.5, pymin=-0.5, pymax=0.5, pzmin=0.4, pzmax=3.0, thetamin=0.0, thetamax=40, phi_deg_per_bin=5.0)\n",
    "pion_hists_pimkpks_data = get_kinematics('pimkpks', 'pion', df_pimkpks_data, pmin=0.2, pmax=1.4,pxmin=-0.5, pxmax=0.5, pymin=-0.5, pymax=0.5, pzmin=0.4, pzmax=3.0, thetamin=0.0, thetamax=40, phi_deg_per_bin=5.0)\n",
    "pion_hists_pimkpks_signal = get_kinematics('pimkpks', 'pion', df_pimkpks_signal, pmin=0.2, pmax=1.4,pxmin=-0.5, pxmax=0.5, pymin=-0.5, pymax=0.5, pzmin=0.4, pzmax=3.0, thetamin=0.0, thetamax=40, phi_deg_per_bin=5.0)\n",
    "legends = []\n",
    "for i, hist_pipkmks_data in enumerate(pion_hists_pipkmks_data):\n",
    "    c.cd(i+1)\n",
    "    hist_pipkmks_data = hist_pipkmks_data.GetValue()\n",
    "    hist_pimkpks_data = pion_hists_pimkpks_data[i].GetValue()\n",
    "    hist_pimkpks_signal = pion_hists_pimkpks_signal[i].GetValue()\n",
    "    hist_pipkmks_signal = pion_hists_pipkmks_signal[i].GetValue()\n",
    "    quantity = hist_pimkpks_data.GetName().split('_')[1]\n",
    "    hist_pimkpks_data.SetTitle(quantity + ' for #pi^{#pm}')\n",
    "    hist_pipkmks_data.SetTitle(quantity + ' for #pi^{#pm}')\n",
    "    hist_pimkpks_signal.SetTitle(quantity + ' for #pi^{#pm}')\n",
    "    hist_pipkmks_signal.SetTitle(quantity + ' for #pi^{#pm}')\n",
    "    hist_pimkpks_data.SetLineColor(ROOT.TColor.GetColor(constants.COLORBLIND_HEX_DICT['red']))\n",
    "    hist_pipkmks_data.SetLineColor(ROOT.TColor.GetColor(constants.COLORBLIND_HEX_DICT['blue']))\n",
    "    hist_pimkpks_signal.SetLineColor(ROOT.TColor.GetColor(constants.COLORBLIND_HEX_DICT['orange']))\n",
    "    hist_pipkmks_signal.SetLineColor(ROOT.TColor.GetColor(constants.COLORBLIND_HEX_DICT['green']))\n",
    "    hist_pipkmks_data.Scale(1.0/hist_pipkmks_data.Integral())\n",
    "    hist_pipkmks_signal.Scale(1.0/hist_pipkmks_signal.Integral())\n",
    "    hist_pimkpks_data.Scale(1.0/hist_pimkpks_data.Integral())\n",
    "    hist_pimkpks_signal.Scale(1.0/hist_pimkpks_signal.Integral())\n",
    "    legend = ROOT.TLegend(0.65, 0.75, 1.0, 1.0)\n",
    "    label_pipkmks_data = quantity + ' for data #pi^{+}K^{-}K_{s}'\n",
    "    label_pipkmks_signal = quantity + ' for MC #pi^{+}K^{-}K_{s}'\n",
    "    label_pimkpks_data = quantity + ' for data #pi^{-}K^{+}K_{s}'\n",
    "    label_pimkpks_signal = quantity + ' for MC #pi^{-}K^{+}K_{s}'\n",
    "    legend.AddEntry(hist_pipkmks_data, label_pipkmks_data, 'l')\n",
    "    legend.AddEntry(hist_pipkmks_signal, label_pipkmks_signal, 'l')\n",
    "    legend.AddEntry(hist_pimkpks_data, label_pimkpks_data, 'l')\n",
    "    legend.AddEntry(hist_pimkpks_signal, label_pimkpks_signal, 'l')\n",
    "    legends.append(legend)\n",
    "    sorted_hists = sort_hists_by_max([hist_pipkmks_data, hist_pimkpks_data, hist_pipkmks_signal, hist_pimkpks_signal])\n",
    "    sorted_hists[0].Draw()\n",
    "    for hist in sorted_hists[1:]:\n",
    "        hist.Draw('same')\n",
    "    legends[i].Draw()\n",
    "c.Draw()"
   ]
  },
  {
   "cell_type": "markdown",
   "metadata": {},
   "source": [
    "### KShort Pi+ Kinematics"
   ]
  },
  {
   "cell_type": "code",
   "execution_count": null,
   "metadata": {},
   "outputs": [],
   "source": [
    "kspip_hists_pipkmks_data = get_kinematics('pipkmks', 'kshort_pi+', df_pipkmks_data, pmin=0.0, pzmin=0.0, pzmax=4.0, pxmin=-1.0, pxmax=1.0, pymin=-1.0, pymax=1.0, thetamin=0.0, thetamax=40, phi_deg_per_bin=5.0)\n",
    "kspip_hists_pipkmks_signal = get_kinematics('pipkmks', 'kshort_pi+', df_pipkmks_signal, pmin=0.0, pzmin=0.0, pzmax=4.0, pxmin=-1.0, pxmax=1.0, pymin=-1.0, pymax=1.0, thetamin=0.0, thetamax=40, phi_deg_per_bin=5.0)\n",
    "kspip_hists_pimkpks_data = get_kinematics('pimkpks', 'kshort_pi+', df_pimkpks_data, pmin=0.0, pzmin=0.0, pzmax=4.0, pxmin=-1.0, pxmax=1.0, pymin=-1.0, pymax=1.0, thetamin=0.0, thetamax=40, phi_deg_per_bin=5.0)\n",
    "kspip_hists_pimkpks_signal = get_kinematics('pimkpks', 'kshort_pi+', df_pimkpks_signal, pmin=0.0, pzmin=0.0, pzmax=4.0, pxmin=-1.0, pxmax=1.0, pymin=-1.0, pymax=1.0, thetamin=0.0, thetamax=40, phi_deg_per_bin=5.0)\n",
    "legends = []\n",
    "for i, hist_pipkmks_data in enumerate(kspip_hists_pipkmks_data):\n",
    "    c.cd(i+1)\n",
    "    hist_pipkmks_data = hist_pipkmks_data.GetValue()\n",
    "    hist_pimkpks_data = kspip_hists_pimkpks_data[i].GetValue()\n",
    "    hist_pimkpks_signal = kspip_hists_pimkpks_signal[i].GetValue()\n",
    "    hist_pipkmks_signal = kspip_hists_pipkmks_signal[i].GetValue()\n",
    "    quantity = hist_pimkpks_data.GetName().split('_')[1]\n",
    "    hist_pimkpks_data.SetTitle(quantity + ' for #pi^{+} from K_{s}')\n",
    "    hist_pimkpks_data.SetLineColor(ROOT.TColor.GetColor(constants.COLORBLIND_HEX_DICT['red']))\n",
    "    hist_pipkmks_data.SetLineColor(ROOT.TColor.GetColor(constants.COLORBLIND_HEX_DICT['blue']))\n",
    "    hist_pimkpks_signal.SetLineColor(ROOT.TColor.GetColor(constants.COLORBLIND_HEX_DICT['orange']))\n",
    "    hist_pipkmks_signal.SetLineColor(ROOT.TColor.GetColor(constants.COLORBLIND_HEX_DICT['green']))\n",
    "    hist_pipkmks_data.Scale(1.0/hist_pipkmks_data.Integral())\n",
    "    hist_pipkmks_signal.Scale(1.0/hist_pipkmks_signal.Integral())\n",
    "    hist_pimkpks_data.Scale(1.0/hist_pimkpks_data.Integral())\n",
    "    hist_pimkpks_signal.Scale(1.0/hist_pimkpks_signal.Integral())\n",
    "    legend = ROOT.TLegend(0.65, 0.75, 1.0, 1.0)\n",
    "    label_pipkmks_data = quantity + ' for data #pi^{+}K^{-}K_{s}'\n",
    "    label_pipkmks_signal = quantity + ' for MC #pi^{+}K^{-}K_{s}'\n",
    "    label_pimkpks_data = quantity + ' for data #pi^{-}K^{+}K_{s}'\n",
    "    label_pimkpks_signal = quantity + ' for MC #pi^{-}K^{+}K_{s}'\n",
    "    legend.AddEntry(hist_pipkmks_data, label_pipkmks_data, 'l')\n",
    "    legend.AddEntry(hist_pipkmks_signal, label_pipkmks_signal, 'l')\n",
    "    legend.AddEntry(hist_pimkpks_data, label_pimkpks_data, 'l')\n",
    "    legend.AddEntry(hist_pimkpks_signal, label_pimkpks_signal, 'l')\n",
    "    legends.append(legend)\n",
    "    sorted_hists = sort_hists_by_max([hist_pipkmks_data, hist_pimkpks_data, hist_pipkmks_signal, hist_pimkpks_signal])\n",
    "    sorted_hists[0].Draw()\n",
    "    for hist in sorted_hists[1:]:\n",
    "        hist.Draw('same')\n",
    "    legends[i].Draw()\n",
    "c.Draw()"
   ]
  },
  {
   "cell_type": "markdown",
   "metadata": {},
   "source": [
    "### KShort Pi- Kinematics"
   ]
  },
  {
   "cell_type": "code",
   "execution_count": null,
   "metadata": {},
   "outputs": [],
   "source": [
    "\n",
    "kspim_hists_pipkmks_data = get_kinematics('pipkmks', 'kshort_pi-', df_pipkmks_data, pmin=0.0, pzmin=0.0, pzmax=4.0, pxmin=-1.0, pxmax=1.0, pymin=-1.0, pymax=1.0, thetamin=0.0, thetamax=40, phi_deg_per_bin=5.0)\n",
    "kspim_hists_pipkmks_signal = get_kinematics('pipkmks', 'kshort_pi-', df_pipkmks_signal, pmin=0.0, pzmin=0.0, pzmax=4.0, pxmin=-1.0, pxmax=1.0, pymin=-1.0, pymax=1.0, thetamin=0.0, thetamax=40, phi_deg_per_bin=5.0)\n",
    "kspim_hists_pimkpks_data = get_kinematics('pimkpks', 'kshort_pi-', df_pimkpks_data, pmin=0.0, pzmin=0.0, pzmax=4.0, pxmin=-1.0, pxmax=1.0, pymin=-1.0, pymax=1.0, thetamin=0.0, thetamax=40, phi_deg_per_bin=5.0)\n",
    "kspim_hists_pimkpks_signal = get_kinematics('pimkpks', 'kshort_pi-', df_pimkpks_signal, pmin=0.0, pzmin=0.0, pzmax=4.0, pxmin=-1.0, pxmax=1.0, pymin=-1.0, pymax=1.0, thetamin=0.0, thetamax=40, phi_deg_per_bin=5.0)\n",
    "legends = []\n",
    "for i, hist_pipkmks_data in enumerate(kspim_hists_pipkmks_data):\n",
    "    c.cd(i+1)\n",
    "    hist_pipkmks_data = hist_pipkmks_data.GetValue()\n",
    "    hist_pimkpks_data = kspim_hists_pimkpks_data[i].GetValue()\n",
    "    hist_pimkpks_signal = kspim_hists_pimkpks_signal[i].GetValue()\n",
    "    hist_pipkmks_signal = kspim_hists_pipkmks_signal[i].GetValue()\n",
    "    quantity = hist_pimkpks_data.GetName().split('_')[1]\n",
    "    hist_pimkpks_data.SetTitle(quantity + ' for #pi^{-} from K_{s}')\n",
    "    hist_pimkpks_data.SetLineColor(ROOT.TColor.GetColor(constants.COLORBLIND_HEX_DICT['red']))\n",
    "    hist_pipkmks_data.SetLineColor(ROOT.TColor.GetColor(constants.COLORBLIND_HEX_DICT['blue']))\n",
    "    hist_pimkpks_signal.SetLineColor(ROOT.TColor.GetColor(constants.COLORBLIND_HEX_DICT['orange']))\n",
    "    hist_pipkmks_signal.SetLineColor(ROOT.TColor.GetColor(constants.COLORBLIND_HEX_DICT['green']))\n",
    "    hist_pipkmks_data.Scale(1.0/hist_pipkmks_data.Integral())\n",
    "    hist_pipkmks_signal.Scale(1.0/hist_pipkmks_signal.Integral())\n",
    "    hist_pimkpks_data.Scale(1.0/hist_pimkpks_data.Integral())\n",
    "    hist_pimkpks_signal.Scale(1.0/hist_pimkpks_signal.Integral())\n",
    "    legend = ROOT.TLegend(0.65, 0.75, 1.0, 1.0)\n",
    "    label_pipkmks_data = quantity + ' for data #pi^{+}K^{-}K_{s}'\n",
    "    label_pipkmks_signal = quantity + ' for MC #pi^{+}K^{-}K_{s}'\n",
    "    label_pimkpks_data = quantity + ' for data #pi^{-}K^{+}K_{s}'\n",
    "    label_pimkpks_signal = quantity + ' for MC #pi^{-}K^{+}K_{s}'\n",
    "    legend.AddEntry(hist_pipkmks_data, label_pipkmks_data, 'l')\n",
    "    legend.AddEntry(hist_pipkmks_signal, label_pipkmks_signal, 'l')\n",
    "    legend.AddEntry(hist_pimkpks_data, label_pimkpks_data, 'l')\n",
    "    legend.AddEntry(hist_pimkpks_signal, label_pimkpks_signal, 'l')\n",
    "    legends.append(legend)\n",
    "    sorted_hists = sort_hists_by_max([hist_pipkmks_data, hist_pimkpks_data, hist_pipkmks_signal, hist_pimkpks_signal])\n",
    "    sorted_hists[0].Draw()\n",
    "    for hist in sorted_hists[1:]:\n",
    "        hist.Draw('same')\n",
    "    legends[i].Draw()\n",
    "c.Draw()"
   ]
  }
 ],
 "metadata": {
  "kernelspec": {
   "display_name": "Python 3",
   "language": "python",
   "name": "python3"
  },
  "language_info": {
   "codemirror_mode": {
    "name": "ipython",
    "version": 3
   },
   "file_extension": ".py",
   "mimetype": "text/x-python",
   "name": "python",
   "nbconvert_exporter": "python",
   "pygments_lexer": "ipython3",
   "version": "3.6.8"
  },
  "orig_nbformat": 4
 },
 "nbformat": 4,
 "nbformat_minor": 2
}
