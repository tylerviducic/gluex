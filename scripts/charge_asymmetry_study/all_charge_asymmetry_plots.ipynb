{
 "cells": [
  {
   "cell_type": "markdown",
   "metadata": {
    "tags": [
     "checklist"
    ]
   },
   "source": [
    "# Checklist\n",
    "## KKPi distributions\n",
    "#### with K* exclusion\n",
    "1. ~~integrated~~\n",
    "2. ~~binned in -t~~\n",
    "#### without K* exclusion\n",
    "1. ~~integrated~~\n",
    "2. ~~binned in -t~~\n",
    "\n",
    "## Kinematic distributions (with K* exclusion)\n",
    "#### Kaon\n",
    "1. ~~p~~\n",
    "2. ~~theta ~~\n",
    "3. ~~p vs theta~~\n",
    "4. ~~p vs kkpi~~\n",
    "5. ~~theta vs kkpi~~\n",
    "#### Pion\n",
    "1. p\n",
    "2. theta \n",
    "3. p vs theta\n",
    "4. p vs kkpi\n",
    "5. theta vs kkpi\n",
    "#### $K_{s}$\n",
    "1. p\n",
    "2. theta \n",
    "3. p vs theta\n",
    "4. p vs kkpi\n",
    "5. theta vs kkpi\n",
    "#### $K_{s} \\rightarrow \\pi{+}$\n",
    "1. p\n",
    "2. theta \n",
    "3. p vs theta\n",
    "4. p vs kkpi\n",
    "5. theta vs kkpi\n",
    "5. theta vs kkpi\n",
    "#### $K_{s} \\rightarrow \\pi^{-}$\n",
    "1. p\n",
    "2. theta \n",
    "3. p vs theta\n",
    "4. p vs kkpi\n",
    "5. theta vs kkpi\n",
    "\n",
    "### Particle mass combos\n",
    "#### $p\\pi$\n",
    "1. whole mass range with shading for cut\n",
    "2. $1.24 < M(KK\\pi) < 1.35$ with shading for cut\n",
    "3. $KK\\pi$ vs $p\\pi$ for $1.24 < M(KK\\pi) < 1.35$\n",
    "4. $KK\\pi$ vs $p\\pi$ for $1.1 < M(KK\\pi) < 1.6$ \n",
    "5. $KK\\pi$ with and without cut on quantity \n",
    "\n",
    "#### $pK^{\\mp}$\n",
    "1. whole mass range with shading for cut\n",
    "2. $1.24 < M(KK\\pi) < 1.35$ with shading for cut\n",
    "3. $KK\\pi$ vs $pK^{\\mp}$ for $1.24 < M(KK\\pi) < 1.35$\n",
    "4. $KK\\pi$ vs $pK^{\\mp}$ for $1.1 < M(KK\\pi) < 1.6$\n",
    "5. $KK\\pi$ with and without cut on quantity \n",
    "\n",
    "#### $pK_{s}$\n",
    "1. whole mass range with shading for cut\n",
    "2. $1.24 < M(KK\\pi) < 1.35$ with shading for cut\n",
    "3. $KK\\pi$ vs $pK_{s}$ for $1.24 < M(KK\\pi) < 1.35$\n",
    "4. $KK\\pi$ vs $pK_{s}$ for $1.1 < M(KK\\pi) < 1.6$\n",
    "5. $KK\\pi$ with and without cut on quantity \n",
    "\n",
    "#### $K^{\\mp}K_{s}$\n",
    "1. whole mass range with shading for cut\n",
    "2. $1.24 < M(KK\\pi) < 1.35$ with shading for cut\n",
    "3. $KK\\pi$ vs $K^{\\mp}K_{s}$ for $1.24 < M(KK\\pi) < 1.35$\n",
    "4. $KK\\pi$ vs $K^{\\mp}K_{s}$ for $1.1 < M(KK\\pi) < 1.6$\n",
    "5. $KK\\pi$ with and without cut on quantity \n",
    "\n",
    "#### $K^{\\mp}\\pi^{\\pm}$\n",
    "1. whole mass range with shading for cut\n",
    "2. $1.24 < M(KK\\pi) < 1.35$ with shading for cut\n",
    "3. $KK\\pi$ vs $K^{\\mp}\\pi^{\\pm}$ for $1.24 < M(KK\\pi) < 1.35$\n",
    "4. $KK\\pi$ vs $K^{\\mp}\\pi^{\\pm}$ for $1.1 < M(KK\\pi) < 1.6$\n",
    "5. $KK\\pi$ with and without cut on quantity \n",
    "\n",
    "#### $K_{s}\\pi^{\\pm}$\n",
    "1. whole mass range with shading for cut\n",
    "2. $1.24 < M(KK\\pi) < 1.35$ with shading for cut\n",
    "3. $KK\\pi$ vs $K_{s}\\pi^{\\pm}$ for $1.24 < M(KK\\pi) < 1.35$\n",
    "4. $KK\\pi$ vs $K_{s}\\pi^{\\pm}$ for $1.1 < M(KK\\pi) < 1.6$\n",
    "5. $KK\\pi$ with and without cut on quantity \n",
    "\n",
    "\n"
   ]
  },
  {
   "cell_type": "code",
   "execution_count": 1,
   "metadata": {},
   "outputs": [
    {
     "name": "stdout",
     "output_type": "stream",
     "text": [
      "Welcome to JupyROOT 6.24/04\n"
     ]
    }
   ],
   "source": [
    "import ROOT\n",
    "import my_library.common_analysis_tools as tools\n",
    "import my_library.kinematic_cuts as kcuts\n",
    "import my_library.constants as constants"
   ]
  },
  {
   "cell_type": "code",
   "execution_count": 9,
   "metadata": {},
   "outputs": [],
   "source": [
    "ROOT.EnableImplicitMT()\n",
    "ROOT.gStyle.SetOptStat(0)"
   ]
  },
  {
   "cell_type": "code",
   "execution_count": 3,
   "metadata": {},
   "outputs": [],
   "source": [
    "df_pipkmks = tools.get_dataframe('pipkmks', 'gluex1', 'data', filtered=False)\n",
    "df_pimkpks = tools.get_dataframe('pimkpks', 'gluex1', 'data', filtered=False)\n",
    "\n",
    "df_pipkmks = df_pipkmks.Filter(kcuts.KINFIT_CL_CUT).Filter(kcuts.MX2_PPIPKMKS_CUT).Filter(kcuts.KS_PATHLENGTH_CUT).Filter(kcuts.KS_MASS_CUT).Filter(kcuts.P_P_CUT)\n",
    "df_pimkpks = df_pimkpks.Filter(kcuts.KINFIT_CL_CUT).Filter(kcuts.MX2_PPIMKPKS_CUT).Filter(kcuts.KS_PATHLENGTH_CUT).Filter(kcuts.KS_MASS_CUT).Filter(kcuts.P_P_CUT)\n",
    "\n",
    "df_pipkmks_kstar_cut = df_pipkmks.Filter(kcuts.KSTAR_ALL_CUT_PIPKMKS)\n",
    "df_pimkpks_kstar_cut = df_pimkpks.Filter(kcuts.KSTAR_ALL_CUT_PIMKPKS)\n",
    "\n",
    "df_pipkmks_all_cuts = df_pipkmks.Filter(kcuts.PPIP_MASS_CUT).Filter(kcuts.KMP_MASS_CUT).Filter(kcuts.KSP_MASS_CUT)\n",
    "df_pimkpks_all_cuts = df_pimkpks.Filter(kcuts.PPIM_MASS_CUT).Filter(kcuts.KPP_MASS_CUT).Filter(kcuts.KSP_MASS_CUT)\n",
    "\n",
    "df_pipkmks_all_cuts_kstar_cut = df_pipkmks_all_cuts.Filter(kcuts.KSTAR_ALL_CUT_PIPKMKS)\n",
    "df_pimkpks_all_cuts_kstar_cut = df_pimkpks_all_cuts.Filter(kcuts.KSTAR_ALL_CUT_PIMKPKS)"
   ]
  },
  {
   "cell_type": "markdown",
   "metadata": {},
   "source": [
    "## $KK\\pi$ Plots "
   ]
  },
  {
   "cell_type": "markdown",
   "metadata": {},
   "source": [
    "#### Integrated E and t $KK\\pi$ Plots with and without K* Rejection"
   ]
  },
  {
   "cell_type": "code",
   "execution_count": 4,
   "metadata": {},
   "outputs": [],
   "source": [
    "hist_pipkmks = df_pipkmks_all_cuts.Histo1D(('pipkmks_no_cut', 'M(#pi^{+}K^{-}K_{S})', 90, 1.1, 2.0), 'pipkmks_m')\n",
    "hist_pipkmks_kstar_cut = df_pipkmks_all_cuts_kstar_cut.Histo1D(('pipkmks_kstar_cut', 'M(#pi^{+}K^{-}K_{S})', 40, 1.1, 1.5), 'pipkmks_m')\n",
    "hist_pimkpks = df_pimkpks_all_cuts.Histo1D(('pimkpks_no_cut', 'M(#pi^{-}K^{+}K_{S})', 90, 1.1, 2.0), 'pimkpks_m')\n",
    "hist_pimkpks_kstar_cut = df_pimkpks_all_cuts_kstar_cut.Histo1D(('pimkpks_kstar_cut', 'M(#pi^{-}K^{+}K_{S})', 40, 1.1, 1.5), 'pimkpks_m')\n"
   ]
  },
  {
   "cell_type": "markdown",
   "metadata": {},
   "source": [
    "#### Integrated E, binned in t $KK\\pi$ plots with and without K* Rejection"
   ]
  },
  {
   "cell_type": "code",
   "execution_count": 5,
   "metadata": {},
   "outputs": [],
   "source": [
    "pipkmks_hists = []\n",
    "pimkpks_hists = []\n",
    "pipkmks_kstar_cut_hists = []\n",
    "pimkpks_kstar_cut_hists = []\n",
    "for t in constants.ALLOWED_T_BINS:\n",
    "    pipkmks_hists.append(df_pipkmks_all_cuts.Filter(kcuts.SELECT_T_BIN.format(t)).Histo1D((f'pipkmks_t_bin_{t}', 'M(#pi^{+}K^{-}K_{S})', 90, 1.1, 2.0), 'pipkmks_m'))\n",
    "    pipkmks_kstar_cut_hists.append(df_pipkmks_all_cuts_kstar_cut.Filter(kcuts.SELECT_T_BIN.format(t)).Histo1D((f'pipkmks_kstar_cut_t_bin_{t}', 'M(#pi^{+}K^{-}K_{S})', 40, 1.1, 1.5), 'pipkmks_m'))\n",
    "    pimkpks_hists.append(df_pimkpks_all_cuts.Filter(kcuts.SELECT_T_BIN.format(t)).Histo1D((f'pimkpks_t_bin_{t}', 'M(#pi^{-}K^{+}K_{S})', 90, 1.1, 2.0), 'pimkpks_m'))\n",
    "    pimkpks_kstar_cut_hists.append(df_pimkpks_all_cuts_kstar_cut.Filter(kcuts.SELECT_T_BIN.format(t)).Histo1D((f'pimkpks_kstar_cut_t_bin_{t}', 'M(#pi^{-}K^{+}K_{S})', 40, 1.1, 1.5), 'pimkpks_m'))\n",
    "    \n",
    "    "
   ]
  },
  {
   "cell_type": "markdown",
   "metadata": {},
   "source": [
    "## Particle Kinematics Plots \n",
    "**All Plots Will Have K\\* Rejection Applied**"
   ]
  },
  {
   "cell_type": "markdown",
   "metadata": {},
   "source": [
    "### Kaon Kinematics "
   ]
  },
  {
   "cell_type": "markdown",
   "metadata": {},
   "source": [
    "#### Integrated Distributions"
   ]
  },
  {
   "cell_type": "code",
   "execution_count": 14,
   "metadata": {},
   "outputs": [],
   "source": [
    "hist_km_p = df_pipkmks_all_cuts_kstar_cut.Histo1D(('km_p', 'p_{K^{-}}', 40, 0, 8), 'km_p')\n",
    "hist_kp_p = df_pimkpks_all_cuts_kstar_cut.Histo1D(('kp_p', 'p_{K^{+}}', 40, 0, 8), 'kp_p')\n",
    "hist_km_theta = df_pipkmks_all_cuts_kstar_cut.Histo1D(('km_theta', '#theta_{K^{-}}', 20, 0, 20), 'km_theta')\n",
    "hist_kp_theta = df_pimkpks_all_cuts_kstar_cut.Histo1D(('kp_theta', '#theta_{K^{+}}', 20, 0, 20), 'kp_theta')\n",
    "hist_km_theta_vs_p = df_pipkmks_all_cuts_kstar_cut.Histo2D(('km_theta_vs_p', '#theta_{K^{-}} vs p_{K^{-}}', 20, 0, 20, 40, 0, 8), 'km_theta', 'km_p')\n",
    "hist_kp_theta_vs_p = df_pimkpks_all_cuts_kstar_cut.Histo2D(('kp_theta_vs_p', '#theta_{K^{+}} vs p_{K^{+}}', 20, 0, 20, 40, 0, 8), 'kp_theta', 'kp_p')\n",
    "hist_km_p_vs_pipkmks = df_pipkmks_all_cuts_kstar_cut.Histo2D(('km_p_vs_pipkmks', 'p_{K^{-}} vs M(#pi^{+}K^{-}K_{S})', 40, 0, 8, 40, 1.1, 1.5), 'km_p', 'pipkmks_m')\n",
    "hist_kp_p_vs_pimkpks = df_pimkpks_all_cuts_kstar_cut.Histo2D(('kp_p_vs_pimkpks', 'p_{K^{+}} vs M(#pi^{-}K^{+}K_{S})', 40, 0, 8, 40, 1.1, 1.5), 'kp_p', 'pimkpks_m')\n",
    "hist_km_theta_vs_pipkmks = df_pipkmks_all_cuts_kstar_cut.Histo2D(('km_theta_vs_pipkmks', '#theta_{K^{-}} vs M(#pi^{+}K^{-}K_{S})', 20, 0, 20, 40, 1.1, 1.5), 'km_theta', 'pipkmks_m')\n",
    "hist_kp_theta_vs_pimkpks = df_pimkpks_all_cuts_kstar_cut.Histo2D(('kp_theta_vs_pimkpks', '#theta_{K^{+}} vs M(#pi^{-}K^{+}K_{S})', 20, 0, 20, 40, 1.1, 1.5), 'kp_theta', 'pimkpks_m')"
   ]
  },
  {
   "cell_type": "markdown",
   "metadata": {},
   "source": [
    "#### Binned Distributions"
   ]
  },
  {
   "cell_type": "code",
   "execution_count": 13,
   "metadata": {},
   "outputs": [],
   "source": [
    "km_p_hists = []\n",
    "kp_p_hists = []\n",
    "km_theta_hists = []\n",
    "kp_theta_hists = []\n",
    "km_theta_vs_p_hists = []\n",
    "kp_theta_vs_p_hists = []\n",
    "km_p_vs_pipkmks_hists = []\n",
    "kp_p_vs_pimkpks_hists = []\n",
    "km_theta_vs_pipkmks_hists = []\n",
    "kp_theta_vs_pimkpks_hists = []\n",
    "\n",
    "for t in constants.ALLOWED_T_BINS:\n",
    "    km_p_hists.append(df_pipkmks_all_cuts_kstar_cut.Filter(kcuts.SELECT_T_BIN.format(t)).Histo1D((f'km_p_t{t}', 'p_{K^{-}}', 40, 0, 8), 'km_p'))\n",
    "    kp_p_hists.append(df_pimkpks_all_cuts_kstar_cut.Filter(kcuts.SELECT_T_BIN.format(t)).Histo1D((f'kp_p_t{t}', 'p_{K^{+}}', 40, 0, 8), 'kp_p'))\n",
    "    km_theta_hists.append(df_pipkmks_all_cuts_kstar_cut.Filter(kcuts.SELECT_T_BIN.format(t)).Histo1D((f'km_theta_t{t}', '#theta_{K^{-}}', 20, 0, 20), 'km_theta'))\n",
    "    kp_theta_hists.append(df_pimkpks_all_cuts_kstar_cut.Filter(kcuts.SELECT_T_BIN.format(t)).Histo1D((f'kp_theta_t{t}', '#theta_{K^{+}}', 20, 0, 20), 'kp_theta'))\n",
    "    km_theta_vs_p_hists.append(df_pipkmks_all_cuts_kstar_cut.Filter(kcuts.SELECT_T_BIN.format(t)).Histo2D((f'km_theta_vs_p_t{t}', '#theta_{K^{-}} vs p_{K^{-}}', 20, 0, 20, 40, 0, 8), 'km_theta', 'km_p'))\n",
    "    kp_theta_vs_p_hists.append(df_pimkpks_all_cuts_kstar_cut.Filter(kcuts.SELECT_T_BIN.format(t)).Histo2D((f'kp_theta_vs_p_t{t}', '#theta_{K^{+}} vs p_{K^{+}}', 20, 0, 20, 40, 0, 8), 'kp_theta', 'kp_p'))\n",
    "    km_p_vs_pipkmks_hists.append(df_pipkmks_all_cuts_kstar_cut.Filter(kcuts.SELECT_T_BIN.format(t)).Histo2D((f'km_p_vs_pipkmks_t{t}', 'p_{K^{-}} vs M(#pi^{+}K^{-}K_{S})', 40, 0, 8, 40, 1.1, 1.5), 'km_p', 'pipkmks_m'))\n",
    "    kp_p_vs_pimkpks_hists.append(df_pimkpks_all_cuts_kstar_cut.Filter(kcuts.SELECT_T_BIN.format(t)).Histo2D((f'kp_p_vs_pimkpks_t{t}', 'p_{K^{+}} vs M(#pi^{-}K^{+}K_{S})', 40, 0, 8, 40, 1.1, 1.5), 'kp_p', 'pimkpks_m'))\n",
    "    km_theta_vs_pipkmks_hists.append(df_pipkmks_all_cuts_kstar_cut.Filter(kcuts.SELECT_T_BIN.format(t)).Histo2D((f'km_theta_vs_pipkmks_t{t}', '#theta_{K^{-}} vs M(#pi^{+}K^{-}K_{S})', 20, 0, 20, 40, 1.1, 1.5), 'km_theta', 'pipkmks_m'))\n",
    "    kp_theta_vs_pimkpks_hists.append(df_pimkpks_all_cuts_kstar_cut.Filter(kcuts.SELECT_T_BIN.format(t)).Histo2D((f'kp_theta_vs_pimkpks_t{t}', '#theta_{K^{+}} vs M(#pi^{-}K^{+}K_{S})', 20, 0, 20, 40, 1.1, 1.5), 'kp_theta', 'pimkpks_m'))"
   ]
  },
  {
   "cell_type": "markdown",
   "metadata": {},
   "source": [
    "### Pion Kinematics\n"
   ]
  },
  {
   "cell_type": "markdown",
   "metadata": {},
   "source": [
    "#### Integrated Distributions"
   ]
  },
  {
   "cell_type": "markdown",
   "metadata": {},
   "source": [
    "# PLOTS "
   ]
  },
  {
   "cell_type": "code",
   "execution_count": 7,
   "metadata": {},
   "outputs": [],
   "source": [
    "c = ROOT.TCanvas('c', 'c', 1200, 800)\n"
   ]
  },
  {
   "cell_type": "markdown",
   "metadata": {},
   "source": [
    "### Integrated $KK\\pi$ Plots with and without K* Rejection"
   ]
  },
  {
   "cell_type": "code",
   "execution_count": 12,
   "metadata": {},
   "outputs": [
    {
     "data": {
      "image/png": "[encoded data removed]",
      "text/plain": [
       "<IPython.core.display.Image object>"
      ]
     },
     "metadata": {},
     "output_type": "display_data"
    }
   ],
   "source": [
    "c.Clear()\n",
    "c.Divide(2, 1)\n",
    "\n",
    "c.cd(1)\n",
    "hist_pimkpks.SetLineColor(ROOT.kRed)\n",
    "legend_kkpi = ROOT.TLegend(0.6, 0.6, 0.9, 0.9)\n",
    "legend_kkpi.AddEntry(hist_pipkmks.GetPtr(), 'M(#pi^{+}K^{-}K_{S})', 'l')\n",
    "legend_kkpi.AddEntry(hist_pimkpks.GetPtr(), 'M(#pi^{-}K^{+}K_{S})', 'l')\n",
    "sorted_hists = tools.sort_hists_by_max([hist_pipkmks, hist_pimkpks])\n",
    "sorted_hists[0].SetTitle('M(#pi^{+}K^{-}K_{S}) without K* Rejection')\n",
    "sorted_hists[0].Draw()\n",
    "sorted_hists[1].Draw('same')\n",
    "legend_kkpi.Draw()\n",
    "\n",
    "c.cd(2)\n",
    "hist_pimkpks_kstar_cut.SetLineColor(ROOT.kRed)\n",
    "legend_kkpi_kstar_cut = ROOT.TLegend(0.6, 0.6, 0.9, 0.9)\n",
    "legend_kkpi_kstar_cut.AddEntry(hist_pipkmks_kstar_cut.GetPtr(), 'M(#pi^{+}K^{-}K_{S})', 'l')\n",
    "legend_kkpi_kstar_cut.AddEntry(hist_pimkpks_kstar_cut.GetPtr(), 'M(#pi^{-}K^{+}K_{S})', 'l')\n",
    "sorted_hists = tools.sort_hists_by_max([hist_pipkmks_kstar_cut, hist_pimkpks_kstar_cut])\n",
    "sorted_hists[0].SetTitle('M(#pi^{+}K^{-}K_{S}) with K* Rejection')\n",
    "sorted_hists[0].Draw()\n",
    "sorted_hists[1].Draw('same')\n",
    "legend_kkpi_kstar_cut.Draw()\n",
    "\n",
    "c.Draw()\n",
    "\n"
   ]
  },
  {
   "cell_type": "markdown",
   "metadata": {},
   "source": [
    "### Kaon Kinematics "
   ]
  },
  {
   "cell_type": "code",
   "execution_count": 15,
   "metadata": {},
   "outputs": [
    {
     "data": {
      "image/png": "[encoded data removed]",
      "text/plain": [
       "<IPython.core.display.Image object>"
      ]
     },
     "metadata": {},
     "output_type": "display_data"
    }
   ],
   "source": [
    "c.Clear()\n",
    "c.Divide(2, 1)\n",
    "\n",
    "c.cd(1)\n",
    "hist_kp_p.SetLineColor(ROOT.kRed)\n",
    "legend_kaon_p = ROOT.TLegend(0.6, 0.6, 0.9, 0.9)\n",
    "legend_kaon_p.AddEntry(hist_km_p.GetPtr(), 'K^{-}', 'l')\n",
    "legend_kaon_p.AddEntry(hist_kp_p.GetPtr(), 'K^{+}', 'l')\n",
    "sorted_hists = tools.sort_hists_by_max([hist_km_p, hist_kp_p])\n",
    "sorted_hists[0].SetTitle('K^{-} and K^{+} Momentum without K* Rejection')\n",
    "sorted_hists[0].Draw()\n",
    "sorted_hists[1].Draw('same')\n",
    "legend_kaon_p.Draw()\n",
    "\n",
    "c.cd(2)\n",
    "hist_kp_theta.SetLineColor(ROOT.kRed)\n",
    "legend_kaon_theta = ROOT.TLegend(0.6, 0.6, 0.9, 0.9)\n",
    "legend_kaon_theta.AddEntry(hist_km_theta.GetPtr(), 'K^{-}', 'l')\n",
    "legend_kaon_theta.AddEntry(hist_kp_theta.GetPtr(), 'K^{+}', 'l')\n",
    "sorted_hists = tools.sort_hists_by_max([hist_km_theta, hist_kp_theta])\n",
    "sorted_hists[0].SetTitle('K^{-} and K^{+} #Theta without K* Rejection')\n",
    "sorted_hists[0].Draw()\n",
    "sorted_hists[1].Draw('same')\n",
    "legend_kaon_theta.Draw()\n",
    "\n",
    "c.Draw()\n"
   ]
  },
  {
   "cell_type": "code",
   "execution_count": null,
   "metadata": {},
   "outputs": [],
   "source": [
    "# TODO: write this \n",
    "c.Clear()\n",
    "c.Divide(7, 2)\n",
    "legends = []\n",
    "for i, (hist_km, hist_kp) in enumerate(zip(km_p_hists, kp_p_hists, km_theta_hists, kp_theta_hists)):\n",
    "    c.cd(i+1)\n",
    "    hist_kp.SetLineColor(ROOT.kRed)\n",
    "    legend_kaon_p = ROOT.TLegend(0.6, 0.6, 0.9, 0.9)\n",
    "    legend_kaon_p.AddEntry(hist_km.GetPtr(), 'K^{-}', 'l')\n",
    "    legend_kaon_p.AddEntry(hist_kp.GetPtr(), 'K^{+}', 'l')\n",
    "    legends.append(legend_kaon_p)\n",
    "    sorted_hists = tools.sort_hists_by_max([hist_km, hist_kp])\n",
    "    sorted_hists[0].SetTitle(f'K^{-} and K^{+} Momentum without K* Rejection, {constants.T_BIN_NAMES[i]}')\n",
    "    sorted_hists[0].Draw()\n",
    "    sorted_hists[1].Draw('same')"
   ]
  }
 ],
 "metadata": {
  "kernelspec": {
   "display_name": "Python 3",
   "language": "python",
   "name": "python3"
  },
  "language_info": {
   "codemirror_mode": {
    "name": "ipython",
    "version": 3
   },
   "file_extension": ".py",
   "mimetype": "text/x-python",
   "name": "python",
   "nbconvert_exporter": "python",
   "pygments_lexer": "ipython3",
   "version": "3.6.8"
  }
 },
 "nbformat": 4,
 "nbformat_minor": 2
}
