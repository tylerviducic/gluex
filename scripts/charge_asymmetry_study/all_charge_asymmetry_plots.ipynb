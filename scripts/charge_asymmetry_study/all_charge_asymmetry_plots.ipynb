{
 "cells": [
  {
   "cell_type": "code",
   "execution_count": null,
   "metadata": {},
   "outputs": [],
   "source": [
    "import ROOT\n",
    "import my_library.common_analysis_tools as tools\n",
    "import my_library.kinematic_cuts as kcuts\n",
    "import my_library.constants as constants"
   ]
  },
  {
   "cell_type": "code",
   "execution_count": null,
   "metadata": {},
   "outputs": [],
   "source": [
    "ROOT.EnableImplicitMT()\n",
    "ROOT.gStyle.SetOptStat(1)"
   ]
  },
  {
   "cell_type": "code",
   "execution_count": null,
   "metadata": {},
   "outputs": [],
   "source": [
    "df_pipkmks = tools.get_dataframe('pipkmks', 'gluex1', 'data', filtered=False)\n",
    "df_pimkpks = tools.get_dataframe('pimkpks', 'gluex1', 'data', filtered=False)"
   ]
  },
  {
   "cell_type": "markdown",
   "metadata": {},
   "source": [
    "## Checklist\n",
    "### KKPi distributions\n",
    "#### with K* exclusion\n",
    "1. integrated\n",
    "2. binned in -t\n",
    "#### without K* exclusion\n",
    "1. integrated\n",
    "2. binned in -t\n",
    "\n",
    "### Kinematic distributions (with K* exclusion)\n",
    "#### Kaon\n",
    "1. p\n",
    "2. theta \n",
    "3. p vs theta\n",
    "4. p vs kkpi\n",
    "5. theta vs kkpi\n",
    "#### Pion\n",
    "1. p\n",
    "2. theta \n",
    "3. p vs theta\n",
    "4. p vs kkpi\n",
    "5. theta vs kkpi\n",
    "#### $K_{s}$\n",
    "1. p\n",
    "2. theta \n",
    "3. p vs theta\n",
    "4. p vs kkpi\n",
    "5. theta vs kkpi\n",
    "#### $K_{s} \\pi{+}$\n",
    "1. p\n",
    "2. theta \n",
    "3. p vs theta\n",
    "4. p vs kkpi\n",
    "5. theta vs kkpi\n",
    "5. theta vs kkpi\n",
    "#### $K_{s} \\pi^{-}$\n",
    "1. p\n",
    "2. theta \n",
    "3. p vs theta\n",
    "4. p vs kkpi\n",
    "5. theta vs kkpi\n",
    "\n",
    "### Particle mass combos\n",
    "#### $p\\pi$\n",
    "1. whole mass range\n",
    "2. $1.24 < M(KK\\pi) < 1.35$\n",
    "3. $KK\\pi$ vs $p\\pi$ for $1.24 < M(KK\\pi) < 1.35$\n",
    "4. $KK\\pi$ vs $p\\pi$ for $1.1 < M(KK\\pi) < 1.6$ \n",
    "\n",
    "#### $pK^{mp}$\n",
    "1. whole mass range\n",
    "2. $1.24 < M(KK\\pi) < 1.35$\n",
    "3. $KK\\pi$ vs $pK^\\{mp}$ for $1.24 < M(KK\\pi) < 1.35$\n",
    "4. $KK\\pi$ vs $pK^\\{mp}$ for $1.1 < M(KK\\pi) < 1.6$\n",
    "\n",
    "#### $pK_{s}$\n",
    "1. whole mass range\n",
    "2. $1.24 < M(KK\\pi) < 1.35$\n",
    "3. $KK\\pi$ vs $pK_{s}$ for $1.24 < M(KK\\pi) < 1.35$\n",
    "4. $KK\\pi$ vs $pK_{s}$ for $1.1 < M(KK\\pi) < 1.6$\n",
    "\n",
    "#### $K^{mp}K_{s}$\n",
    "1. whole mass range\n",
    "2. $1.24 < M(KK\\pi) < 1.35$\n",
    "3. $KK\\pi$ vs $K^{mp}K_{s}$ for $1.24 < M(KK\\pi) < 1.35$\n",
    "4. $KK\\pi$ vs $K^{mp}K_{s}$ for $1.1 < M(KK\\pi) < 1.6$\n",
    "\n",
    "#### $K^{mp}\\pi^{\\pm}$\n",
    "1. whole mass range\n",
    "2. $1.24 < M(KK\\pi) < 1.35$\n",
    "3. $KK\\pi$ vs $K^{mp}\\pi^{\\pm}$ for $1.24 < M(KK\\pi) < 1.35$\n",
    "4. $KK\\pi$ vs $K^{mp}\\pi^{\\pm}$ for $1.1 < M(KK\\pi) < 1.6$\n",
    "\n",
    "#### $K_{s}\\pi^{\\pm}$\n",
    "1. whole mass range\n",
    "2. $1.24 < M(KK\\pi) < 1.35$\n",
    "3. $KK\\pi$ vs $K_{s}\\pi^{\\pm}$ for $1.24 < M(KK\\pi) < 1.35$\n",
    "4. $KK\\pi$ vs $K_{s}\\pi^{\\pm}$ for $1.1 < M(KK\\pi) < 1.6$\n",
    "\n",
    "\n"
   ]
  }
 ],
 "metadata": {
  "kernelspec": {
   "display_name": "Python 3",
   "language": "python",
   "name": "python3"
  },
  "language_info": {
   "codemirror_mode": {
    "name": "ipython",
    "version": 3
   },
   "file_extension": ".py",
   "mimetype": "text/x-python",
   "name": "python",
   "nbconvert_exporter": "python",
   "pygments_lexer": "ipython3",
   "version": "3.6.8"
  }
 },
 "nbformat": 4,
 "nbformat_minor": 2
}
