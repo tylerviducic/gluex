{
 "cells": [
  {
   "cell_type": "markdown",
   "metadata": {
    "tags": [
     "checklist"
    ]
   },
   "source": [
    "# Checklist\n",
    "## KKPi distributions\n",
    "#### with K* exclusion\n",
    "1. ~~integrated~~\n",
    "2. ~~binned in -t~~\n",
    "#### without K* exclusion\n",
    "1. ~~integrated~~\n",
    "2. ~~binned in -t~~\n",
    "\n",
    "## Kinematic distributions (with K* exclusion)\n",
    "#### Kaon\n",
    "1. ~~p~~\n",
    "2. ~~theta~~\n",
    "3. ~~p vs theta~~\n",
    "4. ~~p vs kkpi~~\n",
    "5. ~~theta vs kkpi~~\n",
    "#### Pion\n",
    "1. ~~p~~\n",
    "2. ~~theta ~~\n",
    "3. ~~p vs theta~~\n",
    "4. ~~p vs kkpi~~\n",
    "5. ~~theta vs kkpi~~\n",
    "#### $K_{s}$\n",
    "1. ~~p~~\n",
    "2. ~~theta ~~\n",
    "3. ~~p vs theta~~\n",
    "4. ~~p vs kkpi~~\n",
    "5. ~~theta vs kkpi~~\n",
    "#### $K_{s} \\rightarrow \\pi{+}$\n",
    "1. ~~p~~\n",
    "2. ~~theta ~~\n",
    "3. ~~p vs theta~~\n",
    "4. ~~p vs kkpi~~\n",
    "5. ~~theta vs kkpi~~\n",
    "5. ~~theta vs kkpi~~\n",
    "#### $K_{s} \\rightarrow \\pi^{-}$\n",
    "1. p\n",
    "2. theta \n",
    "3. p vs theta\n",
    "4. p vs kkpi\n",
    "5. theta vs kkpi\n",
    "\n",
    "### Particle mass combos\n",
    "#### $p\\pi$\n",
    "1. whole mass range with shading for cut\n",
    "2. $1.24 < M(KK\\pi) < 1.35$ with shading for cut\n",
    "3. $KK\\pi$ vs $p\\pi$ for $1.24 < M(KK\\pi) < 1.35$\n",
    "4. $KK\\pi$ vs $p\\pi$ for $1.1 < M(KK\\pi) < 1.6$ \n",
    "5. $KK\\pi$ with and without cut on quantity \n",
    "\n",
    "#### $pK^{\\mp}$\n",
    "1. whole mass range with shading for cut\n",
    "2. $1.24 < M(KK\\pi) < 1.35$ with shading for cut\n",
    "3. $KK\\pi$ vs $pK^{\\mp}$ for $1.24 < M(KK\\pi) < 1.35$\n",
    "4. $KK\\pi$ vs $pK^{\\mp}$ for $1.1 < M(KK\\pi) < 1.6$\n",
    "5. $KK\\pi$ with and without cut on quantity \n",
    "\n",
    "#### $pK_{s}$\n",
    "1. whole mass range with shading for cut\n",
    "2. $1.24 < M(KK\\pi) < 1.35$ with shading for cut\n",
    "3. $KK\\pi$ vs $pK_{s}$ for $1.24 < M(KK\\pi) < 1.35$\n",
    "4. $KK\\pi$ vs $pK_{s}$ for $1.1 < M(KK\\pi) < 1.6$\n",
    "5. $KK\\pi$ with and without cut on quantity \n",
    "\n",
    "#### $K^{\\mp}K_{s}$\n",
    "1. whole mass range with shading for cut\n",
    "2. $1.24 < M(KK\\pi) < 1.35$ with shading for cut\n",
    "3. $KK\\pi$ vs $K^{\\mp}K_{s}$ for $1.24 < M(KK\\pi) < 1.35$\n",
    "4. $KK\\pi$ vs $K^{\\mp}K_{s}$ for $1.1 < M(KK\\pi) < 1.6$\n",
    "5. $KK\\pi$ with and without cut on quantity \n",
    "\n",
    "#### $K^{\\mp}\\pi^{\\pm}$\n",
    "1. whole mass range with shading for cut\n",
    "2. $1.24 < M(KK\\pi) < 1.35$ with shading for cut\n",
    "3. $KK\\pi$ vs $K^{\\mp}\\pi^{\\pm}$ for $1.24 < M(KK\\pi) < 1.35$\n",
    "4. $KK\\pi$ vs $K^{\\mp}\\pi^{\\pm}$ for $1.1 < M(KK\\pi) < 1.6$\n",
    "5. $KK\\pi$ with and without cut on quantity \n",
    "\n",
    "#### $K_{s}\\pi^{\\pm}$\n",
    "1. whole mass range with shading for cut\n",
    "2. $1.24 < M(KK\\pi) < 1.35$ with shading for cut\n",
    "3. $KK\\pi$ vs $K_{s}\\pi^{\\pm}$ for $1.24 < M(KK\\pi) < 1.35$\n",
    "4. $KK\\pi$ vs $K_{s}\\pi^{\\pm}$ for $1.1 < M(KK\\pi) < 1.6$\n",
    "5. $KK\\pi$ with and without cut on quantity \n",
    "\n",
    "\n"
   ]
  },
  {
   "cell_type": "markdown",
   "metadata": {},
   "source": [
    "# Make Plots"
   ]
  },
  {
   "cell_type": "code",
   "execution_count": 1,
   "metadata": {},
   "outputs": [
    {
     "name": "stdout",
     "output_type": "stream",
     "text": [
      "Welcome to JupyROOT 6.24/04\n"
     ]
    }
   ],
   "source": [
    "import ROOT\n",
    "import my_library.common_analysis_tools as tools\n",
    "import my_library.kinematic_cuts as kcuts\n",
    "import my_library.constants as constants"
   ]
  },
  {
   "cell_type": "code",
   "execution_count": 2,
   "metadata": {},
   "outputs": [],
   "source": [
    "ROOT.EnableImplicitMT()\n",
    "ROOT.gStyle.SetOptStat(0)"
   ]
  },
  {
   "cell_type": "markdown",
   "metadata": {},
   "source": [
    "## DataFrame Creation"
   ]
  },
  {
   "cell_type": "code",
   "execution_count": 3,
   "metadata": {},
   "outputs": [],
   "source": [
    "df_pipkmks = tools.get_dataframe('pipkmks', 'gluex1', 'data', filtered=False)\n",
    "df_pimkpks = tools.get_dataframe('pimkpks', 'gluex1', 'data', filtered=False)\n",
    "\n",
    "df_pipkmks = df_pipkmks.Filter(kcuts.KINFIT_CL_CUT).Filter(kcuts.MX2_PPIPKMKS_CUT).Filter(kcuts.KS_PATHLENGTH_CUT).Filter(kcuts.KS_MASS_CUT).Filter(kcuts.P_P_CUT)\n",
    "df_pimkpks = df_pimkpks.Filter(kcuts.KINFIT_CL_CUT).Filter(kcuts.MX2_PPIMKPKS_CUT).Filter(kcuts.KS_PATHLENGTH_CUT).Filter(kcuts.KS_MASS_CUT).Filter(kcuts.P_P_CUT)\n",
    "\n",
    "df_pipkmks_kstar_cut = df_pipkmks.Filter(kcuts.KSTAR_ALL_CUT_PIPKMKS)\n",
    "df_pimkpks_kstar_cut = df_pimkpks.Filter(kcuts.KSTAR_ALL_CUT_PIMKPKS)\n",
    "\n",
    "df_pipkmks_all_cuts = df_pipkmks.Filter(kcuts.PPIP_MASS_CUT).Filter(kcuts.KMP_MASS_CUT).Filter(kcuts.KSP_MASS_CUT)\n",
    "df_pimkpks_all_cuts = df_pimkpks.Filter(kcuts.PPIM_MASS_CUT).Filter(kcuts.KPP_MASS_CUT).Filter(kcuts.KSP_MASS_CUT)\n",
    "\n",
    "df_pipkmks_all_cuts_kstar_cut = df_pipkmks_all_cuts.Filter(kcuts.KSTAR_ALL_CUT_PIPKMKS)\n",
    "df_pimkpks_all_cuts_kstar_cut = df_pimkpks_all_cuts.Filter(kcuts.KSTAR_ALL_CUT_PIMKPKS)"
   ]
  },
  {
   "cell_type": "markdown",
   "metadata": {},
   "source": [
    "## $KK\\pi$ Plots "
   ]
  },
  {
   "cell_type": "markdown",
   "metadata": {},
   "source": [
    "#### Integrated E and t $KK\\pi$ Plots with and without K* Rejection"
   ]
  },
  {
   "cell_type": "code",
   "execution_count": 4,
   "metadata": {},
   "outputs": [],
   "source": [
    "n_bins_kkpi_no_cut, kkpi_no_cut_min, kkpi_no_cut_max = 90, 1.1, 2.0\n",
    "n_bins_kkpi_kstar_cut, kkpi_kstar_cut_min, kkpi_kstar_cut_max = 40, 1.1, 1.5\n",
    "\n",
    "hist_pipkmks = df_pipkmks_all_cuts.Histo1D(('pipkmks_no_cut', 'M(#pi^{+}K^{-}K_{S})', n_bins_kkpi_no_cut, kkpi_no_cut_min, kkpi_no_cut_max), 'pipkmks_m')\n",
    "hist_pipkmks_kstar_cut = df_pipkmks_all_cuts_kstar_cut.Histo1D(('pipkmks_kstar_cut', 'M(#pi^{+}K^{-}K_{S})', n_bins_kkpi_kstar_cut, kkpi_kstar_cut_min, kkpi_kstar_cut_max), 'pipkmks_m')\n",
    "hist_pimkpks = df_pimkpks_all_cuts.Histo1D(('pimkpks_no_cut', 'M(#pi^{-}K^{+}K_{S})', n_bins_kkpi_no_cut, kkpi_no_cut_min, kkpi_no_cut_max), 'pimkpks_m')\n",
    "hist_pimkpks_kstar_cut = df_pimkpks_all_cuts_kstar_cut.Histo1D(('pimkpks_kstar_cut', 'M(#pi^{-}K^{+}K_{S})', n_bins_kkpi_kstar_cut, kkpi_kstar_cut_min, kkpi_kstar_cut_max), 'pimkpks_m')\n"
   ]
  },
  {
   "cell_type": "markdown",
   "metadata": {},
   "source": [
    "#### Integrated E, binned in t $KK\\pi$ plots with and without K* Rejection"
   ]
  },
  {
   "cell_type": "code",
   "execution_count": 5,
   "metadata": {},
   "outputs": [],
   "source": [
    "pipkmks_hists = []\n",
    "pimkpks_hists = []\n",
    "pipkmks_kstar_cut_hists = []\n",
    "pimkpks_kstar_cut_hists = []\n",
    "for t in constants.ALLOWED_T_BINS:\n",
    "    pipkmks_hists.append(df_pipkmks_all_cuts.Filter(kcuts.SELECT_T_BIN.format(t)).Histo1D((f'pipkmks_t_bin_{t}', 'M(#pi^{+}K^{-}K_{S})', n_bins_kkpi_no_cut, kkpi_no_cut_min, kkpi_no_cut_max), 'pipkmks_m'))\n",
    "    pipkmks_kstar_cut_hists.append(df_pipkmks_all_cuts_kstar_cut.Filter(kcuts.SELECT_T_BIN.format(t)).Histo1D((f'pipkmks_kstar_cut_t_bin_{t}', 'M(#pi^{+}K^{-}K_{S})', n_bins_kkpi_kstar_cut, kkpi_kstar_cut_min, kkpi_kstar_cut_max), 'pipkmks_m'))\n",
    "    pimkpks_hists.append(df_pimkpks_all_cuts.Filter(kcuts.SELECT_T_BIN.format(t)).Histo1D((f'pimkpks_t_bin_{t}', 'M(#pi^{-}K^{+}K_{S})', n_bins_kkpi_no_cut, kkpi_no_cut_min, kkpi_no_cut_max), 'pimkpks_m'))\n",
    "    pimkpks_kstar_cut_hists.append(df_pimkpks_all_cuts_kstar_cut.Filter(kcuts.SELECT_T_BIN.format(t)).Histo1D((f'pimkpks_kstar_cut_t_bin_{t}', 'M(#pi^{-}K^{+}K_{S})', n_bins_kkpi_kstar_cut, kkpi_kstar_cut_min, kkpi_kstar_cut_max), 'pimkpks_m'))\n",
    "    \n",
    "    "
   ]
  },
  {
   "cell_type": "markdown",
   "metadata": {},
   "source": [
    "## Particle Kinematics Plots \n",
    "**All Plots Will Have K\\* Rejection Applied**"
   ]
  },
  {
   "cell_type": "markdown",
   "metadata": {},
   "source": [
    "### Kaon Kinematics "
   ]
  },
  {
   "cell_type": "markdown",
   "metadata": {},
   "source": [
    "#### Integrated Distributions"
   ]
  },
  {
   "cell_type": "code",
   "execution_count": 6,
   "metadata": {},
   "outputs": [],
   "source": [
    "n_bins_kaon_p, kaon_p_min, kaon_p_max = 50, 0, 8\n",
    "n_bins_kaon_theta, kaon_theta_min, kaon_theta_max = 20, 0, 20\n",
    "\n",
    "hist_km_p = df_pipkmks_all_cuts_kstar_cut.Filter(kcuts.F1_SIGNAL_REGION_PIPKMKS).Histo1D(('km_p', 'p_{K^{-}}', n_bins_kaon_p, kaon_p_min, kaon_p_max), 'km_p')\n",
    "hist_kp_p = df_pimkpks_all_cuts_kstar_cut.Filter(kcuts.F1_SIGNAL_REGION_PIMKPKS).Histo1D(('kp_p', 'p_{K^{+}}', n_bins_kaon_p, kaon_p_min, kaon_p_max), 'kp_p')\n",
    "hist_km_theta = df_pipkmks_all_cuts_kstar_cut.Filter(kcuts.F1_SIGNAL_REGION_PIPKMKS).Histo1D(('km_theta', '#theta_{K^{-}}', n_bins_kaon_theta, kaon_theta_min, kaon_theta_max), 'km_theta')\n",
    "hist_kp_theta = df_pimkpks_all_cuts_kstar_cut.Filter(kcuts.F1_SIGNAL_REGION_PIMKPKS).Histo1D(('kp_theta', '#theta_{K^{+}}', n_bins_kaon_theta, kaon_theta_min, kaon_theta_max), 'kp_theta')\n",
    "hist_km_theta_vs_p = df_pipkmks_all_cuts_kstar_cut.Filter(kcuts.F1_SIGNAL_REGION_PIPKMKS).Histo2D(('km_theta_vs_p', '#theta_{K^{-}} vs p_{K^{-}}', n_bins_kaon_theta, kaon_theta_min, kaon_theta_max, n_bins_kaon_p, kaon_p_min, kaon_p_max), 'km_theta', 'km_p')\n",
    "hist_kp_theta_vs_p = df_pimkpks_all_cuts_kstar_cut.Filter(kcuts.F1_SIGNAL_REGION_PIMKPKS).Histo2D(('kp_theta_vs_p', '#theta_{K^{+}} vs p_{K^{+}}', n_bins_kaon_theta, kaon_theta_min, kaon_theta_max, n_bins_kaon_p, kaon_p_min, kaon_p_max), 'kp_theta', 'kp_p')\n",
    "hist_km_p_vs_pipkmks = df_pipkmks_all_cuts_kstar_cut.Histo2D(('km_p_vs_pipkmks', 'p_{K^{-}} vs M(#pi^{+}K^{-}K_{S})', n_bins_kaon_p, kaon_p_min, kaon_p_max, n_bins_kkpi_kstar_cut, kkpi_kstar_cut_min, kkpi_kstar_cut_max), 'km_p', 'pipkmks_m')\n",
    "hist_kp_p_vs_pimkpks = df_pimkpks_all_cuts_kstar_cut.Histo2D(('kp_p_vs_pimkpks', 'p_{K^{+}} vs M(#pi^{-}K^{+}K_{S})', n_bins_kaon_p, kaon_p_min, kaon_p_max, n_bins_kkpi_kstar_cut, kkpi_kstar_cut_min, kkpi_kstar_cut_max), 'kp_p', 'pimkpks_m')\n",
    "hist_km_theta_vs_pipkmks = df_pipkmks_all_cuts_kstar_cut.Histo2D(('km_theta_vs_pipkmks', '#theta_{K^{-}} vs M(#pi^{+}K^{-}K_{S})', n_bins_kaon_theta, kaon_theta_min, kaon_theta_max, n_bins_kkpi_kstar_cut, kkpi_kstar_cut_min, kkpi_kstar_cut_max), 'km_theta', 'pipkmks_m')\n",
    "hist_kp_theta_vs_pimkpks = df_pimkpks_all_cuts_kstar_cut.Histo2D(('kp_theta_vs_pimkpks', '#theta_{K^{+}} vs M(#pi^{-}K^{+}K_{S})', n_bins_kaon_theta, kaon_theta_min, kaon_theta_max, n_bins_kkpi_kstar_cut, kkpi_kstar_cut_min, kkpi_kstar_cut_max), 'kp_theta', 'pimkpks_m')"
   ]
  },
  {
   "cell_type": "markdown",
   "metadata": {},
   "source": [
    "#### Binned Distributions"
   ]
  },
  {
   "cell_type": "code",
   "execution_count": 7,
   "metadata": {},
   "outputs": [],
   "source": [
    "ks_pipkmks_p_hists = []\n",
    "ks_pimkpks_p_hists = []\n",
    "ks_pipkmks_theta_hists = []\n",
    "ks_pimkpks_theta_hists = []\n",
    "ks_pipkmks_theta_vs_p_hists = []\n",
    "ks_pimkpks_theta_vs_p_hists = []\n",
    "ks_pipkmks_p_vs_pipkmks_hists = []\n",
    "ks_pimkpks_p_vs_pimkpks_hists = []\n",
    "ks_pipkmks_theta_vs_pipkmks_hists = []\n",
    "ks_pimkpks_theta_vs_pimkpks_hists = []\n",
    "\n",
    "for t in constants.ALLOWED_T_BINS:\n",
    "    ks_pipkmks_p_hists.append(df_pipkmks_all_cuts_kstar_cut.Filter(kcuts.F1_SIGNAL_REGION_PIPKMKS).Filter(kcuts.SELECT_T_BIN.format(t)).Histo1D((f'km_p_t{t}', 'p_{K^{-}}', n_bins_kaon_p, kaon_p_min, kaon_p_max), 'km_p'))\n",
    "    ks_pimkpks_p_hists.append(df_pimkpks_all_cuts_kstar_cut.Filter(kcuts.F1_SIGNAL_REGION_PIMKPKS).Filter(kcuts.SELECT_T_BIN.format(t)).Histo1D((f'kp_p_t{t}', 'p_{K^{+}}', n_bins_kaon_p, kaon_p_min, kaon_p_max), 'kp_p'))\n",
    "    ks_pipkmks_theta_hists.append(df_pipkmks_all_cuts_kstar_cut.Filter(kcuts.F1_SIGNAL_REGION_PIPKMKS).Filter(kcuts.SELECT_T_BIN.format(t)).Histo1D((f'km_theta_t{t}', '#theta_{K^{-}}', n_bins_kaon_theta, kaon_theta_min, kaon_theta_max), 'km_theta'))\n",
    "    ks_pimkpks_theta_hists.append(df_pimkpks_all_cuts_kstar_cut.Filter(kcuts.F1_SIGNAL_REGION_PIMKPKS).Filter(kcuts.SELECT_T_BIN.format(t)).Histo1D((f'kp_theta_t{t}', '#theta_{K^{+}}', n_bins_kaon_theta, kaon_theta_min, kaon_theta_max), 'kp_theta'))\n",
    "    ks_pipkmks_theta_vs_p_hists.append(df_pipkmks_all_cuts_kstar_cut.Filter(kcuts.F1_SIGNAL_REGION_PIPKMKS).Filter(kcuts.SELECT_T_BIN.format(t)).Histo2D((f'km_theta_vs_p_t{t}', '#theta_{K^{-}} vs p_{K^{-}}', n_bins_kaon_theta, kaon_theta_min, kaon_theta_max, n_bins_kaon_p, kaon_p_min, kaon_p_max), 'km_theta', 'km_p'))\n",
    "    ks_pimkpks_theta_vs_p_hists.append(df_pimkpks_all_cuts_kstar_cut.Filter(kcuts.F1_SIGNAL_REGION_PIMKPKS).Filter(kcuts.SELECT_T_BIN.format(t)).Histo2D((f'kp_theta_vs_p_t{t}', '#theta_{K^{+}} vs p_{K^{+}}', n_bins_kaon_theta, kaon_theta_min, kaon_theta_max, n_bins_kaon_p, kaon_p_min, kaon_p_max), 'kp_theta', 'kp_p'))\n",
    "    ks_pipkmks_p_vs_pipkmks_hists.append(df_pipkmks_all_cuts_kstar_cut.Filter(kcuts.SELECT_T_BIN.format(t)).Histo2D((f'km_p_vs_pipkmks_t{t}', 'p_{K^{-}} vs M(#pi^{+}K^{-}K_{S})', n_bins_kaon_p, kaon_p_min, kaon_p_max, n_bins_kkpi_kstar_cut, kkpi_kstar_cut_min, kkpi_kstar_cut_max), 'km_p', 'pipkmks_m'))\n",
    "    ks_pimkpks_p_vs_pimkpks_hists.append(df_pimkpks_all_cuts_kstar_cut.Filter(kcuts.SELECT_T_BIN.format(t)).Histo2D((f'kp_p_vs_pimkpks_t{t}', 'p_{K^{+}} vs M(#pi^{-}K^{+}K_{S})', n_bins_kaon_p, kaon_p_min, kaon_p_max, n_bins_kkpi_kstar_cut, kkpi_kstar_cut_min, kkpi_kstar_cut_max), 'kp_p', 'pimkpks_m'))\n",
    "    ks_pipkmks_theta_vs_pipkmks_hists.append(df_pipkmks_all_cuts_kstar_cut.Filter(kcuts.SELECT_T_BIN.format(t)).Histo2D((f'km_theta_vs_pipkmks_t{t}', '#theta_{K^{-}} vs M(#pi^{+}K^{-}K_{S})', n_bins_kaon_theta, kaon_theta_min, kaon_theta_max, n_bins_kkpi_kstar_cut, kkpi_kstar_cut_min, kkpi_kstar_cut_max), 'km_theta', 'pipkmks_m'))\n",
    "    ks_pimkpks_theta_vs_pimkpks_hists.append(df_pimkpks_all_cuts_kstar_cut.Filter(kcuts.SELECT_T_BIN.format(t)).Histo2D((f'kp_theta_vs_pimkpks_t{t}', '#theta_{K^{+}} vs M(#pi^{-}K^{+}K_{S})', n_bins_kaon_theta, kaon_theta_min, kaon_theta_max, n_bins_kkpi_kstar_cut, kkpi_kstar_cut_min, kkpi_kstar_cut_max), 'kp_theta', 'pimkpks_m'))"
   ]
  },
  {
   "cell_type": "markdown",
   "metadata": {},
   "source": [
    "### Pion Kinematics "
   ]
  },
  {
   "cell_type": "markdown",
   "metadata": {},
   "source": [
    "#### Integrated Distributions"
   ]
  },
  {
   "cell_type": "code",
   "execution_count": 8,
   "metadata": {},
   "outputs": [],
   "source": [
    "n_bins_pion_p, pion_p_min, pion_p_max = 50, 0, 8\n",
    "n_bins_pion_theta, pion_theta_min, pion_theta_max = 20, 0, 20\n",
    "\n",
    "hist_pip1_p = df_pipkmks_all_cuts_kstar_cut.Filter(kcuts.F1_SIGNAL_REGION_PIPKMKS).Histo1D(('pip1_p', 'p_{#pi^{+}}', n_bins_pion_p,pion_p_min,pion_p_max), 'pip1_p')\n",
    "hist_pim1_p = df_pimkpks_all_cuts_kstar_cut.Filter(kcuts.F1_SIGNAL_REGION_PIMKPKS).Histo1D(('pim1_p', 'p_{#pi^{-}}', n_bins_pion_p,pion_p_min,pion_p_max), 'pim1_p')\n",
    "hist_pip1_theta = df_pipkmks_all_cuts_kstar_cut.Filter(kcuts.F1_SIGNAL_REGION_PIPKMKS).Histo1D(('pip1_theta', '#Theta_{#pi^{+}}', n_bins_pion_theta,pion_theta_min,pion_theta_max), 'pip1_theta')\n",
    "hist_pim1_theta = df_pimkpks_all_cuts_kstar_cut.Filter(kcuts.F1_SIGNAL_REGION_PIMKPKS).Histo1D(('pim1_theta', '#Theta_{#pi^{-}}', n_bins_pion_theta,pion_theta_min,pion_theta_max), 'pim1_theta')\n",
    "hist_pip1_theta_vs_p = df_pipkmks_all_cuts_kstar_cut.Filter(kcuts.F1_SIGNAL_REGION_PIPKMKS).Histo2D(('pip1_theta_vs_p', '#Theta_{#pi^{+}} vs p_{#pi^{+}}', n_bins_pion_theta,pion_theta_min,pion_theta_max, n_bins_pion_p,pion_p_min,pion_p_max), 'pip1_theta', 'pip1_p')\n",
    "hist_pim1_theta_vs_p = df_pimkpks_all_cuts_kstar_cut.Filter(kcuts.F1_SIGNAL_REGION_PIMKPKS).Histo2D(('pim1_theta_vs_p', '#Theta_{#pi^{-}} vs p_{#pi^{-}}', n_bins_pion_theta,pion_theta_min,pion_theta_max, n_bins_pion_p,pion_p_min,pion_p_max), 'pim1_theta', 'pim1_p')\n",
    "hist_pip1_p_vs_pipkmks = df_pipkmks_all_cuts_kstar_cut.Histo2D(('pip1_p_vs_pipkmks', 'p_{#pi^{+}} vs M(#pi^{+}K^{-}K_{S})', n_bins_pion_p,pion_p_min,pion_p_max, n_bins_kkpi_kstar_cut, kkpi_kstar_cut_min, kkpi_kstar_cut_max), 'pip1_p', 'pipkmks_m')\n",
    "hist_pim1_p_vs_pimkpks = df_pimkpks_all_cuts_kstar_cut.Histo2D(('pim1_p_vs_pimkpks', 'p_{#pi^{-}} vs M(#pi^{-}K^{+}K_{S})', n_bins_pion_p,pion_p_min,pion_p_max, n_bins_kkpi_kstar_cut, kkpi_kstar_cut_min, kkpi_kstar_cut_max), 'pim1_p', 'pimkpks_m')\n",
    "hist_pip1_theta_vs_pipkmks = df_pipkmks_all_cuts_kstar_cut.Histo2D(('pip1_theta_vs_pipkmks', '#Theta_{#pi^{+}} vs M(#pi^{+}K^{-}K_{S})', n_bins_pion_theta,pion_theta_min,pion_theta_max, n_bins_kkpi_kstar_cut, kkpi_kstar_cut_min, kkpi_kstar_cut_max), 'pip1_theta', 'pipkmks_m')\n",
    "hist_pim1_theta_vs_pimkpks = df_pimkpks_all_cuts_kstar_cut.Histo2D(('pim1_theta_vs_pimkpks', '#Theta_{#pi^{-}} vs M(#pi^{-}K^{+}K_{S})', n_bins_pion_theta,pion_theta_min,pion_theta_max, n_bins_kkpi_kstar_cut, kkpi_kstar_cut_min, kkpi_kstar_cut_max), 'pim1_theta', 'pimkpks_m')"
   ]
  },
  {
   "cell_type": "markdown",
   "metadata": {},
   "source": [
    "#### Binned Distributions"
   ]
  },
  {
   "cell_type": "code",
   "execution_count": 9,
   "metadata": {},
   "outputs": [],
   "source": [
    "pip1_p_hists = []\n",
    "pim1_p_hists = []\n",
    "pip1_theta_hists = []\n",
    "pim1_theta_hists = []\n",
    "pip1_theta_vs_p_hists = []\n",
    "pim1_theta_vs_p_hists = []\n",
    "pip1_p_vs_pipkmks_hists = []\n",
    "pim1_p_vs_pimkpks_hists = []\n",
    "pip1_theta_vs_pipkmks_hists = []\n",
    "pim1_theta_vs_pimkpks_hists = []\n",
    "\n",
    "for t in constants.ALLOWED_T_BINS:\n",
    "    pip1_p_hists.append(df_pipkmks_all_cuts_kstar_cut.Filter(kcuts.F1_SIGNAL_REGION_PIPKMKS).Filter(kcuts.SELECT_T_BIN.format(t)).Histo1D((f'hist_pip1_p_vs_pipkmks_p_t{t}', 'p_{#pi^{+}}', n_bins_pion_p, pion_p_min, pion_p_max), 'pip1_p'))\n",
    "    pim1_p_hists.append(df_pimkpks_all_cuts_kstar_cut.Filter(kcuts.F1_SIGNAL_REGION_PIMKPKS).Filter(kcuts.SELECT_T_BIN.format(t)).Histo1D((f'hist_pim1_p_p_t{t}', 'p_{#pi^{-}}', n_bins_pion_p, pion_p_min, pion_p_max), 'pim1_p'))\n",
    "    pip1_theta_hists.append(df_pipkmks_all_cuts_kstar_cut.Filter(kcuts.F1_SIGNAL_REGION_PIPKMKS).Filter(kcuts.SELECT_T_BIN.format(t)).Histo1D((f'pip1_theta_t{t}', '#Theta_{#pi^{+}}', n_bins_pion_theta, pion_theta_min, pion_theta_max), 'pip1_theta'))\n",
    "    pim1_theta_hists.append(df_pimkpks_all_cuts_kstar_cut.Filter(kcuts.F1_SIGNAL_REGION_PIMKPKS).Filter(kcuts.SELECT_T_BIN.format(t)).Histo1D((f'hist_pim1_p_theta_t{t}', '#Theta_{#pi^{-}}', n_bins_pion_theta, pion_theta_min, pion_theta_max), 'pim1_theta'))\n",
    "    pip1_theta_vs_p_hists.append(df_pipkmks_all_cuts_kstar_cut.Filter(kcuts.F1_SIGNAL_REGION_PIPKMKS).Filter(kcuts.SELECT_T_BIN.format(t)).Histo2D((f'pip1_theta_vs_p_t{t}', '#Theta_{#pi^{+}} vs p_{#pi^{+}}', n_bins_pion_theta, pion_theta_min, pion_theta_max, n_bins_pion_p, pion_p_min, pion_p_max), 'pip1_theta', 'pip1_p'))\n",
    "    pim1_theta_vs_p_hists.append(df_pimkpks_all_cuts_kstar_cut.Filter(kcuts.F1_SIGNAL_REGION_PIMKPKS).Filter(kcuts.SELECT_T_BIN.format(t)).Histo2D((f'hist_pim1_p_theta_vs_p_t{t}', '#Theta_{#pi^{-}} vs p_{#pi^{-}}', n_bins_pion_theta, pion_theta_min, pion_theta_max, n_bins_pion_p, pion_p_min, pion_p_max), 'pim1_theta', 'pim1_p'))\n",
    "    pip1_p_vs_pipkmks_hists.append(df_pipkmks_all_cuts_kstar_cut.Filter(kcuts.SELECT_T_BIN.format(t)).Histo2D((f'hist_pip1_p_vs_pipkmks_p_vs_pipkmks_t{t}', 'p_{#pi^{+}} vs M(#pi^{+}K^{-}K_{S})', n_bins_pion_p, pion_p_min, pion_p_max, n_bins_kkpi_kstar_cut, kkpi_kstar_cut_min, kkpi_kstar_cut_max), 'pip1_p', 'pipkmks_m'))\n",
    "    pim1_p_vs_pimkpks_hists.append(df_pimkpks_all_cuts_kstar_cut.Filter(kcuts.SELECT_T_BIN.format(t)).Histo2D((f'hist_pim1_p_p_vs_pimkpks_t{t}', 'p_{#pi^{-}} vs M(#pi^{-}K^{+}K_{S})', n_bins_pion_p, pion_p_min, pion_p_max, n_bins_kkpi_kstar_cut, kkpi_kstar_cut_min, kkpi_kstar_cut_max), 'pim1_p', 'pimkpks_m'))\n",
    "    pip1_theta_vs_pipkmks_hists.append(df_pipkmks_all_cuts_kstar_cut.Filter(kcuts.SELECT_T_BIN.format(t)).Histo2D((f'pip1_theta_vs_pipkmks_t{t}', '#Theta_{#pi^{+}} vs M(#pi^{+}K^{-}K_{S})', n_bins_pion_theta, pion_theta_min, pion_theta_max, n_bins_kkpi_kstar_cut, kkpi_kstar_cut_min, kkpi_kstar_cut_max), 'pip1_theta', 'pipkmks_m'))\n",
    "    pim1_theta_vs_pimkpks_hists.append(df_pimkpks_all_cuts_kstar_cut.Filter(kcuts.SELECT_T_BIN.format(t)).Histo2D((f'hist_pim1_p_theta_vs_pimkpks_t{t}', '#Theta_{#pi^{-}} vs M(#pi^{-}K^{+}K_{S})', n_bins_pion_theta, pion_theta_min, pion_theta_max, n_bins_kkpi_kstar_cut, kkpi_kstar_cut_min, kkpi_kstar_cut_max), 'pim1_theta', 'pimkpks_m'))"
   ]
  },
  {
   "cell_type": "markdown",
   "metadata": {},
   "source": [
    "### $K_{s}$ Kinematics "
   ]
  },
  {
   "cell_type": "markdown",
   "metadata": {},
   "source": [
    "#### Integrated Distributions"
   ]
  },
  {
   "cell_type": "code",
   "execution_count": 10,
   "metadata": {},
   "outputs": [],
   "source": [
    "n_bins_ks_p, ks_p_min, ks_p_max = 50, 0, 8\n",
    "n_bins_ks_theta, ks_theta_min, ks_theta_max = 20, 0, 20\n",
    "\n",
    "hist_ks_pipkmks_p = df_pipkmks_all_cuts_kstar_cut.Filter(kcuts.F1_SIGNAL_REGION_PIPKMKS).Histo1D(('ks_p', 'p_{K_{s}}', n_bins_ks_p, ks_p_min, ks_p_max), 'ks_p')\n",
    "hist_ks_pimkpks_p = df_pimkpks_all_cuts_kstar_cut.Filter(kcuts.F1_SIGNAL_REGION_PIMKPKS).Histo1D(('ks_p', 'p_{K_{s}}', n_bins_ks_p, ks_p_min, ks_p_max), 'ks_p')\n",
    "hist_ks_pipkmks_theta = df_pipkmks_all_cuts_kstar_cut.Filter(kcuts.F1_SIGNAL_REGION_PIPKMKS).Histo1D(('ks_theta', '#theta_{K_{s}}', n_bins_ks_theta, ks_theta_min, ks_theta_max), 'ks_theta')\n",
    "hist_ks_pimkpks_theta = df_pimkpks_all_cuts_kstar_cut.Filter(kcuts.F1_SIGNAL_REGION_PIMKPKS).Histo1D(('ks_theta', '#theta_{K_{s}}', n_bins_ks_theta, ks_theta_min, ks_theta_max), 'ks_theta')\n",
    "hist_ks_pipkmks_theta_vs_p = df_pipkmks_all_cuts_kstar_cut.Filter(kcuts.F1_SIGNAL_REGION_PIPKMKS).Histo2D(('ks_theta_vs_p', '#theta_{K_{s}} vs p_{K_{s}}', n_bins_ks_theta, ks_theta_min, ks_theta_max, n_bins_ks_p, ks_p_min, ks_p_max), 'ks_theta', 'ks_p')\n",
    "hist_ks_pimkpks_theta_vs_p = df_pimkpks_all_cuts_kstar_cut.Filter(kcuts.F1_SIGNAL_REGION_PIMKPKS).Histo2D(('ks_theta_vs_p', '#theta_{K_{s}} vs p_{K_{s}}', n_bins_ks_theta, ks_theta_min, ks_theta_max, n_bins_ks_p, ks_p_min, ks_p_max), 'ks_theta', 'ks_p')\n",
    "hist_ks_pipkmks_p_vs_pipkmks = df_pipkmks_all_cuts_kstar_cut.Histo2D(('ks_p_vs_pipkmks', 'p_{K_{s}} vs M(#pi^{+}K^{-}K_{S})', n_bins_ks_p, ks_p_min, ks_p_max, n_bins_kkpi_kstar_cut, kkpi_kstar_cut_min, kkpi_kstar_cut_max), 'ks_p', 'pipkmks_m')\n",
    "hist_ks_pimkpks_p_vs_pimkpks = df_pimkpks_all_cuts_kstar_cut.Histo2D(('ks_p_vs_pimkpks', 'p_{K_{s}} vs M(#pi^{-}K^{+}K_{S})', n_bins_ks_p, ks_p_min, ks_p_max, n_bins_kkpi_kstar_cut, kkpi_kstar_cut_min, kkpi_kstar_cut_max), 'ks_p', 'pimkpks_m')\n",
    "hist_ks_pipkmks_theta_vs_pipkmks = df_pipkmks_all_cuts_kstar_cut.Histo2D(('ks_theta_vs_pipkmks', '#theta_{K_{s}} vs M(#pi^{+}K^{-}K_{S})', n_bins_ks_theta, ks_theta_min, ks_theta_max, n_bins_kkpi_kstar_cut, kkpi_kstar_cut_min, kkpi_kstar_cut_max), 'ks_theta', 'pipkmks_m')\n",
    "hist_ks_pimkpks_theta_vs_pimkpks = df_pimkpks_all_cuts_kstar_cut.Histo2D(('ks_theta_vs_pimkpks', '#theta_{K_{s}} vs M(#pi^{-}K^{+}K_{S})', n_bins_ks_theta, ks_theta_min, ks_theta_max, n_bins_kkpi_kstar_cut, kkpi_kstar_cut_min, kkpi_kstar_cut_max), 'ks_theta', 'pimkpks_m')"
   ]
  },
  {
   "cell_type": "markdown",
   "metadata": {},
   "source": [
    "#### Binned Distributions"
   ]
  },
  {
   "cell_type": "code",
   "execution_count": 11,
   "metadata": {},
   "outputs": [],
   "source": [
    "ks_pipkmks_p_hists = []\n",
    "ks_pimkpks_p_hists = []\n",
    "ks_pipkmks_theta_hists = []\n",
    "ks_pimkpks_theta_hists = []\n",
    "ks_pipkmks_theta_vs_p_hists = []\n",
    "ks_pimkpks_theta_vs_p_hists = []\n",
    "ks_pipkmks_p_vs_pipkmks_hists = []\n",
    "ks_pimkpks_p_vs_pimkpks_hists = []\n",
    "ks_pipkmks_theta_vs_pipkmks_hists = []\n",
    "ks_pimkpks_theta_vs_pimkpks_hists = []\n",
    "\n",
    "for t in constants.ALLOWED_T_BINS:\n",
    "    ks_pipkmks_p_hists.append(df_pipkmks_all_cuts_kstar_cut.Filter(kcuts.F1_SIGNAL_REGION_PIPKMKS).Filter(kcuts.SELECT_T_BIN.format(t)).Histo1D((f'ks_pipkmks_p_t{t}', 'p_{K_{s}}', n_bins_ks_p, ks_p_min, ks_p_max), 'ks_p'))\n",
    "    ks_pimkpks_p_hists.append(df_pimkpks_all_cuts_kstar_cut.Filter(kcuts.F1_SIGNAL_REGION_PIMKPKS).Filter(kcuts.SELECT_T_BIN.format(t)).Histo1D((f'ks_pimkpks_p_t{t}', 'p_{K_{s}}', n_bins_ks_p, ks_p_min, ks_p_max), 'ks_p'))\n",
    "    ks_pipkmks_theta_hists.append(df_pipkmks_all_cuts_kstar_cut.Filter(kcuts.F1_SIGNAL_REGION_PIPKMKS).Filter(kcuts.SELECT_T_BIN.format(t)).Histo1D((f'ks_pipkmks_theta_t{t}', '#theta_{K_{s}}', n_bins_ks_theta, ks_theta_min, ks_theta_max), 'ks_theta'))\n",
    "    ks_pimkpks_theta_hists.append(df_pimkpks_all_cuts_kstar_cut.Filter(kcuts.F1_SIGNAL_REGION_PIMKPKS).Filter(kcuts.SELECT_T_BIN.format(t)).Histo1D((f'ks_pimkpks_theta_t{t}', '#theta_{K_{s}}', n_bins_ks_theta, ks_theta_min, ks_theta_max), 'ks_theta'))\n",
    "    ks_pipkmks_theta_vs_p_hists.append(df_pipkmks_all_cuts_kstar_cut.Filter(kcuts.F1_SIGNAL_REGION_PIPKMKS).Filter(kcuts.SELECT_T_BIN.format(t)).Histo2D((f'ks_pipkmks_theta_vs_p_t{t}', '#theta_{K_{s}} vs p_{K_{s}}', n_bins_ks_theta, ks_theta_min, ks_theta_max, n_bins_ks_p, ks_p_min, ks_p_max), 'ks_theta', 'ks_p'))\n",
    "    ks_pimkpks_theta_vs_p_hists.append(df_pimkpks_all_cuts_kstar_cut.Filter(kcuts.F1_SIGNAL_REGION_PIMKPKS).Filter(kcuts.SELECT_T_BIN.format(t)).Histo2D((f'ks_pimkpks_theta_vs_p_t{t}', '#theta_{K_{s}} vs p_{K_{s}}', n_bins_ks_theta, ks_theta_min, ks_theta_max, n_bins_ks_p, ks_p_min, ks_p_max), 'ks_theta', 'ks_p'))\n",
    "    ks_pipkmks_p_vs_pipkmks_hists.append(df_pipkmks_all_cuts_kstar_cut.Filter(kcuts.SELECT_T_BIN.format(t)).Histo2D((f'ks_pipkmks_p_vs_pipkmks_t{t}', 'p_{K_{s}} vs M(#pi^{+}K^{-}K_{S})', n_bins_ks_p, ks_p_min, ks_p_max, n_bins_kkpi_kstar_cut, kkpi_kstar_cut_min, kkpi_kstar_cut_max), 'ks_p', 'pipkmks_m'))\n",
    "    ks_pimkpks_p_vs_pimkpks_hists.append(df_pimkpks_all_cuts_kstar_cut.Filter(kcuts.SELECT_T_BIN.format(t)).Histo2D((f'ks_pimkpks_p_vs_pimkpks_t{t}', 'p_{K_{s}} vs M(#pi^{-}K^{+}K_{S})', n_bins_ks_p, ks_p_min, ks_p_max, n_bins_kkpi_kstar_cut, kkpi_kstar_cut_min, kkpi_kstar_cut_max), 'ks_p', 'pimkpks_m'))\n",
    "    ks_pipkmks_theta_vs_pipkmks_hists.append(df_pipkmks_all_cuts_kstar_cut.Filter(kcuts.SELECT_T_BIN.format(t)).Histo2D((f'ks_pipkmks_theta_vs_pipkmks_t{t}', '#theta_{K_{s}} vs M(#pi^{+}K^{-}K_{S})', n_bins_ks_theta, ks_theta_min, ks_theta_max, n_bins_kkpi_kstar_cut, kkpi_kstar_cut_min, kkpi_kstar_cut_max), 'ks_theta', 'pipkmks_m'))\n",
    "    ks_pimkpks_theta_vs_pimkpks_hists.append(df_pimkpks_all_cuts_kstar_cut.Filter(kcuts.SELECT_T_BIN.format(t)).Histo2D((f'ks_pimkpks_theta_vs_pimkpks_t{t}', '#theta_{K_{s}} vs M(#pi^{-}K^{+}K_{S})', n_bins_ks_theta, ks_theta_min, ks_theta_max, n_bins_kkpi_kstar_cut, kkpi_kstar_cut_min, kkpi_kstar_cut_max), 'ks_theta', 'pimkpks_m'))"
   ]
  },
  {
   "cell_type": "markdown",
   "metadata": {},
   "source": [
    "### $K_s \\rightarrow \\pi^+$ Kinematics "
   ]
  },
  {
   "cell_type": "markdown",
   "metadata": {},
   "source": [
    "#### Integrated Distributions"
   ]
  },
  {
   "cell_type": "code",
   "execution_count": 12,
   "metadata": {},
   "outputs": [],
   "source": [
    "n_bins_kspip_p, kspip_p_min, kspip_p_max = 50, 0, 8\n",
    "n_bins_kspip_theta, kspip_theta_min, kspip_theta_max = 20, 0, 20\n",
    "\n",
    "hist_pip2_p = df_pipkmks_all_cuts_kstar_cut.Filter(kcuts.F1_SIGNAL_REGION_PIPKMKS).Histo1D(('pip2_p', 'p_{K_{s} #rightarrow #pi^{+}}', n_bins_kspip_p,kspip_p_min,kspip_p_max), 'pip2_p')\n",
    "hist_pip_p = df_pimkpks_all_cuts_kstar_cut.Filter(kcuts.F1_SIGNAL_REGION_PIMKPKS).Histo1D(('pip_p', 'p_{K_{s} #rightarrow #pi^{+}}', n_bins_kspip_p,kspip_p_min,kspip_p_max), 'pip_p')\n",
    "hist_pip2_theta = df_pipkmks_all_cuts_kstar_cut.Filter(kcuts.F1_SIGNAL_REGION_PIPKMKS).Histo1D(('pip2_theta', '#Theta_{K_{s} #rightarrow #pi^{+}}', n_bins_kspip_theta,kspip_theta_min,kspip_theta_max), 'pip2_theta')\n",
    "hist_pip_theta = df_pimkpks_all_cuts_kstar_cut.Filter(kcuts.F1_SIGNAL_REGION_PIMKPKS).Histo1D(('pip_theta', '#Theta_{K_{s} #rightarrow #pi^{+}}', n_bins_kspip_theta,kspip_theta_min,kspip_theta_max), 'pip_theta')\n",
    "hist_pip2_theta_vs_p = df_pipkmks_all_cuts_kstar_cut.Filter(kcuts.F1_SIGNAL_REGION_PIPKMKS).Histo2D(('pip2_theta_vs_p', '#Theta_{K_{s} #rightarrow #pi^{+}} vs p_{K_{s} #rightarrow #pi^{+}}', n_bins_kspip_theta,kspip_theta_min,kspip_theta_max, n_bins_kspip_p,kspip_p_min,kspip_p_max), 'pip2_theta', 'pip2_p')\n",
    "hist_pip_theta_vs_p = df_pimkpks_all_cuts_kstar_cut.Filter(kcuts.F1_SIGNAL_REGION_PIMKPKS).Histo2D(('pip_theta_vs_p', '#Theta_{K_{s} #rightarrow #pi^{+}} vs p_{K_{s} #rightarrow #pi^{+}}', n_bins_kspip_theta,kspip_theta_min,kspip_theta_max, n_bins_kspip_p,kspip_p_min,kspip_p_max), 'pip_theta', 'pip_p')\n",
    "hist_pip2_p_vs_pipkmks = df_pipkmks_all_cuts_kstar_cut.Histo2D(('pip2_p_vs_pipkmks', 'p_{K_{s} #rightarrow #pi^{+}} vs M(#pi^{+}K^{-}K_{S})', n_bins_kspip_p,kspip_p_min,kspip_p_max, n_bins_kkpi_kstar_cut, kkpi_kstar_cut_min, kkpi_kstar_cut_max), 'pip2_p', 'pipkmks_m')\n",
    "hist_pip_p_vs_pimkpks = df_pimkpks_all_cuts_kstar_cut.Histo2D(('pip_p_vs_pimkpks', 'p_{K_{s} #rightarrow #pi^{+}} vs M(#pi^{-}K^{+}K_{S})', n_bins_kspip_p,kspip_p_min,kspip_p_max, n_bins_kkpi_kstar_cut, kkpi_kstar_cut_min, kkpi_kstar_cut_max), 'pip_p', 'pimkpks_m')\n",
    "hist_pip2_theta_vs_pipkmks = df_pipkmks_all_cuts_kstar_cut.Histo2D(('pip2_theta_vs_pipkmks', '#Theta_{K_{s} #rightarrow #pi^{+}} vs M(#pi^{+}K^{-}K_{S})', n_bins_kspip_theta,kspip_theta_min,kspip_theta_max, n_bins_kkpi_kstar_cut, kkpi_kstar_cut_min, kkpi_kstar_cut_max), 'pip2_theta', 'pipkmks_m')\n",
    "hist_pip_theta_vs_pimkpks = df_pimkpks_all_cuts_kstar_cut.Histo2D(('pip_theta_vs_pimkpks', '#Theta_{K_{s} #rightarrow #pi^{+}} vs M(#pi^{-}K^{+}K_{S})', n_bins_kspip_theta,kspip_theta_min,kspip_theta_max, n_bins_kkpi_kstar_cut, kkpi_kstar_cut_min, kkpi_kstar_cut_max), 'pip_theta', 'pimkpks_m')"
   ]
  },
  {
   "cell_type": "markdown",
   "metadata": {},
   "source": [
    "#### Binned Distributions"
   ]
  },
  {
   "cell_type": "code",
   "execution_count": 13,
   "metadata": {},
   "outputs": [],
   "source": [
    "pip2_p_hists = []\n",
    "pip_p_hists = []\n",
    "pip2_theta_hists = []\n",
    "pip_theta_hists = []\n",
    "pip2_theta_vs_p_hists = []\n",
    "pip_theta_vs_p_hists = []\n",
    "pip2_p_vs_pipkmks_hists = []\n",
    "pip_p_vs_pimkpks_hists = []\n",
    "pip2_theta_vs_pipkmks_hists = []\n",
    "pip_theta_vs_pimkpks_hists = []\n",
    "\n",
    "for t in constants.ALLOWED_T_BINS:\n",
    "    pip2_p_hists.append(df_pipkmks_all_cuts_kstar_cut.Filter(kcuts.F1_SIGNAL_REGION_PIPKMKS).Filter(kcuts.SELECT_T_BIN.format(t)).Histo1D((f'hist_pip2_p_vs_pipkmks_p_t{t}', 'p_{K_{s} #rightarrow #pi^{+}}', n_bins_kspip_p, kspip_p_min, kspip_p_max), 'pip2_p'))\n",
    "    pip_p_hists.append(df_pimkpks_all_cuts_kstar_cut.Filter(kcuts.F1_SIGNAL_REGION_PIMKPKS).Filter(kcuts.SELECT_T_BIN.format(t)).Histo1D((f'hist_pip_p_p_t{t}', 'p_{K_{s} #rightarrow #pi^{+}}', n_bins_kspip_p, kspip_p_min, kspip_p_max), 'pip_p'))\n",
    "    pip2_theta_hists.append(df_pipkmks_all_cuts_kstar_cut.Filter(kcuts.F1_SIGNAL_REGION_PIPKMKS).Filter(kcuts.SELECT_T_BIN.format(t)).Histo1D((f'pip2_theta_t{t}', '#Theta_{K_{s} #rightarrow #pi^{+}}', n_bins_kspip_theta, kspip_theta_min, kspip_theta_max), 'pip2_theta'))\n",
    "    pip_theta_hists.append(df_pimkpks_all_cuts_kstar_cut.Filter(kcuts.F1_SIGNAL_REGION_PIMKPKS).Filter(kcuts.SELECT_T_BIN.format(t)).Histo1D((f'hist_pip_p_theta_t{t}', '#Theta_{K_{s} #rightarrow #pi^{+}}', n_bins_kspip_theta, kspip_theta_min, kspip_theta_max), 'pip_theta'))\n",
    "    pip2_theta_vs_p_hists.append(df_pipkmks_all_cuts_kstar_cut.Filter(kcuts.F1_SIGNAL_REGION_PIPKMKS).Filter(kcuts.SELECT_T_BIN.format(t)).Histo2D((f'pip2_theta_vs_p_t{t}', '#Theta_{K_{s} #rightarrow #pi^{+}} vs p_{K_{s} #rightarrow #pi^{+}}', n_bins_kspip_theta, kspip_theta_min, kspip_theta_max, n_bins_kspip_p, kspip_p_min, kspip_p_max), 'pip2_theta', 'pip2_p'))\n",
    "    pip_theta_vs_p_hists.append(df_pimkpks_all_cuts_kstar_cut.Filter(kcuts.F1_SIGNAL_REGION_PIMKPKS).Filter(kcuts.SELECT_T_BIN.format(t)).Histo2D((f'hist_pip_p_theta_vs_p_t{t}', '#Theta_{K_{s} #rightarrow #pi^{+}} vs p_{K_{s} #rightarrow #pi^{+}}', n_bins_kspip_theta, kspip_theta_min, kspip_theta_max, n_bins_kspip_p, kspip_p_min, kspip_p_max), 'pip_theta', 'pip_p'))\n",
    "    pip2_p_vs_pipkmks_hists.append(df_pipkmks_all_cuts_kstar_cut.Filter(kcuts.SELECT_T_BIN.format(t)).Histo2D((f'hist_pip2_p_vs_pipkmks_p_vs_pipkmks_t{t}', 'p_{K_{s} #rightarrow #pi^{+}} vs M(#pi^{+}K^{-}K_{S})', n_bins_kspip_p, kspip_p_min, kspip_p_max, n_bins_kkpi_kstar_cut, kkpi_kstar_cut_min, kkpi_kstar_cut_max), 'pip2_p', 'pipkmks_m'))\n",
    "    pip_p_vs_pimkpks_hists.append(df_pimkpks_all_cuts_kstar_cut.Filter(kcuts.SELECT_T_BIN.format(t)).Histo2D((f'hist_pip_p_p_vs_pimkpks_t{t}', 'p_{K_{s} #rightarrow #pi^{+}} vs M(#pi^{-}K^{+}K_{S})', n_bins_kspip_p, kspip_p_min, kspip_p_max, n_bins_kkpi_kstar_cut, kkpi_kstar_cut_min, kkpi_kstar_cut_max), 'pip_p', 'pimkpks_m'))\n",
    "    pip2_theta_vs_pipkmks_hists.append(df_pipkmks_all_cuts_kstar_cut.Filter(kcuts.SELECT_T_BIN.format(t)).Histo2D((f'pip2_theta_vs_pipkmks_t{t}', '#Theta_{K_{s} #rightarrow #pi^{+}} vs M(#pi^{+}K^{-}K_{S})', n_bins_kspip_theta, kspip_theta_min, kspip_theta_max, n_bins_kkpi_kstar_cut, kkpi_kstar_cut_min, kkpi_kstar_cut_max), 'pip2_theta', 'pipkmks_m'))\n",
    "    pip_theta_vs_pimkpks_hists.append(df_pimkpks_all_cuts_kstar_cut.Filter(kcuts.SELECT_T_BIN.format(t)).Histo2D((f'hist_pip_p_theta_vs_pimkpks_t{t}', '#Theta_{K_{s} #rightarrow #pi^{+}} vs M(#pi^{-}K^{+}K_{S})', n_bins_kspip_theta, kspip_theta_min, kspip_theta_max, n_bins_kkpi_kstar_cut, kkpi_kstar_cut_min, kkpi_kstar_cut_max), 'pip_theta', 'pimkpks_m'))"
   ]
  },
  {
   "cell_type": "markdown",
   "metadata": {},
   "source": [
    "### $K_s \\rightarrow \\pi^-$ Kinematics "
   ]
  },
  {
   "cell_type": "markdown",
   "metadata": {},
   "source": [
    "#### Integrated Distributions"
   ]
  },
  {
   "cell_type": "code",
   "execution_count": 14,
   "metadata": {},
   "outputs": [],
   "source": [
    "n_bins_kspim_p, kspim_p_min, kspim_p_max = 50, 0, 8\n",
    "n_bins_kspim_theta, kspim_theta_min, kspim_theta_max = 20, 0, 20\n",
    "\n",
    "hist_pim_p = df_pipkmks_all_cuts_kstar_cut.Filter(kcuts.F1_SIGNAL_REGION_PIPKMKS).Histo1D(('pim_p', 'p_{K_{s} #rightarrow #pi^{-}}', n_bins_kspim_p,kspim_p_min,kspim_p_max), 'pim_p')\n",
    "hist_pim2_p = df_pimkpks_all_cuts_kstar_cut.Filter(kcuts.F1_SIGNAL_REGION_PIMKPKS).Histo1D(('pim2_p', 'p_{K_{s} #rightarrow #pi^{-}}', n_bins_kspim_p,kspim_p_min,kspim_p_max), 'pim2_p')\n",
    "hist_pim_theta = df_pipkmks_all_cuts_kstar_cut.Filter(kcuts.F1_SIGNAL_REGION_PIPKMKS).Histo1D(('pim_theta', '#Theta_{K_{s} #rightarrow #pi^{-}}', n_bins_kspim_theta,kspim_theta_min,kspim_theta_max), 'pim_theta')\n",
    "hist_pim2_theta = df_pimkpks_all_cuts_kstar_cut.Filter(kcuts.F1_SIGNAL_REGION_PIMKPKS).Histo1D(('pim2_theta', '#Theta_{K_{s} #rightarrow #pi^{-}}', n_bins_kspim_theta,kspim_theta_min,kspim_theta_max), 'pim2_theta')\n",
    "hist_pim_theta_vs_p = df_pipkmks_all_cuts_kstar_cut.Filter(kcuts.F1_SIGNAL_REGION_PIPKMKS).Histo2D(('pim_theta_vs_p', '#Theta_{K_{s} #rightarrow #pi^{-}} vs p_{K_{s} #rightarrow #pi^{-}}', n_bins_kspim_theta,kspim_theta_min,kspim_theta_max, n_bins_kspim_p,kspim_p_min,kspim_p_max), 'pim_theta', 'pim_p')\n",
    "hist_pim2_theta_vs_p = df_pimkpks_all_cuts_kstar_cut.Filter(kcuts.F1_SIGNAL_REGION_PIMKPKS).Histo2D(('pim2_theta_vs_p', '#Theta_{K_{s} #rightarrow #pi^{-}} vs p_{K_{s} #rightarrow #pi^{-}}', n_bins_kspim_theta,kspim_theta_min,kspim_theta_max, n_bins_kspim_p,kspim_p_min,kspim_p_max), 'pim2_theta', 'pim2_p')\n",
    "hist_pim_p_vs_pipkmks = df_pipkmks_all_cuts_kstar_cut.Histo2D(('pim_p_vs_pipkmks', 'p_{K_{s} #rightarrow #pi^{-}} vs M(#pi^{+}K^{-}K_{S})', n_bins_kspim_p,kspim_p_min,kspim_p_max, n_bins_kkpi_kstar_cut, kkpi_kstar_cut_min, kkpi_kstar_cut_max), 'pim_p', 'pipkmks_m')\n",
    "hist_pim2_p_vs_pimkpks = df_pimkpks_all_cuts_kstar_cut.Histo2D(('pim2_p_vs_pimkpks', 'p_{K_{s} #rightarrow #pi^{-}} vs M(#pi^{-}K^{+}K_{S})', n_bins_kspim_p,kspim_p_min,kspim_p_max, n_bins_kkpi_kstar_cut, kkpi_kstar_cut_min, kkpi_kstar_cut_max), 'pim2_p', 'pimkpks_m')\n",
    "hist_pim_theta_vs_pipkmks = df_pipkmks_all_cuts_kstar_cut.Histo2D(('pim_theta_vs_pipkmks', '#Theta_{K_{s} #rightarrow #pi^{-}} vs M(#pi^{+}K^{-}K_{S})', n_bins_kspim_theta,kspim_theta_min,kspim_theta_max, n_bins_kkpi_kstar_cut, kkpi_kstar_cut_min, kkpi_kstar_cut_max), 'pim_theta', 'pipkmks_m')\n",
    "hist_pim2_theta_vs_pimkpks = df_pimkpks_all_cuts_kstar_cut.Histo2D(('pim2_theta_vs_pimkpks', '#Theta_{K_{s} #rightarrow #pi^{-}} vs M(#pi^{-}K^{+}K_{S})', n_bins_kspim_theta,kspim_theta_min,kspim_theta_max, n_bins_kkpi_kstar_cut, kkpi_kstar_cut_min, kkpi_kstar_cut_max), 'pim2_theta', 'pimkpks_m')"
   ]
  },
  {
   "cell_type": "markdown",
   "metadata": {},
   "source": [
    "#### Binned Distributions"
   ]
  },
  {
   "cell_type": "code",
   "execution_count": 15,
   "metadata": {},
   "outputs": [],
   "source": [
    "pim_p_hists = []\n",
    "pim2_p_hists = []\n",
    "pim_theta_hists = []\n",
    "pim2_theta_hists = []\n",
    "pim_theta_vs_p_hists = []\n",
    "pim2_theta_vs_p_hists = []\n",
    "pim_p_vs_pipkmks_hists = []\n",
    "pim2_p_vs_pimkpks_hists = []\n",
    "pim_theta_vs_pipkmks_hists = []\n",
    "pim2_theta_vs_pimkpks_hists = []\n",
    "\n",
    "for t in constants.ALLOWED_T_BINS:\n",
    "    pim_p_hists.append(df_pipkmks_all_cuts_kstar_cut.Filter(kcuts.F1_SIGNAL_REGION_PIPKMKS).Filter(kcuts.SELECT_T_BIN.format(t)).Histo1D((f'hist_pim_p_vs_pipkmks_p_t{t}', 'p_{K_{s} #rightarrow #pi^{-}}', n_bins_kspim_p, kspim_p_min, kspim_p_max), 'pim_p'))\n",
    "    pim2_p_hists.append(df_pimkpks_all_cuts_kstar_cut.Filter(kcuts.F1_SIGNAL_REGION_PIMKPKS).Filter(kcuts.SELECT_T_BIN.format(t)).Histo1D((f'hist_pim2_p_p_t{t}', 'p_{K_{s} #rightarrow #pi^{-}}', n_bins_kspim_p, kspim_p_min, kspim_p_max), 'pim2_p'))\n",
    "    pim_theta_hists.append(df_pipkmks_all_cuts_kstar_cut.Filter(kcuts.F1_SIGNAL_REGION_PIPKMKS).Filter(kcuts.SELECT_T_BIN.format(t)).Histo1D((f'pim_theta_t{t}', '#Theta_{K_{s} #rightarrow #pi^{-}}', n_bins_kspim_theta, kspim_theta_min, kspim_theta_max), 'pim_theta'))\n",
    "    pim2_theta_hists.append(df_pimkpks_all_cuts_kstar_cut.Filter(kcuts.F1_SIGNAL_REGION_PIMKPKS).Filter(kcuts.SELECT_T_BIN.format(t)).Histo1D((f'hist_pim2_p_theta_t{t}', '#Theta_{K_{s} #rightarrow #pi^{-}}', n_bins_kspim_theta, kspim_theta_min, kspim_theta_max), 'pim2_theta'))\n",
    "    pim_theta_vs_p_hists.append(df_pipkmks_all_cuts_kstar_cut.Filter(kcuts.F1_SIGNAL_REGION_PIPKMKS).Filter(kcuts.SELECT_T_BIN.format(t)).Histo2D((f'pim_theta_vs_p_t{t}', '#Theta_{K_{s} #rightarrow #pi^{-}} vs p_{K_{s} #rightarrow #pi^{-}}', n_bins_kspim_theta, kspim_theta_min, kspim_theta_max, n_bins_kspim_p, kspim_p_min, kspim_p_max), 'pim_theta', 'pim_p'))\n",
    "    pim2_theta_vs_p_hists.append(df_pimkpks_all_cuts_kstar_cut.Filter(kcuts.F1_SIGNAL_REGION_PIMKPKS).Filter(kcuts.SELECT_T_BIN.format(t)).Histo2D((f'hist_pim2_p_theta_vs_p_t{t}', '#Theta_{K_{s} #rightarrow #pi^{-}} vs p_{K_{s} #rightarrow #pi^{-}}', n_bins_kspim_theta, kspim_theta_min, kspim_theta_max, n_bins_kspim_p, kspim_p_min, kspim_p_max), 'pim2_theta', 'pim2_p'))\n",
    "    pim_p_vs_pipkmks_hists.append(df_pipkmks_all_cuts_kstar_cut.Filter(kcuts.SELECT_T_BIN.format(t)).Histo2D((f'hist_pim_p_vs_pipkmks_p_vs_pipkmks_t{t}', 'p_{K_{s} #rightarrow #pi^{-}} vs M(#pi^{+}K^{-}K_{S})', n_bins_kspim_p, kspim_p_min, kspim_p_max, n_bins_kkpi_kstar_cut, kkpi_kstar_cut_min, kkpi_kstar_cut_max), 'pim_p', 'pipkmks_m'))\n",
    "    pim2_p_vs_pimkpks_hists.append(df_pimkpks_all_cuts_kstar_cut.Filter(kcuts.SELECT_T_BIN.format(t)).Histo2D((f'hist_pim2_p_p_vs_pimkpks_t{t}', 'p_{K_{s} #rightarrow #pi^{-}} vs M(#pi^{-}K^{+}K_{S})', n_bins_kspim_p, kspim_p_min, kspim_p_max, n_bins_kkpi_kstar_cut, kkpi_kstar_cut_min, kkpi_kstar_cut_max), 'pim2_p', 'pimkpks_m'))\n",
    "    pim_theta_vs_pipkmks_hists.append(df_pipkmks_all_cuts_kstar_cut.Filter(kcuts.SELECT_T_BIN.format(t)).Histo2D((f'pim_theta_vs_pipkmks_t{t}', '#Theta_{K_{s} #rightarrow #pi^{-}} vs M(#pi^{+}K^{-}K_{S})', n_bins_kspim_theta, kspim_theta_min, kspim_theta_max, n_bins_kkpi_kstar_cut, kkpi_kstar_cut_min, kkpi_kstar_cut_max), 'pim_theta', 'pipkmks_m'))\n",
    "    pim2_theta_vs_pimkpks_hists.append(df_pimkpks_all_cuts_kstar_cut.Filter(kcuts.SELECT_T_BIN.format(t)).Histo2D((f'hist_pim2_p_theta_vs_pimkpks_t{t}', '#Theta_{K_{s} #rightarrow #pi^{-}} vs M(#pi^{-}K^{+}K_{S})', n_bins_kspim_theta, kspim_theta_min, kspim_theta_max, n_bins_kkpi_kstar_cut, kkpi_kstar_cut_min, kkpi_kstar_cut_max), 'pim2_theta', 'pimkpks_m'))"
   ]
  },
  {
   "cell_type": "markdown",
   "metadata": {},
   "source": [
    "# Draw Plots"
   ]
  },
  {
   "cell_type": "code",
   "execution_count": 16,
   "metadata": {},
   "outputs": [],
   "source": [
    "c = ROOT.TCanvas('c', 'c', 1200, 800)\n"
   ]
  },
  {
   "cell_type": "markdown",
   "metadata": {},
   "source": [
    "### Integrated $KK\\pi$ Plots with and without K* Rejection"
   ]
  },
  {
   "cell_type": "code",
   "execution_count": null,
   "metadata": {},
   "outputs": [],
   "source": [
    "c.Clear()\n",
    "c.Divide(2, 1)\n",
    "\n",
    "c.cd(1)\n",
    "hist_pimkpks.SetLineColor(ROOT.kRed)\n",
    "legend_kkpi = ROOT.TLegend(0.6, 0.6, 0.9, 0.9)\n",
    "legend_kkpi.AddEntry(hist_pipkmks.GetPtr(), 'M(#pi^{+}K^{-}K_{S})', 'l')\n",
    "legend_kkpi.AddEntry(hist_pimkpks.GetPtr(), 'M(#pi^{-}K^{+}K_{S})', 'l')\n",
    "sorted_hists = tools.sort_hists_by_max([hist_pipkmks, hist_pimkpks])\n",
    "sorted_hists[0].SetTitle('M(#pi^{+}K^{-}K_{S}) without K* Rejection')\n",
    "sorted_hists[0].Draw()\n",
    "sorted_hists[1].Draw('same')\n",
    "legend_kkpi.Draw()\n",
    "\n",
    "c.cd(2)\n",
    "hist_pimkpks_kstar_cut.SetLineColor(ROOT.kRed)\n",
    "legend_kkpi_kstar_cut = ROOT.TLegend(0.6, 0.6, 0.9, 0.9)\n",
    "legend_kkpi_kstar_cut.AddEntry(hist_pipkmks_kstar_cut.GetPtr(), 'M(#pi^{+}K^{-}K_{S})', 'l')\n",
    "legend_kkpi_kstar_cut.AddEntry(hist_pimkpks_kstar_cut.GetPtr(), 'M(#pi^{-}K^{+}K_{S})', 'l')\n",
    "sorted_hists = tools.sort_hists_by_max([hist_pipkmks_kstar_cut, hist_pimkpks_kstar_cut])\n",
    "sorted_hists[0].SetTitle('M(#pi^{+}K^{-}K_{S}) with K* Rejection')\n",
    "sorted_hists[0].Draw()\n",
    "sorted_hists[1].Draw('same')\n",
    "legend_kkpi_kstar_cut.Draw()\n",
    "\n",
    "c.Draw()\n",
    "\n"
   ]
  },
  {
   "cell_type": "markdown",
   "metadata": {},
   "source": [
    "### Kaon Kinematics "
   ]
  },
  {
   "cell_type": "markdown",
   "metadata": {},
   "source": [
    "#### Kaon Momentum and $\\Theta$ Distributions\n",
    "**$f_{1}(1285)$ region selected with $1.24 < M(KK\\pi) < 1.35$**"
   ]
  },
  {
   "cell_type": "code",
   "execution_count": null,
   "metadata": {},
   "outputs": [],
   "source": [
    "c.Clear()\n",
    "c.Divide(2, 1)\n",
    "\n",
    "c.cd(1)\n",
    "hist_kp_p.SetLineColor(ROOT.kRed)\n",
    "legend_kaon_p = ROOT.TLegend(0.6, 0.6, 0.9, 0.9)\n",
    "legend_kaon_p.AddEntry(hist_km_p.GetPtr(), 'K^{-}', 'l')\n",
    "legend_kaon_p.AddEntry(hist_kp_p.GetPtr(), 'K^{+}', 'l')\n",
    "sorted_hists = tools.sort_hists_by_max([hist_km_p, hist_kp_p])\n",
    "sorted_hists[0].SetTitle('K^{-} and K^{+} Momentum without K* Rejection')\n",
    "sorted_hists[0].Draw()\n",
    "sorted_hists[1].Draw('same')\n",
    "legend_kaon_p.Draw()\n",
    "\n",
    "c.cd(2)\n",
    "hist_kp_theta.SetLineColor(ROOT.kRed)\n",
    "legend_kaon_theta = ROOT.TLegend(0.6, 0.6, 0.9, 0.9)\n",
    "legend_kaon_theta.AddEntry(hist_km_theta.GetPtr(), 'K^{-}', 'l')\n",
    "legend_kaon_theta.AddEntry(hist_kp_theta.GetPtr(), 'K^{+}', 'l')\n",
    "sorted_hists = tools.sort_hists_by_max([hist_km_theta, hist_kp_theta])\n",
    "sorted_hists[0].SetTitle('K^{-} and K^{+} #Theta without K* Rejection')\n",
    "sorted_hists[0].Draw()\n",
    "sorted_hists[1].Draw('same')\n",
    "legend_kaon_theta.Draw()\n",
    "\n",
    "c.Draw()\n"
   ]
  },
  {
   "cell_type": "markdown",
   "metadata": {},
   "source": [
    "**Momentum in top row, $\\Theta$ in bottom row**"
   ]
  },
  {
   "cell_type": "code",
   "execution_count": null,
   "metadata": {},
   "outputs": [],
   "source": [
    "c.Clear()\n",
    "c.Divide(7, 2)\n",
    "legends = []\n",
    "for i, (hist_km_p, hist_kp_p, hist_km_theta, hist_kp_theta) in enumerate(zip(ks_pipkmks_p_hists, ks_pimkpks_p_hists, ks_pipkmks_theta_hists, ks_pimkpks_theta_hists)):\n",
    "    t_range_string = f'{constants.T_CUT_DICT[i+1][0]} < t < {constants.T_CUT_DICT[i+1][1]}'\n",
    "    c.cd(i+1)\n",
    "    hist_kp_p.SetLineColor(ROOT.kRed)\n",
    "    legend_kaon_p = ROOT.TLegend(0.6, 0.6, 0.9, 0.9)\n",
    "    legend_kaon_p.AddEntry(hist_km_p.GetPtr(), 'K^{-}', 'l')\n",
    "    legend_kaon_p.AddEntry(hist_kp_p.GetPtr(), 'K^{+}', 'l')\n",
    "    legends.append(legend_kaon_p)\n",
    "    sorted_hists = tools.sort_hists_by_max([hist_km_p, hist_kp_p])\n",
    "    sorted_hists[0].SetTitle('K^{-} and K^{+} Momentum without K* Rejection: ' + t_range_string)\n",
    "    sorted_hists[0].Draw()\n",
    "    sorted_hists[1].Draw('same')\n",
    "    legends[i].Draw()\n",
    "    c.cd(i+8)\n",
    "    hist_kp_theta.SetLineColor(ROOT.kRed)\n",
    "    sorted_hists = tools.sort_hists_by_max([hist_km_theta, hist_kp_theta])\n",
    "    sorted_hists[0].SetTitle('K^{-} and K^{+} #Theta without K* Rejection: ' + t_range_string)\n",
    "    sorted_hists[0].Draw()\n",
    "    sorted_hists[1].Draw('same')\n",
    "    legends[i].Draw()\n",
    "c.Draw()\n",
    "    "
   ]
  },
  {
   "cell_type": "markdown",
   "metadata": {},
   "source": [
    "#### $\\Theta$ vs Momentum Distributions\n",
    "**$K^{-}$ in top row, $K^{+}$** in bottom row"
   ]
  },
  {
   "cell_type": "code",
   "execution_count": null,
   "metadata": {},
   "outputs": [],
   "source": [
    "c.Clear()\n",
    "c.Divide(7, 2)\n",
    "\n",
    "for i, (hist_km, hist_kp) in enumerate(zip(ks_pipkmks_theta_vs_p_hists, ks_pimkpks_theta_vs_p_hists)):\n",
    "    c.cd(i+1)\n",
    "    hist_km.Draw('colz')\n",
    "    c.cd(i+8)\n",
    "    hist_kp.Draw('colz')\n",
    "c.Draw()"
   ]
  },
  {
   "cell_type": "markdown",
   "metadata": {},
   "source": [
    "#### Momentum vs $M(KK\\pi)$ Distributions\n",
    "**$K^{-}$ in top row, $K^{+}$** in bottom row"
   ]
  },
  {
   "cell_type": "code",
   "execution_count": null,
   "metadata": {},
   "outputs": [],
   "source": [
    "c.Clear()\n",
    "c.Divide(7, 2)\n",
    "\n",
    "for i, (hist_km, hist_kp) in enumerate(zip(ks_pipkmks_p_vs_pipkmks_hists, ks_pimkpks_p_vs_pimkpks_hists)):\n",
    "    c.cd(i+1)\n",
    "    hist_km.Draw('colz')\n",
    "    c.cd(i+8)\n",
    "    hist_kp.Draw('colz')\n",
    "c.Draw()"
   ]
  },
  {
   "cell_type": "markdown",
   "metadata": {},
   "source": [
    "#### $\\Theta$ vs $M(KK\\pi)$ Distributions\n",
    "**$K^{-}$ in top row, $K^{+}$** in bottom row"
   ]
  },
  {
   "cell_type": "code",
   "execution_count": null,
   "metadata": {},
   "outputs": [],
   "source": [
    "c.Clear()\n",
    "c.Divide(7, 2)\n",
    "\n",
    "for i, (hist_km, hist_kp) in enumerate(zip(ks_pipkmks_theta_vs_pipkmks_hists, ks_pimkpks_theta_vs_pimkpks_hists)):\n",
    "    c.cd(i+1)\n",
    "    hist_km.Draw('colz')\n",
    "    c.cd(i+8)\n",
    "    hist_kp.Draw('colz')\n",
    "c.Draw()"
   ]
  },
  {
   "cell_type": "markdown",
   "metadata": {},
   "source": [
    "### Pion Kinematics "
   ]
  },
  {
   "cell_type": "markdown",
   "metadata": {},
   "source": [
    "#### Pion Momentum and $\\Theta$ Distributions\n",
    "**$f_{1}(1285)$ region selected with $1.24 < M(KK\\pi) < 1.35$**"
   ]
  },
  {
   "cell_type": "code",
   "execution_count": null,
   "metadata": {},
   "outputs": [],
   "source": [
    "c.Clear()\n",
    "c.Divide(2, 1)\n",
    "\n",
    "c.cd(1)\n",
    "hist_pip1_p.SetLineColor(ROOT.kRed)\n",
    "legend_pion_p = ROOT.TLegend(0.6, 0.6, 0.9, 0.9)\n",
    "legend_pion_p.AddEntry(hist_pip1_p.GetPtr(), '#pi^{+}', 'l')\n",
    "legend_pion_p.AddEntry(hist_pim1_p.GetPtr(), '#pi^{-}', 'l')\n",
    "sorted_hists = tools.sort_hists_by_max([hist_pip1_p, hist_pim1_p])\n",
    "sorted_hists[0].SetTitle('#pi^{+} and #pi^{-} Momentum without K* Rejection')\n",
    "sorted_hists[0].Draw()\n",
    "sorted_hists[1].Draw('same')\n",
    "legend_pion_p.Draw()\n",
    "\n",
    "c.cd(2)\n",
    "hist_pim1_theta.SetLineColor(ROOT.kRed)\n",
    "legend_pion_theta = ROOT.TLegend(0.6, 0.6, 0.9, 0.9)\n",
    "legend_pion_theta.AddEntry(hist_pip1_theta.GetPtr(), '#pi^{+}', 'l')\n",
    "legend_pion_theta.AddEntry(hist_pim1_theta.GetPtr(), '#pi^{-}', 'l')\n",
    "sorted_hists = tools.sort_hists_by_max([hist_pip1_theta, hist_pim1_theta])\n",
    "sorted_hists[0].SetTitle('#pi^{+} and #pi^{-} #Theta without K* Rejection')\n",
    "sorted_hists[0].Draw()\n",
    "sorted_hists[1].Draw('same')\n",
    "legend_pion_theta.Draw()\n",
    "\n",
    "c.Draw()\n"
   ]
  },
  {
   "cell_type": "markdown",
   "metadata": {},
   "source": [
    "**Momentum in top row, $\\Theta$ in bottom row**"
   ]
  },
  {
   "cell_type": "code",
   "execution_count": null,
   "metadata": {},
   "outputs": [],
   "source": [
    "c.Clear()\n",
    "c.Divide(7, 2)\n",
    "legends = []\n",
    "for i, (hist_pip1_p, hist_pim1_p, hist_pip1_theta, hist_pim1_theta) in enumerate(zip(pip1_p_hists, pim1_p_hists, pip1_theta_hists, pim1_theta_hists)):\n",
    "    t_range_string = f'{constants.T_CUT_DICT[i+1][0]} < t < {constants.T_CUT_DICT[i+1][1]}'\n",
    "    c.cd(i+1)\n",
    "    hist_pim1_p.SetLineColor(ROOT.kRed)\n",
    "    legend_pion_p = ROOT.TLegend(0.6, 0.6, 0.9, 0.9)\n",
    "    legend_pion_p.AddEntry(hist_pip1_p.GetPtr(), '#pi^{+}', 'l')\n",
    "    legend_pion_p.AddEntry(hist_pim1_p.GetPtr(), '#pi^{-}', 'l')\n",
    "    legends.append(legend_pion_p)\n",
    "    sorted_hists = tools.sort_hists_by_max([hist_pip1_p, hist_pim1_p])\n",
    "    sorted_hists[0].SetTitle('#pi^{+} and #pi^{-} Momentum without K* Rejection: ' + t_range_string)\n",
    "    sorted_hists[0].Draw()\n",
    "    sorted_hists[1].Draw('same')\n",
    "    legends[i].Draw()\n",
    "    c.cd(i+8)\n",
    "    hist_pim1_theta.SetLineColor(ROOT.kRed)\n",
    "    sorted_hists = tools.sort_hists_by_max([hist_pip1_theta, hist_pim1_theta])\n",
    "    sorted_hists[0].SetTitle('#pi^{+} and #pi^{-} #Theta without K* Rejection: ' + t_range_string)\n",
    "    sorted_hists[0].Draw()\n",
    "    sorted_hists[1].Draw('same')\n",
    "    legends[i].Draw()\n",
    "c.Draw()\n",
    "    "
   ]
  },
  {
   "cell_type": "markdown",
   "metadata": {},
   "source": [
    "#### $\\Theta$ vs Momentum Distributions\n",
    "**$\\pi^{+}$ in top row, $\\pi^{-}$** in bottom row"
   ]
  },
  {
   "cell_type": "code",
   "execution_count": null,
   "metadata": {},
   "outputs": [],
   "source": [
    "c.Clear()\n",
    "c.Divide(7, 2)\n",
    "\n",
    "for i, (hist_pip1, hist_pim1) in enumerate(zip(pip1_theta_vs_p_hists, pim1_theta_vs_p_hists)):\n",
    "    c.cd(i+1)\n",
    "    hist_pip1.Draw('colz')\n",
    "    c.cd(i+8)\n",
    "    hist_pim1.Draw('colz')\n",
    "c.Draw()"
   ]
  },
  {
   "cell_type": "markdown",
   "metadata": {},
   "source": [
    "#### Momentum vs $M(KK\\pi)$ Distributions\n",
    "**$\\pi^{+}$ in top row, $\\pi^{-}$** in bottom row"
   ]
  },
  {
   "cell_type": "code",
   "execution_count": null,
   "metadata": {},
   "outputs": [],
   "source": [
    "c.Clear()\n",
    "c.Divide(7, 2)\n",
    "\n",
    "for i, (hist_pip1, hist_pim1) in enumerate(zip(pip1_p_vs_pipkmks_hists, pim1_p_vs_pimkpks_hists)):\n",
    "    c.cd(i+1)\n",
    "    hist_pip1.Draw('colz')\n",
    "    c.cd(i+8)\n",
    "    hist_pim1.Draw('colz')\n",
    "c.Draw()"
   ]
  },
  {
   "cell_type": "markdown",
   "metadata": {},
   "source": [
    "#### $\\Theta$ vs $M(KK\\pi)$ Distributions\n",
    "**$\\pi^{+}$ in top row, $\\pi^{-}$** in bottom row"
   ]
  },
  {
   "cell_type": "code",
   "execution_count": null,
   "metadata": {},
   "outputs": [],
   "source": [
    "c.Clear()\n",
    "c.Divide(7, 2)\n",
    "\n",
    "for i, (hist_pip1, hist_pim1) in enumerate(zip(pip1_theta_vs_pipkmks_hists, pim1_theta_vs_pimkpks_hists)):\n",
    "    c.cd(i+1)\n",
    "    hist_pip1.Draw('colz')\n",
    "    c.cd(i+8)\n",
    "    hist_pim1.Draw('colz')\n",
    "c.Draw()"
   ]
  },
  {
   "cell_type": "markdown",
   "metadata": {},
   "source": [
    "### $K_{s}$ Kinematics "
   ]
  },
  {
   "cell_type": "markdown",
   "metadata": {},
   "source": [
    "#### $K_{s}$ Momentum and $\\Theta$ Distributions\n",
    "**$f_{1}(1285)$ region selected with $1.24 < M(KK\\pi) < 1.35$**"
   ]
  },
  {
   "cell_type": "code",
   "execution_count": null,
   "metadata": {},
   "outputs": [],
   "source": [
    "c.Clear()\n",
    "c.Divide(2, 1)\n",
    "\n",
    "c.cd(1)\n",
    "hist_ks_pimkpks_p.SetLineColor(ROOT.kRed)\n",
    "legend_ks_p = ROOT.TLegend(0.6, 0.6, 0.9, 0.9)\n",
    "legend_ks_p.AddEntry(hist_ks_pipkmks_p.GetPtr(), '#pi^{+}K^{-}', 'l')\n",
    "legend_ks_p.AddEntry(hist_ks_pimkpks_p.GetPtr(), '#pi^{-}K^{+}', 'l')\n",
    "sorted_hists = tools.sort_hists_by_max([hist_ks_pipkmks_p, hist_ks_pimkpks_p])\n",
    "sorted_hists[0].SetTitle('K_{s} Momentum without K* Rejection')\n",
    "sorted_hists[0].Draw()\n",
    "sorted_hists[1].Draw('same')\n",
    "legend_ks_p.Draw()\n",
    "\n",
    "c.cd(2)\n",
    "hist_ks_pimkpks_theta.SetLineColor(ROOT.kRed)\n",
    "legend_ks_theta = ROOT.TLegend(0.6, 0.6, 0.9, 0.9)\n",
    "legend_ks_theta.AddEntry(hist_ks_pipkmks_theta.GetPtr(), '#pi^{+}K^{-}', 'l')\n",
    "legend_ks_theta.AddEntry(hist_ks_pimkpks_theta.GetPtr(), '#pi^{-}K^{+}', 'l')\n",
    "sorted_hists = tools.sort_hists_by_max([hist_ks_pipkmks_theta, hist_ks_pimkpks_theta])\n",
    "sorted_hists[0].SetTitle('K_{s} #Theta without K* Rejection')\n",
    "sorted_hists[0].Draw()\n",
    "sorted_hists[1].Draw('same')\n",
    "legend_ks_theta.Draw()\n",
    "\n",
    "c.Draw()\n"
   ]
  },
  {
   "cell_type": "markdown",
   "metadata": {},
   "source": [
    "**Momentum in top row, $\\Theta$ in bottom row**"
   ]
  },
  {
   "cell_type": "code",
   "execution_count": null,
   "metadata": {},
   "outputs": [],
   "source": [
    "c.Clear()\n",
    "c.Divide(7, 2)\n",
    "legends = []\n",
    "for i, (hist_ks_pipkmks_p, hist_ks_pimkpks_p, hist_ks_pipkmks_theta, hist_ks_pimkpks_theta) in enumerate(zip(ks_pipkmks_p_hists, ks_pimkpks_p_hists, ks_pipkmks_theta_hists, ks_pimkpks_theta_hists)):\n",
    "    t_range_string = f'{constants.T_CUT_DICT[i+1][0]} < t < {constants.T_CUT_DICT[i+1][1]}'\n",
    "    c.cd(i+1)\n",
    "    hist_ks_pimkpks_p.SetLineColor(ROOT.kRed)\n",
    "    legend_ks_p = ROOT.TLegend(0.6, 0.6, 0.9, 0.9)\n",
    "    legend_ks_p.AddEntry(hist_ks_pipkmks_p.GetPtr(), '#pi^{+}K^{-}', 'l')\n",
    "    legend_ks_p.AddEntry(hist_ks_pimkpks_p.GetPtr(), '#pi^{-}K^{+}', 'l')\n",
    "    legends.append(legend_ks_p)\n",
    "    sorted_hists = tools.sort_hists_by_max([hist_ks_pipkmks_p, hist_ks_pimkpks_p])\n",
    "    sorted_hists[0].SetTitle('K_{s} Momentum without K* Rejection: ' + t_range_string)\n",
    "    sorted_hists[0].Draw()\n",
    "    sorted_hists[1].Draw('same')\n",
    "    legends[i].Draw()\n",
    "    c.cd(i+8)\n",
    "    hist_ks_pimkpks_theta.SetLineColor(ROOT.kRed)\n",
    "    sorted_hists = tools.sort_hists_by_max([hist_ks_pipkmks_theta, hist_ks_pimkpks_theta])\n",
    "    sorted_hists[0].SetTitle('K_{s} #Theta without K* Rejection: ' + t_range_string)\n",
    "    sorted_hists[0].Draw()\n",
    "    sorted_hists[1].Draw('same')\n",
    "    legends[i].Draw()\n",
    "c.Draw()\n",
    "    "
   ]
  },
  {
   "cell_type": "markdown",
   "metadata": {},
   "source": [
    "#### $\\Theta$ vs Momentum Distributions\n",
    "**$\\pi^{+}K^{-}$ in top row, $\\pi^{-}K^{+}$** in bottom row"
   ]
  },
  {
   "cell_type": "code",
   "execution_count": null,
   "metadata": {},
   "outputs": [],
   "source": [
    "c.Clear()\n",
    "c.Divide(7, 2)\n",
    "\n",
    "for i, (hist_ks_pipkmks, hist_ks_pimkpks) in enumerate(zip(ks_pipkmks_theta_vs_p_hists, ks_pimkpks_theta_vs_p_hists)):\n",
    "    c.cd(i+1)\n",
    "    hist_ks_pipkmks.Draw('colz')\n",
    "    c.cd(i+8)\n",
    "    hist_ks_pimkpks.Draw('colz')\n",
    "c.Draw()"
   ]
  },
  {
   "cell_type": "markdown",
   "metadata": {},
   "source": [
    "#### Momentum vs $M(KK\\pi)$ Distributions\n",
    "**$\\pi^{+}K^{-}$ in top row, $\\pi^{-}K^{+}$** in bottom row"
   ]
  },
  {
   "cell_type": "code",
   "execution_count": null,
   "metadata": {},
   "outputs": [],
   "source": [
    "c.Clear()\n",
    "c.Divide(7, 2)\n",
    "\n",
    "for i, (hist_ks_pipkmks, hist_ks_pimkpks) in enumerate(zip(ks_pipkmks_p_vs_pipkmks_hists, ks_pimkpks_p_vs_pimkpks_hists)):\n",
    "    c.cd(i+1)\n",
    "    hist_ks_pipkmks.Draw('colz')\n",
    "    c.cd(i+8)\n",
    "    hist_ks_pimkpks.Draw('colz')\n",
    "c.Draw()"
   ]
  },
  {
   "cell_type": "markdown",
   "metadata": {},
   "source": [
    "#### $\\Theta$ vs $M(KK\\pi)$ Distributions\n",
    "**$\\pi^{+}K^{-}$ in top row, $\\pi^{-}K^{+}$** in bottom row"
   ]
  },
  {
   "cell_type": "code",
   "execution_count": null,
   "metadata": {},
   "outputs": [],
   "source": [
    "c.Clear()\n",
    "c.Divide(7, 2)\n",
    "\n",
    "for i, (hist_ks_pipkmks, hist_ks_pimkpks) in enumerate(zip(ks_pipkmks_theta_vs_pipkmks_hists, ks_pimkpks_theta_vs_pimkpks_hists)):\n",
    "    c.cd(i+1)\n",
    "    hist_ks_pipkmks.Draw('colz')\n",
    "    c.cd(i+8)\n",
    "    hist_ks_pimkpks.Draw('colz')\n",
    "c.Draw()"
   ]
  },
  {
   "cell_type": "markdown",
   "metadata": {},
   "source": [
    "### $K_s \\rightarrow \\pi^+$ Kinematics "
   ]
  },
  {
   "cell_type": "markdown",
   "metadata": {},
   "source": [
    "#### $K_s \\rightarrow \\pi^+$ Momentum and $\\Theta$ Distributions\n",
    "**$f_{1}(1285)$ region selected with $1.24 < M(KK\\pi) < 1.35$**"
   ]
  },
  {
   "cell_type": "code",
   "execution_count": null,
   "metadata": {},
   "outputs": [],
   "source": [
    "c.Clear()\n",
    "c.Divide(2, 1)\n",
    "\n",
    "c.cd(1)\n",
    "hist_pip2_p.SetLineColor(ROOT.kRed)\n",
    "legend_kspip_p = ROOT.TLegend(0.6, 0.6, 0.9, 0.9)\n",
    "legend_kspip_p.AddEntry(hist_pip2_p.GetPtr(), '#pi^{+}', 'l')\n",
    "legend_kspip_p.AddEntry(hist_pip_p.GetPtr(), '#pi^{-}', 'l')\n",
    "sorted_hists = tools.sort_hists_by_max([hist_pip2_p, hist_pip_p])\n",
    "sorted_hists[0].SetTitle('K_{s} #rightarrow #pi^{+} Momentum without K* Rejection')\n",
    "sorted_hists[0].Draw()\n",
    "sorted_hists[1].Draw('same')\n",
    "legend_kspip_p.Draw()\n",
    "\n",
    "c.cd(2)\n",
    "hist_pip_theta.SetLineColor(ROOT.kRed)\n",
    "legend_kspip_theta = ROOT.TLegend(0.6, 0.6, 0.9, 0.9)\n",
    "legend_kspip_theta.AddEntry(hist_pip2_theta.GetPtr(), '#pi^{+}', 'l')\n",
    "legend_kspip_theta.AddEntry(hist_pip_theta.GetPtr(), '#pi^{-}', 'l')\n",
    "sorted_hists = tools.sort_hists_by_max([hist_pip2_theta, hist_pip_theta])\n",
    "sorted_hists[0].SetTitle('K_{s} #rightarrow #pi^{+}} #Theta without K* Rejection')\n",
    "sorted_hists[0].Draw()\n",
    "sorted_hists[1].Draw('same')\n",
    "legend_kspip_theta.Draw()\n",
    "\n",
    "c.Draw()\n"
   ]
  },
  {
   "cell_type": "markdown",
   "metadata": {},
   "source": [
    "**Momentum in top row, $\\Theta$ in bottom row**"
   ]
  },
  {
   "cell_type": "code",
   "execution_count": null,
   "metadata": {},
   "outputs": [],
   "source": [
    "c.Clear()\n",
    "c.Divide(7, 2)\n",
    "legends = []\n",
    "for i, (hist_pip2_p, hist_pip_p, hist_pip2_theta, hist_pip_theta) in enumerate(zip(pip2_p_hists, pip_p_hists, pip2_theta_hists, pip_theta_hists)):\n",
    "    t_range_string = f'{constants.T_CUT_DICT[i+1][0]} < t < {constants.T_CUT_DICT[i+1][1]}'\n",
    "    c.cd(i+1)\n",
    "    hist_pip_p.SetLineColor(ROOT.kRed)\n",
    "    legend_kspip_p = ROOT.TLegend(0.6, 0.6, 0.9, 0.9)\n",
    "    legend_kspip_p.AddEntry(hist_pip2_p.GetPtr(), '#pi^{+}K^{-}', 'l')\n",
    "    legend_kspip_p.AddEntry(hist_pip_p.GetPtr(), '#pi^{-}K^{+}', 'l')\n",
    "    legends.append(legend_kspip_p)\n",
    "    sorted_hists = tools.sort_hists_by_max([hist_pip2_p, hist_pip_p])\n",
    "    sorted_hists[0].SetTitle('K_{s} #rightarrow #pi^{+} Momentum without K* Rejection: ' + t_range_string)\n",
    "    sorted_hists[0].Draw()\n",
    "    sorted_hists[1].Draw('same')\n",
    "    legends[i].Draw()\n",
    "    c.cd(i+8)\n",
    "    hist_pip_theta.SetLineColor(ROOT.kRed)\n",
    "    sorted_hists = tools.sort_hists_by_max([hist_pip2_theta, hist_pip_theta])\n",
    "    sorted_hists[0].SetTitle('K_{s} #rightarrow #pi^{+} #Theta without K* Rejection: ' + t_range_string)\n",
    "    sorted_hists[0].Draw()\n",
    "    sorted_hists[1].Draw('same')\n",
    "    legends[i].Draw()\n",
    "c.Draw()\n",
    "    "
   ]
  },
  {
   "cell_type": "markdown",
   "metadata": {},
   "source": [
    "#### $\\Theta$ vs Momentum Distributions\n",
    "**$\\pi^{+}K^{-}$ in top row, $\\pi^{-}K^{+}$** in bottom row"
   ]
  },
  {
   "cell_type": "code",
   "execution_count": null,
   "metadata": {},
   "outputs": [],
   "source": [
    "c.Clear()\n",
    "c.Divide(7, 2)\n",
    "\n",
    "for i, (hist_pip2, hist_pip) in enumerate(zip(pip2_theta_vs_p_hists, pip_theta_vs_p_hists)):\n",
    "    c.cd(i+1)\n",
    "    hist_pip2.Draw('colz')\n",
    "    c.cd(i+8)\n",
    "    hist_pip.Draw('colz')\n",
    "c.Draw()"
   ]
  },
  {
   "cell_type": "markdown",
   "metadata": {},
   "source": [
    "#### Momentum vs $M(KK\\pi)$ Distributions\n",
    "**$\\pi^{+}K^{-}$ in top row, $\\pi^{-}K^{+}$** in bottom row"
   ]
  },
  {
   "cell_type": "code",
   "execution_count": null,
   "metadata": {},
   "outputs": [],
   "source": [
    "c.Clear()\n",
    "c.Divide(7, 2)\n",
    "\n",
    "for i, (hist_pip2, hist_pip) in enumerate(zip(pip2_p_vs_pipkmks_hists, pip_p_vs_pimkpks_hists)):\n",
    "    c.cd(i+1)\n",
    "    hist_pip2.Draw('colz')\n",
    "    c.cd(i+8)\n",
    "    hist_pip.Draw('colz')\n",
    "c.Draw()"
   ]
  },
  {
   "cell_type": "markdown",
   "metadata": {},
   "source": [
    "#### $\\Theta$ vs $M(KK\\pi)$ Distributions\n",
    "**$\\pi^{+}K^{-}$ in top row, $\\pi^{-}K^{+}$** in bottom row"
   ]
  },
  {
   "cell_type": "code",
   "execution_count": null,
   "metadata": {},
   "outputs": [],
   "source": [
    "c.Clear()\n",
    "c.Divide(7, 2)\n",
    "\n",
    "for i, (hist_pip2, hist_pip) in enumerate(zip(pip2_theta_vs_pipkmks_hists, pip_theta_vs_pimkpks_hists)):\n",
    "    c.cd(i+1)\n",
    "    hist_pip2.Draw('colz')\n",
    "    c.cd(i+8)\n",
    "    hist_pip.Draw('colz')\n",
    "c.Draw()"
   ]
  }
 ],
 "metadata": {
  "kernelspec": {
   "display_name": "Python 3",
   "language": "python",
   "name": "python3"
  },
  "language_info": {
   "codemirror_mode": {
    "name": "ipython",
    "version": 3
   },
   "file_extension": ".py",
   "mimetype": "text/x-python",
   "name": "python",
   "nbconvert_exporter": "python",
   "pygments_lexer": "ipython3",
   "version": "3.6.8"
  }
 },
 "nbformat": 4,
 "nbformat_minor": 2
}
