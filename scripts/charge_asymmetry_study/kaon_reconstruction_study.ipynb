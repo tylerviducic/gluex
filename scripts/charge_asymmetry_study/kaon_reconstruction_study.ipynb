{
 "cells": [
  {
   "cell_type": "code",
   "execution_count": 1,
   "metadata": {},
   "outputs": [
    {
     "name": "stdout",
     "output_type": "stream",
     "text": [
      "Welcome to JupyROOT 6.24/04\n"
     ]
    }
   ],
   "source": [
    "import ROOT"
   ]
  },
  {
   "cell_type": "code",
   "execution_count": 2,
   "metadata": {},
   "outputs": [],
   "source": [
    "def explore_directory(directory, depth=0):\n",
    "    indent = \" - \" * depth\n",
    "    print(f\"{indent}Directory: {directory.GetName()}\")\n",
    "    \n",
    "    keys = directory.GetListOfKeys()\n",
    "    for key in keys:\n",
    "        obj = key.ReadObj()\n",
    "        if isinstance(obj, ROOT.TDirectory):\n",
    "            explore_directory(obj, depth + 1)\n",
    "        else:\n",
    "            print(f\"{indent}  {obj.GetName()}\")"
   ]
  },
  {
   "cell_type": "code",
   "execution_count": 3,
   "metadata": {},
   "outputs": [],
   "source": [
    "monitoring_recon_filepath_pipkmks = '/w/halld-scshelf2101/home/viducic/data/acceptance_study/pipkmks_s18_042050_042059_monitoring.root'\n",
    "monitoring_recon_filepath_pimkpks = '/w/halld-scshelf2101/home/viducic/data/acceptance_study/pimkpks_s18_042050_042059_monitoring.root'\n",
    "\n",
    "pipkmks_file = ROOT.TFile(monitoring_recon_filepath_pipkmks, 'READ')\n",
    "pimkpks_file = ROOT.TFile(monitoring_recon_filepath_pimkpks, 'READ')"
   ]
  },
  {
   "cell_type": "code",
   "execution_count": 4,
   "metadata": {},
   "outputs": [],
   "source": [
    "independent_dir = pipkmks_file.Get('Independent')\n",
    "tree_dir = pipkmks_file.Get('pipkmks__ks_pippim__B4_M16')"
   ]
  },
  {
   "cell_type": "code",
   "execution_count": 5,
   "metadata": {},
   "outputs": [],
   "source": [
    "# explore_directory(independent_dir)"
   ]
  },
  {
   "cell_type": "code",
   "execution_count": 6,
   "metadata": {},
   "outputs": [],
   "source": [
    "# explore_directory(tree_dir)"
   ]
  },
  {
   "cell_type": "markdown",
   "metadata": {},
   "source": [
    "### Directories to check:\n",
    "#### Independent\n",
    "- Hist_DetectorMatchParams\n",
    "    - ReconstructedPID\n",
    "        - K-/K+\n",
    "    - TruePID\n",
    "        - K-/K+\n",
    "- Hist_DetectorPID\n",
    "    - BCAL \n",
    "        - DeltaBetaVsP_K-\n",
    "        - DeltaTVsP_K-\n",
    "    - FCAL\n",
    "        - DeltaBetaVsP_K-\n",
    "        - DeltaTVsP_K-\n",
    "    - CCAL\n",
    "        - DeltaBetaVsP_K-\n",
    "        - DeltaTVsP_K-\n",
    "    - SC\n",
    "        - DeltadEdXVsP_K-\n",
    "        - DeltaBetaVsP_K-\n",
    "        - DeltaTVsP_K-\n",
    "    - TOF \n",
    "        - DeltadEdXVsP_K-\n",
    "        - DeltaBetaVsP_K-\n",
    "        - DeltaTVsP_K-\n",
    "    - CDC\n",
    "        - DeltadEdXVsP_Int_K-\n",
    "        - DeltadEdXVsP_Amp_K-\n",
    "    - FDC \n",
    "        - DeltadEdXVsP_K-\n",
    "    - DIRC\n",
    "        - NumPhotons_K-\n",
    "        - ThetaCVsP_K-\n",
    "        - Ldiff_kpiVsP_K-\n",
    "        - Ldiff_pkVsP_K-\n",
    "- Hist_DetectedParticleKinematics\n",
    "    - K- \n",
    "- Hist_ThrownParticleKinematics\n",
    "    - K-\n",
    "- Hist_ReconnedThrownKinematics\n",
    "    - K-\n",
    "- Hist_GenReconTrackComparison\n",
    "    - K-\n",
    "        - Pulls\n",
    "    - < other hists here >\n",
    "- Combo_Construction\n",
    "    - Missing_Mass\n",
    "        - MissingMassVsBeamEnergy_K\n",
    "    - PID \n",
    "        - K- \n",
    "\n",
    "#### pipkmks__ks_pippim__B4_M16\n",
    "- Hist_KinFitResults\n",
    "    - Step0__Photon_Proton__Pi+_K-_KShort_Proton\n",
    "        - K- \n",
    "- Hist_PID\n",
    "    - K- \n",
    "        - SC\n",
    "        - TOF\n",
    "        - BCAL\n",
    "        - FCAL\n",
    "        - CCAL\n",
    "        - CDC\n",
    "        - FDC\n",
    "        - DIRC\n",
    "        - Throwns\n",
    "    - < other hists >\n",
    "- Hist_ParticleComboKinematics\n",
    "    - Step0__Photon_Proton__Pi+_K-_KShort_Proton\n",
    "        - K- \n",
    "\n",
    "\n",
    "\n",
    "\n"
   ]
  },
  {
   "cell_type": "code",
   "execution_count": null,
   "metadata": {},
   "outputs": [],
   "source": [
    "# TODO: write out all the paths (awful code i know) and and then get all the histograms. add them to a list. "
   ]
  }
 ],
 "metadata": {
  "kernelspec": {
   "display_name": "Python 3",
   "language": "python",
   "name": "python3"
  },
  "language_info": {
   "codemirror_mode": {
    "name": "ipython",
    "version": 3
   },
   "file_extension": ".py",
   "mimetype": "text/x-python",
   "name": "python",
   "nbconvert_exporter": "python",
   "pygments_lexer": "ipython3",
   "version": "3.6.8"
  }
 },
 "nbformat": 4,
 "nbformat_minor": 2
}
