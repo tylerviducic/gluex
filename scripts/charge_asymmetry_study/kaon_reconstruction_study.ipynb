{
 "cells": [
  {
   "cell_type": "code",
   "execution_count": 6,
   "metadata": {},
   "outputs": [],
   "source": [
    "import ROOT"
   ]
  },
  {
   "cell_type": "code",
   "execution_count": 8,
   "metadata": {},
   "outputs": [
    {
     "name": "stdout",
     "output_type": "stream",
     "text": [
      "Name: Independent Title: Independent\n",
      "Name: pipkmks__ks_pippim__B4_M16 Title: pipkmks__ks_pippim__B4_M16\n",
      "Name: Independent Title: Independent\n",
      "Name: pimkpks__ks_pippim__B4_M16 Title: pimkpks__ks_pippim__B4_M16\n"
     ]
    }
   ],
   "source": [
    "def explore_directory(directory, depth=0):\n",
    "    indent = \"  \" * depth\n",
    "    print(f\"{indent}Directory: {directory.GetName()}\")\n",
    "    \n",
    "    keys = directory.GetListOfKeys()\n",
    "    for key in keys:\n",
    "        obj = key.ReadObj()\n",
    "        if isinstance(obj, ROOT.TDirectory):\n",
    "            explore_directory(obj, depth + 1)\n",
    "        else:\n",
    "            print(f\"{indent}  {obj.GetName()}\")\n",
    "\n",
    "for key in pipkmks_file.GetListOfKeys():\n",
    "    obj = key.ReadObj()\n",
    "    if isinstance(obj, ROOT.TDirectory):\n",
    "        print(key)\n",
    "\n",
    "for key in pimkpks_file.GetListOfKeys():\n",
    "    obj = key.ReadObj()\n",
    "    if isinstance(obj, ROOT.TDirectory):\n",
    "        print(key)"
   ]
  },
  {
   "cell_type": "code",
   "execution_count": 7,
   "metadata": {},
   "outputs": [],
   "source": [
    "monitoring_recon_filepath_pipkmks = '/w/halld-scshelf2101/home/viducic/data/acceptance_study/pipkmks_s18_042050_042059_monitoring.root'\n",
    "monitoring_recon_filepath_pimkpks = '/w/halld-scshelf2101/home/viducic/data/acceptance_study/pimkpks_s18_042050_042059_monitoring.root'\n",
    "\n",
    "pipkmks_file = ROOT.TFile(monitoring_recon_filepath_pipkmks, 'READ')\n",
    "pimkpks_file = ROOT.TFile(monitoring_recon_filepath_pimkpks, 'READ')"
   ]
  }
 ],
 "metadata": {
  "kernelspec": {
   "display_name": "Python 3",
   "language": "python",
   "name": "python3"
  },
  "language_info": {
   "codemirror_mode": {
    "name": "ipython",
    "version": 3
   },
   "file_extension": ".py",
   "mimetype": "text/x-python",
   "name": "python",
   "nbconvert_exporter": "python",
   "pygments_lexer": "ipython3",
   "version": "3.6.8"
  }
 },
 "nbformat": 4,
 "nbformat_minor": 2
}
