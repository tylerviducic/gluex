{
 "cells": [
  {
   "cell_type": "code",
   "execution_count": 1,
   "metadata": {},
   "outputs": [
    {
     "name": "stdout",
     "output_type": "stream",
     "text": [
      "Welcome to JupyROOT 6.24/04\n"
     ]
    }
   ],
   "source": [
    "import ROOT\n",
    "import my_library.common_analysis_tools as tools\n",
    "import my_library.constants as constants\n",
    "import my_library.kinematic_cuts as cuts\n"
   ]
  },
  {
   "cell_type": "code",
   "execution_count": 9,
   "metadata": {},
   "outputs": [],
   "source": [
    "ROOT.gStyle.SetOptStat(0)"
   ]
  },
  {
   "cell_type": "code",
   "execution_count": 10,
   "metadata": {},
   "outputs": [],
   "source": [
    "run_period = 'spring'\n",
    "\n",
    "df_pipkmks_data = tools.get_dataframe('pipkmks', run_period, 'data').Filter(cuts.KSTAR_ALL_CUT_PIPKMKS).Define('chi2ndf', 'kin_chisq/kin_ndf')\n",
    "df_pimkpks_data = tools.get_dataframe('pimkpks', run_period, 'data').Filter(cuts.KSTAR_ALL_CUT_PIMKPKS).Define('chi2ndf', 'kin_chisq/kin_ndf')\n",
    "df_pipkmks_signal = tools.get_dataframe('pipkmks', run_period, 'signal').Filter(cuts.KSTAR_ALL_CUT_PIPKMKS).Define('chi2ndf', 'kin_chisq/kin_ndf')\n",
    "df_pimkpks_signal = tools.get_dataframe('pimkpks', run_period, 'signal').Filter(cuts.KSTAR_ALL_CUT_PIMKPKS).Define('chi2ndf', 'kin_chisq/kin_ndf')\n"
   ]
  },
  {
   "cell_type": "code",
   "execution_count": 11,
   "metadata": {},
   "outputs": [],
   "source": [
    "hist_data_pipkmks_x2ndf = df_pipkmks_data.Histo1D(('pipkmks_data_chi2ndf', '#pi^{+}K^{-}K_{S}^{0} data #chi^{2}/ndf', 200, 0, 20), 'chi2ndf')\n",
    "hist_data_pimkpks_x2ndf = df_pimkpks_data.Histo1D(('pimkpks_data_chi2ndf', '#pi^{-}K^{+}K_{S}^{0} data #chi^{2}/ndf', 200, 0, 20), 'chi2ndf')\n",
    "hist_signal_pipkmks_x2ndf = df_pipkmks_signal.Histo1D(('pipkmks_data_chi2ndf', '#pi^{+}K^{-}K_{S}^{0} signal MC #chi^{2}/ndf', 200, 0, 20), 'chi2ndf')\n",
    "hist_signal_pimkpks_x2ndf = df_pimkpks_signal.Histo1D(('pimkpks_data_chi2ndf', '#pi^{-}K^{+}K_{S}^{0} signal MC #chi^{2}/ndf', 200, 0, 20), 'chi2ndf')"
   ]
  },
  {
   "cell_type": "code",
   "execution_count": 12,
   "metadata": {},
   "outputs": [],
   "source": [
    "hist_data_pipkmks_x2ndf.SetLineColor(ROOT.TColor.GetColor(constants.COLORBLIND_HEX_DICT['blue']))\n",
    "hist_data_pimkpks_x2ndf.SetLineColor(ROOT.TColor.GetColor(constants.COLORBLIND_HEX_DICT['red']))\n",
    "hist_signal_pipkmks_x2ndf.SetLineColor(ROOT.TColor.GetColor(constants.COLORBLIND_HEX_DICT['purple']))\n",
    "hist_signal_pimkpks_x2ndf.SetLineColor(ROOT.TColor.GetColor(constants.COLORBLIND_HEX_DICT['orange']))"
   ]
  },
  {
   "cell_type": "code",
   "execution_count": 13,
   "metadata": {},
   "outputs": [],
   "source": [
    "hist_data_pipkmks_x2ndf.Scale(1/hist_data_pipkmks_x2ndf.Integral())\n",
    "hist_data_pimkpks_x2ndf.Scale(1/hist_data_pimkpks_x2ndf.Integral())\n",
    "hist_signal_pipkmks_x2ndf.Scale(1/hist_signal_pipkmks_x2ndf.Integral())\n",
    "hist_signal_pimkpks_x2ndf.Scale(1/hist_signal_pimkpks_x2ndf.Integral())"
   ]
  },
  {
   "cell_type": "code",
   "execution_count": 23,
   "metadata": {},
   "outputs": [
    {
     "data": {
      "text/plain": [
       "<cppyy.gbl.TLegendEntry object at 0xe690d20>"
      ]
     },
     "execution_count": 23,
     "metadata": {},
     "output_type": "execute_result"
    }
   ],
   "source": [
    "legend = ROOT.TLegend(0.2, 0.5, 0.5, 0.8)\n",
    "legend.AddEntry(hist_data_pipkmks_x2ndf.GetPtr(), '#pi^{+}K^{-}K_{S}^{0} data', 'l')\n",
    "legend.AddEntry(hist_data_pimkpks_x2ndf.GetPtr(), '#pi^{-}K^{+}K_{S}^{0} data', 'l')\n",
    "legend.AddEntry(hist_signal_pipkmks_x2ndf.GetPtr(), '#pi^{+}K^{-}K_{S}^{0} signal MC', 'l')\n",
    "legend.AddEntry(hist_signal_pimkpks_x2ndf.GetPtr(), '#pi^{-}K^{+}K_{S}^{0} signal MC', 'l')"
   ]
  },
  {
   "cell_type": "code",
   "execution_count": 24,
   "metadata": {},
   "outputs": [
    {
     "name": "stderr",
     "output_type": "stream",
     "text": [
      "Warning in <TCanvas::Constructor>: Deleting canvas with same name: c\n"
     ]
    },
    {
     "data": {
      "image/png": "[encoded data removed]",
      "text/plain": [
       "<IPython.core.display.Image object>"
      ]
     },
     "metadata": {},
     "output_type": "display_data"
    }
   ],
   "source": [
    "c = ROOT.TCanvas('c', 'c', 800, 600)\n",
    "hist_signal_pimkpks_x2ndf.Draw('hist')\n",
    "hist_data_pipkmks_x2ndf.Draw('same hist')\n",
    "hist_data_pimkpks_x2ndf.Draw('same hist')\n",
    "hist_signal_pipkmks_x2ndf.Draw('same hist')\n",
    "legend.Draw()\n",
    "c.Draw()"
   ]
  }
 ],
 "metadata": {
  "kernelspec": {
   "display_name": "Python 3",
   "language": "python",
   "name": "python3"
  },
  "language_info": {
   "codemirror_mode": {
    "name": "ipython",
    "version": 3
   },
   "file_extension": ".py",
   "mimetype": "text/x-python",
   "name": "python",
   "nbconvert_exporter": "python",
   "pygments_lexer": "ipython3",
   "version": "3.6.8"
  },
  "orig_nbformat": 4
 },
 "nbformat": 4,
 "nbformat_minor": 2
}
