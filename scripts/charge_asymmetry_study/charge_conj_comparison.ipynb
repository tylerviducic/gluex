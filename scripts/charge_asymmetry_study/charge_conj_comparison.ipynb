{
 "cells": [
  {
   "cell_type": "markdown",
   "metadata": {},
   "source": [
    "# Charge Conjugation Exploration\n",
    "#### The next 3 cells are imports and functions the code will need. Skip this."
   ]
  },
  {
   "cell_type": "code",
   "execution_count": null,
   "metadata": {},
   "outputs": [],
   "source": [
    "import my_library.common_analysis_tools as ct\n",
    "import my_library.constants as constants\n",
    "import my_library.kinematic_cuts as kcuts\n",
    "import ROOT\n"
   ]
  },
  {
   "cell_type": "code",
   "execution_count": null,
   "metadata": {},
   "outputs": [],
   "source": [
    "ROOT.EnableImplicitMT()\n",
    "ROOT.gStyle.SetOptStat(0)"
   ]
  },
  {
   "cell_type": "code",
   "execution_count": null,
   "metadata": {},
   "outputs": [],
   "source": [
    "def make_kkpi_histos(df_pipkmks, df_pimkpks, filter, nbins_kkpi=40, xmin_kkpi=1.2, xmax_kkpi=1.4):\n",
    "    hist_pipkmks = df_pipkmks.Histo1D((f'pipkmks_{filter}', f'pipkmks_{filter}', nbins_kkpi, xmin_kkpi, xmax_kkpi), 'pipkmks_m')\n",
    "    hist_pimkpks = df_pimkpks.Histo1D((f'pimkpks_{filter}', f'pimkpks_{filter}', nbins_kkpi, xmin_kkpi, xmax_kkpi), 'pimkpks_m')\n",
    "    hist_pipkmks.SetLineColor(ROOT.TColor.GetColor(constants.COLORBLIND_HEX_DICT['blue']))\n",
    "    hist_pimkpks.SetLineColor(ROOT.TColor.GetColor(constants.COLORBLIND_HEX_DICT['red']))\n",
    "    hist_pipkmks.SetTitle(f'M(KK#pi) for {filter}')\n",
    "    hist_pipkmks.GetXaxis().SetTitle('M(KK#pi) [GeV]')\n",
    "    hist_pipkmks.GetYaxis().SetTitle('Counts/10MeV')\n",
    "    hist_pimkpks.SetTitle(f'M(KK#pi) for {filter} ')\n",
    "    hist_pimkpks.GetXaxis().SetTitle('M(KK#pi) [GeV]')\n",
    "    return hist_pipkmks.GetValue(), hist_pimkpks.GetValue()\n",
    "\n",
    "\n",
    "def make_2d_kkpi_histos(df_pipkmks, df_pimkpks, quantity, nbins_quantity, xmin_quantity, xmax_quantity, nbins_kkpi=40, xmin_kkpi=1.2, xmax_kkpi=1.4):\n",
    "    quantity_dict = {\n",
    "        'mx2_all': ('mx2_ppipkmks', 'mx2_ppimkpks', 'MX^{2}(pKK#pi) [GeV^{2}]'),\n",
    "        'ks_pl': ('pathlength_sig', 'pathlength_sig', 'K_{s} pathlength [cm]'),\n",
    "        'ks_m_cut': ('ks_m', 'ks_m', 'K_{s} mass [GeV]'),\n",
    "        'pp': ('p_p', 'p_p', 'P(p) [GeV]'),\n",
    "        'ppi': ('ppip_m', 'ppim_m', 'M(p#pi) [GeV]'),\n",
    "        'kp': ('kmp_m', 'ksp_m', 'M(pK) [GeV]'),\n",
    "        'kp_mirror': ('ksp_m', 'kpp_m', 'M(pK) [GeV]'),\n",
    "        'kstar_charged': ('kspip_m', 'kspim_m', 'M(K^{* #pm}) [GeV]'),\n",
    "        'kstar_neutral': ('kmpip_m', 'kppim_m', 'M(K^{* 0}) [GeV]')\n",
    "    }\n",
    "    hist_pipkmks_2d = df_pipkmks.Histo2D((f'pipkmks_{quantity}', f'pipkmks_{quantity}', nbins_kkpi, xmin_kkpi, xmax_kkpi, nbins_quantity, xmin_quantity, xmax_quantity), 'pipkmks_m', quantity_dict[quantity][0])\n",
    "    hist_pimkpks_2d = df_pimkpks.Histo2D((f'pimkpks_{quantity}', f'pimkpks_{quantity}', nbins_kkpi, xmin_kkpi, xmax_kkpi, nbins_quantity, xmin_quantity, xmax_quantity), 'pimkpks_m', quantity_dict[quantity][1])\n",
    "    hist_pipkmks_2d.SetTitle(f'{quantity_dict[quantity][2]}' + ' vs M(#pi^{+}K^{-}K_{s})')\n",
    "    hist_pipkmks_2d.GetXaxis().SetTitle('M(#pi^{+}K^{-}K_{s}) [GeV]')\n",
    "    hist_pipkmks_2d.GetYaxis().SetTitle(quantity_dict[quantity][2])\n",
    "    hist_pimkpks_2d.SetTitle(f'{quantity_dict[quantity][2]}' + ' vs M(#pi^{-}K^{+}K_{s})')\n",
    "    hist_pimkpks_2d.GetXaxis().SetTitle('M(#pi^{-}K^{+}K_{s}) [GeV]')\n",
    "    hist_pimkpks_2d.GetYaxis().SetTitle(quantity_dict[quantity][2])\n",
    "    return hist_pipkmks_2d.GetValue(), hist_pimkpks_2d.GetValue()\n",
    "\n",
    "\n",
    "\n",
    "def build_legend(hist_pipkmks, hist_pimkpks):\n",
    "    leg = ROOT.TLegend(0.8, 0.8, 0.9, 0.9)\n",
    "    leg.AddEntry(hist_pipkmks, 'K^{-}K_{s}#pi^{+}', 'l')\n",
    "    leg.AddEntry(hist_pimkpks, 'K^{+}K_{s}#pi^{-}', 'l')\n",
    "    return leg"
   ]
  },
  {
   "cell_type": "markdown",
   "metadata": {},
   "source": [
    "## The Cell below sets up the directory the files will be saved in, what type of data will be plotted, and which run period it will run over\n",
    "\n",
    "#### Data types are \"signal\" and \"data\" for signal MC and real data\n",
    "#### run periods are \"spring\", \"fall\", and \"2017\"\n"
   ]
  },
  {
   "cell_type": "code",
   "execution_count": null,
   "metadata": {},
   "outputs": [],
   "source": [
    "plot_path = '/work/halld/home/viducic/plots/acceptance_study'\n",
    "data_type = 'data'\n",
    "run_period = 'spring'"
   ]
  },
  {
   "cell_type": "code",
   "execution_count": null,
   "metadata": {},
   "outputs": [],
   "source": [
    "df_pipkmks = ct.get_dataframe('pipkmks', run_period, data_type, filtered=False)\n",
    "df_pimkpks = ct.get_dataframe('pimkpks', run_period, data_type, filtered=False)\n",
    "c = ROOT.TCanvas(\"c\", \"c\", 1000, 1000)\n",
    "c1 = ROOT.TCanvas(\"c1\", \"c1\", 1000, 1000)\n",
    "c1.Divide(2, 1)"
   ]
  },
  {
   "cell_type": "code",
   "execution_count": null,
   "metadata": {},
   "outputs": [],
   "source": [
    "n_flattened_pipkmks = df_pipkmks.Count().GetValue()\n",
    "n_flattened_pimkpks = df_pimkpks.Count().GetValue()\n",
    "print(f\"N(flat) for {run_period} pi+K-: {n_flattened_pipkmks}\")\n",
    "print(f\"N(flat) for {run_period} pi-K+: {n_flattened_pimkpks}\")"
   ]
  },
  {
   "cell_type": "markdown",
   "metadata": {},
   "source": [
    "### All plots will be in the region of $1.1 < M(KK\\pi) < 1.5 GeV$"
   ]
  },
  {
   "cell_type": "code",
   "execution_count": null,
   "metadata": {},
   "outputs": [],
   "source": [
    "df_pipkmks = df_pipkmks.Filter('pipkmks_m >= 1.24 && pipkmks_m <= 1.35')\n",
    "df_pimkpks = df_pimkpks.Filter('pimkpks_m >= 1.24 && pimkpks_m <= 1.35')"
   ]
  },
  {
   "cell_type": "code",
   "execution_count": null,
   "metadata": {},
   "outputs": [],
   "source": [
    "n_uncut_pipkmks = df_pipkmks.Count().GetValue()\n",
    "n_uncut_pimkpks = df_pimkpks.Count().GetValue()\n",
    "hist_pipkmks_uncut, hist_pimkpks_uncut = make_kkpi_histos(df_pipkmks, df_pimkpks, 'uncut')"
   ]
  },
  {
   "cell_type": "code",
   "execution_count": null,
   "metadata": {},
   "outputs": [],
   "source": [
    "hist_pipkmks_vs_mx2all, hist_pimkpks_vs_mx2all = make_2d_kkpi_histos(df_pipkmks, df_pimkpks, 'mx2_all', 100, -0.05, 0.05)"
   ]
  },
  {
   "cell_type": "code",
   "execution_count": null,
   "metadata": {},
   "outputs": [],
   "source": [
    "# df_pipkmks = df_pipkmks.Filter(kcuts.MX2_PPIPKMKS_CUT)\n",
    "df_pipkmks = df_pipkmks.Filter('abs(mx2_ppipkmks) < 0.002')\n",
    "# df_pimkpks = df_pimkpks.Filter(kcuts.MX2_PPIMKPKS_CUT)\n",
    "df_pimkpks = df_pimkpks.Filter('abs(mx2_ppimkpks) < 0.002')\n",
    "n_mx2all_pipkmks = df_pipkmks.Count()\n",
    "n_mx2all_pimkpks = df_pimkpks.Count()\n",
    "hist_pipkmks_mx2all, hist_pimkpks_mx2all = make_kkpi_histos(df_pipkmks, df_pimkpks, 'mx2all')"
   ]
  },
  {
   "cell_type": "code",
   "execution_count": null,
   "metadata": {},
   "outputs": [],
   "source": [
    "hist_pipkmks_vs_kspl, hist_pimkpks_vs_kspl = make_2d_kkpi_histos(df_pipkmks, df_pimkpks, 'ks_pl', 100, 0, 10)"
   ]
  },
  {
   "cell_type": "code",
   "execution_count": null,
   "metadata": {},
   "outputs": [],
   "source": [
    "df_pipkmks = df_pipkmks.Filter(kcuts.KS_PATHLENGTH_CUT)\n",
    "df_pimkpks = df_pimkpks.Filter(kcuts.KS_PATHLENGTH_CUT)\n",
    "n_kspl_pipkmks = df_pipkmks.Count()\n",
    "n_kspl_pimkpks = df_pimkpks.Count()\n",
    "hist_pipkmks_kspl, hist_pimkpks_kspl = make_kkpi_histos(df_pipkmks, df_pimkpks, 'kspl')\n",
    "\n"
   ]
  },
  {
   "cell_type": "code",
   "execution_count": null,
   "metadata": {},
   "outputs": [],
   "source": [
    "hist_pipkmks_vs_ksm, hist_pimkpks_vs_ksm = make_2d_kkpi_histos(df_pipkmks, df_pimkpks, 'ks_m_cut', 100, 0.3, 0.7)"
   ]
  },
  {
   "cell_type": "code",
   "execution_count": null,
   "metadata": {},
   "outputs": [],
   "source": [
    "df_pipkmks = df_pipkmks.Filter(kcuts.KS_MASS_CUT)\n",
    "df_pimkpks = df_pimkpks.Filter(kcuts.KS_MASS_CUT)\n",
    "n_ksm_pipkmks = df_pipkmks.Count().GetValue()\n",
    "n_ksm_pimkpks = df_pimkpks.Count().GetValue()\n",
    "hist_pipkmks_ksm, hist_pimkpks_ksm = make_kkpi_histos(df_pipkmks, df_pimkpks, 'ks_m_cut')"
   ]
  },
  {
   "cell_type": "code",
   "execution_count": null,
   "metadata": {},
   "outputs": [],
   "source": [
    "hist_pipkmks_vs_pp, hist_pimkpks_vs_pp = make_2d_kkpi_histos(df_pipkmks, df_pimkpks, 'pp', 200, 0.2, 2)"
   ]
  },
  {
   "cell_type": "code",
   "execution_count": null,
   "metadata": {},
   "outputs": [],
   "source": [
    "df_pipkmks = df_pipkmks.Filter(kcuts.P_P_CUT)\n",
    "df_pimkpks = df_pimkpks.Filter(kcuts.P_P_CUT)\n",
    "n_pp_pipkmks = df_pipkmks.Count()\n",
    "n_pp_pimkpks = df_pimkpks.Count()\n",
    "hist_pipkmks_pp, hist_pimkpks_pp = make_kkpi_histos(df_pipkmks, df_pimkpks, 'pp')"
   ]
  },
  {
   "cell_type": "code",
   "execution_count": null,
   "metadata": {},
   "outputs": [],
   "source": [
    "hist_pipkmks_vs_ppi, hist_pimkpks_vs_ppi = make_2d_kkpi_histos(df_pipkmks, df_pimkpks, 'ppi', 200, 1.0, 3, xmin_kkpi=1.24, xmax_kkpi=1.35, nbins_kkpi=20)"
   ]
  },
  {
   "cell_type": "code",
   "execution_count": null,
   "metadata": {},
   "outputs": [],
   "source": [
    "df_pipkmks = df_pipkmks.Filter(kcuts.PPIP_MASS_CUT)\n",
    "df_pimkpks = df_pimkpks.Filter(kcuts.PPIM_MASS_CUT)\n",
    "n_ppi_pipkmks = df_pipkmks.Count().GetValue()\n",
    "n_ppi_pimkpks = df_pimkpks.Count().GetValue()\n",
    "hist_pipkmks_ppi, hist_pimkpks_ppi = make_kkpi_histos(df_pipkmks, df_pimkpks, 'ppi')"
   ]
  },
  {
   "cell_type": "code",
   "execution_count": null,
   "metadata": {},
   "outputs": [],
   "source": [
    "hist_pipkmks_vs_kp, hist_pimkpks_vs_kp = make_2d_kkpi_histos(df_pipkmks, df_pimkpks, 'kp', 200, 1.5, 3.5, xmin_kkpi=1.24, xmax_kkpi=1.35, nbins_kkpi=20)"
   ]
  },
  {
   "cell_type": "code",
   "execution_count": null,
   "metadata": {},
   "outputs": [],
   "source": [
    "df_pipkmks = df_pipkmks.Filter(kcuts.KMP_MASS_CUT)\n",
    "df_pimkpks = df_pimkpks.Filter(kcuts.KSP_MASS_CUT)\n",
    "n_kmp_pipkmks = df_pipkmks.Count()\n",
    "n_ksp_pimkpks = df_pimkpks.Count()\n",
    "hist_pipkmks_kp, hist_pimkpks_kp = make_kkpi_histos(df_pipkmks, df_pimkpks, 'kp')\n",
    "hist_pipkmks_vs_kp_mirror, hist_pimkpks_vs_kp_mirror = make_2d_kkpi_histos(df_pipkmks, df_pimkpks, 'kp_mirror', 200, 1.5, 3.5, xmin_kkpi=1.24, xmax_kkpi=1.35, nbins_kkpi=20)"
   ]
  },
  {
   "cell_type": "code",
   "execution_count": null,
   "metadata": {},
   "outputs": [],
   "source": [
    "hist_pipkmks_vs_kstar_charged, hist_pimkpks_vs_kstar_charged = make_2d_kkpi_histos(df_pipkmks, df_pimkpks, 'kstar_charged', 100, 0.6, 1.2)\n",
    "hist_pipkmks_vs_kstar_neutral, hist_pimkpks_vs_kstar_neutral = make_2d_kkpi_histos(df_pipkmks, df_pimkpks, 'kstar_neutral', 100, 0.6, 1.2)"
   ]
  },
  {
   "cell_type": "code",
   "execution_count": null,
   "metadata": {},
   "outputs": [],
   "source": [
    "df_pipkmks = df_pipkmks.Filter(kcuts.KSTAR_ALL_CUT_PIPKMKS)\n",
    "df_pimkpks = df_pimkpks.Filter(kcuts.KSTAR_ALL_CUT_PIMKPKS)\n",
    "n_kstar_pipkmks = df_pipkmks.Count()\n",
    "n_kstar_pimkpks = df_pimkpks.Count()\n",
    "hist_pipkmks_kstar, hist_pimkpks_kstar = make_kkpi_histos(df_pipkmks, df_pimkpks, 'kstar')"
   ]
  },
  {
   "cell_type": "code",
   "execution_count": null,
   "metadata": {},
   "outputs": [],
   "source": [
    "print(f'uncut pipkmks: {n_uncut_pipkmks} || uncut pimkpks: {n_uncut_pimkpks}')\n",
    "c.cd()\n",
    "hist_pipkmks_uncut.Draw()\n",
    "hist_pimkpks_uncut.Draw('same')\n",
    "legend = build_legend(hist_pipkmks_uncut, hist_pimkpks_uncut)\n",
    "legend.Draw()\n",
    "c.Draw()\n",
    "c.SaveAs(f'{plot_path}/{data_type}_{run_period}_kkpi_uncut.png')\n"
   ]
  },
  {
   "cell_type": "markdown",
   "metadata": {},
   "source": [
    "## $MX^2(pKK\\pi)$ Selection\n",
    "#### Cut is $|MX^2(pKK\\pi)| < 0.01 GeV$"
   ]
  },
  {
   "cell_type": "code",
   "execution_count": null,
   "metadata": {},
   "outputs": [],
   "source": [
    "print(f'mx2 all cut pipkmks: {n_mx2all_pipkmks} || pimkpks: {n_mx2all_pimkpks}')\n",
    "print(f'mx2 all efficiency pipkmks: {n_mx2all_pipkmks/n_uncut_pipkmks} || pimkpks: {n_mx2all_pimkpks/n_uncut_pimkpks}')\n",
    "c.cd()\n",
    "hist_pimkpks_mx2all.Draw()\n",
    "hist_pipkmks_mx2all.Draw('same')\n",
    "legend.Draw()\n",
    "c.Draw()\n",
    "c.SaveAs(f'{plot_path}/{data_type}_{run_period}_kkpi_mx2all.png')\n",
    "c1.cd(1)\n",
    "hist_pipkmks_vs_mx2all.Draw('colz')\n",
    "c1.cd(2)\n",
    "hist_pimkpks_vs_mx2all.Draw('colz')\n",
    "c1.Draw()\n"
   ]
  },
  {
   "cell_type": "markdown",
   "metadata": {},
   "source": [
    "## $K_s \\textrm{ Pathlength Signifigance}$ Selection\n",
    "#### Cut: $K_s(PL) > 5$"
   ]
  },
  {
   "cell_type": "code",
   "execution_count": null,
   "metadata": {},
   "outputs": [],
   "source": [
    "print(f'palthlength filtered pipkmks: {n_kspl_pipkmks} || pathlength filtered pimkpks: {n_kspl_pimkpks}')\n",
    "print(f'cut efficiency pipkmks = {n_kspl_pipkmks/n_mx2all_pipkmks} || cut efficiency pimkpks = {n_kspl_pimkpks/n_mx2all_pimkpks}')\n",
    "c.cd()\n",
    "hist_pimkpks_kspl.Draw()\n",
    "hist_pipkmks_kspl.Draw('same')\n",
    "legend.Draw()\n",
    "c.Draw()\n",
    "c.SaveAs(f'{plot_path}/{data_type}_{run_period}_kkpi_kspl.png')\n",
    "c1.cd(1)\n",
    "hist_pipkmks_vs_kspl.Draw('colz')\n",
    "c1.cd(2)\n",
    "hist_pimkpks_vs_kspl.Draw('colz')\n",
    "c1.Draw()\n"
   ]
  },
  {
   "cell_type": "markdown",
   "metadata": {},
   "source": [
    "## $M(K_s)$ Selection\n",
    "### Cut $|M(\\pi^+\\pi^-) - 0.4971| < 0.0207$ \n",
    "2 sigma around the mean of the fit ks distribution"
   ]
  },
  {
   "cell_type": "code",
   "execution_count": null,
   "metadata": {},
   "outputs": [],
   "source": [
    "print(f'kshort mass cut pipkmks: {n_ksm_pipkmks} || kshort mass cut pimkpks: {n_ksm_pimkpks}')\n",
    "print(f'kshort mass cut efficiency pipkmks: {n_ksm_pipkmks / n_kspl_pipkmks} || pimkpks {n_ksm_pimkpks / n_kspl_pimkpks}')\n",
    "c.cd()\n",
    "hist_pimkpks_ksm.Draw()\n",
    "hist_pipkmks_ksm.Draw('same')\n",
    "legend.Draw()\n",
    "c.Draw()\n",
    "c.SaveAs(f'{plot_path}/{data_type}_{run_period}_kkpi_ksmass.png')\n",
    "c1.cd(1)\n",
    "hist_pipkmks_vs_ksm.Draw('colz')\n",
    "c1.cd(2)\n",
    "hist_pimkpks_vs_ksm.Draw('colz')\n",
    "c1.Draw()"
   ]
  },
  {
   "cell_type": "markdown",
   "metadata": {},
   "source": [
    "## Proton Momentum Selection\n",
    "#### $\\vec{P}(p) > 0.4$ GeV"
   ]
  },
  {
   "cell_type": "code",
   "execution_count": null,
   "metadata": {},
   "outputs": [],
   "source": [
    "print(f'proton momentum cut pipkmks: {n_pp_pipkmks} || pimkpks: {n_pp_pimkpks}')\n",
    "print(f'proton momentum cut efficiency pipkmks: {n_pp_pipkmks/n_ksm_pipkmks} || pimkpks: {n_pp_pimkpks/n_ksm_pimkpks}')\n",
    "c.cd()\n",
    "hist_pimkpks_pp.Draw()\n",
    "hist_pipkmks_pp.Draw('same')\n",
    "legend.Draw()\n",
    "c.Draw()\n",
    "c.SaveAs(f'{plot_path}/{data_type}_{run_period}_kkpi_pp.png')\n",
    "c1.cd(1)\n",
    "hist_pipkmks_vs_pp.Draw('colz')\n",
    "c1.cd(2)\n",
    "hist_pimkpks_vs_pp.Draw('colz')\n",
    "c1.Draw()"
   ]
  },
  {
   "cell_type": "markdown",
   "metadata": {},
   "source": [
    "## $\\Delta / N^* Rejection$\n",
    "### $M(p\\pi) > 1.4$ GeV"
   ]
  },
  {
   "cell_type": "code",
   "execution_count": null,
   "metadata": {},
   "outputs": [],
   "source": [
    "print(f'n ppi cut pipkmks: {n_ppi_pipkmks} || pimkpks: {n_ppi_pimkpks}')\n",
    "print(f'ppi cut efficicnecy pipkmks: {n_ppi_pipkmks / n_pp_pipkmks} || pimkpks: {n_ppi_pimkpks / n_pp_pimkpks}')\n",
    "c.cd()\n",
    "hist_pimkpks_ppi.Draw()\n",
    "hist_pipkmks_ppi.Draw('same')\n",
    "legend.Draw()\n",
    "c.Draw()\n",
    "c.SaveAs(f'{plot_path}/{data_type}_{run_period}_kkpi_delta_nstar.png')\n",
    "c1.cd(1)\n",
    "hist_pipkmks_vs_ppi.Draw('colz')\n",
    "c1.cd(2)\n",
    "hist_pimkpks_vs_ppi.Draw('colz')\n",
    "c1.Draw()"
   ]
  },
  {
   "cell_type": "markdown",
   "metadata": {},
   "source": [
    "## $\\Lambda$ Rejection\n",
    "### $M(Kp) > 1.9$ GeV \n",
    "This is the \"mirrored\" cut"
   ]
  },
  {
   "cell_type": "code",
   "execution_count": null,
   "metadata": {},
   "outputs": [],
   "source": [
    "print(f'n kp cut pipkmks: {n_kmp_pipkmks} || pimkpks: {n_ksp_pimkpks}')\n",
    "print(f'kp cut efficiency pipkmks: {n_kmp_pipkmks/n_ppi_pipkmks} || pimkpks: {n_ksp_pimkpks/n_ppi_pimkpks}')\n",
    "c.cd()\n",
    "hist_pimkpks_kp.Draw()\n",
    "hist_pipkmks_kp.Draw('same')\n",
    "legend.Draw()\n",
    "c.Draw()\n",
    "c.SaveAs(f'{plot_path}/{data_type}_{run_period}_kkpi_lambda.png')\n",
    "c1.cd(1)\n",
    "hist_pipkmks_vs_kp.Draw('colz')\n",
    "c1.cd(2)\n",
    "hist_pimkpks_vs_kp.Draw('colz')\n",
    "c1.Draw()"
   ]
  },
  {
   "cell_type": "code",
   "execution_count": null,
   "metadata": {},
   "outputs": [],
   "source": [
    "c1.cd(1)\n",
    "hist_pipkmks_vs_kp_mirror.Draw('colz')\n",
    "c1.cd(2)\n",
    "hist_pimkpks_vs_kp_mirror.Draw('colz')\n",
    "c1.Draw()"
   ]
  },
  {
   "cell_type": "markdown",
   "metadata": {},
   "source": [
    "## $K^*$ Rejection\n",
    "### $0.8 < M(K\\pi) < 1.0$ GeV"
   ]
  },
  {
   "cell_type": "code",
   "execution_count": null,
   "metadata": {},
   "outputs": [],
   "source": [
    "print(f'kstar cut pipkmks: {n_kstar_pipkmks} || pimkpks: {n_kstar_pimkpks}')\n",
    "print(f'kstar efficiency: {n_kstar_pipkmks/n_kmp_pipkmks} || pimkpks: {n_kstar_pimkpks/n_ksp_pimkpks}')\n",
    "c.cd()\n",
    "hist_pimkpks_kstar.Draw()\n",
    "hist_pipkmks_kstar.Draw('same')\n",
    "legend.Draw()\n",
    "c.Draw()\n",
    "c.SaveAs(f'{plot_path}/{data_type}_{run_period}_kkpi_kstar.png')\n",
    "c1.cd(1)\n",
    "hist_pipkmks_vs_kstar_charged.Draw('colz')\n",
    "c1.cd(2)\n",
    "hist_pimkpks_vs_kstar_charged.Draw('colz')\n",
    "c1.Draw()"
   ]
  },
  {
   "cell_type": "code",
   "execution_count": null,
   "metadata": {},
   "outputs": [],
   "source": [
    "c1.cd(1)\n",
    "hist_pipkmks_vs_kstar_neutral.Draw('colz')\n",
    "c1.cd(2)\n",
    "hist_pimkpks_vs_kstar_neutral.Draw('colz')\n",
    "c1.Draw()"
   ]
  },
  {
   "cell_type": "markdown",
   "metadata": {},
   "source": [
    "# Before/After"
   ]
  },
  {
   "cell_type": "code",
   "execution_count": null,
   "metadata": {},
   "outputs": [],
   "source": [
    "print(f'total efficiency pipkmks: {n_kstar_pipkmks/n_uncut_pipkmks} || pimkpks: {n_kstar_pimkpks/n_uncut_pimkpks}')\n",
    "c.cd()\n",
    "hist_pipkmks_uncut.Draw()\n",
    "hist_pimkpks_uncut.Draw('same')\n",
    "hist_pipkmks_kstar.Draw('same')\n",
    "hist_pimkpks_kstar.Draw('same')\n",
    "legend.Draw()\n",
    "c.Draw()\n",
    "c.SaveAs(f'{plot_path}/{data_type}_{run_period}_kkpi_total_eff.png')"
   ]
  }
 ],
 "metadata": {
  "kernelspec": {
   "display_name": "Python 3",
   "language": "python",
   "name": "python3"
  },
  "language_info": {
   "codemirror_mode": {
    "name": "ipython",
    "version": 3
   },
   "file_extension": ".py",
   "mimetype": "text/x-python",
   "name": "python",
   "nbconvert_exporter": "python",
   "pygments_lexer": "ipython3",
   "version": "3.6.8"
  },
  "orig_nbformat": 4
 },
 "nbformat": 4,
 "nbformat_minor": 2
}
