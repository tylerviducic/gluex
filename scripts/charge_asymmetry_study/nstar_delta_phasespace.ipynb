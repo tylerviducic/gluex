{
 "cells": [
  {
   "cell_type": "code",
   "execution_count": 1,
   "metadata": {},
   "outputs": [
    {
     "name": "stdout",
     "output_type": "stream",
     "text": [
      "Welcome to JupyROOT 6.24/04\n"
     ]
    }
   ],
   "source": [
    "import ROOT\n",
    "import my_library.common_analysis_tools as tools\n",
    "import my_library.constants as constants \n",
    "import my_library.kinematic_cuts as kcuts"
   ]
  },
  {
   "cell_type": "code",
   "execution_count": 2,
   "metadata": {},
   "outputs": [],
   "source": [
    "ROOT.gStyle.SetOptStat(0)"
   ]
  },
  {
   "cell_type": "code",
   "execution_count": 3,
   "metadata": {},
   "outputs": [],
   "source": [
    "run_period = 'spring'\n",
    "data_type = 'data'\n",
    "df_pipkmks = tools.get_dataframe('pipkmks', run_period, data_type)\n",
    "df_pimkpks = tools.get_dataframe('pimkpks', run_period, data_type)"
   ]
  },
  {
   "cell_type": "code",
   "execution_count": 4,
   "metadata": {},
   "outputs": [],
   "source": [
    "df_pipkmks = df_pipkmks.Filter(kcuts.KSTAR_ALL_CUT_PIPKMKS)#.Filter('e_beam > 8.0 && e_beam < 9.0').Filter('mand_t < 0.5')\n",
    "df_pimkpks = df_pimkpks.Filter(kcuts.KSTAR_ALL_CUT_PIMKPKS)#.Filter('e_beam > 8.0 && e_beam < 9.0').Filter('mand_t < 0.5')"
   ]
  },
  {
   "cell_type": "code",
   "execution_count": 5,
   "metadata": {},
   "outputs": [
    {
     "name": "stdout",
     "output_type": "stream",
     "text": [
      "pipkmks:  24577.0\n",
      "pimkpks 27414.0\n"
     ]
    }
   ],
   "source": [
    "hist_ppi_pipkmks = df_pipkmks.Histo1D(('pipkmks_ppi', 'M(p#pi^{+}) [GeV]', 50, 1.0, 3.0), 'ppip_m')\n",
    "hist_ppi_pipkmks_f1 = df_pipkmks.Filter('pipkmks_m > 1.24 && pipkmks_m < 1.35').Histo1D(('pipkmks_ppi', 'M(p#pi^{+}) [GeV]', 50, 1.3, 3.0), 'ppip_m')\n",
    "hist_ppi_pimkpks = df_pimkpks.Histo1D(('pimkpks_ppi', 'M(p#pi^{-}) [GeV]', 50, 1.0, 3.0), 'ppim_m')\n",
    "hist_ppi_pimkpks_f1 = df_pimkpks.Filter('pimkpks_m > 1.24 && pimkpks_m < 1.35').Histo1D(('pimkpks_ppi', 'M(p#pi^{-}) [GeV]', 50, 1.3, 3.0), 'ppim_m')\n",
    "\n",
    "print('pipkmks: ', hist_ppi_pipkmks_f1.Integral())\n",
    "print('pimkpks', hist_ppi_pimkpks_f1.Integral())"
   ]
  },
  {
   "cell_type": "code",
   "execution_count": 18,
   "metadata": {},
   "outputs": [
    {
     "name": "stderr",
     "output_type": "stream",
     "text": [
      "Warning in <TCanvas::Constructor>: Deleting canvas with same name: c\n"
     ]
    },
    {
     "data": {
      "image/png": "[encoded data removed]",
      "text/plain": [
       "<IPython.core.display.Image object>"
      ]
     },
     "metadata": {},
     "output_type": "display_data"
    }
   ],
   "source": [
    "hist_ppi_pipkmks.SetLineColor(ROOT.TColor.GetColor(constants.COLORBLIND_HEX_DICT['blue']))\n",
    "hist_ppi_pipkmks_f1.SetLineColor(ROOT.TColor.GetColor(constants.COLORBLIND_HEX_DICT['blue']))\n",
    "hist_ppi_pimkpks.SetLineColor(ROOT.TColor.GetColor(constants.COLORBLIND_HEX_DICT['red']))\n",
    "hist_ppi_pimkpks_f1.SetLineColor(ROOT.TColor.GetColor(constants.COLORBLIND_HEX_DICT['red']))\n",
    "\n",
    "legend = ROOT.TLegend(0.7, 0.7, 0.9, 0.9)\n",
    "legend.AddEntry(hist_ppi_pipkmks_f1.GetPtr(), '#pi^{+}K^{-}K_{s}', 'l')\n",
    "legend.AddEntry(hist_ppi_pimkpks_f1.GetPtr(), '#pi^{-}K^{+}K_{s}', 'l')\n",
    "\n",
    "c = ROOT.TCanvas('c', 'c', 800, 600)\n",
    "# hist_ppi_pimkpks.Draw()\n",
    "hist_ppi_pimkpks_f1.Draw()\n",
    "# hist_ppi_pipkmks.Draw('same')\n",
    "hist_ppi_pipkmks_f1.Draw('same')\n",
    "legend.Draw()\n",
    "c.Draw()\n"
   ]
  },
  {
   "cell_type": "code",
   "execution_count": 19,
   "metadata": {},
   "outputs": [
    {
     "name": "stdout",
     "output_type": "stream",
     "text": [
      "pipkmks:  24577.0\n",
      "pimkpks 27414.0\n"
     ]
    }
   ],
   "source": [
    "hist_pipkmks = df_pipkmks.Filter('pipkmks_m > 1.24 && pipkmks_m < 1.35').Histo1D(('pipkmks', 'M(#pi^{+}K^{-}K^{0}_{S}) [GeV]', 40, 1.2, 1.4), 'pipkmks_m')\n",
    "hist_pipkmks.SetLineColor(ROOT.TColor.GetColor(constants.COLORBLIND_HEX_DICT['blue']))\n",
    "hist_pimkpks = df_pimkpks.Filter('pimkpks_m > 1.24 && pimkpks_m < 1.35').Histo1D(('pimkpks', 'M(#pi^{+}K^{-}K^{0}_{S}) [GeV]', 40, 1.2, 1.4), 'pimkpks_m')\n",
    "hist_pimkpks.SetLineColor(ROOT.TColor.GetColor(constants.COLORBLIND_HEX_DICT['red']))\n",
    "\n",
    "print('pipkmks: ', hist_pipkmks.Integral())\n",
    "print('pimkpks', hist_pimkpks.Integral())"
   ]
  },
  {
   "cell_type": "code",
   "execution_count": 20,
   "metadata": {},
   "outputs": [
    {
     "data": {
      "image/png": "[encoded data removed]",
      "text/plain": [
       "<IPython.core.display.Image object>"
      ]
     },
     "metadata": {},
     "output_type": "display_data"
    }
   ],
   "source": [
    "hist_pimkpks.Draw()\n",
    "hist_pipkmks.Draw('same')\n",
    "legend.Draw()\n",
    "c.Draw()\n"
   ]
  },
  {
   "cell_type": "code",
   "execution_count": 21,
   "metadata": {},
   "outputs": [],
   "source": [
    "df_nocuts_pipkmks = tools.get_dataframe('pipkmks', run_period, data_type, filtered=False)\n",
    "df_nocuts_pimkpks = tools.get_dataframe('pimkpks', run_period, data_type, filtered=False)"
   ]
  }
 ],
 "metadata": {
  "kernelspec": {
   "display_name": "Python 3",
   "language": "python",
   "name": "python3"
  },
  "language_info": {
   "codemirror_mode": {
    "name": "ipython",
    "version": 3
   },
   "file_extension": ".py",
   "mimetype": "text/x-python",
   "name": "python",
   "nbconvert_exporter": "python",
   "pygments_lexer": "ipython3",
   "version": "3.6.8"
  },
  "orig_nbformat": 4
 },
 "nbformat": 4,
 "nbformat_minor": 2
}
