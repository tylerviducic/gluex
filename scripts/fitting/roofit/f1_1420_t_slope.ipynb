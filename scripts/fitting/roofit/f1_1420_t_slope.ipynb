{
 "cells": [
  {
   "cell_type": "code",
   "execution_count": 1,
   "metadata": {},
   "outputs": [
    {
     "name": "stdout",
     "output_type": "stream",
     "text": [
      "Welcome to JupyROOT 6.24/04\n"
     ]
    }
   ],
   "source": [
    "import ROOT\n",
    "import my_library.common_analysis_tools as tools\n",
    "import my_library.constants as constants"
   ]
  },
  {
   "cell_type": "code",
   "execution_count": null,
   "metadata": {},
   "outputs": [],
   "source": [
    "ROOT.EnableImplicitMT()\n",
    "ROOT.gStyle.SetOptStat(0)"
   ]
  },
  {
   "cell_type": "code",
   "execution_count": 2,
   "metadata": {},
   "outputs": [],
   "source": [
    "df_pipkmks = tools.get_dataframe('pipkmks', 'spring', 'data').Filter('pipkmks_m > 1.35 && pipkmks_m < 1.5')"
   ]
  },
  {
   "cell_type": "code",
   "execution_count": 3,
   "metadata": {},
   "outputs": [],
   "source": [
    "# TODO: add these cuts to kinematic cuts library\n",
    "reject_kstar_zero_pipkmks = 'kmpip_m < 0.8 || kmpip_m > 1.0'\n",
    "reject_kstar_plus_pipkmks = 'kspip_m < 0.8 || kspip_m > 1.0'\n",
    "select_kstar_zero_pipkmks = 'kmpip_m > 0.8 && kmpip_m < 1.0'\n",
    "select_kstar_plus_pipkmks = 'kspip_m > 0.8 && kspip_m < 1.0'"
   ]
  },
  {
   "cell_type": "code",
   "execution_count": null,
   "metadata": {},
   "outputs": [],
   "source": [
    "hist_t_kstar_zero_selected = df_pipkmks.Filter(select_kstar_zero_pipkmks).Filter(reject_kstar_plus_pipkmks)\\\n",
    "    .Histo1D(('hist_t_kstar_zero_selected', '-t(p - p`) [GeV^{2}] for 1.35 < M(KK#pi) < 1.5 GeV with K*{0} Selected', 100, 0.0, 2.0), 'mand_t')\n",
    "\n",
    "hist_t_kstar_plus_selected = df_pipkmks.Filter(select_kstar_plus_pipkmks).Filter(reject_kstar_zero_pipkmks)\\\n",
    "    .Histo1D(('hist_t_kstar_zero_selected', '-t(p - p`) [GeV^{2}] for 1.35 < M(KK#pi) < 1.5 GeV with K*{0} Selected', 100, 0.0, 2.0), 'mand_t')"
   ]
  }
 ],
 "metadata": {
  "kernelspec": {
   "display_name": "Python 3",
   "language": "python",
   "name": "python3"
  },
  "language_info": {
   "codemirror_mode": {
    "name": "ipython",
    "version": 3
   },
   "file_extension": ".py",
   "mimetype": "text/x-python",
   "name": "python",
   "nbconvert_exporter": "python",
   "pygments_lexer": "ipython3",
   "version": "3.6.8"
  },
  "orig_nbformat": 4
 },
 "nbformat": 4,
 "nbformat_minor": 2
}
