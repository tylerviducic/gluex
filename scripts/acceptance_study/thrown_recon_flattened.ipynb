{
 "cells": [
  {
   "cell_type": "code",
   "execution_count": 1,
   "metadata": {},
   "outputs": [],
   "source": [
    "pipkmks_thrown = {\n",
    "    \"spring\": 77902610,\n",
    "    \"fall\": 77439553,\n",
    "    \"2017\": 77114929\n",
    "}\n",
    "\n",
    "pipkmks_recon = {\n",
    "    \"spring\": 6091596,\n",
    "    \"fall\": 8332187,\n",
    "    \"2017\": 9362346\n",
    "}\n",
    "\n",
    "pipkmks_flattened = {\n",
    "    \"spring\": 2174878,\n",
    "    \"fall\": 3063703,\n",
    "    \"2017\": 3419497\n",
    "}\n",
    "\n",
    "pimkpks_thrown = {\n",
    "    \"spring\": 77890871,\n",
    "    \"fall\": 77518417,\n",
    "    \"2017\": 77045429\n",
    "}\n",
    "\n",
    "pimkpks_recon = {\n",
    "    \"spring\": 4650113,\n",
    "    \"fall\": 6343093,\n",
    "    \"2017\": 8265746\n",
    "}\n",
    "\n",
    "pimkpks_flattened = {\n",
    "    \"spring\": 1658096,\n",
    "    \"fall\": 2330877,\n",
    "    \"2017\": 2910456\n",
    "}"
   ]
  }
 ],
 "metadata": {
  "kernelspec": {
   "display_name": "Python 3",
   "language": "python",
   "name": "python3"
  },
  "language_info": {
   "codemirror_mode": {
    "name": "ipython",
    "version": 3
   },
   "file_extension": ".py",
   "mimetype": "text/x-python",
   "name": "python",
   "nbconvert_exporter": "python",
   "pygments_lexer": "ipython3",
   "version": "3.6.8"
  },
  "orig_nbformat": 4
 },
 "nbformat": 4,
 "nbformat_minor": 2
}
