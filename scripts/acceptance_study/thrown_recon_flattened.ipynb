{
 "cells": [
  {
   "cell_type": "code",
   "execution_count": 2,
   "metadata": {},
   "outputs": [],
   "source": [
    "pipkmks_thrown = {\n",
    "    \"spring\": 77902610,\n",
    "    \"fall\": 77439553,\n",
    "    \"2017\": 77114929\n",
    "}\n",
    "\n",
    "pipkmks_recon = {\n",
    "    \"spring\": 6091596,\n",
    "    \"fall\": 8332187,\n",
    "    \"2017\": 9362346\n",
    "}\n",
    "\n",
    "pipkmks_flattened = {\n",
    "    \"spring\": 2174878,\n",
    "    \"fall\": 3063703,\n",
    "    \"2017\": 3419497\n",
    "}\n",
    "\n",
    "pimkpks_thrown = {\n",
    "    \"spring\": 77890871,\n",
    "    \"fall\": 77518417,\n",
    "    \"2017\": 77045429\n",
    "}\n",
    "\n",
    "pimkpks_recon = {\n",
    "    \"spring\": 4650113,\n",
    "    \"fall\": 6343093,\n",
    "    \"2017\": 8265746\n",
    "}\n",
    "\n",
    "pimkpks_flattened = {\n",
    "    \"spring\": 1658096,\n",
    "    \"fall\": 2330877,\n",
    "    \"2017\": 2910456\n",
    "}"
   ]
  },
  {
   "cell_type": "code",
   "execution_count": 5,
   "metadata": {},
   "outputs": [
    {
     "name": "stdout",
     "output_type": "stream",
     "text": [
      "recon efficiency for pipkmks: 0.07819501811300032 || pimkpks: 0.059700359493989996\n",
      "flattening efficiency for pipkmks: 0.35702925801382757 || pimkpks: 0.35657111988461354\n",
      "\n",
      "recon efficiency for pipkmks: 0.1075960110461898 || pimkpks: 0.08182691604757615\n",
      "flattening efficiency for pipkmks: 0.3676949401159624 || pimkpks: 0.3674669439656647\n",
      "\n",
      "recon efficiency for pipkmks: 0.12140769785316148 || pimkpks: 0.10728405445052425\n",
      "flattening efficiency for pipkmks: 0.3652393321075722 || pimkpks: 0.352110505210298\n",
      "\n"
     ]
    }
   ],
   "source": [
    "for run in ['spring', 'fall', '2017']:\n",
    "    print(f\"recon efficiency for pipkmks: {pipkmks_recon[run]/pipkmks_thrown[run]} || pimkpks: {pimkpks_recon[run]/pimkpks_thrown[run]}\")\n",
    "    print(f\"flattening efficiency for pipkmks: {pipkmks_flattened[run]/pipkmks_recon[run]} || pimkpks: {pimkpks_flattened[run]/pimkpks_recon[run]}\")\n",
    "    print('')"
   ]
  }
 ],
 "metadata": {
  "kernelspec": {
   "display_name": "Python 3",
   "language": "python",
   "name": "python3"
  },
  "language_info": {
   "codemirror_mode": {
    "name": "ipython",
    "version": 3
   },
   "file_extension": ".py",
   "mimetype": "text/x-python",
   "name": "python",
   "nbconvert_exporter": "python",
   "pygments_lexer": "ipython3",
   "version": "3.6.8"
  },
  "orig_nbformat": 4
 },
 "nbformat": 4,
 "nbformat_minor": 2
}
