{
 "cells": [
  {
   "cell_type": "code",
   "execution_count": 1,
   "metadata": {},
   "outputs": [
    {
     "name": "stdout",
     "output_type": "stream",
     "text": [
      "Welcome to JupyROOT 6.24/04\n"
     ]
    }
   ],
   "source": [
    "import my_library.constants as constants\n",
    "import ROOT"
   ]
  },
  {
   "cell_type": "code",
   "execution_count": 2,
   "metadata": {},
   "outputs": [],
   "source": [
    "monitoring_recon_filepath_pipkmks = '/w/halld-scshelf2101/home/viducic/data/acceptance_study/pipkmks_s18_042050_042059_monitoring.root'\n",
    "monitoring_recon_filepath_pimkpks = '/w/halld-scshelf2101/home/viducic/data/acceptance_study/pimkpks_s18_042050_042059_monitoring.root'\n",
    "\n",
    "pipkmks_file = ROOT.TFile(monitoring_recon_filepath_pipkmks, 'READ')\n",
    "pimkpks_file = ROOT.TFile(monitoring_recon_filepath_pimkpks, 'READ')"
   ]
  },
  {
   "cell_type": "code",
   "execution_count": 3,
   "metadata": {},
   "outputs": [
    {
     "name": "stdout",
     "output_type": "stream",
     "text": [
      "Name: Independent Title: Independent\n",
      "Name: pipkmks__ks_pippim__B4_M16 Title: pipkmks__ks_pippim__B4_M16\n",
      "Name: Independent Title: Independent\n",
      "Name: pimkpks__ks_pippim__B4_M16 Title: pimkpks__ks_pippim__B4_M16\n"
     ]
    }
   ],
   "source": [
    "# got this from ChatGPT\n",
    "def explore_directory(directory, depth=0):\n",
    "    indent = \"  \" * depth\n",
    "    print(f\"{indent}Directory: {directory.GetName()}\")\n",
    "    \n",
    "    keys = directory.GetListOfKeys()\n",
    "    for key in keys:\n",
    "        obj = key.ReadObj()\n",
    "        if isinstance(obj, ROOT.TDirectory):\n",
    "            explore_directory(obj, depth + 1)\n",
    "        else:\n",
    "            print(f\"{indent}  {obj.GetName()}\")\n",
    "\n",
    "for key in pipkmks_file.GetListOfKeys():\n",
    "    obj = key.ReadObj()\n",
    "    if isinstance(obj, ROOT.TDirectory):\n",
    "        print(key)\n",
    "\n",
    "for key in pimkpks_file.GetListOfKeys():\n",
    "    obj = key.ReadObj()\n",
    "    if isinstance(obj, ROOT.TDirectory):\n",
    "        print(key)"
   ]
  },
  {
   "cell_type": "code",
   "execution_count": 4,
   "metadata": {},
   "outputs": [],
   "source": [
    "directory_name_pipkmks = 'pipkmks__ks_pippim__B4_M16'\n",
    "directory_name_pimkpks = 'pimkpks__ks_pippim__B4_M16'\n",
    "\n",
    "directory_pipkmks = pipkmks_file.Get(directory_name_pipkmks)\n",
    "directory_pimkpks = pimkpks_file.Get(directory_name_pimkpks)"
   ]
  },
  {
   "cell_type": "code",
   "execution_count": 5,
   "metadata": {},
   "outputs": [
    {
     "name": "stdout",
     "output_type": "stream",
     "text": [
      "Hist_InvariantMass_KShort_PreKinFit || Hist_InvariantMass_KShort_PreKinFit\n",
      "Hist_MissingMassSquared_KShort_PreKinFit || Hist_MissingMassSquared_KShort_PreKinFit\n",
      "Hist_MissingMassSquared_PreKinFit || Hist_MissingMassSquared_PreKinFit\n",
      "Hist_KinFitResults || Hist_KinFitResults\n",
      "Hist_PID || Hist_PID\n",
      "Hist_InvariantMass_KShort_PostKinFit || Hist_InvariantMass_KShort_PostKinFit\n",
      "Hist_MissingMassSquared_KShort_PostKinFit || Hist_MissingMassSquared_KShort_PostKinFit\n",
      "Hist_MissingMassSquared_PostKinFit || Hist_MissingMassSquared_PostKinFit\n",
      "Hist_InvariantMass_KShort_PostKinFit_KinFit || Hist_InvariantMass_KShort_PostKinFit_KinFit\n",
      "Hist_MissingMassSquared_KShort_PostKinFit_KinFit || Hist_MissingMassSquared_KShort_PostKinFit_KinFit\n",
      "Hist_ParticleComboKinematics || Hist_ParticleComboKinematics\n",
      "NumParticleCombos || NumParticleCombos\n",
      "NumEventsSurvivedAction || NumEventsSurvivedAction\n",
      "NumEventsWhereTrueComboSurvivedAction || NumEventsSurvivedAction_BeamE\n",
      "NumCombosSurvivedAction || NumEventsWhereTrueComboSurvivedAction\n",
      "NumCombosSurvivedAction1D || NumEventsWhereTrueComboSurvivedAction_BeamE\n",
      "ComboConstruction_NumEventsSurvived || NumCombosSurvivedAction\n",
      "ComboConstruction_NumCombosSurvived || NumCombosSurvivedAction1D\n",
      "ComboConstruction_NumCombosSurvived2D || ComboConstruction_NumEventsSurvived\n"
     ]
    }
   ],
   "source": [
    "for key_pip, key_pim in zip(directory_pipkmks.GetListOfKeys(), directory_pimkpks.GetListOfKeys()):\n",
    "    print(key_pip.GetName() + \" || \" + key_pim.GetName())"
   ]
  },
  {
   "cell_type": "code",
   "execution_count": 6,
   "metadata": {},
   "outputs": [],
   "source": [
    "hist_name = 'NumEventsSurvivedAction'\n",
    "hist_pipkmks = directory_pipkmks.Get(hist_name)\n",
    "hist_pimkpks = directory_pimkpks.Get(hist_name)"
   ]
  },
  {
   "cell_type": "code",
   "execution_count": 7,
   "metadata": {},
   "outputs": [],
   "source": [
    "hist_pipkmks.GetXaxis().SetRangeUser(0, 5.0)\n",
    "hist_pimkpks.GetXaxis().SetRangeUser(0, 5.0)"
   ]
  },
  {
   "cell_type": "code",
   "execution_count": 8,
   "metadata": {},
   "outputs": [
    {
     "data": {
      "image/png": "[encoded data removed]",
      "text/plain": [
       "<IPython.core.display.Image object>"
      ]
     },
     "metadata": {},
     "output_type": "display_data"
    }
   ],
   "source": [
    "c = ROOT.TCanvas(\"c\", \"c\", 800, 600)\n",
    "c.Divide(2,1)\n",
    "c.cd(1)\n",
    "hist_pipkmks.Draw()\n",
    "c.cd(2)\n",
    "hist_pimkpks.Draw()\n",
    "c.Draw()\n"
   ]
  }
 ],
 "metadata": {
  "kernelspec": {
   "display_name": "Python 3",
   "language": "python",
   "name": "python3"
  },
  "language_info": {
   "codemirror_mode": {
    "name": "ipython",
    "version": 3
   },
   "file_extension": ".py",
   "mimetype": "text/x-python",
   "name": "python",
   "nbconvert_exporter": "python",
   "pygments_lexer": "ipython3",
   "version": "3.6.8"
  },
  "orig_nbformat": 4
 },
 "nbformat": 4,
 "nbformat_minor": 2
}
