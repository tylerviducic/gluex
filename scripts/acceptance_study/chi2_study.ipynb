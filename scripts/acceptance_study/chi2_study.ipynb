{
 "cells": [
  {
   "cell_type": "code",
   "execution_count": 1,
   "metadata": {},
   "outputs": [
    {
     "name": "stdout",
     "output_type": "stream",
     "text": [
      "Welcome to JupyROOT 6.24/04\n"
     ]
    }
   ],
   "source": [
    "import ROOT\n",
    "import my_library.common_analysis_tools as ct\n",
    "import my_library.constants as constants"
   ]
  },
  {
   "cell_type": "code",
   "execution_count": 2,
   "metadata": {},
   "outputs": [],
   "source": [
    "run_period = 'spring'\n",
    "data_type = 'data'\n",
    "\n",
    "df_pipkmks = ct.get_dataframe('pipkmks', run_period, data_type)\n",
    "df_pimkpks = ct.get_dataframe('pimkpks', run_period, data_type)\n"
   ]
  },
  {
   "cell_type": "code",
   "execution_count": 3,
   "metadata": {},
   "outputs": [],
   "source": [
    "columns = df_pipkmks.GetColumnNames()"
   ]
  },
  {
   "cell_type": "code",
   "execution_count": 12,
   "metadata": {},
   "outputs": [
    {
     "name": "stdout",
     "output_type": "stream",
     "text": [
      "p_pt                | p_p                 | ks_px               | ks_py               | ks_pz\n",
      "ks_E                | ks_m                | ks_px_measured      | ks_py_measured      | ks_pz_measured\n",
      "ks_E_measured       | ks_m_measured       | mxpx_ppipkmks       | mxpy_ppipkmks       | mxpz_ppipkmks\n",
      "mxe_ppipkmks        | mx2_ppipkmks        | ppip_px             | ppip_py             | ppip_pz\n",
      "ppip_E              | ppip_m              | missing_px          | missing_py          | missing_pz\n",
      "missing_E           | missing_m           | kmp_px              | kmp_py              | kmp_pz\n",
      "kmp_E               | kmp_m               | ksp_px              | ksp_py              | ksp_pz\n",
      "ksp_E               | ksp_m               | kspip_px            | kspip_py            | kspip_pz\n",
      "kspip_E             | kspip_m             | kmpip_px            | kmpip_py            | kmpip_pz\n",
      "kmpip_E             | kmpip_m             | pipkmks_px          | pipkmks_py          | pipkmks_pz\n",
      "pipkmks_E           | pipkmks_px_measured | pipkmks_py_measured | pipkmks_pz_measured | pipkmks_pt\n",
      "pipkmks_p_pt_diff   | pipkmks_m           | kmks_px             | kmks_py             | kmks_pz\n",
      "kmks_E              | kmks_m              | e_bin               | t_bin               | run\n",
      "event               | trigbits            | rftime              | kin_chisq           | kin_ndf\n",
      "beam_beamid         | beam_x4_meas        | beam_p4_meas        | beam_x4_kin         | beam_p4_kin\n",
      "pip1_trkid          | pip1_x4_meas        | pip1_p4_meas        | pip1_x4_kin         | pip1_p4_kin\n",
      "pip1_pid_fom        | pip1_beta_time      | pip1_chisq_time     | pip1_ndf_time       | pip1_ndf_trk\n",
      "pip1_chisq_trk      | pip1_ndf_dedx       | pip1_chisq_dedx     | pip1_dedx_cdc       | pip1_dedx_fdc\n",
      "pip1_dedx_tof       | pip1_dedx_st        | pip1_ebcal          | pip1_eprebcal       | pip1_efcal\n",
      "pip1_bcal_delphi    | pip1_bcal_delz      | pip1_fcal_doca      | km_trkid            | km_x4_meas\n",
      "km_p4_meas          | km_x4_kin           | km_p4_kin           | km_pid_fom          | km_beta_time\n",
      "km_chisq_time       | km_ndf_time         | km_ndf_trk          | km_chisq_trk        | km_ndf_dedx\n",
      "km_chisq_dedx       | km_dedx_cdc         | km_dedx_fdc         | km_dedx_tof         | km_dedx_st\n",
      "km_ebcal            | km_eprebcal         | km_efcal            | km_bcal_delphi      | km_bcal_delz\n",
      "km_fcal_doca        | p_trkid             | p_x4_meas           | p_p4_meas           | p_x4_kin\n",
      "p_p4_kin            | p_pid_fom           | p_beta_time         | p_chisq_time        | p_ndf_time\n",
      "p_ndf_trk           | p_chisq_trk         | p_ndf_dedx          | p_chisq_dedx        | p_dedx_cdc\n",
      "p_dedx_fdc          | p_dedx_tof          | p_dedx_st           | p_ebcal             | p_eprebcal\n",
      "p_efcal             | p_bcal_delphi       | p_bcal_delz         | p_fcal_doca         | pim_trkid\n",
      "pim_x4_meas         | pim_p4_meas         | pim_x4_kin          | pim_p4_kin          | pim_pid_fom\n",
      "pim_beta_time       | pim_chisq_time      | pim_ndf_time        | pim_ndf_trk         | pim_chisq_trk\n",
      "pim_ndf_dedx        | pim_chisq_dedx      | pim_dedx_cdc        | pim_dedx_fdc        | pim_dedx_tof\n",
      "pim_dedx_st         | pim_ebcal           | pim_eprebcal        | pim_efcal           | pim_bcal_delphi\n",
      "pim_bcal_delz       | pim_fcal_doca       | pip2_trkid          | pip2_x4_meas        | pip2_p4_meas\n",
      "pip2_x4_kin         | pip2_p4_kin         | pip2_pid_fom        | pip2_beta_time      | pip2_chisq_time\n",
      "pip2_ndf_time       | pip2_ndf_trk        | pip2_chisq_trk      | pip2_ndf_dedx       | pip2_chisq_dedx\n",
      "pip2_dedx_cdc       | pip2_dedx_fdc       | pip2_dedx_tof       | pip2_dedx_st        | pip2_ebcal\n",
      "pip2_eprebcal       | pip2_efcal          | pip2_bcal_delphi    | pip2_bcal_delz      | pip2_fcal_doca\n",
      "e_beam              | e_beam_measured     | pip1_px             | pip1_py             | pip1_pz\n",
      "pip1_E              | pip2_px             | pip2_py             | pip2_pz             | pip2_E\n",
      "pim_px              | pim_py              | pim_pz              | pim_E               | km_px\n",
      "km_py               | km_pz               | km_E                | p_px                | p_py\n",
      "p_pz                | p_E                 | pip1_px_measured    | pip1_py_measured    | pip1_pz_measured\n",
      "pip1_E_measured     | pip2_px_measured    | pip2_py_measured    | pip2_pz_measured    | pip2_E_measured\n",
      "pim_px_measured     | pim_py_measured     | pim_pz_measured     | pim_E_measured      | km_px_measured\n",
      "km_py_measured      | km_pz_measured      | km_E_measured       | p_px_measured       | p_py_measured\n",
      "p_pz_measured       | p_E_measured        | pathlength_sig      | cos_colin           | vertex_distance\n",
      "mand_t              | w                   | s                   | "
     ]
    }
   ],
   "source": [
    "longest = 0\n",
    "for column in columns: \n",
    "    if len(column)>longest: longest = len(column)\n",
    "\n",
    "for i, column in enumerate(columns):\n",
    "    line = ''\n",
    "    if (i+1)%5!=0:\n",
    "        end = ' '*(longest-len(column)+1) + '| '\n",
    "    else:\n",
    "        end = '\\n'\n",
    "    print(column, end=end)"
   ]
  }
 ],
 "metadata": {
  "kernelspec": {
   "display_name": "Python 3",
   "language": "python",
   "name": "python3"
  },
  "language_info": {
   "codemirror_mode": {
    "name": "ipython",
    "version": 3
   },
   "file_extension": ".py",
   "mimetype": "text/x-python",
   "name": "python",
   "nbconvert_exporter": "python",
   "pygments_lexer": "ipython3",
   "version": "3.6.8"
  },
  "orig_nbformat": 4
 },
 "nbformat": 4,
 "nbformat_minor": 2
}
