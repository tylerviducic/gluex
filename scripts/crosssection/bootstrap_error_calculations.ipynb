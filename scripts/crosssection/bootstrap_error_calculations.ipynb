{
 "cells": [
  {
   "cell_type": "code",
   "execution_count": 9,
   "metadata": {},
   "outputs": [],
   "source": [
    "import numpy as np\n",
    "import pandas as pd\n",
    "import matplotlib.pyplot as plt\n",
    "import my_library.constants as constants"
   ]
  },
  {
   "cell_type": "code",
   "execution_count": 15,
   "metadata": {},
   "outputs": [],
   "source": [
    "path_to_nominal = '/work/halld/home/viducic/data/fit_params/{}/tf1_gaus_cross_section_values.csv'\n",
    "path_to_bootstrapped = '/work/halld/home/viducic/data/fit_params/{}/bootstrap_amplitudes.csv'\n",
    "\n",
    "df_nominal_pipkmks = pd.read_csv(path_to_nominal.format('pipkmks'))\n",
    "df_nominal_pimkpks = pd.read_csv(path_to_nominal.format('pimkpks'))\n",
    "df_bootstrapped_pipkmks = pd.read_csv(path_to_bootstrapped.format('pipkmks'))\n",
    "df_bootrapped_pimkpks = pd.read_csv(path_to_bootstrapped.format('pimkpks'))\n",
    "\n",
    "bs_grouped_pipkmks = df_bootstrapped_pipkmks.groupby(['e_bin', 't_bin'])\n",
    "bs_grouped_pimkpks = df_bootrapped_pimkpks.groupby(['e_bin', 't_bin'])\n",
    "\n",
    "df_nominal_pipkmks['rel_err'] = np.where(True, df_nominal_pipkmks['yield_error']/df_nominal_pipkmks['yield'], 0)\n",
    "df_nominal_pimkpks['rel_err'] = np.where(True, df_nominal_pimkpks['yield_error']/df_nominal_pimkpks['yield'], 0)\n"
   ]
  },
  {
   "cell_type": "code",
   "execution_count": 21,
   "metadata": {},
   "outputs": [],
   "source": [
    "dict_pipkmks = {'e':[], 't':[], 'nom_rel_err':[], 'bs_rel_err':[]}\n",
    "for (e, t), group in bs_grouped_pipkmks:\n",
    "    mean = group['amplitude'].mean()\n",
    "    std = group['amplitude'].std()\n",
    "    # print(mean)\n",
    "    # print(std)\n",
    "    bs_rel_err = (std / mean)*100\n",
    "\n",
    "    t_middle = constants.T_CUT_DICT[t][0] + (constants.T_WIDTH_DICT[t] / 2)\n",
    "    nom_rel_err = df_nominal_pipkmks[(df_nominal_pipkmks['beam_energy'] == e) & (df_nominal_pipkmks['t_bin_middle'] == t_middle)]['rel_err'].values[0] * 100\n",
    "\n",
    "    dict_pipkmks['e'].append(e)\n",
    "    dict_pipkmks['t'].append(t)\n",
    "    dict_pipkmks['nom_rel_err'].append(nom_rel_err)\n",
    "    dict_pipkmks['bs_rel_err'].append(bs_rel_err)\n",
    "\n",
    "    # print(f'pipkmks: e={e}, t={t}, nom_rel_err={nom_rel_err}, bs_rel_err={bs_rel_err}, REL_DIFF = {bs_rel_err/nom_rel_err}')"
   ]
  },
  {
   "cell_type": "code",
   "execution_count": 22,
   "metadata": {},
   "outputs": [],
   "source": [
    "dict_pimkpks = {'e':[], 't':[], 'nom_rel_err':[], 'bs_rel_err':[]}\n",
    "for (e, t), group in bs_grouped_pimkpks:\n",
    "    mean = group['amplitude'].mean()\n",
    "    std = group['amplitude'].std()\n",
    "    # print(mean)\n",
    "    # print(std)\n",
    "    bs_rel_err = (std / mean)*100\n",
    "\n",
    "    t_middle = constants.T_CUT_DICT[t][0] + (constants.T_WIDTH_DICT[t] / 2)\n",
    "    nom_rel_err = df_nominal_pimkpks[(df_nominal_pimkpks['beam_energy'] == e) & (df_nominal_pimkpks['t_bin_middle'] == t_middle)]['rel_err'].values[0] * 100\n",
    "\n",
    "    dict_pimkpks['e'].append(e)\n",
    "    dict_pimkpks['t'].append(t)\n",
    "    dict_pimkpks['nom_rel_err'].append(nom_rel_err)\n",
    "    dict_pimkpks['bs_rel_err'].append(bs_rel_err)"
   ]
  },
  {
   "cell_type": "code",
   "execution_count": 23,
   "metadata": {},
   "outputs": [],
   "source": [
    "df_pipkmks = pd.DataFrame(dict_pipkmks)\n",
    "df_pimkpks = pd.DataFrame(dict_pimkpks)"
   ]
  },
  {
   "cell_type": "code",
   "execution_count": 30,
   "metadata": {},
   "outputs": [
    {
     "data": {
      "image/png": "[encoded data removed]",
      "text/plain": [
       "<Figure size 720x720 with 1 Axes>"
      ]
     },
     "metadata": {
      "needs_background": "light"
     },
     "output_type": "display_data"
    }
   ],
   "source": [
    "fig, ax = plt.subplots(figsize=(10, 10))\n",
    "\n",
    "ax.scatter(df_pipkmks['t'], df_pipkmks['bs_rel_err']/df_pipkmks['nom_rel_err'], c='b')\n",
    "ax.set_title('$\\pi^{\\pm}K^{\\mp}K_s$')\n",
    "ax.set_xlabel('t')\n",
    "ax.set_ylabel('Bootstrap/Minuit Error Ratio')\n",
    "\n",
    "ax.scatter(df_pimkpks['t'], df_pimkpks['bs_rel_err']/df_pimkpks['nom_rel_err'], c='r')\n",
    "plt.show()"
   ]
  }
 ],
 "metadata": {
  "kernelspec": {
   "display_name": "Python 3",
   "language": "python",
   "name": "python3"
  },
  "language_info": {
   "codemirror_mode": {
    "name": "ipython",
    "version": 3
   },
   "file_extension": ".py",
   "mimetype": "text/x-python",
   "name": "python",
   "nbconvert_exporter": "python",
   "pygments_lexer": "ipython3",
   "version": "3.6.8"
  }
 },
 "nbformat": 4,
 "nbformat_minor": 2
}
