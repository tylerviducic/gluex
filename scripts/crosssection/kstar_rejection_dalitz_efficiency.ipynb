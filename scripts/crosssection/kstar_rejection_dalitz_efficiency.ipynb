{
 "cells": [
  {
   "cell_type": "markdown",
   "metadata": {},
   "source": [
    "script to use the dalitz plot method outlined by matt shepard to calculate the efficiency of the kstar rejection in the KKPi phasespace\n",
    "\n",
    "The idea would be to correct the data by this as opposed to the phasespace acceptance, as this just handles the K* rejection and not the overall efficiency (which may not actually model the f1 well, unlike the signal MC)"
   ]
  },
  {
   "cell_type": "code",
   "execution_count": 70,
   "metadata": {},
   "outputs": [],
   "source": [
    "import ROOT\n",
    "import numpy as np\n",
    "import pandas as pd\n",
    "from common_analysis_tools import get_integrated_data_hist, colorblind_hex_dict, get_integrated_gluex1_acceptance_corrected_data, get_integrated_gluex1_data"
   ]
  },
  {
   "cell_type": "code",
   "execution_count": 29,
   "metadata": {},
   "outputs": [],
   "source": [
    "mass_low = 1.0 # GeV\n",
    "mass_high = 2.5\n",
    "step_size = 0.01\n",
    "\n",
    "\n",
    "kstar_mass_upper = 1.0\n",
    "kstar_mass_lower = 0.8\n",
    "\n",
    "kaon_mass = 0.493677\n",
    "kshort_mass = 0.497611\n",
    "pion_mass = 0.139570\n"
   ]
  },
  {
   "cell_type": "code",
   "execution_count": 30,
   "metadata": {},
   "outputs": [],
   "source": [
    "def check_if_kstar_region(mass):\n",
    "    return mass < kstar_mass_upper and mass > kstar_mass_lower\n",
    "\n",
    "\n",
    "def get_weight_per_mass(mass_bin, draw_plots=False):\n",
    "    phasespace_centermass = ROOT.TLorentzVector(0, 0, 0, mass_bin)\n",
    "    phasespace_generator = ROOT.TGenPhaseSpace()\n",
    "    phasespace_generator.SetDecay(phasespace_centermass, 3, np.array([kaon_mass, kshort_mass, pion_mass]))\n",
    "\n",
    "    total = 0\n",
    "    passed = 0\n",
    "\n",
    "    full_dalitz = ROOT.TH2D(f\"dalitz_{mass_bin}\", f\"dalitz_{mass_bin}\", 100, 0, 2, 100, 0, 2)\n",
    "    passed_dalitz = ROOT.TH2D(f\"passed_dalitz_{mass_bin}\", f\"passed_dalitz_{mass_bin}\", 100, 0, 2, 100, 0, 2)\n",
    "\n",
    "    for _ in range(100000):\n",
    "        weight = phasespace_generator.Generate()\n",
    "        kaon = phasespace_generator.GetDecay(0)\n",
    "        kshort = phasespace_generator.GetDecay(1)\n",
    "        pion = phasespace_generator.GetDecay(2)\n",
    "\n",
    "        neutral_kstar_mass = (kaon + pion).M()\n",
    "        charged_kstar_mass = (kshort + pion).M()\n",
    "\n",
    "        full_dalitz.Fill(neutral_kstar_mass*neutral_kstar_mass, charged_kstar_mass*charged_kstar_mass, weight)\n",
    "        total += weight\n",
    "\n",
    "        if check_if_kstar_region(neutral_kstar_mass) or check_if_kstar_region(charged_kstar_mass):\n",
    "            continue \n",
    "\n",
    "        passed_dalitz.Fill(neutral_kstar_mass*neutral_kstar_mass, charged_kstar_mass*charged_kstar_mass, weight)\n",
    "        passed += weight\n",
    "\n",
    "    if draw_plots:\n",
    "        c = ROOT.TCanvas()\n",
    "        c.Divide(2,1)\n",
    "        c.cd(1)\n",
    "        full_dalitz.Draw(\"colz\")\n",
    "        c.cd(2)\n",
    "        passed_dalitz.Draw(\"colz\")\n",
    "        c.Update()\n",
    "        c.SaveAs(\"/work/halld/home/viducic/plots/ps_dalitz/dalitz_{}.png\".format(mass_bin))\n",
    "        c.Close()\n",
    "\n",
    "\n",
    "    return passed / total"
   ]
  },
  {
   "cell_type": "code",
   "execution_count": 67,
   "metadata": {},
   "outputs": [],
   "source": [
    "mass_bin_centers = []\n",
    "kstar_cut_efficiencies = []\n",
    "for mass_bin in np.arange(mass_low, mass_high+step_size, step_size):\n",
    "    mass_bin_center = round(mass_bin + (step_size/2), 3)\n",
    "    binned_weight = get_weight_per_mass(mass_bin_center)\n",
    "    mass_bin_centers.append(mass_bin_center)\n",
    "    kstar_cut_efficiencies.append(binned_weight)\n"
   ]
  },
  {
   "cell_type": "code",
   "execution_count": 50,
   "metadata": {},
   "outputs": [],
   "source": [
    "df = pd.DataFrame({\"mass_bin_center\": mass_bin_centers, \"kstar_cut_efficiency\": kstar_cut_efficiencies})\n",
    "df['kstar_cut_efficiency'] = df['kstar_cut_efficiency'].fillna(1)\n",
    "df.to_csv(\"/work/halld/home/viducic/data/ps_dalitz/kstar_cut_efficiency.csv\", index=False)"
   ]
  },
  {
   "cell_type": "code",
   "execution_count": 68,
   "metadata": {},
   "outputs": [],
   "source": [
    "def apply_efficiency_correction(hist):\n",
    "    corrected_hist = hist.Clone()\n",
    "    for i in range(1, corrected_hist.GetNbinsX()+1):\n",
    "        mass_bin_center = round(hist.GetBinCenter(i),3)\n",
    "        efficiency = df[df[\"mass_bin_center\"] == round(mass_bin_center, 3)][\"kstar_cut_efficiency\"].values[0]\n",
    "        corrected_hist.SetBinContent(i, hist.GetBinContent(i) / efficiency)\n",
    "    \n",
    "    corrected_hist.SetDirectory(0)\n",
    "\n",
    "    return corrected_hist"
   ]
  },
  {
   "cell_type": "code",
   "execution_count": 101,
   "metadata": {},
   "outputs": [
    {
     "name": "stdout",
     "output_type": "stream",
     "text": [
      "filepath: /work/halld/home/viducic/data/pipkmks/data/bestX2/pipkmks_flat_result_2018_spring.root\n",
      "filepath: /work/halld/home/viducic/data/pipkmks/data/bestX2/pipkmks_flat_result_2018_fall.root\n",
      "filepath: /work/halld/home/viducic/data/pipkmks/data/bestX2/pipkmks_flat_result_2017.root\n",
      "filepath: /work/halld/home/viducic/data/pipkmks/data/bestX2/pipkmks_flat_result_2018_spring.root\n",
      "filepath: /work/halld/home/viducic/data/pipkmks/data/bestX2/pipkmks_flat_result_2018_fall.root\n",
      "filepath: /work/halld/home/viducic/data/pipkmks/data/bestX2/pipkmks_flat_result_2017.root\n",
      "filepath: /work/halld/home/viducic/data/pipkmks/data/bestX2/pipkmks_flat_result_2018_spring.root\n",
      "filepath: /work/halld/home/viducic/data/pipkmks/data/bestX2/pipkmks_flat_result_2018_fall.root\n",
      "filepath: /work/halld/home/viducic/data/pipkmks/data/bestX2/pipkmks_flat_result_2017.root\n",
      "filepath: /work/halld/home/viducic/data/pipkmks/mc/phasespace/mc_pipkmks_phasespace_flat_result_2018_spring.root\n",
      "filepath: /work/halld/home/viducic/data/pipkmks/mc/phasespace/mc_pipkmks_phasespace_flat_result_2018_fall.root\n",
      "filepath: /work/halld/home/viducic/data/pipkmks/mc/phasespace/mc_pipkmks_phasespace_flat_result_2017.root\n"
     ]
    },
    {
     "name": "stderr",
     "output_type": "stream",
     "text": [
      "Warning in <TH1D::Sumw2>: Sum of squares of weights structure already created\n",
      "Warning in <TH1D::Sumw2>: Sum of squares of weights structure already created\n",
      "Warning in <TH1D::Sumw2>: Sum of squares of weights structure already created\n",
      "Warning in <TH1D::Sumw2>: Sum of squares of weights structure already created\n",
      "Warning in <TH1D::Sumw2>: Sum of squares of weights structure already created\n"
     ]
    }
   ],
   "source": [
    "hist = get_integrated_gluex1_data('pipkmks', 'all')\n",
    "hist.SetLineColor(ROOT.TColor.GetColor(colorblind_hex_dict['blue']))\n",
    "corrected_hist = apply_efficiency_correction(hist)\n",
    "corrected_hist.SetLineColor(ROOT.TColor.GetColor(colorblind_hex_dict['red']))\n",
    "uncut_hist = get_integrated_gluex1_data('pipkmks', \"no\")\n",
    "uncut_hist.SetLineColor(ROOT.TColor.GetColor(colorblind_hex_dict['purple']))\n",
    "uncut_hist.SetTitle(\"M(#pi^{+}K^{-}K_{s}) with and without K* rejection efficiency correction\")\n",
    "acceptance_corrected_hist = get_integrated_gluex1_acceptance_corrected_data('pipkmks', 'all')\n",
    "acceptance_corrected_hist.SetLineColor(ROOT.TColor.GetColor(colorblind_hex_dict['green']))\n",
    "\n",
    "acceptance_corrected_hist.Scale(1/44)\n",
    "\n",
    "fit_range_min = 1.2\n",
    "fit_range_max = 1.5\n",
    "hist.GetXaxis().SetRangeUser(fit_range_min, fit_range_max)\n",
    "uncut_hist.GetXaxis().SetRangeUser(fit_range_min, fit_range_max)\n",
    "corrected_hist.GetXaxis().SetRangeUser(fit_range_min, fit_range_max)\n",
    "acceptance_corrected_hist.GetXaxis().SetRangeUser(fit_range_min, fit_range_max)\n",
    "\n"
   ]
  },
  {
   "cell_type": "code",
   "execution_count": 75,
   "metadata": {},
   "outputs": [
    {
     "data": {
      "text/plain": [
       "<cppyy.gbl.TLegendEntry object at 0x9cf0850>"
      ]
     },
     "execution_count": 75,
     "metadata": {},
     "output_type": "execute_result"
    }
   ],
   "source": [
    "legend = ROOT.TLegend(0.6, 0.6, 0.9, 0.9)\n",
    "legend.AddEntry(hist, \"K* rejection without correction\", \"l\")\n",
    "legend.AddEntry(corrected_hist, \"K* rejection with correction\", \"l\")\n",
    "legend.AddEntry(uncut_hist, \"No K* rejection\", \"l\")\n",
    "legend.AddEntry(acceptance_corrected_hist, \"Acceptance corrected\", \"l\")"
   ]
  },
  {
   "cell_type": "code",
   "execution_count": 102,
   "metadata": {},
   "outputs": [
    {
     "data": {
      "image/png": "[encoded data removed]",
      "text/plain": [
       "<IPython.core.display.Image object>"
      ]
     },
     "metadata": {},
     "output_type": "display_data"
    }
   ],
   "source": [
    "c1 = ROOT.TCanvas()\n",
    "# uncut_hist.Draw()\n",
    "hist.Draw()\n",
    "corrected_hist.Draw(\"same\")\n",
    "acceptance_corrected_hist.Draw(\"same\")\n",
    "legend.Draw()\n",
    "c1.Update()\n",
    "c1.Draw()"
   ]
  }
 ],
 "metadata": {
  "kernelspec": {
   "display_name": "Python 3",
   "language": "python",
   "name": "python3"
  },
  "language_info": {
   "codemirror_mode": {
    "name": "ipython",
    "version": 3
   },
   "file_extension": ".py",
   "mimetype": "text/x-python",
   "name": "python",
   "nbconvert_exporter": "python",
   "pygments_lexer": "ipython3",
   "version": "3.6.8"
  },
  "orig_nbformat": 4
 },
 "nbformat": 4,
 "nbformat_minor": 2
}
