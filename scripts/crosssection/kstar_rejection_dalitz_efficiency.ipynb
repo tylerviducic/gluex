{
 "cells": [
  {
   "cell_type": "markdown",
   "metadata": {},
   "source": [
    "script to use the dalitz plot method outlined by matt shepard to calculate the efficiency of the kstar rejection in the KKPi phasespace\n",
    "\n",
    "The idea would be to correct the data by this as opposed to the phasespace acceptance, as this just handles the K* rejection and not the overall efficiency (which may not actually model the f1 well, unlike the signal MC)"
   ]
  },
  {
   "cell_type": "code",
   "execution_count": 1,
   "metadata": {},
   "outputs": [],
   "source": [
    "%load_ext autoreload\n",
    "%autoreload 2"
   ]
  },
  {
   "cell_type": "code",
   "execution_count": 2,
   "metadata": {},
   "outputs": [
    {
     "name": "stdout",
     "output_type": "stream",
     "text": [
      "Welcome to JupyROOT 6.24/04\n"
     ]
    }
   ],
   "source": [
    "import ROOT\n",
    "import numpy as np\n",
    "import pandas as pd\n",
    "from my_library.common_analysis_tools import get_integrated_data_hist, COLORBLIND_HEX_DICT, get_integrated_gluex1_acceptance_corrected_data, get_integrated_gluex1_data"
   ]
  },
  {
   "cell_type": "code",
   "execution_count": 3,
   "metadata": {},
   "outputs": [],
   "source": [
    "mass_low = 1.0 # GeV\n",
    "mass_high = 2.5\n",
    "step_size = 0.01\n",
    "\n",
    "\n",
    "kstar_mass_upper = 1.0\n",
    "kstar_mass_lower = 0.8\n",
    "\n",
    "kaon_mass = 0.493677\n",
    "kshort_mass = 0.497611\n",
    "pion_mass = 0.139570\n"
   ]
  },
  {
   "cell_type": "code",
   "execution_count": 4,
   "metadata": {},
   "outputs": [],
   "source": [
    "def check_if_kstar_region(mass):\n",
    "    return mass < kstar_mass_upper and mass > kstar_mass_lower\n",
    "\n",
    "\n",
    "def get_weight_per_mass(mass_bin, draw_plots=False):\n",
    "    phasespace_centermass = ROOT.TLorentzVector(0, 0, 0, mass_bin)\n",
    "    phasespace_generator = ROOT.TGenPhaseSpace()\n",
    "    phasespace_generator.SetDecay(phasespace_centermass, 3, np.array([kaon_mass, kshort_mass, pion_mass]))\n",
    "\n",
    "    total = 0\n",
    "    passed = 0\n",
    "\n",
    "    full_dalitz = ROOT.TH2D(f\"dalitz_{mass_bin}\", f\"dalitz_{mass_bin}\", 100, 0, 2, 100, 0, 2)\n",
    "    passed_dalitz = ROOT.TH2D(f\"passed_dalitz_{mass_bin}\", f\"passed_dalitz_{mass_bin}\", 100, 0, 2, 100, 0, 2)\n",
    "\n",
    "    for _ in range(100000):\n",
    "        weight = phasespace_generator.Generate()\n",
    "        kaon = phasespace_generator.GetDecay(0)\n",
    "        kshort = phasespace_generator.GetDecay(1)\n",
    "        pion = phasespace_generator.GetDecay(2)\n",
    "\n",
    "        neutral_kstar_mass = (kaon + pion).M()\n",
    "        charged_kstar_mass = (kshort + pion).M()\n",
    "\n",
    "        full_dalitz.Fill(neutral_kstar_mass*neutral_kstar_mass, charged_kstar_mass*charged_kstar_mass, weight)\n",
    "        total += weight\n",
    "\n",
    "        if check_if_kstar_region(neutral_kstar_mass) or check_if_kstar_region(charged_kstar_mass):\n",
    "            continue \n",
    "\n",
    "        passed_dalitz.Fill(neutral_kstar_mass*neutral_kstar_mass, charged_kstar_mass*charged_kstar_mass, weight)\n",
    "        passed += weight\n",
    "\n",
    "    if draw_plots:\n",
    "        c = ROOT.TCanvas()\n",
    "        c.Divide(2,1)\n",
    "        c.cd(1)\n",
    "        full_dalitz.Draw(\"colz\")\n",
    "        c.cd(2)\n",
    "        passed_dalitz.Draw(\"colz\")\n",
    "        c.Update()\n",
    "        c.SaveAs(\"/work/halld/home/viducic/plots/ps_dalitz/dalitz_{}.png\".format(mass_bin))\n",
    "        c.Close()\n",
    "\n",
    "\n",
    "    return passed / total"
   ]
  },
  {
   "cell_type": "code",
   "execution_count": 5,
   "metadata": {},
   "outputs": [
    {
     "name": "stdout",
     "output_type": "stream",
     "text": [
      "1.005\n",
      "1.015\n",
      "1.025\n",
      "1.035\n",
      "1.045\n",
      "1.055\n",
      "1.065\n",
      "1.075\n",
      "1.085\n",
      "1.095\n",
      "1.105\n",
      "1.115\n",
      "1.125\n",
      "1.135\n",
      "1.145\n",
      "1.155\n",
      "1.165\n",
      "1.175\n",
      "1.185\n",
      "1.195\n",
      "1.205\n",
      "1.215\n",
      "1.225\n",
      "1.235\n",
      "1.245\n",
      "1.255\n",
      "1.265\n",
      "1.275\n",
      "1.285\n",
      "1.295\n",
      "1.305\n",
      "1.315\n",
      "1.325\n",
      "1.335\n",
      "1.345\n",
      "1.355\n",
      "1.365\n",
      "1.375\n",
      "1.385\n",
      "1.395\n",
      "1.405\n",
      "1.415\n",
      "1.425\n",
      "1.435\n",
      "1.445\n",
      "1.455\n",
      "1.465\n",
      "1.475\n",
      "1.485\n",
      "1.495\n",
      "1.505\n",
      "1.515\n",
      "1.525\n",
      "1.535\n",
      "1.545\n",
      "1.555\n",
      "1.565\n",
      "1.575\n",
      "1.585\n",
      "1.595\n",
      "1.605\n",
      "1.615\n",
      "1.625\n",
      "1.635\n",
      "1.645\n",
      "1.655\n",
      "1.665\n",
      "1.675\n",
      "1.685\n",
      "1.695\n",
      "1.705\n",
      "1.715\n",
      "1.725\n",
      "1.735\n",
      "1.745\n",
      "1.755\n",
      "1.765\n",
      "1.775\n",
      "1.785\n",
      "1.795\n",
      "1.805\n",
      "1.815\n",
      "1.825\n",
      "1.835\n",
      "1.845\n",
      "1.855\n",
      "1.865\n",
      "1.875\n",
      "1.885\n",
      "1.895\n",
      "1.905\n",
      "1.915\n",
      "1.925\n",
      "1.935\n",
      "1.945\n",
      "1.955\n",
      "1.965\n",
      "1.975\n",
      "1.985\n",
      "1.995\n",
      "2.005\n",
      "2.015\n",
      "2.025\n",
      "2.035\n",
      "2.045\n",
      "2.055\n",
      "2.065\n",
      "2.075\n",
      "2.085\n",
      "2.095\n",
      "2.105\n",
      "2.115\n",
      "2.125\n",
      "2.135\n",
      "2.145\n",
      "2.155\n",
      "2.165\n",
      "2.175\n",
      "2.185\n",
      "2.195\n",
      "2.205\n",
      "2.215\n",
      "2.225\n",
      "2.235\n",
      "2.245\n",
      "2.255\n",
      "2.265\n",
      "2.275\n",
      "2.285\n",
      "2.295\n",
      "2.305\n",
      "2.315\n",
      "2.325\n",
      "2.335\n",
      "2.345\n",
      "2.355\n",
      "2.365\n",
      "2.375\n",
      "2.385\n",
      "2.395\n",
      "2.405\n",
      "2.415\n",
      "2.425\n",
      "2.435\n",
      "2.445\n",
      "2.455\n",
      "2.465\n",
      "2.475\n",
      "2.485\n",
      "2.495\n",
      "2.505\n"
     ]
    }
   ],
   "source": [
    "mass_bin_centers = []\n",
    "kstar_cut_efficiencies = []\n",
    "for mass_bin in np.arange(mass_low, mass_high+step_size, step_size):\n",
    "    mass_bin_center = round(mass_bin + (step_size/2), 4)\n",
    "    print(mass_bin_center)\n",
    "    binned_weight = get_weight_per_mass(mass_bin_center)\n",
    "    mass_bin_centers.append(mass_bin_center)\n",
    "    kstar_cut_efficiencies.append(binned_weight)\n"
   ]
  },
  {
   "cell_type": "code",
   "execution_count": 6,
   "metadata": {},
   "outputs": [],
   "source": [
    "df = pd.DataFrame({\"mass_bin_center\": mass_bin_centers, \"kstar_cut_efficiency\": kstar_cut_efficiencies})\n",
    "df['kstar_cut_efficiency'] = df['kstar_cut_efficiency'].fillna(1)\n",
    "df.to_csv(f\"/work/halld/home/viducic/data/ps_dalitz/kstar_cut_efficiency_{step_size*1000}.csv\", index=False)"
   ]
  },
  {
   "cell_type": "code",
   "execution_count": 7,
   "metadata": {},
   "outputs": [],
   "source": [
    "def apply_efficiency_correction(hist):\n",
    "    corrected_hist = hist.Clone()\n",
    "    for i in range(1, corrected_hist.GetNbinsX()+1):\n",
    "        mass_bin_center = round(hist.GetBinCenter(i),3)\n",
    "        eff_df = df[df[\"mass_bin_center\"] == round(mass_bin_center, 3)][\"kstar_cut_efficiency\"]\n",
    "        if len(eff_df) == 0:\n",
    "            continue\n",
    "        efficiency = eff_df.values[0]\n",
    "        corrected_hist.SetBinContent(i, hist.GetBinContent(i) / efficiency)\n",
    "    \n",
    "    corrected_hist.SetDirectory(0)\n",
    "\n",
    "    return corrected_hist"
   ]
  },
  {
   "cell_type": "code",
   "execution_count": 20,
   "metadata": {},
   "outputs": [
    {
     "name": "stderr",
     "output_type": "stream",
     "text": [
      "Warning in <TH1D::Sumw2>: Sum of squares of weights structure already created\n",
      "Warning in <TH1D::Sumw2>: Sum of squares of weights structure already created\n",
      "Warning in <TH1D::Sumw2>: Sum of squares of weights structure already created\n",
      "Warning in <TH1D::Sumw2>: Sum of squares of weights structure already created\n",
      "Warning in <TH1D::Sumw2>: Sum of squares of weights structure already created\n"
     ]
    }
   ],
   "source": [
    "hist = get_integrated_gluex1_data('pipkmks', 'all')\n",
    "hist.SetLineColor(ROOT.TColor.GetColor(COLORBLIND_HEX_DICT['blue']))\n",
    "corrected_hist = apply_efficiency_correction(hist)\n",
    "corrected_hist.SetLineColor(ROOT.TColor.GetColor(COLORBLIND_HEX_DICT['red']))\n",
    "uncut_hist = get_integrated_gluex1_data('pipkmks', \"no\")\n",
    "uncut_hist.SetLineColor(ROOT.TColor.GetColor(COLORBLIND_HEX_DICT['purple']))\n",
    "uncut_hist.SetTitle(\"M(#pi^{+}K^{-}K_{s}) with and without K* rejection efficiency correction\")\n",
    "hist.SetTitle(\"M(#pi^{+}K^{-}K_{s}) with and without K* rejection efficiency correction\")\n",
    "acceptance_corrected_hist = get_integrated_gluex1_acceptance_corrected_data('pipkmks', 'all')\n",
    "acceptance_corrected_hist.SetLineColor(ROOT.TColor.GetColor(COLORBLIND_HEX_DICT['green']))\n",
    "\n",
    "acceptance_corrected_hist.Scale(1/60)\n",
    "\n",
    "fit_range_min = 1.2\n",
    "fit_range_max = 1.5\n",
    "hist.GetXaxis().SetRangeUser(fit_range_min, fit_range_max)\n",
    "uncut_hist.GetXaxis().SetRangeUser(fit_range_min, fit_range_max)\n",
    "corrected_hist.GetXaxis().SetRangeUser(fit_range_min, fit_range_max)\n",
    "acceptance_corrected_hist.GetXaxis().SetRangeUser(fit_range_min, fit_range_max)\n",
    "\n"
   ]
  },
  {
   "cell_type": "code",
   "execution_count": 12,
   "metadata": {},
   "outputs": [
    {
     "data": {
      "text/plain": [
       "<cppyy.gbl.TLegendEntry object at 0x83172f0>"
      ]
     },
     "execution_count": 12,
     "metadata": {},
     "output_type": "execute_result"
    }
   ],
   "source": [
    "legend = ROOT.TLegend(0.6, 0.6, 0.9, 0.5)\n",
    "legend.AddEntry(hist, \"K* rejection without correction\", \"l\")\n",
    "legend.AddEntry(corrected_hist, \"K* rejection with correction\", \"l\")\n",
    "# legend.AddEntry(uncut_hist, \"No K* rejection\", \"l\")\n",
    "legend.AddEntry(acceptance_corrected_hist, \"Acceptance corrected\", \"l\")"
   ]
  },
  {
   "cell_type": "code",
   "execution_count": 21,
   "metadata": {},
   "outputs": [
    {
     "data": {
      "image/png": "[encoded data removed]",
      "text/plain": [
       "<IPython.core.display.Image object>"
      ]
     },
     "metadata": {},
     "output_type": "display_data"
    }
   ],
   "source": [
    "c1 = ROOT.TCanvas()\n",
    "# uncut_hist.Draw()\n",
    "hist.Draw()\n",
    "corrected_hist.Draw(\"same\")\n",
    "acceptance_corrected_hist.Draw(\"same\")\n",
    "legend.Draw()\n",
    "c1.Update()\n",
    "c1.Draw()"
   ]
  }
 ],
 "metadata": {
  "kernelspec": {
   "display_name": "Python 3",
   "language": "python",
   "name": "python3"
  },
  "language_info": {
   "codemirror_mode": {
    "name": "ipython",
    "version": 3
   },
   "file_extension": ".py",
   "mimetype": "text/x-python",
   "name": "python",
   "nbconvert_exporter": "python",
   "pygments_lexer": "ipython3",
   "version": "3.6.8"
  },
  "orig_nbformat": 4
 },
 "nbformat": 4,
 "nbformat_minor": 2
}
