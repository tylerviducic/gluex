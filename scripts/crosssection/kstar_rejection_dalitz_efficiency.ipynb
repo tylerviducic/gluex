{
 "cells": [
  {
   "cell_type": "markdown",
   "metadata": {},
   "source": [
    "script to use the dalitz plot method outlined by matt shepard to calculate the efficiency of the kstar rejection in the KKPi phasespace\n",
    "\n",
    "The idea would be to correct the data by this as opposed to the phasespace acceptance, as this just handles the K* rejection and not the overall efficiency (which may not actually model the f1 well, unlike the signal MC)"
   ]
  },
  {
   "cell_type": "code",
   "execution_count": 2,
   "metadata": {},
   "outputs": [],
   "source": [
    "import ROOT"
   ]
  },
  {
   "cell_type": "code",
   "execution_count": 6,
   "metadata": {},
   "outputs": [],
   "source": [
    "mass_low = 1.0 # GeV\n",
    "mass_high = 2.5\n",
    "step_size = 0.01\n",
    "\n",
    "kstar_mass_upper = 1.0\n",
    "kstar_mass_lower = 0.8\n",
    "\n",
    "kaon_mass = 0.493677\n",
    "kshort_mass = 0.497611\n",
    "pion_mass = 0.139570\n"
   ]
  },
  {
   "cell_type": "code",
   "execution_count": 4,
   "metadata": {},
   "outputs": [],
   "source": [
    "def get_weight_per_mass(mass_bin):\n",
    "    #TODO cast the list as a c array\n",
    "    phasespace_centermass = ROOT.TLorentzVector(0, 0, 0, mass_bin)\n",
    "    phasespace_generator = ROOT.TGenPhaseSpace()\n",
    "    phasespace_generator.SetDecay(phasespace_centermass, 3, [kaon_mass, kshort_mass, pion_mass])\n",
    "\n",
    "    total = 0\n",
    "    passed = 0\n",
    "\n",
    "    for i in range(100000):\n",
    "        weight = phasespace_generator.Generate()\n",
    "        kaon = phasespace_generator.GetDecay(0)\n",
    "        kshort = phasespace_generator.GetDecay(1)\n",
    "        pion = phasespace_generator.GetDecay(2)\n",
    "\n",
    "        neutral_kstar_mass = (kaon + pion).M()\n",
    "        charged_kstar_mass = (kshort + pion).M()\n",
    "\n",
    "        total += weight\n",
    "\n",
    "        if neutral_kstar_mass > kstar_mass_lower and neutral_kstar_mass < kstar_mass_upper:\n",
    "            passed += weight\n",
    "\n",
    "    return passed / total"
   ]
  },
  {
   "cell_type": "code",
   "execution_count": 7,
   "metadata": {},
   "outputs": [
    {
     "ename": "TypeError",
     "evalue": "bool TGenPhaseSpace::SetDecay(TLorentzVector& P, int nt, const double* mass, const char* opt = \"\") =>\n    TypeError: could not convert argument 3 (could not convert argument to buffer or nullptr)",
     "output_type": "error",
     "traceback": [
      "\u001b[0;31m---------------------------------------------------------------------------\u001b[0m",
      "\u001b[0;31mTypeError\u001b[0m                                 Traceback (most recent call last)",
      "\u001b[0;32m<ipython-input-7-30797935c327>\u001b[0m in \u001b[0;36m<module>\u001b[0;34m\u001b[0m\n\u001b[0;32m----> 1\u001b[0;31m \u001b[0mtest_weight\u001b[0m \u001b[0;34m=\u001b[0m \u001b[0mget_weight_per_mass\u001b[0m\u001b[0;34m(\u001b[0m\u001b[0;36m1.35\u001b[0m\u001b[0;34m)\u001b[0m\u001b[0;34m\u001b[0m\u001b[0;34m\u001b[0m\u001b[0m\n\u001b[0m",
      "\u001b[0;32m<ipython-input-4-6265b02e4a72>\u001b[0m in \u001b[0;36mget_weight_per_mass\u001b[0;34m(mass_bin)\u001b[0m\n\u001b[1;32m      2\u001b[0m     \u001b[0mphasespace_centermass\u001b[0m \u001b[0;34m=\u001b[0m \u001b[0mROOT\u001b[0m\u001b[0;34m.\u001b[0m\u001b[0mTLorentzVector\u001b[0m\u001b[0;34m(\u001b[0m\u001b[0;36m0\u001b[0m\u001b[0;34m,\u001b[0m \u001b[0;36m0\u001b[0m\u001b[0;34m,\u001b[0m \u001b[0;36m0\u001b[0m\u001b[0;34m,\u001b[0m \u001b[0mmass_bin\u001b[0m\u001b[0;34m)\u001b[0m\u001b[0;34m\u001b[0m\u001b[0;34m\u001b[0m\u001b[0m\n\u001b[1;32m      3\u001b[0m     \u001b[0mphasespace_generator\u001b[0m \u001b[0;34m=\u001b[0m \u001b[0mROOT\u001b[0m\u001b[0;34m.\u001b[0m\u001b[0mTGenPhaseSpace\u001b[0m\u001b[0;34m(\u001b[0m\u001b[0;34m)\u001b[0m\u001b[0;34m\u001b[0m\u001b[0;34m\u001b[0m\u001b[0m\n\u001b[0;32m----> 4\u001b[0;31m     \u001b[0mphasespace_generator\u001b[0m\u001b[0;34m.\u001b[0m\u001b[0mSetDecay\u001b[0m\u001b[0;34m(\u001b[0m\u001b[0mphasespace_centermass\u001b[0m\u001b[0;34m,\u001b[0m \u001b[0;36m3\u001b[0m\u001b[0;34m,\u001b[0m \u001b[0;34m[\u001b[0m\u001b[0mkaon_mass\u001b[0m\u001b[0;34m,\u001b[0m \u001b[0mkshort_mass\u001b[0m\u001b[0;34m,\u001b[0m \u001b[0mpion_mass\u001b[0m\u001b[0;34m]\u001b[0m\u001b[0;34m)\u001b[0m\u001b[0;34m\u001b[0m\u001b[0;34m\u001b[0m\u001b[0m\n\u001b[0m\u001b[1;32m      5\u001b[0m \u001b[0;34m\u001b[0m\u001b[0m\n\u001b[1;32m      6\u001b[0m     \u001b[0mtotal\u001b[0m \u001b[0;34m=\u001b[0m \u001b[0;36m0\u001b[0m\u001b[0;34m\u001b[0m\u001b[0;34m\u001b[0m\u001b[0m\n",
      "\u001b[0;31mTypeError\u001b[0m: bool TGenPhaseSpace::SetDecay(TLorentzVector& P, int nt, const double* mass, const char* opt = \"\") =>\n    TypeError: could not convert argument 3 (could not convert argument to buffer or nullptr)"
     ]
    }
   ],
   "source": [
    "test_weight = get_weight_per_mass(1.35)"
   ]
  }
 ],
 "metadata": {
  "kernelspec": {
   "display_name": "Python 3",
   "language": "python",
   "name": "python3"
  },
  "language_info": {
   "codemirror_mode": {
    "name": "ipython",
    "version": 3
   },
   "file_extension": ".py",
   "mimetype": "text/x-python",
   "name": "python",
   "nbconvert_exporter": "python",
   "pygments_lexer": "ipython3",
   "version": "3.6.8"
  },
  "orig_nbformat": 4
 },
 "nbformat": 4,
 "nbformat_minor": 2
}
