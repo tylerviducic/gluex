{
 "cells": [
  {
   "cell_type": "code",
   "execution_count": 26,
   "metadata": {},
   "outputs": [],
   "source": [
    "import ROOT\n",
    "import numpy as np\n",
    "import matplotlib.pyplot as plt\n",
    "import pandas as pd\n"
   ]
  },
  {
   "cell_type": "code",
   "execution_count": 27,
   "metadata": {},
   "outputs": [],
   "source": [
    "gluex_markers = {\n",
    "    8: ROOT.kFullCircle,\n",
    "    9: ROOT.kFullSquare,\n",
    "    10: ROOT.kFullTriangleUp,\n",
    "    11: ROOT.kFullDiamond\n",
    "}\n",
    "\n",
    "theory_markers = {\n",
    "    8: ROOT.kFullDotLarge,\n",
    "    9: ROOT.kFullDotLarge,\n",
    "    10: ROOT.kOpenTriangleUp,\n",
    "    11: ROOT.kOpenDiamond\n",
    "}\n",
    "\n",
    "pipkmks_colors = {\n",
    "    8: ROOT.kBlue,\n",
    "    9: ROOT.kBlue+1,\n",
    "    10: ROOT.kBlue+2,\n",
    "    11: ROOT.kBlue+3\n",
    "}\n",
    "\n",
    "pimkpks_colors = {\n",
    "    8: ROOT.kRed,\n",
    "    9: ROOT.kRed+1,\n",
    "    10: ROOT.kRed+2,\n",
    "    11: ROOT.kRed+3\n",
    "}\n",
    "\n",
    "clas_colors = {\n",
    "    2.45: ROOT.kOrange,\n",
    "    2.55: ROOT.kOrange+1,\n",
    "    2.65: ROOT.kOrange+2,\n",
    "    2.75: ROOT.kOrange+3\n",
    "}\n",
    "\n",
    "clas_markers = {\n",
    "    2.45: ROOT.kFullDiamond,\n",
    "    2.55: ROOT.kFullSquare,\n",
    "    2.65: ROOT.kFullTriangleUp,\n",
    "    2.75: ROOT.kFullCircle\n",
    "}"
   ]
  },
  {
   "cell_type": "code",
   "execution_count": 28,
   "metadata": {},
   "outputs": [],
   "source": [
    "path_to_fit_result_files = '/work/halld/home/viducic/data/fit_params/{}/tf1_all_e_binned_t_values.csv'\n",
    "path_to_errors_file = '/work/halld/home/viducic/systematic_errors/cs_all_e_binned_t_error.csv'\n",
    "df_pipkmks = pd.read_csv(path_to_fit_result_files.format('pipkmks'))\n",
    "df_pimkpks = pd.read_csv(path_to_fit_result_files.format('pimkpks'))\n",
    "errors = pd.read_csv(path_to_errors_file)\n",
    "# print(errors.columns)\n",
    "pipkmks_errors = errors[errors['channel'] == 'pipkmks']\n",
    "pimkpks_errors = errors[errors['channel'] == 'pimkpks']"
   ]
  },
  {
   "cell_type": "code",
   "execution_count": 29,
   "metadata": {},
   "outputs": [],
   "source": [
    "df_pipkmks['t_bin_width_bars'] = df_pipkmks['t_bin_width']/2\n",
    "df_pimkpks['t_bin_width_bars'] = df_pimkpks['t_bin_width']/2"
   ]
  },
  {
   "cell_type": "code",
   "execution_count": 30,
   "metadata": {},
   "outputs": [],
   "source": [
    "pipkmks_graph = ROOT.TGraphAsymmErrors(len(df_pipkmks.t_bin_middle.to_numpy()), df_pipkmks.t_bin_middle.to_numpy(dtype='d'), df_pipkmks.cross_section.to_numpy(), df_pipkmks.t_bin_width_bars.to_numpy(), df_pipkmks.t_bin_width_bars.to_numpy(), pipkmks_errors.cs_error_down.to_numpy(), pipkmks_errors.cs_error_up.to_numpy())\n",
    "pipkmks_graph.SetName(f'pipkmks')\n",
    "pipkmks_graph.SetMarkerColor(ROOT.kBlue)\n",
    "pipkmks_graph.SetMarkerStyle(ROOT.kFullCircle)\n",
    "pipkmks_graph.SetLineColor(ROOT.kBlue)\n",
    "pipkmks_graph.SetLineWidth(2)\n",
    "pipkmks_graph.GetXaxis().SetTitle('-t [GeV^{2}]')\n",
    "pipkmks_graph.GetYaxis().SetTitle('#frac{d#sigma}{dt} [nb/GeV^{2}]')\n",
    "pipkmks_graph.SetTitle('6.5 < E_{#gamma} >11.5 GeV')"
   ]
  },
  {
   "cell_type": "code",
   "execution_count": 31,
   "metadata": {},
   "outputs": [],
   "source": [
    "pimkpks_graph = ROOT.TGraphAsymmErrors(len(df_pimkpks.t_bin_middle.to_numpy()), df_pimkpks.t_bin_middle.to_numpy(dtype='d'), df_pimkpks.cross_section.to_numpy(), df_pimkpks.t_bin_width_bars.to_numpy(), df_pimkpks.t_bin_width_bars.to_numpy(), pimkpks_errors.cs_error_down.to_numpy(), pimkpks_errors.cs_error_up.to_numpy())\n",
    "pimkpks_graph.SetName(f'pimkpks')\n",
    "pimkpks_graph.SetMarkerColor(ROOT.kRed)\n",
    "pimkpks_graph.SetMarkerStyle(ROOT.kFullCircle)\n",
    "pimkpks_graph.SetLineColor(ROOT.kRed)\n",
    "pimkpks_graph.SetLineWidth(2)\n",
    "pimkpks_graph.GetXaxis().SetTitle('-t [GeV^{2}]')\n",
    "pimkpks_graph.GetYaxis().SetTitle('#frac{d#sigma}{dt} [nb/GeV^{2}]')\n",
    "pimkpks_graph.SetTitle('6.5 < E_{#gamma} >11.5 GeV')"
   ]
  },
  {
   "cell_type": "code",
   "execution_count": 32,
   "metadata": {},
   "outputs": [
    {
     "name": "stderr",
     "output_type": "stream",
     "text": [
      "Warning in <TCanvas::Constructor>: Deleting canvas with same name: c\n"
     ]
    },
    {
     "data": {
      "image/png": "[encoded data removed]",
      "text/plain": [
       "<IPython.core.display.Image object>"
      ]
     },
     "metadata": {},
     "output_type": "display_data"
    }
   ],
   "source": [
    "c = ROOT.TCanvas('c', 'c', 1200, 700)\n",
    "\n",
    "integrated_energy_legend = ROOT.TLegend(0.7, 0.7, 0.9, 0.9)\n",
    "\n",
    "integrated_energy_legend.AddEntry(pipkmks_graph, '#pi^{+}K^{-}K_{s}', 'lp')\n",
    "integrated_energy_legend.AddEntry(pimkpks_graph, '#pi^{-}K^{+}K_{s}', 'lp')\n",
    "\n",
    "pimkpks_graph.Draw('AP')\n",
    "pipkmks_graph.Draw('P')\n",
    "integrated_energy_legend.Draw()\n",
    "c.Draw()"
   ]
  },
  {
   "cell_type": "code",
   "execution_count": 46,
   "metadata": {},
   "outputs": [],
   "source": [
    "ratio = np.where(df_pipkmks.t_bin_middle == df_pimkpks.t_bin_middle, df_pimkpks.cross_section/df_pipkmks.cross_section, 0)\n",
    "\n",
    "percent_error_up_pipkmks = pipkmks_errors.cs_error_up.to_numpy()/df_pipkmks.cross_section.to_numpy()\n",
    "percent_error_down_pipkmks = pipkmks_errors.cs_error_down.to_numpy()/df_pipkmks.cross_section.to_numpy()\n",
    "percent_error_up_pimkpks = pimkpks_errors.cs_error_up.to_numpy()/df_pimkpks.cross_section.to_numpy()\n",
    "percent_error_down_pimkpks = pimkpks_errors.cs_error_down.to_numpy()/df_pimkpks.cross_section.to_numpy()\n",
    "\n",
    "# error_up_pipkmks = pipkmks_errors.cs_error_up.to_numpy()\n",
    "# error_down_pipkmks = pipkmks_errors.cs_error_down.to_numpy()\n",
    "# error_up_pimkpks = pimkpks_errors.cs_error_up.to_numpy()\n",
    "# error_down_pimkpks = pimkpks_errors.cs_error_down.to_numpy()\n",
    "error_up = np.where(True, np.sqrt(percent_error_up_pipkmks**2 + percent_error_up_pimkpks**2), 0)\n",
    "error_down = np.where(True, np.sqrt(percent_error_down_pipkmks**2 + percent_error_down_pimkpks**2), 0)"
   ]
  },
  {
   "cell_type": "code",
   "execution_count": 47,
   "metadata": {},
   "outputs": [],
   "source": [
    "asym_graph = ROOT.TGraphAsymmErrors(len(df_pipkmks.t_bin_middle.to_numpy()), df_pipkmks.t_bin_middle.to_numpy(dtype='d'), ratio, df_pipkmks.t_bin_width_bars.to_numpy(), df_pipkmks.t_bin_width_bars.to_numpy(), error_down, error_up)"
   ]
  },
  {
   "cell_type": "code",
   "execution_count": 53,
   "metadata": {},
   "outputs": [
    {
     "name": "stdout",
     "output_type": "stream",
     "text": [
      " FCN=12.1677 FROM MIGRAD    STATUS=CONVERGED      19 CALLS          20 TOTAL\n",
      "                     EDM=5.32054e-09    STRATEGY= 1      ERROR MATRIX ACCURATE \n",
      "  EXT PARAMETER                                   STEP         FIRST   \n",
      "  NO.   NAME      VALUE            ERROR          SIZE      DERIVATIVE \n",
      "   1  p0           1.16455e+00   8.25005e-02   1.46178e-04   1.25036e-03\n"
     ]
    },
    {
     "name": "stderr",
     "output_type": "stream",
     "text": [
      "Warning in <TROOT::Append>: Replacing existing TH1: hint (Potential memory leak).\n"
     ]
    },
    {
     "data": {
      "image/png": "[encoded data removed]",
      "text/plain": [
       "<IPython.core.display.Image object>"
      ]
     },
     "metadata": {},
     "output_type": "display_data"
    }
   ],
   "source": [
    "c.Clear()\n",
    "asym_graph.SetMarkerColor(ROOT.kBlack)\n",
    "asym_graph.SetMarkerStyle(ROOT.kFullCircle)\n",
    "asym_graph.SetLineColor(ROOT.kBlack)\n",
    "asym_graph.SetLineWidth(2)\n",
    "asym_graph.GetXaxis().SetTitle('-t [GeV^{2}]')\n",
    "asym_graph.GetYaxis().SetTitle('#frac{#pi^{+}K^{-}K_{s}}{#pi^{-}K^{+}K_{s}}')\n",
    "asym_graph.SetTitle('6.5 < E_{#gamma} >11.5 GeV')\n",
    "\n",
    "func = ROOT.TF1('func', '[0]', 0, 2)\n",
    "asym_graph.Fit(func, 'S')\n",
    "# TODO: plot uncertainty on the funciton as well\n",
    "asym_graph.Draw('AP')\n",
    "\n",
    "# confidence interval\n",
    "hint = ROOT.TH1F('hint', 'hint', 1000, 0, 2)\n",
    "ROOT.TVirtualFitter.GetFitter().GetConfidenceIntervals(hint)\n",
    "hint.SetStats(0)\n",
    "hint.SetFillColorAlpha(ROOT.kBlue, 0.5)\n",
    "hint.Draw('E3 same')\n",
    "\n",
    "c.Draw()"
   ]
  }
 ],
 "metadata": {
  "kernelspec": {
   "display_name": "Python 3",
   "language": "python",
   "name": "python3"
  },
  "language_info": {
   "codemirror_mode": {
    "name": "ipython",
    "version": 3
   },
   "file_extension": ".py",
   "mimetype": "text/x-python",
   "name": "python",
   "nbconvert_exporter": "python",
   "pygments_lexer": "ipython3",
   "version": "3.6.8"
  }
 },
 "nbformat": 4,
 "nbformat_minor": 2
}
