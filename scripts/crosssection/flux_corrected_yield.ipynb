{
 "cells": [
  {
   "cell_type": "code",
   "execution_count": 1,
   "metadata": {},
   "outputs": [
    {
     "name": "stdout",
     "output_type": "stream",
     "text": [
      "Welcome to JupyROOT 6.24/04\n"
     ]
    }
   ],
   "source": [
    "import pandas as pd\n",
    "import seaborn as sns\n",
    "import matplotlib.pyplot as plt\n",
    "import numpy as np\n",
    "from common_analysis_tools import *"
   ]
  },
  {
   "cell_type": "code",
   "execution_count": 2,
   "metadata": {},
   "outputs": [],
   "source": [
    "sns.set_theme()"
   ]
  },
  {
   "cell_type": "code",
   "execution_count": 3,
   "metadata": {},
   "outputs": [],
   "source": [
    "def combine_both_channels():\n",
    "    df_pipkmks = pd.read_csv('/work/halld/home/viducic/data/fit_params/pipkmks/cross_section_values.csv')\n",
    "    df_pipkmks['channel'] = 'pipkmks'\n",
    "    df_pipkmks_acceptance = pd.read_csv('/work/halld/home/viducic/data/fit_params/pipkmks/binned_integrated_acceptance.csv')\n",
    "    df_pipkmks = df_pipkmks.merge(df_pipkmks_acceptance, on=['beam_energy', 't_bin_middle'], how='left')\n",
    "    print(df_pipkmks)\n",
    "    df_pimkpks = pd.read_csv('/work/halld/home/viducic/data/fit_params/pimkpks/cross_section_values.csv')\n",
    "    df_pimkpks['channel'] = 'pimkpks'\n",
    "    df_pimkpks_acceptance = pd.read_csv('/work/halld/home/viducic/data/fit_params/pimkpks/binned_integrated_acceptance.csv')\n",
    "    df_pimkpks = df_pimkpks.merge(df_pimkpks_acceptance, on=['beam_energy', 't_bin_middle'], how='left')\n",
    "    #t_bin_middle,t_bin_width,beam_energy\n",
    "    df = pd.concat([df_pipkmks, df_pimkpks], ignore_index=True)\n",
    "    return df"
   ]
  },
  {
   "cell_type": "code",
   "execution_count": 4,
   "metadata": {},
   "outputs": [],
   "source": [
    "def single_channel(channel):\n",
    "    binned_fit_results = f'/work/halld/home/viducic/data/fit_params/{channel}/cross_section_values.csv'\n",
    "    integrated_acceptance_results = f'/work/halld/home/viducic/data/fit_params/{channel}/binned_integrated_acceptance.csv'\n",
    "\n",
    "    df_fit = pd.read_csv(binned_fit_results)\n",
    "    df_acc = pd.read_csv(integrated_acceptance_results)\n",
    "    df = df_fit.merge(df_acc, on=['beam_energy', 't_bin_middle'], how='left')\n",
    "    df['channel'] = channel\n",
    "    return df"
   ]
  },
  {
   "cell_type": "code",
   "execution_count": 5,
   "metadata": {},
   "outputs": [],
   "source": [
    "channel = 'pipkmks'\n",
    "if channel == 'combined':\n",
    "    df = combine_both_channels()\n",
    "elif channel == 'pipkmks' or channel == 'pimkpks':\n",
    "    df = single_channel(channel)\n",
    "else:\n",
    "    \"Invalid channel. Exiting.\"\n",
    "    exit(1)\n",
    "\n"
   ]
  },
  {
   "cell_type": "code",
   "execution_count": 6,
   "metadata": {},
   "outputs": [],
   "source": [
    "df['beam_lower'] = df['beam_energy'] - 0.5\n",
    "df['beam_higher'] = df['beam_energy'] + 0.5\n",
    "df['lumi'] = df.apply(lambda row: get_luminosity_gluex_1(row['beam_lower'], row['beam_higher']), axis=1)\n",
    "\n",
    "df['flux_corrected_yield'] = df['yield'] * df['acceptance']/(df['lumi'] * df['t_bin_width'])"
   ]
  },
  {
   "cell_type": "code",
   "execution_count": 7,
   "metadata": {},
   "outputs": [
    {
     "data": {
      "image/png": "[encoded data removed]",
      "text/plain": [
       "<Figure size 459.725x360 with 1 Axes>"
      ]
     },
     "metadata": {},
     "output_type": "display_data"
    }
   ],
   "source": [
    "sns.relplot(data=df, x='t_bin_middle', y='flux_corrected_yield', hue='beam_energy', style='channel', palette='viridis')\n",
    "plt.savefig(f'/work/halld/home/viducic/plots/cross_section/{channel}_flux_corrected_yield.png')"
   ]
  }
 ],
 "metadata": {
  "kernelspec": {
   "display_name": "Python 3",
   "language": "python",
   "name": "python3"
  },
  "language_info": {
   "codemirror_mode": {
    "name": "ipython",
    "version": 3
   },
   "file_extension": ".py",
   "mimetype": "text/x-python",
   "name": "python",
   "nbconvert_exporter": "python",
   "pygments_lexer": "ipython3",
   "version": "3.6.8"
  },
  "orig_nbformat": 4
 },
 "nbformat": 4,
 "nbformat_minor": 2
}
