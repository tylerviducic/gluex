{
 "cells": [
  {
   "cell_type": "markdown",
   "metadata": {},
   "source": [
    "### These e and t bins have problematic fits and will require tuning by hand, I think\n",
    "\n",
    "#### $\\pi^+K^-$\n",
    "- E = 9, t = 6\n",
    "- E = 9, t = 7\n",
    "- E = 11, t = 2\n",
    "- E = 11, t = 5\n",
    "\n",
    "#### $\\pi^-K^+$\n",
    "- E = 11, t = 1"
   ]
  }
 ],
 "metadata": {
  "language_info": {
   "name": "python"
  }
 },
 "nbformat": 4,
 "nbformat_minor": 2
}
