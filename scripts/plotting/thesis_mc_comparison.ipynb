{
 "cells": [
  {
   "cell_type": "code",
   "execution_count": 1,
   "metadata": {},
   "outputs": [
    {
     "name": "stdout",
     "output_type": "stream",
     "text": [
      "Welcome to JupyROOT 6.24/04\n"
     ]
    }
   ],
   "source": [
    "import ROOT\n",
    "import my_library.common_analysis_tools as tools\n",
    "import my_library.kinematic_cuts as kcuts\n",
    "import my_library.constants as constants\n",
    "import os\n",
    "import my_library.gluex_style"
   ]
  },
  {
   "cell_type": "code",
   "execution_count": 2,
   "metadata": {},
   "outputs": [
    {
     "data": {
      "text/plain": [
       "18"
      ]
     },
     "execution_count": 2,
     "metadata": {},
     "output_type": "execute_result"
    }
   ],
   "source": [
    "ROOT.EnableImplicitMT()\n",
    "os.nice(18)"
   ]
  },
  {
   "cell_type": "code",
   "execution_count": 3,
   "metadata": {},
   "outputs": [],
   "source": [
    "mc_path_pipkmks = '/work/halld/home/viducic/data/pipkmks/mc/signal/pipkmks_flat_bestX2_2018_spring_loose_chi2.root'\n",
    "data_path_pipkmks = '/work/halld/home/viducic/data/pipkmks/data/bestX2/pipkmks_flat_bestX2_2018_spring_loose_chi2.root'\n",
    "\n",
    "tree_data_pipkmks = 'pipkmks__B4_M16'\n",
    "tree_mc_pipkmks = 'pipkmks__ks_pippim__B4_M16'\n",
    "\n",
    "df_data_pipkmks = ROOT.RDataFrame(tree_data_pipkmks, data_path_pipkmks)\n",
    "df_mc_pipkmks = ROOT.RDataFrame(tree_mc_pipkmks, mc_path_pipkmks)"
   ]
  },
  {
   "cell_type": "code",
   "execution_count": 4,
   "metadata": {},
   "outputs": [],
   "source": [
    "df_data_pipkmks = tools.define_pipkmks_columns(df_data_pipkmks)\n",
    "df_data_pipkmks = df_data_pipkmks.Filter(kcuts.MX2_PPIPKMKS_CUT).Filter(kcuts.KS_PATHLENGTH_CUT).Filter(kcuts.KS_MASS_CUT).Filter(kcuts.PPIP_MASS_CUT).Filter(kcuts.KMP_MASS_CUT).Filter(kcuts.KSP_MASS_CUT).Filter(kcuts.P_P_CUT)\n",
    "\n",
    "df_mc_pipkmks = tools.define_pipkmks_columns(df_mc_pipkmks)\n",
    "df_mc_pipkmks = df_mc_pipkmks.Filter(kcuts.MX2_PPIPKMKS_CUT).Filter(kcuts.KS_PATHLENGTH_CUT).Filter(kcuts.KS_MASS_CUT).Filter(kcuts.PPIP_MASS_CUT).Filter(kcuts.KMP_MASS_CUT).Filter(kcuts.KSP_MASS_CUT).Filter(kcuts.P_P_CUT)"
   ]
  },
  {
   "cell_type": "code",
   "execution_count": 5,
   "metadata": {},
   "outputs": [],
   "source": [
    "hist_chi2_data_pipkmks = df_data_pipkmks.Filter('pipkmks_m < 1.5').Filter(kcuts.KSTAR_ALL_CUT_PIPKMKS).Histo1D(('chi2', 'chi2', 100, 0, 10), 'chi2ndf')\n",
    "hist_chi2_mc_pipkmks = df_mc_pipkmks.Filter('pipkmks_m < 1.5').Filter(kcuts.KSTAR_ALL_CUT_PIPKMKS).Histo1D(('chi2', 'chi2', 100, 0, 10), 'chi2ndf')"
   ]
  },
  {
   "cell_type": "code",
   "execution_count": 6,
   "metadata": {},
   "outputs": [],
   "source": [
    "c = ROOT.TCanvas('c', 'c', 800, 600)"
   ]
  },
  {
   "cell_type": "code",
   "execution_count": 10,
   "metadata": {},
   "outputs": [
    {
     "data": {
      "image/png": "[encoded data removed]",
      "text/plain": [
       "<IPython.core.display.Image object>"
      ]
     },
     "metadata": {},
     "output_type": "display_data"
    }
   ],
   "source": [
    "hist_chi2_data_pipkmks.Scale(1/hist_chi2_data_pipkmks.Integral())\n",
    "hist_chi2_mc_pipkmks.Scale(1/hist_chi2_mc_pipkmks.Integral())\n",
    "\n",
    "hist_chi2_data_pipkmks.SetLineColor(ROOT.kRed)\n",
    "hist_chi2_data_pipkmks.SetFillColor(0)\n",
    "hist_chi2_mc_pipkmks.SetLineColor(ROOT.kBlue)\n",
    "hist_chi2_mc_pipkmks.SetFillColor(0)\n",
    "\n",
    "hist_chi2_mc_pipkmks.GetXaxis().SetTitle('#chi^{2}/ndf')\n",
    "\n",
    "hist_chi2_mc_pipkmks.Draw('hist')\n",
    "hist_chi2_data_pipkmks.Draw('hist same')\n",
    "\n",
    "legend = ROOT.TLegend(0.7, 0.7, 0.9, 0.9)\n",
    "legend.AddEntry(hist_chi2_data_pipkmks.GetPtr(), 'Data', 'lpf')\n",
    "legend.AddEntry(hist_chi2_mc_pipkmks.GetPtr(), 'Monte Carlo', 'lpf')\n",
    "legend.Draw()\n",
    "\n",
    "c.Draw()"
   ]
  }
 ],
 "metadata": {
  "kernelspec": {
   "display_name": "Python 3",
   "language": "python",
   "name": "python3"
  },
  "language_info": {
   "codemirror_mode": {
    "name": "ipython",
    "version": 3
   },
   "file_extension": ".py",
   "mimetype": "text/x-python",
   "name": "python",
   "nbconvert_exporter": "python",
   "pygments_lexer": "ipython3",
   "version": "3.6.8"
  }
 },
 "nbformat": 4,
 "nbformat_minor": 2
}
