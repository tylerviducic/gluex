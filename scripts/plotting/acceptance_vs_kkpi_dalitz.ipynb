{
 "cells": [
  {
   "cell_type": "code",
   "execution_count": 12,
   "metadata": {},
   "outputs": [],
   "source": [
    "import ROOT\n",
    "import my_library.common_analysis_tools as tools\n",
    "import my_library.kinematic_cuts as kcuts\n",
    "import my_library.constants as constants\n",
    "import pandas as pd\n",
    "import numpy as np\n",
    "import matplotlib.pyplot as plt"
   ]
  },
  {
   "cell_type": "code",
   "execution_count": 2,
   "metadata": {},
   "outputs": [],
   "source": [
    "ROOT.EnableImplicitMT()"
   ]
  },
  {
   "cell_type": "code",
   "execution_count": 3,
   "metadata": {},
   "outputs": [],
   "source": [
    "@ROOT.Numba.Declare(['float', 'float', 'float'], 'bool')\n",
    "def kk_bin(kk_cand, kk_low, kk_high):\n",
    "    return kk_low < kk_cand < kk_high"
   ]
  },
  {
   "cell_type": "code",
   "execution_count": 4,
   "metadata": {},
   "outputs": [],
   "source": [
    "channel = 'pipkmks'\n",
    "run_period = '2017'\n",
    "if channel == 'pipkmks':\n",
    "    thrown_kaon = \"KMinus\"\n",
    "    kkm = 'kmks_m'\n",
    "else:\n",
    "    thrown_kaon = \"KPlus\"\n",
    "    kkm = 'kpks_m'"
   ]
  },
  {
   "cell_type": "code",
   "execution_count": 5,
   "metadata": {},
   "outputs": [],
   "source": [
    "df_signal = tools.get_dataframe(channel, run_period, 'signal')\n",
    "df_thrown = tools.get_dataframe(channel, run_period, 'signal', thrown=True, filtered=False)\n",
    "df_thrown = df_thrown.Define('kk_px', f'{thrown_kaon}_px + Ks_px')\n",
    "df_thrown = df_thrown.Define('kk_py', f'{thrown_kaon}_py + Ks_py')\n",
    "df_thrown = df_thrown.Define('kk_pz', f'{thrown_kaon}_pz + Ks_pz')\n",
    "df_thrown = df_thrown.Define('kk_e', f'{thrown_kaon}_E + Ks_E')\n",
    "df_thrown = df_thrown.Define('kk_m', 'sqrt(kk_e * kk_e - kk_px*kk_px - kk_py*kk_py- kk_pz*kk_pz)')"
   ]
  },
  {
   "cell_type": "code",
   "execution_count": 6,
   "metadata": {},
   "outputs": [
    {
     "name": "stdout",
     "output_type": "stream",
     "text": [
      "{ \"chi2ndf\", \"p_p\", \"pip1_p\", \"pip2_p\", \"pim_p\", \"km_p\", \"p_theta\", \"pip1_theta\", \"pip2_theta\", \"pim_theta\", \"km_theta\", \"p_phi\", \"pip1_phi\", \"pip2_phi\", \"pim_phi\", \"km_phi\", \"p_pt\", \"ks_px\", \"ks_py\", \"ks_pz\", \"ks_E\", \"ks_p\", \"ks_theta\", \"ks_phi\", \"ks_m\", \"ks_px_measured\", \"ks_py_measured\", \"ks_pz_measured\", \"ks_E_measured\", \"ks_m_measured\", \"mxpx_ppipkmks\", \"mxpy_ppipkmks\", \"mxpz_ppipkmks\", \"mxe_ppipkmks\", \"mx2_ppipkmks\", \"ppip_px\", \"ppip_py\", \"ppip_pz\", \"ppip_E\", \"ppip_m\", \"missing_px\", \"missing_py\", \"missing_pz\", \"missing_E\", \"missing_m\", \"kmp_px\", \"kmp_py\", \"kmp_pz\", \"kmp_E\", \"kmp_m\", \"ksp_px\", \"ksp_py\", \"ksp_pz\", \"ksp_E\", \"ksp_m\", \"kspip_px\", \"kspip_py\", \"kspip_pz\", \"kspip_E\", \"kspip_m\", \"kmpip_px\", \"kmpip_py\", \"kmpip_pz\", \"kmpip_E\", \"kmpip_m\", \"pipkmks_px\", \"pipkmks_py\", \"pipkmks_pz\", \"pipkmks_E\", \"pipkmks_px_measured\", \"pipkmks_py_measured\", \"pipkmks_pz_measured\", \"pipkmks_pt\", \"pipkmks_p_pt_diff\", \"pipkmks_m\", \"kmks_px\", \"kmks_py\", \"kmks_pz\", \"kmks_E\", \"kmks_m\", \"e_bin\", \"t_bin\", \"run\", \"event\", \"weight\", \"numtruepid_final\", \"truepids_decay\", \"is_truetop\", \"is_truecombo\", \"is_bdtcombo\", \"rftime\", \"kin_chisq\", \"kin_ndf\", \"beam_beamid\", \"beam_isgen\", \"beam_x4_meas\", \"beam_p4_meas\", \"beam_x4_kin\", \"beam_p4_kin\", \"beam_x4_true\", \"beam_p4_true\", \"pip1_trkid\", \"pip1_x4_meas\", \"pip1_p4_meas\", \"pip1_x4_kin\", \"pip1_p4_kin\", \"pip1_true_fom\", \"pip1_x4_true\", \"pip1_p4_true\", \"pip1_pid_fom\", \"pip1_beta_time\", \"pip1_chisq_time\", \"pip1_ndf_time\", \"pip1_ndf_trk\", \"pip1_chisq_trk\", \"pip1_ndf_dedx\", \"pip1_chisq_dedx\", \"pip1_dedx_cdc\", \"pip1_dedx_fdc\", \"pip1_dedx_tof\", \"pip1_dedx_st\", \"pip1_ebcal\", \"pip1_eprebcal\", \"pip1_efcal\", \"pip1_bcal_delphi\", \"pip1_bcal_delz\", \"pip1_fcal_doca\", \"km_trkid\", \"km_x4_meas\", \"km_p4_meas\", \"km_x4_kin\", \"km_p4_kin\", \"km_true_fom\", \"km_x4_true\", \"km_p4_true\", \"km_pid_fom\", \"km_beta_time\", \"km_chisq_time\", \"km_ndf_time\", \"km_ndf_trk\", \"km_chisq_trk\", \"km_ndf_dedx\", \"km_chisq_dedx\", \"km_dedx_cdc\", \"km_dedx_fdc\", \"km_dedx_tof\", \"km_dedx_st\", \"km_ebcal\", \"km_eprebcal\", \"km_efcal\", \"km_bcal_delphi\", \"km_bcal_delz\", \"km_fcal_doca\", \"p_trkid\", \"p_x4_meas\", \"p_p4_meas\", \"p_x4_kin\", \"p_p4_kin\", \"p_true_fom\", \"p_x4_true\", \"p_p4_true\", \"p_pid_fom\", \"p_beta_time\", \"p_chisq_time\", \"p_ndf_time\", \"p_ndf_trk\", \"p_chisq_trk\", \"p_ndf_dedx\", \"p_chisq_dedx\", \"p_dedx_cdc\", \"p_dedx_fdc\", \"p_dedx_tof\", \"p_dedx_st\", \"p_ebcal\", \"p_eprebcal\", \"p_efcal\", \"p_bcal_delphi\", \"p_bcal_delz\", \"p_fcal_doca\", \"pip2_trkid\", \"pip2_x4_meas\", \"pip2_p4_meas\", \"pip2_x4_kin\", \"pip2_p4_kin\", \"pip2_true_fom\", \"pip2_x4_true\", \"pip2_p4_true\", \"pip2_pid_fom\", \"pip2_beta_time\", \"pip2_chisq_time\", \"pip2_ndf_time\", \"pip2_ndf_trk\", \"pip2_chisq_trk\", \"pip2_ndf_dedx\", \"pip2_chisq_dedx\", \"pip2_dedx_cdc\", \"pip2_dedx_fdc\", \"pip2_dedx_tof\", \"pip2_dedx_st\", \"pip2_ebcal\", \"pip2_eprebcal\", \"pip2_efcal\", \"pip2_bcal_delphi\", \"pip2_bcal_delz\", \"pip2_fcal_doca\", \"pim_trkid\", \"pim_x4_meas\", \"pim_p4_meas\", \"pim_x4_kin\", \"pim_p4_kin\", \"pim_true_fom\", \"pim_x4_true\", \"pim_p4_true\", \"pim_pid_fom\", \"pim_beta_time\", \"pim_chisq_time\", \"pim_ndf_time\", \"pim_ndf_trk\", \"pim_chisq_trk\", \"pim_ndf_dedx\", \"pim_chisq_dedx\", \"pim_dedx_cdc\", \"pim_dedx_fdc\", \"pim_dedx_tof\", \"pim_dedx_st\", \"pim_ebcal\", \"pim_eprebcal\", \"pim_efcal\", \"pim_bcal_delphi\", \"pim_bcal_delz\", \"pim_fcal_doca\", \"accidweight\", \"e_beam\", \"rf_time\", \"kinfit_cl\", \"pip1_px\", \"pip1_py\", \"pip1_pz\", \"pip1_E\", \"pip2_px\", \"pip2_py\", \"pip2_pz\", \"pip2_E\", \"pim_px\", \"pim_py\", \"pim_pz\", \"pim_E\", \"km_px\", \"km_py\", \"km_pz\", \"km_E\", \"p_px\", \"p_py\", \"p_pz\", \"p_E\", \"pip1_px_measured\", \"pip1_py_measured\", \"pip1_pz_measured\", \"pip1_E_measured\", \"pip2_px_measured\", \"pip2_py_measured\", \"pip2_pz_measured\", \"pip2_E_measured\", \"pim_px_measured\", \"pim_py_measured\", \"pim_pz_measured\", \"pim_E_measured\", \"km_px_measured\", \"km_py_measured\", \"km_pz_measured\", \"km_E_measured\", \"p_px_measured\", \"p_py_measured\", \"p_pz_measured\", \"p_E_measured\", \"pip1_px_thrown\", \"pip1_py_thrown\", \"pip1_pz_thrown\", \"pip1_E_thrown\", \"pip2_px_thrown\", \"pip2_py_thrown\", \"pip2_pz_thrown\", \"pip2_E_thrown\", \"pim_px_thrown\", \"pim_py_thrown\", \"pim_pz_thrown\", \"pim_E_thrown\", \"km_px_thrown\", \"km_py_thrown\", \"km_pz_thrown\", \"km_E_thrown\", \"ks_px_thrown\", \"ks_py_thrown\", \"ks_pz_thrown\", \"ks_E_thrown\", \"p_px_thrown\", \"p_py_thrown\", \"p_pz_thrown\", \"p_E_thrown\", \"pathlength_sig\", \"cos_colin\", \"vertex_distance\", \"mand_t\", \"w\", \"s\" }\n",
      "{ \"pipkmks_px\", \"pipkmks_py\", \"pipkmks_pz\", \"pipkmks_E\", \"pipkmks_m\", \"e_beam\", \"mand_t\", \"e_bin\", \"t_bin\", \"nParticles\", \"nThrown\", \"Beam_px\", \"Beam_py\", \"Beam_pz\", \"Beam_E\", \"Target_px\", \"Target_py\", \"Target_pz\", \"Target_E\", \"PiPlus1_px\", \"PiPlus1_py\", \"PiPlus1_pz\", \"PiPlus1_E\", \"PiPlus2_px\", \"PiPlus2_py\", \"PiPlus2_pz\", \"PiPlus2_E\", \"PiMinus_px\", \"PiMinus_py\", \"PiMinus_pz\", \"PiMinus_E\", \"KMinus_px\", \"KMinus_py\", \"KMinus_pz\", \"KMinus_E\", \"Proton_px\", \"Proton_py\", \"Proton_pz\", \"Proton_E\", \"Ks_px\", \"Ks_py\", \"Ks_pz\", \"Ks_E\", \"theta_p\", \"mom_p\", \"phi_p\", \"theta_km\", \"mom_km\", \"phi_km\", \"theta_pip1\", \"mom_pip1\", \"phi_pip1\", \"theta_pip2\", \"mom_pip2\", \"phi_pip2\", \"theta_pim\", \"mom_pim\", \"phi_pim\", \"theta_f1\", \"mom_f1\", \"phi_f1\", \"mass_f1\", \"mpippim\", \"mppip1\", \"mKsKm\", \"men_s\", \"men_t\", \"cosTheta_f1_cm\", \"phi_f1_cm\", \"cosTheta_Ks_cm\", \"phi_Ks_cm\" }\n"
     ]
    }
   ],
   "source": [
    "print(df_signal.GetColumnNames())\n",
    "print(df_thrown.GetColumnNames())"
   ]
  },
  {
   "cell_type": "code",
   "execution_count": 7,
   "metadata": {},
   "outputs": [],
   "source": [
    "bin_width = 0.005 # GeV\n",
    "kk_low, kk_high = 0.5, 1.0\n",
    "n_bins = int((kk_high - kk_low) / bin_width)\n",
    "\n",
    "m_middles = []\n",
    "effs = []\n",
    "n_recon = []\n",
    "n_thrown = []\n",
    "\n"
   ]
  },
  {
   "cell_type": "code",
   "execution_count": 8,
   "metadata": {},
   "outputs": [
    {
     "name": "stdout",
     "output_type": "stream",
     "text": [
      "0.025\n",
      "0.07500000000000001\n",
      "0.125\n",
      "0.17500000000000002\n",
      "0.225\n",
      "0.275\n",
      "0.32500000000000007\n",
      "0.37500000000000006\n",
      "0.42500000000000004\n",
      "0.47500000000000003\n",
      "0.525\n",
      "0.5750000000000001\n",
      "0.6250000000000001\n",
      "0.675\n",
      "0.7250000000000001\n",
      "0.775\n",
      "0.8250000000000001\n",
      "0.8750000000000001\n",
      "0.925\n",
      "0.9750000000000001\n",
      "1.025\n",
      "1.075\n",
      "1.125\n",
      "1.175\n",
      "1.225\n",
      "1.275\n",
      "1.325\n",
      "1.375\n",
      "1.425\n",
      "1.475\n",
      "1.525\n",
      "1.575\n",
      "1.625\n",
      "1.675\n",
      "1.725\n",
      "1.775\n",
      "1.825\n",
      "1.875\n",
      "1.925\n",
      "1.975\n",
      "2.025\n",
      "2.075\n",
      "2.125\n",
      "2.175\n",
      "2.225\n",
      "2.275\n",
      "2.325\n",
      "2.375\n",
      "2.4250000000000003\n",
      "2.475\n",
      "2.525\n",
      "2.575\n",
      "2.625\n",
      "2.6750000000000003\n",
      "2.725\n",
      "2.775\n",
      "2.825\n",
      "2.875\n",
      "2.9250000000000003\n",
      "2.975\n",
      "3.025\n",
      "3.075\n",
      "3.125\n",
      "3.1750000000000003\n",
      "3.225\n",
      "3.275\n",
      "3.325\n",
      "3.375\n",
      "3.4250000000000003\n",
      "3.475\n"
     ]
    }
   ],
   "source": [
    "cut = '{}_kk_m > {} && {}_kk_m < {}'\n",
    "for i in range(n_bins):\n",
    "    m_low = i * bin_width\n",
    "    m_high = (i + 1) * bin_width\n",
    "    m_middle = i * bin_width + bin_width / 2\n",
    "    # print(p_middle)\n",
    "    n_recon.append(df_signal.Filter(f'Numba::kk_bin({kkm}, {m_low}, {m_high})').Count())\n",
    "    n_thrown.append(df_thrown.Filter(f'Numba::kk_bin(kk_m, {m_low}, {m_high})').Count())\n",
    "\n",
    "    m_middles.append(m_middle)\n",
    "    # effs.append(acceptance)\n"
   ]
  },
  {
   "cell_type": "code",
   "execution_count": 9,
   "metadata": {},
   "outputs": [
    {
     "data": {
      "text/plain": [
       "77902610"
      ]
     },
     "execution_count": 9,
     "metadata": {},
     "output_type": "execute_result"
    }
   ],
   "source": [
    "df_signal.Count().GetValue()\n",
    "df_thrown.Count().GetValue()"
   ]
  },
  {
   "cell_type": "code",
   "execution_count": 27,
   "metadata": {},
   "outputs": [],
   "source": [
    "effs = [n_recon[i].GetValue() / n_thrown[i].GetValue() for i in range(n_bins)]\n",
    "errors = [effs[i] * np.sqrt(n_recon[i].GetValue())/n_recon[i].GetValue() if n_recon[i].GetValue() > 0 else 0 for i in range(n_bins)]"
   ]
  },
  {
   "cell_type": "code",
   "execution_count": 11,
   "metadata": {},
   "outputs": [],
   "source": [
    "df_acc = pd.DataFrame({'m_middle': np.array(m_middles), 'eff': np.array(effs)})\n",
    "df_acc.to_csv(f'acceptance_{channel}_{run_period}.csv', index=False)"
   ]
  },
  {
   "cell_type": "code",
   "execution_count": 28,
   "metadata": {},
   "outputs": [
    {
     "data": {
      "image/png": "[encoded data removed]",
      "text/plain": [
       "<Figure size 432x288 with 1 Axes>"
      ]
     },
     "metadata": {
      "needs_background": "light"
     },
     "output_type": "display_data"
    }
   ],
   "source": [
    "fig, ax = plt.subplots()\n",
    "ax.set_xlabel('$M(KK)$ [GeV]')\n",
    "ax.set_ylabel('Acceptance')\n",
    "# ax.plot(p_middles, effs)\n",
    "ax.errorbar(m_middles, effs, yerr=np.array(errors), fmt='o')\n",
    "plt.show()"
   ]
  }
 ],
 "metadata": {
  "kernelspec": {
   "display_name": "Python 3",
   "language": "python",
   "name": "python3"
  },
  "language_info": {
   "codemirror_mode": {
    "name": "ipython",
    "version": 3
   },
   "file_extension": ".py",
   "mimetype": "text/x-python",
   "name": "python",
   "nbconvert_exporter": "python",
   "pygments_lexer": "ipython3",
   "version": "3.6.8"
  }
 },
 "nbformat": 4,
 "nbformat_minor": 2
}
