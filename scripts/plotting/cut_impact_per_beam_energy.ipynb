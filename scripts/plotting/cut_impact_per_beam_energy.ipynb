{
 "cells": [
  {
   "cell_type": "markdown",
   "metadata": {},
   "source": [
    "Notebook to plot and \"graph network thingy\" the cuts for acceptance vs energy to see why the acceptance is so much different for the 7 GeV energy beam compared to the 8, 9, and 10"
   ]
  },
  {
   "cell_type": "code",
   "execution_count": 1,
   "metadata": {},
   "outputs": [
    {
     "name": "stdout",
     "output_type": "stream",
     "text": [
      "Welcome to JupyROOT 6.24/04\n"
     ]
    }
   ],
   "source": [
    "import ROOT\n",
    "import pandas as pd\n",
    "from common_analysis_tools import *\n",
    "import matplotlib.pyplot as plt\n",
    "import numpy as np\n",
    "import seaborn as sns\n",
    "import os"
   ]
  },
  {
   "cell_type": "code",
   "execution_count": 2,
   "metadata": {},
   "outputs": [],
   "source": [
    "os.nice(18)\n",
    "ROOT.EnableImplicitMT()\n",
    "\n",
    "ROOT.gStyle.SetOptStat(0)"
   ]
  },
  {
   "cell_type": "code",
   "execution_count": 3,
   "metadata": {},
   "outputs": [
    {
     "data": {
      "text/plain": [
       "True"
      ]
     },
     "execution_count": 3,
     "metadata": {},
     "output_type": "execute_result"
    }
   ],
   "source": [
    "beam_bin_filter = \"\"\"\n",
    "int get_beam_bin_index(double e_beam) {\n",
    "        return static_cast<int>(e_beam-6.5) + 1;\n",
    "}\n",
    "\"\"\"\n",
    "\n",
    "t_bin_filter = \"\"\"\n",
    "int get_t_bin_index(double t) {\n",
    "    if (t <= 0.4) {\n",
    "        return static_cast<int>(t/0.1)+1;\n",
    "    }\n",
    "    else if (t > 0.4 && t <= 0.9) {\n",
    "        return static_cast<int>((t-0.4)/0.25)+5;\n",
    "    }\n",
    "    else if (t > 0.9 && t <= 1.9) {\n",
    "        return static_cast<int>((t-0.9)/0.5)+7;\n",
    "    }\n",
    "    else {\n",
    "        return -1;\n",
    "    }\n",
    "}\n",
    "\"\"\"\n",
    "ROOT.gInterpreter.Declare(t_bin_filter)\n",
    "ROOT.gInterpreter.Declare(beam_bin_filter)\n"
   ]
  },
  {
   "cell_type": "code",
   "execution_count": 9,
   "metadata": {},
   "outputs": [],
   "source": [
    "\n",
    "def build_recon_dataframe(channel):\n",
    "    recon_file_and_tree_pipkmks_spring = get_flat_file_and_tree(f'{channel}', 'spring', 'phasespace', filtered=False)\n",
    "    recon_file_and_tree_pipkmks_fall = get_flat_file_and_tree(f'{channel}', 'fall', 'phasespace', filtered=False)\n",
    "    recon_file_and_tree_pipkmks_2017 = get_flat_file_and_tree(f'{channel}', '2017', 'phasespace', filtered=False)\n",
    "\n",
    "    df = ROOT.RDataFrame(recon_file_and_tree_pipkmks_spring[1], [recon_file_and_tree_pipkmks_spring[0], recon_file_and_tree_pipkmks_fall[0], recon_file_and_tree_pipkmks_2017[0]])\n",
    "    return df\n",
    "\n",
    "#uglyyyyyyyyy code sorry\n",
    "def define_columns(df, channel):\n",
    "    if channel == 'pipkmks':\n",
    "        return df.Define('p_pt', 'sqrt(p_px_measured*p_px_measured + p_py_measured*p_py_measured)').Define('p_p', 'sqrt(p_px*p_px + p_py*p_py + p_pz*p_pz)').Define('ks_px', \"pip2_px + pim_px\").Define('ks_py', \"pip2_py + pim_py\").Define('ks_pz', \"pip2_pz + pim_pz\").Define('ks_E', \"pip2_E + pim_E\").Define('ks_m', \"sqrt(ks_E*ks_E - ks_px*ks_px - ks_py*ks_py - ks_pz*ks_pz)\").Define('ppip_px', 'pip1_px + p_px').Define('ppip_py', 'pip1_py + p_py').Define('ppip_pz', 'pip1_pz + p_pz').Define('ppip_E', 'pip1_E + p_E').Define('ppip_m', 'sqrt(ppip_E*ppip_E - ppip_px*ppip_px - ppip_py*ppip_py - ppip_pz*ppip_pz)').Define('ks_px_measured', \"pip2_px_measured + pim_px_measured\").Define('ks_py_measured', \"pip2_py_measured + pim_py_measured\").Define('ks_pz_measured', \"pip2_pz_measured + pim_pz_measured\").Define('ks_E_measured', \"pip2_E_measured + pim_E_measured\").Define('ks_m_measured', \"sqrt(ks_E_measured*ks_E_measured - ks_px_measured*ks_px_measured - ks_py_measured*ks_py_measured - ks_pz_measured*ks_pz_measured)\").Define('mxpx_ppipkmks', '-p_px_measured - pip1_px_measured - km_px_measured - ks_px_measured').Define('mxpy_ppipkmks', '-p_py_measured - pip1_py_measured - km_py_measured - ks_py_measured').Define('mxpz_ppipkmks', 'e_beam - p_pz_measured - pip1_pz_measured - km_pz_measured - ks_pz_measured').Define('mxe_ppipkmks', 'e_beam + 0.938272088 - p_E_measured - pip1_E_measured - km_E_measured - ks_E_measured').Define('mx2_ppipkmks', 'mxe_ppipkmks*mxe_ppipkmks - mxpx_ppipkmks*mxpx_ppipkmks - mxpy_ppipkmks*mxpy_ppipkmks - mxpz_ppipkmks*mxpz_ppipkmks').Define('missing_px', '-p_px - pip1_px - ks_px - km_px').Define('missing_py', '-p_py - pip1_py - ks_py - km_py').Define('missing_pz', 'e_beam - p_pz - pip1_pz - ks_pz - km_pz').Define('missing_E', 'e_beam + 0.938 - p_E - pip1_E - ks_E - km_E').Define('kmp_px', 'p_px + km_px').Define('kmp_py', 'p_py + km_py').Define('kmp_pz', 'p_pz + km_pz').Define('kmp_E', 'p_E + km_E').Define('kmp_m', 'sqrt(kmp_E*kmp_E - kmp_px*kmp_px - kmp_py*kmp_py - kmp_pz*kmp_pz)').Define('missing_m', 'sqrt(missing_E*missing_E - missing_px*missing_px - missing_py*missing_py - missing_pz*missing_pz)').Define('kspip_px', 'pip1_px + ks_px').Define('kspip_py', 'pip1_py + ks_py').Define('kspip_pz', 'pip1_pz + ks_pz').Define('kspip_E', 'pip1_E + ks_E').Define('kspip_m', 'sqrt(kspip_E*kspip_E - kspip_px*kspip_px - kspip_py*kspip_py - kspip_pz*kspip_pz)').Define('kmpip_px', 'pip1_px + km_px').Define('kmpip_py', 'pip1_py + km_py').Define('kmpip_pz', 'pip1_pz + km_pz').Define('kmpip_E', 'pip1_E + km_E').Define('kmpip_m', 'sqrt(kmpip_E*kmpip_E - kmpip_px*kmpip_px - kmpip_py*kmpip_py - kmpip_pz*kmpip_pz)').Define('pipkmks_px', 'pip1_px + km_px + ks_px').Define('pipkmks_py', 'pip1_py + km_py + ks_py').Define('pipkmks_pz', 'pip1_pz + km_pz + ks_pz').Define('pipkmks_E', 'pip1_E + km_E + ks_E').Define('pipkmks_m', 'sqrt(pipkmks_E*pipkmks_E - pipkmks_px*pipkmks_px - pipkmks_py*pipkmks_py - pipkmks_pz*pipkmks_pz)').Define('kmks_px', 'km_px + ks_px').Define('kmks_py', 'km_py + ks_py').Define('kmks_pz', 'km_pz + ks_pz').Define('kmks_E', 'km_E + ks_E').Define('kmks_m', 'sqrt(kmks_E*kmks_E - kmks_px*kmks_px - kmks_py*kmks_py - kmks_pz*kmks_pz)').Define('e_bin', 'int(e_beam-6.5) +1').Define('t_bin', 'get_t_bin_index(mand_t)')\n",
    "    elif channel == 'pimkpks':\n",
    "        return df.Define('p_pt', 'sqrt(p_px_measured*p_px_measured + p_py_measured*p_py_measured)').Define('p_p', 'sqrt(p_px*p_px + p_py*p_py + p_pz*p_pz)').Define('ks_px', \"pim2_px + pip_px\").Define('ks_py', \"pim2_py + pip_py\").Define('ks_pz', \"pim2_pz + pip_pz\").Define('ks_E', \"pim2_E + pip_E\").Define('ks_m', \"sqrt(ks_E*ks_E - ks_px*ks_px - ks_py*ks_py - ks_pz*ks_pz)\").Define('ks_px_measured', \"pim2_px_measured + pip_px_measured\").Define('ks_py_measured', \"pim2_py_measured + pip_py_measured\").Define('ks_pz_measured', \"pim2_pz_measured + pip_pz_measured\").Define('ks_E_measured', \"pim2_E_measured + pip_E_measured\").Define('ks_m_measured', \"sqrt(ks_E_measured*ks_E_measured - ks_px_measured*ks_px_measured - ks_py_measured*ks_py_measured - ks_pz_measured*ks_pz_measured)\").Define('mxpx_ppimkpks', '-p_px_measured - pim1_px_measured - kp_px_measured - ks_px_measured').Define('mxpy_ppimkpks', '-p_py_measured - pim1_py_measured - kp_py_measured - ks_py_measured').Define('mxpz_ppimkpks', 'e_beam - p_pz_measured - pim1_pz_measured - kp_pz_measured - ks_pz_measured').Define('mxe_ppimkpks', 'e_beam + 0.938272088 - p_E_measured - pim1_E_measured - kp_E_measured - ks_E_measured').Define('mx2_ppimkpks', 'mxe_ppimkpks*mxe_ppimkpks - mxpx_ppimkpks*mxpx_ppimkpks - mxpy_ppimkpks*mxpy_ppimkpks - mxpz_ppimkpks*mxpz_ppimkpks').Define('ppim_px', 'pim1_px + p_px').Define('ppim_py', 'pim1_py + p_py').Define('ppim_pz', 'pim1_pz + p_pz').Define('ppim_E', 'pim1_E + p_E').Define('ppim_m', 'sqrt(ppim_E*ppim_E - ppim_px*ppim_px - ppim_py*ppim_py - ppim_pz*ppim_pz)').Define('missing_px', '-p_px - pim1_px - ks_px - kp_px').Define('missing_py', '-p_py - pim1_py - ks_py - kp_py').Define('missing_pz', 'e_beam - p_pz - pim1_pz - ks_pz - kp_pz').Define('missing_E', 'e_beam + 0.938 - p_E - pim1_E - ks_E - kp_E').Define('missing_m', 'sqrt(missing_E*missing_E - missing_px*missing_px - missing_py*missing_py - missing_pz*missing_pz)').Define('kpp_px', 'p_px + kp_px').Define('kpp_py', 'p_py + kp_py').Define('kpp_pz', 'p_pz + kp_pz').Define('kpp_E', 'p_E + kp_E').Define('kpp_m', 'sqrt(kpp_E*kpp_E - kpp_px*kpp_px - kpp_py*kpp_py - kpp_pz*kpp_pz)').Define('ksp_px', 'p_px + ks_px').Define('ksp_py', 'p_py + ks_py').Define('ksp_pz', 'p_pz + ks_pz').Define('ksp_E', 'p_E + ks_E').Define('ksp_m', 'sqrt(ksp_E*ksp_E - ksp_px*ksp_px - ksp_py*ksp_py - ksp_pz*ksp_pz)').Define('kspim_px', 'pim1_px + ks_px').Define('kspim_py', 'pim1_py + ks_py').Define('kspim_pz', 'pim1_pz + ks_pz').Define('kspim_E', 'pim1_E + ks_E').Define('kspim_m', 'sqrt(kspim_E*kspim_E - kspim_px*kspim_px - kspim_py*kspim_py - kspim_pz*kspim_pz)').Define('kppim_px', 'pim1_px + kp_px').Define('kppim_py', 'pim1_py + kp_py').Define('kppim_pz', 'pim1_pz + kp_pz').Define('kppim_E', 'pim1_E + kp_E').Define('kppim_m', 'sqrt(kppim_E*kppim_E - kppim_px*kppim_px - kppim_py*kppim_py - kppim_pz*kppim_pz)').Define('pimkpks_px', 'pim1_px + kp_px + ks_px').Define('pimkpks_py', 'pim1_py + kp_py + ks_py').Define('pimkpks_pz', 'pim1_pz + kp_pz + ks_pz').Define('pimkpks_E', 'pim1_E + kp_E + ks_E').Define('pimkpks_px_measured', \"pim1_px_measured + kp_px_measured + ks_px_measured\").Define('pimkpks_py_measured', \"pim1_py_measured + kp_py_measured + ks_py_measured\").Define('pimkpks_pz_measured', \"pim1_pz_measured + kp_pz_measured + ks_pz_measured\").Define('pimkpks_pt', 'sqrt(pimkpks_px_measured*pimkpks_px_measured + pimkpks_py_measured*pimkpks_py_measured)').Define('pimkpks_p_pt_diff', 'pimkpks_pt - p_pt').Define('pimkpks_m', 'sqrt(pimkpks_E*pimkpks_E - pimkpks_px*pimkpks_px - pimkpks_py*pimkpks_py - pimkpks_pz*pimkpks_pz)').Define('kpks_px', 'kp_px + ks_px').Define('kpks_py', 'kp_py + ks_py').Define('kpks_pz', 'kp_pz + ks_pz').Define('kpks_E', 'kp_E + ks_E').Define('kpks_m', 'sqrt(kpks_E*kpks_E - kpks_px*kpks_px - kpks_py*kpks_py - kpks_pz*kpks_pz)').Define('e_bin', 'get_beam_bin_index(e_beam)').Define('t_bin', 'get_t_bin_index(mand_t)').Define('ppip_px', 'p_px + pip_px').Define('ppip_py', 'p_py + pip_py').Define('ppip_pz', 'p_pz + pip_pz').Define('ppip_E', 'p_E + pip_E').Define('ppip_m', 'sqrt(ppip_E*ppip_E - ppip_px*ppip_px - ppip_py*ppip_py - ppip_pz*ppip_pz)')\n",
    "    \n",
    "def apply_filters_get_report(df, channel):\n",
    "    if channel == 'pipkmks':\n",
    "        delta_cut = PPIP_MASS_CUT\n",
    "        lambda_cut = KMP_MASS_CUT\n",
    "        missing_all_cut = MX2_PPIPKMKS_CUT\n",
    "        kstar_cut = KSTAR_ALL_CUT_PIPKMKS\n",
    "        f1_region = F1_SIGNAL_REGION_PIPKMKS\n",
    "    elif channel == 'pimkpks':\n",
    "        delta_cut = PPIM_MASS_CUT\n",
    "        lambda_cut = KSP_MASS_CUT\n",
    "        missing_all_cut = MX2_PPIMKPKS_CUT\n",
    "        kstar_cut = KSTAR_ALL_CUT_PIMKPKS\n",
    "        f1_region = F1_SIGNAL_REGION_PIMKPKS\n",
    "    \n",
    "    filtered_df = df.Filter(T_RANGE).Filter(BEAM_RANGE).Filter(f1_region).Filter(KS_PATHLENGTH_CUT, \"pathlength cut\").Filter(KS_MASS_CUT, \"ks mass cut\").Filter(P_P_CUT, \"pp cut\").Filter(delta_cut, \"delta cut\").Filter(lambda_cut, \"lambda cut\").Filter(missing_all_cut, \"missing mass all\").Filter(kstar_cut, \"kstar cut\")\n",
    "    report = filtered_df.Report()\n",
    "    return (filtered_df, report)\n",
    "\n",
    "def apply_e_bin_filters_get_report(df, channel, e):\n",
    "    if channel == 'pipkmks':\n",
    "        delta_cut = PPIP_MASS_CUT\n",
    "        lambda_cut = KMP_MASS_CUT\n",
    "        missing_all_cut = MX2_PPIPKMKS_CUT\n",
    "        kstar_cut = KSTAR_ALL_CUT_PIPKMKS\n",
    "        f1_region = F1_SIGNAL_REGION_PIPKMKS\n",
    "    elif channel == 'pimkpks':\n",
    "        delta_cut = PPIM_MASS_CUT\n",
    "        lambda_cut = KSP_MASS_CUT\n",
    "        missing_all_cut = MX2_PPIMKPKS_CUT\n",
    "        kstar_cut = KSTAR_ALL_CUT_PIMKPKS\n",
    "        f1_region = F1_SIGNAL_REGION_PIMKPKS\n",
    "\n",
    "    beam_cut = f'e_beam > {e - 0.5} && e_beam < {e + 0.5}'\n",
    "    \n",
    "    filtered_df = df.Filter(T_RANGE).Filter(beam_cut).Filter(f1_region).Filter(KS_PATHLENGTH_CUT, \"pathlength cut\").Filter(KS_MASS_CUT, \"ks mass cut\").Filter(P_P_CUT, \"pp cut\").Filter(delta_cut, \"delta cut\").Filter(lambda_cut, \"lambda cut\").Filter(missing_all_cut, \"missing mass all\").Filter(kstar_cut, \"kstar cut\")\n",
    "    report = filtered_df.Report()\n",
    "    return (filtered_df, report)\n",
    "\n",
    "\n",
    "def compare_reports(report_pipkmks, report_pimkpks):\n",
    "    cut_names = ['pathlength cut', 'ks mass cut', 'pp cut', 'delta cut', 'lambda cut', 'missing mass all', 'kstar cut']\n",
    "    for cut_name in cut_names:\n",
    "        cut_info1 = report_pipkmks.At(cut_name)\n",
    "        cut_info2 = report_pimkpks.At(cut_name)\n",
    "        print(f'Efficiency for {cut_name}: ')\n",
    "        print(f'pipkmks: {cut_info1.GetEff()} || pimkpks: {cut_info2.GetEff()}')\n",
    "        print(\"==\" * 30)\n",
    "\n",
    "def compare_binned_reports(report_7, report_8, report_9, report_10):\n",
    "    cut_names = ['pathlength cut', 'ks mass cut', 'pp cut', 'delta cut', 'lambda cut', 'missing mass all', 'kstar cut']\n",
    "    for cut_name in cut_names:\n",
    "        cut_info7 = report_7.At(cut_name)\n",
    "        cut_info8 = report_8.At(cut_name)\n",
    "        cut_info9 = report_9.At(cut_name)\n",
    "        cut_info10 = report_10.At(cut_name)\n",
    "        print(f'Efficiency for {cut_name}: ')\n",
    "        print(f'7 GeV: {cut_info7.GetEff()} || 8 GeV: {cut_info8.GetEff()} || 9 GeV: {cut_info9.GetEff()} || 10 GeV: {cut_info10.GetEff()}')\n",
    "        print(\"==\" * 50)\n",
    "\n",
    "def plot_cut_per_e_vs_kkpi(df, channel, cut):\n",
    "    if channel == 'pipkmks':\n",
    "        delta_cut = PPIP_MASS_CUT\n",
    "        lambda_cut = KMP_MASS_CUT\n",
    "        missing_all_cut = MX2_PPIPKMKS_CUT\n",
    "        kstar_cut = KSTAR_ALL_CUT_PIPKMKS\n",
    "        f1_region = F1_SIGNAL_REGION_PIPKMKS\n",
    "    elif channel == 'pimkpks':\n",
    "        delta_cut = PPIM_MASS_CUT\n",
    "        lambda_cut = KSP_MASS_CUT\n",
    "        missing_all_cut = MX2_PPIMKPKS_CUT\n",
    "        kstar_cut = KSTAR_ALL_CUT_PIMKPKS\n",
    "        f1_region = F1_SIGNAL_REGION_PIMKPKS\n",
    "\n",
    "    df = df.Filter(T_RANGE).Filter(BEAM_RANGE)\n",
    "        \n"
   ]
  },
  {
   "cell_type": "code",
   "execution_count": 5,
   "metadata": {},
   "outputs": [
    {
     "name": "stdout",
     "output_type": "stream",
     "text": [
      "filepath: /work/halld/home/viducic/data/pipkmks/mc/phasespace/mc_pipkmks_phasespace_flat_bestX2_2018_spring.root\n",
      "filepath: /work/halld/home/viducic/data/pipkmks/mc/phasespace/mc_pipkmks_phasespace_flat_bestX2_2018_fall.root\n",
      "filepath: /work/halld/home/viducic/data/pipkmks/mc/phasespace/mc_pipkmks_phasespace_flat_bestX2_2017.root\n"
     ]
    }
   ],
   "source": [
    "recon_df_pipkmks = build_recon_dataframe('pipkmks')\n",
    "recon_df_pipkmks = define_columns(recon_df_pipkmks, 'pipkmks')"
   ]
  },
  {
   "cell_type": "code",
   "execution_count": 6,
   "metadata": {},
   "outputs": [
    {
     "name": "stdout",
     "output_type": "stream",
     "text": [
      "filepath: /work/halld/home/viducic/data/pimkpks/mc/phasespace/mc_pimkpks_phasespace_flat_bestX2_2018_spring.root\n",
      "filepath: /work/halld/home/viducic/data/pimkpks/mc/phasespace/mc_pimkpks_phasespace_flat_bestX2_2018_fall.root\n",
      "filepath: /work/halld/home/viducic/data/pimkpks/mc/phasespace/mc_pimkpks_phasespace_flat_bestX2_2017.root\n"
     ]
    }
   ],
   "source": [
    "recon_df_pimkpks = build_recon_dataframe('pimkpks')\n",
    "recon_df_pimkpks = define_columns(recon_df_pimkpks, 'pimkpks')"
   ]
  },
  {
   "cell_type": "code",
   "execution_count": 7,
   "metadata": {},
   "outputs": [],
   "source": [
    "filtered_df_pipkmks, report_pipkmks = apply_filters_get_report(recon_df_pipkmks, 'pipkmks')\n",
    "filtered_df_pimkpks, report_pimkpks = apply_filters_get_report(recon_df_pimkpks, 'pimkpks')"
   ]
  },
  {
   "cell_type": "code",
   "execution_count": 8,
   "metadata": {},
   "outputs": [
    {
     "name": "stdout",
     "output_type": "stream",
     "text": [
      "Efficiency for pathlength cut: \n",
      "pipkmks: 72.31822204589844 || pimkpks: 72.39286804199219\n",
      "============================================================\n",
      "Efficiency for ks mass cut: \n",
      "pipkmks: 93.08618927001953 || pimkpks: 93.12086486816406\n",
      "============================================================\n",
      "Efficiency for pp cut: \n",
      "pipkmks: 89.7752914428711 || pimkpks: 89.77003479003906\n",
      "============================================================\n",
      "Efficiency for delta cut: \n",
      "pipkmks: 90.08384704589844 || pimkpks: 46.61662292480469\n",
      "============================================================\n",
      "Efficiency for lambda cut: \n",
      "pipkmks: 99.08928680419922 || pimkpks: 98.95333862304688\n",
      "============================================================\n",
      "Efficiency for missing mass all: \n",
      "pipkmks: 93.55191040039062 || pimkpks: 93.93113708496094\n",
      "============================================================\n",
      "Efficiency for kstar cut: \n",
      "pipkmks: 63.181217193603516 || pimkpks: 52.791839599609375\n",
      "============================================================\n"
     ]
    }
   ],
   "source": [
    "compare_reports(report_pipkmks, report_pimkpks)"
   ]
  },
  {
   "cell_type": "code",
   "execution_count": 12,
   "metadata": {},
   "outputs": [],
   "source": [
    "df_pipkmks_7, pipkmks_report_7 = apply_e_bin_filters_get_report(recon_df_pipkmks, 'pipkmks', 7)\n",
    "df_pipkmks_8, pipkmks_report_8 = apply_e_bin_filters_get_report(recon_df_pipkmks, 'pipkmks', 8)\n",
    "df_pipkmks_9, pipkmks_report_9 = apply_e_bin_filters_get_report(recon_df_pipkmks, 'pipkmks', 9)\n",
    "df_pipkmks_10, pipkmks_report_10 = apply_e_bin_filters_get_report(recon_df_pipkmks, 'pipkmks', 10)\n",
    "\n",
    "df_pimkpks_7, pimkpks_report_7 = apply_e_bin_filters_get_report(recon_df_pimkpks, 'pimkpks', 7)\n",
    "df_pimkpks_8, pimkpks_report_8 = apply_e_bin_filters_get_report(recon_df_pimkpks, 'pimkpks', 8)\n",
    "df_pimkpks_9, pimkpks_report_9 = apply_e_bin_filters_get_report(recon_df_pimkpks, 'pimkpks', 9)\n",
    "df_pimkpks_10, pimkpks_report_10 = apply_e_bin_filters_get_report(recon_df_pimkpks, 'pimkpks', 10)"
   ]
  },
  {
   "cell_type": "code",
   "execution_count": 14,
   "metadata": {},
   "outputs": [
    {
     "name": "stdout",
     "output_type": "stream",
     "text": [
      "######   PI+ K- Ks   ######\n",
      "Efficiency for pathlength cut: \n",
      "7 GeV: 69.55010223388672 || 8 GeV: 71.4935302734375 || 9 GeV: 72.70507049560547 || 10 GeV: 74.71925354003906\n",
      "============================================================\n",
      "Efficiency for ks mass cut: \n",
      "7 GeV: 92.459228515625 || 8 GeV: 93.01036834716797 || 9 GeV: 93.2718276977539 || 10 GeV: 93.21273040771484\n",
      "============================================================\n",
      "Efficiency for pp cut: \n",
      "7 GeV: 90.04171752929688 || 8 GeV: 89.70232391357422 || 9 GeV: 89.76628875732422 || 10 GeV: 89.80008697509766\n",
      "============================================================\n",
      "Efficiency for delta cut: \n",
      "7 GeV: 83.01683807373047 || 8 GeV: 88.70043182373047 || 9 GeV: 91.26625061035156 || 10 GeV: 94.08120727539062\n",
      "============================================================\n",
      "Efficiency for lambda cut: \n",
      "7 GeV: 95.468017578125 || 8 GeV: 98.89875030517578 || 9 GeV: 99.68699645996094 || 10 GeV: 99.97213745117188\n",
      "============================================================\n",
      "Efficiency for missing mass all: \n",
      "7 GeV: 95.91722106933594 || 8 GeV: 94.66194152832031 || 9 GeV: 93.5036392211914 || 10 GeV: 90.69915008544922\n",
      "============================================================\n",
      "Efficiency for kstar cut: \n",
      "7 GeV: 63.81215286254883 || 8 GeV: 63.58944320678711 || 9 GeV: 63.13996887207031 || 10 GeV: 62.225711822509766\n",
      "============================================================\n",
      "||||||   PI- K+ Ks   ||||||\n",
      "Efficiency for pathlength cut: \n",
      "7 GeV: 69.65815734863281 || 8 GeV: 71.43204498291016 || 9 GeV: 72.85680389404297 || 10 GeV: 74.8632583618164\n",
      "============================================================\n",
      "Efficiency for ks mass cut: \n",
      "7 GeV: 92.46749877929688 || 8 GeV: 92.92765808105469 || 9 GeV: 93.39139556884766 || 10 GeV: 93.32142639160156\n",
      "============================================================\n",
      "Efficiency for pp cut: \n",
      "7 GeV: 89.9317626953125 || 8 GeV: 89.67046356201172 || 9 GeV: 89.78070068359375 || 10 GeV: 89.85765075683594\n",
      "============================================================\n",
      "Efficiency for delta cut: \n",
      "7 GeV: 30.60211181640625 || 8 GeV: 42.24080276489258 || 9 GeV: 49.122928619384766 || 10 GeV: 58.05137634277344\n",
      "============================================================\n",
      "Efficiency for lambda cut: \n",
      "7 GeV: 93.15959167480469 || 8 GeV: 98.61343383789062 || 9 GeV: 99.5760269165039 || 10 GeV: 99.95955657958984\n",
      "============================================================\n",
      "Efficiency for missing mass all: \n",
      "7 GeV: 96.21441650390625 || 8 GeV: 95.24749755859375 || 9 GeV: 94.09129333496094 || 10 GeV: 91.39735412597656\n",
      "============================================================\n",
      "Efficiency for kstar cut: \n",
      "7 GeV: 46.45699691772461 || 8 GeV: 51.43353271484375 || 9 GeV: 53.450721740722656 || 10 GeV: 55.25067901611328\n",
      "============================================================\n"
     ]
    }
   ],
   "source": [
    "print('######   PI+ K- Ks   ######')\n",
    "compare_binned_reports(pipkmks_report_7, pipkmks_report_8, pipkmks_report_9, pipkmks_report_10)\n",
    "print('###########################')\n",
    "print('###########################\\n')\n",
    "print('||||||   PI- K+ Ks   ||||||')\n",
    "compare_binned_reports(pimkpks_report_7, pimkpks_report_8, pimkpks_report_9, pimkpks_report_10)"
   ]
  }
 ],
 "metadata": {
  "kernelspec": {
   "display_name": "Python 3",
   "language": "python",
   "name": "python3"
  },
  "language_info": {
   "codemirror_mode": {
    "name": "ipython",
    "version": 3
   },
   "file_extension": ".py",
   "mimetype": "text/x-python",
   "name": "python",
   "nbconvert_exporter": "python",
   "pygments_lexer": "ipython3",
   "version": "3.6.8"
  },
  "orig_nbformat": 4
 },
 "nbformat": 4,
 "nbformat_minor": 2
}
