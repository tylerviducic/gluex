{
 "cells": [
  {
   "cell_type": "code",
   "execution_count": 1,
   "metadata": {},
   "outputs": [
    {
     "name": "stdout",
     "output_type": "stream",
     "text": [
      "Welcome to JupyROOT 6.24/04\n"
     ]
    }
   ],
   "source": [
    "import ROOT\n",
    "import numpy as np\n",
    "import pandas as pd\n",
    "import my_library.gluex_style as gs"
   ]
  },
  {
   "cell_type": "code",
   "execution_count": 2,
   "metadata": {},
   "outputs": [],
   "source": [
    "gluex_colors = {\n",
    "    8: ROOT.kRed+1,\n",
    "    9: ROOT.kBlue+1,\n",
    "    10: ROOT.kMagenta+2,\n",
    "    11: ROOT.kCyan+3\n",
    "}\n",
    "\n",
    "theory_colors = {\n",
    "    8: ROOT.kRed-6,\n",
    "    9: ROOT.kBlue-6,\n",
    "    10: ROOT.kMagenta-6,\n",
    "    11: ROOT.kCyan-6\n",
    "}\n",
    "\n",
    "clas_colors = {\n",
    "    2.45: ROOT.kRed+3,\n",
    "    2.55: ROOT.kBlue+3,\n",
    "    2.65: ROOT.kMagenta+3,\n",
    "    2.75: ROOT.kCyan+4,\n",
    "}\n",
    "\n",
    "gluex_markers = {\n",
    "    8: ROOT.kFullCircle,\n",
    "    9: ROOT.kFullSquare,\n",
    "    10: ROOT.kFullTriangleUp,\n",
    "    11: ROOT.kFullDiamond\n",
    "}\n",
    "\n",
    "clas_markers = {\n",
    "    2.45: ROOT.kOpenDiamond,\n",
    "    2.55: ROOT.kOpenSquare,\n",
    "    2.65: ROOT.kOpenTriangleUp,\n",
    "    2.75: ROOT.kOpenCircle\n",
    "}\n",
    "\n",
    "theory_markers = {\n",
    "    8: ROOT.kFullDotLarge,\n",
    "    9: ROOT.kFullDotLarge,\n",
    "    10: ROOT.kOpenTriangleUp,\n",
    "    11: ROOT.kOpenDiamond\n",
    "}"
   ]
  },
  {
   "cell_type": "code",
   "execution_count": 3,
   "metadata": {},
   "outputs": [],
   "source": [
    "binned_fit_results_filename = f'/work/halld/home/viducic/data/fit_params/pipkmks/cross_section_values.csv'\n",
    "\n",
    "df = pd.read_csv(binned_fit_results_filename)\n",
    "df = df[df.beam_energy > 7]"
   ]
  },
  {
   "cell_type": "code",
   "execution_count": 4,
   "metadata": {},
   "outputs": [],
   "source": [
    "clas_filename = '/work/halld/home/viducic/scripts/plotting/dnp_maui/clas_data.csv'\n",
    "clas_df = pd.read_csv(clas_filename)\n",
    "for complex_col in [\"t\", \"dsigma_dt\", \"clas_error\", \"error_t\"]:\n",
    "    clas_df[complex_col] = clas_df[complex_col].apply(lambda x: x[1:-5])\n",
    "for col in clas_df.columns:\n",
    "    clas_df[col] = clas_df[col].astype('Float64')\n",
    "# clas_df['error_t'] = clas_df['clas_error'].apply(lambda x: abs(x))\n",
    "clas_df = clas_df[clas_df['t'] < 1.9]\n",
    "clas_df = clas_df[clas_df['w'] >= 2.45]\n",
    "clas_300 = clas_df[(clas_df['w'] == 2.55)]\n",
    "clas_325 = clas_df[(clas_df['w'] == 2.65)]\n",
    "clas_350 = clas_df[(clas_df['w'] == 2.75)]"
   ]
  },
  {
   "cell_type": "code",
   "execution_count": 5,
   "metadata": {},
   "outputs": [
    {
     "name": "stdout",
     "output_type": "stream",
     "text": [
      "|    |   Unnamed: 0 |    w |   cosThetaCM |   e_gam |        t |   dsigma_domega |   dsigma_dt |   clas_error |   error_t |\n",
      "|---:|-------------:|-----:|-------------:|--------:|---------:|----------------:|------------:|-------------:|----------:|\n",
      "| 10 |           10 | 2.45 |        -0.5  | 2.72957 | 1.77135  |            6.42 |    40.2072  |     1.22674  |   7.68286 |\n",
      "| 11 |           11 | 2.45 |        -0.3  | 2.72957 | 1.55831  |            6.39 |    40.0193  |     1.46263  |   9.1602  |\n",
      "| 12 |           12 | 2.45 |        -0.1  | 2.72957 | 1.34528  |            5.73 |    35.8859  |     0.890449 |   5.57671 |\n",
      "| 13 |           13 | 2.45 |         0.1  | 2.72957 | 1.13224  |            7.29 |    45.6559  |     1.16276  |   7.28211 |\n",
      "| 14 |           14 | 2.45 |         0.3  | 2.72957 | 0.9192   |            8.1  |    50.7287  |     2.04978  |  12.8374  |\n",
      "| 15 |           15 | 2.45 |         0.5  | 2.72957 | 0.706161 |            6.58 |    41.2093  |     1.31529  |   8.23744 |\n",
      "| 16 |           16 | 2.45 |         0.7  | 2.72957 | 0.493123 |            6.68 |    41.8355  |     1.56544  |   9.80404 |\n",
      "| 17 |           17 | 2.45 |         0.85 | 2.72957 | 0.333344 |            2.16 |    14.4178  |     1.08171  |   7.22031 |\n",
      "| 21 |           21 | 2.55 |        -0.1  | 2.99602 | 1.62949  |            5.37 |    26.1709  |     1.51921  |   7.40393 |\n",
      "| 22 |           22 | 2.55 |         0.1  | 2.99602 | 1.35671  |            6.57 |    32.0192  |     1.20017  |   5.84906 |\n",
      "| 23 |           23 | 2.55 |         0.3  | 2.99602 | 1.08393  |            6.7  |    32.6527  |     1.19867  |   5.84175 |\n",
      "| 24 |           24 | 2.55 |         0.5  | 2.99602 | 0.811154 |           12.12 |    59.0673  |     1.27613  |   6.21926 |\n",
      "| 25 |           25 | 2.55 |         0.7  | 2.99602 | 0.538374 |            9.7  |    47.2733  |     2.85608  |  13.9192  |\n",
      "| 26 |           26 | 2.55 |         0.85 | 2.99602 | 0.333789 |            7.95 |    41.1261  |     1.828    |   9.45644 |\n",
      "| 31 |           31 | 2.65 |         0.1  | 3.27312 | 1.59128  |            3.03 |    12.1339  |     0.885438 |   3.54582 |\n",
      "| 32 |           32 | 2.65 |         0.3  | 3.27312 | 1.25991  |            4.26 |    17.0596  |     0.961509 |   3.85045 |\n",
      "| 33 |           33 | 2.65 |         0.5  | 3.27312 | 0.928546 |            8.4  |    33.6386  |     0.989798 |   3.96374 |\n",
      "| 34 |           34 | 2.65 |         0.7  | 3.27312 | 0.597177 |            9.81 |    39.285   |     1.75602  |   7.03213 |\n",
      "| 35 |           35 | 2.65 |         0.85 | 3.27312 | 0.34865  |            0.5  |     2.12105 |     2.62366  |  11.1299  |\n",
      "| 40 |           40 | 2.75 |         0.1  | 3.56089 | 1.83535  |            1.95 |     6.62578 |     0.47927  |   1.62848 |\n",
      "| 41 |           41 | 2.75 |         0.3  | 3.56089 | 1.44521  |            4.01 |    13.6253  |     0.480208 |   1.63167 |\n",
      "| 42 |           42 | 2.75 |         0.5  | 3.56089 | 1.05507  |            5.15 |    17.4989  |     1.09659  |   3.72602 |\n",
      "| 43 |           43 | 2.75 |         0.7  | 3.56089 | 0.664933 |            9.26 |    31.464   |     2.03037  |   6.89887 |\n",
      "| 44 |           44 | 2.75 |         0.85 | 3.56089 | 0.37233  |            5.73 |    20.6006  |     1.76867  |   6.35876 |\n"
     ]
    }
   ],
   "source": [
    "print(clas_df.to_markdown())"
   ]
  },
  {
   "cell_type": "code",
   "execution_count": 6,
   "metadata": {},
   "outputs": [
    {
     "name": "stdout",
     "output_type": "stream",
     "text": [
      "Index(['mean', 'mean_error', 'width', 'width_error', 'chi2ndf', 'ks_test',\n",
      "       'yield', 'yield_error', 'acceptance', 'acceptance_error',\n",
      "       'cross_section', 'cross_section_error', 't_bin_middle', 't_bin_width',\n",
      "       'beam_energy'],\n",
      "      dtype='object')\n"
     ]
    }
   ],
   "source": [
    "print(df.columns)"
   ]
  },
  {
   "cell_type": "code",
   "execution_count": 7,
   "metadata": {},
   "outputs": [],
   "source": [
    "grouped = df.groupby('beam_energy')\n",
    "clas_grouped = clas_df.groupby('w')"
   ]
  },
  {
   "cell_type": "code",
   "execution_count": 8,
   "metadata": {},
   "outputs": [],
   "source": [
    "graphs = []\n",
    "legend = ROOT.TLegend(0.6, 0.6, 0.9, 0.9)\n",
    "comparison_legend = ROOT.TLegend(0.6, 0.6, 0.9, 0.9)\n",
    "for beam_energy, group in grouped:\n",
    "    if beam_energy > 9:\n",
    "        continue\n",
    "    graph = ROOT.TGraphErrors(len(group.t_bin_middle.to_numpy()), group.t_bin_middle.to_numpy(dtype='d'), group.cross_section.to_numpy(), group.t_bin_width.to_numpy(), group.cross_section_error.to_numpy())\n",
    "    graph.SetName(f'graph_{beam_energy}')\n",
    "    graph.SetMarkerColor(gluex_colors[beam_energy])\n",
    "    graph.SetMarkerStyle(gluex_markers[beam_energy])\n",
    "    if beam_energy == 11 or beam_energy == 8:\n",
    "        graph.SetMarkerSize(1.4)\n",
    "    else:\n",
    "        graph.SetMarkerSize(1.1)\n",
    "    graph.SetLineColor(gluex_colors[beam_energy])\n",
    "    graph.SetLineWidth(2)\n",
    "    graph.GetXaxis().SetTitle('-t [GeV^{2}]')\n",
    "    graph.GetYaxis().SetTitle('#frac{d#sigma}{dt} [nb/GeV^{2}]')\n",
    "    graph.GetYaxis().SetTitleSize(0.05)\n",
    "    graph.GetXaxis().SetTitleSize(0.05)\n",
    "    graph.GetYaxis().SetTitleOffset(0.9)\n",
    "    graph.GetXaxis().SetTitleOffset(0.9)\n",
    "    legend.AddEntry(graph, 'E_{#gamma} = ' + f'{beam_energy} GeV', 'lfp')\n",
    "    comparison_legend.AddEntry(graph, 'E_{#gamma} = ' + f'{beam_energy} GeV', 'lfp')\n",
    "    graphs.append(graph)"
   ]
  },
  {
   "cell_type": "code",
   "execution_count": 9,
   "metadata": {},
   "outputs": [],
   "source": [
    "clas_graphs = []\n",
    "for w, group in clas_grouped:\n",
    "    clas_graph = ROOT.TGraphErrors(len(group.t.to_numpy()), group.t.to_numpy(), group.dsigma_dt.to_numpy(), np.zeros(len(group.t.to_numpy())), group.error_t.to_numpy())\n",
    "    clas_graph.SetName(f'clas_graph_{w}')\n",
    "    clas_graph.SetMarkerColor(clas_colors[w])\n",
    "    clas_graph.SetMarkerStyle(clas_markers[w])\n",
    "    clas_graph.SetLineColor(clas_colors[w])\n",
    "    clas_graph.SetLineWidth(2)\n",
    "    clas_graph.GetXaxis().SetTitle('-t [GeV^{2}]')\n",
    "    clas_graph.GetYaxis().SetTitle('#frac{d#sigma}{dt} [nb/GeV^{2}]')\n",
    "    clas_graph.GetYaxis().SetTitleSize(0.05)\n",
    "    clas_graph.GetXaxis().SetTitleSize(0.05)\n",
    "    clas_graph.GetYaxis().SetTitleOffset(0.9)\n",
    "    clas_graph.GetXaxis().SetTitleOffset(0.9)\n",
    "    comparison_legend.AddEntry(clas_graph, 'E_{#gamma} = ' + '{:.2f} GeV'.format(group['e_gam'].values[0]), 'lfp')\n",
    "    clas_graphs.append(clas_graph)"
   ]
  },
  {
   "cell_type": "code",
   "execution_count": 10,
   "metadata": {},
   "outputs": [],
   "source": [
    "theory_graphs = []\n",
    "\n",
    "for beam in [8, 9, 10, 11]:\n",
    "    theory_filename = '/work/halld/home/viducic/theory_predictions/t-slope-{}GeVnew.dat'\n",
    "    theory_df = pd.read_csv(theory_filename.format(beam), delim_whitespace=True)\n",
    "    theory_df.columns = ['t', 'diff_cs']\n",
    "    theory_df = theory_df.loc[(theory_df['t'] > 0.35) & (theory_df['t'] < 1.9)]\n",
    "    theory_graph = ROOT.TGraph(len(theory_df.t.to_numpy()), theory_df.t.to_numpy(), theory_df.diff_cs.to_numpy())\n",
    "    theory_graph.SetName(f'theory_graph_{beam}')\n",
    "    theory_graph.SetMarkerColor(theory_colors[beam])\n",
    "    theory_graph.SetMarkerStyle(theory_markers[beam])\n",
    "    theory_graph.SetMarkerSize(1.0)\n",
    "    theory_graphs.append(theory_graph)\n",
    "\n",
    "\n",
    "theory_filename = '/work/halld/home/viducic/theory_predictions/t-slope-{}GeVnew.dat'\n",
    "theory_df = pd.read_csv(theory_filename.format(beam), delim_whitespace=True)\n",
    "theory_df.columns = ['t', 'diff_cs']\n",
    "theory_df = theory_df.loc[(theory_df['t'] > 0.1) & (theory_df['t'] < 1.9)]"
   ]
  },
  {
   "cell_type": "code",
   "execution_count": 11,
   "metadata": {},
   "outputs": [
    {
     "data": {
      "image/png": "[encoded data removed]",
      "text/plain": [
       "<IPython.core.display.Image object>"
      ]
     },
     "metadata": {},
     "output_type": "display_data"
    }
   ],
   "source": [
    "c = ROOT.TCanvas()\n",
    "# c.SetLogy()\n",
    "\n",
    "graphs[0].Draw('AP')\n",
    "graphs[0].GetYaxis().SetRangeUser(2, 150)\n",
    "for graph in graphs[1:]:\n",
    "    graph.Draw('P')\n",
    "legend.Draw()\n",
    "c.Draw()"
   ]
  },
  {
   "cell_type": "code",
   "execution_count": 12,
   "metadata": {},
   "outputs": [
    {
     "data": {
      "image/png": "[encoded data removed]",
      "text/plain": [
       "<IPython.core.display.Image object>"
      ]
     },
     "metadata": {},
     "output_type": "display_data"
    }
   ],
   "source": [
    "c.Clear()\n",
    "# c.SetLogy()\n",
    "\n",
    "graphs[0].Draw('AP')\n",
    "graphs[0].GetYaxis().SetRangeUser(2, 150)\n",
    "graphs[1].Draw('P')\n",
    "clas_graphs[-1].Draw('P')\n",
    "clas_graphs[-2].Draw('P')\n",
    "clas_graphs[-3].Draw('P')\n",
    "clas_graphs[-4].Draw('P')\n",
    "comparison_legend.Draw()\n",
    "c.Draw()"
   ]
  },
  {
   "cell_type": "code",
   "execution_count": 19,
   "metadata": {},
   "outputs": [
    {
     "data": {
      "image/png": "[encoded data removed]",
      "text/plain": [
       "<IPython.core.display.Image object>"
      ]
     },
     "metadata": {},
     "output_type": "display_data"
    }
   ],
   "source": [
    "c.Clear()\n",
    "c.SetLogy()\n",
    "\n",
    "result_legend = ROOT.TLegend(0.7, 0.8, 0.95, 0.95)\n",
    "result_legend.AddEntry(graphs[0], 'E_{#gamma} = 8 GeV', 'lfp')\n",
    "result_legend.AddEntry(graphs[1], 'E_{#gamma} = 9 GeV', 'lfp')\n",
    "# result_legend.AddEntry(clas_graphs[0], ' CLAS - E_{#gamma} = 2.72 GeV', 'lfp')\n",
    "# result_legend.AddEntry(clas_graphs[1], ' CLAS - E_{#gamma} = 3.0 GeV', 'lfp')\n",
    "# result_legend.AddEntry(clas_graphs[2], ' CLAS - E_{#gamma} = 3.27 GeV', 'lfp')\n",
    "# result_legend.AddEntry(clas_graphs[3], ' CLAS - E_{#gamma} = 3.56 GeV', 'lfp')\n",
    "# result_legend.AddEntry(theory_graphs[0], 'Theory - E_{#gamma} = 8 GeV', 'lfp')\n",
    "# result_legend.AddEntry(theory_graphs[1], 'Theory - E_{#gamma} = 9 GeV', 'lfp')\n",
    "\n",
    "theory_graphs[1].GetXaxis().SetTitle('-t [GeV^{2}]')\n",
    "theory_graphs[1].GetYaxis().SetTitle('#frac{d#sigma}{dt} [nb/GeV^{2}]')\n",
    "theory_graphs[1].GetYaxis().SetTitleSize(0.05)\n",
    "theory_graphs[1].GetXaxis().SetTitleSize(0.05)\n",
    "theory_graphs[1].GetYaxis().SetTitleOffset(0.9)\n",
    "theory_graphs[1].GetXaxis().SetTitleOffset(0.9)\n",
    "theory_graphs[1].SetLineColor(ROOT.kBlue)\n",
    "theory_graphs[1].SetLineWidth(5)\n",
    "theory_graphs[0].SetLineColor(ROOT.kRed)\n",
    "theory_graphs[0].SetLineWidth(5)\n",
    "\n",
    "graphs[0].GetYaxis().SetRangeUser(2.0, 1000)\n",
    "\n",
    "graphs[0].Draw('AP')\n",
    "graphs[1].Draw('P')\n",
    "theory_graphs[1].Draw('L')\n",
    "theory_graphs[0].Draw('L')\n",
    "# clas_graphs[0].Draw('P')\n",
    "# clas_graphs[1].Draw('P')\n",
    "# clas_graphs[2].Draw('P')\n",
    "# clas_graphs[3].Draw('P')\n",
    "result_legend.Draw()\n",
    "c.Draw()\n"
   ]
  },
  {
   "cell_type": "code",
   "execution_count": 14,
   "metadata": {},
   "outputs": [],
   "source": [
    "# TODO: fit for slopes quickly"
   ]
  }
 ],
 "metadata": {
  "kernelspec": {
   "display_name": "Python 3",
   "language": "python",
   "name": "python3"
  },
  "language_info": {
   "codemirror_mode": {
    "name": "ipython",
    "version": 3
   },
   "file_extension": ".py",
   "mimetype": "text/x-python",
   "name": "python",
   "nbconvert_exporter": "python",
   "pygments_lexer": "ipython3",
   "version": "3.6.8"
  }
 },
 "nbformat": 4,
 "nbformat_minor": 2
}
