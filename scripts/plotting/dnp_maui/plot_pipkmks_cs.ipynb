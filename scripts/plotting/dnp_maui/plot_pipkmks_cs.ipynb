{
 "cells": [
  {
   "cell_type": "code",
   "execution_count": 2,
   "metadata": {},
   "outputs": [
    {
     "name": "stdout",
     "output_type": "stream",
     "text": [
      "Welcome to JupyROOT 6.24/04\n"
     ]
    }
   ],
   "source": [
    "import ROOT\n",
    "import numpy as np\n",
    "import pandas as pd\n",
    "import my_library.gluex_style as gs"
   ]
  },
  {
   "cell_type": "code",
   "execution_count": 51,
   "metadata": {},
   "outputs": [],
   "source": [
    "colors = {\n",
    "    8: ROOT.kRed,\n",
    "    9: ROOT.kBlue,\n",
    "    10: ROOT.kMagenta,\n",
    "    11: ROOT.kGreen,\n",
    "}"
   ]
  },
  {
   "cell_type": "code",
   "execution_count": 52,
   "metadata": {},
   "outputs": [],
   "source": [
    "binned_fit_results_filename = f'/work/halld/home/viducic/data/fit_params/pipkmks/cross_section_values.csv'\n",
    "\n",
    "df = pd.read_csv(binned_fit_results_filename)\n",
    "df = df[df.beam_energy > 7]"
   ]
  },
  {
   "cell_type": "code",
   "execution_count": 53,
   "metadata": {},
   "outputs": [
    {
     "name": "stdout",
     "output_type": "stream",
     "text": [
      "Index(['mean', 'mean_error', 'width', 'width_error', 'chi2ndf', 'ks_test',\n",
      "       'yield', 'yield_error', 'acceptance', 'acceptance_error',\n",
      "       'cross_section', 'cross_section_error', 't_bin_middle', 't_bin_width',\n",
      "       'beam_energy'],\n",
      "      dtype='object')\n"
     ]
    }
   ],
   "source": [
    "print(df.columns)"
   ]
  },
  {
   "cell_type": "code",
   "execution_count": 54,
   "metadata": {},
   "outputs": [],
   "source": [
    "grouped = df.groupby('beam_energy')"
   ]
  },
  {
   "cell_type": "code",
   "execution_count": 55,
   "metadata": {},
   "outputs": [
    {
     "name": "stdout",
     "output_type": "stream",
     "text": [
      "8\n",
      "9\n",
      "10\n",
      "11\n"
     ]
    }
   ],
   "source": [
    "graphs = []\n",
    "for beam_energy, group in grouped:\n",
    "    print(beam_energy)\n",
    "    graph = ROOT.TGraphErrors(len(group.t_bin_middle.to_numpy()), group.t_bin_middle.to_numpy(dtype='d'), group.cross_section.to_numpy(), group.t_bin_width.to_numpy(), group.cross_section_error.to_numpy())\n",
    "    graph.SetName(f'graph_{beam_energy}')\n",
    "    graph.SetMarkerColor(colors[beam_energy])\n",
    "    graph.SetMarkerStyle(20)\n",
    "    graph.SetMarkerSize(1.5)\n",
    "    graphs.append(graph)"
   ]
  },
  {
   "cell_type": "code",
   "execution_count": 57,
   "metadata": {},
   "outputs": [
    {
     "data": {
      "image/png": "[encoded data removed]",
      "text/plain": [
       "<IPython.core.display.Image object>"
      ]
     },
     "metadata": {},
     "output_type": "display_data"
    }
   ],
   "source": [
    "c = ROOT.TCanvas()\n",
    "for graph in graphs:\n",
    "    graph.Draw('AP')\n",
    "    graph.GetXaxis().SetTitle('t [GeV^{2}]')\n",
    "    graph.GetYaxis().SetTitle('#frac{d#sigma}{dt} [nb/GeV^{2}]')\n",
    "    c.Draw()\n",
    "    # c.SaveAs(f'/work/halld/home/viducic/plots/pipkmks/cross_section_values/{graph.GetName()}.pdf')"
   ]
  }
 ],
 "metadata": {
  "kernelspec": {
   "display_name": "Python 3",
   "language": "python",
   "name": "python3"
  },
  "language_info": {
   "codemirror_mode": {
    "name": "ipython",
    "version": 3
   },
   "file_extension": ".py",
   "mimetype": "text/x-python",
   "name": "python",
   "nbconvert_exporter": "python",
   "pygments_lexer": "ipython3",
   "version": "3.6.8"
  }
 },
 "nbformat": 4,
 "nbformat_minor": 2
}
