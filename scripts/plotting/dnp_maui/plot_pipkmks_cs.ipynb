{
 "cells": [
  {
   "cell_type": "code",
   "execution_count": 1,
   "metadata": {},
   "outputs": [
    {
     "name": "stdout",
     "output_type": "stream",
     "text": [
      "Welcome to JupyROOT 6.24/04\n"
     ]
    }
   ],
   "source": [
    "import ROOT\n",
    "import numpy as np\n",
    "import pandas as pd"
   ]
  },
  {
   "cell_type": "code",
   "execution_count": 5,
   "metadata": {},
   "outputs": [],
   "source": [
    "binned_fit_results_filename = f'/work/halld/home/viducic/data/fit_params/pipkmks/cross_section_values.csv'\n",
    "\n",
    "rdf = ROOT.RDF.MakeCsvDataFrame(binned_fit_results_filename)"
   ]
  },
  {
   "cell_type": "code",
   "execution_count": 6,
   "metadata": {},
   "outputs": [
    {
     "name": "stdout",
     "output_type": "stream",
     "text": [
      "{ \"mean\", \"mean_error\", \"width\", \"width_error\", \"chi2ndf\", \"ks_test\", \"yield\", \"yield_error\", \"acceptance\", \"acceptance_error\", \"cross_section\", \"cross_section_error\", \"t_bin_middle\", \"t_bin_width\", \"beam_energy\" }\n"
     ]
    }
   ],
   "source": [
    "print(rdf.GetColumnNames())"
   ]
  },
  {
   "cell_type": "code",
   "execution_count": null,
   "metadata": {},
   "outputs": [],
   "source": [
    "# TODO: plot for different beam energies "
   ]
  }
 ],
 "metadata": {
  "kernelspec": {
   "display_name": "Python 3",
   "language": "python",
   "name": "python3"
  },
  "language_info": {
   "codemirror_mode": {
    "name": "ipython",
    "version": 3
   },
   "file_extension": ".py",
   "mimetype": "text/x-python",
   "name": "python",
   "nbconvert_exporter": "python",
   "pygments_lexer": "ipython3",
   "version": "3.6.8"
  }
 },
 "nbformat": 4,
 "nbformat_minor": 2
}
