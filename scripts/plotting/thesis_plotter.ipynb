{
 "cells": [
  {
   "cell_type": "markdown",
   "metadata": {},
   "source": [
    "# Thesis Plotter"
   ]
  },
  {
   "cell_type": "markdown",
   "metadata": {},
   "source": [
    "## Imports and Methods"
   ]
  },
  {
   "cell_type": "code",
   "execution_count": 1,
   "metadata": {},
   "outputs": [
    {
     "name": "stdout",
     "output_type": "stream",
     "text": [
      "Welcome to JupyROOT 6.24/04\n"
     ]
    }
   ],
   "source": [
    "import ROOT\n",
    "import my_library.common_analysis_tools as tools\n",
    "import my_library.kinematic_cuts as cuts\n",
    "import my_library.constants as constants\n",
    "import my_library.gluex_style as gxs\n",
    "import numpy as np\n",
    "import pandas as pd\n",
    "import os"
   ]
  },
  {
   "cell_type": "code",
   "execution_count": 2,
   "metadata": {},
   "outputs": [],
   "source": [
    "def title_hists(hist: list, xtitle, ytitle, yoffset=None):\n",
    "    for hist in hist:\n",
    "        hist.GetXaxis().SetTitle(xtitle)\n",
    "        hist.GetYaxis().SetTitle(ytitle)\n",
    "        if yoffset:\n",
    "            hist.GetYaxis().SetTitleOffset(yoffset)\n",
    "\n",
    "    "
   ]
  },
  {
   "cell_type": "markdown",
   "metadata": {},
   "source": [
    "# Make Plots for My Thesis "
   ]
  },
  {
   "cell_type": "markdown",
   "metadata": {},
   "source": [
    "## Luminosity table in latex form"
   ]
  },
  {
   "cell_type": "code",
   "execution_count": 3,
   "metadata": {},
   "outputs": [
    {
     "name": "stdout",
     "output_type": "stream",
     "text": [
      "7 & 42.73 \\\\ \\hline\n",
      "8 & 141.07 \\\\ \\hline\n",
      "9 & 112.30 \\\\ \\hline\n",
      "10 & 70.81 \\\\ \\hline\n",
      "11 & 60.14 \\\\ \\hline\n"
     ]
    }
   ],
   "source": [
    "for e in range(7, 12):\n",
    "    e_lumi = tools.get_luminosity_gluex_1(e-0.5, e+0.5)\n",
    "    print(\"{} & {:0.2f} \\\\\\ \\hline\".format(e, e_lumi))"
   ]
  },
  {
   "cell_type": "markdown",
   "metadata": {},
   "source": [
    "## $\\Delta t$ table in latex form"
   ]
  },
  {
   "cell_type": "code",
   "execution_count": 4,
   "metadata": {},
   "outputs": [
    {
     "name": "stdout",
     "output_type": "stream",
     "text": [
      "0.150 & 0.100 \\\\ \\hline\n",
      "0.250 & 0.100 \\\\ \\hline\n",
      "0.350 & 0.100 \\\\ \\hline\n",
      "0.525 & 0.250 \\\\ \\hline\n",
      "0.775 & 0.250 \\\\ \\hline\n",
      "1.150 & 0.500 \\\\ \\hline\n",
      "1.650 & 0.500 \\\\ \\hline\n"
     ]
    }
   ],
   "source": [
    "for tbin in range(1, 8):\n",
    "    t_low, t_high = constants.T_CUT_DICT[tbin]\n",
    "    t_bin_middle = (t_low + t_high) / 2\n",
    "    t_bin_width = t_high - t_low\n",
    "    print('{:0.3f} & {:0.3f} \\\\\\ \\hline'.format(t_bin_middle, t_bin_width))"
   ]
  },
  {
   "cell_type": "markdown",
   "metadata": {},
   "source": [
    "## PID Timing Table"
   ]
  },
  {
   "cell_type": "code",
   "execution_count": 5,
   "metadata": {},
   "outputs": [
    {
     "name": "stdout",
     "output_type": "stream",
     "text": [
      "$pi^+$ & $\\pm 1.00$ & $\\pm 0.50$ & $\\pm 2.00$ & $\\pm 2.50$ \\\\ \\hline\n",
      "$pi^-$ & $\\pm 1.00$ & $\\pm 0.50$ & $\\pm 2.00$ & $\\pm 2.50$ \\\\ \\hline\n",
      "$K^+$ & $\\pm 0.75$ & $\\pm 0.30$ & $\\pm 2.50$ & $\\pm 2.50$ \\\\ \\hline\n",
      "$K^-$ & $\\pm 0.75$ & $\\pm 0.30$ & $\\pm 2.50$ & $\\pm 2.50$ \\\\ \\hline\n",
      "$p$ & $\\pm 1.00$ & $\\pm 0.60$ & $\\pm 2.00$ & $\\pm 2.50$ \\\\ \\hline\n"
     ]
    }
   ],
   "source": [
    "timing_dict = {\n",
    "    '$pi^+$': (1.0, 0.5, 2.0, 2.5),\n",
    "    '$pi^-$': (1.0, 0.5, 2.0, 2.5),\n",
    "    '$K^+$': (0.75, 0.3, 2.5, 2.5),\n",
    "    '$K^-$': (0.75, 0.3, 2.5, 2.5),\n",
    "    '$p$': (1.0, 0.6, 2.0, 2.5)\n",
    "}\n",
    "\n",
    "for particle in timing_dict:\n",
    "    timing = timing_dict[particle]\n",
    "    print('{} & $\\pm {:0.2f}$ & $\\pm {:0.2f}$ & $\\pm {:0.2f}$ & $\\pm {:0.2f}$ \\\\\\ \\hline'.format(particle, *timing))"
   ]
  },
  {
   "cell_type": "markdown",
   "metadata": {},
   "source": [
    "## Fit Variation Max Impact Table"
   ]
  },
  {
   "cell_type": "code",
   "execution_count": 10,
   "metadata": {},
   "outputs": [
    {
     "name": "stdout",
     "output_type": "stream",
     "text": [
      "$\\pi^-K^+K_s$ & -0.006 & 0.031 \\\\ \\hline\n",
      "$E_\\gamma & -t & Variation & |(Varied - Nominal)|/Nominal \\\\ \\hline\n",
      "8 & 0.150 & 3rd-Order Polynomial & 0.030 \\\\ \\hline\n",
      "8 & 0.250 & 3rd-Order Polynomial & 0.018 \\\\ \\hline\n",
      "8 & 0.350 & 3rd-Order Polynomial & 0.020 \\\\ \\hline\n",
      "8 & 0.525 & 3rd-Order Polynomial & 0.025 \\\\ \\hline\n",
      "8 & 0.775 & 3rd-Order Polynomial & 0.009 \\\\ \\hline\n",
      "8 & 1.150 & 3rd-Order Polynomial & 0.018 \\\\ \\hline\n",
      "8 & 1.650 & 3rd-Order Polynomial & 0.066 \\\\ \\hline\n",
      "9 & 0.150 & 3rd-Order Polynomial & 0.051 \\\\ \\hline\n",
      "9 & 0.250 & 1st-Order Polynomial & 0.016 \\\\ \\hline\n",
      "9 & 0.350 & 3rd-Order Polynomial & 0.015 \\\\ \\hline\n",
      "9 & 0.525 & 3rd-Order Polynomial & 0.010 \\\\ \\hline\n",
      "9 & 0.775 & 3rd-Order Polynomial & 0.020 \\\\ \\hline\n",
      "9 & 1.150 & 3rd-Order Polynomial & 0.012 \\\\ \\hline\n",
      "9 & 1.650 & 3rd-Order Polynomial & 0.045 \\\\ \\hline\n",
      "10 & 0.150 & 3rd-Order Polynomial & 0.062 \\\\ \\hline\n",
      "10 & 0.250 & Allow Gaus Mean to Float & 0.010 \\\\ \\hline\n",
      "10 & 0.350 & Allow Gaus Width to Float & 0.017 \\\\ \\hline\n",
      "10 & 0.525 & 3rd-Order Polynomial & 0.029 \\\\ \\hline\n",
      "10 & 0.775 & Wider Fit Range on Low Mass Side & 0.009 \\\\ \\hline\n",
      "10 & 1.150 & Allow Gaus Width to Float & 0.016 \\\\ \\hline\n",
      "10 & 1.650 & Allow Gaus Width to Float & 0.052 \\\\ \\hline\n",
      "11 & 0.150 & 1st-Order Polynomial & 0.020 \\\\ \\hline\n",
      "11 & 0.250 & Allow Gaus Mean to Float & 0.022 \\\\ \\hline\n",
      "11 & 0.350 & Allow Gaus Width to Float & 0.019 \\\\ \\hline\n",
      "11 & 0.525 & Allow Gaus Width to Float & 0.013 \\\\ \\hline\n",
      "11 & 0.775 & 1st-Order Polynomial & 0.013 \\\\ \\hline\n",
      "11 & 1.150 & 3rd-Order Polynomial & 0.021 \\\\ \\hline\n",
      "11 & 1.650 & 3rd-Order Polynomial & 0.076 \\\\ \\hline\n",
      "12 & 0.150 & 3rd-Order Polynomial & 0.048 \\\\ \\hline\n",
      "12 & 0.250 & 1st-Order Polynomial & 0.012 \\\\ \\hline\n",
      "12 & 0.350 & 3rd-Order Polynomial & 0.021 \\\\ \\hline\n",
      "12 & 0.525 & 3rd-Order Polynomial & 0.021 \\\\ \\hline\n",
      "12 & 0.775 & 3rd-Order Polynomial & 0.014 \\\\ \\hline\n",
      "12 & 1.150 & 3rd-Order Polynomial & 0.026 \\\\ \\hline\n",
      "12 & 1.650 & 3rd-Order Polynomial & 0.028 \\\\ \\hline\n",
      "\n",
      "\n",
      "$\\pi^+K^-K_s$ & 0.011 & 0.031 \\\\ \\hline\n",
      "$E_\\gamma & -t & Variation & |(Varied - Nominal)|/Nominal \\\\ \\hline\n",
      "8 & 0.150 & 3rd-Order Polynomial & 0.046 \\\\ \\hline\n",
      "8 & 0.250 & 3rd-Order Polynomial & 0.021 \\\\ \\hline\n",
      "8 & 0.350 & 3rd-Order Polynomial & 0.015 \\\\ \\hline\n",
      "8 & 0.525 & 3rd-Order Polynomial & 0.012 \\\\ \\hline\n",
      "8 & 0.775 & 3rd-Order Polynomial & 0.028 \\\\ \\hline\n",
      "8 & 1.150 & 3rd-Order Polynomial & 0.035 \\\\ \\hline\n",
      "8 & 1.650 & Wider Fit Range on Low Mass Side & 0.074 \\\\ \\hline\n",
      "9 & 0.150 & 3rd-Order Polynomial & 0.028 \\\\ \\hline\n",
      "9 & 0.250 & 3rd-Order Polynomial & 0.015 \\\\ \\hline\n",
      "9 & 0.350 & Allow Gaus Width to Float & 0.010 \\\\ \\hline\n",
      "9 & 0.525 & 1st-Order Polynomial & 0.008 \\\\ \\hline\n",
      "9 & 0.775 & 1st-Order Polynomial & 0.017 \\\\ \\hline\n",
      "9 & 1.150 & Allow Gaus Width to Float & 0.025 \\\\ \\hline\n"
     ]
    },
    {
     "ename": "KeyError",
     "evalue": "'nogaus'",
     "output_type": "error",
     "traceback": [
      "\u001b[0;31m---------------------------------------------------------------------------\u001b[0m",
      "\u001b[0;31mKeyError\u001b[0m                                  Traceback (most recent call last)",
      "\u001b[0;32m<ipython-input-10-60b5f73ad725>\u001b[0m in \u001b[0;36m<module>\u001b[0;34m\u001b[0m\n\u001b[1;32m     11\u001b[0m     \u001b[0;32mfor\u001b[0m \u001b[0mindex\u001b[0m\u001b[0;34m,\u001b[0m \u001b[0mrow\u001b[0m \u001b[0;32min\u001b[0m \u001b[0mgroup\u001b[0m\u001b[0;34m.\u001b[0m\u001b[0miterrows\u001b[0m\u001b[0;34m(\u001b[0m\u001b[0;34m)\u001b[0m\u001b[0;34m:\u001b[0m\u001b[0;34m\u001b[0m\u001b[0;34m\u001b[0m\u001b[0m\n\u001b[1;32m     12\u001b[0m         \u001b[0mt_middle\u001b[0m \u001b[0;34m=\u001b[0m \u001b[0mconstants\u001b[0m\u001b[0;34m.\u001b[0m\u001b[0mT_CUT_DICT\u001b[0m\u001b[0;34m[\u001b[0m\u001b[0mrow\u001b[0m\u001b[0;34m[\u001b[0m\u001b[0;34m't'\u001b[0m\u001b[0;34m]\u001b[0m\u001b[0;34m]\u001b[0m\u001b[0;34m[\u001b[0m\u001b[0;36m0\u001b[0m\u001b[0;34m]\u001b[0m \u001b[0;34m+\u001b[0m \u001b[0mconstants\u001b[0m\u001b[0;34m.\u001b[0m\u001b[0mT_WIDTH_DICT\u001b[0m\u001b[0;34m[\u001b[0m\u001b[0mrow\u001b[0m\u001b[0;34m[\u001b[0m\u001b[0;34m't'\u001b[0m\u001b[0;34m]\u001b[0m\u001b[0;34m]\u001b[0m \u001b[0;34m/\u001b[0m \u001b[0;36m2\u001b[0m\u001b[0;34m\u001b[0m\u001b[0;34m\u001b[0m\u001b[0m\n\u001b[0;32m---> 13\u001b[0;31m         \u001b[0mtable_str\u001b[0m \u001b[0;34m=\u001b[0m \u001b[0;34m'{} & {:0.3f} & {} & {:0.3f} \\\\\\ \\hline'\u001b[0m\u001b[0;34m.\u001b[0m\u001b[0mformat\u001b[0m\u001b[0;34m(\u001b[0m\u001b[0mrow\u001b[0m\u001b[0;34m[\u001b[0m\u001b[0;34m'e'\u001b[0m\u001b[0;34m]\u001b[0m\u001b[0;34m,\u001b[0m \u001b[0mt_middle\u001b[0m\u001b[0;34m,\u001b[0m \u001b[0mvar_names\u001b[0m\u001b[0;34m[\u001b[0m\u001b[0mrow\u001b[0m\u001b[0;34m[\u001b[0m\u001b[0;34m'max_var'\u001b[0m\u001b[0;34m]\u001b[0m\u001b[0;34m]\u001b[0m\u001b[0;34m,\u001b[0m \u001b[0mnp\u001b[0m\u001b[0;34m.\u001b[0m\u001b[0mabs\u001b[0m\u001b[0;34m(\u001b[0m\u001b[0mrow\u001b[0m\u001b[0;34m[\u001b[0m\u001b[0;34m'max_percent_change'\u001b[0m\u001b[0;34m]\u001b[0m\u001b[0;34m)\u001b[0m\u001b[0;34m)\u001b[0m\u001b[0;34m\u001b[0m\u001b[0;34m\u001b[0m\u001b[0m\n\u001b[0m\u001b[1;32m     14\u001b[0m         \u001b[0mprint\u001b[0m\u001b[0;34m(\u001b[0m\u001b[0mtable_str\u001b[0m\u001b[0;34m)\u001b[0m\u001b[0;34m\u001b[0m\u001b[0;34m\u001b[0m\u001b[0m\n\u001b[1;32m     15\u001b[0m     \u001b[0mprint\u001b[0m\u001b[0;34m(\u001b[0m\u001b[0;34m'\\n'\u001b[0m\u001b[0;34m)\u001b[0m\u001b[0;34m\u001b[0m\u001b[0;34m\u001b[0m\u001b[0m\n",
      "\u001b[0;31mKeyError\u001b[0m: 'nogaus'"
     ]
    }
   ],
   "source": [
    "var_names = {'pol1': \"1st-Order Polynomial\", 'pol3': \"3rd-Order Polynomial\", 'floatgausmean': \"Allow Gaus Mean to Float\", \n",
    "            \"floatvoigtwidth\": \"Allow Gaus Width to Float\", 'wideleft': \"Wider Fit Range on Low Mass Side\",\n",
    "            'nogaus': \"No Gaussian Component\", \"wideboth\": \"Wider Fit Range\"}\n",
    "channel_names = {'pipkmks': '$\\pi^+K^-K_s$', 'pimkpks': '$\\pi^-K^+K_s$' }\n",
    "\n",
    "fit_sys_df = pd.read_csv('/work/halld/home/viducic/systematic_errors/max_changes.csv')\n",
    "fit_sys_grouped = fit_sys_df.groupby('channel')\n",
    "for channel, group in fit_sys_grouped:\n",
    "    print(f'{channel_names[channel]} & {group[\"max_percent_change\"].mean():0.3f} & {group[\"max_percent_change\"].std():0.3f} \\\\\\ \\hline')\n",
    "    table_str = '$E_\\gamma & -t & Variation & |(Varied - Nominal)|/Nominal \\\\\\ \\hline'\n",
    "    print(table_str)\n",
    "    for index, row in group.iterrows():\n",
    "        t_middle = constants.T_CUT_DICT[row['t']][0] + constants.T_WIDTH_DICT[row['t']] / 2\n",
    "        table_str = '{} & {:0.3f} & {} & {:0.3f} \\\\\\ \\hline'.format(row['e'], t_middle, var_names[row['max_var']], np.abs(row['max_percent_change']))\n",
    "        print(table_str)\n",
    "    print('\\n')"
   ]
  },
  {
   "cell_type": "markdown",
   "metadata": {},
   "source": [
    "## Cut Systematic Errors Table"
   ]
  },
  {
   "cell_type": "code",
   "execution_count": null,
   "metadata": {},
   "outputs": [],
   "source": [
    "df_sys_error = pd.read_csv('/work/halld/home/viducic/systematic_errors/cs_total_error.csv')\n",
    "df_sys_error['rel_cut_down'] = np.where(True, np.sqrt(df_sys_error['cut_error']*df_sys_error['cut_error'] + df_sys_error['neutral_kstar_percent_error']* df_sys_error['neutral_kstar_percent_error']), 0)\n",
    "# df_sys_error_pipkmks = df_sys_error[df_sys_error['channel'] == 'pipkmks']\n",
    "# df_sys_error_pimkpks = df_sys_error[df_sys_error['channel'] == 'pimkpks']\n",
    "\n",
    "df_sys_grouped = df_sys_error.groupby(['e', 't'])\n",
    "for (e, t), group in df_sys_grouped:\n",
    "    t_middle = constants.T_CUT_DICT[t][0] + constants.T_WIDTH_DICT[t] / 2\n",
    "    pipkmks_rel_up = group[group['channel'] == 'pipkmks']['cut_error'].values[0]\n",
    "    pipkmks_rel_down = group[group['channel'] == 'pipkmks']['rel_cut_down'].values[0]\n",
    "    pimkpks_rel_up = group[group['channel'] == 'pimkpks']['cut_error'].values[0]\n",
    "    pimkpks_rel_down = group[group['channel'] == 'pimkpks']['rel_cut_down'].values[0]\n",
    "    print(f'{e} & {t_middle:0.2f} & +{pipkmks_rel_up:0.3f} & -{pipkmks_rel_down:0.3f} & +{pimkpks_rel_up:0.3f} & -{pimkpks_rel_down:0.3f} \\\\\\ \\hline')"
   ]
  },
  {
   "cell_type": "markdown",
   "metadata": {},
   "source": [
    "## Fit Variation Value Tables"
   ]
  },
  {
   "cell_type": "code",
   "execution_count": null,
   "metadata": {},
   "outputs": [],
   "source": [
    "fit_vars = ['pol1', 'pol3', 'nogaus', 'chebyshev',\n",
    "            'wideleft', 'wideright', 'wideboth', 'narrowleft', 'narrowright', 'narrowboth',\n",
    "            'floatvoigtmean', 'floatvoigtwidth', 'floatgausmean', 'floatgauswidth']\n",
    "\n",
    "df_fit_errors = pd.read_csv('/work/halld/home/viducic/systematic_errors/fit_variation_data_with_percent_change.csv')\n",
    "\n",
    "table_start = '\\\\begin{table} \\n \\\n",
    "\\centering \\n \\\n",
    "\\\\begin{tabular}{| c | c | c | c |} \\n \\\n",
    "\\hline\t\t\t\t\t\t\\n \\\n",
    "$E_\\gamma \\left[\\\\textrm{GeV}\\\\right] $ & $-t \\left[\\\\textrm{GeV}^2\\\\right]$ & $K^-K_s\\pi^+$ & $K^-K_s\\pi^+$ \\\\\\ \\hline'\n",
    "\n",
    "\n",
    "table_end = '\\end{tabular} \\n \\\n",
    "\\caption{Relative difference from nominal for [FIT VARIATION] for each $E_\\gamma$ and $-t$ bin for $\\pi^+K^-K_s$ and $\\pi^-K^+K_s$ decay modes}\\label{table:fit_sys_[LABEL HERE]} \\n \\\n",
    "\\end{table}'\n",
    "\n",
    "fits_grouped = df_fit_errors.groupby(['e', 't'])\n",
    "\n",
    "for var in fit_vars:\n",
    "    print(table_start)\n",
    "    for (e, t), group in fits_grouped:\n",
    "        pipkmks_rel_error = group[(group['channel'] == 'pipkmks')][f'{var}_percent_change'].values[0]\n",
    "        pimkpks_rel_error = group[(group['channel'] == 'pimkpks')][f'{var}_percent_change'].values[0]\n",
    "        t_middle = constants.T_CUT_DICT[t][0] + constants.T_WIDTH_DICT[t] / 2\n",
    "        table_str = '{} & {:0.2f} & {:0.3f} & {:0.3f} \\\\\\ \\hline'.format(e, t_middle, pipkmks_rel_error, pimkpks_rel_error)\n",
    "        print(table_str)\n",
    "    print(table_end)\n",
    "    print(\"%=== \" + var + \" ===\")\n",
    "    print(\"\\n\")"
   ]
  },
  {
   "cell_type": "code",
   "execution_count": null,
   "metadata": {},
   "outputs": [],
   "source": [
    "ROOT.EnableImplicitMT()\n",
    "os.nice(18)"
   ]
  },
  {
   "cell_type": "code",
   "execution_count": null,
   "metadata": {},
   "outputs": [],
   "source": [
    "df_pipkmks = tools.get_dataframe('pipkmks', 'gluex1', 'data', filtered=False)\n",
    "df_pimkpks = tools.get_dataframe('pimkpks', 'gluex1', 'data', filtered=False)\n",
    "\n",
    "df_pipkmks = df_pipkmks.Define('kmpip_m2', 'kmpip_m * kmpip_m').Define('kspip_m2', 'kspip_m * kspip_m')\n",
    "df_pimkpks = df_pimkpks.Define('kppim_m2', 'kppim_m * kppim_m').Define('kspim_m2', 'kspim_m * kspim_m')"
   ]
  },
  {
   "cell_type": "markdown",
   "metadata": {},
   "source": [
    "## Kinfit $\\chi^2/ndf$ and Kinfit Confidence Level"
   ]
  },
  {
   "cell_type": "code",
   "execution_count": null,
   "metadata": {},
   "outputs": [],
   "source": [
    "kcl_bins, kcl_xlow, kcl_xhigh = 100, 1e-12, 1e-3\n",
    "x2ndf_bins, x2ndf_xlow, x2ndf_xhigh = 100, 0, 10\n",
    "\n",
    "hist_kcl_pipkmks = df_pipkmks.Histo1D(('h_kcl_pipkmks', 'KCL for #pi^{+}K^{-}K_{S}^{0}', kcl_bins, kcl_xlow, kcl_xhigh), 'kinfit_cl')\n",
    "hist_kcl_pimkpks = df_pimkpks.Histo1D(('h_kcl_pimkpks', 'KCL for #pi^{-}K^{+}K_{S}^{0}', kcl_bins, kcl_xlow, kcl_xhigh), 'kinfit_cl')\n",
    "\n",
    "hist_kcl_pipkmks_cut = df_pipkmks.Filter(cuts.KINFIT_CL_CUT).Histo1D(('h_kcl_pipkmks_cut', 'KCL for #pi^{+}K^{-}K_{S}^{0}', kcl_bins, kcl_xlow, kcl_xhigh), 'kinfit_cl')\n",
    "hist_kcl_pimkpks_cut = df_pimkpks.Filter(cuts.KINFIT_CL_CUT).Histo1D(('h_kcl_pimkpks_cut', 'KCL for #pi^{-}K^{+}K_{S}^{0}', kcl_bins, kcl_xlow, kcl_xhigh), 'kinfit_cl')\n",
    "\n",
    "hist_x2ndf_pipkmks = df_pipkmks.Histo1D(('h_x2ndf_pipkmks', 'x2ndf for #pi^{+}K^{-}K_{S}^{0}', x2ndf_bins, x2ndf_xlow, x2ndf_xhigh), \"chi2ndf\")\n",
    "hist_x2ndf_pimkpks = df_pimkpks.Histo1D(('h_x2ndf_pimkpks', 'x2ndf for #pi^{-}K^{+}K_{S}^{0}', x2ndf_bins, x2ndf_xlow, x2ndf_xhigh), \"chi2ndf\")\n"
   ]
  },
  {
   "cell_type": "code",
   "execution_count": null,
   "metadata": {},
   "outputs": [],
   "source": [
    "df_pipkmks = df_pipkmks.Filter(cuts.KINFIT_CL_CUT)\n",
    "df_pimkpks = df_pimkpks.Filter(cuts.KINFIT_CL_CUT)"
   ]
  },
  {
   "cell_type": "markdown",
   "metadata": {},
   "source": [
    "## $M^{2}_{x}(pKK\\pi)$"
   ]
  },
  {
   "cell_type": "code",
   "execution_count": null,
   "metadata": {},
   "outputs": [],
   "source": [
    "mx2_all_bins, mx2_all_xlow, mx2_all_xhigh = 1000, -0.1, 0.1\n",
    "hist_mx2all_pipkmks = df_pipkmks.Histo1D(('mx2_all_pipkmks', 'mx2_all_pipkmks', mx2_all_bins, mx2_all_xlow, mx2_all_xhigh ), 'mx2_ppipkmks')\n",
    "hist_mx2all_pimkpks = df_pimkpks.Histo1D(('mx2_all_pimkpks', 'mx2_all_pimkpks', mx2_all_bins, mx2_all_xlow, mx2_all_xhigh ), 'mx2_ppimkpks')\n",
    "\n",
    "hist_mx2all_pipkmks_cut = df_pipkmks.Filter(cuts.MX2_PPIPKMKS_CUT).Histo1D(('mx2_all_pipkmks_cut', 'mx2_all_pipkmks_cut', mx2_all_bins, mx2_all_xlow, mx2_all_xhigh ), 'mx2_ppipkmks')\n",
    "hist_mx2all_pimkpks_cut = df_pimkpks.Filter(cuts.MX2_PPIMKPKS_CUT).Histo1D(('mx2_all_pimkpks_cut', 'mx2_all_pimkpks_cut', mx2_all_bins, mx2_all_xlow, mx2_all_xhigh ), 'mx2_ppimkpks')"
   ]
  },
  {
   "cell_type": "code",
   "execution_count": null,
   "metadata": {},
   "outputs": [],
   "source": [
    "df_pipkmks = df_pipkmks.Filter(cuts.MX2_PPIPKMKS_CUT)\n",
    "df_pimkpks = df_pimkpks.Filter(cuts.MX2_PPIMKPKS_CUT)\n"
   ]
  },
  {
   "cell_type": "markdown",
   "metadata": {},
   "source": [
    "## $\\vec{p}(p')$"
   ]
  },
  {
   "cell_type": "code",
   "execution_count": null,
   "metadata": {},
   "outputs": [],
   "source": [
    "pp_bins, pp_xlow, pp_xhigh = 200, 0, 1.9\n",
    "hist_trange_pipkmks = df_pipkmks.Histo1D(('trange_pipkmks', 'trange_pipkmks', pp_bins, pp_xlow, pp_xhigh ), 'mand_t')\n",
    "hist_trange_pimkpks = df_pimkpks.Histo1D(('trange_pimkpks', 'trange_pimkpks', pp_bins, pp_xlow, pp_xhigh ), 'mand_t')\n",
    "hist_trange_pipkmks_cut = df_pipkmks.Filter(cuts.P_P_CUT).Histo1D(('trange_pipkmks_cut', 'trange_pipkmks_cut', pp_bins, pp_xlow, pp_xhigh ), 'mand_t')\n",
    "hist_trange_pimkpks_cut = df_pimkpks.Filter(cuts.P_P_CUT).Histo1D(('trange_pimkpks_cut', 'trange_pimkpks_cut', pp_bins, pp_xlow, pp_xhigh ), 'mand_t')"
   ]
  },
  {
   "cell_type": "code",
   "execution_count": null,
   "metadata": {},
   "outputs": [],
   "source": [
    "df_pipkmks = df_pipkmks.Filter(cuts.P_P_CUT)\n",
    "df_pimkpks = df_pimkpks.Filter(cuts.P_P_CUT)"
   ]
  },
  {
   "cell_type": "markdown",
   "metadata": {},
   "source": [
    "## $K_s$ Pathlength $\\Delta r/\\sigma_r$"
   ]
  },
  {
   "cell_type": "code",
   "execution_count": null,
   "metadata": {},
   "outputs": [],
   "source": [
    "ks_bins, ks_xlow, ks_xhigh = 1000, 0.35, 0.65\n",
    "\n",
    "hist_ks_pipkmks = df_pipkmks.Histo1D(('ks_pipkmks', 'ks_pipkmks', ks_bins, ks_xlow, ks_xhigh ), 'ks_m')\n",
    "hist_ks_pimkpks = df_pimkpks.Histo1D(('ks_pimkpks', 'ks_pimkpks', ks_bins, ks_xlow, ks_xhigh ), 'ks_m')\n",
    "\n",
    "hist_ks_pipkmks_cut = df_pipkmks.Filter(cuts.KS_PATHLENGTH_CUT).Histo1D(('ks_pipkmks_cut', 'ks_pipkmks_cut', ks_bins, ks_xlow, ks_xhigh ), 'ks_m')\n",
    "hist_ks_pimkpks_cut = df_pimkpks.Filter(cuts.KS_PATHLENGTH_CUT).Histo1D(('ks_pimkpks_cut', 'ks_pimkpks_cut', ks_bins, ks_xlow, ks_xhigh ), 'ks_m')"
   ]
  },
  {
   "cell_type": "markdown",
   "metadata": {},
   "source": [
    "## $K_s$ Mass Cut"
   ]
  },
  {
   "cell_type": "code",
   "execution_count": null,
   "metadata": {},
   "outputs": [],
   "source": [
    "hist_ks_pipkmks_cut_2 = df_pipkmks.Filter(cuts.KS_PATHLENGTH_CUT).Filter(cuts.KS_MASS_CUT).Histo1D(('ks_pipkmks_cut_2', 'ks_pipkmks_cut_2', ks_bins, ks_xlow, ks_xhigh ), 'ks_m')\n",
    "hist_ks_pimkpks_cut_2 = df_pimkpks.Filter(cuts.KS_PATHLENGTH_CUT).Filter(cuts.KS_MASS_CUT).Histo1D(('ks_pimkpks_cut_2', 'ks_pimkpks_cut_2', ks_bins, ks_xlow, ks_xhigh ), 'ks_m')"
   ]
  },
  {
   "cell_type": "markdown",
   "metadata": {},
   "source": [
    "## $\\Delta$ and $N^*$"
   ]
  },
  {
   "cell_type": "code",
   "execution_count": null,
   "metadata": {},
   "outputs": [],
   "source": [
    "df_pipkmks = df_pipkmks.Filter(cuts.KS_PATHLENGTH_CUT).Filter(cuts.KS_MASS_CUT)\n",
    "df_pimkpks = df_pimkpks.Filter(cuts.KS_PATHLENGTH_CUT).Filter(cuts.KS_MASS_CUT)"
   ]
  },
  {
   "cell_type": "code",
   "execution_count": null,
   "metadata": {},
   "outputs": [],
   "source": [
    "ppi_bins, ppi_xlow, ppi_xhigh = 200, 1.0, 3.0\n",
    "hist_ppi_pipkmks = df_pipkmks.Histo1D(('ppi_pipkmks', 'ppi_pipkmks', ppi_bins, ppi_xlow, ppi_xhigh ), 'ppip_m')\n",
    "hist_ppi_pimkpks = df_pimkpks.Histo1D(('ppi_pimkpks', 'ppi_pimkpks', ppi_bins, ppi_xlow, ppi_xhigh ), 'ppim_m')\n",
    "hist_ppi_pipkmks_cut = df_pipkmks.Filter(cuts.PPIP_MASS_CUT).Histo1D(('ppi_pipkmks_cut', 'ppi_pipkmks_cut', ppi_bins, ppi_xlow, ppi_xhigh ), 'ppip_m')\n",
    "hist_ppi_pimkpks_cut = df_pimkpks.Filter(cuts.PPIM_MASS_CUT).Histo1D(('ppi_pimkpks_cut', 'ppi_pimkpks_cut', ppi_bins, ppi_xlow, ppi_xhigh ), 'ppim_m')"
   ]
  },
  {
   "cell_type": "markdown",
   "metadata": {},
   "source": [
    "## $\\Lambda/\\Sigma$"
   ]
  },
  {
   "cell_type": "code",
   "execution_count": null,
   "metadata": {},
   "outputs": [],
   "source": [
    "df_pipkmks = df_pipkmks.Filter(cuts.PPIP_MASS_CUT)\n",
    "df_pimkpks = df_pimkpks.Filter(cuts.PPIM_MASS_CUT)"
   ]
  },
  {
   "cell_type": "code",
   "execution_count": null,
   "metadata": {},
   "outputs": [],
   "source": [
    "kp_bins, kp_xlow, kp_xhigh = 100, 1.2, 3.5\n",
    "hist_pks_pipkmks = df_pipkmks.Histo1D(('pks_pipkmks', 'pks_pipkmks', kp_bins, kp_xlow, kp_xhigh ), 'ksp_m')\n",
    "hist_pks_pimkpks = df_pimkpks.Histo1D(('pks_pimkpks', 'pks_pimkpks', kp_bins, kp_xlow, kp_xhigh ), 'ksp_m')\n",
    "hist_pks_pipkmks_cut = df_pipkmks.Filter(cuts.KSP_MASS_CUT).Histo1D(('pks_pipkmks_cut', 'pks_pipkmks_cut', kp_bins, kp_xlow, kp_xhigh ), 'ksp_m')\n",
    "hist_pks_pimkpks_cut = df_pimkpks.Filter(cuts.KSP_MASS_CUT).Histo1D(('pks_pimkpks_cut', 'pks_pimkpks_cut', kp_bins, kp_xlow, kp_xhigh ), 'ksp_m')\n",
    "\n",
    "hist_pk_pipkmks = df_pipkmks.Histo1D(('pk_pipkmks', 'pk_pipkmks', kp_bins, kp_xlow, kp_xhigh ), 'kmp_m')\n",
    "hist_pk_pimkpks = df_pimkpks.Histo1D(('pk_pimkpks', 'pk_pimkpks', kp_bins, kp_xlow, kp_xhigh ), 'kpp_m')\n",
    "hist_pk_pipkmks_cut = df_pipkmks.Filter(cuts.KMP_MASS_CUT).Histo1D(('pk_pipkmks_cut', 'pk_pipkmks_cut', kp_bins, kp_xlow, kp_xhigh ), 'kmp_m')\n",
    "hist_pk_pimkpks_cut = df_pimkpks.Filter(cuts.KPP_MASS_CUT).Histo1D(('pk_pimkpks_cut', 'pk_pimkpks_cut', kp_bins, kp_xlow, kp_xhigh ), 'kpp_m')"
   ]
  },
  {
   "cell_type": "markdown",
   "metadata": {},
   "source": [
    "## $KK\\pi$ After Kinematics Cuts and Before $K^*$ Selection "
   ]
  },
  {
   "cell_type": "code",
   "execution_count": null,
   "metadata": {},
   "outputs": [],
   "source": [
    "df_pipkmks = df_pipkmks.Filter(cuts.KSP_MASS_CUT)\n",
    "df_pimkpks = df_pimkpks.Filter(cuts.KSP_MASS_CUT)\n",
    "\n",
    "df_pipkmks = df_pipkmks.Filter(cuts.KMP_MASS_CUT)\n",
    "df_pimkpks = df_pimkpks.Filter(cuts.KPP_MASS_CUT)"
   ]
  },
  {
   "cell_type": "code",
   "execution_count": null,
   "metadata": {},
   "outputs": [],
   "source": [
    "kkpi_bins, kkpi_xlow, kkpi_xhigh = 70, 1.1, 1.8\n",
    "\n",
    "hist_kkpi_no_kstar_pipkmks = df_pipkmks.Histo1D(('kkpi_no_kstar_pipkmks', 'kkpi_no_kstar_pipkmks', kkpi_bins, kkpi_xlow, kkpi_xhigh ), 'pipkmks_m')\n",
    "hist_kkpi_no_kstar_pimkpks = df_pimkpks.Histo1D(('kkpi_no_kstar_pimkpks', 'kkpi_no_kstar_pimkpks', kkpi_bins, kkpi_xlow, kkpi_xhigh ), 'pimkpks_m')"
   ]
  },
  {
   "cell_type": "markdown",
   "metadata": {},
   "source": [
    "## $K\\pi$ Dalitz Plots"
   ]
  },
  {
   "cell_type": "code",
   "execution_count": null,
   "metadata": {},
   "outputs": [],
   "source": [
    "kpi_bins, kpi_low, kpi_high = 100, 0.2, 1.2\n",
    "\n",
    "hist_kstar_dalitz_pipkmks_1285 = df_pipkmks.Filter('(pipkmks_m >= 1.22) && (pipkmks_m < 1.34)').Histo2D(('kstar_dalitz_pipkmks_1285', 'Dalitz Plot for M^2(#K_{s}\\pi^{+}) vs M^2(#K^{-}\\pi^{+})', kpi_bins, kpi_low, kpi_high, kpi_bins, kpi_low, kpi_high), 'kspip_m2', 'kmpip_m2')\n",
    "hist_kstar_dalitz_pipkmks_1400 = df_pipkmks.Filter('(pipkmks_m >= 1.34) && (pipkmks_m < 1.5)').Histo2D(('kstar_dalitz_pipkmks_1400', 'Dalitz Plot for M^2(#K_{s}\\pi^{+}) vs M^2(#K^{-}\\pi^{+})', kpi_bins, kpi_low, kpi_high, kpi_bins, kpi_low, kpi_high), 'kspip_m2', 'kmpip_m2')\n",
    "hist_kstar_dalitz_pipkmks_1500 = df_pipkmks.Filter('(pipkmks_m >= 1.5)').Histo2D(('kstar_dalitz_pipkmks_1500', 'Dalitz Plot for M^2(#K_{s}\\pi^{+}) vs M^2(#K^{-}\\pi^{+})', kpi_bins, kpi_low, kpi_high, kpi_bins, kpi_low, kpi_high), 'kspip_m2', 'kmpip_m2')\n",
    "hist_kstar_dalitz_pimkpks_1285 = df_pimkpks.Filter('(pimkpks_m >= 1.22) && (pimkpks_m < 1.34)').Histo2D(('kstar_dalitz_pimkpks_1285', 'Dalitz Plot for M^2(#K_{s}\\pi^{-}) vs M^2(#K^{+}\\pi^{-})', kpi_bins, kpi_low, kpi_high, kpi_bins, kpi_low, kpi_high), 'kspim_m2', 'kppim_m2')\n",
    "hist_kstar_dalitz_pimkpks_1400 = df_pimkpks.Filter('(pimkpks_m >= 1.34) && (pimkpks_m < 1.5)').Histo2D(('kstar_dalitz_pimkpks_1400', 'Dalitz Plot for M^2(#K_{s}\\pi^{-}) vs M^2(#K^{+}\\pi^{-})', kpi_bins, kpi_low, kpi_high, kpi_bins, kpi_low, kpi_high), 'kspim_m2', 'kppim_m2')\n",
    "hist_kstar_dalitz_pimkpks_1500 = df_pimkpks.Filter('(pimkpks_m >= 1.5)').Histo2D(('kstar_dalitz_pimkpks_1500', 'Dalitz Plot for M^2(#K_{s}\\pi^{-}) vs M^2(#K^{+}\\pi^{-})', kpi_bins, kpi_low, kpi_high, kpi_bins, kpi_low, kpi_high), 'kspim_m2', 'kppim_m2')"
   ]
  },
  {
   "cell_type": "markdown",
   "metadata": {},
   "source": [
    "## $K^*$ Plots"
   ]
  },
  {
   "cell_type": "code",
   "execution_count": null,
   "metadata": {},
   "outputs": [],
   "source": [
    "kstar_bins, kstar_low, kstar_high = 100, 0.5, 1.5\n",
    "\n",
    "hist_kstar_zero_pipkmks = df_pipkmks.Histo1D(('kstar_zero_pipkmks', ';M(K^{-}#pi^{+}) [GeV]', kstar_bins, kstar_low, kstar_high), 'kmpip_m')\n",
    "hist_kstar_zero_pimkpks = df_pimkpks.Histo1D(('kstar_zero_pimkpks', ';M(K^{+}#pi^{-}) [GeV]', kstar_bins, kstar_low, kstar_high), 'kppim_m')\n",
    "\n",
    "hist_kstar_zero_cut_pipkmks = df_pipkmks.Filter(cuts.KSTAR_ZERO_CUT_PIPKMKS).Histo1D(('kstar_zero_cut_pipkmks', ';M(K^{-}#pi^{+}) [GeV]', kstar_bins, kstar_low, kstar_high), 'kmpip_m')\n",
    "hist_kstar_zero_cut_pimkpks = df_pimkpks.Filter(cuts.KSTAR_ZERO_CUT_PIMKPKS).Histo1D(('kstar_zero_cut_pimkpks', ';M(K^{+}#pi^{-}) [GeV]', kstar_bins, kstar_low, kstar_high), 'kppim_m')\n",
    "\n",
    "hist_kstar_charged_pipkmks = df_pipkmks.Histo1D(('kstar_charged_pipkmks', 'kst;M(K_{s}#pi^{+}) [GeV]', kstar_bins, kstar_low, kstar_high), 'kspip_m')\n",
    "hist_kstar_charged_pimkpks = df_pimkpks.Histo1D(('kstar_charged_pimkpks', 'kst;M(K_{s}#pi^{-}) [GeV]', kstar_bins, kstar_low, kstar_high), 'kspim_m')\n",
    "\n",
    "hist_kstar_charged_cut_pipkmks = df_pipkmks.Filter(cuts.KSTAR_PLUS_CUT).Histo1D(('kstar_charged_cut_pipkmks', 'kst;M(K_{s}#pi^{+}) [GeV]', kstar_bins, kstar_low, kstar_high), 'kspip_m')\n",
    "hist_kstar_charged_cut_pimkpks = df_pimkpks.Filter(cuts.KSTAR_MINUS_CUT).Histo1D(('kstar_charged_cut_pimkpks', 'kst;M(K_{s}#pi^{-}) [GeV]', kstar_bins, kstar_low, kstar_high), 'kspim_m')"
   ]
  },
  {
   "cell_type": "markdown",
   "metadata": {},
   "source": [
    "## $K^*$ Rejection"
   ]
  },
  {
   "cell_type": "code",
   "execution_count": null,
   "metadata": {},
   "outputs": [],
   "source": [
    "hist_kkpi_kstar_rejected_pipkmks = df_pipkmks.Filter(cuts.KSTAR_ALL_CUT_PIPKMKS).Histo1D(('kkpi_kstar_rejected_pipkmks', 'kkpi_kstar_rejected_pipkmks', kkpi_bins, kkpi_xlow, kkpi_xhigh ), 'pipkmks_m')\n",
    "hist_kkpi_kstar_rejected_pimkpks = df_pimkpks.Filter(cuts.KSTAR_ALL_CUT_PIMKPKS).Histo1D(('kkpi_kstar_rejected_pimkpks', 'kkpi_kstar_rejected_pimkpks', kkpi_bins, kkpi_xlow, kkpi_xhigh ), 'pimkpks_m')\n",
    "\n",
    "hist_kkpi_kstar_neutral_selected_pipkmks = df_pipkmks.Filter(cuts.KEEP_NEUTRAL_REJECT_CHARGED_PIPKMKS).Histo1D(('kkpi_kstar_neutral_selected', 'kkpi_kstar_neutral_selected', kkpi_bins, kkpi_xlow, kkpi_xhigh ), 'pipkmks_m')\n",
    "hist_kkpi_kstar_neutral_selected_pimkpks = df_pimkpks.Filter(cuts.KEEP_NEUTRAL_REJECT_CHARGED_PIMKPKS).Histo1D(('kkpi_kstar_neutral_selected', 'kkpi_kstar_neutral_selected', kkpi_bins, kkpi_xlow, kkpi_xhigh ), 'pimkpks_m')\n",
    "\n",
    "hist_kkpi_kstar_charged_selected_pipkmks = df_pipkmks.Filter(cuts.KEEP_CHARGED_REJECT_NEUTRAL_PIPKMKS).Histo1D(('kkpi_kstar_charged_selected_pipkmks', 'kkpi_kstar_charged_selected_pipkmks', kkpi_bins, kkpi_xlow, kkpi_xhigh ), 'pipkmks_m')\n",
    "hist_kkpi_kstar_charged_selected_pimkpks = df_pimkpks.Filter(cuts.KEEP_CHARGED_REJECT_NEUTRAL_PIMKPKS).Histo1D(('kkpi_kstar_charged_selected_pimkpks', 'kkpi_kstar_charged_selected_pimkpks', kkpi_bins, kkpi_xlow, kkpi_xhigh ), 'pimkpks_m')"
   ]
  },
  {
   "cell_type": "markdown",
   "metadata": {},
   "source": [
    "## Phasespace cut efficiency"
   ]
  },
  {
   "cell_type": "code",
   "execution_count": null,
   "metadata": {},
   "outputs": [],
   "source": [
    "df_pipkmks_phasespace = tools.get_dataframe('pipkmks', 'spring', 'phasespace')\n",
    "hist_ps_kkpi_before = df_pipkmks_phasespace.Histo1D(('ps_kkpi_before', 'ps_kkpi_before', kkpi_bins, kkpi_xlow, kkpi_xhigh ), 'pipkmks_m')\n",
    "df_pipkmks_phasespace = df_pipkmks_phasespace.Filter(cuts.KSTAR_ALL_CUT_PIPKMKS)\n",
    "hist_ps_kkpi_after = df_pipkmks_phasespace.Histo1D(('ps_kkpi_after', 'ps_kkpi_after', kkpi_bins, kkpi_xlow, kkpi_xhigh ), 'pipkmks_m')\n"
   ]
  },
  {
   "cell_type": "markdown",
   "metadata": {},
   "source": [
    "## $K^*$ cut efficiency from thrown MC"
   ]
  },
  {
   "cell_type": "code",
   "execution_count": null,
   "metadata": {},
   "outputs": [],
   "source": [
    "df_1 = pd.read_csv('/work/halld/home/viducic/data/ps_dalitz/kstar_cut_efficiency_1.0.csv')\n",
    "mass_bin_center = df_1[\"mass_bin_center\"].to_numpy()\n",
    "kstar_cut_efficiency = df_1[\"kstar_cut_efficiency\"].to_numpy()\n",
    "rdf_1 = ROOT.RDF.MakeNumpyDataFrame({\"mass_bin_center\": mass_bin_center, \"kstar_cut_efficiency\": kstar_cut_efficiency})\n",
    "graph = rdf_1.Graph(\"mass_bin_center\", \"kstar_cut_efficiency\")\n"
   ]
  },
  {
   "cell_type": "markdown",
   "metadata": {},
   "source": [
    "## $KK\\pi$ after efficiency correction"
   ]
  },
  {
   "cell_type": "code",
   "execution_count": null,
   "metadata": {},
   "outputs": [],
   "source": [
    "hist_eff_corrected_pipkmks = tools.get_integrated_gluex1_kstar_corrected_data_hist('pipkmks')\n",
    "hist_eff_corrected_pimkpks = tools.get_integrated_gluex1_kstar_corrected_data_hist('pimkpks')"
   ]
  },
  {
   "cell_type": "markdown",
   "metadata": {},
   "source": [
    "## Acceptance "
   ]
  },
  {
   "cell_type": "code",
   "execution_count": null,
   "metadata": {},
   "outputs": [],
   "source": [
    "pipkmks_eff = []\n",
    "pimkpks_eff = []\n",
    "\n",
    "for e in range(8, 12):\n",
    "    for t in range(1, 8):\n",
    "        pipkmks_acceptance = tools.get_binned_gluex1_signal_acceptance('pipkmks', e, t)\n",
    "        pimkpks_acceptance = tools.get_binned_gluex1_signal_acceptance('pimkpks', e, t)\n",
    "\n",
    "        pipkmks_eff.append((pipkmks_acceptance, e, t))\n",
    "        pimkpks_eff.append((pimkpks_acceptance, e, t))"
   ]
  },
  {
   "cell_type": "markdown",
   "metadata": {},
   "source": [
    "# Draw Plots"
   ]
  },
  {
   "cell_type": "code",
   "execution_count": null,
   "metadata": {},
   "outputs": [],
   "source": [
    "path_to_plots = '/work/halld/home/viducic/plots/thesis/'"
   ]
  },
  {
   "cell_type": "code",
   "execution_count": null,
   "metadata": {},
   "outputs": [],
   "source": [
    "c = ROOT.TCanvas('c', 'c', 600, 600)"
   ]
  },
  {
   "cell_type": "code",
   "execution_count": null,
   "metadata": {},
   "outputs": [],
   "source": [
    "rf_timing_file = ROOT.TFile.Open('/work/halld/home/viducic/scripts/plotting/plot_delta_t.root')\n",
    "hist_rf_timing = rf_timing_file.Get('RFTime')\n",
    "hist_rf_timing_cut = rf_timing_file.Get('RFTimeCut')\n",
    "hist_rf_timing_chi2_cut = rf_timing_file.Get('RFTimeChi2Cut')\n",
    "\n",
    "hist_rf_timing.SetDirectory(0)\n",
    "hist_rf_timing_cut.SetDirectory(0)\n",
    "hist_rf_timing_chi2_cut.SetDirectory(0)\n",
    "\n",
    "rf_timing_file.Close()\n",
    "\n",
    "hist_rf_timing.SetLineColor(ROOT.kBlack)\n",
    "hist_rf_timing_chi2_cut.SetLineColor(ROOT.kBlack)\n",
    "hist_rf_timing_cut.SetFillColor(ROOT.kGray)\n",
    "hist_rf_timing_cut.SetLineColor(ROOT.kBlack)\n",
    "\n",
    "hist_rf_timing.GetYaxis().SetTitle(f'Events/{hist_rf_timing.GetBinWidth(1):0.2f} ns')\n",
    "\n",
    "c.Clear()\n",
    "hist_rf_timing.Draw()\n",
    "# hist_rf_timing_chi2_cut.Draw('same')\n",
    "# hist_rf_timing_cut.Draw('same')\n",
    "c.Draw()\n"
   ]
  },
  {
   "cell_type": "code",
   "execution_count": null,
   "metadata": {},
   "outputs": [],
   "source": [
    "c.Clear()\n",
    "\n",
    "hist_rf_timing_chi2_cut.Draw()\n",
    "hist_rf_timing_cut.Draw('same')\n",
    "\n",
    "c.Draw()"
   ]
  },
  {
   "cell_type": "markdown",
   "metadata": {},
   "source": [
    "## Kinfit $\\chi^2/ndf$ and Kinfit Confidence Level"
   ]
  },
  {
   "cell_type": "code",
   "execution_count": null,
   "metadata": {},
   "outputs": [],
   "source": [
    "c.Clear()\n",
    "c.Divide(2,2)\n",
    "\n",
    "c.cd(1)\n",
    "hist_kcl_pipkmks.Draw()\n",
    "hist_kcl_pipkmks_cut.SetFillColor(ROOT.kBlue)\n",
    "hist_kcl_pipkmks_cut.Draw('same')\n",
    "c.cd(2)\n",
    "hist_kcl_pimkpks.Draw()\n",
    "hist_kcl_pimkpks_cut.SetFillColor(ROOT.kRed)\n",
    "hist_kcl_pimkpks_cut.Draw('same')\n",
    "c.cd(3)\n",
    "hist_x2ndf_pipkmks.Draw()\n",
    "c.cd(4)\n",
    "hist_x2ndf_pimkpks.Draw()\n",
    "c.Draw()"
   ]
  },
  {
   "cell_type": "markdown",
   "metadata": {},
   "source": [
    "## $M^{2}_{x}(pKK\\pi)$"
   ]
  },
  {
   "cell_type": "code",
   "execution_count": null,
   "metadata": {},
   "outputs": [],
   "source": [
    "c.Clear()\n",
    "# c.Divide(2,1)\n",
    "\n",
    "# mx2all_xtitle = 'M_{x}^{2}(pKK#pi) [GeV^{2}]'\n",
    "hist_mx2all_pipkmks.GetXaxis().SetTitle('M_{x}^{2}(pK^{-}K_{s}#pi^{+}) [GeV^{2}]')\n",
    "# mx2all_ytitle = f'Counts/{1000*(mx2_all_xhigh-mx2_all_xlow)/mx2_all_bins:.3f}' + ' MeV^{2}'\n",
    "hist_mx2all_pipkmks.GetYaxis().SetTitle(f'Counts/{1000*(mx2_all_xhigh-mx2_all_xlow)/mx2_all_bins:.1f}' +  ' MeV^{2}')\n",
    "hist_mx2all_pipkmks_cut.SetFillColor(ROOT.kBlue)\n",
    "hist_mx2all_pipkmks.GetYaxis().SetTitleOffset(1.4)\n",
    "# hist_mx2all_pipkmks.GetXaxis().SetTitleSize(0.05)\n",
    "hist_mx2all_pipkmks.GetXaxis().SetTitleOffset(1.1)\n",
    "\n",
    "\n",
    "hist_mx2all_pimkpks.GetXaxis().SetTitle('M_{x}^{2}(pK^{+}K_{s}#pi^{-}) [GeV^{2}]')\n",
    "hist_mx2all_pimkpks.GetYaxis().SetTitle(f'Counts/{1000*(mx2_all_xhigh-mx2_all_xlow)/mx2_all_bins:.1f}' +  ' MeV^{2}')\n",
    "hist_mx2all_pimkpks_cut.SetFillColor(ROOT.kRed)\n",
    "hist_mx2all_pimkpks.GetYaxis().SetTitleOffset(1.54)\n",
    "\n",
    "# title_hists([hist_mx2all_pimkpks, hist_mx2all_pipkmks], mx2all_xtitle, mx2all_ytitle)\n",
    "# title_hists([hist_mx2all_pimkpks_cut, hist_mx2all_pipkmks_cut], mx2all_xtitle, mx2all_ytitle)\n",
    "c.cd(1)\n",
    "hist_mx2all_pipkmks.Draw()\n",
    "hist_mx2all_pipkmks_cut.Draw('same')\n",
    "# c.cd(2)\n",
    "# hist_mx2all_pimkpks.Draw()\n",
    "# hist_mx2all_pimkpks_cut.Draw('same')\n",
    "print(hist_mx2all_pipkmks.GetStdDev())\n",
    "\n",
    "c.Draw()\n"
   ]
  },
  {
   "cell_type": "code",
   "execution_count": null,
   "metadata": {},
   "outputs": [],
   "source": [
    "c.Clear()\n",
    "# c.Divide(2,1)\n",
    "\n",
    "# mx2all_xtitle = 'M_{x}^{2}(pKK#pi) [GeV^{2}]'\n",
    "hist_mx2all_pipkmks.GetXaxis().SetTitle('M_{x}^{2}(pK^{-}K_{s}#pi^{+}) [GeV^{2}]')\n",
    "# mx2all_ytitle = f'Counts/{1000*(mx2_all_xhigh-mx2_all_xlow)/mx2_all_bins:.3f}' + ' MeV^{2}'\n",
    "hist_mx2all_pipkmks.GetYaxis().SetTitle(f'Counts/{1000*(mx2_all_xhigh-mx2_all_xlow)/mx2_all_bins:.1f}' +  ' MeV^{2}')\n",
    "hist_mx2all_pipkmks_cut.SetFillColor(ROOT.kBlue)\n",
    "hist_mx2all_pipkmks.GetYaxis().SetTitleOffset(1.4)\n",
    "# hist_mx2all_pipkmks.GetXaxis().SetTitleSize(0.05)\n",
    "hist_mx2all_pipkmks.GetXaxis().SetTitleOffset(1.1)\n",
    "\n",
    "\n",
    "hist_mx2all_pimkpks.GetXaxis().SetTitle('M_{x}^{2}(pK^{+}K_{s}#pi^{-}) [GeV^{2}]')\n",
    "hist_mx2all_pimkpks.GetYaxis().SetTitle(f'Counts/{1000*(mx2_all_xhigh-mx2_all_xlow)/mx2_all_bins:.1f}' +  ' MeV^{2}')\n",
    "hist_mx2all_pimkpks_cut.SetFillColor(ROOT.kRed)\n",
    "hist_mx2all_pimkpks.GetYaxis().SetTitleOffset(1.4)\n",
    "\n",
    "# title_hists([hist_mx2all_pimkpks, hist_mx2all_pipkmks], mx2all_xtitle, mx2all_ytitle)\n",
    "# title_hists([hist_mx2all_pimkpks_cut, hist_mx2all_pipkmks_cut], mx2all_xtitle, mx2all_ytitle)\n",
    "# c.cd(1)\n",
    "# hist_mx2all_pipkmks.Draw()\n",
    "# hist_mx2all_pipkmks_cut.Draw('same')\n",
    "# c.cd(2)\n",
    "hist_mx2all_pimkpks.Draw()\n",
    "hist_mx2all_pimkpks_cut.Draw('same')\n",
    "# print(hist_mx2all_pipkmks.GetStdDev())\n",
    "\n",
    "c.Draw()"
   ]
  },
  {
   "cell_type": "markdown",
   "metadata": {},
   "source": [
    "## $\\vec{p}(p')$"
   ]
  },
  {
   "cell_type": "code",
   "execution_count": null,
   "metadata": {},
   "outputs": [],
   "source": [
    "c.Clear()\n",
    "pp_xtitle = \"-t(p-p') [GeV^{2}]\"\n",
    "pp_ytitle = f'Counts/{1000*(pp_xhigh-pp_xlow)/pp_bins:.2f}' + ' MeV^{2}'\n",
    "\n",
    "title_hists([hist_trange_pipkmks, hist_trange_pipkmks_cut], pp_xtitle, pp_ytitle, yoffset=1.4)\n",
    "\n",
    "hist_trange_pipkmks_cut.SetFillColor(ROOT.kBlue)\n",
    "\n",
    "hist_trange_pipkmks.Draw()\n",
    "hist_trange_pipkmks_cut.Draw('same')\n",
    "c.Draw()\n"
   ]
  },
  {
   "cell_type": "code",
   "execution_count": null,
   "metadata": {},
   "outputs": [],
   "source": [
    "c.Clear()\n",
    "pp_xtitle = \"-t(p-p') [GeV^{2}]\"\n",
    "pp_ytitle = f'Counts/{1000*(pp_xhigh-pp_xlow)/pp_bins:.2f}' + ' MeV^{2}'\n",
    "\n",
    "title_hists([hist_trange_pimkpks, hist_trange_pimkpks_cut], pp_xtitle, pp_ytitle, yoffset=1.4)\n",
    "\n",
    "hist_trange_pimkpks_cut.SetFillColor(ROOT.kRed)\n",
    "\n",
    "hist_trange_pimkpks.Draw()\n",
    "hist_trange_pimkpks_cut.Draw('same')\n",
    "c.Draw()"
   ]
  },
  {
   "cell_type": "markdown",
   "metadata": {},
   "source": [
    "## Pathlength $\\Delta r/\\sigma_r$"
   ]
  },
  {
   "cell_type": "code",
   "execution_count": null,
   "metadata": {},
   "outputs": [],
   "source": [
    "c.Clear()\n",
    "\n",
    "ks_xtitle = 'M(#pi^{+}#pi^{-}) [GeV]'\n",
    "ks_ytitle = f'Counts/{1000*(ks_xhigh-ks_xlow)/ks_bins:.2f}' + ' MeV'\n",
    "\n",
    "title_hists([hist_ks_pipkmks, hist_ks_pipkmks_cut], ks_xtitle, ks_ytitle, yoffset=1.4)\n",
    "\n",
    "\n",
    "hist_ks_pipkmks_cut.SetFillColor(ROOT.kBlue)\n",
    "hist_ks_pipkmks.GetYaxis().SetRangeUser(0, 1.05*hist_ks_pipkmks.GetMaximum())\n",
    "\n",
    "hist_ks_pipkmks.Draw()\n",
    "hist_ks_pipkmks_cut.Draw('same')\n",
    "c.Draw()"
   ]
  },
  {
   "cell_type": "code",
   "execution_count": null,
   "metadata": {},
   "outputs": [],
   "source": [
    "c.Clear()\n",
    "\n",
    "ks_xtitle = 'M(#pi^{+}#pi^{-}) [GeV]'\n",
    "ks_ytitle = f'Counts/{1000*(ks_xhigh-ks_xlow)/ks_bins:.2f}' + ' MeV'\n",
    "\n",
    "title_hists([hist_ks_pimkpks, hist_ks_pimkpks_cut], ks_xtitle, ks_ytitle, yoffset=1.4)\n",
    "\n",
    "\n",
    "hist_ks_pimkpks_cut.SetFillColor(ROOT.kRed)\n",
    "hist_ks_pimkpks.GetYaxis().SetRangeUser(0, 1.05*hist_ks_pimkpks.GetMaximum())\n",
    "\n",
    "hist_ks_pimkpks.Draw()\n",
    "hist_ks_pimkpks_cut.Draw('same')\n",
    "c.Draw()"
   ]
  },
  {
   "cell_type": "markdown",
   "metadata": {},
   "source": [
    "## $\\Delta$ and $N^*$"
   ]
  },
  {
   "cell_type": "code",
   "execution_count": null,
   "metadata": {},
   "outputs": [],
   "source": [
    "from my_library.common_analysis_tools import sort_hists_by_max\n",
    "\n",
    "\n",
    "c.Clear()\n",
    "\n",
    "ppi_xtitle = 'M(p#pi) [GeV]'\n",
    "ppi_ytitle = f'Counts/{1000*(ppi_xhigh-ppi_xlow)/ppi_bins:.1f}' + ' MeV'\n",
    "\n",
    "title_hists([hist_ppi_pipkmks, hist_ppi_pipkmks_cut, hist_ppi_pimkpks, hist_ks_pimkpks_cut], ppi_xtitle, ppi_ytitle, yoffset=1.4)\n",
    "\n",
    "hist_ppi_pipkmks_cut.SetFillColorAlpha(ROOT.kBlue, 0.6)\n",
    "hist_ppi_pimkpks_cut.SetFillColor(ROOT.kRed)\n",
    "\n",
    "hist_ppi_pipkmks.SetLineColor(ROOT.kBlue)\n",
    "hist_ppi_pipkmks_cut.SetLineColor(ROOT.kBlue)\n",
    "hist_ppi_pimkpks.SetLineColor(ROOT.kRed)\n",
    "hist_ppi_pimkpks_cut.SetLineColor(ROOT.kRed)\n",
    "\n",
    "ppi_legend = ROOT.TLegend(0.6, 0.6, 0.9, 0.9)\n",
    "ppi_legend.AddEntry(hist_ppi_pipkmks.GetPtr(), 'p#pi^{+}', 'l')\n",
    "# ppi_legend.AddEntry(hist_ppi_pipkmks_cut.GetPtrpK^{-}K_{s}#pi^{+} (cut)', 'f')\n",
    "ppi_legend.AddEntry(hist_ppi_pimkpks.GetPtr(), 'p#pi^{-}', 'l')\n",
    "# ppi_legend.AddEntry(hist_ppi_pimkpks_cut.GetPtr(), 'pK^{+}K_{s}#pi^{-} (cut)', 'f')\n",
    "\n",
    "sorted_hists = sort_hists_by_max([hist_ppi_pipkmks, hist_ppi_pipkmks_cut, hist_ppi_pimkpks, hist_ppi_pimkpks_cut])\n",
    "\n",
    "sorted_hists[0].Draw()\n",
    "sorted_hists[1].Draw('same')\n",
    "sorted_hists[2].Draw('same')\n",
    "sorted_hists[3].Draw('same')\n",
    "ppi_legend.Draw()\n",
    "c.Draw()\n",
    "\n",
    "\n",
    "\n"
   ]
  },
  {
   "cell_type": "code",
   "execution_count": null,
   "metadata": {},
   "outputs": [],
   "source": [
    "c.Clear()\n",
    "hist_ppi_pipkmks_cut.SetFillColor(ROOT.kBlue)\n",
    "hist_ppi_pipkmks_cut.SetLineColor(ROOT.kBlack)\n",
    "hist_ppi_pipkmks.Draw()\n",
    "hist_ppi_pipkmks_cut.Draw(\"same\")\n",
    "c.Draw()"
   ]
  },
  {
   "cell_type": "code",
   "execution_count": null,
   "metadata": {},
   "outputs": [],
   "source": [
    "c.Clear()\n",
    "hist_ppi_pimkpks_cut.SetFillColor(ROOT.kRed)\n",
    "hist_ppi_pimkpks_cut.SetLineColor(ROOT.kBlack)\n",
    "hist_ppi_pimkpks.Draw()\n",
    "hist_ppi_pimkpks_cut.Draw(\"same\")\n",
    "c.Draw()"
   ]
  },
  {
   "cell_type": "markdown",
   "metadata": {},
   "source": [
    "## $\\Lambda/\\Sigma$"
   ]
  },
  {
   "cell_type": "code",
   "execution_count": null,
   "metadata": {},
   "outputs": [],
   "source": [
    "c.Clear()\n",
    "\n",
    "ksp_xtitle = 'M(pK_{s}) [GeV]'\n",
    "ksp_ytitle = f'Counts/{1000*(kp_xhigh-kp_xlow)/kp_bins:.1f}' + ' MeV'\n",
    "\n",
    "kp_xtitle = 'M(pK^{#pm}) [GeV]'\n",
    "kp_ytitle = f'Counts/{1000*(kp_xhigh-kp_xlow)/kp_bins:.1f}' + ' MeV'\n",
    "\n",
    "title_hists([hist_pks_pipkmks, hist_pks_pipkmks_cut, hist_pks_pimkpks, hist_pks_pimkpks_cut], ksp_xtitle, ksp_ytitle, yoffset=1.5)\n",
    "title_hists([hist_pk_pipkmks, hist_pk_pipkmks_cut, hist_pk_pimkpks, hist_pk_pimkpks_cut], kp_xtitle, kp_ytitle, yoffset=1.5)\n",
    "\n",
    "hist_pks_pipkmks_cut.SetFillColor(ROOT.kBlue)\n",
    "hist_pks_pimkpks_cut.SetFillColorAlpha(ROOT.kRed, 0.5)\n",
    "hist_pk_pipkmks_cut.SetFillColorAlpha(ROOT.kBlue, 0.5)\n",
    "hist_pk_pimkpks_cut.SetFillColor(ROOT.kRed)\n",
    "\n",
    "hist_pks_pipkmks.SetLineColor(ROOT.kBlue)\n",
    "hist_pks_pipkmks_cut.SetLineColor(ROOT.kBlue)\n",
    "hist_pks_pimkpks.SetLineColor(ROOT.kRed)\n",
    "hist_pks_pimkpks_cut.SetLineColor(ROOT.kRed)\n",
    "hist_pk_pipkmks.SetLineColor(ROOT.kBlue)\n",
    "hist_pk_pipkmks_cut.SetLineColor(ROOT.kBlue)\n",
    "hist_pk_pimkpks.SetLineColor(ROOT.kRed)\n",
    "hist_pk_pimkpks_cut.SetLineColor(ROOT.kRed)\n",
    "\n",
    "ksp_legend = ROOT.TLegend(0.45, 0.825, 0.925, 0.925)\n",
    "ksp_legend.SetTextSize(0.05)\n",
    "ksp_legend.AddEntry(hist_pks_pipkmks.GetPtr(), '#pi^{+}K^{-}K_{s} Channel', 'l')\n",
    "ksp_legend.AddEntry(hist_pks_pimkpks.GetPtr(), '#pi^{-}K^{+}K_{s} Channel', 'l')\n",
    "\n",
    "kp_legend = ROOT.TLegend(0.7, 0.85, 0.9, 0.925)\n",
    "kp_legend.SetTextSize(0.055)\n",
    "kp_legend.AddEntry(hist_pk_pipkmks.GetPtr(), 'pK^{-}', 'l')\n",
    "kp_legend.AddEntry(hist_pk_pimkpks.GetPtr(), 'pK^{+}', 'l')\n",
    "\n",
    "sorted_pks = sort_hists_by_max([hist_pks_pipkmks, hist_pks_pipkmks_cut, hist_pks_pimkpks, hist_pks_pimkpks_cut])\n",
    "sorted_pk = sort_hists_by_max([hist_pk_pipkmks, hist_pk_pipkmks_cut, hist_pk_pimkpks, hist_pk_pimkpks_cut])\n",
    "\n",
    "c.Divide(2,1)\n",
    "c.cd(1)\n",
    "sorted_pk[0].Draw()\n",
    "sorted_pk[1].Draw('same')\n",
    "sorted_pk[2].Draw('same')\n",
    "sorted_pk[3].Draw('same')\n",
    "kp_legend.Draw()\n",
    "\n",
    "c.cd(2)\n",
    "sorted_pks[0].Draw()\n",
    "sorted_pks[1].Draw('same')\n",
    "sorted_pks[2].Draw('same')\n",
    "sorted_pks[3].Draw('same')\n",
    "ksp_legend.Draw()\n",
    "\n",
    "c.Draw()"
   ]
  },
  {
   "cell_type": "code",
   "execution_count": null,
   "metadata": {},
   "outputs": [],
   "source": [
    "c.Clear()\n",
    "c.Divide(2,2)\n",
    "\n",
    "c.cd(1)\n",
    "hist_pk_pipkmks.GetYaxis().SetTitleOffset(1.5)\n",
    "hist_pk_pipkmks.GetXaxis().SetTitle('M(pK^{-}) [GeV]')\n",
    "hist_pk_pipkmks_cut.SetFillColor(ROOT.kBlue)\n",
    "hist_pk_pipkmks_cut.SetLineColor(ROOT.kBlack)\n",
    "hist_pk_pipkmks.Draw()\n",
    "hist_pk_pipkmks_cut.Draw('same')\n",
    "c.cd(2)\n",
    "hist_pk_pimkpks.GetYaxis().SetTitleOffset(1.5)\n",
    "hist_pk_pimkpks.GetXaxis().SetTitle('M(pK^{+}) [GeV]')\n",
    "hist_pk_pimkpks_cut.SetFillColor(ROOT.kRed)\n",
    "hist_pk_pimkpks_cut.SetLineColor(ROOT.kBlack)\n",
    "hist_pk_pimkpks.Draw()\n",
    "hist_pk_pimkpks_cut.Draw('same')\n",
    "c.cd(3)\n",
    "hist_pks_pipkmks.GetYaxis().SetTitleOffset(1.5)\n",
    "hist_pks_pipkmks.GetXaxis().SetTitle('M(pK_{s}) [GeV]')\n",
    "hist_pks_pipkmks_cut.SetFillColor(ROOT.kBlue)\n",
    "hist_pks_pipkmks_cut.SetLineColor(ROOT.kBlack)\n",
    "hist_pks_pipkmks.Draw()\n",
    "hist_pks_pipkmks_cut.Draw('same')\n",
    "c.cd(4)\n",
    "hist_pks_pimkpks.GetYaxis().SetTitleOffset(1.5)\n",
    "hist_pks_pimkpks.GetXaxis().SetTitle('M(pK_{s}) [GeV]')\n",
    "hist_pks_pimkpks_cut.SetFillColor(ROOT.kRed)\n",
    "hist_pks_pimkpks_cut.SetLineColor(ROOT.kBlack)\n",
    "hist_pks_pimkpks.Draw()\n",
    "hist_pks_pimkpks_cut.Draw('same')\n",
    "c.Draw()"
   ]
  },
  {
   "cell_type": "code",
   "execution_count": null,
   "metadata": {},
   "outputs": [],
   "source": [
    "c.Clear()\n",
    "\n",
    "hist_pk_pipkmks.GetYaxis().SetTitleOffset(1.5)\n",
    "hist_pk_pipkmks.GetXaxis().SetTitle('M(pK^{-}) [GeV]')\n",
    "hist_pk_pipkmks_cut.SetFillColor(ROOT.kBlue)\n",
    "hist_pk_pipkmks_cut.SetLineColor(ROOT.kBlack)\n",
    "hist_pk_pipkmks.Draw()\n",
    "hist_pk_pipkmks_cut.Draw('same')\n",
    "\n",
    "c.Draw()"
   ]
  },
  {
   "cell_type": "code",
   "execution_count": null,
   "metadata": {},
   "outputs": [],
   "source": [
    "c.Clear()\n",
    "\n",
    "hist_pk_pimkpks.GetYaxis().SetTitleOffset(1.5)\n",
    "hist_pk_pimkpks.GetXaxis().SetTitle('M(pK^{+}) [GeV]')\n",
    "hist_pk_pimkpks_cut.SetFillColor(ROOT.kRed)\n",
    "hist_pk_pimkpks_cut.SetLineColor(ROOT.kBlack)\n",
    "hist_pk_pimkpks.Draw()\n",
    "hist_pk_pimkpks_cut.Draw('same')\n",
    "\n",
    "c.Draw()"
   ]
  },
  {
   "cell_type": "code",
   "execution_count": null,
   "metadata": {},
   "outputs": [],
   "source": [
    "c.Clear()\n",
    "\n",
    "hist_pks_pipkmks.GetYaxis().SetTitleOffset(1.5)\n",
    "hist_pks_pipkmks.GetXaxis().SetTitle('M(pK_{s}) [GeV]')\n",
    "hist_pks_pipkmks_cut.SetFillColor(ROOT.kBlue)\n",
    "hist_pks_pipkmks_cut.SetLineColor(ROOT.kBlack)\n",
    "hist_pks_pipkmks.Draw()\n",
    "hist_pks_pipkmks_cut.Draw('same')\n",
    "\n",
    "c.Draw()"
   ]
  },
  {
   "cell_type": "code",
   "execution_count": null,
   "metadata": {},
   "outputs": [],
   "source": [
    "c.Clear()\n",
    "\n",
    "hist_pks_pimkpks.GetYaxis().SetTitleOffset(1.5)\n",
    "hist_pks_pimkpks.GetXaxis().SetTitle('M(pK_{s}) [GeV]')\n",
    "hist_pks_pimkpks_cut.SetFillColor(ROOT.kRed)\n",
    "hist_pks_pimkpks_cut.SetLineColor(ROOT.kBlack)\n",
    "hist_pks_pimkpks.Draw()\n",
    "hist_pks_pimkpks_cut.Draw('same')\n",
    "c.Draw()"
   ]
  },
  {
   "cell_type": "markdown",
   "metadata": {},
   "source": [
    "## $KK\\pi$ After Kinematics Cuts and Before $K^*$ Selection "
   ]
  },
  {
   "cell_type": "code",
   "execution_count": null,
   "metadata": {},
   "outputs": [],
   "source": [
    "c.Clear()\n",
    "\n",
    "ROOT.TGaxis.SetMaxDigits(4)\n",
    "\n",
    "kkpi_xtitle = 'M(KK#pi) [GeV]'\n",
    "kkpi_ytitle = f'Counts/{1000*(kkpi_xhigh-kkpi_xlow)/kkpi_bins:.1f}' + ' MeV'\n",
    "\n",
    "title_hists([hist_kkpi_no_kstar_pipkmks, hist_kkpi_no_kstar_pimkpks], kkpi_xtitle, kkpi_ytitle, yoffset=1.4)\n",
    "\n",
    "hist_kkpi_no_kstar_pipkmks.SetLineColor(ROOT.kBlue)\n",
    "hist_kkpi_no_kstar_pimkpks.SetLineColor(ROOT.kRed)\n",
    "\n",
    "hist_kkpi_no_kstar_pimkpks.SetFillColorAlpha(ROOT.kGray, 0.9)\n",
    "hist_kkpi_no_kstar_pipkmks.SetFillColorAlpha(ROOT.kGray, 0.4)\n",
    "\n",
    "hist_kkpi_no_kstar_pimkpks.GetYaxis().SetNoExponent(ROOT.kFALSE)\n",
    "\n",
    "kkpi_legend = ROOT.TLegend(0.15, 0.7, 0.4, 0.9)\n",
    "kkpi_legend.AddEntry(hist_kkpi_no_kstar_pipkmks.GetPtr(), '#pi^{+}K^{-}K_{s}', 'l')\n",
    "kkpi_legend.AddEntry(hist_kkpi_no_kstar_pimkpks.GetPtr(), '#pi^{-}K^{+}K_{s}', 'l')\n",
    "\n",
    "sorted_kkpi = sort_hists_by_max([hist_kkpi_no_kstar_pipkmks, hist_kkpi_no_kstar_pimkpks])\n",
    "\n",
    "sorted_kkpi[0].Draw()\n",
    "sorted_kkpi[1].Draw('same')\n",
    "kkpi_legend.Draw()\n",
    "\n",
    "c.Draw()"
   ]
  },
  {
   "cell_type": "code",
   "execution_count": null,
   "metadata": {},
   "outputs": [],
   "source": [
    "c.Clear()\n",
    "\n",
    "\n",
    "hist_kkpi_no_kstar_pipkmks.SetLineColor(ROOT.kBlue)\n",
    "hist_kkpi_no_kstar_pipkmks.SetFillColor(ROOT.kGray)\n",
    "hist_kkpi_no_kstar_pipkmks.GetXaxis().SetTitle('M(K^{-}K_{s}#pi^{+}) [GeV]')\n",
    "\n",
    "# hist_kkpi_no_kstar_pimkpks.GetYaxis().SetNoExponent(ROOT.kFALSE)\n",
    "hist_kkpi_no_kstar_pipkmks.Draw()\n",
    "c.Draw()"
   ]
  },
  {
   "cell_type": "code",
   "execution_count": null,
   "metadata": {},
   "outputs": [],
   "source": [
    "c.Clear()\n",
    "\n",
    "\n",
    "hist_kkpi_no_kstar_pimkpks.SetLineColor(ROOT.kRed)\n",
    "hist_kkpi_no_kstar_pimkpks.SetFillColor(ROOT.kGray)\n",
    "hist_kkpi_no_kstar_pimkpks.GetXaxis().SetTitle('M(K^{+}K_{s}#pi^{-}) [GeV]')\n",
    "\n",
    "# hist_kkpi_no_kstar_pimkpks.GetYaxis().SetNoExponent(ROOT.kFALSE)\n",
    "hist_kkpi_no_kstar_pimkpks.Draw()\n",
    "c.Draw()"
   ]
  },
  {
   "cell_type": "markdown",
   "metadata": {},
   "source": [
    "## $K^*$ Plots"
   ]
  },
  {
   "cell_type": "code",
   "execution_count": null,
   "metadata": {},
   "outputs": [],
   "source": [
    "c.Clear()\n",
    "\n",
    "hist_kstar_charged_pipkmks.SetLineColor(ROOT.kBlue)\n",
    "hist_kstar_charged_cut_pipkmks.SetFillColor(ROOT.kBlue)\n",
    "hist_kstar_charged_cut_pipkmks.SetLineColor(ROOT.kBlack)\n",
    "\n",
    "hist_kstar_charged_pipkmks.Draw()\n",
    "hist_kstar_charged_cut_pipkmks.Draw('same')\n",
    "\n",
    "c.Draw()"
   ]
  },
  {
   "cell_type": "code",
   "execution_count": null,
   "metadata": {},
   "outputs": [],
   "source": [
    "c.Clear()\n",
    "\n",
    "hist_kstar_charged_pimkpks.SetLineColor(ROOT.kRed)\n",
    "hist_kstar_charged_cut_pimkpks.SetFillColor(ROOT.kRed)\n",
    "hist_kstar_charged_cut_pimkpks.SetLineColor(ROOT.kBlack)\n",
    "\n",
    "hist_kstar_charged_pimkpks.Draw()\n",
    "hist_kstar_charged_cut_pimkpks.Draw('same')\n",
    "\n",
    "c.Draw()"
   ]
  },
  {
   "cell_type": "code",
   "execution_count": null,
   "metadata": {},
   "outputs": [],
   "source": [
    "c.Clear()\n",
    "\n",
    "hist_kstar_zero_pipkmks.SetLineColor(ROOT.kBlue)\n",
    "hist_kstar_zero_cut_pipkmks.SetFillColor(ROOT.kBlue)\n",
    "hist_kstar_zero_cut_pipkmks.SetLineColor(ROOT.kBlack)\n",
    "\n",
    "hist_kstar_zero_pipkmks.Draw()\n",
    "hist_kstar_zero_cut_pipkmks.Draw('same')\n",
    "\n",
    "c.Draw()"
   ]
  },
  {
   "cell_type": "code",
   "execution_count": null,
   "metadata": {},
   "outputs": [],
   "source": [
    "c.Clear()\n",
    "\n",
    "hist_kstar_zero_pimkpks.SetLineColor(ROOT.kRed)\n",
    "hist_kstar_zero_cut_pimkpks.SetFillColor(ROOT.kRed)\n",
    "hist_kstar_zero_cut_pimkpks.SetLineColor(ROOT.kBlack)\n",
    "\n",
    "hist_kstar_zero_pimkpks.Draw()\n",
    "hist_kstar_zero_cut_pimkpks.Draw('same')\n",
    "\n",
    "c.Draw()"
   ]
  },
  {
   "cell_type": "markdown",
   "metadata": {},
   "source": [
    "## $K\\pi$ Dalitz Plots"
   ]
  },
  {
   "cell_type": "code",
   "execution_count": null,
   "metadata": {},
   "outputs": [],
   "source": [
    "c.Clear()\n",
    "\n",
    "\n",
    "kstar_dalitz_ylow = (cuts.CHARGED_KSTAR_MASS - 2*cuts.CHARGED_KSTAR_WIDTH)*(cuts.CHARGED_KSTAR_MASS - 2*cuts.CHARGED_KSTAR_WIDTH)\n",
    "kstar_dalitz_yhigh = (cuts.CHARGED_KSTAR_MASS + 2*cuts.CHARGED_KSTAR_WIDTH)*(cuts.CHARGED_KSTAR_MASS + 2*cuts.CHARGED_KSTAR_WIDTH)\n",
    "kstar_dalitz_xlow = (cuts.NEUTRAL_KSTAR_MASS - 2*cuts.NEUTRAL_KSTAR_WIDTH)*(cuts.NEUTRAL_KSTAR_MASS - 2*cuts.NEUTRAL_KSTAR_WIDTH)\n",
    "kstar_dalitz_xhigh = (cuts.NEUTRAL_KSTAR_MASS + 2*cuts.NEUTRAL_KSTAR_WIDTH)*(cuts.NEUTRAL_KSTAR_MASS + 2*cuts.NEUTRAL_KSTAR_WIDTH)\n",
    "kstar_neutral_box = ROOT.TBox(kstar_dalitz_xlow, 0.2, kstar_dalitz_xhigh, 1.2)\n",
    "kstar_neutral_box.SetFillColorAlpha(ROOT.kGray, 0.7)\n",
    "kstar_neutral_box.SetFillStyle(3001)\n",
    "kstar_charged_box = ROOT.TBox(0.2,kstar_dalitz_ylow, 1.2, kstar_dalitz_yhigh)\n",
    "kstar_charged_box.SetFillColorAlpha(ROOT.kGray, 0.7)\n",
    "kstar_charged_box.SetFillStyle(3001)\n",
    "                                                                          \n",
    "hist_kstar_dalitz_pipkmks_1285.GetXaxis().SetTitle('M^{2}(K^{#pm}#pi^{#mp}) [GeV^{2}]')\n",
    "hist_kstar_dalitz_pipkmks_1285.GetYaxis().SetTitle('M^{2}(K_{s}#pi^{#mp}) [GeV^{2}]')\n",
    "hist_kstar_dalitz_pipkmks_1285.Draw('colz')\n",
    "kstar_neutral_box.Draw()\n",
    "kstar_charged_box.Draw()\n",
    "c.Draw()"
   ]
  },
  {
   "cell_type": "code",
   "execution_count": null,
   "metadata": {},
   "outputs": [],
   "source": [
    "c.Clear()\n",
    "                                                                          \n",
    "hist_kstar_dalitz_pipkmks_1400.GetXaxis().SetTitle('M^{2}(K^{#pm}#pi^{#mp}) [GeV^{2}]')\n",
    "hist_kstar_dalitz_pipkmks_1400.GetYaxis().SetTitle('M^{2}(K_{s}#pi^{#mp}) [GeV^{2}]')\n",
    "hist_kstar_dalitz_pipkmks_1400.Draw('colz')\n",
    "kstar_neutral_box.Draw()\n",
    "kstar_charged_box.Draw()\n",
    "c.Draw()"
   ]
  },
  {
   "cell_type": "code",
   "execution_count": null,
   "metadata": {},
   "outputs": [],
   "source": [
    "c.Clear()\n",
    "                                                                          \n",
    "hist_kstar_dalitz_pipkmks_1500.GetXaxis().SetTitle('M^{2}(K^{#pm}#pi^{#mp}) [GeV^{2}]')\n",
    "hist_kstar_dalitz_pipkmks_1500.GetYaxis().SetTitle('M^{2}(K_{s}#pi^{#mp}) [GeV^{2}]')\n",
    "hist_kstar_dalitz_pipkmks_1500.Draw('colz')\n",
    "kstar_neutral_box.Draw()\n",
    "kstar_charged_box.Draw()\n",
    "c.Draw()"
   ]
  },
  {
   "cell_type": "markdown",
   "metadata": {},
   "source": [
    "## $K^*$ Rejection"
   ]
  },
  {
   "cell_type": "code",
   "execution_count": null,
   "metadata": {},
   "outputs": [],
   "source": [
    "c.Clear()\n",
    "\n",
    "title_hists([hist_kkpi_kstar_rejected_pipkmks, hist_kkpi_kstar_rejected_pimkpks], kkpi_xtitle, kkpi_ytitle, yoffset=1.4)\n",
    "\n",
    "hist_kkpi_kstar_rejected_pipkmks.SetFillColorAlpha(ROOT.kBlue, 0.7)\n",
    "hist_kkpi_kstar_rejected_pimkpks.SetFillColor(ROOT.kRed)\n",
    "hist_kkpi_kstar_rejected_pipkmks.SetLineColor(ROOT.kBlue)\n",
    "hist_kkpi_kstar_rejected_pimkpks.SetLineColor(ROOT.kRed)\n",
    "\n",
    "sorted_kstar_reject_hists = sort_hists_by_max([hist_kkpi_kstar_rejected_pipkmks, hist_kkpi_kstar_rejected_pimkpks, hist_kkpi_no_kstar_pipkmks, hist_kkpi_no_kstar_pimkpks])\n",
    "\n",
    "sorted_kstar_reject_hists[0].Draw()\n",
    "sorted_kstar_reject_hists[2].Draw('same')\n",
    "sorted_kstar_reject_hists[1].Draw('same')\n",
    "sorted_kstar_reject_hists[3].Draw('same')\n",
    "kkpi_legend.Draw()\n",
    "\n",
    "c.Draw()\n",
    "\n"
   ]
  },
  {
   "cell_type": "markdown",
   "metadata": {},
   "source": [
    "## Charged $K^*$ Selection"
   ]
  },
  {
   "cell_type": "code",
   "execution_count": null,
   "metadata": {},
   "outputs": [],
   "source": [
    "c.Clear()\n",
    "\n",
    "title_hists([hist_kkpi_kstar_charged_selected_pipkmks, hist_kkpi_kstar_charged_selected_pimkpks], kkpi_xtitle, kkpi_ytitle, yoffset=1.4)\n",
    "\n",
    "hist_kkpi_kstar_charged_selected_pipkmks.SetFillColorAlpha(ROOT.kBlue, 0.7)\n",
    "hist_kkpi_kstar_charged_selected_pimkpks.SetFillColor(ROOT.kRed)\n",
    "hist_kkpi_kstar_charged_selected_pipkmks.SetLineColor(ROOT.kBlue)\n",
    "hist_kkpi_kstar_charged_selected_pimkpks.SetLineColor(ROOT.kRed)\n",
    "\n",
    "sorted_kstar_select_charged_hists = sort_hists_by_max([hist_kkpi_kstar_charged_selected_pipkmks, hist_kkpi_kstar_charged_selected_pimkpks, hist_kkpi_no_kstar_pipkmks, hist_kkpi_no_kstar_pimkpks])\n",
    "\n",
    "sorted_kstar_select_charged_hists[0].Draw()\n",
    "sorted_kstar_select_charged_hists[2].Draw('same')\n",
    "sorted_kstar_select_charged_hists[1].Draw('same')\n",
    "sorted_kstar_select_charged_hists[3].Draw('same')\n",
    "kkpi_legend.Draw()\n",
    "\n",
    "c.Draw()"
   ]
  },
  {
   "cell_type": "markdown",
   "metadata": {},
   "source": [
    "## Neutral $K^*$ Selection"
   ]
  },
  {
   "cell_type": "code",
   "execution_count": null,
   "metadata": {},
   "outputs": [],
   "source": [
    "c.Clear()\n",
    "\n",
    "title_hists([hist_kkpi_kstar_neutral_selected_pipkmks, hist_kkpi_kstar_neutral_selected_pimkpks], kkpi_xtitle, kkpi_ytitle, yoffset=1.4)\n",
    "\n",
    "hist_kkpi_kstar_neutral_selected_pipkmks.SetFillColor(ROOT.kBlue)\n",
    "hist_kkpi_kstar_neutral_selected_pimkpks.SetFillColorAlpha(ROOT.kRed, 0.7)\n",
    "hist_kkpi_kstar_neutral_selected_pipkmks.SetLineColor(ROOT.kBlue)\n",
    "hist_kkpi_kstar_neutral_selected_pimkpks.SetLineColor(ROOT.kRed)\n",
    "\n",
    "sorted_kstar_select_neutral_hists = sort_hists_by_max([hist_kkpi_kstar_neutral_selected_pipkmks, hist_kkpi_kstar_neutral_selected_pimkpks, hist_kkpi_no_kstar_pipkmks, hist_kkpi_no_kstar_pimkpks])\n",
    "\n",
    "sorted_kstar_select_neutral_hists[0].Draw()\n",
    "sorted_kstar_select_neutral_hists[2].Draw('same')\n",
    "sorted_kstar_select_neutral_hists[1].Draw('same')\n",
    "sorted_kstar_select_neutral_hists[3].Draw('same')\n",
    "kkpi_legend.Draw()\n",
    "\n",
    "c.Draw()"
   ]
  },
  {
   "cell_type": "markdown",
   "metadata": {},
   "source": [
    "## Phasespace efficiency for $K^*$ Rejection "
   ]
  },
  {
   "cell_type": "code",
   "execution_count": null,
   "metadata": {},
   "outputs": [],
   "source": [
    "# code found at: /work/halld/home/viducic/scripts/crosssection/kstar_rejection_dalitz_efficiency.ipynb"
   ]
  },
  {
   "cell_type": "code",
   "execution_count": null,
   "metadata": {},
   "outputs": [],
   "source": [
    "c.Clear()\n",
    "\n",
    "title_hists([hist_ps_kkpi_before, hist_ps_kkpi_after], kkpi_xtitle, kkpi_ytitle, yoffset=1.4)\n",
    "\n",
    "hist_ps_kkpi_after.SetFillColor(ROOT.kBlue)\n",
    "\n",
    "hist_ps_kkpi_before.Draw()\n",
    "hist_ps_kkpi_after.Draw('same')\n",
    "\n",
    "c.Draw()"
   ]
  },
  {
   "cell_type": "markdown",
   "metadata": {},
   "source": [
    "## $K^*$ efficiency correction thrown MC"
   ]
  },
  {
   "cell_type": "code",
   "execution_count": null,
   "metadata": {},
   "outputs": [],
   "source": [
    "c.Clear()\n",
    "graph.GetXaxis().SetTitle(\"M(KK#pi) [GeV]\")\n",
    "graph.GetYaxis().SetTitle(\"#frac{Weight Passed}{Weight Generated}\")\n",
    "graph.SetMarkerStyle(20)\n",
    "graph.SetMarkerSize(0.75)\n",
    "graph.SetMarkerColor(ROOT.kBlack)\n",
    "\n",
    "c = ROOT.TCanvas()\n",
    "graph.Draw(\"AP\")\n",
    "c.Update()\n",
    "c.Draw()"
   ]
  },
  {
   "cell_type": "markdown",
   "metadata": {},
   "source": [
    "## $\\epsilon$ corrected $KK\\pi$ Distributions "
   ]
  },
  {
   "cell_type": "code",
   "execution_count": null,
   "metadata": {},
   "outputs": [],
   "source": [
    "c.Clear()\n",
    "\n",
    "\n",
    "hist_eff_corrected_pipkmks.SetLineColor(ROOT.kBlue)\n",
    "hist_eff_corrected_pimkpks.SetLineColor(ROOT.kRed)\n",
    "\n",
    "hist_eff_corrected_pimkpks.GetXaxis().SetRangeUser(1.1, 1.8)\n",
    "hist_eff_corrected_pipkmks.GetXaxis().SetRangeUser(1.1, 1.8)\n",
    "\n",
    "\n",
    "hist_kkpi_no_kstar_pimkpks.Draw()\n",
    "hist_eff_corrected_pimkpks.Draw('same')\n",
    "hist_eff_corrected_pipkmks.Draw('same')\n",
    "hist_kkpi_no_kstar_pipkmks.Draw('same')\n",
    "\n",
    "\n",
    "c.Draw()"
   ]
  },
  {
   "cell_type": "code",
   "execution_count": null,
   "metadata": {},
   "outputs": [],
   "source": [
    "c.Clear()\n",
    "\n",
    "hist_kkpi_no_kstar_pipkmks.GetXaxis().SetTitle('M(K^{-}K_{s}#pi^{+}) [GeV]')\n",
    "hist_kkpi_no_kstar_pipkmks.SetFillColor(ROOT.kGray)\n",
    "hist_eff_corrected_pipkmks.SetFillColor(ROOT.kBlue)\n",
    "hist_eff_corrected_pipkmks.SetLineColor(ROOT.kBlack)\n",
    "\n",
    "hist_kkpi_no_kstar_pipkmks.Draw()\n",
    "hist_eff_corrected_pipkmks.Draw('same hist')\n",
    "\n",
    "\n",
    "c.Draw()"
   ]
  },
  {
   "cell_type": "code",
   "execution_count": null,
   "metadata": {},
   "outputs": [],
   "source": [
    "c.Clear()\n",
    "\n",
    "hist_kkpi_no_kstar_pimkpks.GetXaxis().SetTitle('M(K^{+}K#pi^{-}) [GeV]')\n",
    "hist_kkpi_no_kstar_pimkpks.SetFillColor(ROOT.kGray)\n",
    "hist_eff_corrected_pimkpks.SetFillColor(ROOT.kRed)\n",
    "hist_eff_corrected_pimkpks.SetLineColor(ROOT.kBlack)\n",
    "\n",
    "hist_kkpi_no_kstar_pimkpks.Draw()\n",
    "hist_eff_corrected_pimkpks.Draw('same hist')\n",
    "\n",
    "\n",
    "c.Draw()"
   ]
  },
  {
   "cell_type": "markdown",
   "metadata": {},
   "source": [
    "## Acceptance "
   ]
  },
  {
   "cell_type": "code",
   "execution_count": null,
   "metadata": {},
   "outputs": [],
   "source": [
    "c.Clear()\n",
    "# graph_pipkmks = ROOT.TGraphErrors()\n",
    "# graph_pimkpks = ROOT.TGraphErrors()\n",
    "\n",
    "pipkmks_bin_middles = []\n",
    "pipkmks_effs = []\n",
    "pimkpks_bin_middles = []\n",
    "pimkpks_effs = []\n",
    "\n",
    "for pipeff, pimeff in zip(pipkmks_eff, pimkpks_eff):\n",
    "\n",
    "    e = pipeff[1]\n",
    "    t = pipeff[2]\n",
    "\n",
    "    if e != 8:\n",
    "        continue\n",
    "\n",
    "    t_bin_middle = (constants.T_CUT_DICT[t][0] + constants.T_CUT_DICT[t][1])/2.0\n",
    "    pipkmks_effs.append(pipeff[0][0])\n",
    "    pipkmks_bin_middles.append(t_bin_middle)\n",
    "    pimkpks_effs.append(pimeff[0][0])\n",
    "    pimkpks_bin_middles.append(t_bin_middle)\n",
    "\n",
    "graph_pipkmks = ROOT.TGraph(len(np.array(pipkmks_bin_middles)), np.array(pipkmks_bin_middles), np.array(pipkmks_effs))\n",
    "graph_pipkmks.SetMarkerSize(2)\n",
    "graph_pipkmks.SetMarkerStyle(20)\n",
    "graph_pipkmks.SetMarkerColor(ROOT.kBlue)\n",
    "\n",
    "graph_pimkpks = ROOT.TGraph(len(np.array(pimkpks_bin_middles)), np.array(pimkpks_bin_middles), np.array(pimkpks_effs))\n",
    "graph_pimkpks.SetMarkerSize(2)\n",
    "graph_pimkpks.SetMarkerStyle(20)\n",
    "graph_pimkpks.SetMarkerColor(ROOT.kRed)\n",
    "\n",
    "acceptance_legend = ROOT.TLegend(0.4, 0.2, 0.6, 0.4)\n",
    "acceptance_legend.AddEntry(graph_pipkmks, 'K^{-}K_{s}#pi^{+}', 'p')\n",
    "acceptance_legend.AddEntry(graph_pimkpks, 'K^{+}K_{s}#pi^{-}', 'p')\n",
    "\n",
    "graph_pipkmks.GetXaxis().SetRangeUser(0, 2.0)\n",
    "graph_pipkmks.GetXaxis().SetTitle('-t [GeV^{2}]')\n",
    "graph_pipkmks.SetTitle(\"E_{#gamme} = 8 GeV\")\n",
    "graph_pimkpks.SetTitle(\"E_{#gamme} = 8 GeV\")\n",
    "\n",
    "graph_pipkmks.Draw(\"AP\")\n",
    "graph_pimkpks.Draw(\"P\")\n",
    "acceptance_legend.Draw()\n",
    "c.Draw()\n",
    "    "
   ]
  },
  {
   "cell_type": "code",
   "execution_count": null,
   "metadata": {},
   "outputs": [],
   "source": [
    "c.Clear()\n",
    "# graph_pipkmks = ROOT.TGraphErrors()\n",
    "# graph_pimkpks = ROOT.TGraphErrors()\n",
    "\n",
    "pipkmks_bin_middles = []\n",
    "pipkmks_effs = []\n",
    "pimkpks_bin_middles = []\n",
    "pimkpks_effs = []\n",
    "\n",
    "for pipeff, pimeff in zip(pipkmks_eff, pimkpks_eff):\n",
    "\n",
    "    e = pipeff[1]\n",
    "    t = pipeff[2]\n",
    "\n",
    "    if e != 9:\n",
    "        continue\n",
    "\n",
    "    t_bin_middle = (constants.T_CUT_DICT[t][0] + constants.T_CUT_DICT[t][1])/2.0\n",
    "    pipkmks_effs.append(pipeff[0][0])\n",
    "    pipkmks_bin_middles.append(t_bin_middle)\n",
    "    pimkpks_effs.append(pimeff[0][0])\n",
    "    pimkpks_bin_middles.append(t_bin_middle)\n",
    "\n",
    "graph_pipkmks = ROOT.TGraph(len(np.array(pipkmks_bin_middles)), np.array(pipkmks_bin_middles), np.array(pipkmks_effs))\n",
    "graph_pipkmks.SetMarkerSize(2)\n",
    "graph_pipkmks.SetMarkerStyle(20)\n",
    "graph_pipkmks.SetMarkerColor(ROOT.kBlue)\n",
    "\n",
    "graph_pimkpks = ROOT.TGraph(len(np.array(pimkpks_bin_middles)), np.array(pimkpks_bin_middles), np.array(pimkpks_effs))\n",
    "graph_pimkpks.SetMarkerSize(2)\n",
    "graph_pimkpks.SetMarkerStyle(20)\n",
    "graph_pimkpks.SetMarkerColor(ROOT.kRed)\n",
    "\n",
    "acceptance_legend = ROOT.TLegend(0.4, 0.2, 0.6, 0.4)\n",
    "acceptance_legend.AddEntry(graph_pipkmks, 'K^{-}K_{s}#pi^{+}', 'p')\n",
    "acceptance_legend.AddEntry(graph_pimkpks, 'K^{+}K_{s}#pi^{-}', 'p')\n",
    "\n",
    "graph_pipkmks.GetXaxis().SetRangeUser(0, 2.0)\n",
    "graph_pipkmks.GetXaxis().SetTitle('-t [GeV^{2}]')\n",
    "graph_pipkmks.SetTitle(\"E_{#gamme} = 8 GeV\")\n",
    "graph_pimkpks.SetTitle(\"E_{#gamme} = 8 GeV\")\n",
    "\n",
    "graph_pipkmks.Draw(\"AP\")\n",
    "graph_pimkpks.Draw(\"P\")\n",
    "acceptance_legend.Draw()\n",
    "c.Draw()"
   ]
  },
  {
   "cell_type": "markdown",
   "metadata": {},
   "source": [
    "## Data and MC Comparison"
   ]
  },
  {
   "cell_type": "code",
   "execution_count": null,
   "metadata": {},
   "outputs": [],
   "source": [
    "c.Clear()\n",
    "\n",
    "hist_kkpi_no_kstar_pipkmks.SetFillColorAlpha(ROOT.kGray, 0.5)\n",
    "hist_kkpi_no_kstar_pimkpks.Draw()\n",
    "hist_kkpi_no_kstar_pipkmks.Draw('same')\n",
    "\n",
    "c.Draw()"
   ]
  },
  {
   "cell_type": "markdown",
   "metadata": {},
   "source": [
    "## $K_s$ Width Extraction"
   ]
  },
  {
   "cell_type": "code",
   "execution_count": null,
   "metadata": {},
   "outputs": [],
   "source": [
    "ks_fit = ROOT.TF1('ks_fit', '[0] * TMath::Gaus(x, [1], [2]) + [3] * TMath::Gaus(x, [4], [5]) + [6] + [7]*x', 0.4, 0.6)\n",
    "ks_fit.SetParameter(0, 60000)\n",
    "ks_fit.SetParameter(1, 0.5)\n",
    "ks_fit.SetParameter(2, 0.01)\n",
    "ks_fit.SetParLimits(2, 0.0, 1)\n",
    "ks_fit.SetParameter(3, 10000)\n",
    "ks_fit.SetParameter(4, 0.5)\n",
    "ks_fit.SetParameter(5, 0.01)\n",
    "ks_fit.SetParLimits(5, 0.0, 1)\n",
    "ks_fit.SetParameter(6, 10)\n",
    "ks_fit.SetParameter(7, 5000)\n",
    "\n",
    "result = hist_ks_pipkmks_cut.Fit(ks_fit, 'LSR0')\n",
    "\n",
    "g1 = ROOT.TF1('gaus1', '[0] * TMath::Gaus(x, [1], [2])', 0.4, 0.6)\n",
    "g2 = ROOT.TF1('gaus2', '[0] * TMath::Gaus(x, [1], [2])', 0.4, 0.6)\n",
    "p1 = ROOT.TF1('pol1', '[0] + [1]*x', 0.4, 0.6)\n",
    "\n",
    "g1.SetParameters(ks_fit.GetParameter(0), ks_fit.GetParameter(1), ks_fit.GetParameter(2))\n",
    "g2.SetParameters(ks_fit.GetParameter(3), ks_fit.GetParameter(4), ks_fit.GetParameter(5))\n",
    "p1.SetParameters(ks_fit.GetParameter(6), ks_fit.GetParameter(7))\n",
    "\n",
    "ks_fit.SetLineColor(ROOT.kBlue)\n",
    "\n",
    "\n",
    "g1.SetLineColor(ROOT.kBlue)\n",
    "g1.SetLineStyle(2)\n",
    "g2.SetLineColor(ROOT.kAzure)\n",
    "g2.SetLineStyle(4)\n",
    "p1.SetLineColor(ROOT.kRed)\n",
    "\n",
    "integral1 = g1.Integral(0.4, 0.6)\n",
    "integral2 = g2.Integral(0.4, 0.6)\n",
    "integral_bkg = p1.Integral(0.4, 0.6)\n",
    "\n",
    "frac = integral1/(integral1 + integral2)\n",
    "\n",
    "sigma1 = g1.GetParameter(2)\n",
    "sigma2 = g2.GetParameter(2)\n",
    "\n",
    "mean1 = g1.GetParameter(1)\n",
    "mean2 = g2.GetParameter(1)\n",
    "\n",
    "sigma_total = sigma1 * frac + sigma2 * (1.0 - frac)\n",
    "mean_total = mean1 * frac + mean2 * (1.0 - frac)\n",
    "\n",
    "int_region_low = mean_total - 2 * sigma_total\n",
    "int_region_high = mean_total + 2 * sigma_total\n",
    "\n",
    "print(int_region_low)\n",
    "print(int_region_high)\n",
    "\n",
    "s_over_b = (g1.Integral(int_region_low, int_region_high) + g2.Integral(int_region_low, int_region_high))/p1.Integral(int_region_low, int_region_high)\n",
    "\n",
    "c.Clear()\n",
    "hist_ks_pipkmks_cut.SetFillColor(ROOT.kWhite)\n",
    "hist_ks_pipkmks_cut.SetLineWidth(5)\n",
    "hist_ks_pipkmks_cut.GetXaxis().SetRangeUser(0.4, 0.6)\n",
    "hist_ks_pipkmks_cut.Draw(\"E\")\n",
    "hist_ks_pipkmks_cut_2.Draw(\"same\")\n",
    "ks_fit.Draw('same')\n",
    "g1.Draw('same')\n",
    "g2.Draw('same')\n",
    "p1.Draw('same')\n",
    "\n",
    "fit_params = ROOT.TLatex()\n",
    "fit_params.SetTextSize(0.0425)\n",
    "fit_params.DrawLatexNDC(0.65, 0.8, \"#sigma_{1} = \" + '{:.2f}'.format(sigma1 * 1000) + ' MeV')\n",
    "fit_params.DrawLatexNDC(0.65, 0.75, \"#sigma_{2} = \" + '{:.2f}'.format(sigma2 * 1000) + ' MeV')\n",
    "fit_params.DrawLatexNDC(0.65, 0.7, \"#sigma_{total} = \" + '{:.2f}'.format(sigma_total * 1000) + ' MeV')\n",
    "fit_params.DrawLatexNDC(0.65, 0.6, \"#frac{S}{B} = \" + '{:.2f}'.format(s_over_b))\n",
    "\n",
    "c.Draw()"
   ]
  },
  {
   "cell_type": "markdown",
   "metadata": {},
   "source": [
    "## $f_1$ Resolution Extraction"
   ]
  },
  {
   "cell_type": "code",
   "execution_count": null,
   "metadata": {},
   "outputs": [],
   "source": [
    "res_signal_mc = tools.get_integrated_gluex1_signal_mc_hist_for_resolution_fitting('pipkmks', scale_factor=50, nbins = 500)\n",
    "tools.set_sqrtN_error(res_signal_mc)\n",
    "res_signal_mc.GetXaxis().SetTitle('M(K^{-}K_{s}#pi^{+}) [GeV]')\n",
    "res_signal_mc.GetYaxis().SetTitle('Counts')\n",
    "res_signal_mc.GetXaxis().SetRangeUser(1.1, 1.5)\n",
    "\n",
    "res_func = ROOT.TF1('func', '[0]*TMath::Voigt(x-[1], [2], [3])', 1.15, 1.4)\n",
    "res_func.FixParameter(1, 1.285)\n",
    "res_func.FixParameter(3, 0.022)\n",
    "\n",
    "res_result = res_signal_mc.Fit(res_func, 'SR0')\n",
    "res_func.SetLineColor(ROOT.kBlue)\n",
    "\n",
    "\n",
    "chi2_per_ndf = res_func.GetChisquare() / res_func.GetNDF()\n",
    "\n",
    "c.Clear()\n",
    "res_signal_mc.Draw()\n",
    "res_func.Draw('same')\n",
    "\n",
    "res_fit_latex = ROOT.TLatex()\n",
    "res_fit_latex.SetTextSize(0.06)\n",
    "res_fit_latex.DrawLatexNDC(0.65, 0.7, '#chi^{2}/ndf = ' + '{:.2f}'.format(chi2_per_ndf))\n",
    "res_fit_latex.DrawLatexNDC(0.65, 0.8, '#sigma = ' + '{:.2f}'.format(res_func.GetParameter(2) * 1000) + ' MeV')\n",
    "c.Draw()\n"
   ]
  },
  {
   "cell_type": "markdown",
   "metadata": {},
   "source": [
    "## Systematic Variations"
   ]
  },
  {
   "cell_type": "code",
   "execution_count": null,
   "metadata": {},
   "outputs": [],
   "source": [
    "sys_hist_filename = '/work/halld/home/viducic/systematic_errors/hists_to_show_variations_{}.root'\n",
    "variations = ['kinfit_cl', 'pathlength', 'ks_m', 'ppi', 'kp', 'ksp', 'pp', 'neutral_kstar', 'charged_kstar', 'mx2_all']\n",
    "root_file_pipkmks = ROOT.TFile.Open(sys_hist_filename.format('pipkmks'))\n",
    "root_file_pimkpks = ROOT.TFile.Open(sys_hist_filename.format('pimkpks'))\n",
    "sys_hist_dict_pipkmks = {}\n",
    "sys_hist_dict_pimkpks = {}\n",
    "for var in variations:\n",
    "    hist_pipkmks = root_file_pipkmks.Get(var)\n",
    "    hist_pimkpks = root_file_pimkpks.Get(var)\n",
    "    hist_pipkmks.SetDirectory(0)\n",
    "    hist_pipkmks.SetFillColor(ROOT.kGray)\n",
    "    hist_pimkpks.SetDirectory(0)\n",
    "    hist_pimkpks.SetFillColor(ROOT.kGray)\n",
    "    hist_pimkpks.SetLineColor(ROOT.kRed)\n",
    "    sys_hist_dict_pipkmks[var] = hist_pipkmks\n",
    "    sys_hist_dict_pimkpks[var] = hist_pimkpks\n",
    "root_file_pipkmks.Close()\n",
    "root_file_pimkpks.Close()\n"
   ]
  },
  {
   "cell_type": "code",
   "execution_count": null,
   "metadata": {},
   "outputs": [],
   "source": [
    "c.Clear()\n",
    "\n",
    "var_cut = 'kinfit_cl'\n",
    "sys_hist_dict_pipkmks[var_cut].Draw()\n",
    "c.Update()\n",
    "nominal, loose, tight = 5, 6, 4\n",
    "line_nominal = ROOT.TLine(nominal, sys_hist_dict_pipkmks[var_cut].GetMinimum(), nominal, sys_hist_dict_pipkmks[var_cut].GetMaximum())\n",
    "line_nominal.SetLineColor(ROOT.kRed)\n",
    "line_nominal.SetLineWidth(2)\n",
    "line_loose = ROOT.TLine(loose, sys_hist_dict_pipkmks[var_cut].GetMinimum(), loose, sys_hist_dict_pipkmks[var_cut].GetMaximum())\n",
    "line_loose.SetLineStyle(2)\n",
    "line_loose.SetLineColor(ROOT.kRed)\n",
    "line_loose.SetLineWidth(2)\n",
    "line_tight = ROOT.TLine(tight, sys_hist_dict_pipkmks[var_cut].GetMinimum(), tight, sys_hist_dict_pipkmks[var_cut].GetMaximum())\n",
    "line_tight.SetLineStyle(4)\n",
    "line_tight.SetLineColor(ROOT.kRed)\n",
    "line_tight.SetLineWidth(2)\n",
    "line_nominal.Draw()\n",
    "line_loose.Draw()\n",
    "line_tight.Draw()\n",
    "\n",
    "c.Draw()"
   ]
  },
  {
   "cell_type": "code",
   "execution_count": null,
   "metadata": {},
   "outputs": [],
   "source": [
    "c.Clear()\n",
    "\n",
    "var_cut = 'kinfit_cl'\n",
    "sys_hist_dict_pimkpks[var_cut].Draw()\n",
    "c.Update()\n",
    "nominal, loose, tight = 5, 6, 4\n",
    "line_nominal = ROOT.TLine(nominal, sys_hist_dict_pimkpks[var_cut].GetMinimum(), nominal, sys_hist_dict_pimkpks[var_cut].GetMaximum())\n",
    "line_nominal.SetLineColor(ROOT.kBlue)\n",
    "line_nominal.SetLineWidth(2)\n",
    "line_loose = ROOT.TLine(loose, sys_hist_dict_pimkpks[var_cut].GetMinimum(), loose, sys_hist_dict_pimkpks[var_cut].GetMaximum())\n",
    "line_loose.SetLineStyle(2)\n",
    "line_loose.SetLineColor(ROOT.kBlue)\n",
    "line_loose.SetLineWidth(2)\n",
    "line_tight = ROOT.TLine(tight, sys_hist_dict_pimkpks[var_cut].GetMinimum(), tight, sys_hist_dict_pimkpks[var_cut].GetMaximum())\n",
    "line_tight.SetLineStyle(4)\n",
    "line_tight.SetLineColor(ROOT.kBlue)\n",
    "line_tight.SetLineWidth(2)\n",
    "line_nominal.Draw()\n",
    "line_loose.Draw()\n",
    "line_tight.Draw()\n",
    "\n",
    "c.Draw()"
   ]
  },
  {
   "cell_type": "code",
   "execution_count": null,
   "metadata": {},
   "outputs": [],
   "source": [
    "c.Clear()\n",
    "\n",
    "var_cut = 'pathlength'\n",
    "sys_hist_dict_pipkmks[var_cut].Draw()\n",
    "c.Update()\n",
    "nominal, loose, tight = 5, 6, 4\n",
    "line_nominal = ROOT.TLine(nominal, ROOT.gPad.GetUymin(), nominal, sys_hist_dict_pipkmks[var_cut].GetMaximum())\n",
    "line_nominal.SetLineColor(ROOT.kRed)\n",
    "line_nominal.SetLineWidth(2)\n",
    "line_loose = ROOT.TLine(loose, ROOT.gPad.GetUymin(), loose, sys_hist_dict_pipkmks[var_cut].GetMaximum())\n",
    "line_loose.SetLineStyle(2)\n",
    "line_loose.SetLineColor(ROOT.kRed)\n",
    "line_loose.SetLineWidth(2)\n",
    "line_tight = ROOT.TLine(tight, ROOT.gPad.GetUymin(), tight, sys_hist_dict_pipkmks[var_cut].GetMaximum())\n",
    "line_tight.SetLineStyle(4)\n",
    "line_tight.SetLineColor(ROOT.kRed)\n",
    "line_tight.SetLineWidth(2)\n",
    "line_nominal.Draw()\n",
    "line_loose.Draw()\n",
    "line_tight.Draw()\n",
    "\n",
    "c.Draw()"
   ]
  },
  {
   "cell_type": "code",
   "execution_count": null,
   "metadata": {},
   "outputs": [],
   "source": [
    "c.Clear()\n",
    "\n",
    "var_cut = 'pathlength'\n",
    "sys_hist_dict_pimkpks[var_cut].Draw()\n",
    "c.Update()\n",
    "nominal, loose, tight = 5, 6, 4\n",
    "line_nominal = ROOT.TLine(nominal, ROOT.gPad.GetUymin(), nominal, sys_hist_dict_pimkpks[var_cut].GetMaximum())\n",
    "line_nominal.SetLineColor(ROOT.kBlue)\n",
    "line_nominal.SetLineWidth(2)\n",
    "line_loose = ROOT.TLine(loose, ROOT.gPad.GetUymin(), loose, sys_hist_dict_pimkpks[var_cut].GetMaximum())\n",
    "line_loose.SetLineStyle(2)\n",
    "line_loose.SetLineColor(ROOT.kBlue)\n",
    "line_loose.SetLineWidth(2)\n",
    "line_tight = ROOT.TLine(tight, ROOT.gPad.GetUymin(), tight, sys_hist_dict_pimkpks[var_cut].GetMaximum())\n",
    "line_tight.SetLineStyle(4)\n",
    "line_tight.SetLineColor(ROOT.kBlue)\n",
    "line_tight.SetLineWidth(2)\n",
    "line_nominal.Draw()\n",
    "line_loose.Draw()\n",
    "line_tight.Draw()\n",
    "\n",
    "c.Draw()"
   ]
  },
  {
   "cell_type": "code",
   "execution_count": null,
   "metadata": {},
   "outputs": [],
   "source": [
    "c.Clear()\n",
    "\n",
    "var_cut = 'ks_m'\n",
    "sys_hist_dict_pipkmks[var_cut].GetXaxis().SetRangeUser(0.45, 0.55)\n",
    "sys_hist_dict_pipkmks[var_cut].Draw()\n",
    "c.Update()\n",
    "nominal, loose, tight = constants.KSHORT_FIT_MEAN + 2*constants.KSHORT_FIT_WIDTH, constants.KSHORT_FIT_MEAN + 2.5*constants.KSHORT_FIT_WIDTH, constants.KSHORT_FIT_MEAN + 1.5*constants.KSHORT_FIT_WIDTH\n",
    "nominal_left, loose_left, tight_left = constants.KSHORT_FIT_MEAN - 2*constants.KSHORT_FIT_WIDTH, constants.KSHORT_FIT_MEAN - 2.5*constants.KSHORT_FIT_WIDTH, constants.KSHORT_FIT_MEAN - 1.5*constants.KSHORT_FIT_WIDTH\n",
    "line_nominal = ROOT.TLine(nominal, ROOT.gPad.GetUymin(), nominal, sys_hist_dict_pipkmks[var_cut].GetMaximum())\n",
    "line_nominal.SetLineColor(ROOT.kRed)\n",
    "line_nominal.SetLineWidth(2)\n",
    "line_nominal_left = ROOT.TLine(nominal_left, ROOT.gPad.GetUymin(), nominal_left, sys_hist_dict_pipkmks[var_cut].GetMaximum())\n",
    "line_nominal_left.SetLineColor(ROOT.kRed)\n",
    "line_nominal_left.SetLineWidth(2)\n",
    "line_loose = ROOT.TLine(loose, ROOT.gPad.GetUymin(), loose, sys_hist_dict_pipkmks[var_cut].GetMaximum())\n",
    "line_loose.SetLineStyle(2)\n",
    "line_loose.SetLineColor(ROOT.kRed)\n",
    "line_loose.SetLineWidth(2)\n",
    "line_loose_left = ROOT.TLine(loose_left, ROOT.gPad.GetUymin(), loose_left, sys_hist_dict_pipkmks[var_cut].GetMaximum())\n",
    "line_loose_left.SetLineStyle(2)\n",
    "line_loose_left.SetLineColor(ROOT.kRed)\n",
    "line_loose_left.SetLineWidth(2)\n",
    "line_tight = ROOT.TLine(tight, ROOT.gPad.GetUymin(), tight, sys_hist_dict_pipkmks[var_cut].GetMaximum())\n",
    "line_tight.SetLineStyle(4)\n",
    "line_tight.SetLineColor(ROOT.kRed)\n",
    "line_tight.SetLineWidth(2)\n",
    "line_tight_left = ROOT.TLine(tight_left, ROOT.gPad.GetUymin(), tight_left, sys_hist_dict_pipkmks[var_cut].GetMaximum())\n",
    "line_tight_left.SetLineStyle(4)\n",
    "line_tight_left.SetLineColor(ROOT.kRed)\n",
    "line_tight_left.SetLineWidth(2)\n",
    "line_nominal.Draw()\n",
    "line_nominal_left.Draw()\n",
    "line_loose.Draw()\n",
    "line_loose_left.Draw()\n",
    "line_tight.Draw()\n",
    "line_tight_left.Draw()\n",
    "c.Update()\n",
    "c.Draw()"
   ]
  },
  {
   "cell_type": "code",
   "execution_count": null,
   "metadata": {},
   "outputs": [],
   "source": [
    "var_cut = 'ks_m'\n",
    "sys_hist_dict_pimkpks[var_cut].GetXaxis().SetRangeUser(0.45, 0.55)\n",
    "sys_hist_dict_pimkpks[var_cut].Draw()\n",
    "c.Update()\n",
    "nominal, loose, tight = constants.KSHORT_FIT_MEAN + 2*constants.KSHORT_FIT_WIDTH, constants.KSHORT_FIT_MEAN + 2.5*constants.KSHORT_FIT_WIDTH, constants.KSHORT_FIT_MEAN + 1.5*constants.KSHORT_FIT_WIDTH\n",
    "nominal_left, loose_left, tight_left = constants.KSHORT_FIT_MEAN - 2*constants.KSHORT_FIT_WIDTH, constants.KSHORT_FIT_MEAN - 2.5*constants.KSHORT_FIT_WIDTH, constants.KSHORT_FIT_MEAN - 1.5*constants.KSHORT_FIT_WIDTH\n",
    "line_nominal = ROOT.TLine(nominal, ROOT.gPad.GetUymin(), nominal, sys_hist_dict_pimkpks[var_cut].GetMaximum())\n",
    "line_nominal.SetLineColor(ROOT.kBlue)\n",
    "line_nominal.SetLineWidth(2)\n",
    "line_nominal_left = ROOT.TLine(nominal_left, ROOT.gPad.GetUymin(), nominal_left, sys_hist_dict_pimkpks[var_cut].GetMaximum())\n",
    "line_nominal_left.SetLineColor(ROOT.kBlue)\n",
    "line_nominal_left.SetLineWidth(2)\n",
    "line_loose = ROOT.TLine(loose, ROOT.gPad.GetUymin(), loose, sys_hist_dict_pimkpks[var_cut].GetMaximum())\n",
    "line_loose.SetLineStyle(2)\n",
    "line_loose.SetLineColor(ROOT.kBlue)\n",
    "line_loose.SetLineWidth(2)\n",
    "line_loose_left = ROOT.TLine(loose_left, ROOT.gPad.GetUymin(), loose_left, sys_hist_dict_pimkpks[var_cut].GetMaximum())\n",
    "line_loose_left.SetLineStyle(2)\n",
    "line_loose_left.SetLineColor(ROOT.kBlue)\n",
    "line_loose_left.SetLineWidth(2)\n",
    "line_tight = ROOT.TLine(tight, ROOT.gPad.GetUymin(), tight, sys_hist_dict_pimkpks[var_cut].GetMaximum())\n",
    "line_tight.SetLineStyle(4)\n",
    "line_tight.SetLineColor(ROOT.kBlue)\n",
    "line_tight.SetLineWidth(2)\n",
    "line_tight_left = ROOT.TLine(tight_left, ROOT.gPad.GetUymin(), tight_left, sys_hist_dict_pimkpks[var_cut].GetMaximum())\n",
    "line_tight_left.SetLineStyle(4)\n",
    "line_tight_left.SetLineColor(ROOT.kBlue)\n",
    "line_tight_left.SetLineWidth(2)\n",
    "line_nominal.Draw()\n",
    "line_nominal_left.Draw()\n",
    "line_loose.Draw()\n",
    "line_loose_left.Draw()\n",
    "line_tight.Draw()\n",
    "line_tight_left.Draw()\n",
    "c.Update()\n",
    "c.Draw()"
   ]
  },
  {
   "cell_type": "code",
   "execution_count": null,
   "metadata": {},
   "outputs": [],
   "source": [
    "c.Clear()\n",
    "\n",
    "var_cut = 'ppi'\n",
    "sys_hist_dict_pipkmks[var_cut].Draw()\n",
    "c.Update()\n",
    "nominal, loose, tight = 1.4, 1.3, 1.5\n",
    "line_nominal = ROOT.TLine(nominal, ROOT.gPad.GetUymin(), nominal, sys_hist_dict_pipkmks[var_cut].GetMaximum())\n",
    "line_nominal.SetLineColor(ROOT.kRed)\n",
    "line_nominal.SetLineWidth(2)\n",
    "line_loose = ROOT.TLine(loose, ROOT.gPad.GetUymin(), loose, sys_hist_dict_pipkmks[var_cut].GetMaximum())\n",
    "line_loose.SetLineStyle(2)\n",
    "line_loose.SetLineColor(ROOT.kRed)\n",
    "line_loose.SetLineWidth(2)\n",
    "line_tight = ROOT.TLine(tight, ROOT.gPad.GetUymin(), tight, sys_hist_dict_pipkmks[var_cut].GetMaximum())\n",
    "line_tight.SetLineStyle(4)\n",
    "line_tight.SetLineColor(ROOT.kRed)\n",
    "line_tight.SetLineWidth(2)\n",
    "line_nominal.Draw()\n",
    "line_loose.Draw()\n",
    "line_tight.Draw()\n",
    "\n",
    "c.Draw()"
   ]
  },
  {
   "cell_type": "code",
   "execution_count": null,
   "metadata": {},
   "outputs": [],
   "source": [
    "c.Clear()\n",
    "\n",
    "var_cut = 'ppi'\n",
    "sys_hist_dict_pimkpks[var_cut].Draw()\n",
    "c.Update()\n",
    "nominal, loose, tight = 1.4, 1.3, 1.5\n",
    "line_nominal = ROOT.TLine(nominal, ROOT.gPad.GetUymin(), nominal, sys_hist_dict_pimkpks[var_cut].GetMaximum())\n",
    "line_nominal.SetLineColor(ROOT.kBlue)\n",
    "line_nominal.SetLineWidth(2)\n",
    "line_loose = ROOT.TLine(loose, ROOT.gPad.GetUymin(), loose, sys_hist_dict_pimkpks[var_cut].GetMaximum())\n",
    "line_loose.SetLineStyle(2)\n",
    "line_loose.SetLineColor(ROOT.kBlue)\n",
    "line_loose.SetLineWidth(2)\n",
    "line_tight = ROOT.TLine(tight, ROOT.gPad.GetUymin(), tight, sys_hist_dict_pimkpks[var_cut].GetMaximum())\n",
    "line_tight.SetLineStyle(4)\n",
    "line_tight.SetLineColor(ROOT.kBlue)\n",
    "line_tight.SetLineWidth(2)\n",
    "line_nominal.Draw()\n",
    "line_loose.Draw()\n",
    "line_tight.Draw()\n",
    "\n",
    "c.Draw()"
   ]
  },
  {
   "cell_type": "code",
   "execution_count": null,
   "metadata": {},
   "outputs": [],
   "source": [
    "c.Clear()\n",
    "\n",
    "var_cut = 'kp'\n",
    "sys_hist_dict_pipkmks[var_cut].Draw()\n",
    "c.Update()\n",
    "nominal, loose, tight = 2.0, 1.9, 2.1\n",
    "line_nominal = ROOT.TLine(nominal, ROOT.gPad.GetUymin(), nominal, sys_hist_dict_pipkmks[var_cut].GetMaximum())\n",
    "line_nominal.SetLineColor(ROOT.kRed)\n",
    "line_nominal.SetLineWidth(2)\n",
    "line_loose = ROOT.TLine(loose, ROOT.gPad.GetUymin(), loose, sys_hist_dict_pipkmks[var_cut].GetMaximum())\n",
    "line_loose.SetLineStyle(2)\n",
    "line_loose.SetLineColor(ROOT.kRed)\n",
    "line_loose.SetLineWidth(2)\n",
    "line_tight = ROOT.TLine(tight, ROOT.gPad.GetUymin(), tight, sys_hist_dict_pipkmks[var_cut].GetMaximum())\n",
    "line_tight.SetLineStyle(4)\n",
    "line_tight.SetLineColor(ROOT.kRed)\n",
    "line_tight.SetLineWidth(2)\n",
    "line_nominal.Draw()\n",
    "line_loose.Draw()\n",
    "line_tight.Draw()\n",
    "\n",
    "c.Draw()"
   ]
  },
  {
   "cell_type": "code",
   "execution_count": null,
   "metadata": {},
   "outputs": [],
   "source": [
    "c.Clear()\n",
    "\n",
    "var_cut = 'kp'\n",
    "sys_hist_dict_pimkpks[var_cut].Draw()\n",
    "c.Update()\n",
    "nominal, loose, tight = 2.0, 1.9, 2.1\n",
    "line_nominal = ROOT.TLine(nominal, ROOT.gPad.GetUymin(), nominal, sys_hist_dict_pimkpks[var_cut].GetMaximum())\n",
    "line_nominal.SetLineColor(ROOT.kBlue)\n",
    "line_nominal.SetLineWidth(2)\n",
    "line_loose = ROOT.TLine(loose, ROOT.gPad.GetUymin(), loose, sys_hist_dict_pimkpks[var_cut].GetMaximum())\n",
    "line_loose.SetLineStyle(2)\n",
    "line_loose.SetLineColor(ROOT.kBlue)\n",
    "line_loose.SetLineWidth(2)\n",
    "line_tight = ROOT.TLine(tight, ROOT.gPad.GetUymin(), tight, sys_hist_dict_pimkpks[var_cut].GetMaximum())\n",
    "line_tight.SetLineStyle(4)\n",
    "line_tight.SetLineColor(ROOT.kBlue)\n",
    "line_tight.SetLineWidth(2)\n",
    "line_nominal.Draw()\n",
    "line_loose.Draw()\n",
    "line_tight.Draw()\n",
    "\n",
    "c.Draw()"
   ]
  },
  {
   "cell_type": "code",
   "execution_count": null,
   "metadata": {},
   "outputs": [],
   "source": [
    "c.Clear()\n",
    "\n",
    "var_cut = 'ksp'\n",
    "sys_hist_dict_pipkmks[var_cut].Draw()\n",
    "c.Update()\n",
    "nominal, loose, tight = 2.0, 1.9, 2.1\n",
    "line_nominal = ROOT.TLine(nominal, ROOT.gPad.GetUymin(), nominal, sys_hist_dict_pipkmks[var_cut].GetMaximum())\n",
    "line_nominal.SetLineColor(ROOT.kRed)\n",
    "line_nominal.SetLineWidth(2)\n",
    "line_loose = ROOT.TLine(loose, ROOT.gPad.GetUymin(), loose, sys_hist_dict_pipkmks[var_cut].GetMaximum())\n",
    "line_loose.SetLineStyle(2)\n",
    "line_loose.SetLineColor(ROOT.kRed)\n",
    "line_loose.SetLineWidth(2)\n",
    "line_tight = ROOT.TLine(tight, ROOT.gPad.GetUymin(), tight, sys_hist_dict_pipkmks[var_cut].GetMaximum())\n",
    "line_tight.SetLineStyle(4)\n",
    "line_tight.SetLineColor(ROOT.kRed)\n",
    "line_tight.SetLineWidth(2)\n",
    "line_nominal.Draw()\n",
    "line_loose.Draw()\n",
    "line_tight.Draw()\n",
    "\n",
    "c.Draw()"
   ]
  },
  {
   "cell_type": "code",
   "execution_count": null,
   "metadata": {},
   "outputs": [],
   "source": [
    "c.Clear()\n",
    "\n",
    "var_cut = 'ksp'\n",
    "sys_hist_dict_pimkpks[var_cut].Draw()\n",
    "c.Update()\n",
    "nominal, loose, tight = 2.0, 1.9, 2.1\n",
    "line_nominal = ROOT.TLine(nominal, ROOT.gPad.GetUymin(), nominal, sys_hist_dict_pimkpks[var_cut].GetMaximum())\n",
    "line_nominal.SetLineColor(ROOT.kBlue)\n",
    "line_nominal.SetLineWidth(2)\n",
    "line_loose = ROOT.TLine(loose, ROOT.gPad.GetUymin(), loose, sys_hist_dict_pimkpks[var_cut].GetMaximum())\n",
    "line_loose.SetLineStyle(2)\n",
    "line_loose.SetLineColor(ROOT.kBlue)\n",
    "line_loose.SetLineWidth(2)\n",
    "line_tight = ROOT.TLine(tight, ROOT.gPad.GetUymin(), tight, sys_hist_dict_pimkpks[var_cut].GetMaximum())\n",
    "line_tight.SetLineStyle(4)\n",
    "line_tight.SetLineColor(ROOT.kBlue)\n",
    "line_tight.SetLineWidth(2)\n",
    "line_nominal.Draw()\n",
    "line_loose.Draw()\n",
    "line_tight.Draw()\n",
    "\n",
    "c.Draw()"
   ]
  },
  {
   "cell_type": "code",
   "execution_count": null,
   "metadata": {},
   "outputs": [],
   "source": [
    "c.Clear()\n",
    "\n",
    "var_cut = 'pp'\n",
    "sys_hist_dict_pipkmks[var_cut].Draw()\n",
    "c.Update()\n",
    "nominal, loose, tight = 0.4, 0.35, 0.45\n",
    "line_nominal = ROOT.TLine(nominal, ROOT.gPad.GetUymin(), nominal, sys_hist_dict_pipkmks[var_cut].GetMaximum())\n",
    "line_nominal.SetLineColor(ROOT.kRed)\n",
    "line_nominal.SetLineWidth(2)\n",
    "line_loose = ROOT.TLine(loose, ROOT.gPad.GetUymin(), loose, sys_hist_dict_pipkmks[var_cut].GetMaximum())\n",
    "line_loose.SetLineStyle(2)\n",
    "line_loose.SetLineColor(ROOT.kRed)\n",
    "line_loose.SetLineWidth(2)\n",
    "line_tight = ROOT.TLine(tight, ROOT.gPad.GetUymin(), tight, sys_hist_dict_pipkmks[var_cut].GetMaximum())\n",
    "line_tight.SetLineStyle(4)\n",
    "line_tight.SetLineColor(ROOT.kRed)\n",
    "line_tight.SetLineWidth(2)\n",
    "line_nominal.Draw()\n",
    "line_loose.Draw()\n",
    "line_tight.Draw()\n",
    "\n",
    "c.Draw()"
   ]
  },
  {
   "cell_type": "code",
   "execution_count": null,
   "metadata": {},
   "outputs": [],
   "source": [
    "c.Clear()\n",
    "\n",
    "var_cut = 'pp'\n",
    "sys_hist_dict_pimkpks[var_cut].Draw()\n",
    "c.Update()\n",
    "nominal, loose, tight = 0.4, 0.35, 0.45\n",
    "line_nominal = ROOT.TLine(nominal, ROOT.gPad.GetUymin(), nominal, sys_hist_dict_pimkpks[var_cut].GetMaximum())\n",
    "line_nominal.SetLineColor(ROOT.kBlue)\n",
    "line_nominal.SetLineWidth(2)\n",
    "line_loose = ROOT.TLine(loose, ROOT.gPad.GetUymin(), loose, sys_hist_dict_pimkpks[var_cut].GetMaximum())\n",
    "line_loose.SetLineStyle(2)\n",
    "line_loose.SetLineColor(ROOT.kBlue)\n",
    "line_loose.SetLineWidth(2)\n",
    "line_tight = ROOT.TLine(tight, ROOT.gPad.GetUymin(), tight, sys_hist_dict_pimkpks[var_cut].GetMaximum())\n",
    "line_tight.SetLineStyle(4)\n",
    "line_tight.SetLineColor(ROOT.kBlue)\n",
    "line_tight.SetLineWidth(2)\n",
    "line_nominal.Draw()\n",
    "line_loose.Draw()\n",
    "line_tight.Draw()\n",
    "\n",
    "c.Draw()"
   ]
  },
  {
   "cell_type": "code",
   "execution_count": null,
   "metadata": {},
   "outputs": [],
   "source": [
    "c.Clear()\n",
    "\n",
    "var_cut = 'neutral_kstar'\n",
    "# sys_hist_dict_pipkmks[var_cut].GetXaxis().SetRangeUser(0.45, 0.55)\n",
    "sys_hist_dict_pipkmks[var_cut].Draw()\n",
    "c.Update()\n",
    "nominal, loose, tight = cuts.NEUTRAL_KSTAR_MASS + 2*cuts.NEUTRAL_KSTAR_WIDTH, cuts.NEUTRAL_KSTAR_MASS + 1.5*cuts.NEUTRAL_KSTAR_WIDTH, cuts.NEUTRAL_KSTAR_MASS + 2.5*cuts.NEUTRAL_KSTAR_WIDTH\n",
    "nominal_left, loose_left, tight_left = cuts.NEUTRAL_KSTAR_MASS - 2*cuts.NEUTRAL_KSTAR_WIDTH, cuts.NEUTRAL_KSTAR_MASS - 1.5*cuts.NEUTRAL_KSTAR_WIDTH, cuts.NEUTRAL_KSTAR_MASS - 2.5*cuts.NEUTRAL_KSTAR_WIDTH\n",
    "line_nominal = ROOT.TLine(nominal, ROOT.gPad.GetUymin(), nominal, sys_hist_dict_pipkmks[var_cut].GetMaximum())\n",
    "line_nominal.SetLineColor(ROOT.kRed)\n",
    "line_nominal.SetLineWidth(2)\n",
    "line_nominal_left = ROOT.TLine(nominal_left, ROOT.gPad.GetUymin(), nominal_left, sys_hist_dict_pipkmks[var_cut].GetMaximum())\n",
    "line_nominal_left.SetLineColor(ROOT.kRed)\n",
    "line_nominal_left.SetLineWidth(2)\n",
    "line_loose = ROOT.TLine(loose, ROOT.gPad.GetUymin(), loose, sys_hist_dict_pipkmks[var_cut].GetMaximum())\n",
    "line_loose.SetLineStyle(2)\n",
    "line_loose.SetLineColor(ROOT.kRed)\n",
    "line_loose.SetLineWidth(2)\n",
    "line_loose_left = ROOT.TLine(loose_left, ROOT.gPad.GetUymin(), loose_left, sys_hist_dict_pipkmks[var_cut].GetMaximum())\n",
    "line_loose_left.SetLineStyle(2)\n",
    "line_loose_left.SetLineColor(ROOT.kRed)\n",
    "line_loose_left.SetLineWidth(2)\n",
    "line_tight = ROOT.TLine(tight, ROOT.gPad.GetUymin(), tight, sys_hist_dict_pipkmks[var_cut].GetMaximum())\n",
    "line_tight.SetLineStyle(4)\n",
    "line_tight.SetLineColor(ROOT.kRed)\n",
    "line_tight.SetLineWidth(2)\n",
    "line_tight_left = ROOT.TLine(tight_left, ROOT.gPad.GetUymin(), tight_left, sys_hist_dict_pipkmks[var_cut].GetMaximum())\n",
    "line_tight_left.SetLineStyle(4)\n",
    "line_tight_left.SetLineColor(ROOT.kRed)\n",
    "line_tight_left.SetLineWidth(2)\n",
    "line_nominal.Draw()\n",
    "line_nominal_left.Draw()\n",
    "line_loose.Draw()\n",
    "line_loose_left.Draw()\n",
    "line_tight.Draw()\n",
    "line_tight_left.Draw()\n",
    "c.Update()\n",
    "c.Draw()"
   ]
  },
  {
   "cell_type": "code",
   "execution_count": null,
   "metadata": {},
   "outputs": [],
   "source": [
    "c.Clear()\n",
    "\n",
    "var_cut = 'neutral_kstar'\n",
    "# sys_hist_dict_pimkpks[var_cut].GetXaxis().SetRangeUser(0.45, 0.55)\n",
    "sys_hist_dict_pimkpks[var_cut].Draw()\n",
    "c.Update()\n",
    "nominal, loose, tight = cuts.NEUTRAL_KSTAR_MASS + 2*cuts.NEUTRAL_KSTAR_WIDTH, cuts.NEUTRAL_KSTAR_MASS + 1.5*cuts.NEUTRAL_KSTAR_WIDTH, cuts.NEUTRAL_KSTAR_MASS + 2.5*cuts.NEUTRAL_KSTAR_WIDTH\n",
    "nominal_left, loose_left, tight_left = cuts.NEUTRAL_KSTAR_MASS - 2*cuts.NEUTRAL_KSTAR_WIDTH, cuts.NEUTRAL_KSTAR_MASS - 1.5*cuts.NEUTRAL_KSTAR_WIDTH, cuts.NEUTRAL_KSTAR_MASS - 2.5*cuts.NEUTRAL_KSTAR_WIDTH\n",
    "line_nominal = ROOT.TLine(nominal, ROOT.gPad.GetUymin(), nominal, sys_hist_dict_pimkpks[var_cut].GetMaximum())\n",
    "line_nominal.SetLineColor(ROOT.kBlue)\n",
    "line_nominal.SetLineWidth(2)\n",
    "line_nominal_left = ROOT.TLine(nominal_left, ROOT.gPad.GetUymin(), nominal_left, sys_hist_dict_pimkpks[var_cut].GetMaximum())\n",
    "line_nominal_left.SetLineColor(ROOT.kBlue)\n",
    "line_nominal_left.SetLineWidth(2)\n",
    "line_loose = ROOT.TLine(loose, ROOT.gPad.GetUymin(), loose, sys_hist_dict_pimkpks[var_cut].GetMaximum())\n",
    "line_loose.SetLineStyle(2)\n",
    "line_loose.SetLineColor(ROOT.kBlue)\n",
    "line_loose.SetLineWidth(2)\n",
    "line_loose_left = ROOT.TLine(loose_left, ROOT.gPad.GetUymin(), loose_left, sys_hist_dict_pimkpks[var_cut].GetMaximum())\n",
    "line_loose_left.SetLineStyle(2)\n",
    "line_loose_left.SetLineColor(ROOT.kBlue)\n",
    "line_loose_left.SetLineWidth(2)\n",
    "line_tight = ROOT.TLine(tight, ROOT.gPad.GetUymin(), tight, sys_hist_dict_pimkpks[var_cut].GetMaximum())\n",
    "line_tight.SetLineStyle(4)\n",
    "line_tight.SetLineColor(ROOT.kBlue)\n",
    "line_tight.SetLineWidth(2)\n",
    "line_tight_left = ROOT.TLine(tight_left, ROOT.gPad.GetUymin(), tight_left, sys_hist_dict_pimkpks[var_cut].GetMaximum())\n",
    "line_tight_left.SetLineStyle(4)\n",
    "line_tight_left.SetLineColor(ROOT.kBlue)\n",
    "line_tight_left.SetLineWidth(2)\n",
    "line_nominal.Draw()\n",
    "line_nominal_left.Draw()\n",
    "line_loose.Draw()\n",
    "line_loose_left.Draw()\n",
    "line_tight.Draw()\n",
    "line_tight_left.Draw()\n",
    "c.Update()\n",
    "c.Draw()"
   ]
  },
  {
   "cell_type": "code",
   "execution_count": null,
   "metadata": {},
   "outputs": [],
   "source": [
    "c.Clear()\n",
    "\n",
    "var_cut = 'charged_kstar'\n",
    "# sys_hist_dict_pipkmks[var_cut].GetXaxis().SetRangeUser(0.45, 0.55)\n",
    "sys_hist_dict_pipkmks[var_cut].Draw()\n",
    "c.Update()\n",
    "nominal, loose, tight = cuts.CHARGED_KSTAR_MASS + 2*cuts.CHARGED_KSTAR_WIDTH, cuts.CHARGED_KSTAR_MASS + 1.75*cuts.CHARGED_KSTAR_WIDTH, cuts.CHARGED_KSTAR_MASS + 2.25*cuts.CHARGED_KSTAR_WIDTH\n",
    "nominal_left, loose_left, tight_left = cuts.CHARGED_KSTAR_MASS - 2*cuts.CHARGED_KSTAR_WIDTH, cuts.CHARGED_KSTAR_MASS - 1.75*cuts.CHARGED_KSTAR_WIDTH, cuts.CHARGED_KSTAR_MASS - 2.25*cuts.CHARGED_KSTAR_WIDTH\n",
    "line_nominal = ROOT.TLine(nominal, ROOT.gPad.GetUymin(), nominal, sys_hist_dict_pipkmks[var_cut].GetMaximum())\n",
    "line_nominal.SetLineColor(ROOT.kRed)\n",
    "line_nominal.SetLineWidth(2)\n",
    "line_nominal_left = ROOT.TLine(nominal_left, ROOT.gPad.GetUymin(), nominal_left, sys_hist_dict_pipkmks[var_cut].GetMaximum())\n",
    "line_nominal_left.SetLineColor(ROOT.kRed)\n",
    "line_nominal_left.SetLineWidth(2)\n",
    "line_loose = ROOT.TLine(loose, ROOT.gPad.GetUymin(), loose, sys_hist_dict_pipkmks[var_cut].GetMaximum())\n",
    "line_loose.SetLineStyle(2)\n",
    "line_loose.SetLineColor(ROOT.kRed)\n",
    "line_loose.SetLineWidth(2)\n",
    "line_loose_left = ROOT.TLine(loose_left, ROOT.gPad.GetUymin(), loose_left, sys_hist_dict_pipkmks[var_cut].GetMaximum())\n",
    "line_loose_left.SetLineStyle(2)\n",
    "line_loose_left.SetLineColor(ROOT.kRed)\n",
    "line_loose_left.SetLineWidth(2)\n",
    "line_tight = ROOT.TLine(tight, ROOT.gPad.GetUymin(), tight, sys_hist_dict_pipkmks[var_cut].GetMaximum())\n",
    "line_tight.SetLineStyle(4)\n",
    "line_tight.SetLineColor(ROOT.kRed)\n",
    "line_tight.SetLineWidth(2)\n",
    "line_tight_left = ROOT.TLine(tight_left, ROOT.gPad.GetUymin(), tight_left, sys_hist_dict_pipkmks[var_cut].GetMaximum())\n",
    "line_tight_left.SetLineStyle(4)\n",
    "line_tight_left.SetLineColor(ROOT.kRed)\n",
    "line_tight_left.SetLineWidth(2)\n",
    "line_nominal.Draw()\n",
    "line_nominal_left.Draw()\n",
    "line_loose.Draw()\n",
    "line_loose_left.Draw()\n",
    "line_tight.Draw()\n",
    "line_tight_left.Draw()\n",
    "c.Update()\n",
    "c.Draw()"
   ]
  },
  {
   "cell_type": "code",
   "execution_count": null,
   "metadata": {},
   "outputs": [],
   "source": [
    "c.Clear()\n",
    "\n",
    "var_cut = 'charged_kstar'\n",
    "# sys_hist_dict_pimkpks[var_cut].GetXaxis().SetRangeUser(0.45, 0.55)\n",
    "sys_hist_dict_pimkpks[var_cut].Draw()\n",
    "c.Update()\n",
    "nominal, loose, tight = cuts.CHARGED_KSTAR_MASS + 2*cuts.CHARGED_KSTAR_WIDTH, cuts.CHARGED_KSTAR_MASS + 1.75*cuts.CHARGED_KSTAR_WIDTH, cuts.CHARGED_KSTAR_MASS + 2.25*cuts.CHARGED_KSTAR_WIDTH\n",
    "nominal_left, loose_left, tight_left = cuts.CHARGED_KSTAR_MASS - 2*cuts.CHARGED_KSTAR_WIDTH, cuts.CHARGED_KSTAR_MASS - 1.75*cuts.CHARGED_KSTAR_WIDTH, cuts.CHARGED_KSTAR_MASS - 2.25*cuts.CHARGED_KSTAR_WIDTH\n",
    "line_nominal = ROOT.TLine(nominal, ROOT.gPad.GetUymin(), nominal, sys_hist_dict_pimkpks[var_cut].GetMaximum())\n",
    "line_nominal.SetLineColor(ROOT.kBlue)\n",
    "line_nominal.SetLineWidth(2)\n",
    "line_nominal_left = ROOT.TLine(nominal_left, ROOT.gPad.GetUymin(), nominal_left, sys_hist_dict_pimkpks[var_cut].GetMaximum())\n",
    "line_nominal_left.SetLineColor(ROOT.kBlue)\n",
    "line_nominal_left.SetLineWidth(2)\n",
    "line_loose = ROOT.TLine(loose, ROOT.gPad.GetUymin(), loose, sys_hist_dict_pimkpks[var_cut].GetMaximum())\n",
    "line_loose.SetLineStyle(2)\n",
    "line_loose.SetLineColor(ROOT.kBlue)\n",
    "line_loose.SetLineWidth(2)\n",
    "line_loose_left = ROOT.TLine(loose_left, ROOT.gPad.GetUymin(), loose_left, sys_hist_dict_pimkpks[var_cut].GetMaximum())\n",
    "line_loose_left.SetLineStyle(2)\n",
    "line_loose_left.SetLineColor(ROOT.kBlue)\n",
    "line_loose_left.SetLineWidth(2)\n",
    "line_tight = ROOT.TLine(tight, ROOT.gPad.GetUymin(), tight, sys_hist_dict_pimkpks[var_cut].GetMaximum())\n",
    "line_tight.SetLineStyle(4)\n",
    "line_tight.SetLineColor(ROOT.kBlue)\n",
    "line_tight.SetLineWidth(2)\n",
    "line_tight_left = ROOT.TLine(tight_left, ROOT.gPad.GetUymin(), tight_left, sys_hist_dict_pimkpks[var_cut].GetMaximum())\n",
    "line_tight_left.SetLineStyle(4)\n",
    "line_tight_left.SetLineColor(ROOT.kBlue)\n",
    "line_tight_left.SetLineWidth(2)\n",
    "line_nominal.Draw()\n",
    "line_nominal_left.Draw()\n",
    "line_loose.Draw()\n",
    "line_loose_left.Draw()\n",
    "line_tight.Draw()\n",
    "line_tight_left.Draw()\n",
    "c.Update()\n",
    "c.Draw()"
   ]
  },
  {
   "cell_type": "code",
   "execution_count": null,
   "metadata": {},
   "outputs": [],
   "source": [
    "c.Clear()\n",
    "\n",
    "var_cut = 'mx2_all'\n",
    "# sys_hist_dict_pipkmks[var_cut].GetXaxis().SetRangeUser(0.45, 0.55)\n",
    "sys_hist_dict_pipkmks[var_cut].Draw()\n",
    "c.Update()\n",
    "nominal, loose, tight = 0.01, 0.02, 0.007\n",
    "nominal_left, loose_left, tight_left = -0.01, -0.02, -0.007\n",
    "line_nominal = ROOT.TLine(nominal, ROOT.gPad.GetUymin(), nominal, sys_hist_dict_pipkmks[var_cut].GetMaximum())\n",
    "line_nominal.SetLineColor(ROOT.kRed)\n",
    "line_nominal.SetLineWidth(2)\n",
    "line_nominal_left = ROOT.TLine(nominal_left, ROOT.gPad.GetUymin(), nominal_left, sys_hist_dict_pipkmks[var_cut].GetMaximum())\n",
    "line_nominal_left.SetLineColor(ROOT.kRed)\n",
    "line_nominal_left.SetLineWidth(2)\n",
    "line_loose = ROOT.TLine(loose, ROOT.gPad.GetUymin(), loose, sys_hist_dict_pipkmks[var_cut].GetMaximum())\n",
    "line_loose.SetLineStyle(2)\n",
    "line_loose.SetLineColor(ROOT.kRed)\n",
    "line_loose.SetLineWidth(2)\n",
    "line_loose_left = ROOT.TLine(loose_left, ROOT.gPad.GetUymin(), loose_left, sys_hist_dict_pipkmks[var_cut].GetMaximum())\n",
    "line_loose_left.SetLineStyle(2)\n",
    "line_loose_left.SetLineColor(ROOT.kRed)\n",
    "line_loose_left.SetLineWidth(2)\n",
    "line_tight = ROOT.TLine(tight, ROOT.gPad.GetUymin(), tight, sys_hist_dict_pipkmks[var_cut].GetMaximum())\n",
    "line_tight.SetLineStyle(4)\n",
    "line_tight.SetLineColor(ROOT.kRed)\n",
    "line_tight.SetLineWidth(2)\n",
    "line_tight_left = ROOT.TLine(tight_left, ROOT.gPad.GetUymin(), tight_left, sys_hist_dict_pipkmks[var_cut].GetMaximum())\n",
    "line_tight_left.SetLineStyle(4)\n",
    "line_tight_left.SetLineColor(ROOT.kRed)\n",
    "line_tight_left.SetLineWidth(2)\n",
    "line_nominal.Draw()\n",
    "line_nominal_left.Draw()\n",
    "line_loose.Draw()\n",
    "line_loose_left.Draw()\n",
    "line_tight.Draw()\n",
    "line_tight_left.Draw()\n",
    "c.Update()\n",
    "c.Draw()"
   ]
  },
  {
   "cell_type": "code",
   "execution_count": null,
   "metadata": {},
   "outputs": [],
   "source": [
    "c.Clear()\n",
    "\n",
    "var_cut = 'mx2_all'\n",
    "# sys_hist_dict_pimkpks[var_cut].GetXaxis().SetRangeUser(0.45, 0.55)\n",
    "sys_hist_dict_pimkpks[var_cut].Draw()\n",
    "c.Update()\n",
    "nominal, loose, tight = 0.01, 0.02, 0.007\n",
    "nominal_left, loose_left, tight_left = -0.01, -0.02, -0.007\n",
    "line_nominal = ROOT.TLine(nominal, ROOT.gPad.GetUymin(), nominal, sys_hist_dict_pimkpks[var_cut].GetMaximum())\n",
    "line_nominal.SetLineColor(ROOT.kBlue)\n",
    "line_nominal.SetLineWidth(2)\n",
    "line_nominal_left = ROOT.TLine(nominal_left, ROOT.gPad.GetUymin(), nominal_left, sys_hist_dict_pimkpks[var_cut].GetMaximum())\n",
    "line_nominal_left.SetLineColor(ROOT.kBlue)\n",
    "line_nominal_left.SetLineWidth(2)\n",
    "line_loose = ROOT.TLine(loose, ROOT.gPad.GetUymin(), loose, sys_hist_dict_pimkpks[var_cut].GetMaximum())\n",
    "line_loose.SetLineStyle(2)\n",
    "line_loose.SetLineColor(ROOT.kBlue)\n",
    "line_loose.SetLineWidth(2)\n",
    "line_loose_left = ROOT.TLine(loose_left, ROOT.gPad.GetUymin(), loose_left, sys_hist_dict_pimkpks[var_cut].GetMaximum())\n",
    "line_loose_left.SetLineStyle(2)\n",
    "line_loose_left.SetLineColor(ROOT.kBlue)\n",
    "line_loose_left.SetLineWidth(2)\n",
    "line_tight = ROOT.TLine(tight, ROOT.gPad.GetUymin(), tight, sys_hist_dict_pimkpks[var_cut].GetMaximum())\n",
    "line_tight.SetLineStyle(4)\n",
    "line_tight.SetLineColor(ROOT.kBlue)\n",
    "line_tight.SetLineWidth(2)\n",
    "line_tight_left = ROOT.TLine(tight_left, ROOT.gPad.GetUymin(), tight_left, sys_hist_dict_pimkpks[var_cut].GetMaximum())\n",
    "line_tight_left.SetLineStyle(4)\n",
    "line_tight_left.SetLineColor(ROOT.kBlue)\n",
    "line_tight_left.SetLineWidth(2)\n",
    "line_nominal.Draw()\n",
    "line_nominal_left.Draw()\n",
    "line_loose.Draw()\n",
    "line_loose_left.Draw()\n",
    "line_tight.Draw()\n",
    "line_tight_left.Draw()\n",
    "c.Update()\n",
    "c.Draw()"
   ]
  },
  {
   "cell_type": "markdown",
   "metadata": {},
   "source": [
    "## Barlow Plots for Systematic Variations in ROOT"
   ]
  },
  {
   "cell_type": "code",
   "execution_count": null,
   "metadata": {},
   "outputs": [],
   "source": [
    "barlow_df = ROOT.RDF.MakeCsvDataFrame('/work/halld/home/viducic/systematic_errors/barlow_results_signifigant_cuts.csv')\n",
    "graphs_pipkmks = []\n",
    "graphs_pimkpks = []\n",
    "nop_variations = ['kinfit_cl', 'pathlength', 'ks_m', 'ppi', 'kp', 'ksp', 'neutral_kstar', 'charged_kstar', 'mx2_all']\n",
    "for var in nop_variations:\n",
    "    # I know this is bad code but I don't have the time. \n",
    "    graph_pipkmks_8 = barlow_df.Filter('channel == \"pipkmks\"').Filter(f'e == 8').Filter(f'cut == \"{var}\"').Graph('t', 'sigma_barlow')\n",
    "    graph_pipkmks_9 = barlow_df.Filter('channel == \"pipkmks\"').Filter(f'e == 9').Filter(f'cut == \"{var}\"').Graph('t', 'sigma_barlow')\n",
    "    graph_pipkmks_10 = barlow_df.Filter('channel == \"pipkmks\"').Filter(f'e == 10').Filter(f'cut == \"{var}\"').Graph('t', 'sigma_barlow')\n",
    "    graph_pipkmks_11 = barlow_df.Filter('channel == \"pipkmks\"').Filter(f'e == 11').Filter(f'cut == \"{var}\"').Graph('t', 'sigma_barlow')\n",
    "    graphs_pipkmks.append((graph_pipkmks_8, graph_pipkmks_9, graph_pipkmks_10, graph_pipkmks_11))\n",
    "\n",
    "    graph_pimkpks_8 = barlow_df.Filter('channel == \"pimkpks\"').Filter(f'e == 8').Filter(f'cut == \"{var}\"').Graph('t', 'sigma_barlow')\n",
    "    graph_pimkpks_9 = barlow_df.Filter('channel == \"pimkpks\"').Filter(f'e == 9').Filter(f'cut == \"{var}\"').Graph('t', 'sigma_barlow')\n",
    "    graph_pimkpks_10 = barlow_df.Filter('channel == \"pimkpks\"').Filter(f'e == 10').Filter(f'cut == \"{var}\"').Graph('t', 'sigma_barlow')\n",
    "    graph_pimkpks_11 = barlow_df.Filter('channel == \"pimkpks\"').Filter(f'e == 11').Filter(f'cut == \"{var}\"').Graph('t', 'sigma_barlow')\n",
    "    graphs_pimkpks.append((graph_pimkpks_8, graph_pimkpks_9, graph_pimkpks_10, graph_pimkpks_11))\n",
    "\n",
    "barlow_df.Count().GetValue()\n",
    "        "
   ]
  },
  {
   "cell_type": "code",
   "execution_count": null,
   "metadata": {},
   "outputs": [],
   "source": [
    "c.Clear()\n",
    "c.Divide(3, 3)\n",
    "\n",
    "# TODO: FIX TITLES\n",
    "# ROOT.gROOT.SetStyle(\"Plain\")\n",
    "\n",
    "variation_titles = ('CL_{KinFit}', 'Pathlength', 'M(#pi^{+}#pi^{-})', 'M(p#pi)', 'M(pK^{#mp})', 'M(pK_{s})', 'M(K^{#mp}#pi^{#pm})', 'M(K_{s}#pi^{#pm})', 'M_{x}^{2}(pK^{#mp}K_{s}#pi^{#pm})')\n",
    "titles = []\n",
    "y_lims = [45, 10, 10, 20, 10, 20, 40, 40, 10]\n",
    "\n",
    "line_upper = ROOT.TLine(0, 4, 8, 4)\n",
    "line_upper.SetLineColor(ROOT.kBlack)\n",
    "line_upper.SetLineWidth(1)\n",
    "line_upper.SetLineStyle(2)\n",
    "line_lower = ROOT.TLine(0, -4, 8, -4)\n",
    "line_lower.SetLineColor(ROOT.kBlack)\n",
    "line_lower.SetLineWidth(1)\n",
    "line_lower.SetLineStyle(2)\n",
    "lines = [line_upper, line_lower]\n",
    "hlist = []\n",
    "\n",
    "for i, (gpip, gpim) in enumerate(zip(graphs_pipkmks, graphs_pimkpks)):\n",
    "    pad = c.cd(i+1)\n",
    "    pad.SetTopMargin(0.15)\n",
    "    pad.SetBottomMargin(0.15)\n",
    "\n",
    "    gpip[0].SetMarkerColor(ROOT.kBlue)\n",
    "    gpip[1].SetMarkerColor(ROOT.kBlue+2)\n",
    "    gpip[2].SetMarkerColor(ROOT.kBlue-7)\n",
    "    gpip[3].SetMarkerColor(ROOT.kBlue-5)\n",
    "    gpim[0].SetMarkerColor(ROOT.kRed)\n",
    "    gpim[1].SetMarkerColor(ROOT.kRed+2)\n",
    "    gpim[2].SetMarkerColor(ROOT.kRed-7)\n",
    "    gpim[3].SetMarkerColor(ROOT.kRed-5)\n",
    "\n",
    "    h = ROOT.TH1F(f\"h{i}\", \"\", 1, 0, 8)\n",
    "    h.GetYaxis().SetRangeUser(-y_lims[i], y_lims[i])\n",
    "    h.GetYaxis().SetTitle(\"#sigma_{barlow}\")\n",
    "    h.GetYaxis().SetTitleSize(0.08)\n",
    "    h.GetYaxis().SetTitleOffset(0.7)\n",
    "    h.GetYaxis().SetLabelSize(0.05)\n",
    "    h.GetXaxis().SetLabelSize(0.05)\n",
    "    h.GetXaxis().SetTitle(\"-t [GeV^{2}]\")\n",
    "    h.GetXaxis().SetTitleSize(0.06)\n",
    "    h.GetXaxis().SetTitleOffset(0.8)\n",
    "\n",
    "    h.GetXaxis().SetTitleSize(0.07)\n",
    "    h.SetLineColor(0)\n",
    "    hlist.append(h)\n",
    "    hlist[i].Draw()\n",
    "\n",
    "    # gpip[0].GetXaxis().SetRangeUser(0, 8)\n",
    "    # gpip[0].GetYaxis().SetRangeUser(-y_lims[i], y_lims[i])\n",
    "    # gpip[0].Draw(\"AP\")\n",
    "    for j in range(4):\n",
    "        gpip[j].SetMarkerSize(0.5)\n",
    "        # gpip[j].GetXaxis().SetRangeUser(-1, 10)\n",
    "        gpip[j].GetYaxis().SetTitle(\"#sigma_{barlow}\")\n",
    "        gpip[j].GetXaxis().SetTitle(\"-t [GeV^{2}]\")\n",
    "        # gpip[i].SetOptTitle(1)\n",
    "        gpip[j].SetMarkerStyle(20)\n",
    "        gpim[j].SetMarkerSize(0.5)\n",
    "        # gpim[j].GetXaxis().SetRangeUser(-1, 10)\n",
    "        gpim[j].GetYaxis().SetTitle(\"#sigma_{barlow}\")\n",
    "        gpim[j].GetXaxis().SetTitle(\"-t [GeV^{2}]\")\n",
    "        # gpim[i].SetOptTitle(1)\n",
    "        gpim[j].SetMarkerStyle(20)\n",
    "\n",
    "        gpim[j].Draw(\"SAME P\")\n",
    "        gpip[j].Draw(\"SAME P\")\n",
    "\n",
    "    lines[0].Draw()\n",
    "    lines[1].Draw()\n",
    "\n",
    "    title = ROOT.TPaveText(0.05 + (i % 3) / 3.0, 0.93 - (i // 3) / 3.0, 0.3 + (i % 3) / 3.0, 1.0 - (i // 3) / 3.0, \"brNDC\")\n",
    "    title.SetFillColorAlpha(0, 0)\n",
    "    title.SetBorderSize(0)\n",
    "    title.SetTextSize(0.025)\n",
    "    title.SetTextAlign(22)\n",
    "    title.AddText(variation_titles[i])\n",
    "    titles.append(title)\n",
    "\n",
    "c.cd()\n",
    "for title in titles:\n",
    "    title.Draw()\n",
    "\n",
    "# x_label = ROOT.TPaveText(0.5, 0.01, 0.95, 0.05, \"brNDC\")\n",
    "# x_label.SetFillColorAlpha(0, 0)\n",
    "# x_label.SetBorderSize(0)\n",
    "# x_label.SetTextSize(0.025)\n",
    "# x_label.SetTextAlign(22)\n",
    "# x_label.AddText(\"-t [GeV^{2}]\")\n",
    "\n",
    "# y_label = ROOT.TPaveText(0.0, 0.04, 0.1, 0.08, \"brNDC\")\n",
    "# y_label.SetFillColorAlpha(0, 0)\n",
    "# y_label.SetBorderSize(0)\n",
    "# y_label.SetTextSize(0.025)\n",
    "# y_label.SetTextAlign(22)\n",
    "# y_label.AddText(\"#sigma_{barlow}\")\n",
    "\n",
    "# x_label.Draw()\n",
    "# y_label.Draw()\n",
    "\n",
    "c.Draw()\n",
    "\n",
    "# ROOT.gStyle.SetOptTitle(0)\n"
   ]
  },
  {
   "cell_type": "code",
   "execution_count": null,
   "metadata": {},
   "outputs": [],
   "source": [
    "c.Clear()\n",
    "\n",
    "pp_barlow_graphs_pipkmks = []\n",
    "pp_barlow_graphs_pimkpks = []\n",
    "pp_graph_pipkmks_8 = barlow_df.Filter('channel == \"pipkmks\"').Filter(f'e == 8').Filter(f'cut == \"pp\"').Graph('t', 'sigma_barlow')\n",
    "pp_graph_pipkmks_9 = barlow_df.Filter('channel == \"pipkmks\"').Filter(f'e == 9').Filter(f'cut == \"pp\"').Graph('t', 'sigma_barlow')\n",
    "pp_graph_pipkmks_10 = barlow_df.Filter('channel == \"pipkmks\"').Filter(f'e == 10').Filter(f'cut == \"pp\"').Graph('t', 'sigma_barlow')\n",
    "pp_graph_pipkmks_11 = barlow_df.Filter('channel == \"pipkmks\"').Filter(f'e == 11').Filter(f'cut == \"pp\"').Graph('t', 'sigma_barlow')\n",
    "pp_barlow_graphs_pipkmks.append((pp_graph_pipkmks_8, pp_graph_pipkmks_9, pp_graph_pipkmks_10, pp_graph_pipkmks_11))\n",
    "pp_graph_pimkpks_8 = barlow_df.Filter('channel == \"pimkpks\"').Filter(f'e == 8').Filter(f'cut == \"pp\"').Graph('t', 'sigma_barlow')\n",
    "pp_graph_pimkpks_9 = barlow_df.Filter('channel == \"pimkpks\"').Filter(f'e == 9').Filter(f'cut == \"pp\"').Graph('t', 'sigma_barlow')\n",
    "pp_graph_pimkpks_10 = barlow_df.Filter('channel == \"pimkpks\"').Filter(f'e == 10').Filter(f'cut == \"pp\"').Graph('t', 'sigma_barlow')\n",
    "pp_graph_pimkpks_11 = barlow_df.Filter('channel == \"pimkpks\"').Filter(f'e == 11').Filter(f'cut == \"pp\"').Graph('t', 'sigma_barlow')\n",
    "pp_barlow_graphs_pimkpks.append((pp_graph_pimkpks_8, pp_graph_pimkpks_9, pp_graph_pimkpks_10, pp_graph_pimkpks_11))\n",
    "\n",
    "h = ROOT.TH1F(f\"h\", \"\", 1, 0, 8)\n",
    "h.GetYaxis().SetRangeUser(-10, 10)\n",
    "h.GetYaxis().SetTitle(\"#sigma_{barlow}\")\n",
    "h.GetYaxis().SetTitleSize(0.06)\n",
    "h.GetYaxis().SetTitleOffset(0.7)\n",
    "# h.GetYaxis().SetLabelSize(0.05)\n",
    "# h.GetXaxis().SetLabelSize(0.05)\n",
    "h.GetXaxis().SetTitle(\"-t [GeV^{2}]\")\n",
    "# h.GetXaxis().SetTitleSize(0.04)\n",
    "# h.GetXaxis().SetTitleOffset(0.8)\n",
    "\n",
    "# h.GetXaxis().SetTitleSize(0.07)\n",
    "h.SetLineColor(0)\n",
    "\n",
    "h.Draw()\n",
    "\n",
    "pp_graph_pipkmks_8.SetMarkerColor(ROOT.kBlue)\n",
    "pp_graph_pipkmks_9.SetMarkerColor(ROOT.kBlue+2)\n",
    "pp_graph_pipkmks_10.SetMarkerColor(ROOT.kBlue-7)\n",
    "pp_graph_pipkmks_11.SetMarkerColor(ROOT.kBlue-5)\n",
    "pp_graph_pimkpks_8.SetMarkerColor(ROOT.kRed)\n",
    "pp_graph_pimkpks_9.SetMarkerColor(ROOT.kRed+2)\n",
    "pp_graph_pimkpks_10.SetMarkerColor(ROOT.kRed-7)\n",
    "pp_graph_pimkpks_11.SetMarkerColor(ROOT.kRed-5)\n",
    "\n",
    "\n",
    "for i, (pgp, pgm) in enumerate(zip(pp_barlow_graphs_pipkmks, pp_barlow_graphs_pimkpks)):\n",
    "    for j in range(4):\n",
    "        pgp[j].SetMarkerSize(0.8)\n",
    "        pgp[j].GetYaxis().SetTitle(\"#sigma_{barlow}\")\n",
    "        pgp[j].GetXaxis().SetTitle(\"-t [GeV^{2}]\")\n",
    "        pgp[j].SetMarkerStyle(20)\n",
    "        pgm[j].SetMarkerSize(0.8)\n",
    "        pgm[j].GetYaxis().SetTitle(\"#sigma_{barlow}\")\n",
    "        pgm[j].GetXaxis().SetTitle(\"-t [GeV^{2}]\")\n",
    "        pgm[j].SetMarkerStyle(20)\n",
    "\n",
    "        pgm[j].Draw(\"SAME P\")\n",
    "        pgp[j].Draw(\"SAME P\")\n",
    "\n",
    "lines[0].Draw()\n",
    "lines[1].Draw()\n",
    "\n",
    "c.Draw()\n",
    "\n"
   ]
  }
 ],
 "metadata": {
  "kernelspec": {
   "display_name": "Python 3",
   "language": "python",
   "name": "python3"
  },
  "language_info": {
   "codemirror_mode": {
    "name": "ipython",
    "version": 3
   },
   "file_extension": ".py",
   "mimetype": "text/x-python",
   "name": "python",
   "nbconvert_exporter": "python",
   "pygments_lexer": "ipython3",
   "version": "3.6.8"
  }
 },
 "nbformat": 4,
 "nbformat_minor": 2
}
