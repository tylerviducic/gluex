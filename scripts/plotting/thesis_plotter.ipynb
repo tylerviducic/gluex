{
 "cells": [
  {
   "cell_type": "markdown",
   "metadata": {},
   "source": [
    "# Thesis Plotter"
   ]
  },
  {
   "cell_type": "markdown",
   "metadata": {},
   "source": [
    "## Imports and Methods"
   ]
  },
  {
   "cell_type": "code",
   "execution_count": 1,
   "metadata": {},
   "outputs": [
    {
     "name": "stdout",
     "output_type": "stream",
     "text": [
      "Welcome to JupyROOT 6.24/04\n"
     ]
    }
   ],
   "source": [
    "import ROOT\n",
    "import my_library.common_analysis_tools as tools\n",
    "import my_library.kinematic_cuts as cuts\n",
    "import my_library.constants as constants\n",
    "import my_library.gluex_style as gxs"
   ]
  },
  {
   "cell_type": "code",
   "execution_count": 2,
   "metadata": {},
   "outputs": [],
   "source": [
    "def title_hists(hist: list, xtitle, ytitle):\n",
    "    titled_hists = []\n",
    "    for hist in hist:\n",
    "        hist.GetXaxis().SetTitle(xtitle)\n",
    "        hist.GetYaxis().SetTitle(ytitle)\n",
    "\n",
    "    "
   ]
  },
  {
   "cell_type": "markdown",
   "metadata": {},
   "source": [
    "# Make Plots for My Thesis "
   ]
  },
  {
   "cell_type": "code",
   "execution_count": 3,
   "metadata": {},
   "outputs": [],
   "source": [
    "ROOT.EnableImplicitMT()"
   ]
  },
  {
   "cell_type": "code",
   "execution_count": 4,
   "metadata": {},
   "outputs": [],
   "source": [
    "df_pipkmks = tools.get_dataframe('pipkmks', 'gluex1', 'data', filtered=False)\n",
    "df_pimkpks = tools.get_dataframe('pimkpks', 'gluex1', 'data', filtered=False)"
   ]
  },
  {
   "cell_type": "markdown",
   "metadata": {},
   "source": [
    "## $M^{2}_{x}(pKK\\pi)$"
   ]
  },
  {
   "cell_type": "code",
   "execution_count": 5,
   "metadata": {},
   "outputs": [],
   "source": [
    "mx2_all_bins, mx2_all_xlow, mx2_all_xhigh = 1000, -0.1, 0.1\n",
    "hist_mx2all_pipkmks = df_pipkmks.Histo1D(('mx2_all_pipkmks', 'mx2_all_pipkmks', mx2_all_bins, mx2_all_xlow, mx2_all_xhigh ), 'mx2_ppipkmks')\n",
    "hist_mx2all_pimkpks = df_pimkpks.Histo1D(('mx2_all_pimkpks', 'mx2_all_pimkpks', mx2_all_bins, mx2_all_xlow, mx2_all_xhigh ), 'mx2_ppimkpks')\n",
    "\n",
    "hist_mx2all_pipkmks_cut = df_pipkmks.Filter(cuts.MX2_PPIPKMKS_CUT).Histo1D(('mx2_all_pipkmks_cut', 'mx2_all_pipkmks_cut', mx2_all_bins, mx2_all_xlow, mx2_all_xhigh ), 'mx2_ppipkmks')\n",
    "hist_mx2all_pimkpks_cut = df_pimkpks.Filter(cuts.MX2_PPIMKPKS_CUT).Histo1D(('mx2_all_pimkpks_cut', 'mx2_all_pimkpks_cut', mx2_all_bins, mx2_all_xlow, mx2_all_xhigh ), 'mx2_ppimkpks')"
   ]
  },
  {
   "cell_type": "code",
   "execution_count": 6,
   "metadata": {},
   "outputs": [],
   "source": [
    "df_pipkmks_cut = df_pipkmks.Filter(cuts.MX2_PPIPKMKS_CUT)\n",
    "df_pimkpks_cut = df_pimkpks.Filter(cuts.MX2_PPIMKPKS_CUT)\n"
   ]
  },
  {
   "cell_type": "markdown",
   "metadata": {},
   "source": [
    "## $\\vec{p}(p')$"
   ]
  },
  {
   "cell_type": "code",
   "execution_count": 7,
   "metadata": {},
   "outputs": [],
   "source": [
    "pp_bins, pp_xlow, pp_xhigh = 500, 0, 3\n",
    "hist_trange_pipkmks = df_pipkmks_cut.Histo1D(('trange_pipkmks', 'trange_pipkmks', pp_bins, pp_xlow, pp_xhigh ), 'mand_t')\n",
    "hist_trange_pimkpks = df_pimkpks_cut.Histo1D(('trange_pimkpks', 'trange_pimkpks', pp_bins, pp_xlow, pp_xhigh ), 'mand_t')\n",
    "hist_trange_pipkmks_cut = df_pipkmks_cut.Filter(cuts.P_P_CUT).Histo1D(('trange_pipkmks_cut', 'trange_pipkmks_cut', pp_bins, pp_xlow, pp_xhigh ), 'mand_t')"
   ]
  },
  {
   "cell_type": "markdown",
   "metadata": {},
   "source": [
    "# Draw Plots"
   ]
  },
  {
   "cell_type": "code",
   "execution_count": 8,
   "metadata": {},
   "outputs": [],
   "source": [
    "path_to_plots = '/work/halld/home/viducic/plots/thesis/'"
   ]
  },
  {
   "cell_type": "code",
   "execution_count": 9,
   "metadata": {},
   "outputs": [],
   "source": [
    "c = ROOT.TCanvas('c', 'c', 900, 900)"
   ]
  },
  {
   "cell_type": "markdown",
   "metadata": {},
   "source": [
    "## $M^{2}_{x}(pKK\\pi)$"
   ]
  },
  {
   "cell_type": "code",
   "execution_count": 10,
   "metadata": {},
   "outputs": [
    {
     "data": {
      "image/png": "[encoded data removed]",
      "text/plain": [
       "<IPython.core.display.Image object>"
      ]
     },
     "metadata": {},
     "output_type": "display_data"
    }
   ],
   "source": [
    "c.Clear()\n",
    "c.Divide(2,1)\n",
    "\n",
    "# mx2all_xtitle = 'M_{x}^{2}(pKK#pi) [GeV^{2}]'\n",
    "hist_mx2all_pipkmks.GetXaxis().SetTitle('M_{x}^{2}(pK^{-}K_{s}#pi^{+}) [GeV^{2}]')\n",
    "# mx2all_ytitle = f'Counts/{1000*(mx2_all_xhigh-mx2_all_xlow)/mx2_all_bins:.3f}' + ' MeV^{2}'\n",
    "hist_mx2all_pipkmks.GetYaxis().SetTitle(f'Counts/{1000*(mx2_all_xhigh-mx2_all_xlow)/mx2_all_bins:.3f} MeV^{2}')\n",
    "hist_mx2all_pipkmks_cut.SetFillColor(ROOT.kBlue)\n",
    "hist_mx2all_pipkmks.GetYaxis().SetTitleOffset(1.54)\n",
    "hist_mx2all_pipkmks.GetXaxis().SetTitleSize(0.05)\n",
    "hist_mx2all_pipkmks.GetXaxis().SetTitleOffset(0.9)\n",
    "\n",
    "\n",
    "hist_mx2all_pimkpks.GetXaxis().SetTitle('M_{x}^{2}(pK^{+}K_{s}#pi^{-}) [GeV^{2}]')\n",
    "hist_mx2all_pimkpks.GetYaxis().SetTitle(f'Counts/{1000*(mx2_all_xhigh-mx2_all_xlow)/mx2_all_bins:.3f} MeV^{2}')\n",
    "hist_mx2all_pimkpks_cut.SetFillColor(ROOT.kRed)\n",
    "hist_mx2all_pimkpks.GetYaxis().SetTitleOffset(1.54)\n",
    "hist_mx2all_pimkpks.GetXaxis().SetTitleSize(0.05)\n",
    "hist_mx2all_pimkpks.GetXaxis().SetTitleOffset(0.9)\n",
    "\n",
    "# title_hists([hist_mx2all_pimkpks, hist_mx2all_pipkmks], mx2all_xtitle, mx2all_ytitle)\n",
    "# title_hists([hist_mx2all_pimkpks_cut, hist_mx2all_pipkmks_cut], mx2all_xtitle, mx2all_ytitle)\n",
    "c.cd(1)\n",
    "hist_mx2all_pipkmks.Draw()\n",
    "hist_mx2all_pipkmks_cut.Draw('same')\n",
    "c.cd(2)\n",
    "hist_mx2all_pimkpks.Draw()\n",
    "hist_mx2all_pimkpks_cut.Draw('same')\n",
    "\n",
    "c.Draw()\n"
   ]
  },
  {
   "cell_type": "markdown",
   "metadata": {},
   "source": [
    "## $\\vec{p}(p')$"
   ]
  },
  {
   "cell_type": "code",
   "execution_count": null,
   "metadata": {},
   "outputs": [],
   "source": [
    "c.Clear()\n",
    "pp_xtitle = \"t(p-p') [GeV^{2}]\"\n",
    "pp_ytitle = f'Counts/{1000*(pp_xhigh-pp_xlow)/pp_bins:.3f}' + ' MeV^{2}'\n",
    "# TODO: plot impact of p cut on t\n"
   ]
  }
 ],
 "metadata": {
  "kernelspec": {
   "display_name": "Python 3",
   "language": "python",
   "name": "python3"
  },
  "language_info": {
   "codemirror_mode": {
    "name": "ipython",
    "version": 3
   },
   "file_extension": ".py",
   "mimetype": "text/x-python",
   "name": "python",
   "nbconvert_exporter": "python",
   "pygments_lexer": "ipython3",
   "version": "3.6.8"
  }
 },
 "nbformat": 4,
 "nbformat_minor": 2
}
