{
 "cells": [
  {
   "cell_type": "code",
   "execution_count": 1,
   "metadata": {},
   "outputs": [
    {
     "name": "stdout",
     "output_type": "stream",
     "text": [
      "Welcome to JupyROOT 6.24/04\n"
     ]
    }
   ],
   "source": [
    "import ROOT\n",
    "import my_library.common_analysis_tools as tools\n",
    "import my_library.constants as constants\n",
    "import my_library.kinematic_cuts as kcuts"
   ]
  },
  {
   "cell_type": "code",
   "execution_count": 2,
   "metadata": {},
   "outputs": [],
   "source": [
    "ROOT.EnableImplicitMT()\n",
    "ROOT.gStyle.SetOptStat(0)"
   ]
  },
  {
   "cell_type": "code",
   "execution_count": 3,
   "metadata": {},
   "outputs": [],
   "source": [
    "df_pipkmks = tools.get_dataframe('pipkmks', 'spring', 'data').Filter(kcuts.KSTAR_ALL_CUT_PIPKMKS)\n",
    "df_pimkpks = tools.get_dataframe('pimkpks', 'spring', 'data').Filter(kcuts.KSTAR_ALL_CUT_PIMKPKS)"
   ]
  },
  {
   "cell_type": "code",
   "execution_count": 4,
   "metadata": {},
   "outputs": [],
   "source": [
    "hists_pip = []\n",
    "hists_pim = []\n",
    "for e in constants.ALLOWED_E_BINS:\n",
    "    cut = f'e_beam > {e-0.5} && e_beam < {e+0.5}'\n",
    "    df_pipkmks_cut = df_pipkmks.Filter(cut)\n",
    "    df_pimkpks_cut = df_pimkpks.Filter(cut)\n",
    "    binned_e_hists_pip = []\n",
    "    binned_e_hists_pim = []\n",
    "    for t in constants.ALLOWED_T_BINS:\n",
    "        title = 'M(KK#pi) for E_{#gamma} = ' + str(e) + f' GeV & {constants.T_CUT_DICT[t][0]} < t < {constants.T_CUT_DICT[t][1]}' + 'GeV^{2}' \n",
    "        binned_e_hists_pip.append(df_pipkmks_cut.Filter(f't_bin == {t}').Histo1D((f'pipkmks_{e}_{t}', title, 60, 1.1, 1.7), 'pipkmks_m'))\n",
    "        binned_e_hists_pim.append(df_pimkpks_cut.Filter(f't_bin == {t}').Histo1D((f'pimkpks_{e}_{t}', title, 60, 1.1, 1.7), 'pimkpks_m'))\n",
    "    hists_pip.append(binned_e_hists_pip)\n",
    "    hists_pim.append(binned_e_hists_pim)\n",
    "    "
   ]
  },
  {
   "cell_type": "code",
   "execution_count": 5,
   "metadata": {},
   "outputs": [
    {
     "name": "stdout",
     "output_type": "stream",
     "text": [
      "7\n"
     ]
    }
   ],
   "source": [
    "print(len(hists_pip[0]))"
   ]
  },
  {
   "cell_type": "code",
   "execution_count": 7,
   "metadata": {},
   "outputs": [
    {
     "name": "stderr",
     "output_type": "stream",
     "text": [
      "Warning in <TCanvas::Constructor>: Deleting canvas with same name: c\n",
      "Info in <TCanvas::Print>: pdf file kkpi_vs_e_and_t.pdf has been created\n",
      "Info in <TCanvas::Print>: Current canvas added to pdf file kkpi_vs_e_and_t.pdf\n",
      "Info in <TCanvas::Print>: Current canvas added to pdf file kkpi_vs_e_and_t.pdf\n",
      "Info in <TCanvas::Print>: Current canvas added to pdf file kkpi_vs_e_and_t.pdf\n",
      "Info in <TCanvas::Print>: Current canvas added to pdf file kkpi_vs_e_and_t.pdf\n",
      "Info in <TCanvas::Print>: Current canvas added to pdf file kkpi_vs_e_and_t.pdf\n",
      "Info in <TCanvas::Print>: pdf file kkpi_vs_e_and_t.pdf has been closed\n"
     ]
    },
    {
     "data": {
      "image/png": "[encoded data removed]",
      "text/plain": [
       "<IPython.core.display.Image object>"
      ]
     },
     "metadata": {},
     "output_type": "display_data"
    }
   ],
   "source": [
    "c = ROOT.TCanvas('c', 'c', 800, 600)\n",
    "c.Divide(4, 2)\n",
    "legends = []\n",
    "c.Print('kkpi_vs_e_and_t.pdf[')\n",
    "for hist_array_pip, hist_array_pim in zip(hists_pip, hists_pim):\n",
    "    for i, (hist_pip, hist_pim) in enumerate(zip(hist_array_pip, hist_array_pim)):\n",
    "        c.cd(i+1)\n",
    "        hist_pim.SetLineColor(ROOT.kRed)\n",
    "        hist_pip.SetLineColor(ROOT.kBlue)\n",
    "        sorted_hists = tools.sort_hists_by_max([hist_pip.GetPtr(), hist_pim.GetPtr()])\n",
    "        sorted_hists[0].Draw()\n",
    "        sorted_hists[1].Draw('SAME')\n",
    "        legend = ROOT.TLegend(0.7, 0.75, 0.9, 0.9)\n",
    "        legend.AddEntry(hist_pip.GetPtr(), '#pi^{+}K^{-}K_{s}', 'l')\n",
    "        legend.AddEntry(hist_pim.GetPtr(), '#pi^{-}K^{+}K_{s}', 'l')\n",
    "        legends.append(legend)\n",
    "        legends[i].Draw()\n",
    "        c.Update()\n",
    "    c.Draw()\n",
    "    c.Print('kkpi_vs_e_and_t.pdf')\n",
    "c.Print('kkpi_vs_e_and_t.pdf]')"
   ]
  }
 ],
 "metadata": {
  "kernelspec": {
   "display_name": "Python 3",
   "language": "python",
   "name": "python3"
  },
  "language_info": {
   "codemirror_mode": {
    "name": "ipython",
    "version": 3
   },
   "file_extension": ".py",
   "mimetype": "text/x-python",
   "name": "python",
   "nbconvert_exporter": "python",
   "pygments_lexer": "ipython3",
   "version": "3.6.8"
  }
 },
 "nbformat": 4,
 "nbformat_minor": 2
}
