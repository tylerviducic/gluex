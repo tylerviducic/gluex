{
 "cells": [
  {
   "cell_type": "code",
   "execution_count": 1,
   "metadata": {},
   "outputs": [
    {
     "name": "stdout",
     "output_type": "stream",
     "text": [
      "Welcome to JupyROOT 6.24/04\n"
     ]
    }
   ],
   "source": [
    "import ROOT\n",
    "import my_library.common_analysis_tools as tools\n",
    "import my_library.constants as constants\n",
    "import my_library.kinematic_cuts as kcuts"
   ]
  },
  {
   "cell_type": "code",
   "execution_count": 2,
   "metadata": {},
   "outputs": [],
   "source": [
    "ROOT.EnableImplicitMT()"
   ]
  },
  {
   "cell_type": "code",
   "execution_count": 3,
   "metadata": {},
   "outputs": [],
   "source": [
    "df_spring = tools.get_dataframe('pipkmks', 'spring', 'data', filtered=False)\n",
    "df_fall = tools.get_dataframe('pipkmks', 'fall', 'data', filtered=False)\n",
    "df_2017 = tools.get_dataframe('pipkmks', '2017', 'data', filtered=False)\n"
   ]
  },
  {
   "cell_type": "code",
   "execution_count": 4,
   "metadata": {},
   "outputs": [],
   "source": [
    "df_spring = df_spring.Filter(kcuts.KINFIT_CL_CUT).Filter(kcuts.MX2_PPIPKMKS_CUT).Filter(kcuts.KS_PATHLENGTH_CUT).Filter(kcuts.KS_MASS_CUT).Filter(kcuts.PPIP_MASS_CUT).Filter(kcuts.P_P_CUT).Filter(kcuts.KSTAR_ALL_CUT_PIPKMKS)\n",
    "df_fall = df_fall.Filter(kcuts.KINFIT_CL_CUT).Filter(kcuts.MX2_PPIPKMKS_CUT).Filter(kcuts.KS_PATHLENGTH_CUT).Filter(kcuts.KS_MASS_CUT).Filter(kcuts.PPIP_MASS_CUT).Filter(kcuts.P_P_CUT).Filter(kcuts.KSTAR_ALL_CUT_PIPKMKS)\n",
    "df_2017 = df_2017.Filter(kcuts.KINFIT_CL_CUT).Filter(kcuts.MX2_PPIPKMKS_CUT).Filter(kcuts.KS_PATHLENGTH_CUT).Filter(kcuts.KS_MASS_CUT).Filter(kcuts.PPIP_MASS_CUT).Filter(kcuts.P_P_CUT).Filter(kcuts.KSTAR_ALL_CUT_PIPKMKS)"
   ]
  },
  {
   "cell_type": "code",
   "execution_count": 5,
   "metadata": {},
   "outputs": [],
   "source": [
    "df_spring = df_spring.Filter('kmp_m < 1.47')\n",
    "df_fall = df_fall.Filter('kmp_m < 1.47')\n",
    "df_2017 = df_2017.Filter('kmp_m < 1.47')"
   ]
  },
  {
   "cell_type": "code",
   "execution_count": 8,
   "metadata": {},
   "outputs": [
    {
     "data": {
      "text/plain": [
       "True"
      ]
     },
     "execution_count": 8,
     "metadata": {},
     "output_type": "execute_result"
    }
   ],
   "source": [
    "hist_spring = df_spring.Histo1D(('ksp_m_spring', 'M(pK_{s}) with M(pK^{-}) < 1.47 GeV', 50, 1.4, 2.5), 'ksp_m')\n",
    "hist_fall = df_fall.Histo1D(('ksp_m_fall', 'M(pK_{s}) with M(pK^{-}) < 1.47 GeV', 50, 1.4, 2.5), 'ksp_m')\n",
    "hist_2017 = df_2017.Histo1D(('ksp_m_2017', 'M(pK_{s}) with M(pK^{-}) < 1.47 GeV', 50, 1.4, 2.5), 'ksp_m')\n",
    "\n",
    "hist_spring.Sumw2()\n",
    "hist_fall.Sumw2()\n",
    "hist_2017.Sumw2()\n",
    "\n",
    "hist_total = hist_spring.Clone('ksp_m_total')\n",
    "hist_total.Add(hist_fall.GetPtr())\n",
    "hist_total.Add(hist_2017.GetPtr())"
   ]
  },
  {
   "cell_type": "code",
   "execution_count": 9,
   "metadata": {},
   "outputs": [
    {
     "data": {
      "image/png": "[encoded data removed]",
      "text/plain": [
       "<IPython.core.display.Image object>"
      ]
     },
     "metadata": {},
     "output_type": "display_data"
    }
   ],
   "source": [
    "c = ROOT.TCanvas()\n",
    "hist_total.GetXaxis().SetRangeUser(1.4, 1.8)\n",
    "hist_total.Draw(\"E\")\n",
    "c.Draw()\n"
   ]
  }
 ],
 "metadata": {
  "kernelspec": {
   "display_name": "Python 3",
   "language": "python",
   "name": "python3"
  },
  "language_info": {
   "codemirror_mode": {
    "name": "ipython",
    "version": 3
   },
   "file_extension": ".py",
   "mimetype": "text/x-python",
   "name": "python",
   "nbconvert_exporter": "python",
   "pygments_lexer": "ipython3",
   "version": "3.6.8"
  }
 },
 "nbformat": 4,
 "nbformat_minor": 2
}
