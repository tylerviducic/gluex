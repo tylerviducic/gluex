{
 "cells": [
  {
   "cell_type": "markdown",
   "metadata": {},
   "source": [
    "# Systematics Pipeline Notebook\n",
    "\n",
    "This notebook is used to run the systematics pipeline for my analysis. It will run various scripts for different stages of my analysis. The pipeline is broken up into the following stages:\n",
    "\n",
    "1. DSelector Data Selection \n",
    "2. Kinmatic cuts\n",
    "3. Fits"
   ]
  },
  {
   "cell_type": "markdown",
   "metadata": {},
   "source": [
    "# TODO/Checklist/BrainDump\n",
    "\n",
    "- [ ] Write Scripts to execute each stage that can take targeted changed as arguments\n",
    "    - [ ] DSelector\n",
    "        - [ ] Kinfit $chi^2/ndf$\n",
    "            - Maybe write a version for each kinfit. would almost certainly be faster and easier than passing args to DS\n",
    "    - [ ] Kinematic Cuts\n",
    "        - [ ] $M_x^2(pKK\\pi)$\n",
    "        - [ ] $\\vec{p}(p)$\n",
    "        - [ ] $PL_{K_s}$\n",
    "        - [ ] $|M_{K_s} - M_{\\pi\\pi}|$\n",
    "        - [ ] $M(p\\pi)$\n",
    "        - [ ] $M(pK)$\n",
    "        - [ ] $M(pK_s)$\n",
    "        - [ ] $M(K^{*\\pm)}$\n",
    "        - [ ] $M(K^{*0)}$\n",
    "        - [ ] $\\Delta t$ (?????)\n",
    "        - [ ] $E_\\gamma$ (?????)\n",
    "        - RDataFrame has a builtin tool for this that should make it relatively straightforward. Just need to find a way to loop over the different cuts and output the results in a way that I can pass to the next stage. \n",
    "    - [ ] Fits\n",
    "        - [ ] Background shape\n",
    "        - [ ] Signal shape\n",
    "        - [ ] $f_1(1420)$ bump mass\n",
    "        - [ ] $f_1(1420)$ bump width\n",
    "        - This will be harder due to python's garbage collection. \n",
    "- [ ] Write script to calculate $\\sigma_{barlow}$ for each systematic\n",
    "    - $\\sigma_{barlow} = \\frac{O_{nominal} - O_{variation}}{\\sqrt{\\delta^2_{nominal} - \\delta^2_{variation}}}$"
   ]
  }
 ],
 "metadata": {
  "language_info": {
   "name": "python"
  }
 },
 "nbformat": 4,
 "nbformat_minor": 2
}
