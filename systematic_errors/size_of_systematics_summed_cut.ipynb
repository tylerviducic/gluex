{
 "cells": [
  {
   "cell_type": "code",
   "execution_count": 6,
   "metadata": {},
   "outputs": [],
   "source": [
    "import numpy as np\n",
    "import pandas as pd\n",
    "import matplotlib.pyplot as plt\n",
    "import my_library.constants as constants"
   ]
  },
  {
   "cell_type": "code",
   "execution_count": 7,
   "metadata": {},
   "outputs": [],
   "source": [
    "fit_systematics = pd.read_csv('/work/halld/home/viducic/systematic_errors/max_changes.csv')\n",
    "# signifigant_cuts = pd.read_csv('/work/halld/home/viducic/systematic_errors/signifigant_cuts.csv')\n",
    "# signifigant_cuts = signifigant_cuts[signifigant_cuts['cut'].str.contains('kstar')]\n",
    "cuts_df = pd.read_csv('/work/halld/home/viducic/systematic_errors/largest_mag_cuts.csv')\n",
    "cuts_df = cuts_df[cuts_df['cut'].str.contains('kstar')]\n",
    "# signifigant_cuts = signifigant_cuts[signifigant_cuts['cut'].isin(['kinfit_cl', 'ppi', 'kp', 'ksp'])]\n",
    "# signifigant_cuts = signifigant_cuts[signifigant_cuts['cut'].isin(['kinfit_cl', 'ppi'])]\n",
    "path_to_fit_result_files = '/work/halld/home/viducic/data/fit_params/{}/tf1_gaus_cross_section_values.csv'\n",
    "df_pipkmks = pd.read_csv(path_to_fit_result_files.format('pipkmks'))\n",
    "df_pipkmks['cross_section_percent_error'] = df_pipkmks['cross_section_error']/df_pipkmks['cross_section']\n",
    "df_pimkpks = pd.read_csv(path_to_fit_result_files.format('pimkpks'))\n",
    "df_pimkpks['cross_section_percent_error'] = df_pimkpks['cross_section_error']/df_pimkpks['cross_section']\n"
   ]
  },
  {
   "cell_type": "code",
   "execution_count": 8,
   "metadata": {},
   "outputs": [],
   "source": [
    "cut_fit_errors = pd.DataFrame(columns=['channel', 'e', 't', 'stat_error', 'fit_error', 'cut_error', 'sys_error', 'total_percent_error'])"
   ]
  },
  {
   "cell_type": "code",
   "execution_count": 9,
   "metadata": {},
   "outputs": [],
   "source": [
    "grouped = fit_systematics.groupby(['channel', 'e', 't'])\n",
    "for (channel, e, t), group in grouped:\n",
    "    if e ==12:\n",
    "        continue\n",
    "    # print(group)\n",
    "    fit_error = group['max_percent_change'].values[0]\n",
    "    etc_sig_cuts = cuts_df[(cuts_df['channel'] == channel) & (cuts_df['e'] == e) & (cuts_df['t'] == t)]\n",
    "    cuts = {}\n",
    "    cuts_grouped = etc_sig_cuts.groupby('cut')\n",
    "    for cut, cut_group in cuts_grouped:\n",
    "        cuts[cut] = cut_group['mag_percent_change'].values[0]\n",
    "    \n",
    "    cut_error = np.sqrt(sum([x**2 for x in cuts.values()]))\n",
    "    middle_of_bin = constants.T_CUT_DICT[t][0] + constants.T_WIDTH_DICT[t]/2\n",
    "    if channel == 'pipkmks':\n",
    "        stat_error = df_pipkmks[(df_pipkmks['beam_energy'] == e) & (df_pipkmks['t_bin_middle'] == middle_of_bin)]['cross_section_percent_error'].values[0]\n",
    "        cs = df_pipkmks[(df_pipkmks['beam_energy'] == e) & (df_pipkmks['t_bin_middle'] == middle_of_bin)]['cross_section'].values[0]\n",
    "    else:\n",
    "        stat_error = df_pimkpks[(df_pimkpks['beam_energy'] == e) & (df_pimkpks['t_bin_middle'] == middle_of_bin)]['cross_section_percent_error'].values[0]\n",
    "        cs = df_pimkpks[(df_pimkpks['beam_energy'] == e) & (df_pimkpks['t_bin_middle'] == middle_of_bin)]['cross_section'].values[0]\n",
    "    sys_error = np.sqrt(fit_error**2 + cut_error**2)\n",
    "    total_percent_error = np.sqrt(stat_error**2 + sys_error**2)\n",
    "    cut_fit_errors = cut_fit_errors.append({'channel': channel, 'e': e, 't': middle_of_bin, 'stat_error': stat_error, 'fit_error': fit_error, 'cut_error': cut_error, 'sys_error': sys_error, 'total_percent_error': total_percent_error}, ignore_index=True)\n",
    "\n"
   ]
  },
  {
   "cell_type": "code",
   "execution_count": 10,
   "metadata": {},
   "outputs": [],
   "source": [
    "# print(cut_fit_errors)\n",
    "cut_fit_errors.to_csv('/work/halld/home/viducic/systematic_errors/cs_total_error.csv', index=False)"
   ]
  }
 ],
 "metadata": {
  "kernelspec": {
   "display_name": "Python 3",
   "language": "python",
   "name": "python3"
  },
  "language_info": {
   "codemirror_mode": {
    "name": "ipython",
    "version": 3
   },
   "file_extension": ".py",
   "mimetype": "text/x-python",
   "name": "python",
   "nbconvert_exporter": "python",
   "pygments_lexer": "ipython3",
   "version": "3.6.8"
  }
 },
 "nbformat": 4,
 "nbformat_minor": 2
}
