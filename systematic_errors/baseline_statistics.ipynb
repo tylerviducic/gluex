{
 "cells": [
  {
   "cell_type": "code",
   "execution_count": 1,
   "metadata": {},
   "outputs": [
    {
     "name": "stdout",
     "output_type": "stream",
     "text": [
      "Welcome to JupyROOT 6.24/04\n"
     ]
    }
   ],
   "source": [
    "import ROOT\n",
    "import my_library.common_analysis_tools as tools\n",
    "import my_library.constants as constants\n",
    "import my_library.gluex_style as gluex_style\n",
    "import my_library.kinematic_cuts as cuts"
   ]
  },
  {
   "cell_type": "code",
   "execution_count": 2,
   "metadata": {},
   "outputs": [],
   "source": [
    "ROOT.EnableImplicitMT()"
   ]
  },
  {
   "cell_type": "code",
   "execution_count": 3,
   "metadata": {},
   "outputs": [],
   "source": [
    "df_pipkmks = tools.get_dataframe('pipkmks', 'gluex1', 'data').Filter(cuts.KSTAR_ALL_CUT_PIPKMKS).Filter(cuts.F1_SIGNAL_REGION_PIPKMKS)\n",
    "df_pimkpks = tools.get_dataframe('pimkpks', 'gluex1', 'data').Filter(cuts.KSTAR_ALL_CUT_PIMKPKS).Filter(cuts.F1_SIGNAL_REGION_PIMKPKS)\n"
   ]
  },
  {
   "cell_type": "code",
   "execution_count": 4,
   "metadata": {},
   "outputs": [
    {
     "name": "stdout",
     "output_type": "stream",
     "text": [
      "N(pi+K-Ks) = 34898 || N(pi-K+Ks) = 40114\n"
     ]
    }
   ],
   "source": [
    "print(f'N(pi+K-Ks) = {df_pipkmks.Count().GetValue()} || N(pi-K+Ks) = {df_pimkpks.Count().GetValue()}')"
   ]
  }
 ],
 "metadata": {
  "kernelspec": {
   "display_name": "Python 3",
   "language": "python",
   "name": "python3"
  },
  "language_info": {
   "codemirror_mode": {
    "name": "ipython",
    "version": 3
   },
   "file_extension": ".py",
   "mimetype": "text/x-python",
   "name": "python",
   "nbconvert_exporter": "python",
   "pygments_lexer": "ipython3",
   "version": "3.6.8"
  }
 },
 "nbformat": 4,
 "nbformat_minor": 2
}
