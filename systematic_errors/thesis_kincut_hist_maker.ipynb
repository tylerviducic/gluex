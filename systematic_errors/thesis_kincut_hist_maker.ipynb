{
 "cells": [
  {
   "cell_type": "code",
   "execution_count": 7,
   "metadata": {},
   "outputs": [],
   "source": [
    "import ROOT\n",
    "import my_library.common_analysis_tools as tools\n",
    "import my_library.constants as constants\n",
    "import my_library.kinematic_cuts as cuts\n",
    "import os\n"
   ]
  },
  {
   "cell_type": "code",
   "execution_count": 8,
   "metadata": {},
   "outputs": [
    {
     "data": {
      "text/plain": [
       "19"
      ]
     },
     "execution_count": 8,
     "metadata": {},
     "output_type": "execute_result"
    }
   ],
   "source": [
    "ROOT.EnableImplicitMT()\n",
    "os.nice(18)"
   ]
  },
  {
   "cell_type": "code",
   "execution_count": 13,
   "metadata": {},
   "outputs": [],
   "source": [
    "# channel = 'pipkmks'\n",
    "channel = 'pimkpks'\n",
    "\n",
    "varied_cuts_dict_pipkmks = {\n",
    "            'kinfit_cl': ('kinfit_cl > 1e-6', 'kinfit_cl > 1e-4'),\n",
    "            'pathlength': ('pathlength_sig > 4', 'pathlength_sig > 6'),\n",
    "            'ks_m': (f'abs(ks_m - {constants.KSHORT_FIT_MEAN}) < 2.5 * {constants.KSHORT_FIT_WIDTH}', f'abs(ks_m - {constants.KSHORT_FIT_MEAN}) < 1.5 * {constants.KSHORT_FIT_WIDTH}'),\n",
    "            'ppi': ('ppip_m > 1.3', 'ppip_m > 1.5'),\n",
    "            'kp': ('kmp_m > 1.9', 'kmp_m > 2.1'),\n",
    "            'ksp': ('ksp_m > 1.9', 'ksp_m > 2.1'),\n",
    "            'pp': ('p_p > 0.35', 'p_p > 0.45'),\n",
    "            'neutral_kstar': ('abs(kmpip_m - 0.89555) > (1.5 * 0.0473)', 'abs(kmpip_m - 0.89555) > (2.5 * 0.0473)'),\n",
    "            'charged_kstar': ('abs(kspip_m - 0.89167) > (1.75 * 0.0514)', 'abs(kspip_m - 0.89167) > (2.25 * 0.0514)'),\n",
    "            'mx2_all': ('abs(mx2_ppipkmks) < 0.02', 'abs(mx2_ppipkmks) < 0.007')\n",
    "             }\n",
    "\n",
    "nominal_cuts_dict_pipkmks = {\n",
    "            'kinfit_cl': cuts.KINFIT_CL_CUT,\n",
    "            'pathlength': cuts.KS_PATHLENGTH_CUT,\n",
    "            'ks_m': cuts.KS_MASS_CUT,\n",
    "            'ppi': cuts.PPIP_MASS_CUT,\n",
    "            'kp': cuts.KMP_MASS_CUT,\n",
    "            'ksp': cuts.KSP_MASS_CUT,\n",
    "            'pp': cuts.P_P_CUT,\n",
    "            'neutral_kstar': cuts.KSTAR_ZERO_CUT_PIPKMKS,\n",
    "            'charged_kstar': cuts.KSTAR_PLUS_CUT,\n",
    "            'mx2_all': cuts.MX2_PPIPKMKS_CUT\n",
    "            }\n",
    "\n",
    "varied_cuts_dict_pimkpks = {\n",
    "            'kinfit_cl': ('kinfit_cl > 1e-6', 'kinfit_cl > 1e-4'),\n",
    "            'pathlength': ('pathlength_sig > 4', 'pathlength_sig > 6'),\n",
    "            'ks_m': (f'abs(ks_m - {constants.KSHORT_FIT_MEAN}) < 2.5 * {constants.KSHORT_FIT_WIDTH}', f'abs(ks_m - {constants.KSHORT_FIT_MEAN}) < 1.5 * {constants.KSHORT_FIT_WIDTH}'),\n",
    "            'ppi': ('ppim_m > 1.3', 'ppim_m > 1.5'),\n",
    "            'kp': ('kpp_m > 1.9', 'kpp_m > 2.1'),\n",
    "            'ksp': ('ksp_m > 1.9', 'ksp_m > 2.1'),\n",
    "            'pp': ('p_p > 0.35', 'p_p > 0.45'),\n",
    "            'neutral_kstar': ('abs(kppim_m - 0.89555) > (1.5 * 0.0473)', 'abs(kppim_m - 0.89555) > (2.5 * 0.0473)'),\n",
    "            'charged_kstar': ('abs(kspim_m - 0.89167) > (1.75 * 0.0514)', 'abs(kspim_m - 0.89167) > (2.25 * 0.0514)'),\n",
    "            'mx2_all': ('abs(mx2_ppimkpks) < 0.02', 'abs(mx2_ppimkpks) < 0.007')\n",
    "             }\n",
    "\n",
    "nominal_cuts_dict_pimkpks = {\n",
    "            'kinfit_cl': cuts.KINFIT_CL_CUT,\n",
    "            'pathlength': cuts.KS_PATHLENGTH_CUT,\n",
    "            'ks_m': cuts.KS_MASS_CUT,\n",
    "            'ppi': cuts.PPIM_MASS_CUT,\n",
    "            'kp': cuts.KPP_MASS_CUT,\n",
    "            'ksp': cuts.KSP_MASS_CUT,\n",
    "            'pp': cuts.P_P_CUT,\n",
    "            'neutral_kstar': cuts.KSTAR_ZERO_CUT_PIMKPKS,\n",
    "            'charged_kstar': cuts.KSTAR_MINUS_CUT,\n",
    "            'mx2_all': cuts.MX2_PPIMKPKS_CUT\n",
    "            }\n",
    "\n",
    "histogram_properties_pipkmks = {\n",
    "            'kinfit_cl': (\"CL_{KinFit}\", 250, 0, 7, 'log_cl'),\n",
    "            'pathlength': (\"Pathlength Signifigance\", 250, 0, 8, 'pathlength_sig'),\n",
    "            'ks_m': (\"M(#pi^{+}#pi^{-}) [GeV]\", 500, 0.35, 0.65, 'ks_m'),\n",
    "            'ppi': (\"M(p`#pi^{+}) [GeV]\", 500, 1.0, 3.0, 'ppip_m'),\n",
    "            'kp': (\"M(p`K^{-}) [GeV]\", 250, 1.4, 3.0, 'kmp_m'),\n",
    "            'ksp': (\"M(p`K_{s}) [GeV]\", 250, 1.4, 3.5, 'ksp_m'),\n",
    "            'pp': (\"p(p`) [GeV]\", 250, 0.028, 2.0, 'p_p'),\n",
    "            'neutral_kstar': (\"M(K^{-}#pi^{+}) [GeV]\", 150, 0.6, 1.2, 'kmpip_m'),\n",
    "            'charged_kstar': (\"M(K_{s}#pi^{+}) [GeV]\", 150, 0.6, 1.2, 'kspip_m'),\n",
    "            'mx2_all': (\"M_{x}^{2}(p`K^{-}K_{s}#pi^{+}) [GeV^{2}]\", 250, -0.05, 0.05, 'mx2_ppipkmks')\n",
    "            }\n",
    "\n",
    "histogram_properties_pimkpks = {\n",
    "            'kinfit_cl': (\"CL_{KinFit}\", 250, 0, 7, 'log_cl'),\n",
    "            'pathlength': (\"Pathlength Signifigance\", 250, 0, 8, 'pathlength_sig'),\n",
    "            'ks_m': (\"M(#pi^{+}#pi^{-}) [GeV]\", 500, 0.35, 0.65, 'ks_m'),\n",
    "            'ppi': (\"M(p`#pi^{-}) [GeV]\", 500, 1.0, 3.0, 'ppim_m'),\n",
    "            'kp': (\"M(p`K^{+}) [GeV]\", 250, 1.4, 3.0, 'kpp_m'),\n",
    "            'ksp': (\"M(p`K_{s}) [GeV]\", 250, 1.4, 3.5, 'ksp_m'),\n",
    "            'pp': (\"p(p`) [GeV]\", 250, 0.028, 2.0, 'p_p'),\n",
    "            'neutral_kstar': (\"M(K^{+}#pi^{-}) [GeV]\", 150, 0.6, 1.2, 'kppim_m'),\n",
    "            'charged_kstar': (\"M(K_{s}#pi^{-}) [GeV]\", 150, 0.6, 1.2, 'kspim_m'),\n",
    "            'mx2_all': (\"M_{x}^{2}(p`K^{+}K_{s}#pi^{-}) [GeV^{2}]\", 250, -0.05, 0.05, 'mx2_ppimkpks')\n",
    "            }"
   ]
  },
  {
   "cell_type": "code",
   "execution_count": 14,
   "metadata": {},
   "outputs": [],
   "source": [
    "df = tools.get_dataframe(channel, 'gluex1', 'data', filtered=False)\n",
    "\n",
    "if channel == 'pipkmks':\n",
    "    varied_cuts = varied_cuts_dict_pipkmks\n",
    "    nominal_cuts = nominal_cuts_dict_pipkmks\n",
    "    hist_properties = histogram_properties_pipkmks\n",
    "else:\n",
    "    varied_cuts = varied_cuts_dict_pimkpks\n",
    "    nominal_cuts = nominal_cuts_dict_pimkpks\n",
    "    hist_properties = histogram_properties_pimkpks\n",
    "df = df.Filter(cuts.T_RANGE).Filter(cuts.BEAM_RANGE)\n",
    "df = df.Define('log_cl', '-1*TMath::Log10(kinfit_cl)')\n"
   ]
  },
  {
   "cell_type": "code",
   "execution_count": 15,
   "metadata": {},
   "outputs": [
    {
     "data": {
      "text/plain": [
       "35634541"
      ]
     },
     "execution_count": 15,
     "metadata": {},
     "output_type": "execute_result"
    }
   ],
   "source": [
    "# get the unfiltered file, for each quantitity being cut on, make the plot showing the placement of the cuts\n",
    "hists = []\n",
    "for var_cut in varied_cuts:\n",
    "    cut_str = ''\n",
    "    for cut in nominal_cuts:\n",
    "        if cut != var_cut:\n",
    "            cut_str += f'({nominal_cuts[cut]}) && '\n",
    "    cut_str = cut_str[:-4]\n",
    "    hists.append(df.Filter(cut_str).Histo1D((var_cut, \";\" + hist_properties[var_cut][0], hist_properties[var_cut][1], hist_properties[var_cut][2], hist_properties[var_cut][3]), hist_properties[var_cut][4]))\n",
    "df.Count().GetValue()"
   ]
  },
  {
   "cell_type": "code",
   "execution_count": 16,
   "metadata": {},
   "outputs": [],
   "source": [
    "root_filename = f'/work/halld/home/viducic/systematic_errors/hists_to_show_variations_{channel}.root'\n",
    "f = ROOT.TFile(root_filename, 'RECREATE')\n",
    "for hist in hists:\n",
    "    hist.Write()\n",
    "f.Close()"
   ]
  }
 ],
 "metadata": {
  "kernelspec": {
   "display_name": "Python 3",
   "language": "python",
   "name": "python3"
  },
  "language_info": {
   "codemirror_mode": {
    "name": "ipython",
    "version": 3
   },
   "file_extension": ".py",
   "mimetype": "text/x-python",
   "name": "python",
   "nbconvert_exporter": "python",
   "pygments_lexer": "ipython3",
   "version": "3.6.8"
  }
 },
 "nbformat": 4,
 "nbformat_minor": 2
}
