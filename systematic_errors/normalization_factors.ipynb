{
 "cells": [
  {
   "cell_type": "code",
   "execution_count": 1,
   "metadata": {},
   "outputs": [
    {
     "name": "stdout",
     "output_type": "stream",
     "text": [
      "Welcome to JupyROOT 6.24/04\n"
     ]
    }
   ],
   "source": [
    "import ROOT\n",
    "import my_library.common_analysis_tools as tools\n",
    "import my_library.constants as constants\n",
    "import my_library.kinematic_cuts as kcuts\n",
    "import numpy as np\n",
    "import os"
   ]
  },
  {
   "cell_type": "code",
   "execution_count": 2,
   "metadata": {},
   "outputs": [
    {
     "data": {
      "text/plain": [
       "18"
      ]
     },
     "execution_count": 2,
     "metadata": {},
     "output_type": "execute_result"
    }
   ],
   "source": [
    "ROOT.EnableImplicitMT(8)\n",
    "os.nice(18)"
   ]
  },
  {
   "cell_type": "markdown",
   "metadata": {},
   "source": [
    "# Lumiosity\n",
    "luminosity error is 5%\n"
   ]
  },
  {
   "cell_type": "code",
   "execution_count": 3,
   "metadata": {},
   "outputs": [],
   "source": [
    "lum_err = 0.05"
   ]
  },
  {
   "cell_type": "markdown",
   "metadata": {},
   "source": [
    "# Branching Fraction\n",
    "\n",
    "Branching fraction is reported at $\\Gamma(K\\bar{K}\\pi) = 9.1\\pm 0.4$"
   ]
  },
  {
   "cell_type": "code",
   "execution_count": 4,
   "metadata": {},
   "outputs": [],
   "source": [
    "br_err = 0.4/9.1"
   ]
  },
  {
   "cell_type": "code",
   "execution_count": 5,
   "metadata": {},
   "outputs": [
    {
     "name": "stdout",
     "output_type": "stream",
     "text": [
      "0.04395604395604396\n"
     ]
    }
   ],
   "source": [
    "print(br_err)"
   ]
  },
  {
   "cell_type": "markdown",
   "metadata": {},
   "source": [
    "# Proton Tracking\n",
    "Flat 5% over the full acceptance"
   ]
  },
  {
   "cell_type": "code",
   "execution_count": 6,
   "metadata": {},
   "outputs": [],
   "source": [
    "p_err = 0.05"
   ]
  },
  {
   "cell_type": "markdown",
   "metadata": {},
   "source": [
    "# Pion Tracking\n",
    "\n",
    "conservative $\\pm 1.5 - 2\\%$ for each track with $\\theta = 1 - 15$ degrees  \n",
    "conservative $\\pm 5\\%$ for each track with $\\theta > 20$ degrees"
   ]
  },
  {
   "cell_type": "code",
   "execution_count": 7,
   "metadata": {},
   "outputs": [],
   "source": [
    "df_pipkmks = tools.get_dataframe('pipkmks', 'gluex1', 'data').Filter(kcuts.BEAM_RANGE).Filter(kcuts.T_RANGE).Filter(kcuts.KSTAR_ALL_CUT_PIPKMKS).Filter(kcuts.F1_SIGNAL_REGION_PIPKMKS)\n",
    "df_pimkpks = tools.get_dataframe('pimkpks', 'gluex1', 'data').Filter(kcuts.BEAM_RANGE).Filter(kcuts.T_RANGE).Filter(kcuts.KSTAR_ALL_CUT_PIMKPKS).Filter(kcuts.F1_SIGNAL_REGION_PIMKPKS)"
   ]
  },
  {
   "cell_type": "code",
   "execution_count": 8,
   "metadata": {},
   "outputs": [
    {
     "name": "stdout",
     "output_type": "stream",
     "text": [
      "{ \"chi2ndf\", \"p_p\", \"pip1_p\", \"pip2_p\", \"pim_p\", \"km_p\", \"p_theta\", \"pip1_theta\", \"pip2_theta\", \"pim_theta\", \"km_theta\", \"p_phi\", \"pip1_phi\", \"pip2_phi\", \"pim_phi\", \"km_phi\", \"p_pt\", \"ks_px\", \"ks_py\", \"ks_pz\", \"ks_E\", \"ks_p\", \"ks_theta\", \"ks_phi\", \"ks_m\", \"ks_px_measured\", \"ks_py_measured\", \"ks_pz_measured\", \"ks_E_measured\", \"ks_m_measured\", \"mxpx_ppipkmks\", \"mxpy_ppipkmks\", \"mxpz_ppipkmks\", \"mxe_ppipkmks\", \"mx2_ppipkmks\", \"ppip_px\", \"ppip_py\", \"ppip_pz\", \"ppip_E\", \"ppip_m\", \"missing_px\", \"missing_py\", \"missing_pz\", \"missing_E\", \"missing_m\", \"kmp_px\", \"kmp_py\", \"kmp_pz\", \"kmp_E\", \"kmp_m\", \"ksp_px\", \"ksp_py\", \"ksp_pz\", \"ksp_E\", \"ksp_m\", \"kspip_px\", \"kspip_py\", \"kspip_pz\", \"kspip_E\", \"kspip_m\", \"kmpip_px\", \"kmpip_py\", \"kmpip_pz\", \"kmpip_E\", \"kmpip_m\", \"pipkmks_px\", \"pipkmks_py\", \"pipkmks_pz\", \"pipkmks_E\", \"pipkmks_px_measured\", \"pipkmks_py_measured\", \"pipkmks_pz_measured\", \"pipkmks_pt\", \"pipkmks_p_pt_diff\", \"pipkmks_m\", \"kmks_px\", \"kmks_py\", \"kmks_pz\", \"kmks_E\", \"kmks_m\", \"e_bin\", \"t_bin\", \"run\", \"event\", \"trigbits\", \"rftime\", \"kin_chisq\", \"kin_ndf\", \"beam_beamid\", \"beam_x4_meas\", \"beam_p4_meas\", \"beam_x4_kin\", \"beam_p4_kin\", \"pip1_trkid\", \"pip1_x4_meas\", \"pip1_p4_meas\", \"pip1_x4_kin\", \"pip1_p4_kin\", \"pip1_pid_fom\", \"pip1_beta_time\", \"pip1_chisq_time\", \"pip1_ndf_time\", \"pip1_ndf_trk\", \"pip1_chisq_trk\", \"pip1_ndf_dedx\", \"pip1_chisq_dedx\", \"pip1_dedx_cdc\", \"pip1_dedx_fdc\", \"pip1_dedx_tof\", \"pip1_dedx_st\", \"pip1_ebcal\", \"pip1_eprebcal\", \"pip1_efcal\", \"pip1_bcal_delphi\", \"pip1_bcal_delz\", \"pip1_fcal_doca\", \"km_trkid\", \"km_x4_meas\", \"km_p4_meas\", \"km_x4_kin\", \"km_p4_kin\", \"km_pid_fom\", \"km_beta_time\", \"km_chisq_time\", \"km_ndf_time\", \"km_ndf_trk\", \"km_chisq_trk\", \"km_ndf_dedx\", \"km_chisq_dedx\", \"km_dedx_cdc\", \"km_dedx_fdc\", \"km_dedx_tof\", \"km_dedx_st\", \"km_ebcal\", \"km_eprebcal\", \"km_efcal\", \"km_bcal_delphi\", \"km_bcal_delz\", \"km_fcal_doca\", \"p_trkid\", \"p_x4_meas\", \"p_p4_meas\", \"p_x4_kin\", \"p_p4_kin\", \"p_pid_fom\", \"p_beta_time\", \"p_chisq_time\", \"p_ndf_time\", \"p_ndf_trk\", \"p_chisq_trk\", \"p_ndf_dedx\", \"p_chisq_dedx\", \"p_dedx_cdc\", \"p_dedx_fdc\", \"p_dedx_tof\", \"p_dedx_st\", \"p_ebcal\", \"p_eprebcal\", \"p_efcal\", \"p_bcal_delphi\", \"p_bcal_delz\", \"p_fcal_doca\", \"pim_trkid\", \"pim_x4_meas\", \"pim_p4_meas\", \"pim_x4_kin\", \"pim_p4_kin\", \"pim_pid_fom\", \"pim_beta_time\", \"pim_chisq_time\", \"pim_ndf_time\", \"pim_ndf_trk\", \"pim_chisq_trk\", \"pim_ndf_dedx\", \"pim_chisq_dedx\", \"pim_dedx_cdc\", \"pim_dedx_fdc\", \"pim_dedx_tof\", \"pim_dedx_st\", \"pim_ebcal\", \"pim_eprebcal\", \"pim_efcal\", \"pim_bcal_delphi\", \"pim_bcal_delz\", \"pim_fcal_doca\", \"pip2_trkid\", \"pip2_x4_meas\", \"pip2_p4_meas\", \"pip2_x4_kin\", \"pip2_p4_kin\", \"pip2_pid_fom\", \"pip2_beta_time\", \"pip2_chisq_time\", \"pip2_ndf_time\", \"pip2_ndf_trk\", \"pip2_chisq_trk\", \"pip2_ndf_dedx\", \"pip2_chisq_dedx\", \"pip2_dedx_cdc\", \"pip2_dedx_fdc\", \"pip2_dedx_tof\", \"pip2_dedx_st\", \"pip2_ebcal\", \"pip2_eprebcal\", \"pip2_efcal\", \"pip2_bcal_delphi\", \"pip2_bcal_delz\", \"pip2_fcal_doca\", \"e_beam\", \"e_beam_measured\", \"rf_time\", \"kinfit_cl\", \"pip1_px\", \"pip1_py\", \"pip1_pz\", \"pip1_E\", \"pip2_px\", \"pip2_py\", \"pip2_pz\", \"pip2_E\", \"pim_px\", \"pim_py\", \"pim_pz\", \"pim_E\", \"km_px\", \"km_py\", \"km_pz\", \"km_E\", \"p_px\", \"p_py\", \"p_pz\", \"p_E\", \"pip1_px_measured\", \"pip1_py_measured\", \"pip1_pz_measured\", \"pip1_E_measured\", \"pip2_px_measured\", \"pip2_py_measured\", \"pip2_pz_measured\", \"pip2_E_measured\", \"pim_px_measured\", \"pim_py_measured\", \"pim_pz_measured\", \"pim_E_measured\", \"km_px_measured\", \"km_py_measured\", \"km_pz_measured\", \"km_E_measured\", \"p_px_measured\", \"p_py_measured\", \"p_pz_measured\", \"p_E_measured\", \"pathlength_sig\", \"cos_colin\", \"vertex_distance\", \"mand_t\", \"w\", \"s\" }\n"
     ]
    }
   ],
   "source": [
    "print(df_pipkmks.GetColumnNames())"
   ]
  },
  {
   "cell_type": "code",
   "execution_count": 9,
   "metadata": {},
   "outputs": [],
   "source": [
    "@ROOT.Numba.Declare(['float'], 'bool')\n",
    "def is_forward(theta):\n",
    "    return theta < 15\n"
   ]
  },
  {
   "cell_type": "code",
   "execution_count": 10,
   "metadata": {},
   "outputs": [],
   "source": [
    "forward_pip1_pipkmks = df_pipkmks.Filter('Numba::is_forward(pip1_theta)').Count()\n",
    "backward_pip1_pipkmks = df_pipkmks.Filter('!Numba::is_forward(pip1_theta)').Count()\n",
    "forward_pip2_pipkmks = df_pipkmks.Filter('Numba::is_forward(pip2_theta)').Count()\n",
    "backward_pip2_pipkmks = df_pipkmks.Filter('!Numba::is_forward(pip2_theta)').Count()\n",
    "forward_pim_pipkmks = df_pipkmks.Filter('Numba::is_forward(pim_theta)').Count()\n",
    "backward_pim_pipkmks = df_pipkmks.Filter('!Numba::is_forward(pim_theta)').Count()\n",
    "total_pip1_pipkmks = df_pipkmks.Count().GetValue()\n"
   ]
  },
  {
   "cell_type": "code",
   "execution_count": 11,
   "metadata": {},
   "outputs": [],
   "source": [
    "forward_pim1_pimkpks = df_pimkpks.Filter('Numba::is_forward(pim1_theta)').Count()\n",
    "backward_pim1_pimkpks = df_pimkpks.Filter('!Numba::is_forward(pim1_theta)').Count()\n",
    "forward_pim2_pimkpks = df_pimkpks.Filter('Numba::is_forward(pim2_theta)').Count()\n",
    "backward_pim2_pimkpks = df_pimkpks.Filter('!Numba::is_forward(pim2_theta)').Count()\n",
    "forward_pip_pimkpks = df_pimkpks.Filter('Numba::is_forward(pip_theta)').Count()\n",
    "backward_pip_pimkpks = df_pimkpks.Filter('!Numba::is_forward(pip_theta)').Count()\n",
    "\n",
    "total_pim1_pimkpks = df_pimkpks.Count().GetValue()"
   ]
  },
  {
   "cell_type": "code",
   "execution_count": 12,
   "metadata": {},
   "outputs": [],
   "source": [
    "frac_forward_pip1 = forward_pip1_pipkmks.GetValue()/total_pip1_pipkmks\n",
    "frac_backward_pip1 = backward_pip1_pipkmks.GetValue()/total_pip1_pipkmks\n",
    "frac_forward_pip2 = forward_pip2_pipkmks.GetValue()/total_pip1_pipkmks\n",
    "frac_backward_pip2 = backward_pip2_pipkmks.GetValue()/total_pip1_pipkmks\n",
    "frac_forward_pim = forward_pim_pipkmks.GetValue()/total_pip1_pipkmks\n",
    "frac_backward_pim = backward_pim_pipkmks.GetValue()/total_pip1_pipkmks"
   ]
  },
  {
   "cell_type": "code",
   "execution_count": 13,
   "metadata": {},
   "outputs": [],
   "source": [
    "frac_forward_pim1 = forward_pim1_pimkpks.GetValue()/total_pim1_pimkpks\n",
    "frac_backward_pim1 = backward_pim1_pimkpks.GetValue()/total_pim1_pimkpks\n",
    "frac_forward_pim2 = forward_pim2_pimkpks.GetValue()/total_pim1_pimkpks\n",
    "frac_backward_pim2 = backward_pim2_pimkpks.GetValue()/total_pim1_pimkpks\n",
    "frac_forward_pip = forward_pip_pimkpks.GetValue()/total_pim1_pimkpks\n",
    "frac_backward_pip = backward_pip_pimkpks.GetValue()/total_pim1_pimkpks"
   ]
  },
  {
   "cell_type": "code",
   "execution_count": 14,
   "metadata": {},
   "outputs": [],
   "source": [
    "pipkmks_pion_err = frac_forward_pip1*0.02 + frac_forward_pip2*0.02 + frac_forward_pim*0.02 + frac_backward_pip1*0.05 + frac_backward_pip2*0.05 + frac_backward_pim*0.05\n",
    "pimkpks_pion_err = frac_forward_pim1*0.02 + frac_forward_pim2*0.02 + frac_forward_pip*0.02 + frac_backward_pim1*0.05 + frac_backward_pim2*0.05 + frac_backward_pip*0.05"
   ]
  },
  {
   "cell_type": "code",
   "execution_count": 15,
   "metadata": {},
   "outputs": [
    {
     "name": "stdout",
     "output_type": "stream",
     "text": [
      "pipkmks pion eff: 0.06515690918510843\n",
      "pimkpks pion eff: 0.06567681452930031\n"
     ]
    }
   ],
   "source": [
    "print(f'pipkmks pion eff: {pipkmks_pion_err}')\n",
    "print(f'pimkpks pion eff: {pimkpks_pion_err}')"
   ]
  },
  {
   "cell_type": "code",
   "execution_count": 16,
   "metadata": {},
   "outputs": [],
   "source": [
    "tracking_eff = pimkpks_pion_err + p_err"
   ]
  },
  {
   "cell_type": "code",
   "execution_count": 17,
   "metadata": {},
   "outputs": [
    {
     "name": "stdout",
     "output_type": "stream",
     "text": [
      "0.11567681452930031\n"
     ]
    }
   ],
   "source": [
    "print(tracking_eff)"
   ]
  },
  {
   "cell_type": "markdown",
   "metadata": {},
   "source": [
    "## Monte Carlo"
   ]
  },
  {
   "cell_type": "code",
   "execution_count": 18,
   "metadata": {},
   "outputs": [],
   "source": [
    "df_signal = tools.get_dataframe('pipkmks', 'fall', 'signal').Filter(kcuts.BEAM_RANGE).Filter(kcuts.T_RANGE).Filter(kcuts.F1_SIGNAL_REGION_PIPKMKS)\n",
    "df_thrown = tools.get_dataframe('pipkmks', 'fall', 'signal', filtered=False, thrown=True).Filter(kcuts.BEAM_RANGE).Filter(kcuts.T_RANGE).Filter(kcuts.F1_SIGNAL_REGION_PIPKMKS)"
   ]
  },
  {
   "cell_type": "code",
   "execution_count": 19,
   "metadata": {},
   "outputs": [],
   "source": [
    "hist_signal_pion = df_signal.Histo1D((\"pion_p_signal\", \"pion_p_signal\", 46, 0.7, 3), 'pip1_p')\n",
    "hist_thrown_pion = df_thrown.Histo1D((\"pion_p_thrown\", \"pion_p_thrown\", 46, 0.7, 3), 'mom_pip1')\n",
    "hist_signal_kaon = df_signal.Histo1D((\"kaon_p_signal\", \"kaon_p_signal\", 35, 1.5, 5), 'km_p')\n",
    "hist_thrown_kaon = df_thrown.Histo1D((\"kaon_p_thrown\", \"kaon_p_thrown\", 35, 1.5, 5), 'mom_km')\n",
    "\n",
    "n_acc = df_signal.Count().GetValue()\n",
    "n_thrown = df_thrown.Count().GetValue()"
   ]
  },
  {
   "cell_type": "code",
   "execution_count": 26,
   "metadata": {},
   "outputs": [
    {
     "name": "stdout",
     "output_type": "stream",
     "text": [
      "0.040783319364103905\n"
     ]
    }
   ],
   "source": [
    "acceptance = n_acc/n_thrown\n",
    "print(acceptance)"
   ]
  },
  {
   "cell_type": "code",
   "execution_count": 21,
   "metadata": {},
   "outputs": [
    {
     "data": {
      "text/plain": [
       "True"
      ]
     },
     "execution_count": 21,
     "metadata": {},
     "output_type": "execute_result"
    }
   ],
   "source": [
    "hist_acc_pion = hist_signal_pion.GetPtr().Clone(\"acc_pion\")\n",
    "hist_acc_pion.Divide(hist_thrown_pion.GetPtr())\n",
    "hist_acc_kaon = hist_signal_kaon.GetPtr().Clone(\"acc_kaon\")\n",
    "hist_acc_kaon.Divide(hist_thrown_kaon.GetPtr())\n"
   ]
  },
  {
   "cell_type": "code",
   "execution_count": 33,
   "metadata": {},
   "outputs": [
    {
     "name": "stdout",
     "output_type": "stream",
     "text": [
      "0.1502401118892215\n",
      "0.11807392425781843\n"
     ]
    }
   ],
   "source": [
    "max_dev_pion = 0\n",
    "max_dev_kaon = 0\n",
    "\n",
    "for i in range(1, hist_acc_pion.GetNbinsX()+1):\n",
    "    # print(f'Bin Middle: {hist_acc_pion.GetBinCenter(i)} -- Acc: {hist_acc_pion.GetBinContent(i)}')\n",
    "    rel_dev = np.abs((hist_acc_pion.GetBinContent(i) - acceptance)/acceptance)\n",
    "    max_dev_pion = max(rel_dev, max_dev_pion)\n",
    "\n",
    "for j in range(1, hist_acc_kaon.GetNbinsX()+1):\n",
    "    rel_dev = np.abs((hist_acc_kaon.GetBinContent(i) - acceptance)/acceptance)\n",
    "    max_dev_kaon = max(rel_dev, max_dev_kaon)\n",
    "\n",
    "print(max_dev_pion)\n",
    "print(max_dev_kaon)"
   ]
  },
  {
   "cell_type": "code",
   "execution_count": 34,
   "metadata": {},
   "outputs": [
    {
     "name": "stdout",
     "output_type": "stream",
     "text": [
      "0.26831403614703997\n"
     ]
    }
   ],
   "source": [
    "mc_err = max_dev_pion + max_dev_kaon\n",
    "print(mc_err)"
   ]
  },
  {
   "cell_type": "code",
   "execution_count": 35,
   "metadata": {},
   "outputs": [],
   "source": [
    "total_err = np.sqrt(lum_err**2 + br_err**2 + tracking_eff**2 + mc_err**2)"
   ]
  },
  {
   "cell_type": "code",
   "execution_count": 36,
   "metadata": {},
   "outputs": [
    {
     "name": "stdout",
     "output_type": "stream",
     "text": [
      "total err: 0.29967596035288996\n"
     ]
    }
   ],
   "source": [
    "print(f'total err: {total_err}')"
   ]
  }
 ],
 "metadata": {
  "kernelspec": {
   "display_name": "Python 3",
   "language": "python",
   "name": "python3"
  },
  "language_info": {
   "codemirror_mode": {
    "name": "ipython",
    "version": 3
   },
   "file_extension": ".py",
   "mimetype": "text/x-python",
   "name": "python",
   "nbconvert_exporter": "python",
   "pygments_lexer": "ipython3",
   "version": "3.6.8"
  }
 },
 "nbformat": 4,
 "nbformat_minor": 2
}
