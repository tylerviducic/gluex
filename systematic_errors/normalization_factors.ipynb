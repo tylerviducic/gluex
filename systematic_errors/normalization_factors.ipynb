{
 "cells": [
  {
   "cell_type": "code",
   "execution_count": 5,
   "metadata": {},
   "outputs": [],
   "source": [
    "import ROOT\n",
    "import my_library.common_analysis_tools as tools\n",
    "import my_library.constants as constants\n",
    "import my_library.kinematic_cuts as kcuts\n"
   ]
  },
  {
   "cell_type": "markdown",
   "metadata": {},
   "source": [
    "# Lumiosity\n",
    "luminosity error is 5%\n"
   ]
  },
  {
   "cell_type": "code",
   "execution_count": 3,
   "metadata": {},
   "outputs": [],
   "source": [
    "lum_err = 0.05"
   ]
  },
  {
   "cell_type": "markdown",
   "metadata": {},
   "source": [
    "# Branching Fraction\n",
    "\n",
    "Branching fraction is reported at $\\Gamma(K\\bar{K}\\pi) = 9.1\\pm 0.4$"
   ]
  },
  {
   "cell_type": "code",
   "execution_count": 2,
   "metadata": {},
   "outputs": [],
   "source": [
    "br_err = 0.4/9.1"
   ]
  },
  {
   "cell_type": "markdown",
   "metadata": {},
   "source": [
    "# Proton Tracking\n",
    "Flat 5% over the full acceptance"
   ]
  },
  {
   "cell_type": "code",
   "execution_count": 4,
   "metadata": {},
   "outputs": [],
   "source": [
    "p_err = 0.05"
   ]
  },
  {
   "cell_type": "markdown",
   "metadata": {},
   "source": [
    "# Pion Tracking\n",
    "\n",
    "conservative $\\pm 1.5 - 2\\%$ for each track with $\\theta = 1 - 15$ degrees  \n",
    "conservative $\\pm 5\\%$ for each track with $\\theta > 20$ degrees"
   ]
  },
  {
   "cell_type": "code",
   "execution_count": 6,
   "metadata": {},
   "outputs": [],
   "source": [
    "df_pipkmks = tools.get_dataframe('pipkmks', 'gluex1', 'data').Filter(kcuts.BEAM_RANGE).Filter(kcuts.T_RANGE).Filter(kcuts.KSTAR_ALL_CUT_PIPKMKS).Filter(kcuts.F1_SIGNAL_REGION_PIPKMKS)\n",
    "df_pimkpks = tools.get_dataframe('pimkpks', 'gluex1', 'data').Filter(kcuts.BEAM_RANGE).Filter(kcuts.T_RANGE).Filter(kcuts.KSTAR_ALL_CUT_PIMKPKS).Filter(kcuts.F1_SIGNAL_REGION_PIMKPKS)\n"
   ]
  }
 ],
 "metadata": {
  "kernelspec": {
   "display_name": "Python 3",
   "language": "python",
   "name": "python3"
  },
  "language_info": {
   "codemirror_mode": {
    "name": "ipython",
    "version": 3
   },
   "file_extension": ".py",
   "mimetype": "text/x-python",
   "name": "python",
   "nbconvert_exporter": "python",
   "pygments_lexer": "ipython3",
   "version": "3.6.8"
  }
 },
 "nbformat": 4,
 "nbformat_minor": 2
}
